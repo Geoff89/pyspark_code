{
 "cells": [
  {
   "cell_type": "code",
   "execution_count": 2,
   "metadata": {
    "collapsed": true
   },
   "outputs": [],
   "source": [
    "import os\n",
    "import sys\n",
    "\n",
    "os.chdir(\"C:/dataanalytics/python\")\n",
    "os.curdir\n",
    "\n",
    "#Configure the environment . Set this up to the directory where spark is installed\n",
    "if 'SPARK_HOME' not in os.environ:\n",
    "    os.environ['SPARK_HOME'] = 'C:\\\\spark'\n",
    "    \n",
    "#create a variable for our root path\n",
    "SPARK_HOME = os.environ['SPARK_HOME']\n",
    "\n",
    "#Add the following paths to the system path. Please check your installation\n",
    "#to make sure that these zip files actually exists. The names might change as\n",
    "#versions change\n",
    "sys.path.insert(0,os.path.join(SPARK_HOME,\"python\"))\n",
    "sys.path.insert(0,os.path.join(SPARK_HOME,\"python\",\"lib\"))\n",
    "sys.path.insert(0,os.path.join(SPARK_HOME,\"python\",\"lib\",\"py4j-0.10.6-src.zip\"))\n",
    "sys.path.insert(0,os.path.join(SPARK_HOME,\"python\",\"lib\",\"pyspark.zip\"))\n",
    " \n",
    "#Initialize a spark context\n",
    "from pyspark import SparkContext\n",
    "from pyspark import SparkConf\n",
    "\n",
    "#optionally configure spark\n",
    "conf = (SparkConf().setAppName(\"V2Maestros\").setMaster(\"local[2]\").set(\"spark.executor.memory\", \"1g\"))\n",
    "\n",
    "#Initalize spark context onl runs once\n",
    "sc = SparkContext(conf=conf)"
   ]
  },
  {
   "cell_type": "code",
   "execution_count": 3,
   "metadata": {
    "collapsed": true
   },
   "outputs": [],
   "source": [
    "#loading the autodata file\n",
    "autodata = sc.textFile(r'C:\\Users\\jeffnerd\\Desktop\\spark\\auto-miles-per-gallon.csv')"
   ]
  },
  {
   "cell_type": "code",
   "execution_count": 4,
   "metadata": {
    "collapsed": false
   },
   "outputs": [
    {
     "data": {
      "text/plain": [
       "C:\\Users\\jeffnerd\\Desktop\\spark\\auto-miles-per-gallon.csv MapPartitionsRDD[1] at textFile at <unknown>:0"
      ]
     },
     "execution_count": 4,
     "metadata": {},
     "output_type": "execute_result"
    }
   ],
   "source": [
    "autodata.cache()"
   ]
  },
  {
   "cell_type": "code",
   "execution_count": 5,
   "metadata": {
    "collapsed": true
   },
   "outputs": [],
   "source": [
    "#removing te header\n",
    "header = autodata.first()\n",
    "dataLines = autodata.filter(lambda x: x!=header)"
   ]
  },
  {
   "cell_type": "code",
   "execution_count": 6,
   "metadata": {
    "collapsed": false
   },
   "outputs": [
    {
     "data": {
      "text/plain": [
       "398"
      ]
     },
     "execution_count": 6,
     "metadata": {},
     "output_type": "execute_result"
    }
   ],
   "source": [
    "dataLines.count()"
   ]
  },
  {
   "cell_type": "code",
   "execution_count": 16,
   "metadata": {
    "collapsed": false
   },
   "outputs": [],
   "source": [
    "#convert the RDD into a dense vector. As part of these eercise 1. Remove unwanted columns and change non numeric \n",
    "#values to numeric values\n",
    "import math\n",
    "from pyspark.mllib.linalg import Vectors"
   ]
  },
  {
   "cell_type": "code",
   "execution_count": 22,
   "metadata": {
    "collapsed": true
   },
   "outputs": [],
   "source": [
    "from pyspark.ml.linalg import Vectors"
   ]
  },
  {
   "cell_type": "code",
   "execution_count": 23,
   "metadata": {
    "collapsed": true
   },
   "outputs": [],
   "source": [
    "#to impute missing values in horsepower we can set an accumulator\n",
    "avgHP = sc.broadcast(80.0)"
   ]
  },
  {
   "cell_type": "code",
   "execution_count": 24,
   "metadata": {
    "collapsed": true
   },
   "outputs": [],
   "source": [
    "def transformToNumeric( inputStr) :\n",
    "    global avgHP\n",
    "    attList=inputStr.split(\",\")\n",
    "    \n",
    "    #Replace ? values with a normal value\n",
    "    hpValue = attList[3]\n",
    "    if hpValue == \"?\":\n",
    "        hpValue=avgHP.value\n",
    "       \n",
    "    #Filter out columns not wanted at this stage\n",
    "    values= Vectors.dense([ float(attList[0]), \\\n",
    "                     float(attList[1]),  \\\n",
    "                     hpValue,    \\\n",
    "                     float(attList[5]),  \\\n",
    "                     float(attList[6])\n",
    "                     ])\n",
    "    return values"
   ]
  },
  {
   "cell_type": "code",
   "execution_count": 25,
   "metadata": {
    "collapsed": false
   },
   "outputs": [
    {
     "data": {
      "text/plain": [
       "[DenseVector([18.0, 8.0, 130.0, 12.0, 70.0]),\n",
       " DenseVector([15.0, 8.0, 165.0, 11.5, 70.0]),\n",
       " DenseVector([18.0, 8.0, 150.0, 11.0, 70.0]),\n",
       " DenseVector([16.0, 8.0, 150.0, 12.0, 70.0]),\n",
       " DenseVector([17.0, 8.0, 140.0, 10.5, 70.0]),\n",
       " DenseVector([15.0, 8.0, 198.0, 10.0, 70.0]),\n",
       " DenseVector([14.0, 8.0, 220.0, 9.0, 70.0]),\n",
       " DenseVector([14.0, 8.0, 215.0, 8.5, 70.0]),\n",
       " DenseVector([14.0, 8.0, 225.0, 10.0, 70.0]),\n",
       " DenseVector([15.0, 8.0, 190.0, 8.5, 70.0]),\n",
       " DenseVector([15.0, 8.0, 170.0, 10.0, 70.0]),\n",
       " DenseVector([14.0, 8.0, 160.0, 8.0, 70.0]),\n",
       " DenseVector([15.0, 8.0, 150.0, 9.5, 70.0]),\n",
       " DenseVector([14.0, 8.0, 225.0, 10.0, 70.0]),\n",
       " DenseVector([24.0, 4.0, 95.0, 15.0, 70.0]),\n",
       " DenseVector([22.0, 6.0, 95.0, 15.5, 70.0]),\n",
       " DenseVector([18.0, 6.0, 97.0, 15.5, 70.0]),\n",
       " DenseVector([21.0, 6.0, 85.0, 16.0, 70.0]),\n",
       " DenseVector([27.0, 4.0, 88.0, 14.5, 70.0]),\n",
       " DenseVector([26.0, 4.0, 46.0, 20.5, 70.0]),\n",
       " DenseVector([25.0, 4.0, 87.0, 17.5, 70.0]),\n",
       " DenseVector([24.0, 4.0, 90.0, 14.5, 70.0]),\n",
       " DenseVector([25.0, 4.0, 95.0, 17.5, 70.0]),\n",
       " DenseVector([26.0, 4.0, 113.0, 12.5, 70.0]),\n",
       " DenseVector([21.0, 6.0, 90.0, 15.0, 70.0]),\n",
       " DenseVector([10.0, 8.0, 215.0, 14.0, 70.0]),\n",
       " DenseVector([10.0, 8.0, 200.0, 15.0, 70.0]),\n",
       " DenseVector([11.0, 8.0, 210.0, 13.5, 70.0]),\n",
       " DenseVector([9.0, 8.0, 193.0, 18.5, 70.0]),\n",
       " DenseVector([27.0, 4.0, 88.0, 14.5, 71.0]),\n",
       " DenseVector([28.0, 4.0, 90.0, 15.5, 71.0]),\n",
       " DenseVector([25.0, 4.0, 95.0, 14.0, 71.0]),\n",
       " DenseVector([25.0, 4.0, 80.0, 19.0, 71.0]),\n",
       " DenseVector([19.0, 6.0, 100.0, 13.0, 71.0]),\n",
       " DenseVector([16.0, 6.0, 105.0, 15.5, 71.0]),\n",
       " DenseVector([17.0, 6.0, 100.0, 15.5, 71.0]),\n",
       " DenseVector([19.0, 6.0, 88.0, 15.5, 71.0]),\n",
       " DenseVector([18.0, 6.0, 100.0, 15.5, 71.0]),\n",
       " DenseVector([14.0, 8.0, 165.0, 12.0, 71.0]),\n",
       " DenseVector([14.0, 8.0, 175.0, 11.5, 71.0]),\n",
       " DenseVector([14.0, 8.0, 153.0, 13.5, 71.0]),\n",
       " DenseVector([14.0, 8.0, 150.0, 13.0, 71.0]),\n",
       " DenseVector([12.0, 8.0, 180.0, 11.5, 71.0]),\n",
       " DenseVector([13.0, 8.0, 170.0, 12.0, 71.0]),\n",
       " DenseVector([13.0, 8.0, 175.0, 12.0, 71.0]),\n",
       " DenseVector([18.0, 6.0, 110.0, 13.5, 71.0]),\n",
       " DenseVector([22.0, 4.0, 72.0, 19.0, 71.0]),\n",
       " DenseVector([19.0, 6.0, 100.0, 15.0, 71.0]),\n",
       " DenseVector([18.0, 6.0, 88.0, 14.5, 71.0]),\n",
       " DenseVector([23.0, 4.0, 86.0, 14.0, 71.0]),\n",
       " DenseVector([28.0, 4.0, 90.0, 14.0, 71.0]),\n",
       " DenseVector([30.0, 4.0, 70.0, 19.5, 71.0]),\n",
       " DenseVector([30.0, 4.0, 76.0, 14.5, 71.0]),\n",
       " DenseVector([31.0, 4.0, 65.0, 19.0, 71.0]),\n",
       " DenseVector([35.0, 4.0, 69.0, 18.0, 71.0]),\n",
       " DenseVector([27.0, 4.0, 60.0, 19.0, 71.0]),\n",
       " DenseVector([26.0, 4.0, 70.0, 20.5, 71.0]),\n",
       " DenseVector([24.0, 4.0, 95.0, 15.5, 72.0]),\n",
       " DenseVector([25.0, 4.0, 80.0, 17.0, 72.0]),\n",
       " DenseVector([23.0, 4.0, 54.0, 23.5, 72.0]),\n",
       " DenseVector([20.0, 4.0, 90.0, 19.5, 72.0]),\n",
       " DenseVector([21.0, 4.0, 86.0, 16.5, 72.0]),\n",
       " DenseVector([13.0, 8.0, 165.0, 12.0, 72.0]),\n",
       " DenseVector([14.0, 8.0, 175.0, 12.0, 72.0]),\n",
       " DenseVector([15.0, 8.0, 150.0, 13.5, 72.0]),\n",
       " DenseVector([14.0, 8.0, 153.0, 13.0, 72.0]),\n",
       " DenseVector([17.0, 8.0, 150.0, 11.5, 72.0]),\n",
       " DenseVector([11.0, 8.0, 208.0, 11.0, 72.0]),\n",
       " DenseVector([13.0, 8.0, 155.0, 13.5, 72.0]),\n",
       " DenseVector([12.0, 8.0, 160.0, 13.5, 72.0]),\n",
       " DenseVector([13.0, 8.0, 190.0, 12.5, 72.0]),\n",
       " DenseVector([19.0, 3.0, 97.0, 13.5, 72.0]),\n",
       " DenseVector([15.0, 8.0, 150.0, 12.5, 72.0]),\n",
       " DenseVector([13.0, 8.0, 130.0, 14.0, 72.0]),\n",
       " DenseVector([13.0, 8.0, 140.0, 16.0, 72.0]),\n",
       " DenseVector([14.0, 8.0, 150.0, 14.0, 72.0]),\n",
       " DenseVector([18.0, 4.0, 112.0, 14.5, 72.0]),\n",
       " DenseVector([22.0, 4.0, 76.0, 18.0, 72.0]),\n",
       " DenseVector([21.0, 4.0, 87.0, 19.5, 72.0]),\n",
       " DenseVector([26.0, 4.0, 69.0, 18.0, 72.0]),\n",
       " DenseVector([22.0, 4.0, 86.0, 16.0, 72.0]),\n",
       " DenseVector([28.0, 4.0, 92.0, 17.0, 72.0]),\n",
       " DenseVector([23.0, 4.0, 97.0, 14.5, 72.0]),\n",
       " DenseVector([28.0, 4.0, 80.0, 15.0, 72.0]),\n",
       " DenseVector([27.0, 4.0, 88.0, 16.5, 72.0]),\n",
       " DenseVector([13.0, 8.0, 175.0, 13.0, 73.0]),\n",
       " DenseVector([14.0, 8.0, 150.0, 11.5, 73.0]),\n",
       " DenseVector([13.0, 8.0, 145.0, 13.0, 73.0]),\n",
       " DenseVector([14.0, 8.0, 137.0, 14.5, 73.0]),\n",
       " DenseVector([15.0, 8.0, 150.0, 12.5, 73.0]),\n",
       " DenseVector([12.0, 8.0, 198.0, 11.5, 73.0]),\n",
       " DenseVector([13.0, 8.0, 150.0, 12.0, 73.0]),\n",
       " DenseVector([13.0, 8.0, 158.0, 13.0, 73.0]),\n",
       " DenseVector([14.0, 8.0, 150.0, 14.5, 73.0]),\n",
       " DenseVector([13.0, 8.0, 215.0, 11.0, 73.0]),\n",
       " DenseVector([12.0, 8.0, 225.0, 11.0, 73.0]),\n",
       " DenseVector([13.0, 8.0, 175.0, 11.0, 73.0]),\n",
       " DenseVector([18.0, 6.0, 105.0, 16.5, 73.0]),\n",
       " DenseVector([16.0, 6.0, 100.0, 18.0, 73.0]),\n",
       " DenseVector([18.0, 6.0, 100.0, 16.0, 73.0]),\n",
       " DenseVector([18.0, 6.0, 88.0, 16.5, 73.0]),\n",
       " DenseVector([23.0, 6.0, 95.0, 16.0, 73.0]),\n",
       " DenseVector([26.0, 4.0, 46.0, 21.0, 73.0]),\n",
       " DenseVector([11.0, 8.0, 150.0, 14.0, 73.0]),\n",
       " DenseVector([12.0, 8.0, 167.0, 12.5, 73.0]),\n",
       " DenseVector([13.0, 8.0, 170.0, 13.0, 73.0]),\n",
       " DenseVector([12.0, 8.0, 180.0, 12.5, 73.0]),\n",
       " DenseVector([18.0, 6.0, 100.0, 15.0, 73.0]),\n",
       " DenseVector([20.0, 4.0, 88.0, 19.0, 73.0]),\n",
       " DenseVector([21.0, 4.0, 72.0, 19.5, 73.0]),\n",
       " DenseVector([22.0, 4.0, 94.0, 16.5, 73.0]),\n",
       " DenseVector([18.0, 3.0, 90.0, 13.5, 73.0]),\n",
       " DenseVector([19.0, 4.0, 85.0, 18.5, 73.0]),\n",
       " DenseVector([21.0, 6.0, 107.0, 14.0, 73.0]),\n",
       " DenseVector([26.0, 4.0, 90.0, 15.5, 73.0]),\n",
       " DenseVector([15.0, 8.0, 145.0, 13.0, 73.0]),\n",
       " DenseVector([16.0, 8.0, 230.0, 9.5, 73.0]),\n",
       " DenseVector([29.0, 4.0, 49.0, 19.5, 73.0]),\n",
       " DenseVector([24.0, 4.0, 75.0, 15.5, 73.0]),\n",
       " DenseVector([20.0, 4.0, 91.0, 14.0, 73.0]),\n",
       " DenseVector([19.0, 4.0, 112.0, 15.5, 73.0]),\n",
       " DenseVector([15.0, 8.0, 150.0, 11.0, 73.0]),\n",
       " DenseVector([24.0, 4.0, 110.0, 14.0, 73.0]),\n",
       " DenseVector([20.0, 6.0, 122.0, 13.5, 73.0]),\n",
       " DenseVector([11.0, 8.0, 180.0, 11.0, 73.0]),\n",
       " DenseVector([20.0, 6.0, 95.0, 16.5, 74.0]),\n",
       " DenseVector([21.0, 6.0, 80.0, 17.0, 74.0]),\n",
       " DenseVector([19.0, 6.0, 100.0, 16.0, 74.0]),\n",
       " DenseVector([15.0, 6.0, 100.0, 17.0, 74.0]),\n",
       " DenseVector([31.0, 4.0, 67.0, 19.0, 74.0]),\n",
       " DenseVector([26.0, 4.0, 80.0, 16.5, 74.0]),\n",
       " DenseVector([32.0, 4.0, 65.0, 21.0, 74.0]),\n",
       " DenseVector([25.0, 4.0, 75.0, 17.0, 74.0]),\n",
       " DenseVector([16.0, 6.0, 100.0, 17.0, 74.0]),\n",
       " DenseVector([16.0, 6.0, 110.0, 18.0, 74.0]),\n",
       " DenseVector([18.0, 6.0, 105.0, 16.5, 74.0]),\n",
       " DenseVector([16.0, 8.0, 140.0, 14.0, 74.0]),\n",
       " DenseVector([13.0, 8.0, 150.0, 14.5, 74.0]),\n",
       " DenseVector([14.0, 8.0, 150.0, 13.5, 74.0]),\n",
       " DenseVector([14.0, 8.0, 140.0, 16.0, 74.0]),\n",
       " DenseVector([14.0, 8.0, 150.0, 15.5, 74.0]),\n",
       " DenseVector([29.0, 4.0, 83.0, 16.5, 74.0]),\n",
       " DenseVector([26.0, 4.0, 67.0, 15.5, 74.0]),\n",
       " DenseVector([26.0, 4.0, 78.0, 14.5, 74.0]),\n",
       " DenseVector([31.0, 4.0, 52.0, 16.5, 74.0]),\n",
       " DenseVector([32.0, 4.0, 61.0, 19.0, 74.0]),\n",
       " DenseVector([28.0, 4.0, 75.0, 14.5, 74.0]),\n",
       " DenseVector([24.0, 4.0, 75.0, 15.5, 74.0]),\n",
       " DenseVector([26.0, 4.0, 75.0, 14.0, 74.0]),\n",
       " DenseVector([24.0, 4.0, 97.0, 15.0, 74.0]),\n",
       " DenseVector([26.0, 4.0, 93.0, 15.5, 74.0]),\n",
       " DenseVector([31.0, 4.0, 67.0, 16.0, 74.0]),\n",
       " DenseVector([19.0, 6.0, 95.0, 16.0, 75.0]),\n",
       " DenseVector([18.0, 6.0, 105.0, 16.0, 75.0]),\n",
       " DenseVector([15.0, 6.0, 72.0, 21.0, 75.0]),\n",
       " DenseVector([15.0, 6.0, 72.0, 19.5, 75.0]),\n",
       " DenseVector([16.0, 8.0, 170.0, 11.5, 75.0]),\n",
       " DenseVector([15.0, 8.0, 145.0, 14.0, 75.0]),\n",
       " DenseVector([16.0, 8.0, 150.0, 14.5, 75.0]),\n",
       " DenseVector([14.0, 8.0, 148.0, 13.5, 75.0]),\n",
       " DenseVector([17.0, 6.0, 110.0, 21.0, 75.0]),\n",
       " DenseVector([16.0, 6.0, 105.0, 18.5, 75.0]),\n",
       " DenseVector([15.0, 6.0, 110.0, 19.0, 75.0]),\n",
       " DenseVector([18.0, 6.0, 95.0, 19.0, 75.0]),\n",
       " DenseVector([21.0, 6.0, 110.0, 15.0, 75.0]),\n",
       " DenseVector([20.0, 8.0, 110.0, 13.5, 75.0]),\n",
       " DenseVector([13.0, 8.0, 129.0, 12.0, 75.0]),\n",
       " DenseVector([29.0, 4.0, 75.0, 16.0, 75.0]),\n",
       " DenseVector([23.0, 4.0, 83.0, 17.0, 75.0]),\n",
       " DenseVector([20.0, 6.0, 100.0, 16.0, 75.0]),\n",
       " DenseVector([23.0, 4.0, 78.0, 18.5, 75.0]),\n",
       " DenseVector([24.0, 4.0, 96.0, 13.5, 75.0]),\n",
       " DenseVector([25.0, 4.0, 71.0, 16.5, 75.0]),\n",
       " DenseVector([24.0, 4.0, 97.0, 17.0, 75.0]),\n",
       " DenseVector([18.0, 6.0, 97.0, 14.5, 75.0]),\n",
       " DenseVector([29.0, 4.0, 70.0, 14.0, 75.0]),\n",
       " DenseVector([19.0, 6.0, 90.0, 17.0, 75.0]),\n",
       " DenseVector([23.0, 4.0, 95.0, 15.0, 75.0]),\n",
       " DenseVector([23.0, 4.0, 88.0, 17.0, 75.0]),\n",
       " DenseVector([22.0, 4.0, 98.0, 14.5, 75.0]),\n",
       " DenseVector([25.0, 4.0, 115.0, 13.5, 75.0]),\n",
       " DenseVector([33.0, 4.0, 53.0, 17.5, 75.0]),\n",
       " DenseVector([28.0, 4.0, 86.0, 15.5, 76.0]),\n",
       " DenseVector([25.0, 4.0, 81.0, 16.9, 76.0]),\n",
       " DenseVector([25.0, 4.0, 92.0, 14.9, 76.0]),\n",
       " DenseVector([26.0, 4.0, 79.0, 17.7, 76.0]),\n",
       " DenseVector([27.0, 4.0, 83.0, 15.3, 76.0]),\n",
       " DenseVector([17.5, 8.0, 140.0, 13.0, 76.0]),\n",
       " DenseVector([16.0, 8.0, 150.0, 13.0, 76.0]),\n",
       " DenseVector([15.5, 8.0, 120.0, 13.9, 76.0]),\n",
       " DenseVector([14.5, 8.0, 152.0, 12.8, 76.0]),\n",
       " DenseVector([22.0, 6.0, 100.0, 15.4, 76.0]),\n",
       " DenseVector([22.0, 6.0, 105.0, 14.5, 76.0]),\n",
       " DenseVector([24.0, 6.0, 81.0, 17.6, 76.0]),\n",
       " DenseVector([22.5, 6.0, 90.0, 17.6, 76.0]),\n",
       " DenseVector([29.0, 4.0, 52.0, 22.2, 76.0]),\n",
       " DenseVector([24.5, 4.0, 60.0, 22.1, 76.0]),\n",
       " DenseVector([29.0, 4.0, 70.0, 14.2, 76.0]),\n",
       " DenseVector([33.0, 4.0, 53.0, 17.4, 76.0]),\n",
       " DenseVector([20.0, 6.0, 100.0, 17.7, 76.0]),\n",
       " DenseVector([18.0, 6.0, 78.0, 21.0, 76.0]),\n",
       " DenseVector([18.5, 6.0, 110.0, 16.2, 76.0]),\n",
       " DenseVector([17.5, 6.0, 95.0, 17.8, 76.0]),\n",
       " DenseVector([29.5, 4.0, 71.0, 12.2, 76.0]),\n",
       " DenseVector([32.0, 4.0, 70.0, 17.0, 76.0]),\n",
       " DenseVector([28.0, 4.0, 75.0, 16.4, 76.0]),\n",
       " DenseVector([26.5, 4.0, 72.0, 13.6, 76.0]),\n",
       " DenseVector([20.0, 4.0, 102.0, 15.7, 76.0]),\n",
       " DenseVector([13.0, 8.0, 150.0, 13.2, 76.0]),\n",
       " DenseVector([19.0, 4.0, 88.0, 21.9, 76.0]),\n",
       " DenseVector([19.0, 6.0, 108.0, 15.5, 76.0]),\n",
       " DenseVector([16.5, 6.0, 120.0, 16.7, 76.0]),\n",
       " DenseVector([16.5, 8.0, 180.0, 12.1, 76.0]),\n",
       " DenseVector([13.0, 8.0, 145.0, 12.0, 76.0]),\n",
       " DenseVector([13.0, 8.0, 130.0, 15.0, 76.0]),\n",
       " DenseVector([13.0, 8.0, 150.0, 14.0, 76.0]),\n",
       " DenseVector([31.5, 4.0, 68.0, 18.5, 77.0]),\n",
       " DenseVector([30.0, 4.0, 80.0, 14.8, 77.0]),\n",
       " DenseVector([36.0, 4.0, 58.0, 18.6, 77.0]),\n",
       " DenseVector([25.5, 4.0, 96.0, 15.5, 77.0]),\n",
       " DenseVector([33.5, 4.0, 70.0, 16.8, 77.0]),\n",
       " DenseVector([17.5, 8.0, 145.0, 12.5, 77.0]),\n",
       " DenseVector([17.0, 8.0, 110.0, 19.0, 77.0]),\n",
       " DenseVector([15.5, 8.0, 145.0, 13.7, 77.0]),\n",
       " DenseVector([15.0, 8.0, 130.0, 14.9, 77.0]),\n",
       " DenseVector([17.5, 6.0, 110.0, 16.4, 77.0]),\n",
       " DenseVector([20.5, 6.0, 105.0, 16.9, 77.0]),\n",
       " DenseVector([19.0, 6.0, 100.0, 17.7, 77.0]),\n",
       " DenseVector([18.5, 6.0, 98.0, 19.0, 77.0]),\n",
       " DenseVector([16.0, 8.0, 180.0, 11.1, 77.0]),\n",
       " DenseVector([15.5, 8.0, 170.0, 11.4, 77.0]),\n",
       " DenseVector([15.5, 8.0, 190.0, 12.2, 77.0]),\n",
       " DenseVector([16.0, 8.0, 149.0, 14.5, 77.0]),\n",
       " DenseVector([29.0, 4.0, 78.0, 14.5, 77.0]),\n",
       " DenseVector([24.5, 4.0, 88.0, 16.0, 77.0]),\n",
       " DenseVector([26.0, 4.0, 75.0, 18.2, 77.0]),\n",
       " DenseVector([25.5, 4.0, 89.0, 15.8, 77.0]),\n",
       " DenseVector([30.5, 4.0, 63.0, 17.0, 77.0]),\n",
       " DenseVector([33.5, 4.0, 83.0, 15.9, 77.0]),\n",
       " DenseVector([30.0, 4.0, 67.0, 16.4, 77.0]),\n",
       " DenseVector([30.5, 4.0, 78.0, 14.1, 77.0]),\n",
       " DenseVector([22.0, 6.0, 97.0, 14.5, 77.0]),\n",
       " DenseVector([21.5, 4.0, 110.0, 12.8, 77.0]),\n",
       " DenseVector([21.5, 3.0, 110.0, 13.5, 77.0]),\n",
       " DenseVector([43.1, 4.0, 48.0, 21.5, 78.0]),\n",
       " DenseVector([36.1, 4.0, 66.0, 14.4, 78.0]),\n",
       " DenseVector([32.8, 4.0, 52.0, 19.4, 78.0]),\n",
       " DenseVector([39.4, 4.0, 70.0, 18.6, 78.0]),\n",
       " DenseVector([36.1, 4.0, 60.0, 16.4, 78.0]),\n",
       " DenseVector([19.9, 8.0, 110.0, 15.5, 78.0]),\n",
       " DenseVector([19.4, 8.0, 140.0, 13.2, 78.0]),\n",
       " DenseVector([20.2, 8.0, 139.0, 12.8, 78.0]),\n",
       " DenseVector([19.2, 6.0, 105.0, 19.2, 78.0]),\n",
       " DenseVector([20.5, 6.0, 95.0, 18.2, 78.0]),\n",
       " DenseVector([20.2, 6.0, 85.0, 15.8, 78.0]),\n",
       " DenseVector([25.1, 4.0, 88.0, 15.4, 78.0]),\n",
       " DenseVector([20.5, 6.0, 100.0, 17.2, 78.0]),\n",
       " DenseVector([19.4, 6.0, 90.0, 17.2, 78.0]),\n",
       " DenseVector([20.6, 6.0, 105.0, 15.8, 78.0]),\n",
       " DenseVector([20.8, 6.0, 85.0, 16.7, 78.0]),\n",
       " DenseVector([18.6, 6.0, 110.0, 18.7, 78.0]),\n",
       " DenseVector([18.1, 6.0, 120.0, 15.1, 78.0]),\n",
       " DenseVector([19.2, 8.0, 145.0, 13.2, 78.0]),\n",
       " DenseVector([17.7, 6.0, 165.0, 13.4, 78.0]),\n",
       " DenseVector([18.1, 8.0, 139.0, 11.2, 78.0]),\n",
       " DenseVector([17.5, 8.0, 140.0, 13.7, 78.0]),\n",
       " DenseVector([30.0, 4.0, 68.0, 16.5, 78.0]),\n",
       " DenseVector([27.5, 4.0, 95.0, 14.2, 78.0]),\n",
       " DenseVector([27.2, 4.0, 97.0, 14.7, 78.0]),\n",
       " DenseVector([30.9, 4.0, 75.0, 14.5, 78.0]),\n",
       " DenseVector([21.1, 4.0, 95.0, 14.8, 78.0]),\n",
       " DenseVector([23.2, 4.0, 105.0, 16.7, 78.0]),\n",
       " DenseVector([23.8, 4.0, 85.0, 17.6, 78.0]),\n",
       " DenseVector([23.9, 4.0, 97.0, 14.9, 78.0]),\n",
       " DenseVector([20.3, 5.0, 103.0, 15.9, 78.0]),\n",
       " DenseVector([17.0, 6.0, 125.0, 13.6, 78.0]),\n",
       " DenseVector([21.6, 4.0, 115.0, 15.7, 78.0]),\n",
       " DenseVector([16.2, 6.0, 133.0, 15.8, 78.0]),\n",
       " DenseVector([31.5, 4.0, 71.0, 14.9, 78.0]),\n",
       " DenseVector([29.5, 4.0, 68.0, 16.6, 78.0]),\n",
       " DenseVector([21.5, 6.0, 115.0, 15.4, 79.0]),\n",
       " DenseVector([19.8, 6.0, 85.0, 18.2, 79.0]),\n",
       " DenseVector([22.3, 4.0, 88.0, 17.3, 79.0]),\n",
       " DenseVector([20.2, 6.0, 90.0, 18.2, 79.0]),\n",
       " DenseVector([20.6, 6.0, 110.0, 16.6, 79.0]),\n",
       " DenseVector([17.0, 8.0, 130.0, 15.4, 79.0]),\n",
       " DenseVector([17.6, 8.0, 129.0, 13.4, 79.0]),\n",
       " DenseVector([16.5, 8.0, 138.0, 13.2, 79.0]),\n",
       " DenseVector([18.2, 8.0, 135.0, 15.2, 79.0]),\n",
       " DenseVector([16.9, 8.0, 155.0, 14.9, 79.0]),\n",
       " DenseVector([15.5, 8.0, 142.0, 14.3, 79.0]),\n",
       " DenseVector([19.2, 8.0, 125.0, 15.0, 79.0]),\n",
       " DenseVector([18.5, 8.0, 150.0, 13.0, 79.0]),\n",
       " DenseVector([31.9, 4.0, 71.0, 14.0, 79.0]),\n",
       " DenseVector([34.1, 4.0, 65.0, 15.2, 79.0]),\n",
       " DenseVector([35.7, 4.0, 80.0, 14.4, 79.0]),\n",
       " DenseVector([27.4, 4.0, 80.0, 15.0, 79.0]),\n",
       " DenseVector([25.4, 5.0, 77.0, 20.1, 79.0]),\n",
       " DenseVector([23.0, 8.0, 125.0, 17.4, 79.0]),\n",
       " DenseVector([27.2, 4.0, 71.0, 24.8, 79.0]),\n",
       " DenseVector([23.9, 8.0, 90.0, 22.2, 79.0]),\n",
       " DenseVector([34.2, 4.0, 70.0, 13.2, 79.0]),\n",
       " DenseVector([34.5, 4.0, 70.0, 14.9, 79.0]),\n",
       " DenseVector([31.8, 4.0, 65.0, 19.2, 79.0]),\n",
       " DenseVector([37.3, 4.0, 69.0, 14.7, 79.0]),\n",
       " DenseVector([28.4, 4.0, 90.0, 16.0, 79.0]),\n",
       " DenseVector([28.8, 6.0, 115.0, 11.3, 79.0]),\n",
       " DenseVector([26.8, 6.0, 115.0, 12.9, 79.0]),\n",
       " DenseVector([33.5, 4.0, 90.0, 13.2, 79.0]),\n",
       " DenseVector([41.5, 4.0, 76.0, 14.7, 80.0]),\n",
       " DenseVector([38.1, 4.0, 60.0, 18.8, 80.0]),\n",
       " DenseVector([32.1, 4.0, 70.0, 15.5, 80.0]),\n",
       " DenseVector([37.2, 4.0, 65.0, 16.4, 80.0]),\n",
       " DenseVector([28.0, 4.0, 90.0, 16.5, 80.0]),\n",
       " DenseVector([26.4, 4.0, 88.0, 18.1, 80.0]),\n",
       " DenseVector([24.3, 4.0, 90.0, 20.1, 80.0]),\n",
       " DenseVector([19.1, 6.0, 90.0, 18.7, 80.0]),\n",
       " DenseVector([34.3, 4.0, 78.0, 15.8, 80.0]),\n",
       " DenseVector([29.8, 4.0, 90.0, 15.5, 80.0]),\n",
       " DenseVector([31.3, 4.0, 75.0, 17.5, 80.0]),\n",
       " DenseVector([37.0, 4.0, 92.0, 15.0, 80.0]),\n",
       " DenseVector([32.2, 4.0, 75.0, 15.2, 80.0]),\n",
       " DenseVector([46.6, 4.0, 65.0, 17.9, 80.0]),\n",
       " DenseVector([27.9, 4.0, 105.0, 14.4, 80.0]),\n",
       " DenseVector([40.8, 4.0, 65.0, 19.2, 80.0]),\n",
       " DenseVector([44.3, 4.0, 48.0, 21.7, 80.0]),\n",
       " DenseVector([43.4, 4.0, 48.0, 23.7, 80.0]),\n",
       " DenseVector([36.4, 5.0, 67.0, 19.9, 80.0]),\n",
       " DenseVector([30.0, 4.0, 67.0, 21.8, 80.0]),\n",
       " DenseVector([44.6, 4.0, 67.0, 13.8, 80.0]),\n",
       " DenseVector([40.9, 4.0, 80.0, 17.3, 80.0]),\n",
       " DenseVector([33.8, 4.0, 67.0, 18.0, 80.0]),\n",
       " DenseVector([29.8, 4.0, 62.0, 15.3, 80.0]),\n",
       " DenseVector([32.7, 6.0, 132.0, 11.4, 80.0]),\n",
       " DenseVector([23.7, 3.0, 100.0, 12.5, 80.0]),\n",
       " DenseVector([35.0, 4.0, 88.0, 15.1, 80.0]),\n",
       " DenseVector([23.6, 4.0, 80.0, 14.3, 80.0]),\n",
       " DenseVector([32.4, 4.0, 72.0, 17.0, 80.0]),\n",
       " DenseVector([27.2, 4.0, 84.0, 15.7, 81.0]),\n",
       " DenseVector([26.6, 4.0, 84.0, 16.4, 81.0]),\n",
       " DenseVector([25.8, 4.0, 92.0, 14.4, 81.0]),\n",
       " DenseVector([23.5, 6.0, 110.0, 12.6, 81.0]),\n",
       " DenseVector([30.0, 4.0, 84.0, 12.9, 81.0]),\n",
       " DenseVector([39.1, 4.0, 58.0, 16.9, 81.0]),\n",
       " DenseVector([39.0, 4.0, 64.0, 16.4, 81.0]),\n",
       " DenseVector([35.1, 4.0, 60.0, 16.1, 81.0]),\n",
       " DenseVector([32.3, 4.0, 67.0, 17.8, 81.0]),\n",
       " DenseVector([37.0, 4.0, 65.0, 19.4, 81.0]),\n",
       " DenseVector([37.7, 4.0, 62.0, 17.3, 81.0]),\n",
       " DenseVector([34.1, 4.0, 68.0, 16.0, 81.0]),\n",
       " DenseVector([34.7, 4.0, 63.0, 14.9, 81.0]),\n",
       " DenseVector([34.4, 4.0, 65.0, 16.2, 81.0]),\n",
       " DenseVector([29.9, 4.0, 65.0, 20.7, 81.0]),\n",
       " DenseVector([33.0, 4.0, 74.0, 14.2, 81.0]),\n",
       " DenseVector([34.5, 4.0, 80.0, 15.8, 81.0]),\n",
       " DenseVector([33.7, 4.0, 75.0, 14.4, 81.0]),\n",
       " DenseVector([32.4, 4.0, 75.0, 16.8, 81.0]),\n",
       " DenseVector([32.9, 4.0, 100.0, 14.8, 81.0]),\n",
       " DenseVector([31.6, 4.0, 74.0, 18.3, 81.0]),\n",
       " DenseVector([28.1, 4.0, 80.0, 20.4, 81.0]),\n",
       " DenseVector([30.7, 6.0, 76.0, 19.6, 81.0]),\n",
       " DenseVector([25.4, 6.0, 116.0, 12.6, 81.0]),\n",
       " DenseVector([24.2, 6.0, 120.0, 13.8, 81.0]),\n",
       " DenseVector([22.4, 6.0, 110.0, 15.8, 81.0]),\n",
       " DenseVector([26.6, 8.0, 105.0, 19.0, 81.0]),\n",
       " DenseVector([20.2, 6.0, 88.0, 17.1, 81.0]),\n",
       " DenseVector([17.6, 6.0, 85.0, 16.6, 81.0]),\n",
       " DenseVector([28.0, 4.0, 88.0, 19.6, 82.0]),\n",
       " DenseVector([27.0, 4.0, 88.0, 18.6, 82.0]),\n",
       " DenseVector([34.0, 4.0, 88.0, 18.0, 82.0]),\n",
       " DenseVector([31.0, 4.0, 85.0, 16.2, 82.0]),\n",
       " DenseVector([29.0, 4.0, 84.0, 16.0, 82.0]),\n",
       " DenseVector([27.0, 4.0, 90.0, 18.0, 82.0]),\n",
       " DenseVector([24.0, 4.0, 92.0, 16.4, 82.0]),\n",
       " DenseVector([23.0, 4.0, 80.0, 20.5, 82.0]),\n",
       " DenseVector([36.0, 4.0, 74.0, 15.3, 82.0]),\n",
       " DenseVector([37.0, 4.0, 68.0, 18.2, 82.0]),\n",
       " DenseVector([31.0, 4.0, 68.0, 17.6, 82.0]),\n",
       " DenseVector([38.0, 4.0, 63.0, 14.7, 82.0]),\n",
       " DenseVector([36.0, 4.0, 70.0, 17.3, 82.0]),\n",
       " DenseVector([36.0, 4.0, 88.0, 14.5, 82.0]),\n",
       " DenseVector([36.0, 4.0, 75.0, 14.5, 82.0]),\n",
       " DenseVector([34.0, 4.0, 70.0, 16.9, 82.0]),\n",
       " DenseVector([38.0, 4.0, 67.0, 15.0, 82.0]),\n",
       " DenseVector([32.0, 4.0, 67.0, 15.7, 82.0]),\n",
       " DenseVector([38.0, 4.0, 67.0, 16.2, 82.0]),\n",
       " DenseVector([25.0, 6.0, 110.0, 16.4, 82.0]),\n",
       " DenseVector([38.0, 6.0, 85.0, 17.0, 82.0]),\n",
       " DenseVector([26.0, 4.0, 92.0, 14.5, 82.0]),\n",
       " DenseVector([22.0, 6.0, 112.0, 14.7, 82.0]),\n",
       " DenseVector([32.0, 4.0, 96.0, 13.9, 82.0]),\n",
       " DenseVector([36.0, 4.0, 84.0, 13.0, 82.0]),\n",
       " DenseVector([27.0, 4.0, 90.0, 17.3, 82.0]),\n",
       " DenseVector([27.0, 4.0, 86.0, 15.6, 82.0]),\n",
       " DenseVector([44.0, 4.0, 52.0, 24.6, 82.0]),\n",
       " DenseVector([32.0, 4.0, 84.0, 11.6, 82.0]),\n",
       " DenseVector([28.0, 4.0, 79.0, 18.6, 82.0]),\n",
       " DenseVector([31.0, 4.0, 82.0, 19.4, 82.0])]"
      ]
     },
     "execution_count": 25,
     "metadata": {},
     "output_type": "execute_result"
    }
   ],
   "source": [
    "#keep only MPG,CYLINDERS,HP ACCELERATION AND MODELYEAR\n",
    "autoVectors = dataLines.map(transformToNumeric)\n",
    "autoVectors.collect()"
   ]
  },
  {
   "cell_type": "code",
   "execution_count": 20,
   "metadata": {
    "collapsed": true
   },
   "outputs": [],
   "source": [
    "#perfoming statiscal analysis\n",
    "from pyspark.mllib.stat import Statistics "
   ]
  },
  {
   "cell_type": "code",
   "execution_count": 21,
   "metadata": {
    "collapsed": false
   },
   "outputs": [],
   "source": [
    "autoStat = Statistics.colStats(autoVectors)"
   ]
  },
  {
   "cell_type": "code",
   "execution_count": 25,
   "metadata": {
    "collapsed": false
   },
   "outputs": [
    {
     "data": {
      "text/plain": [
       "array([ 46.6,   8. , 230. ,  24.8,  82. ])"
      ]
     },
     "execution_count": 25,
     "metadata": {},
     "output_type": "execute_result"
    }
   ],
   "source": [
    "autoStat.mean()\n",
    "autoStat.variance()\n",
    "autoStat.min()\n",
    "autoStat.max()"
   ]
  },
  {
   "cell_type": "code",
   "execution_count": 18,
   "metadata": {
    "collapsed": false
   },
   "outputs": [
    {
     "data": {
      "text/plain": [
       "array([[ 1.        , -0.77539629, -0.77463084,  0.42028891,  0.57926713],\n",
       "       [-0.77539629,  1.        ,  0.84275215, -0.50541949, -0.3487458 ],\n",
       "       [-0.77463084,  0.84275215,  1.        , -0.68829885, -0.41559383],\n",
       "       [ 0.42028891, -0.50541949, -0.68829885,  1.        ,  0.28813695],\n",
       "       [ 0.57926713, -0.3487458 , -0.41559383,  0.28813695,  1.        ]])"
      ]
     },
     "execution_count": 18,
     "metadata": {},
     "output_type": "execute_result"
    }
   ],
   "source": [
    "Statistics.corr(autoVectors)"
   ]
  },
  {
   "cell_type": "code",
   "execution_count": 29,
   "metadata": {
    "collapsed": true
   },
   "outputs": [],
   "source": [
    "from pyspark.ml.stat import Correlation"
   ]
  },
  {
   "cell_type": "code",
   "execution_count": 26,
   "metadata": {
    "collapsed": true
   },
   "outputs": [],
   "source": [
    "#transforoming this to a dataframe for input machine learning. drop columns that are not required (low correlation\n",
    "from pyspark.sql import SQLContext\n",
    "sqlcontext = SQLContext(sc)"
   ]
  },
  {
   "cell_type": "code",
   "execution_count": 27,
   "metadata": {
    "collapsed": true
   },
   "outputs": [],
   "source": [
    "def transformLabeledPoint(instr):\n",
    "    lp = (float(instr[0]), Vectors.dense([instr[1], instr[2], instr[4]]))\n",
    "    return lp"
   ]
  },
  {
   "cell_type": "code",
   "execution_count": 28,
   "metadata": {
    "collapsed": true
   },
   "outputs": [],
   "source": [
    "autoLp = autoVectors.map(transformLabeledPoint)"
   ]
  },
  {
   "cell_type": "code",
   "execution_count": 29,
   "metadata": {
    "collapsed": false
   },
   "outputs": [],
   "source": [
    "autoDf = sqlcontext.createDataFrame(autoLp, [\"label\", \"features\"])"
   ]
  },
  {
   "cell_type": "code",
   "execution_count": 30,
   "metadata": {
    "collapsed": false
   },
   "outputs": [
    {
     "name": "stdout",
     "output_type": "stream",
     "text": [
      "+-----+----------------+\n",
      "|label|        features|\n",
      "+-----+----------------+\n",
      "| 18.0|[8.0,130.0,70.0]|\n",
      "| 15.0|[8.0,165.0,70.0]|\n",
      "| 18.0|[8.0,150.0,70.0]|\n",
      "| 16.0|[8.0,150.0,70.0]|\n",
      "| 17.0|[8.0,140.0,70.0]|\n",
      "| 15.0|[8.0,198.0,70.0]|\n",
      "| 14.0|[8.0,220.0,70.0]|\n",
      "| 14.0|[8.0,215.0,70.0]|\n",
      "| 14.0|[8.0,225.0,70.0]|\n",
      "| 15.0|[8.0,190.0,70.0]|\n",
      "+-----+----------------+\n",
      "only showing top 10 rows\n",
      "\n"
     ]
    }
   ],
   "source": [
    "autoDf.select(\"label\", \"features\").show(10)"
   ]
  },
  {
   "cell_type": "code",
   "execution_count": 35,
   "metadata": {
    "collapsed": true
   },
   "outputs": [],
   "source": [
    "#finding correlation another way\n",
    "numFeatures = autoDf.take(1)[0].features.size\n"
   ]
  },
  {
   "cell_type": "code",
   "execution_count": 37,
   "metadata": {
    "collapsed": false
   },
   "outputs": [
    {
     "ename": "SyntaxError",
     "evalue": "invalid syntax (<ipython-input-37-d8a4a583ee66>, line 5)",
     "output_type": "error",
     "traceback": [
      "\u001b[0;36m  File \u001b[0;32m\"<ipython-input-37-d8a4a583ee66>\"\u001b[0;36m, line \u001b[0;32m5\u001b[0m\n\u001b[0;31m    print(\"%d\\t%g\", %(i,corr))\u001b[0m\n\u001b[0m                    ^\u001b[0m\n\u001b[0;31mSyntaxError\u001b[0m\u001b[0;31m:\u001b[0m invalid syntax\n"
     ]
    }
   ],
   "source": [
    "labelRDD = autoDf.map(lambda lp: float(lp.label))\n",
    "for i in range(numFeatures):\n",
    "    featureRDD = autoDf.map(lambda lp: lp.features[i])\n",
    "    corr = Statistics.corr(labelRDD, featureRDD, \"pearson\")\n",
    "    print(\"%d\\t%g\", %(i,corr))"
   ]
  },
  {
   "cell_type": "code",
   "execution_count": 31,
   "metadata": {
    "collapsed": false
   },
   "outputs": [
    {
     "data": {
      "text/plain": [
       "31"
      ]
     },
     "execution_count": 31,
     "metadata": {},
     "output_type": "execute_result"
    }
   ],
   "source": [
    "#splitting the data into training and test data sets\n",
    "(trainingData, testData) = autoDf.randomSplit([0.9, 0.1])\n",
    "trainingData.count()\n",
    "testData.count()"
   ]
  },
  {
   "cell_type": "code",
   "execution_count": 32,
   "metadata": {
    "collapsed": false
   },
   "outputs": [
    {
     "data": {
      "text/plain": [
       "367"
      ]
     },
     "execution_count": 32,
     "metadata": {},
     "output_type": "execute_result"
    }
   ],
   "source": [
    "trainingData.count()"
   ]
  },
  {
   "cell_type": "code",
   "execution_count": 33,
   "metadata": {
    "collapsed": false
   },
   "outputs": [
    {
     "data": {
      "text/plain": [
       "31"
      ]
     },
     "execution_count": 33,
     "metadata": {},
     "output_type": "execute_result"
    }
   ],
   "source": [
    "testData.count()"
   ]
  },
  {
   "cell_type": "code",
   "execution_count": 34,
   "metadata": {
    "collapsed": false
   },
   "outputs": [],
   "source": [
    "#Build the model on training data\n",
    "from pyspark.ml.regression import LinearRegression\n",
    "lr = LinearRegression(maxIter=10)\n",
    "lrModel = lr.fit(trainingData)"
   ]
  },
  {
   "cell_type": "code",
   "execution_count": 35,
   "metadata": {
    "collapsed": false
   },
   "outputs": [
    {
     "name": "stdout",
     "output_type": "stream",
     "text": [
      "coefficients[-1.8509094846779293,-0.06395447226482245,0.6673981728253853]\n"
     ]
    }
   ],
   "source": [
    "print(\"coefficients\" + str(lrModel.coefficients))"
   ]
  },
  {
   "cell_type": "code",
   "execution_count": 36,
   "metadata": {
    "collapsed": false
   },
   "outputs": [
    {
     "name": "stdout",
     "output_type": "stream",
     "text": [
      "intercept-10.410281024102012\n"
     ]
    }
   ],
   "source": [
    "print(\"intercept\" + str(lrModel.intercept))"
   ]
  },
  {
   "cell_type": "code",
   "execution_count": 38,
   "metadata": {
    "collapsed": false
   },
   "outputs": [
    {
     "name": "stdout",
     "output_type": "stream",
     "text": [
      "+------------------+-----+\n",
      "|        prediction|label|\n",
      "+------------------+-----+\n",
      "|14.521030147475376| 13.0|\n",
      "|14.229111236328425| 13.0|\n",
      "|10.975680722732982| 13.0|\n",
      "|12.310477068383754| 13.0|\n",
      "|14.740747014447003| 14.0|\n",
      "|15.372044165184725| 14.0|\n",
      "| 7.430331297990584| 14.0|\n",
      "| 21.82390544192795| 16.0|\n",
      "|15.911533393480465| 16.0|\n",
      "| 8.792981093818518| 16.0|\n",
      "+------------------+-----+\n",
      "only showing top 10 rows\n",
      "\n"
     ]
    }
   ],
   "source": [
    "#predict on the test data\n",
    "predictions = lrModel.transform(testData)\n",
    "predictions.select(\"prediction\",\"label\").show(10)"
   ]
  },
  {
   "cell_type": "code",
   "execution_count": 39,
   "metadata": {
    "collapsed": true
   },
   "outputs": [],
   "source": [
    "from pyspark.ml.evaluation import RegressionEvaluator"
   ]
  },
  {
   "cell_type": "code",
   "execution_count": 40,
   "metadata": {
    "collapsed": false
   },
   "outputs": [
    {
     "data": {
      "text/plain": [
       "0.7116810118562784"
      ]
     },
     "execution_count": 40,
     "metadata": {},
     "output_type": "execute_result"
    }
   ],
   "source": [
    "evaluator = RegressionEvaluator(predictionCol=\"prediction\", labelCol=\"label\", metricName=\"r2\")\n",
    "evaluator.evaluate(predictions)"
   ]
  },
  {
   "cell_type": "code",
   "execution_count": 13,
   "metadata": {
    "collapsed": true
   },
   "outputs": [],
   "source": [
    "from pyspark.ml.linalg import Vectors"
   ]
  },
  {
   "cell_type": "code",
   "execution_count": 15,
   "metadata": {
    "collapsed": false
   },
   "outputs": [
    {
     "data": {
      "text/plain": [
       "DenseVector([1.0, 2.0, 3.0, 4.0, 5.0])"
      ]
     },
     "execution_count": 15,
     "metadata": {},
     "output_type": "execute_result"
    }
   ],
   "source": [
    "Vectors.dense([1,2,3,4,5])"
   ]
  },
  {
   "cell_type": "code",
   "execution_count": null,
   "metadata": {
    "collapsed": true
   },
   "outputs": [],
   "source": []
  }
 ],
 "metadata": {
  "anaconda-cloud": {},
  "kernelspec": {
   "display_name": "Python [conda root]",
   "language": "python",
   "name": "conda-root-py"
  },
  "language_info": {
   "codemirror_mode": {
    "name": "ipython",
    "version": 3
   },
   "file_extension": ".py",
   "mimetype": "text/x-python",
   "name": "python",
   "nbconvert_exporter": "python",
   "pygments_lexer": "ipython3",
   "version": "3.5.2"
  }
 },
 "nbformat": 4,
 "nbformat_minor": 1
}
