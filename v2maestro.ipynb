{
 "cells": [
  {
   "cell_type": "code",
   "execution_count": 1,
   "metadata": {
    "collapsed": false
   },
   "outputs": [],
   "source": [
    "import os\n",
    "import sys\n",
    "\n",
    "os.chdir(\"C:/dataanalytics/python\")\n",
    "os.curdir\n",
    "\n",
    "#Configure the environment . Set this up to the directory where spark is installed\n",
    "if 'SPARK_HOME' not in os.environ:\n",
    "    os.environ['SPARK_HOME'] = 'C:\\\\spark'\n",
    "    \n",
    "#create a variable for our root path\n",
    "SPARK_HOME = os.environ['SPARK_HOME']\n",
    "\n",
    "#Add the following paths to the system path. Please check your installation\n",
    "#to make sure that these zip files actually exists. The names might change as\n",
    "#versions change\n",
    "sys.path.insert(0,os.path.join(SPARK_HOME,\"python\"))\n",
    "sys.path.insert(0,os.path.join(SPARK_HOME,\"python\",\"lib\"))\n",
    "sys.path.insert(0,os.path.join(SPARK_HOME,\"python\",\"lib\",\"py4j-0.10.6-src.zip\"))\n",
    "sys.path.insert(0,os.path.join(SPARK_HOME,\"python\",\"lib\",\"pyspark.zip\"))\n",
    " \n",
    "#Initialize a spark context\n",
    "from pyspark import SparkContext\n",
    "from pyspark import SparkConf\n",
    "\n",
    "#optionally configure spark\n",
    "conf = (SparkConf().setAppName(\"V2Maestros\").setMaster(\"local[2]\").set(\"spark.executor.memory\", \"1g\"))\n",
    "\n",
    "#Initalize spark context onl runs once\n",
    "sc = SparkContext(conf=conf)"
   ]
  },
  {
   "cell_type": "code",
   "execution_count": 2,
   "metadata": {
    "collapsed": true
   },
   "outputs": [],
   "source": [
    "#loading the auto data file\n",
    "autodata = sc.textFile(r'C:\\Users\\jeffnerd\\Desktop\\spark\\auto-data.csv')"
   ]
  },
  {
   "cell_type": "code",
   "execution_count": 3,
   "metadata": {
    "collapsed": false
   },
   "outputs": [
    {
     "data": {
      "text/plain": [
       "C:\\Users\\jeffnerd\\Desktop\\spark\\auto-data.csv MapPartitionsRDD[1] at textFile at <unknown>:0"
      ]
     },
     "execution_count": 3,
     "metadata": {},
     "output_type": "execute_result"
    }
   ],
   "source": [
    "autodata.cache()"
   ]
  },
  {
   "cell_type": "code",
   "execution_count": 5,
   "metadata": {
    "collapsed": false
   },
   "outputs": [
    {
     "data": {
      "text/plain": [
       "198"
      ]
     },
     "execution_count": 5,
     "metadata": {},
     "output_type": "execute_result"
    }
   ],
   "source": [
    "autodata.count()"
   ]
  },
  {
   "cell_type": "code",
   "execution_count": 6,
   "metadata": {
    "collapsed": false
   },
   "outputs": [
    {
     "data": {
      "text/plain": [
       "'MAKE,FUELTYPE,ASPIRE,DOORS,BODY,DRIVE,CYLINDERS,HP,RPM,MPG-CITY,MPG-HWY,PRICE'"
      ]
     },
     "execution_count": 6,
     "metadata": {},
     "output_type": "execute_result"
    }
   ],
   "source": [
    "autodata.first()"
   ]
  },
  {
   "cell_type": "code",
   "execution_count": 8,
   "metadata": {
    "collapsed": false
   },
   "outputs": [
    {
     "data": {
      "text/plain": [
       "['MAKE,FUELTYPE,ASPIRE,DOORS,BODY,DRIVE,CYLINDERS,HP,RPM,MPG-CITY,MPG-HWY,PRICE',\n",
       " 'subaru,gas,std,two,hatchback,fwd,four,69,4900,31,36,5118',\n",
       " 'chevrolet,gas,std,two,hatchback,fwd,three,48,5100,47,53,5151',\n",
       " 'mazda,gas,std,two,hatchback,fwd,four,68,5000,30,31,5195',\n",
       " 'toyota,gas,std,two,hatchback,fwd,four,62,4800,35,39,5348']"
      ]
     },
     "execution_count": 8,
     "metadata": {},
     "output_type": "execute_result"
    }
   ],
   "source": [
    "autodata.take(5)"
   ]
  },
  {
   "cell_type": "code",
   "execution_count": 7,
   "metadata": {
    "collapsed": false,
    "scrolled": true
   },
   "outputs": [
    {
     "name": "stdout",
     "output_type": "stream",
     "text": [
      "MAKE,FUELTYPE,ASPIRE,DOORS,BODY,DRIVE,CYLINDERS,HP,RPM,MPG-CITY,MPG-HWY,PRICE\n",
      "subaru,gas,std,two,hatchback,fwd,four,69,4900,31,36,5118\n",
      "chevrolet,gas,std,two,hatchback,fwd,three,48,5100,47,53,5151\n",
      "mazda,gas,std,two,hatchback,fwd,four,68,5000,30,31,5195\n",
      "toyota,gas,std,two,hatchback,fwd,four,62,4800,35,39,5348\n",
      "mitsubishi,gas,std,two,hatchback,fwd,four,68,5500,37,41,5389\n",
      "honda,gas,std,two,hatchback,fwd,four,60,5500,38,42,5399\n",
      "nissan,gas,std,two,sedan,fwd,four,69,5200,31,37,5499\n",
      "dodge,gas,std,two,hatchback,fwd,four,68,5500,37,41,5572\n",
      "plymouth,gas,std,two,hatchback,fwd,four,68,5500,37,41,5572\n",
      "mazda,gas,std,two,hatchback,fwd,four,68,5000,31,38,6095\n",
      "mitsubishi,gas,std,two,hatchback,fwd,four,68,5500,31,38,6189\n",
      "dodge,gas,std,four,hatchback,fwd,four,68,5500,31,38,6229\n",
      "plymouth,gas,std,four,hatchback,fwd,four,68,5500,31,38,6229\n",
      "chevrolet,gas,std,two,hatchback,fwd,four,70,5400,38,43,6295\n",
      "toyota,gas,std,two,hatchback,fwd,four,62,4800,31,38,6338\n",
      "dodge,gas,std,two,hatchback,fwd,four,68,5500,31,38,6377\n",
      "honda,gas,std,two,hatchback,fwd,four,58,4800,49,54,6479\n",
      "toyota,gas,std,four,hatchback,fwd,four,62,4800,31,38,6488\n",
      "honda,gas,std,two,hatchback,fwd,four,76,6000,30,34,6529\n",
      "chevrolet,gas,std,four,sedan,fwd,four,70,5400,38,43,6575\n",
      "nissan,gas,std,two,sedan,fwd,four,69,5200,31,37,6649\n",
      "mitsubishi,gas,std,two,hatchback,fwd,four,68,5500,31,38,6669\n",
      "dodge,gas,std,four,sedan,fwd,four,68,5500,31,38,6692\n",
      "plymouth,gas,std,four,sedan,fwd,four,68,5500,31,38,6692\n",
      "mazda,gas,std,four,sedan,fwd,four,68,5000,31,38,6695\n",
      "isuzu,gas,std,four,sedan,rwd,four,78,4800,24,29,6785\n",
      "mazda,gas,std,two,hatchback,fwd,four,68,5000,31,38,6795\n",
      "nissan,gas,std,four,sedan,fwd,four,69,5200,31,37,6849\n",
      "honda,gas,std,two,hatchback,fwd,four,76,6000,31,38,6855\n",
      "toyota,gas,std,four,wagon,fwd,four,62,4800,31,37,6918\n",
      "toyota,gas,std,four,sedan,fwd,four,70,4800,30,37,6938\n",
      "mitsubishi,gas,std,four,sedan,fwd,four,88,5000,25,32,6989\n",
      "subaru,gas,std,two,hatchback,fwd,four,73,4400,26,31,7053\n",
      "nissan,diesel,std,two,sedan,fwd,four,55,4800,45,50,7099\n",
      "subaru,gas,std,four,sedan,fwd,four,82,4800,32,37,7126\n",
      "honda,gas,std,two,hatchback,fwd,four,76,6000,30,34,7129\n",
      "toyota,gas,std,four,hatchback,fwd,four,70,4800,30,37,7198\n",
      "honda,gas,std,four,sedan,fwd,four,76,6000,30,34,7295\n",
      "honda,gas,std,four,wagon,fwd,four,76,6000,30,34,7295\n",
      "nissan,gas,std,two,sedan,fwd,four,69,5200,31,37,7299\n",
      "nissan,gas,std,four,wagon,fwd,four,69,5200,31,37,7349\n",
      "mazda,gas,std,four,sedan,fwd,four,68,5000,31,38,7395\n",
      "subaru,gas,std,four,wagon,fwd,four,82,4800,28,32,7463\n",
      "nissan,gas,std,four,sedan,fwd,four,69,5200,31,37,7499\n",
      "subaru,gas,std,two,hatchback,4wd,four,73,4400,26,31,7603\n",
      "dodge,gas,std,four,sedan,fwd,four,68,5500,31,38,7609\n",
      "plymouth,gas,std,four,sedan,fwd,four,68,5500,31,38,7609\n",
      "mitsubishi,gas,turbo,two,hatchback,fwd,four,102,5500,24,30,7689\n",
      "toyota,gas,std,four,sedan,fwd,four,70,4800,38,47,7738\n",
      "subaru,gas,std,four,sedan,fwd,four,82,4400,28,33,7775\n",
      "volkswagen,diesel,std,two,sedan,fwd,four,52,4800,37,46,7775\n",
      "toyota,diesel,std,four,hatchback,fwd,four,56,4500,38,47,7788\n",
      "nissan,gas,std,two,hatchback,fwd,four,69,5200,31,37,7799\n",
      "honda,gas,std,two,hatchback,fwd,four,86,5800,27,33,7895\n",
      "toyota,gas,std,four,wagon,4wd,four,62,4800,27,32,7898\n",
      "toyota,diesel,std,four,sedan,fwd,four,56,4500,34,36,7898\n",
      "dodge,gas,turbo,two,hatchback,fwd,four,102,5500,24,30,7957\n",
      "plymouth,gas,turbo,two,hatchback,fwd,four,102,5500,24,30,7957\n",
      "volkswagen,gas,std,two,sedan,fwd,four,85,5250,27,34,7975\n",
      "volkswagen,diesel,std,four,sedan,fwd,four,52,4800,37,46,7995\n",
      "nissan,gas,std,four,wagon,fwd,four,69,5200,31,37,7999\n",
      "subaru,gas,std,four,wagon,4wd,four,82,4800,23,29,8013\n",
      "toyota,gas,std,two,sedan,rwd,four,70,4800,29,34,8058\n",
      "mitsubishi,gas,std,four,sedan,fwd,four,88,5000,25,32,8189\n",
      "volkswagen,gas,std,four,sedan,fwd,four,85,5250,27,34,8195\n",
      "toyota,gas,std,two,hatchback,rwd,four,70,4800,29,34,8238\n",
      "nissan,gas,std,two,hardtop,fwd,four,69,5200,31,37,8249\n",
      "toyota,gas,std,four,hatchback,fwd,four,70,4800,28,34,8358\n",
      "toyota,gas,std,two,hardtop,rwd,four,116,4800,24,30,8449\n",
      "mazda,gas,std,four,sedan,fwd,four,84,4800,26,32,8495\n",
      "volkswagen,gas,std,four,sedan,fwd,four,85,5250,27,34,8495\n",
      "mitsubishi,gas,std,two,hatchback,fwd,four,88,5000,25,32,8499\n",
      "toyota,gas,std,four,wagon,4wd,four,62,4800,27,32,8778\n",
      "honda,gas,std,four,sedan,fwd,four,86,5800,27,33,8845\n",
      "mazda,gas,std,two,hatchback,fwd,four,84,4800,26,32,8845\n",
      "dodge,gas,std,four,wagon,fwd,four,88,5000,24,30,8921\n",
      "plymouth,gas,std,four,wagon,fwd,four,88,5000,24,30,8921\n",
      "toyota,gas,std,four,sedan,fwd,four,92,4200,29,34,8948\n",
      "nissan,gas,std,four,hatchback,fwd,four,97,5200,27,34,8949\n",
      "honda,gas,std,two,hatchback,fwd,four,86,5800,27,33,9095\n",
      "subaru,gas,std,four,sedan,4wd,four,82,4800,24,25,9233\n",
      "toyota,gas,std,four,sedan,fwd,four,70,4800,28,34,9258\n",
      "mitsubishi,gas,turbo,four,sedan,fwd,four,116,5500,23,30,9279\n",
      "mitsubishi,gas,std,four,sedan,fwd,four,116,5500,23,30,9279\n",
      "toyota,gas,std,two,sedan,rwd,four,112,6600,26,29,9298\n",
      "volkswagen,diesel,turbo,four,sedan,fwd,four,68,4500,37,42,9495\n",
      "toyota,gas,std,two,hatchback,rwd,four,112,6600,26,29,9538\n",
      "nissan,gas,std,four,sedan,fwd,four,97,5200,27,34,9549\n",
      "toyota,gas,std,two,hardtop,rwd,four,116,4800,24,30,9639\n",
      "mitsubishi,gas,turbo,two,hatchback,fwd,four,116,5500,23,30,9959\n",
      "subaru,gas,std,four,sedan,fwd,four,94,5200,26,32,9960\n",
      "volkswagen,gas,std,two,hatchback,fwd,four,90,5500,24,29,9980\n",
      "toyota,gas,std,four,hatchback,fwd,four,92,4200,27,32,9988\n",
      "toyota,gas,std,two,hatchback,rwd,four,116,4800,24,30,9989\n",
      "volkswagen,gas,std,four,sedan,fwd,four,100,5500,26,32,9995\n",
      "subaru,gas,std,four,wagon,fwd,four,94,5200,25,31,10198\n",
      "mazda,gas,std,four,sedan,fwd,four,84,4800,26,32,10245\n",
      "honda,gas,std,four,sedan,fwd,four,86,5800,27,33,10295\n",
      "honda,gas,std,two,sedan,fwd,four,100,5500,25,31,10345\n",
      "mazda,gas,std,two,hatchback,fwd,four,84,4800,26,32,10595\n",
      "toyota,diesel,turbo,four,sedan,fwd,four,73,4500,30,33,10698\n",
      "toyota,gas,std,four,sedan,fwd,four,92,4200,27,32,10898\n",
      "mazda,gas,std,two,hatchback,rwd,two,101,6000,17,23,10945\n",
      "isuzu,gas,std,two,hatchback,rwd,four,90,5000,24,29,11048\n",
      "toyota,gas,std,two,hardtop,rwd,four,116,4800,24,30,11199\n",
      "mazda,gas,std,four,hatchback,fwd,four,84,4800,26,32,11245\n",
      "toyota,gas,std,four,hatchback,fwd,four,92,4200,27,32,11248\n",
      "subaru,gas,turbo,four,sedan,4wd,four,111,4800,24,29,11259\n",
      "toyota,gas,std,two,hatchback,rwd,four,116,4800,24,30,11549\n",
      "volkswagen,gas,std,two,convertible,fwd,four,90,5500,24,29,11595\n",
      "subaru,gas,turbo,four,wagon,4wd,four,111,4800,23,23,11694\n",
      "mazda,gas,std,two,hatchback,rwd,two,101,6000,17,23,11845\n",
      "saab,gas,std,two,hatchback,fwd,four,110,5250,21,28,11850\n",
      "peugot,gas,std,four,sedan,rwd,four,97,5000,19,24,11900\n",
      "saab,gas,std,four,sedan,fwd,four,110,5250,21,28,12170\n",
      "volkswagen,gas,std,four,wagon,fwd,four,88,5500,25,31,12290\n",
      "peugot,gas,std,four,wagon,rwd,four,97,5000,19,24,12440\n",
      "mitsubishi,gas,turbo,two,hatchback,fwd,four,145,5000,19,24,12629\n",
      "plymouth,gas,turbo,two,hatchback,rwd,four,145,5000,19,24,12764\n",
      "volvo,gas,std,four,sedan,rwd,four,114,5400,23,28,12940\n",
      "honda,gas,std,four,sedan,fwd,four,101,5800,24,28,12945\n",
      "dodge,gas,turbo,two,hatchback,fwd,four,145,5000,19,24,12964\n",
      "peugot,diesel,turbo,four,sedan,rwd,four,95,4150,28,33,13200\n",
      "volkswagen,gas,std,four,sedan,fwd,five,110,5500,19,24,13295\n",
      "volvo,gas,std,four,wagon,rwd,four,114,5400,23,28,13415\n",
      "alfa-romero,gas,std,two,convertible,rwd,four,111,5000,21,27,13495\n",
      "nissan,gas,std,four,sedan,fwd,six,152,5200,17,22,13499\n",
      "nissan,gas,std,four,sedan,fwd,six,152,5200,19,25,13499\n",
      "mazda,gas,std,two,hatchback,rwd,two,101,6000,17,23,13645\n",
      "volkswagen,diesel,turbo,four,sedan,fwd,four,68,4500,33,38,13845\n",
      "peugot,diesel,turbo,four,wagon,rwd,four,95,4150,25,25,13860\n",
      "audi,gas,std,four,sedan,fwd,four,102,5500,24,30,13950\n",
      "nissan,gas,std,four,wagon,fwd,six,152,5200,17,22,14399\n",
      "mitsubishi,gas,turbo,two,hatchback,fwd,four,145,5000,19,24,14489\n",
      "mitsubishi,gas,turbo,two,hatchback,fwd,four,145,5000,19,24,14869\n",
      "saab,gas,std,two,hatchback,fwd,four,110,5250,21,28,15040\n",
      "audi,gas,std,two,sedan,fwd,five,110,5500,19,25,15250\n",
      "saab,gas,std,four,sedan,fwd,four,110,5250,21,28,15510\n",
      "peugot,gas,std,four,sedan,rwd,four,95,5000,19,24,15580\n",
      "mazda,gas,std,two,hatchback,rwd,two,135,6000,16,23,15645\n",
      "toyota,gas,std,four,sedan,rwd,six,156,5200,20,24,15690\n",
      "toyota,gas,std,four,wagon,rwd,six,156,5200,19,24,15750\n",
      "volvo,gas,std,four,sedan,rwd,four,114,5400,24,28,15985\n",
      "toyota,gas,std,two,hatchback,rwd,six,161,5200,19,24,15998\n",
      "bmw,gas,std,two,sedan,rwd,four,101,5800,23,29,16430\n",
      "alfa-romero,gas,std,two,convertible,rwd,four,111,5000,21,27,16500\n",
      "alfa-romero,gas,std,two,hatchback,rwd,six,154,5000,19,26,16500\n",
      "mercury,gas,turbo,two,hatchback,rwd,four,175,5000,19,24,16503\n",
      "volvo,gas,std,four,wagon,rwd,four,114,5400,24,28,16515\n",
      "toyota,gas,std,two,hatchback,rwd,six,161,5200,20,24,16558\n",
      "peugot,gas,std,four,sedan,rwd,four,97,5000,19,24,16630\n",
      "peugot,gas,std,four,wagon,rwd,four,95,5000,19,24,16695\n",
      "volvo,gas,std,four,sedan,rwd,four,114,5400,23,28,16845\n",
      "peugot,diesel,turbo,four,sedan,rwd,four,95,4150,28,33,16900\n",
      "bmw,gas,std,four,sedan,rwd,four,101,5800,23,29,16925\n",
      "peugot,diesel,turbo,four,wagon,rwd,four,95,4150,25,25,17075\n",
      "nissan,gas,std,two,hatchback,rwd,six,160,5200,19,25,17199\n",
      "audi,gas,std,four,sedan,4wd,five,115,5500,18,22,17450\n",
      "toyota,gas,std,two,convertible,rwd,four,116,4800,24,30,17669\n",
      "audi,gas,std,four,sedan,fwd,five,110,5500,19,25,17710\n",
      "peugot,diesel,turbo,four,sedan,rwd,four,95,4150,28,33,17950\n",
      "peugot,gas,turbo,four,sedan,rwd,four,142,5600,18,24,18150\n",
      "saab,gas,turbo,two,hatchback,fwd,four,160,5500,19,26,18150\n",
      "mazda,gas,std,four,sedan,rwd,four,120,5000,19,27,18280\n",
      "mazda,diesel,std,four,sedan,rwd,four,72,4200,31,39,18344\n",
      "nissan,gas,std,two,hatchback,rwd,six,160,5200,19,25,18399\n",
      "volvo,gas,turbo,four,sedan,rwd,four,162,5100,17,22,18420\n",
      "saab,gas,turbo,four,sedan,fwd,four,160,5500,19,26,18620\n",
      "audi,gas,std,four,wagon,fwd,five,110,5500,19,25,18920\n",
      "volvo,gas,turbo,four,wagon,rwd,four,162,5100,17,22,18950\n",
      "volvo,gas,turbo,four,sedan,rwd,four,160,5300,19,25,19045\n",
      "nissan,gas,turbo,two,hatchback,rwd,six,200,5200,17,23,19699\n",
      "bmw,gas,std,two,sedan,rwd,six,121,4250,21,28,20970\n",
      "bmw,gas,std,four,sedan,rwd,six,121,4250,21,28,21105\n",
      "volvo,gas,std,four,sedan,rwd,six,134,5500,18,23,21485\n",
      "porsche,gas,std,two,hatchback,rwd,four,143,5500,19,27,22018\n",
      "volvo,diesel,turbo,four,sedan,rwd,six,106,4800,26,27,22470\n",
      "volvo,gas,turbo,four,sedan,rwd,four,114,5400,19,25,22625\n",
      "audi,gas,turbo,four,sedan,fwd,five,140,5500,17,20,23875\n",
      "bmw,gas,std,four,sedan,rwd,six,121,4250,20,25,24565\n",
      "mercedes-benz,diesel,turbo,four,sedan,rwd,five,123,4350,22,25,25552\n",
      "mercedes-benz,diesel,turbo,two,hardtop,rwd,five,123,4350,22,25,28176\n",
      "mercedes-benz,diesel,turbo,four,wagon,rwd,five,123,4350,22,25,28248\n",
      "bmw,gas,std,four,sedan,rwd,six,182,5400,16,22,30760\n",
      "mercedes-benz,diesel,turbo,four,sedan,rwd,five,123,4350,22,25,31600\n",
      "jaguar,gas,std,four,sedan,rwd,six,176,4750,15,19,32250\n",
      "porsche,gas,std,two,hardtop,rwd,six,207,5900,17,25,32528\n",
      "porsche,gas,std,two,hardtop,rwd,six,207,5900,17,25,34028\n",
      "mercedes-benz,gas,std,four,sedan,rwd,eight,155,4750,16,18,34184\n",
      "mercedes-benz,gas,std,two,convertible,rwd,eight,155,4750,16,18,35056\n",
      "jaguar,gas,std,four,sedan,rwd,six,176,4750,15,19,35550\n",
      "jaguar,gas,std,two,sedan,rwd,twelve,262,5000,13,17,36000\n",
      "bmw,gas,std,four,sedan,rwd,six,182,5400,15,20,36880\n",
      "porsche,gas,std,two,convertible,rwd,six,207,5900,17,25,37028\n",
      "mercedes-benz,gas,std,four,sedan,rwd,eight,184,4500,14,16,40960\n",
      "bmw,gas,std,two,sedan,rwd,six,182,5400,16,22,41315\n",
      "mercedes-benz,gas,std,two,hardtop,rwd,eight,184,4500,14,16,45400\n"
     ]
    }
   ],
   "source": [
    "for line in autodata.collect():\n",
    "    print (line)"
   ]
  },
  {
   "cell_type": "code",
   "execution_count": 9,
   "metadata": {
    "collapsed": false
   },
   "outputs": [
    {
     "data": {
      "text/plain": [
       "['MAKE\\tFUELTYPE\\tASPIRE\\tDOORS\\tBODY\\tDRIVE\\tCYLINDERS\\tHP\\tRPM\\tMPG-CITY\\tMPG-HWY\\tPRICE',\n",
       " 'subaru\\tgas\\tstd\\ttwo\\thatchback\\tfwd\\tfour\\t69\\t4900\\t31\\t36\\t5118',\n",
       " 'chevrolet\\tgas\\tstd\\ttwo\\thatchback\\tfwd\\tthree\\t48\\t5100\\t47\\t53\\t5151',\n",
       " 'mazda\\tgas\\tstd\\ttwo\\thatchback\\tfwd\\tfour\\t68\\t5000\\t30\\t31\\t5195',\n",
       " 'toyota\\tgas\\tstd\\ttwo\\thatchback\\tfwd\\tfour\\t62\\t4800\\t35\\t39\\t5348']"
      ]
     },
     "execution_count": 9,
     "metadata": {},
     "output_type": "execute_result"
    }
   ],
   "source": [
    "#map data\n",
    "tsvdata = autodata.map(lambda x : x.replace(\",\", \"\\t\"))\n",
    "tsvdata.take(5)"
   ]
  },
  {
   "cell_type": "code",
   "execution_count": 10,
   "metadata": {
    "collapsed": false
   },
   "outputs": [
    {
     "data": {
      "text/plain": [
       "32"
      ]
     },
     "execution_count": 10,
     "metadata": {},
     "output_type": "execute_result"
    }
   ],
   "source": [
    "#filter and create a new rdd\n",
    "toyotadata = autodata.filter(lambda x : \"toyota\" in x)\n",
    "toyotadata.count()"
   ]
  },
  {
   "cell_type": "code",
   "execution_count": 11,
   "metadata": {
    "collapsed": false,
    "scrolled": true
   },
   "outputs": [
    {
     "data": {
      "text/plain": [
       "['toyota',\n",
       " 'gas',\n",
       " 'std',\n",
       " 'two',\n",
       " 'hatchback',\n",
       " 'fwd',\n",
       " 'four',\n",
       " '62',\n",
       " '4800',\n",
       " '35',\n",
       " '39',\n",
       " '5348',\n",
       " 'toyota',\n",
       " 'gas',\n",
       " 'std',\n",
       " 'two',\n",
       " 'hatchback',\n",
       " 'fwd',\n",
       " 'four',\n",
       " '62']"
      ]
     },
     "execution_count": 11,
     "metadata": {},
     "output_type": "execute_result"
    }
   ],
   "source": [
    "#filter map\n",
    "words = toyotadata.flatMap(lambda line:line.split(\",\"))\n",
    "words.take(20)"
   ]
  },
  {
   "cell_type": "code",
   "execution_count": 12,
   "metadata": {
    "collapsed": true
   },
   "outputs": [],
   "source": [
    "#set operations\n",
    "words1 = sc.parallelize([\"hello\", \"war\", \"peace\", \"world\"])\n",
    "words2 = sc.parallelize([\"war\" \"peace\", \"universe\"])"
   ]
  },
  {
   "cell_type": "code",
   "execution_count": 14,
   "metadata": {
    "collapsed": false
   },
   "outputs": [
    {
     "name": "stdout",
     "output_type": "stream",
     "text": [
      "hello\n",
      "universe\n",
      "warpeace\n",
      "peace\n",
      "world\n",
      "war\n"
     ]
    }
   ],
   "source": [
    "for unions in words1.union(words2).distinct().collect():\n",
    "    print(unions)"
   ]
  },
  {
   "cell_type": "code",
   "execution_count": 16,
   "metadata": {
    "collapsed": true
   },
   "outputs": [],
   "source": [
    "for intersects in words1.intersection(words2).collect():\n",
    "    print(intersects)"
   ]
  },
  {
   "cell_type": "code",
   "execution_count": 17,
   "metadata": {
    "collapsed": true
   },
   "outputs": [],
   "source": [
    "coldata = sc.parallelize([3,4,4,7,4])"
   ]
  },
  {
   "cell_type": "code",
   "execution_count": 18,
   "metadata": {
    "collapsed": false
   },
   "outputs": [
    {
     "data": {
      "text/plain": [
       "(count: 5, mean: 4.4, stdev: 1.3564659966250536, max: 7.0, min: 3.0)"
      ]
     },
     "execution_count": 18,
     "metadata": {},
     "output_type": "execute_result"
    }
   ],
   "source": [
    "coldata.stats()"
   ]
  },
  {
   "cell_type": "code",
   "execution_count": 23,
   "metadata": {
    "collapsed": false
   },
   "outputs": [
    {
     "data": {
      "text/plain": [
       "22"
      ]
     },
     "execution_count": 23,
     "metadata": {},
     "output_type": "execute_result"
    }
   ],
   "source": [
    "#reducing the data through summing\n",
    "coldata.reduce(lambda x,y: x+y)"
   ]
  },
  {
   "cell_type": "code",
   "execution_count": 24,
   "metadata": {
    "collapsed": false
   },
   "outputs": [
    {
     "data": {
      "text/plain": [
       "'bmw,gas,std,two,sedan,rwd,six,182,5400,16,22,41315'"
      ]
     },
     "execution_count": 24,
     "metadata": {},
     "output_type": "execute_result"
    }
   ],
   "source": [
    "#autodata reduce\n",
    "autodata.reduce(lambda x,y: x if len(x) < len(y) else y)"
   ]
  },
  {
   "cell_type": "code",
   "execution_count": 25,
   "metadata": {
    "collapsed": false
   },
   "outputs": [
    {
     "data": {
      "text/plain": [
       "22"
      ]
     },
     "execution_count": 25,
     "metadata": {},
     "output_type": "execute_result"
    }
   ],
   "source": [
    "#aggregations\n",
    "seqOp = (lambda x,y: (x+y))\n",
    "combOp = (lambda x,y: (x+y))\n",
    "coldata.aggregate((0), seqOp, combOp)"
   ]
  },
  {
   "cell_type": "code",
   "execution_count": 26,
   "metadata": {
    "collapsed": false
   },
   "outputs": [
    {
     "data": {
      "text/plain": [
       "(22, 1344)"
      ]
     },
     "execution_count": 26,
     "metadata": {},
     "output_type": "execute_result"
    }
   ],
   "source": [
    "#adding and mutiplication at the same time\n",
    "seqOp = (lambda x,y: (x[0]+y, x[1]*y))\n",
    "combOp = (lambda x,y: (x[0]+y[0], x[1]*y[1]))\n",
    "coldata.aggregate((0,1), seqOp, combOp)"
   ]
  },
  {
   "cell_type": "code",
   "execution_count": 28,
   "metadata": {
    "collapsed": false
   },
   "outputs": [
    {
     "data": {
      "text/plain": [
       "['MAKE,FUELTYPE,ASPIRE,4,BODY,DRIVE,CYLINDERS,HP,RPM,MPG-CITY,MPG-HWY,PRICE',\n",
       " 'subaru,gas,std,2,hatchback,FWD,four,69,4900,31,36,5118',\n",
       " 'chevrolet,gas,std,2,hatchback,FWD,three,48,5100,47,53,5151',\n",
       " 'mazda,gas,std,2,hatchback,FWD,four,68,5000,30,31,5195',\n",
       " 'toyota,gas,std,2,hatchback,FWD,four,62,4800,35,39,5348',\n",
       " 'mitsubishi,gas,std,2,hatchback,FWD,four,68,5500,37,41,5389',\n",
       " 'honda,gas,std,2,hatchback,FWD,four,60,5500,38,42,5399',\n",
       " 'nissan,gas,std,2,sedan,FWD,four,69,5200,31,37,5499',\n",
       " 'dodge,gas,std,2,hatchback,FWD,four,68,5500,37,41,5572',\n",
       " 'plymouth,gas,std,2,hatchback,FWD,four,68,5500,37,41,5572',\n",
       " 'mazda,gas,std,2,hatchback,FWD,four,68,5000,31,38,6095',\n",
       " 'mitsubishi,gas,std,2,hatchback,FWD,four,68,5500,31,38,6189',\n",
       " 'dodge,gas,std,4,hatchback,FWD,four,68,5500,31,38,6229',\n",
       " 'plymouth,gas,std,4,hatchback,FWD,four,68,5500,31,38,6229',\n",
       " 'chevrolet,gas,std,2,hatchback,FWD,four,70,5400,38,43,6295',\n",
       " 'toyota,gas,std,2,hatchback,FWD,four,62,4800,31,38,6338',\n",
       " 'dodge,gas,std,2,hatchback,FWD,four,68,5500,31,38,6377',\n",
       " 'honda,gas,std,2,hatchback,FWD,four,58,4800,49,54,6479',\n",
       " 'toyota,gas,std,4,hatchback,FWD,four,62,4800,31,38,6488',\n",
       " 'honda,gas,std,2,hatchback,FWD,four,76,6000,30,34,6529',\n",
       " 'chevrolet,gas,std,4,sedan,FWD,four,70,5400,38,43,6575',\n",
       " 'nissan,gas,std,2,sedan,FWD,four,69,5200,31,37,6649',\n",
       " 'mitsubishi,gas,std,2,hatchback,FWD,four,68,5500,31,38,6669',\n",
       " 'dodge,gas,std,4,sedan,FWD,four,68,5500,31,38,6692',\n",
       " 'plymouth,gas,std,4,sedan,FWD,four,68,5500,31,38,6692',\n",
       " 'mazda,gas,std,4,sedan,FWD,four,68,5000,31,38,6695',\n",
       " 'isuzu,gas,std,4,sedan,RWD,four,78,4800,24,29,6785',\n",
       " 'mazda,gas,std,2,hatchback,FWD,four,68,5000,31,38,6795',\n",
       " 'nissan,gas,std,4,sedan,FWD,four,69,5200,31,37,6849',\n",
       " 'honda,gas,std,2,hatchback,FWD,four,76,6000,31,38,6855',\n",
       " 'toyota,gas,std,4,wagon,FWD,four,62,4800,31,37,6918',\n",
       " 'toyota,gas,std,4,sedan,FWD,four,70,4800,30,37,6938',\n",
       " 'mitsubishi,gas,std,4,sedan,FWD,four,88,5000,25,32,6989',\n",
       " 'subaru,gas,std,2,hatchback,FWD,four,73,4400,26,31,7053',\n",
       " 'nissan,diesel,std,2,sedan,FWD,four,55,4800,45,50,7099',\n",
       " 'subaru,gas,std,4,sedan,FWD,four,82,4800,32,37,7126',\n",
       " 'honda,gas,std,2,hatchback,FWD,four,76,6000,30,34,7129',\n",
       " 'toyota,gas,std,4,hatchback,FWD,four,70,4800,30,37,7198',\n",
       " 'honda,gas,std,4,sedan,FWD,four,76,6000,30,34,7295',\n",
       " 'honda,gas,std,4,wagon,FWD,four,76,6000,30,34,7295',\n",
       " 'nissan,gas,std,2,sedan,FWD,four,69,5200,31,37,7299',\n",
       " 'nissan,gas,std,4,wagon,FWD,four,69,5200,31,37,7349',\n",
       " 'mazda,gas,std,4,sedan,FWD,four,68,5000,31,38,7395',\n",
       " 'subaru,gas,std,4,wagon,FWD,four,82,4800,28,32,7463',\n",
       " 'nissan,gas,std,4,sedan,FWD,four,69,5200,31,37,7499',\n",
       " 'subaru,gas,std,2,hatchback,4WD,four,73,4400,26,31,7603',\n",
       " 'dodge,gas,std,4,sedan,FWD,four,68,5500,31,38,7609',\n",
       " 'plymouth,gas,std,4,sedan,FWD,four,68,5500,31,38,7609',\n",
       " 'mitsubishi,gas,turbo,2,hatchback,FWD,four,102,5500,24,30,7689',\n",
       " 'toyota,gas,std,4,sedan,FWD,four,70,4800,38,47,7738',\n",
       " 'subaru,gas,std,4,sedan,FWD,four,82,4400,28,33,7775',\n",
       " 'volkswagen,diesel,std,2,sedan,FWD,four,52,4800,37,46,7775',\n",
       " 'toyota,diesel,std,4,hatchback,FWD,four,56,4500,38,47,7788',\n",
       " 'nissan,gas,std,2,hatchback,FWD,four,69,5200,31,37,7799',\n",
       " 'honda,gas,std,2,hatchback,FWD,four,86,5800,27,33,7895',\n",
       " 'toyota,gas,std,4,wagon,4WD,four,62,4800,27,32,7898',\n",
       " 'toyota,diesel,std,4,sedan,FWD,four,56,4500,34,36,7898',\n",
       " 'dodge,gas,turbo,2,hatchback,FWD,four,102,5500,24,30,7957',\n",
       " 'plymouth,gas,turbo,2,hatchback,FWD,four,102,5500,24,30,7957',\n",
       " 'volkswagen,gas,std,2,sedan,FWD,four,85,5250,27,34,7975',\n",
       " 'volkswagen,diesel,std,4,sedan,FWD,four,52,4800,37,46,7995',\n",
       " 'nissan,gas,std,4,wagon,FWD,four,69,5200,31,37,7999',\n",
       " 'subaru,gas,std,4,wagon,4WD,four,82,4800,23,29,8013',\n",
       " 'toyota,gas,std,2,sedan,RWD,four,70,4800,29,34,8058',\n",
       " 'mitsubishi,gas,std,4,sedan,FWD,four,88,5000,25,32,8189',\n",
       " 'volkswagen,gas,std,4,sedan,FWD,four,85,5250,27,34,8195',\n",
       " 'toyota,gas,std,2,hatchback,RWD,four,70,4800,29,34,8238',\n",
       " 'nissan,gas,std,2,hardtop,FWD,four,69,5200,31,37,8249',\n",
       " 'toyota,gas,std,4,hatchback,FWD,four,70,4800,28,34,8358',\n",
       " 'toyota,gas,std,2,hardtop,RWD,four,116,4800,24,30,8449',\n",
       " 'mazda,gas,std,4,sedan,FWD,four,84,4800,26,32,8495',\n",
       " 'volkswagen,gas,std,4,sedan,FWD,four,85,5250,27,34,8495',\n",
       " 'mitsubishi,gas,std,2,hatchback,FWD,four,88,5000,25,32,8499',\n",
       " 'toyota,gas,std,4,wagon,4WD,four,62,4800,27,32,8778',\n",
       " 'honda,gas,std,4,sedan,FWD,four,86,5800,27,33,8845',\n",
       " 'mazda,gas,std,2,hatchback,FWD,four,84,4800,26,32,8845',\n",
       " 'dodge,gas,std,4,wagon,FWD,four,88,5000,24,30,8921',\n",
       " 'plymouth,gas,std,4,wagon,FWD,four,88,5000,24,30,8921',\n",
       " 'toyota,gas,std,4,sedan,FWD,four,92,4200,29,34,8948',\n",
       " 'nissan,gas,std,4,hatchback,FWD,four,97,5200,27,34,8949',\n",
       " 'honda,gas,std,2,hatchback,FWD,four,86,5800,27,33,9095',\n",
       " 'subaru,gas,std,4,sedan,4WD,four,82,4800,24,25,9233',\n",
       " 'toyota,gas,std,4,sedan,FWD,four,70,4800,28,34,9258',\n",
       " 'mitsubishi,gas,turbo,4,sedan,FWD,four,116,5500,23,30,9279',\n",
       " 'mitsubishi,gas,std,4,sedan,FWD,four,116,5500,23,30,9279',\n",
       " 'toyota,gas,std,2,sedan,RWD,four,112,6600,26,29,9298',\n",
       " 'volkswagen,diesel,turbo,4,sedan,FWD,four,68,4500,37,42,9495',\n",
       " 'toyota,gas,std,2,hatchback,RWD,four,112,6600,26,29,9538',\n",
       " 'nissan,gas,std,4,sedan,FWD,four,97,5200,27,34,9549',\n",
       " 'toyota,gas,std,2,hardtop,RWD,four,116,4800,24,30,9639',\n",
       " 'mitsubishi,gas,turbo,2,hatchback,FWD,four,116,5500,23,30,9959',\n",
       " 'subaru,gas,std,4,sedan,FWD,four,94,5200,26,32,9960',\n",
       " 'volkswagen,gas,std,2,hatchback,FWD,four,90,5500,24,29,9980',\n",
       " 'toyota,gas,std,4,hatchback,FWD,four,92,4200,27,32,9988',\n",
       " 'toyota,gas,std,2,hatchback,RWD,four,116,4800,24,30,9989',\n",
       " 'volkswagen,gas,std,4,sedan,FWD,four,100,5500,26,32,9995',\n",
       " 'subaru,gas,std,4,wagon,FWD,four,94,5200,25,31,10198',\n",
       " 'mazda,gas,std,4,sedan,FWD,four,84,4800,26,32,10245',\n",
       " 'honda,gas,std,4,sedan,FWD,four,86,5800,27,33,10295',\n",
       " 'honda,gas,std,2,sedan,FWD,four,100,5500,25,31,10345',\n",
       " 'mazda,gas,std,2,hatchback,FWD,four,84,4800,26,32,10595',\n",
       " 'toyota,diesel,turbo,4,sedan,FWD,four,73,4500,30,33,10698',\n",
       " 'toyota,gas,std,4,sedan,FWD,four,92,4200,27,32,10898',\n",
       " 'mazda,gas,std,2,hatchback,RWD,two,101,6000,17,23,10945',\n",
       " 'isuzu,gas,std,2,hatchback,RWD,four,90,5000,24,29,11048',\n",
       " 'toyota,gas,std,2,hardtop,RWD,four,116,4800,24,30,11199',\n",
       " 'mazda,gas,std,4,hatchback,FWD,four,84,4800,26,32,11245',\n",
       " 'toyota,gas,std,4,hatchback,FWD,four,92,4200,27,32,11248',\n",
       " 'subaru,gas,turbo,4,sedan,4WD,four,111,4800,24,29,11259',\n",
       " 'toyota,gas,std,2,hatchback,RWD,four,116,4800,24,30,11549',\n",
       " 'volkswagen,gas,std,2,convertible,FWD,four,90,5500,24,29,11595',\n",
       " 'subaru,gas,turbo,4,wagon,4WD,four,111,4800,23,23,11694',\n",
       " 'mazda,gas,std,2,hatchback,RWD,two,101,6000,17,23,11845',\n",
       " 'saab,gas,std,2,hatchback,FWD,four,110,5250,21,28,11850',\n",
       " 'peugot,gas,std,4,sedan,RWD,four,97,5000,19,24,11900',\n",
       " 'saab,gas,std,4,sedan,FWD,four,110,5250,21,28,12170',\n",
       " 'volkswagen,gas,std,4,wagon,FWD,four,88,5500,25,31,12290',\n",
       " 'peugot,gas,std,4,wagon,RWD,four,97,5000,19,24,12440',\n",
       " 'mitsubishi,gas,turbo,2,hatchback,FWD,four,145,5000,19,24,12629',\n",
       " 'plymouth,gas,turbo,2,hatchback,RWD,four,145,5000,19,24,12764',\n",
       " 'volvo,gas,std,4,sedan,RWD,four,114,5400,23,28,12940',\n",
       " 'honda,gas,std,4,sedan,FWD,four,101,5800,24,28,12945',\n",
       " 'dodge,gas,turbo,2,hatchback,FWD,four,145,5000,19,24,12964',\n",
       " 'peugot,diesel,turbo,4,sedan,RWD,four,95,4150,28,33,13200',\n",
       " 'volkswagen,gas,std,4,sedan,FWD,five,110,5500,19,24,13295',\n",
       " 'volvo,gas,std,4,wagon,RWD,four,114,5400,23,28,13415',\n",
       " 'alfa-romero,gas,std,2,convertible,RWD,four,111,5000,21,27,13495',\n",
       " 'nissan,gas,std,4,sedan,FWD,six,152,5200,17,22,13499',\n",
       " 'nissan,gas,std,4,sedan,FWD,six,152,5200,19,25,13499',\n",
       " 'mazda,gas,std,2,hatchback,RWD,two,101,6000,17,23,13645',\n",
       " 'volkswagen,diesel,turbo,4,sedan,FWD,four,68,4500,33,38,13845',\n",
       " 'peugot,diesel,turbo,4,wagon,RWD,four,95,4150,25,25,13860',\n",
       " 'audi,gas,std,4,sedan,FWD,four,102,5500,24,30,13950',\n",
       " 'nissan,gas,std,4,wagon,FWD,six,152,5200,17,22,14399',\n",
       " 'mitsubishi,gas,turbo,2,hatchback,FWD,four,145,5000,19,24,14489',\n",
       " 'mitsubishi,gas,turbo,2,hatchback,FWD,four,145,5000,19,24,14869',\n",
       " 'saab,gas,std,2,hatchback,FWD,four,110,5250,21,28,15040',\n",
       " 'audi,gas,std,2,sedan,FWD,five,110,5500,19,25,15250',\n",
       " 'saab,gas,std,4,sedan,FWD,four,110,5250,21,28,15510',\n",
       " 'peugot,gas,std,4,sedan,RWD,four,95,5000,19,24,15580',\n",
       " 'mazda,gas,std,2,hatchback,RWD,two,135,6000,16,23,15645',\n",
       " 'toyota,gas,std,4,sedan,RWD,six,156,5200,20,24,15690',\n",
       " 'toyota,gas,std,4,wagon,RWD,six,156,5200,19,24,15750',\n",
       " 'volvo,gas,std,4,sedan,RWD,four,114,5400,24,28,15985',\n",
       " 'toyota,gas,std,2,hatchback,RWD,six,161,5200,19,24,15998',\n",
       " 'bmw,gas,std,2,sedan,RWD,four,101,5800,23,29,16430',\n",
       " 'alfa-romero,gas,std,2,convertible,RWD,four,111,5000,21,27,16500',\n",
       " 'alfa-romero,gas,std,2,hatchback,RWD,six,154,5000,19,26,16500',\n",
       " 'mercury,gas,turbo,2,hatchback,RWD,four,175,5000,19,24,16503',\n",
       " 'volvo,gas,std,4,wagon,RWD,four,114,5400,24,28,16515',\n",
       " 'toyota,gas,std,2,hatchback,RWD,six,161,5200,20,24,16558',\n",
       " 'peugot,gas,std,4,sedan,RWD,four,97,5000,19,24,16630',\n",
       " 'peugot,gas,std,4,wagon,RWD,four,95,5000,19,24,16695',\n",
       " 'volvo,gas,std,4,sedan,RWD,four,114,5400,23,28,16845',\n",
       " 'peugot,diesel,turbo,4,sedan,RWD,four,95,4150,28,33,16900',\n",
       " 'bmw,gas,std,4,sedan,RWD,four,101,5800,23,29,16925',\n",
       " 'peugot,diesel,turbo,4,wagon,RWD,four,95,4150,25,25,17075',\n",
       " 'nissan,gas,std,2,hatchback,RWD,six,160,5200,19,25,17199',\n",
       " 'audi,gas,std,4,sedan,4WD,five,115,5500,18,22,17450',\n",
       " 'toyota,gas,std,2,convertible,RWD,four,116,4800,24,30,17669',\n",
       " 'audi,gas,std,4,sedan,FWD,five,110,5500,19,25,17710',\n",
       " 'peugot,diesel,turbo,4,sedan,RWD,four,95,4150,28,33,17950',\n",
       " 'peugot,gas,turbo,4,sedan,RWD,four,142,5600,18,24,18150',\n",
       " 'saab,gas,turbo,2,hatchback,FWD,four,160,5500,19,26,18150',\n",
       " 'mazda,gas,std,4,sedan,RWD,four,120,5000,19,27,18280',\n",
       " 'mazda,diesel,std,4,sedan,RWD,four,72,4200,31,39,18344',\n",
       " 'nissan,gas,std,2,hatchback,RWD,six,160,5200,19,25,18399',\n",
       " 'volvo,gas,turbo,4,sedan,RWD,four,162,5100,17,22,18420',\n",
       " 'saab,gas,turbo,4,sedan,FWD,four,160,5500,19,26,18620',\n",
       " 'audi,gas,std,4,wagon,FWD,five,110,5500,19,25,18920',\n",
       " 'volvo,gas,turbo,4,wagon,RWD,four,162,5100,17,22,18950',\n",
       " 'volvo,gas,turbo,4,sedan,RWD,four,160,5300,19,25,19045',\n",
       " 'nissan,gas,turbo,2,hatchback,RWD,six,200,5200,17,23,19699',\n",
       " 'bmw,gas,std,2,sedan,RWD,six,121,4250,21,28,20970',\n",
       " 'bmw,gas,std,4,sedan,RWD,six,121,4250,21,28,21105',\n",
       " 'volvo,gas,std,4,sedan,RWD,six,134,5500,18,23,21485',\n",
       " 'porsche,gas,std,2,hatchback,RWD,four,143,5500,19,27,22018',\n",
       " 'volvo,diesel,turbo,4,sedan,RWD,six,106,4800,26,27,22470',\n",
       " 'volvo,gas,turbo,4,sedan,RWD,four,114,5400,19,25,22625',\n",
       " 'audi,gas,turbo,4,sedan,FWD,five,140,5500,17,20,23875',\n",
       " 'bmw,gas,std,4,sedan,RWD,six,121,4250,20,25,24565',\n",
       " 'mercedes-benz,diesel,turbo,4,sedan,RWD,five,123,4350,22,25,25552',\n",
       " 'mercedes-benz,diesel,turbo,2,hardtop,RWD,five,123,4350,22,25,28176',\n",
       " 'mercedes-benz,diesel,turbo,4,wagon,RWD,five,123,4350,22,25,28248',\n",
       " 'bmw,gas,std,4,sedan,RWD,six,182,5400,16,22,30760',\n",
       " 'mercedes-benz,diesel,turbo,4,sedan,RWD,five,123,4350,22,25,31600',\n",
       " 'jaguar,gas,std,4,sedan,RWD,six,176,4750,15,19,32250',\n",
       " 'porsche,gas,std,2,hardtop,RWD,six,207,5900,17,25,32528',\n",
       " 'porsche,gas,std,2,hardtop,RWD,six,207,5900,17,25,34028',\n",
       " 'mercedes-benz,gas,std,4,sedan,RWD,eight,155,4750,16,18,34184',\n",
       " 'mercedes-benz,gas,std,2,convertible,RWD,eight,155,4750,16,18,35056',\n",
       " 'jaguar,gas,std,4,sedan,RWD,six,176,4750,15,19,35550',\n",
       " 'jaguar,gas,std,2,sedan,RWD,twelve,262,5000,13,17,36000',\n",
       " 'bmw,gas,std,4,sedan,RWD,six,182,5400,15,20,36880',\n",
       " 'porsche,gas,std,2,convertible,RWD,six,207,5900,17,25,37028',\n",
       " 'mercedes-benz,gas,std,4,sedan,RWD,eight,184,4500,14,16,40960',\n",
       " 'bmw,gas,std,2,sedan,RWD,six,182,5400,16,22,41315',\n",
       " 'mercedes-benz,gas,std,2,hardtop,RWD,eight,184,4500,14,16,45400']"
      ]
     },
     "execution_count": 28,
     "metadata": {},
     "output_type": "execute_result"
    }
   ],
   "source": [
    "#cleanse and transform an RDD\n",
    "def cleanseRDD(autoStr) :\n",
    "    if isinstance(autoStr, int) :\n",
    "        return autoStr\n",
    "    attList=autoStr.split(\",\")\n",
    "    #convert doors to a number\n",
    "    if attList[3] == \"two\" :\n",
    "         attList[3]=\"2\"\n",
    "    else :\n",
    "         attList[3]=\"4\"\n",
    "    #Convert Drive to uppercase\n",
    "    attList[5] = attList[5].upper()\n",
    "    return \",\".join(attList)\n",
    "    \n",
    "cleanedData=autodata.map(cleanseRDD)\n",
    "cleanedData.collect()\n"
   ]
  },
  {
   "cell_type": "code",
   "execution_count": 29,
   "metadata": {
    "collapsed": false
   },
   "outputs": [
    {
     "data": {
      "text/plain": [
       "25.15228426395939"
      ]
     },
     "execution_count": 29,
     "metadata": {},
     "output_type": "execute_result"
    }
   ],
   "source": [
    "#Sue a function to perform reduce \n",
    "def getMPG( autoStr) :\n",
    "    if isinstance(autoStr, int) :\n",
    "        return autoStr\n",
    "    attList=autoStr.split(\",\")\n",
    "    if attList[9].isdigit() :\n",
    "        return int(attList[9])\n",
    "    else:\n",
    "        return 0\n",
    "\n",
    "#find average MPG-City for all cars    \n",
    "autodata.reduce(lambda x,y : getMPG(x) + getMPG(y)) \\\n",
    "    / (autodata.count()-1)"
   ]
  },
  {
   "cell_type": "code",
   "execution_count": 33,
   "metadata": {
    "collapsed": false
   },
   "outputs": [],
   "source": [
    "#creating key value pairsin our auto data. key is brand and value is\n",
    "cylData = autodata.map(lambda x: (x.split(\",\")[0], x.split(\",\")[7]))"
   ]
  },
  {
   "cell_type": "code",
   "execution_count": 34,
   "metadata": {
    "collapsed": false
   },
   "outputs": [
    {
     "data": {
      "text/plain": [
       "[('MAKE', 'HP'),\n",
       " ('subaru', '69'),\n",
       " ('chevrolet', '48'),\n",
       " ('mazda', '68'),\n",
       " ('toyota', '62')]"
      ]
     },
     "execution_count": 34,
     "metadata": {},
     "output_type": "execute_result"
    }
   ],
   "source": [
    "cylData.take(5)"
   ]
  },
  {
   "cell_type": "code",
   "execution_count": null,
   "metadata": {
    "collapsed": true
   },
   "outputs": [],
   "source": [
    "cylData.keys().collect(), cylData.values().collect()"
   ]
  },
  {
   "cell_type": "code",
   "execution_count": 38,
   "metadata": {
    "collapsed": true
   },
   "outputs": [],
   "source": [
    "#removing the header\n",
    "header = cylData.first()"
   ]
  },
  {
   "cell_type": "code",
   "execution_count": 40,
   "metadata": {
    "collapsed": true
   },
   "outputs": [],
   "source": [
    "cylHPData = cylData.filter(lambda line: line != header)"
   ]
  },
  {
   "cell_type": "code",
   "execution_count": 41,
   "metadata": {
    "collapsed": false,
    "scrolled": true
   },
   "outputs": [
    {
     "data": {
      "text/plain": [
       "[('volvo', (1408, 11)),\n",
       " ('saab', (760, 6)),\n",
       " ('mercedes-benz', (1170, 8)),\n",
       " ('alfa-romero', (376, 3)),\n",
       " ('plymouth', (607, 7)),\n",
       " ('jaguar', (614, 3)),\n",
       " ('nissan', (1846, 18)),\n",
       " ('dodge', (675, 8)),\n",
       " ('mitsubishi', (1353, 13)),\n",
       " ('mazda', (1390, 16)),\n",
       " ('chevrolet', (188, 3)),\n",
       " ('honda', (1043, 13)),\n",
       " ('subaru', (1035, 12)),\n",
       " ('porsche', (764, 4)),\n",
       " ('mercury', ('175', 1)),\n",
       " ('toyota', (2969, 32)),\n",
       " ('peugot', (1098, 11)),\n",
       " ('isuzu', (168, 2)),\n",
       " ('bmw', (1111, 8)),\n",
       " ('audi', (687, 6)),\n",
       " ('volkswagen', (973, 12))]"
      ]
     },
     "execution_count": 41,
     "metadata": {},
     "output_type": "execute_result"
    }
   ],
   "source": [
    "#Add a count 1 to each record and then reduce to find totals of HP and counts\n",
    "brandValues=cylHPData.mapValues(lambda x: (x, 1)) \\\n",
    "    .reduceByKey(lambda x, y: (int(x[0]) + int(y[0]), \\\n",
    "    x[1] + y[1])) \n",
    "brandValues.collect()"
   ]
  },
  {
   "cell_type": "code",
   "execution_count": 42,
   "metadata": {
    "collapsed": false
   },
   "outputs": [
    {
     "data": {
      "text/plain": [
       "[('volvo', 128.0),\n",
       " ('saab', 126.66666666666667),\n",
       " ('mercedes-benz', 146.25),\n",
       " ('alfa-romero', 125.33333333333333),\n",
       " ('plymouth', 86.71428571428571),\n",
       " ('jaguar', 204.66666666666666),\n",
       " ('nissan', 102.55555555555556),\n",
       " ('dodge', 84.375),\n",
       " ('mitsubishi', 104.07692307692308),\n",
       " ('mazda', 86.875),\n",
       " ('chevrolet', 62.666666666666664),\n",
       " ('honda', 80.23076923076923),\n",
       " ('subaru', 86.25),\n",
       " ('porsche', 191.0),\n",
       " ('mercury', 175.0),\n",
       " ('toyota', 92.78125),\n",
       " ('peugot', 99.81818181818181),\n",
       " ('isuzu', 84.0),\n",
       " ('bmw', 138.875),\n",
       " ('audi', 114.5),\n",
       " ('volkswagen', 81.08333333333333)]"
      ]
     },
     "execution_count": 42,
     "metadata": {},
     "output_type": "execute_result"
    }
   ],
   "source": [
    "#find average by dividing HP total by count total\n",
    "brandValues.mapValues(lambda x: int(x[0])/int(x[1])). \\\n",
    "    collect()\n"
   ]
  },
  {
   "cell_type": "code",
   "execution_count": 43,
   "metadata": {
    "collapsed": true
   },
   "outputs": [],
   "source": [
    "#............................................................................\n",
    "##   Advanced Spark : Accumulators & Broadcast Variables\n",
    "#............................................................................\n",
    "\n",
    "#function that splits the line as well as counts sedans and hatchbacks\n",
    "#Speed optimization\n",
    "\n",
    "    \n",
    "#Initialize accumulator\n",
    "sedanCount = sc.accumulator(0)\n",
    "hatchbackCount =sc.accumulator(0)\n"
   ]
  },
  {
   "cell_type": "code",
   "execution_count": 44,
   "metadata": {
    "collapsed": true
   },
   "outputs": [],
   "source": [
    "#Set Broadcast variable\n",
    "sedanText=sc.broadcast(\"sedan\")\n",
    "hatchbackText=sc.broadcast(\"hatchback\")"
   ]
  },
  {
   "cell_type": "code",
   "execution_count": 45,
   "metadata": {
    "collapsed": true
   },
   "outputs": [],
   "source": [
    "def splitLines(line) :\n",
    "\n",
    "    global sedanCount\n",
    "    global hatchbackCount\n",
    "\n",
    "    #Use broadcast variable to do comparison and set accumulator\n",
    "    if sedanText.value in line:\n",
    "        sedanCount +=1\n",
    "    if hatchbackText.value in line:\n",
    "        hatchbackCount +=1\n",
    "        \n",
    "    return line.split(\",\")\n"
   ]
  },
  {
   "cell_type": "code",
   "execution_count": 47,
   "metadata": {
    "collapsed": false
   },
   "outputs": [],
   "source": [
    "#do the map\n",
    "splitData=autodata.map(splitLines)"
   ]
  },
  {
   "cell_type": "code",
   "execution_count": 48,
   "metadata": {
    "collapsed": false
   },
   "outputs": [
    {
     "data": {
      "text/plain": [
       "198"
      ]
     },
     "execution_count": 48,
     "metadata": {},
     "output_type": "execute_result"
    }
   ],
   "source": [
    "#Make it execute the map (lazy execution)\n",
    "splitData.count()"
   ]
  },
  {
   "cell_type": "code",
   "execution_count": 49,
   "metadata": {
    "collapsed": false
   },
   "outputs": [
    {
     "name": "stdout",
     "output_type": "stream",
     "text": [
      "92 67\n"
     ]
    }
   ],
   "source": [
    "print (sedanCount, hatchbackCount)"
   ]
  },
  {
   "cell_type": "code",
   "execution_count": 50,
   "metadata": {
    "collapsed": false
   },
   "outputs": [
    {
     "data": {
      "text/plain": [
       "2"
      ]
     },
     "execution_count": 50,
     "metadata": {},
     "output_type": "execute_result"
    }
   ],
   "source": [
    "coldata.getNumPartitions()"
   ]
  },
  {
   "cell_type": "code",
   "execution_count": 2,
   "metadata": {
    "collapsed": true
   },
   "outputs": [],
   "source": [
    "#sqlcontext\n",
    "from pyspark.sql import SQLContext\n",
    "sqlcontext = SQLContext(sc)"
   ]
  },
  {
   "cell_type": "code",
   "execution_count": 53,
   "metadata": {
    "collapsed": false
   },
   "outputs": [],
   "source": [
    "empDF = sqlcontext.read.json(r'C:\\Users\\jeffnerd\\Desktop\\spark\\customerData.json')"
   ]
  },
  {
   "cell_type": "code",
   "execution_count": 54,
   "metadata": {
    "collapsed": false
   },
   "outputs": [
    {
     "name": "stdout",
     "output_type": "stream",
     "text": [
      "+---+------+------+-----------------+------+\n",
      "|age|deptid|gender|             name|salary|\n",
      "+---+------+------+-----------------+------+\n",
      "| 32|   100|  male|Benjamin Garrison|  3000|\n",
      "| 40|   200|  male|    Holland Drake|  4500|\n",
      "| 26|   100|  male|  Burks Velasquez|  2700|\n",
      "| 51|   100|female|    June Rutledge|  4300|\n",
      "| 44|   200|  male|    Nielsen Knapp|  6500|\n",
      "+---+------+------+-----------------+------+\n",
      "\n"
     ]
    }
   ],
   "source": [
    "empDF.show()"
   ]
  },
  {
   "cell_type": "code",
   "execution_count": 55,
   "metadata": {
    "collapsed": false
   },
   "outputs": [
    {
     "name": "stdout",
     "output_type": "stream",
     "text": [
      "root\n",
      " |-- age: string (nullable = true)\n",
      " |-- deptid: string (nullable = true)\n",
      " |-- gender: string (nullable = true)\n",
      " |-- name: string (nullable = true)\n",
      " |-- salary: string (nullable = true)\n",
      "\n"
     ]
    }
   ],
   "source": [
    "empDF.printSchema()"
   ]
  },
  {
   "cell_type": "code",
   "execution_count": 56,
   "metadata": {
    "collapsed": false
   },
   "outputs": [
    {
     "name": "stdout",
     "output_type": "stream",
     "text": [
      "+---+------+------+-------------+------+\n",
      "|age|deptid|gender|         name|salary|\n",
      "+---+------+------+-------------+------+\n",
      "| 40|   200|  male|Holland Drake|  4500|\n",
      "+---+------+------+-------------+------+\n",
      "\n"
     ]
    }
   ],
   "source": [
    "empDF.filter(empDF[\"age\"] == 40).show()"
   ]
  },
  {
   "cell_type": "code",
   "execution_count": 57,
   "metadata": {
    "collapsed": false
   },
   "outputs": [
    {
     "name": "stdout",
     "output_type": "stream",
     "text": [
      "+-----------------+\n",
      "|             name|\n",
      "+-----------------+\n",
      "|Benjamin Garrison|\n",
      "|    Holland Drake|\n",
      "|  Burks Velasquez|\n",
      "|    June Rutledge|\n",
      "|    Nielsen Knapp|\n",
      "+-----------------+\n",
      "\n"
     ]
    }
   ],
   "source": [
    "empDF.select(\"name\").show()"
   ]
  },
  {
   "cell_type": "code",
   "execution_count": 58,
   "metadata": {
    "collapsed": false
   },
   "outputs": [
    {
     "name": "stdout",
     "output_type": "stream",
     "text": [
      "+------+-----+\n",
      "|gender|count|\n",
      "+------+-----+\n",
      "|female|    1|\n",
      "|  male|    4|\n",
      "+------+-----+\n",
      "\n"
     ]
    }
   ],
   "source": [
    "empDF.groupby(\"gender\").count().show()"
   ]
  },
  {
   "cell_type": "code",
   "execution_count": 59,
   "metadata": {
    "collapsed": false
   },
   "outputs": [
    {
     "name": "stdout",
     "output_type": "stream",
     "text": [
      "+------+------------------+--------+\n",
      "|deptid|       avg(salary)|max(age)|\n",
      "+------+------------------+--------+\n",
      "|   200|            5500.0|      44|\n",
      "|   100|3333.3333333333335|      51|\n",
      "+------+------------------+--------+\n",
      "\n"
     ]
    }
   ],
   "source": [
    "empDF.groupby(\"deptid\").agg({\"salary\":\"avg\", \"age\":\"max\"}).show()"
   ]
  },
  {
   "cell_type": "code",
   "execution_count": 2,
   "metadata": {
    "collapsed": true
   },
   "outputs": [],
   "source": [
    "y = sc.parallelize([0,1,2,3,4,5,6,7,9,10])\n",
    "x = sc.parallelize([0,1,2,3,4,5,6,7,8,9,10])"
   ]
  },
  {
   "cell_type": "code",
   "execution_count": 3,
   "metadata": {
    "collapsed": false
   },
   "outputs": [
    {
     "data": {
      "text/plain": [
       "(count: 10, mean: 4.7, stdev: 3.1638584039112754, max: 10.0, min: 0.0)"
      ]
     },
     "execution_count": 3,
     "metadata": {},
     "output_type": "execute_result"
    }
   ],
   "source": [
    "y.count()\n",
    "y.max()\n",
    "y.min()\n",
    "y.stats()"
   ]
  },
  {
   "cell_type": "code",
   "execution_count": null,
   "metadata": {
    "collapsed": true
   },
   "outputs": [],
   "source": []
  }
 ],
 "metadata": {
  "anaconda-cloud": {},
  "kernelspec": {
   "display_name": "Python [conda root]",
   "language": "python",
   "name": "conda-root-py"
  },
  "language_info": {
   "codemirror_mode": {
    "name": "ipython",
    "version": 3
   },
   "file_extension": ".py",
   "mimetype": "text/x-python",
   "name": "python",
   "nbconvert_exporter": "python",
   "pygments_lexer": "ipython3",
   "version": "3.5.2"
  }
 },
 "nbformat": 4,
 "nbformat_minor": 1
}
