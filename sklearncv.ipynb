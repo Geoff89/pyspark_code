{
 "cells": [
  {
   "cell_type": "code",
   "execution_count": 1,
   "metadata": {
    "collapsed": true
   },
   "outputs": [],
   "source": [
    "from sklearn.model_selection import train_test_split\n",
    "from sklearn import preprocessing\n",
    "from sklearn import svm\n",
    "from sklearn.datasets import load_iris\n",
    "from sklearn.pipeline import make_pipeline"
   ]
  },
  {
   "cell_type": "code",
   "execution_count": 2,
   "metadata": {
    "collapsed": true
   },
   "outputs": [],
   "source": [
    "iris = load_iris()"
   ]
  },
  {
   "cell_type": "code",
   "execution_count": 16,
   "metadata": {
    "collapsed": false
   },
   "outputs": [],
   "source": [
    "X_train, X_test, y_train, y_test = train_test_split(iris.data, iris.target, test_size=0.4, random_state=0)"
   ]
  },
  {
   "cell_type": "code",
   "execution_count": 17,
   "metadata": {
    "collapsed": true
   },
   "outputs": [],
   "source": [
    "scaler = preprocessing.StandardScaler().fit(X_train)"
   ]
  },
  {
   "cell_type": "code",
   "execution_count": 18,
   "metadata": {
    "collapsed": false
   },
   "outputs": [],
   "source": [
    "X_train_transformed = scaler.transform(X_train)"
   ]
  },
  {
   "cell_type": "code",
   "execution_count": 19,
   "metadata": {
    "collapsed": false
   },
   "outputs": [
    {
     "data": {
      "text/plain": [
       "array([1., 1., 1., 1.])"
      ]
     },
     "execution_count": 19,
     "metadata": {},
     "output_type": "execute_result"
    }
   ],
   "source": [
    "X_train_transformed.std(axis=0)"
   ]
  },
  {
   "cell_type": "code",
   "execution_count": 20,
   "metadata": {
    "collapsed": true
   },
   "outputs": [],
   "source": [
    "clf = svm.SVC(C=1).fit(X_train_transformed,y_train)"
   ]
  },
  {
   "cell_type": "code",
   "execution_count": 21,
   "metadata": {
    "collapsed": false
   },
   "outputs": [
    {
     "data": {
      "text/plain": [
       "'rbf'"
      ]
     },
     "execution_count": 21,
     "metadata": {},
     "output_type": "execute_result"
    }
   ],
   "source": [
    "clf.kernel"
   ]
  },
  {
   "cell_type": "code",
   "execution_count": 22,
   "metadata": {
    "collapsed": true
   },
   "outputs": [],
   "source": [
    "X_test_transformed = scaler.transform(X_test)"
   ]
  },
  {
   "cell_type": "code",
   "execution_count": 23,
   "metadata": {
    "collapsed": false
   },
   "outputs": [
    {
     "data": {
      "text/plain": [
       "0.9333333333333333"
      ]
     },
     "execution_count": 23,
     "metadata": {},
     "output_type": "execute_result"
    }
   ],
   "source": [
    "clf.score(X_test_transformed,y_test)"
   ]
  },
  {
   "cell_type": "code",
   "execution_count": 24,
   "metadata": {
    "collapsed": true
   },
   "outputs": [],
   "source": [
    "#using a pipeline\n",
    "clf = make_pipeline(preprocessing.StandardScaler(), svm.SVC(C=1))"
   ]
  },
  {
   "cell_type": "code",
   "execution_count": 25,
   "metadata": {
    "collapsed": true
   },
   "outputs": [],
   "source": [
    "from sklearn.model_selection import cross_val_score"
   ]
  },
  {
   "cell_type": "code",
   "execution_count": 26,
   "metadata": {
    "collapsed": false
   },
   "outputs": [
    {
     "data": {
      "text/plain": [
       "array([0.96666667, 0.96666667, 0.96666667, 0.93333333, 1.        ])"
      ]
     },
     "execution_count": 26,
     "metadata": {},
     "output_type": "execute_result"
    }
   ],
   "source": [
    "cross_val_score(clf, iris.data, iris.target, cv=5)"
   ]
  },
  {
   "cell_type": "code",
   "execution_count": 28,
   "metadata": {
    "collapsed": true
   },
   "outputs": [],
   "source": [
    "#obtaining predictions by cross validation\n",
    "from sklearn.model_selection import cross_val_predict\n",
    "from sklearn import metrics"
   ]
  },
  {
   "cell_type": "code",
   "execution_count": 29,
   "metadata": {
    "collapsed": true
   },
   "outputs": [],
   "source": [
    "predicted = cross_val_predict(clf, iris.data, iris.target, cv=10)"
   ]
  },
  {
   "cell_type": "code",
   "execution_count": 30,
   "metadata": {
    "collapsed": false
   },
   "outputs": [
    {
     "data": {
      "text/plain": [
       "0.9666666666666667"
      ]
     },
     "execution_count": 30,
     "metadata": {},
     "output_type": "execute_result"
    }
   ],
   "source": [
    "metrics.accuracy_score(iris.target, predicted)"
   ]
  },
  {
   "cell_type": "code",
   "execution_count": 31,
   "metadata": {
    "collapsed": true
   },
   "outputs": [],
   "source": [
    "#different cross validation strategies\n",
    "from sklearn.model_selection import KFold"
   ]
  },
  {
   "cell_type": "code",
   "execution_count": 32,
   "metadata": {
    "collapsed": false
   },
   "outputs": [
    {
     "name": "stdout",
     "output_type": "stream",
     "text": [
      "[2 3] [0 1]\n",
      "[0 1] [2 3]\n"
     ]
    }
   ],
   "source": [
    "x =[\"a\", \"b\", \"c\", \"d\"]\n",
    "kf = KFold(n_splits=2)\n",
    "for train, test in kf.split(x):\n",
    "    print(\"%s %s\" %(train, test))"
   ]
  },
  {
   "cell_type": "code",
   "execution_count": 33,
   "metadata": {
    "collapsed": true
   },
   "outputs": [],
   "source": [
    "#the first set is the training and the seconfd set is the test set\n",
    "#this can create training and test sets based on numpy indexing\n",
    "import numpy as np"
   ]
  },
  {
   "cell_type": "code",
   "execution_count": 34,
   "metadata": {
    "collapsed": true
   },
   "outputs": [],
   "source": [
    "X = np.array([[0.,0.], [1.,1.],[-1.,1.],[2.,2.]])\n",
    "y = np.array([0,1,1,1])"
   ]
  },
  {
   "cell_type": "code",
   "execution_count": 35,
   "metadata": {
    "collapsed": true
   },
   "outputs": [],
   "source": [
    "X_train,X_test, y_train,y_test = X[train],X[test],y[train],y[test]"
   ]
  },
  {
   "cell_type": "code",
   "execution_count": 36,
   "metadata": {
    "collapsed": false
   },
   "outputs": [
    {
     "data": {
      "text/plain": [
       "array([[0., 0.],\n",
       "       [1., 1.]])"
      ]
     },
     "execution_count": 36,
     "metadata": {},
     "output_type": "execute_result"
    }
   ],
   "source": [
    "X_train"
   ]
  },
  {
   "cell_type": "code",
   "execution_count": 37,
   "metadata": {
    "collapsed": false
   },
   "outputs": [
    {
     "data": {
      "text/plain": [
       "array([[-1.,  1.],\n",
       "       [ 2.,  2.]])"
      ]
     },
     "execution_count": 37,
     "metadata": {},
     "output_type": "execute_result"
    }
   ],
   "source": [
    "X_test"
   ]
  },
  {
   "cell_type": "code",
   "execution_count": 38,
   "metadata": {
    "collapsed": false
   },
   "outputs": [
    {
     "data": {
      "text/plain": [
       "array([0, 1])"
      ]
     },
     "execution_count": 38,
     "metadata": {},
     "output_type": "execute_result"
    }
   ],
   "source": [
    "y_train"
   ]
  },
  {
   "cell_type": "code",
   "execution_count": 39,
   "metadata": {
    "collapsed": false
   },
   "outputs": [
    {
     "data": {
      "text/plain": [
       "array([1, 1])"
      ]
     },
     "execution_count": 39,
     "metadata": {},
     "output_type": "execute_result"
    }
   ],
   "source": [
    "y_test"
   ]
  },
  {
   "cell_type": "code",
   "execution_count": 40,
   "metadata": {
    "collapsed": true
   },
   "outputs": [],
   "source": [
    "#leave one out(LOO)\n",
    "from sklearn.model_selection import LeaveOneOut"
   ]
  },
  {
   "cell_type": "code",
   "execution_count": 41,
   "metadata": {
    "collapsed": true
   },
   "outputs": [],
   "source": [
    "x = [1,2,3,4]"
   ]
  },
  {
   "cell_type": "code",
   "execution_count": 43,
   "metadata": {
    "collapsed": false
   },
   "outputs": [
    {
     "name": "stdout",
     "output_type": "stream",
     "text": [
      "[1 2 3] [0]\n",
      "[0 2 3] [1]\n",
      "[0 1 3] [2]\n",
      "[0 1 2] [3]\n"
     ]
    }
   ],
   "source": [
    "loo = LeaveOneOut()\n",
    "for train, test in loo.split(x):\n",
    "    print(\"%s %s\" %(train, test))\n"
   ]
  },
  {
   "cell_type": "code",
   "execution_count": 44,
   "metadata": {
    "collapsed": true
   },
   "outputs": [],
   "source": [
    "#leave p out cv\n",
    "from sklearn.model_selection import LeavePOut"
   ]
  },
  {
   "cell_type": "code",
   "execution_count": 45,
   "metadata": {
    "collapsed": false
   },
   "outputs": [
    {
     "name": "stdout",
     "output_type": "stream",
     "text": [
      "[2 3] [0 1]\n",
      "[1 3] [0 2]\n",
      "[1 2] [0 3]\n",
      "[0 3] [1 2]\n",
      "[0 2] [1 3]\n",
      "[0 1] [2 3]\n"
     ]
    }
   ],
   "source": [
    "X = np.ones(4)\n",
    "lpo = LeavePOut(p=2)\n",
    "for train, test in lpo.split(x):\n",
    "    print(\"%s %s\" %(train, test))"
   ]
  },
  {
   "cell_type": "code",
   "execution_count": 48,
   "metadata": {
    "collapsed": true
   },
   "outputs": [],
   "source": [
    "#shuffle split i.e data is shuffled first before split inot training and test data sets.good alternative to kfold\n",
    "from sklearn.model_selection import ShuffleSplit"
   ]
  },
  {
   "cell_type": "code",
   "execution_count": 49,
   "metadata": {
    "collapsed": true
   },
   "outputs": [],
   "source": [
    "X = np.arange(5)\n",
    "ss = ShuffleSplit(n_splits=3, test_size=0.25, random_state=0)"
   ]
  },
  {
   "cell_type": "code",
   "execution_count": 50,
   "metadata": {
    "collapsed": false
   },
   "outputs": [
    {
     "name": "stdout",
     "output_type": "stream",
     "text": [
      "[3 1 0] [2]\n",
      "[2 1 3] [0]\n",
      "[0 2 1] [3]\n"
     ]
    }
   ],
   "source": [
    "for train, test in ss.split(x):\n",
    "    print(\"%s %s\" %(train, test))"
   ]
  },
  {
   "cell_type": "code",
   "execution_count": 51,
   "metadata": {
    "collapsed": true
   },
   "outputs": [],
   "source": [
    "#stratified k fold\n",
    "from sklearn.model_selection import StratifiedKFold"
   ]
  },
  {
   "cell_type": "code",
   "execution_count": 54,
   "metadata": {
    "collapsed": false
   },
   "outputs": [
    {
     "name": "stdout",
     "output_type": "stream",
     "text": [
      "[2 3 6 7 8 9] [0 1 4 5]\n",
      "[0 1 3 4 5 8 9] [2 6 7]\n",
      "[0 1 2 4 5 6 7] [3 8 9]\n"
     ]
    }
   ],
   "source": [
    "X = np.ones(10)\n",
    "y = [0,0,0,0,1,1,1,1,1,1]\n",
    "skf = StratifiedKFold(n_splits=3)\n",
    "for train, test in skf.split(X,y):\n",
    "    print(\"%s %s\" %(train, test))"
   ]
  },
  {
   "cell_type": "code",
   "execution_count": 55,
   "metadata": {
    "collapsed": true
   },
   "outputs": [],
   "source": [
    "#cross cvalidation of grouped data\n",
    "from sklearn.model_selection import GroupKFold"
   ]
  },
  {
   "cell_type": "code",
   "execution_count": 56,
   "metadata": {
    "collapsed": true
   },
   "outputs": [],
   "source": [
    "X = [0.1, 0.2, 2.2, 2.4, 2.3, 4.55, 5.8, 8.8, 9, 10]\n",
    "y = [\"a\", \"b\", \"b\", \"b\", \"c\", \"c\",\"c\", \"d\", \"d\",\"d\"]\n",
    "groups = [1,1,1,2,2,2,3,3,3,3]"
   ]
  },
  {
   "cell_type": "code",
   "execution_count": 57,
   "metadata": {
    "collapsed": false
   },
   "outputs": [
    {
     "name": "stdout",
     "output_type": "stream",
     "text": [
      "[0 1 2 3 4 5] [6 7 8 9]\n",
      "[0 1 2 6 7 8 9] [3 4 5]\n",
      "[3 4 5 6 7 8 9] [0 1 2]\n"
     ]
    }
   ],
   "source": [
    "gkf = GroupKFold(n_splits=3)\n",
    "for train, test in gkf.split(X, y, groups = groups):\n",
    "    print(\"%s %s\" %(train, test))"
   ]
  },
  {
   "cell_type": "code",
   "execution_count": 58,
   "metadata": {
    "collapsed": true
   },
   "outputs": [],
   "source": [
    "from sklearn.model_selection import LeaveOneGroupOut"
   ]
  },
  {
   "cell_type": "code",
   "execution_count": 59,
   "metadata": {
    "collapsed": true
   },
   "outputs": [],
   "source": [
    "X = [1,5,10,50,60,70,80]\n",
    "y = [0,1,1,2,2,2,2]\n",
    "groups = [1,1,2,2,3,3,3]"
   ]
  },
  {
   "cell_type": "code",
   "execution_count": 60,
   "metadata": {
    "collapsed": false
   },
   "outputs": [
    {
     "name": "stdout",
     "output_type": "stream",
     "text": [
      "[2 3 4 5 6] [0 1]\n",
      "[0 1 4 5 6] [2 3]\n",
      "[0 1 2 3] [4 5 6]\n"
     ]
    }
   ],
   "source": [
    "logo = LeaveOneGroupOut()\n",
    "for train, test in logo.split(X,y, groups = groups):\n",
    "    print(\"%s %s\" %(train, test))"
   ]
  },
  {
   "cell_type": "code",
   "execution_count": 62,
   "metadata": {
    "collapsed": false
   },
   "outputs": [],
   "source": [
    "from sklearn.model_selection import LeavePGroupsOut"
   ]
  },
  {
   "cell_type": "code",
   "execution_count": 63,
   "metadata": {
    "collapsed": true
   },
   "outputs": [],
   "source": [
    "X = np.arange(6)\n",
    "y = [1,1,1,2,2,2]\n",
    "groups = [1,1,2,2,3,3]"
   ]
  },
  {
   "cell_type": "code",
   "execution_count": 64,
   "metadata": {
    "collapsed": false
   },
   "outputs": [
    {
     "name": "stdout",
     "output_type": "stream",
     "text": [
      "[4 5] [0 1 2 3]\n",
      "[2 3] [0 1 4 5]\n",
      "[0 1] [2 3 4 5]\n"
     ]
    }
   ],
   "source": [
    "lpgo = LeavePGroupsOut(n_groups=2)\n",
    "for train, test in lpgo.split(X,y, groups = groups):\n",
    "    print(\"%s %s\" %(train, test))"
   ]
  },
  {
   "cell_type": "code",
   "execution_count": 65,
   "metadata": {
    "collapsed": true
   },
   "outputs": [],
   "source": [
    "#group shuffle split.alternative to groupkfold\n",
    "from sklearn.model_selection import GroupShuffleSplit"
   ]
  },
  {
   "cell_type": "code",
   "execution_count": 69,
   "metadata": {
    "collapsed": true
   },
   "outputs": [],
   "source": [
    "X = [0.1, 0.2, 2.2, 2.4, 2.3, 4.55, 5.8, 8.8, 9, 10]\n",
    "y = [\"a\", \"b\", \"b\", \"b\", \"c\", \"c\",\"c\", \"d\", \"d\",\"d\"]\n",
    "groups = [1,1,1,2,2,2,3,3,3,3]"
   ]
  },
  {
   "cell_type": "code",
   "execution_count": 70,
   "metadata": {
    "collapsed": false
   },
   "outputs": [
    {
     "name": "stdout",
     "output_type": "stream",
     "text": [
      "[0 1 2] [3 4 5 6 7 8 9]\n",
      "[3 4 5] [0 1 2 6 7 8 9]\n",
      "[3 4 5] [0 1 2 6 7 8 9]\n",
      "[3 4 5] [0 1 2 6 7 8 9]\n"
     ]
    }
   ],
   "source": [
    "gss = GroupShuffleSplit(n_splits=4,random_state=0,test_size=0.5)\n",
    "for train, test in gss.split(X,y, groups = groups):\n",
    "    print(\"%s %s\" %(train, test))"
   ]
  },
  {
   "cell_type": "code",
   "execution_count": 71,
   "metadata": {
    "collapsed": true
   },
   "outputs": [],
   "source": [
    "#cv for time series\n",
    "from sklearn.model_selection import TimeSeriesSplit"
   ]
  },
  {
   "cell_type": "code",
   "execution_count": 72,
   "metadata": {
    "collapsed": false
   },
   "outputs": [
    {
     "name": "stdout",
     "output_type": "stream",
     "text": [
      "TimeSeriesSplit(max_train_size=None, n_splits=3)\n"
     ]
    }
   ],
   "source": [
    "X = np.array([[1,2],[3,4],[1,2],[3,4],[1,2],[3,4]])\n",
    "y = np.array([1,2,3,4,5,6]) \n",
    "tscv = TimeSeriesSplit(n_splits=3)\n",
    "print(tscv)"
   ]
  },
  {
   "cell_type": "code",
   "execution_count": 73,
   "metadata": {
    "collapsed": false
   },
   "outputs": [
    {
     "name": "stdout",
     "output_type": "stream",
     "text": [
      "[0 1 2] [3]\n",
      "[0 1 2 3] [4]\n",
      "[0 1 2 3 4] [5]\n"
     ]
    }
   ],
   "source": [
    "for train, test in tscv.split(X):\n",
    "    print(\"%s %s\" %(train, test))"
   ]
  },
  {
   "cell_type": "code",
   "execution_count": 74,
   "metadata": {
    "collapsed": false
   },
   "outputs": [
    {
     "data": {
      "text/plain": [
       "<bound method Pipeline.get_params of Pipeline(memory=None,\n",
       "     steps=[('standardscaler', StandardScaler(copy=True, with_mean=True, with_std=True)), ('svc', SVC(C=1, cache_size=200, class_weight=None, coef0=0.0,\n",
       "  decision_function_shape='ovr', degree=3, gamma='auto', kernel='rbf',\n",
       "  max_iter=-1, probability=False, random_state=None, shrinking=True,\n",
       "  tol=0.001, verbose=False))])>"
      ]
     },
     "execution_count": 74,
     "metadata": {},
     "output_type": "execute_result"
    }
   ],
   "source": [
    "clf.get_params"
   ]
  },
  {
   "cell_type": "code",
   "execution_count": 3,
   "metadata": {
    "collapsed": false
   },
   "outputs": [
    {
     "name": "stdout",
     "output_type": "stream",
     "text": [
      "Automatically created module for IPython interactive environment\n"
     ]
    }
   ],
   "source": [
    "#comparing randomized search cv and gridsearch cv\n",
    "print(__doc__)\n",
    "\n",
    "import numpy as np\n",
    "from time import time\n",
    "from scipy.stats import randint as sp_randint\n",
    "\n",
    "from sklearn.model_selection import GridSearchCV\n",
    "from sklearn.model_selection import RandomizedSearchCV\n",
    "from sklearn.datasets import load_digits\n",
    "from sklearn.ensemble import RandomForestClassifier\n"
   ]
  },
  {
   "cell_type": "code",
   "execution_count": 4,
   "metadata": {
    "collapsed": true
   },
   "outputs": [],
   "source": [
    "#get some data\n",
    "digits = load_digits()\n",
    "X, y = digits.data, digits.target"
   ]
  },
  {
   "cell_type": "code",
   "execution_count": 5,
   "metadata": {
    "collapsed": true
   },
   "outputs": [],
   "source": [
    "#building a classifier\n",
    "clf = RandomForestClassifier(n_estimators=20)"
   ]
  },
  {
   "cell_type": "code",
   "execution_count": 7,
   "metadata": {
    "collapsed": false
   },
   "outputs": [
    {
     "name": "stdout",
     "output_type": "stream",
     "text": [
      "RandomizedSearchCV took 5.63 seconds for 20 candidates parameter settings\n",
      "model with rank: 1\n",
      "Mean validation score: 0.925 (std: 0.006)\n",
      "Parameters: {'bootstrap': False, 'max_depth': None, 'min_samples_split': 6, 'min_samples_leaf': 3, 'max_features': 5, 'criterion': 'entropy'}\n",
      "\n",
      "model with rank: 2\n",
      "Mean validation score: 0.922 (std: 0.020)\n",
      "Parameters: {'bootstrap': False, 'max_depth': None, 'min_samples_split': 9, 'min_samples_leaf': 1, 'max_features': 10, 'criterion': 'gini'}\n",
      "\n",
      "model with rank: 3\n",
      "Mean validation score: 0.918 (std: 0.009)\n",
      "Parameters: {'bootstrap': True, 'max_depth': None, 'min_samples_split': 8, 'min_samples_leaf': 3, 'max_features': 7, 'criterion': 'entropy'}\n",
      "\n"
     ]
    }
   ],
   "source": [
    "#utility function toreport best scores\n",
    "def report(results, n_top = 3):\n",
    "    for i in range(1, n_top + 1):\n",
    "        candidates = np.flatnonzero(results['rank_test_score'] == i)\n",
    "        for candidate in candidates:\n",
    "            print(\"model with rank: {0}\".format(i))\n",
    "            print(\"Mean validation score: {0:.3f} (std: {1:.3f})\".format(\n",
    "                results['mean_test_score'][candidate],\n",
    "                results['std_test_score'][candidate]))\n",
    "            print(\"Parameters: {0}\".format(results['params'][candidate]))\n",
    "            print(\"\")\n",
    "\n",
    "#specify parameters and distributions to sample from\n",
    "param_dist = {\"max_depth\": [3, None],\n",
    "             \"max_features\": sp_randint(1, 11),\n",
    "             \"min_samples_split\": sp_randint(2, 11),\n",
    "             \"min_samples_leaf\": sp_randint(1,11),\n",
    "             \"bootstrap\": [True, False],\n",
    "             \"criterion\": [\"gini\", \"entropy\"]}\n",
    "#run randomized search\n",
    "n_iter_search = 20\n",
    "random_search = RandomizedSearchCV(clf, param_distributions=param_dist, \n",
    "                                   n_iter= n_iter_search)\n",
    "\n",
    "start = time()\n",
    "random_search.fit(X,y)\n",
    "print(\"RandomizedSearchCV took %0.2f seconds for %d candidates parameter settings\"\n",
    "     %((time() - start), n_iter_search))\n",
    "report(random_search.cv_results_)"
   ]
  },
  {
   "cell_type": "code",
   "execution_count": 8,
   "metadata": {
    "collapsed": false
   },
   "outputs": [
    {
     "data": {
      "text/plain": [
       "0.9248747913188647"
      ]
     },
     "execution_count": 8,
     "metadata": {},
     "output_type": "execute_result"
    }
   ],
   "source": [
    "random_search.best_score_"
   ]
  },
  {
   "cell_type": "code",
   "execution_count": 9,
   "metadata": {
    "collapsed": false
   },
   "outputs": [
    {
     "name": "stderr",
     "output_type": "stream",
     "text": [
      "C:\\Users\\jeffnerd\\Anaconda3\\lib\\site-packages\\sklearn\\utils\\deprecation.py:122: FutureWarning: You are accessing a training score ('mean_train_score'), which will not be available by default any more in 0.21. If you need training scores, please set return_train_score=True\n",
      "  warnings.warn(*warn_args, **warn_kwargs)\n",
      "C:\\Users\\jeffnerd\\Anaconda3\\lib\\site-packages\\sklearn\\utils\\deprecation.py:122: FutureWarning: You are accessing a training score ('split0_train_score'), which will not be available by default any more in 0.21. If you need training scores, please set return_train_score=True\n",
      "  warnings.warn(*warn_args, **warn_kwargs)\n",
      "C:\\Users\\jeffnerd\\Anaconda3\\lib\\site-packages\\sklearn\\utils\\deprecation.py:122: FutureWarning: You are accessing a training score ('split1_train_score'), which will not be available by default any more in 0.21. If you need training scores, please set return_train_score=True\n",
      "  warnings.warn(*warn_args, **warn_kwargs)\n",
      "C:\\Users\\jeffnerd\\Anaconda3\\lib\\site-packages\\sklearn\\utils\\deprecation.py:122: FutureWarning: You are accessing a training score ('split2_train_score'), which will not be available by default any more in 0.21. If you need training scores, please set return_train_score=True\n",
      "  warnings.warn(*warn_args, **warn_kwargs)\n",
      "C:\\Users\\jeffnerd\\Anaconda3\\lib\\site-packages\\sklearn\\utils\\deprecation.py:122: FutureWarning: You are accessing a training score ('std_train_score'), which will not be available by default any more in 0.21. If you need training scores, please set return_train_score=True\n",
      "  warnings.warn(*warn_args, **warn_kwargs)\n"
     ]
    },
    {
     "data": {
      "text/plain": [
       "{'mean_fit_time': array([0.06771231, 0.10938183, 0.1041708 , 0.07291873, 0.06250254,\n",
       "        0.06771088, 0.04687579, 0.07812778, 0.06771127, 0.09375437,\n",
       "        0.10938001, 0.05729175, 0.06250254, 0.09896215, 0.05729405,\n",
       "        0.10417255, 0.07291754, 0.05729437, 0.04687691, 0.05729461]),\n",
       " 'mean_score_time': array([0.01041706, 0.01562484, 0.00520873, 0.00520905, 0.00520873,\n",
       "        0.        , 0.        , 0.01041762, 0.        , 0.        ,\n",
       "        0.        , 0.00520873, 0.0104177 , 0.01041818, 0.00520857,\n",
       "        0.00520865, 0.00520913, 0.0104177 , 0.01562532, 0.00520873]),\n",
       " 'mean_test_score': array([0.89371174, 0.92487479, 0.9115192 , 0.9048414 , 0.81803005,\n",
       "        0.79577073, 0.77017251, 0.91040623, 0.82081247, 0.91597106,\n",
       "        0.92209238, 0.8458542 , 0.90261547, 0.91040623, 0.82804674,\n",
       "        0.91819699, 0.91374513, 0.80244853, 0.77072899, 0.80690039]),\n",
       " 'mean_train_score': array([0.98274965, 1.        , 0.99388006, 0.99332357, 0.88260107,\n",
       "        0.86420433, 0.82693862, 0.98469108, 0.87452095, 0.9894233 ,\n",
       "        1.        , 0.96243166, 0.98691911, 0.99193166, 0.8781311 ,\n",
       "        0.99749373, 0.99165063, 0.87063041, 0.83476148, 0.8722413 ]),\n",
       " 'param_bootstrap': masked_array(data=[True, False, False, False, False, True, False, True,\n",
       "                    False, True, False, False, True, False, True, True,\n",
       "                    True, False, False, True],\n",
       "              mask=[False, False, False, False, False, False, False, False,\n",
       "                    False, False, False, False, False, False, False, False,\n",
       "                    False, False, False, False],\n",
       "        fill_value='?',\n",
       "             dtype=object),\n",
       " 'param_criterion': masked_array(data=['gini', 'entropy', 'entropy', 'entropy', 'entropy',\n",
       "                    'entropy', 'gini', 'entropy', 'entropy', 'entropy',\n",
       "                    'gini', 'entropy', 'gini', 'gini', 'gini', 'entropy',\n",
       "                    'gini', 'gini', 'gini', 'entropy'],\n",
       "              mask=[False, False, False, False, False, False, False, False,\n",
       "                    False, False, False, False, False, False, False, False,\n",
       "                    False, False, False, False],\n",
       "        fill_value='?',\n",
       "             dtype=object),\n",
       " 'param_max_depth': masked_array(data=[None, None, None, None, 3, 3, 3, None, 3, None, None,\n",
       "                    None, None, None, 3, None, None, 3, 3, 3],\n",
       "              mask=[False, False, False, False, False, False, False, False,\n",
       "                    False, False, False, False, False, False, False, False,\n",
       "                    False, False, False, False],\n",
       "        fill_value='?',\n",
       "             dtype=object),\n",
       " 'param_max_features': masked_array(data=[3, 5, 7, 2, 5, 8, 1, 5, 6, 7, 10, 1, 4, 10, 8, 7, 6, 6,\n",
       "                    1, 4],\n",
       "              mask=[False, False, False, False, False, False, False, False,\n",
       "                    False, False, False, False, False, False, False, False,\n",
       "                    False, False, False, False],\n",
       "        fill_value='?',\n",
       "             dtype=object),\n",
       " 'param_min_samples_leaf': masked_array(data=[6, 3, 8, 5, 5, 5, 3, 7, 4, 6, 1, 10, 5, 8, 3, 3, 5, 3,\n",
       "                    3, 3],\n",
       "              mask=[False, False, False, False, False, False, False, False,\n",
       "                    False, False, False, False, False, False, False, False,\n",
       "                    False, False, False, False],\n",
       "        fill_value='?',\n",
       "             dtype=object),\n",
       " 'param_min_samples_split': masked_array(data=[7, 6, 6, 4, 6, 4, 7, 6, 8, 3, 9, 3, 2, 10, 3, 8, 10, 6,\n",
       "                    2, 4],\n",
       "              mask=[False, False, False, False, False, False, False, False,\n",
       "                    False, False, False, False, False, False, False, False,\n",
       "                    False, False, False, False],\n",
       "        fill_value='?',\n",
       "             dtype=object),\n",
       " 'params': [{'bootstrap': True,\n",
       "   'criterion': 'gini',\n",
       "   'max_depth': None,\n",
       "   'max_features': 3,\n",
       "   'min_samples_leaf': 6,\n",
       "   'min_samples_split': 7},\n",
       "  {'bootstrap': False,\n",
       "   'criterion': 'entropy',\n",
       "   'max_depth': None,\n",
       "   'max_features': 5,\n",
       "   'min_samples_leaf': 3,\n",
       "   'min_samples_split': 6},\n",
       "  {'bootstrap': False,\n",
       "   'criterion': 'entropy',\n",
       "   'max_depth': None,\n",
       "   'max_features': 7,\n",
       "   'min_samples_leaf': 8,\n",
       "   'min_samples_split': 6},\n",
       "  {'bootstrap': False,\n",
       "   'criterion': 'entropy',\n",
       "   'max_depth': None,\n",
       "   'max_features': 2,\n",
       "   'min_samples_leaf': 5,\n",
       "   'min_samples_split': 4},\n",
       "  {'bootstrap': False,\n",
       "   'criterion': 'entropy',\n",
       "   'max_depth': 3,\n",
       "   'max_features': 5,\n",
       "   'min_samples_leaf': 5,\n",
       "   'min_samples_split': 6},\n",
       "  {'bootstrap': True,\n",
       "   'criterion': 'entropy',\n",
       "   'max_depth': 3,\n",
       "   'max_features': 8,\n",
       "   'min_samples_leaf': 5,\n",
       "   'min_samples_split': 4},\n",
       "  {'bootstrap': False,\n",
       "   'criterion': 'gini',\n",
       "   'max_depth': 3,\n",
       "   'max_features': 1,\n",
       "   'min_samples_leaf': 3,\n",
       "   'min_samples_split': 7},\n",
       "  {'bootstrap': True,\n",
       "   'criterion': 'entropy',\n",
       "   'max_depth': None,\n",
       "   'max_features': 5,\n",
       "   'min_samples_leaf': 7,\n",
       "   'min_samples_split': 6},\n",
       "  {'bootstrap': False,\n",
       "   'criterion': 'entropy',\n",
       "   'max_depth': 3,\n",
       "   'max_features': 6,\n",
       "   'min_samples_leaf': 4,\n",
       "   'min_samples_split': 8},\n",
       "  {'bootstrap': True,\n",
       "   'criterion': 'entropy',\n",
       "   'max_depth': None,\n",
       "   'max_features': 7,\n",
       "   'min_samples_leaf': 6,\n",
       "   'min_samples_split': 3},\n",
       "  {'bootstrap': False,\n",
       "   'criterion': 'gini',\n",
       "   'max_depth': None,\n",
       "   'max_features': 10,\n",
       "   'min_samples_leaf': 1,\n",
       "   'min_samples_split': 9},\n",
       "  {'bootstrap': False,\n",
       "   'criterion': 'entropy',\n",
       "   'max_depth': None,\n",
       "   'max_features': 1,\n",
       "   'min_samples_leaf': 10,\n",
       "   'min_samples_split': 3},\n",
       "  {'bootstrap': True,\n",
       "   'criterion': 'gini',\n",
       "   'max_depth': None,\n",
       "   'max_features': 4,\n",
       "   'min_samples_leaf': 5,\n",
       "   'min_samples_split': 2},\n",
       "  {'bootstrap': False,\n",
       "   'criterion': 'gini',\n",
       "   'max_depth': None,\n",
       "   'max_features': 10,\n",
       "   'min_samples_leaf': 8,\n",
       "   'min_samples_split': 10},\n",
       "  {'bootstrap': True,\n",
       "   'criterion': 'gini',\n",
       "   'max_depth': 3,\n",
       "   'max_features': 8,\n",
       "   'min_samples_leaf': 3,\n",
       "   'min_samples_split': 3},\n",
       "  {'bootstrap': True,\n",
       "   'criterion': 'entropy',\n",
       "   'max_depth': None,\n",
       "   'max_features': 7,\n",
       "   'min_samples_leaf': 3,\n",
       "   'min_samples_split': 8},\n",
       "  {'bootstrap': True,\n",
       "   'criterion': 'gini',\n",
       "   'max_depth': None,\n",
       "   'max_features': 6,\n",
       "   'min_samples_leaf': 5,\n",
       "   'min_samples_split': 10},\n",
       "  {'bootstrap': False,\n",
       "   'criterion': 'gini',\n",
       "   'max_depth': 3,\n",
       "   'max_features': 6,\n",
       "   'min_samples_leaf': 3,\n",
       "   'min_samples_split': 6},\n",
       "  {'bootstrap': False,\n",
       "   'criterion': 'gini',\n",
       "   'max_depth': 3,\n",
       "   'max_features': 1,\n",
       "   'min_samples_leaf': 3,\n",
       "   'min_samples_split': 2},\n",
       "  {'bootstrap': True,\n",
       "   'criterion': 'entropy',\n",
       "   'max_depth': 3,\n",
       "   'max_features': 4,\n",
       "   'min_samples_leaf': 3,\n",
       "   'min_samples_split': 4}],\n",
       " 'rank_test_score': array([11,  1,  6,  9, 15, 18, 20,  7, 14,  4,  2, 12, 10,  7, 13,  3,  5,\n",
       "        17, 19, 16]),\n",
       " 'split0_test_score': array([0.91694352, 0.92358804, 0.8986711 , 0.93189369, 0.8538206 ,\n",
       "        0.79900332, 0.75083056, 0.90863787, 0.84883721, 0.90863787,\n",
       "        0.90863787, 0.85049834, 0.8986711 , 0.90531561, 0.82890365,\n",
       "        0.910299  , 0.92192691, 0.82392027, 0.78405316, 0.80730897]),\n",
       " 'split0_train_score': array([0.98410042, 1.        , 0.99665272, 0.99414226, 0.88619247,\n",
       "        0.85523013, 0.82761506, 0.98158996, 0.88870293, 0.98828452,\n",
       "        1.        , 0.95732218, 0.98577406, 0.99246862, 0.87782427,\n",
       "        0.99665272, 0.9916318 , 0.88117155, 0.85857741, 0.84016736]),\n",
       " 'split1_test_score': array([0.87813022, 0.93322204, 0.93322204, 0.87312187, 0.80801336,\n",
       "        0.80801336, 0.78130217, 0.92654424, 0.8096828 , 0.92320534,\n",
       "        0.94991653, 0.83305509, 0.92320534, 0.92654424, 0.84140234,\n",
       "        0.93155259, 0.92654424, 0.80133556, 0.75959933, 0.78130217]),\n",
       " 'split1_train_score': array([0.98080134, 1.        , 0.98998331, 0.9933222 , 0.89816361,\n",
       "        0.86560935, 0.83138564, 0.98414023, 0.85559265, 0.98747913,\n",
       "        1.        , 0.96577629, 0.98497496, 0.99165275, 0.87979967,\n",
       "        0.9966611 , 0.98914858, 0.86477462, 0.83138564, 0.88146912]),\n",
       " 'split2_test_score': array([0.88590604, 0.91778523, 0.90268456, 0.90939597, 0.79194631,\n",
       "        0.78020134, 0.77852349, 0.89597315, 0.80369128, 0.91610738,\n",
       "        0.90771812, 0.85402685, 0.88590604, 0.89932886, 0.81375839,\n",
       "        0.91275168, 0.89261745, 0.78187919, 0.76845638, 0.83221477]),\n",
       " 'split2_train_score': array([0.98334721, 1.        , 0.99500416, 0.99250624, 0.86344713,\n",
       "        0.87177352, 0.82181515, 0.98834305, 0.87926728, 0.99250624,\n",
       "        1.        , 0.9641965 , 0.99000833, 0.99167361, 0.87676936,\n",
       "        0.99916736, 0.99417152, 0.86594505, 0.8143214 , 0.89508743]),\n",
       " 'std_fit_time': array([7.36676336e-03, 5.94720425e-07, 7.36608901e-03, 7.36462806e-03,\n",
       "        5.94720425e-07, 7.36608901e-03, 1.57348234e-06, 1.18944085e-06,\n",
       "        7.36614521e-03, 8.10467325e-07, 1.73024663e-06, 7.36726925e-03,\n",
       "        1.47400196e-06, 7.36569564e-03, 7.36636999e-03, 7.36715679e-03,\n",
       "        7.36445935e-03, 7.36608901e-03, 1.40377058e-06, 7.36608906e-03]),\n",
       " 'std_score_time': array([7.36597680e-03, 1.38109105e-06, 7.36625760e-03, 7.36670716e-03,\n",
       "        7.36625760e-03, 0.00000000e+00, 0.00000000e+00, 7.36636999e-03,\n",
       "        0.00000000e+00, 0.00000000e+00, 0.00000000e+00, 7.36625760e-03,\n",
       "        7.36642623e-03, 7.36676336e-03, 7.36603281e-03, 7.36614520e-03,\n",
       "        7.36681955e-03, 7.36642618e-03, 5.94720425e-07, 7.36625760e-03]),\n",
       " 'std_test_score': array([0.01679113, 0.00636005, 0.01543344, 0.02423675, 0.02623399,\n",
       "        0.01156973, 0.0137749 , 0.01252795, 0.02004043, 0.00595534,\n",
       "        0.01967823, 0.00916426, 0.01546378, 0.01167009, 0.01128782,\n",
       "        0.00949676, 0.01500264, 0.01718101, 0.01012309, 0.0207609 ]),\n",
       " 'std_train_score': array([0.00141157, 0.        , 0.00283643, 0.0006679 , 0.01439866,\n",
       "        0.00682649, 0.0039363 , 0.00278432, 0.01392763, 0.00220463,\n",
       "        0.        , 0.00367006, 0.00220863, 0.00037978, 0.001256  ,\n",
       "        0.00118344, 0.00205065, 0.00746901, 0.01822445, 0.0233512 ])}"
      ]
     },
     "execution_count": 9,
     "metadata": {},
     "output_type": "execute_result"
    }
   ],
   "source": [
    "random_search.cv_results_"
   ]
  },
  {
   "cell_type": "code",
   "execution_count": 12,
   "metadata": {
    "collapsed": false
   },
   "outputs": [
    {
     "name": "stdout",
     "output_type": "stream",
     "text": [
      "GridSearchCV took 56.11 seconds for 22 candidates parameter settings\n",
      "model with rank: 1\n",
      "Mean validation score: 0.935 (std: 0.014)\n",
      "Parameters: {'bootstrap': False, 'max_depth': None, 'min_samples_split': 10, 'min_samples_leaf': 2, 'max_features': 10, 'criterion': 'gini'}\n",
      "\n",
      "model with rank: 2\n",
      "Mean validation score: 0.931 (std: 0.004)\n",
      "Parameters: {'bootstrap': False, 'max_depth': None, 'min_samples_split': 3, 'min_samples_leaf': 2, 'max_features': 3, 'criterion': 'gini'}\n",
      "\n",
      "model with rank: 3\n",
      "Mean validation score: 0.929 (std: 0.004)\n",
      "Parameters: {'bootstrap': False, 'max_depth': None, 'min_samples_split': 10, 'min_samples_leaf': 2, 'max_features': 3, 'criterion': 'gini'}\n",
      "\n"
     ]
    }
   ],
   "source": [
    "#for grid search cv\n",
    "#specify parameters and distributions to sample from\n",
    "param_grid = {\"max_depth\": [3, None],\n",
    "             \"max_features\": [2,3,10],\n",
    "             \"min_samples_split\": [2,3,10],\n",
    "             \"min_samples_leaf\": [2,3,10],\n",
    "             \"bootstrap\": [True, False],\n",
    "             \"criterion\": [\"gini\", \"entropy\"]}\n",
    "#run gridsearch cv\n",
    "\n",
    "grid_search = GridSearchCV(clf,param_grid=param_grid)\n",
    "\n",
    "start = time()\n",
    "grid_search.fit(X,y)\n",
    "print(\"GridSearchCV took %0.2f seconds for %d candidates parameter settings\"\n",
    "     %(time() - start, len(grid_search.cv_results_)))\n",
    "report(grid_search.cv_results_)"
   ]
  },
  {
   "cell_type": "code",
   "execution_count": null,
   "metadata": {
    "collapsed": true
   },
   "outputs": [],
   "source": []
  }
 ],
 "metadata": {
  "anaconda-cloud": {},
  "kernelspec": {
   "display_name": "Python [conda root]",
   "language": "python",
   "name": "conda-root-py"
  },
  "language_info": {
   "codemirror_mode": {
    "name": "ipython",
    "version": 3
   },
   "file_extension": ".py",
   "mimetype": "text/x-python",
   "name": "python",
   "nbconvert_exporter": "python",
   "pygments_lexer": "ipython3",
   "version": "3.5.2"
  }
 },
 "nbformat": 4,
 "nbformat_minor": 1
}
