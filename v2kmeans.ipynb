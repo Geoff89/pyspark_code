{
 "cells": [
  {
   "cell_type": "code",
   "execution_count": 1,
   "metadata": {
    "collapsed": false
   },
   "outputs": [],
   "source": [
    "import os\n",
    "import sys\n",
    "\n",
    "os.chdir(\"C:/dataanalytics/python\")\n",
    "os.curdir\n",
    "\n",
    "#Configure the environment . Set this up to the directory where spark is installed\n",
    "if 'SPARK_HOME' not in os.environ:\n",
    "    os.environ['SPARK_HOME'] = 'C:\\\\spark'\n",
    "    \n",
    "#create a variable for our root path\n",
    "SPARK_HOME = os.environ['SPARK_HOME']\n",
    "\n",
    "#Add the following paths to the system path. Please check your installation\n",
    "#to make sure that these zip files actually exists. The names might change as\n",
    "#versions change\n",
    "sys.path.insert(0,os.path.join(SPARK_HOME,\"python\"))\n",
    "sys.path.insert(0,os.path.join(SPARK_HOME,\"python\",\"lib\"))\n",
    "sys.path.insert(0,os.path.join(SPARK_HOME,\"python\",\"lib\",\"py4j-0.10.6-src.zip\"))\n",
    "sys.path.insert(0,os.path.join(SPARK_HOME,\"python\",\"lib\",\"pyspark.zip\"))\n",
    " \n",
    "#Initialize a spark context\n",
    "from pyspark import SparkContext\n",
    "from pyspark import SparkConf\n",
    "\n",
    "#optionally configure spark\n",
    "conf = (SparkConf().setAppName(\"V2Maestros\").setMaster(\"local[2]\").set(\"spark.executor.memory\", \"1g\"))\n",
    "\n",
    "#Initalize spark context onl runs once\n",
    "sc = SparkContext(conf=conf)"
   ]
  },
  {
   "cell_type": "code",
   "execution_count": null,
   "metadata": {
    "collapsed": true
   },
   "outputs": [],
   "source": [
    "C:\\spark\\data\\mllib\\sample_kmeans_data.txt\n",
    "C:\\spark\\data\\mllib\\sample_lda_libsvm_data.txt    \n",
    "    "
   ]
  },
  {
   "cell_type": "code",
   "execution_count": 6,
   "metadata": {
    "collapsed": true
   },
   "outputs": [],
   "source": [
    " autoData = sc.textFile(r'C:\\Users\\jeffnerd\\Desktop\\spark\\auto-data.csv')"
   ]
  },
  {
   "cell_type": "code",
   "execution_count": 7,
   "metadata": {
    "collapsed": false
   },
   "outputs": [
    {
     "data": {
      "text/plain": [
       "C:\\Users\\jeffnerd\\Desktop\\spark\\auto-data.csv MapPartitionsRDD[1] at textFile at <unknown>:0"
      ]
     },
     "execution_count": 7,
     "metadata": {},
     "output_type": "execute_result"
    }
   ],
   "source": [
    "autoData.cache()"
   ]
  },
  {
   "cell_type": "code",
   "execution_count": 8,
   "metadata": {
    "collapsed": false
   },
   "outputs": [
    {
     "data": {
      "text/plain": [
       "197"
      ]
     },
     "execution_count": 8,
     "metadata": {},
     "output_type": "execute_result"
    }
   ],
   "source": [
    "#remove the first line\n",
    "first = autoData.first()\n",
    "dataLines = autoData.filter(lambda x: x!=first)\n",
    "dataLines.count()"
   ]
  },
  {
   "cell_type": "code",
   "execution_count": 9,
   "metadata": {
    "collapsed": true
   },
   "outputs": [],
   "source": [
    "import math"
   ]
  },
  {
   "cell_type": "code",
   "execution_count": 10,
   "metadata": {
    "collapsed": true
   },
   "outputs": [],
   "source": [
    "from pyspark.mllib.linalg import Vectors"
   ]
  },
  {
   "cell_type": "code",
   "execution_count": 21,
   "metadata": {
    "collapsed": true
   },
   "outputs": [],
   "source": [
    "from pyspark.ml.linalg import Vectors"
   ]
  },
  {
   "cell_type": "code",
   "execution_count": 22,
   "metadata": {
    "collapsed": true
   },
   "outputs": [],
   "source": [
    "#convert to alocal vector\n",
    "def transformToNumeric(inputStr):\n",
    "    attList = inputStr.split(\",\")\n",
    "    \n",
    "    doors = 1.0 if attList[3] == \"two\" else 2.0\n",
    "    body = 1.0 if attList[4] == \"sedan\" else 2.0\n",
    "    \n",
    "    #Filterou columns not wanted at this stage\n",
    "    values = Vectors.dense([doors, float(body), float(attList[7]),float(attList[8]),\\\n",
    "                            float(attList[9])])\n",
    "    return values"
   ]
  },
  {
   "cell_type": "code",
   "execution_count": 23,
   "metadata": {
    "collapsed": false
   },
   "outputs": [
    {
     "data": {
      "text/plain": [
       "197"
      ]
     },
     "execution_count": 23,
     "metadata": {},
     "output_type": "execute_result"
    }
   ],
   "source": [
    "autoVector = dataLines.map(transformToNumeric)\n",
    "autoVector.persist()\n",
    "autoVector.count()"
   ]
  },
  {
   "cell_type": "code",
   "execution_count": null,
   "metadata": {
    "collapsed": true
   },
   "outputs": [],
   "source": [
    "#centering and scaling this data i.e every value"
   ]
  },
  {
   "cell_type": "code",
   "execution_count": 13,
   "metadata": {
    "collapsed": true
   },
   "outputs": [],
   "source": [
    "#performng statistical analysis\n",
    "from pyspark.mllib.stat import Statistics"
   ]
  },
  {
   "cell_type": "code",
   "execution_count": 14,
   "metadata": {
    "collapsed": true
   },
   "outputs": [],
   "source": [
    "autoStats = Statistics.colStats(autoVector)"
   ]
  },
  {
   "cell_type": "code",
   "execution_count": 15,
   "metadata": {
    "collapsed": true
   },
   "outputs": [],
   "source": [
    "colMeans = autoStats.mean()"
   ]
  },
  {
   "cell_type": "code",
   "execution_count": 16,
   "metadata": {
    "collapsed": false
   },
   "outputs": [
    {
     "data": {
      "text/plain": [
       "array([1.56852792e+00, 1.53299492e+00, 1.03604061e+02, 5.11802030e+03,\n",
       "       2.51522843e+01])"
      ]
     },
     "execution_count": 16,
     "metadata": {},
     "output_type": "execute_result"
    }
   ],
   "source": [
    "colMeans"
   ]
  },
  {
   "cell_type": "code",
   "execution_count": 17,
   "metadata": {
    "collapsed": true
   },
   "outputs": [],
   "source": [
    "colVariance = autoStats.variance()"
   ]
  },
  {
   "cell_type": "code",
   "execution_count": 18,
   "metadata": {
    "collapsed": false
   },
   "outputs": [
    {
     "data": {
      "text/plain": [
       "array([2.46555475e-01, 2.50181291e-01, 1.41670978e+03, 2.31395551e+05,\n",
       "       4.14460789e+01])"
      ]
     },
     "execution_count": 18,
     "metadata": {},
     "output_type": "execute_result"
    }
   ],
   "source": [
    "colVariance"
   ]
  },
  {
   "cell_type": "code",
   "execution_count": null,
   "metadata": {
    "collapsed": true
   },
   "outputs": [],
   "source": [
    "colstd = [np.sqrt(x) for x in colVariance]"
   ]
  },
  {
   "cell_type": "code",
   "execution_count": 19,
   "metadata": {
    "collapsed": false
   },
   "outputs": [],
   "source": [
    "import dill\n",
    "colStdDev=dill.dumps(map(lambda x: math.sqrt(x), colVariance))"
   ]
  },
  {
   "cell_type": "code",
   "execution_count": 71,
   "metadata": {
    "collapsed": true
   },
   "outputs": [],
   "source": [
    "bcMeans = sc.broadcast(colMeans)"
   ]
  },
  {
   "cell_type": "code",
   "execution_count": 78,
   "metadata": {
    "collapsed": true
   },
   "outputs": [],
   "source": [
    "import pickle"
   ]
  },
  {
   "cell_type": "code",
   "execution_count": 80,
   "metadata": {
    "collapsed": false
   },
   "outputs": [],
   "source": [
    "bcVariance = sc.broadcast(colVariance)"
   ]
  },
  {
   "cell_type": "code",
   "execution_count": 20,
   "metadata": {
    "collapsed": false
   },
   "outputs": [],
   "source": [
    "#place the mean and sqrt to values in broadcast variable\n",
    "bcMeans = sc.broadcast(colMeans)\n",
    "bcVariance = sc.broadcast(colStdDev)"
   ]
  },
  {
   "cell_type": "code",
   "execution_count": 24,
   "metadata": {
    "collapsed": false
   },
   "outputs": [],
   "source": [
    "def centerAndScale(inVector):\n",
    "    global bcMeans\n",
    "    global bcVariance\n",
    "    \n",
    "    meanArray = bcMeans.value\n",
    "    stdArray = bcVariance.value\n",
    "    \n",
    "    valueArray = inVector.toArray()\n",
    "    retArray = []\n",
    "    for i in range(valueArray.size):\n",
    "        retArray.append( (valueArray[i] - meanArray[i]) /\\\n",
    "                        stdArray[i])\n",
    "        return Vectors.dense(retArray)"
   ]
  },
  {
   "cell_type": "code",
   "execution_count": 25,
   "metadata": {
    "collapsed": false
   },
   "outputs": [],
   "source": [
    "csAuto = autoVector.map(centerAndScale)\n"
   ]
  },
  {
   "cell_type": "code",
   "execution_count": 26,
   "metadata": {
    "collapsed": false
   },
   "outputs": [
    {
     "data": {
      "text/plain": [
       "[DenseVector([-0.0044]),\n",
       " DenseVector([-0.0044]),\n",
       " DenseVector([-0.0044]),\n",
       " DenseVector([-0.0044]),\n",
       " DenseVector([-0.0044]),\n",
       " DenseVector([-0.0044]),\n",
       " DenseVector([-0.0044]),\n",
       " DenseVector([-0.0044]),\n",
       " DenseVector([-0.0044]),\n",
       " DenseVector([-0.0044]),\n",
       " DenseVector([-0.0044]),\n",
       " DenseVector([0.0034]),\n",
       " DenseVector([0.0034]),\n",
       " DenseVector([-0.0044]),\n",
       " DenseVector([-0.0044]),\n",
       " DenseVector([-0.0044]),\n",
       " DenseVector([-0.0044]),\n",
       " DenseVector([0.0034]),\n",
       " DenseVector([-0.0044]),\n",
       " DenseVector([0.0034]),\n",
       " DenseVector([-0.0044]),\n",
       " DenseVector([-0.0044]),\n",
       " DenseVector([0.0034]),\n",
       " DenseVector([0.0034]),\n",
       " DenseVector([0.0034]),\n",
       " DenseVector([0.0034]),\n",
       " DenseVector([-0.0044]),\n",
       " DenseVector([0.0034]),\n",
       " DenseVector([-0.0044]),\n",
       " DenseVector([0.0034]),\n",
       " DenseVector([0.0034]),\n",
       " DenseVector([0.0034]),\n",
       " DenseVector([-0.0044]),\n",
       " DenseVector([-0.0044]),\n",
       " DenseVector([0.0034]),\n",
       " DenseVector([-0.0044]),\n",
       " DenseVector([0.0034]),\n",
       " DenseVector([0.0034]),\n",
       " DenseVector([0.0034]),\n",
       " DenseVector([-0.0044]),\n",
       " DenseVector([0.0034]),\n",
       " DenseVector([0.0034]),\n",
       " DenseVector([0.0034]),\n",
       " DenseVector([0.0034]),\n",
       " DenseVector([-0.0044]),\n",
       " DenseVector([0.0034]),\n",
       " DenseVector([0.0034]),\n",
       " DenseVector([-0.0044]),\n",
       " DenseVector([0.0034]),\n",
       " DenseVector([0.0034]),\n",
       " DenseVector([-0.0044]),\n",
       " DenseVector([0.0034]),\n",
       " DenseVector([-0.0044]),\n",
       " DenseVector([-0.0044]),\n",
       " DenseVector([0.0034]),\n",
       " DenseVector([0.0034]),\n",
       " DenseVector([-0.0044]),\n",
       " DenseVector([-0.0044]),\n",
       " DenseVector([-0.0044]),\n",
       " DenseVector([0.0034]),\n",
       " DenseVector([0.0034]),\n",
       " DenseVector([0.0034]),\n",
       " DenseVector([-0.0044]),\n",
       " DenseVector([0.0034]),\n",
       " DenseVector([0.0034]),\n",
       " DenseVector([-0.0044]),\n",
       " DenseVector([-0.0044]),\n",
       " DenseVector([0.0034]),\n",
       " DenseVector([-0.0044]),\n",
       " DenseVector([0.0034]),\n",
       " DenseVector([0.0034]),\n",
       " DenseVector([-0.0044]),\n",
       " DenseVector([0.0034]),\n",
       " DenseVector([0.0034]),\n",
       " DenseVector([-0.0044]),\n",
       " DenseVector([0.0034]),\n",
       " DenseVector([0.0034]),\n",
       " DenseVector([0.0034]),\n",
       " DenseVector([0.0034]),\n",
       " DenseVector([-0.0044]),\n",
       " DenseVector([0.0034]),\n",
       " DenseVector([0.0034]),\n",
       " DenseVector([0.0034]),\n",
       " DenseVector([0.0034]),\n",
       " DenseVector([-0.0044]),\n",
       " DenseVector([0.0034]),\n",
       " DenseVector([-0.0044]),\n",
       " DenseVector([0.0034]),\n",
       " DenseVector([-0.0044]),\n",
       " DenseVector([-0.0044]),\n",
       " DenseVector([0.0034]),\n",
       " DenseVector([-0.0044]),\n",
       " DenseVector([0.0034]),\n",
       " DenseVector([-0.0044]),\n",
       " DenseVector([0.0034]),\n",
       " DenseVector([0.0034]),\n",
       " DenseVector([0.0034]),\n",
       " DenseVector([0.0034]),\n",
       " DenseVector([-0.0044]),\n",
       " DenseVector([-0.0044]),\n",
       " DenseVector([0.0034]),\n",
       " DenseVector([0.0034]),\n",
       " DenseVector([-0.0044]),\n",
       " DenseVector([-0.0044]),\n",
       " DenseVector([-0.0044]),\n",
       " DenseVector([0.0034]),\n",
       " DenseVector([0.0034]),\n",
       " DenseVector([0.0034]),\n",
       " DenseVector([-0.0044]),\n",
       " DenseVector([-0.0044]),\n",
       " DenseVector([0.0034]),\n",
       " DenseVector([-0.0044]),\n",
       " DenseVector([-0.0044]),\n",
       " DenseVector([0.0034]),\n",
       " DenseVector([0.0034]),\n",
       " DenseVector([0.0034]),\n",
       " DenseVector([0.0034]),\n",
       " DenseVector([-0.0044]),\n",
       " DenseVector([-0.0044]),\n",
       " DenseVector([0.0034]),\n",
       " DenseVector([0.0034]),\n",
       " DenseVector([-0.0044]),\n",
       " DenseVector([0.0034]),\n",
       " DenseVector([0.0034]),\n",
       " DenseVector([0.0034]),\n",
       " DenseVector([-0.0044]),\n",
       " DenseVector([0.0034]),\n",
       " DenseVector([0.0034]),\n",
       " DenseVector([-0.0044]),\n",
       " DenseVector([0.0034]),\n",
       " DenseVector([0.0034]),\n",
       " DenseVector([0.0034]),\n",
       " DenseVector([0.0034]),\n",
       " DenseVector([-0.0044]),\n",
       " DenseVector([-0.0044]),\n",
       " DenseVector([-0.0044]),\n",
       " DenseVector([-0.0044]),\n",
       " DenseVector([0.0034]),\n",
       " DenseVector([0.0034]),\n",
       " DenseVector([-0.0044]),\n",
       " DenseVector([0.0034]),\n",
       " DenseVector([0.0034]),\n",
       " DenseVector([0.0034]),\n",
       " DenseVector([-0.0044]),\n",
       " DenseVector([-0.0044]),\n",
       " DenseVector([-0.0044]),\n",
       " DenseVector([-0.0044]),\n",
       " DenseVector([-0.0044]),\n",
       " DenseVector([0.0034]),\n",
       " DenseVector([-0.0044]),\n",
       " DenseVector([0.0034]),\n",
       " DenseVector([0.0034]),\n",
       " DenseVector([0.0034]),\n",
       " DenseVector([0.0034]),\n",
       " DenseVector([0.0034]),\n",
       " DenseVector([0.0034]),\n",
       " DenseVector([-0.0044]),\n",
       " DenseVector([0.0034]),\n",
       " DenseVector([-0.0044]),\n",
       " DenseVector([0.0034]),\n",
       " DenseVector([0.0034]),\n",
       " DenseVector([0.0034]),\n",
       " DenseVector([-0.0044]),\n",
       " DenseVector([0.0034]),\n",
       " DenseVector([0.0034]),\n",
       " DenseVector([-0.0044]),\n",
       " DenseVector([0.0034]),\n",
       " DenseVector([0.0034]),\n",
       " DenseVector([0.0034]),\n",
       " DenseVector([0.0034]),\n",
       " DenseVector([0.0034]),\n",
       " DenseVector([-0.0044]),\n",
       " DenseVector([-0.0044]),\n",
       " DenseVector([0.0034]),\n",
       " DenseVector([0.0034]),\n",
       " DenseVector([-0.0044]),\n",
       " DenseVector([0.0034]),\n",
       " DenseVector([0.0034]),\n",
       " DenseVector([0.0034]),\n",
       " DenseVector([0.0034]),\n",
       " DenseVector([0.0034]),\n",
       " DenseVector([-0.0044]),\n",
       " DenseVector([0.0034]),\n",
       " DenseVector([0.0034]),\n",
       " DenseVector([0.0034]),\n",
       " DenseVector([0.0034]),\n",
       " DenseVector([-0.0044]),\n",
       " DenseVector([-0.0044]),\n",
       " DenseVector([0.0034]),\n",
       " DenseVector([-0.0044]),\n",
       " DenseVector([0.0034]),\n",
       " DenseVector([-0.0044]),\n",
       " DenseVector([0.0034]),\n",
       " DenseVector([-0.0044]),\n",
       " DenseVector([0.0034]),\n",
       " DenseVector([-0.0044]),\n",
       " DenseVector([-0.0044])]"
      ]
     },
     "execution_count": 26,
     "metadata": {},
     "output_type": "execute_result"
    }
   ],
   "source": [
    "csAuto.collect()"
   ]
  },
  {
   "cell_type": "code",
   "execution_count": 2,
   "metadata": {
    "collapsed": true
   },
   "outputs": [],
   "source": [
    "from pyspark.sql import DataFrame,SparkSession,Row"
   ]
  },
  {
   "cell_type": "code",
   "execution_count": 29,
   "metadata": {
    "collapsed": false
   },
   "outputs": [],
   "source": [
    "#create spark dataframe\n",
    "autoRows = csAuto.map(lambda f: Row(features=f))\n",
    "spark = SparkSession.builder.appName(\"kmeans1\").master(\"local\").config(conf=conf).getOrCreate()\n",
    "autoDf = spark.createDataFrame(autoRows)"
   ]
  },
  {
   "cell_type": "code",
   "execution_count": 30,
   "metadata": {
    "collapsed": false
   },
   "outputs": [
    {
     "name": "stdout",
     "output_type": "stream",
     "text": [
      "+--------------------+\n",
      "|            features|\n",
      "+--------------------+\n",
      "|[-0.0044416243654...|\n",
      "|[-0.0044416243654...|\n",
      "|[-0.0044416243654...|\n",
      "|[-0.0044416243654...|\n",
      "|[-0.0044416243654...|\n",
      "|[-0.0044416243654...|\n",
      "|[-0.0044416243654...|\n",
      "|[-0.0044416243654...|\n",
      "|[-0.0044416243654...|\n",
      "|[-0.0044416243654...|\n",
      "+--------------------+\n",
      "only showing top 10 rows\n",
      "\n"
     ]
    }
   ],
   "source": [
    "autoDf.select(\"features\").show(10)"
   ]
  },
  {
   "cell_type": "code",
   "execution_count": 31,
   "metadata": {
    "collapsed": true
   },
   "outputs": [],
   "source": [
    "from pyspark.ml.clustering import KMeans"
   ]
  },
  {
   "cell_type": "code",
   "execution_count": 32,
   "metadata": {
    "collapsed": true
   },
   "outputs": [],
   "source": [
    "kmeans = KMeans(k=3, seed=1)\n",
    "model = kmeans.fit(autoDf)\n",
    "predictions = model.transform(autoDf)"
   ]
  },
  {
   "cell_type": "code",
   "execution_count": 33,
   "metadata": {
    "collapsed": false
   },
   "outputs": [
    {
     "data": {
      "text/plain": [
       "[Row(features=DenseVector([-0.0044]), prediction=1),\n",
       " Row(features=DenseVector([-0.0044]), prediction=1),\n",
       " Row(features=DenseVector([-0.0044]), prediction=1),\n",
       " Row(features=DenseVector([-0.0044]), prediction=1),\n",
       " Row(features=DenseVector([-0.0044]), prediction=1),\n",
       " Row(features=DenseVector([-0.0044]), prediction=1),\n",
       " Row(features=DenseVector([-0.0044]), prediction=1),\n",
       " Row(features=DenseVector([-0.0044]), prediction=1),\n",
       " Row(features=DenseVector([-0.0044]), prediction=1),\n",
       " Row(features=DenseVector([-0.0044]), prediction=1),\n",
       " Row(features=DenseVector([-0.0044]), prediction=1),\n",
       " Row(features=DenseVector([0.0034]), prediction=0),\n",
       " Row(features=DenseVector([0.0034]), prediction=0),\n",
       " Row(features=DenseVector([-0.0044]), prediction=1),\n",
       " Row(features=DenseVector([-0.0044]), prediction=1),\n",
       " Row(features=DenseVector([-0.0044]), prediction=1),\n",
       " Row(features=DenseVector([-0.0044]), prediction=1),\n",
       " Row(features=DenseVector([0.0034]), prediction=0),\n",
       " Row(features=DenseVector([-0.0044]), prediction=1),\n",
       " Row(features=DenseVector([0.0034]), prediction=0),\n",
       " Row(features=DenseVector([-0.0044]), prediction=1),\n",
       " Row(features=DenseVector([-0.0044]), prediction=1),\n",
       " Row(features=DenseVector([0.0034]), prediction=0),\n",
       " Row(features=DenseVector([0.0034]), prediction=0),\n",
       " Row(features=DenseVector([0.0034]), prediction=0),\n",
       " Row(features=DenseVector([0.0034]), prediction=0),\n",
       " Row(features=DenseVector([-0.0044]), prediction=1),\n",
       " Row(features=DenseVector([0.0034]), prediction=0),\n",
       " Row(features=DenseVector([-0.0044]), prediction=1),\n",
       " Row(features=DenseVector([0.0034]), prediction=0),\n",
       " Row(features=DenseVector([0.0034]), prediction=0),\n",
       " Row(features=DenseVector([0.0034]), prediction=0),\n",
       " Row(features=DenseVector([-0.0044]), prediction=1),\n",
       " Row(features=DenseVector([-0.0044]), prediction=1),\n",
       " Row(features=DenseVector([0.0034]), prediction=0),\n",
       " Row(features=DenseVector([-0.0044]), prediction=1),\n",
       " Row(features=DenseVector([0.0034]), prediction=0),\n",
       " Row(features=DenseVector([0.0034]), prediction=0),\n",
       " Row(features=DenseVector([0.0034]), prediction=0),\n",
       " Row(features=DenseVector([-0.0044]), prediction=1),\n",
       " Row(features=DenseVector([0.0034]), prediction=0),\n",
       " Row(features=DenseVector([0.0034]), prediction=0),\n",
       " Row(features=DenseVector([0.0034]), prediction=0),\n",
       " Row(features=DenseVector([0.0034]), prediction=0),\n",
       " Row(features=DenseVector([-0.0044]), prediction=1),\n",
       " Row(features=DenseVector([0.0034]), prediction=0),\n",
       " Row(features=DenseVector([0.0034]), prediction=0),\n",
       " Row(features=DenseVector([-0.0044]), prediction=1),\n",
       " Row(features=DenseVector([0.0034]), prediction=0),\n",
       " Row(features=DenseVector([0.0034]), prediction=0),\n",
       " Row(features=DenseVector([-0.0044]), prediction=1),\n",
       " Row(features=DenseVector([0.0034]), prediction=0),\n",
       " Row(features=DenseVector([-0.0044]), prediction=1),\n",
       " Row(features=DenseVector([-0.0044]), prediction=1),\n",
       " Row(features=DenseVector([0.0034]), prediction=0),\n",
       " Row(features=DenseVector([0.0034]), prediction=0),\n",
       " Row(features=DenseVector([-0.0044]), prediction=1),\n",
       " Row(features=DenseVector([-0.0044]), prediction=1),\n",
       " Row(features=DenseVector([-0.0044]), prediction=1),\n",
       " Row(features=DenseVector([0.0034]), prediction=0),\n",
       " Row(features=DenseVector([0.0034]), prediction=0),\n",
       " Row(features=DenseVector([0.0034]), prediction=0),\n",
       " Row(features=DenseVector([-0.0044]), prediction=1),\n",
       " Row(features=DenseVector([0.0034]), prediction=0),\n",
       " Row(features=DenseVector([0.0034]), prediction=0),\n",
       " Row(features=DenseVector([-0.0044]), prediction=1),\n",
       " Row(features=DenseVector([-0.0044]), prediction=1),\n",
       " Row(features=DenseVector([0.0034]), prediction=0),\n",
       " Row(features=DenseVector([-0.0044]), prediction=1),\n",
       " Row(features=DenseVector([0.0034]), prediction=0),\n",
       " Row(features=DenseVector([0.0034]), prediction=0),\n",
       " Row(features=DenseVector([-0.0044]), prediction=1),\n",
       " Row(features=DenseVector([0.0034]), prediction=0),\n",
       " Row(features=DenseVector([0.0034]), prediction=0),\n",
       " Row(features=DenseVector([-0.0044]), prediction=1),\n",
       " Row(features=DenseVector([0.0034]), prediction=0),\n",
       " Row(features=DenseVector([0.0034]), prediction=0),\n",
       " Row(features=DenseVector([0.0034]), prediction=0),\n",
       " Row(features=DenseVector([0.0034]), prediction=0),\n",
       " Row(features=DenseVector([-0.0044]), prediction=1),\n",
       " Row(features=DenseVector([0.0034]), prediction=0),\n",
       " Row(features=DenseVector([0.0034]), prediction=0),\n",
       " Row(features=DenseVector([0.0034]), prediction=0),\n",
       " Row(features=DenseVector([0.0034]), prediction=0),\n",
       " Row(features=DenseVector([-0.0044]), prediction=1),\n",
       " Row(features=DenseVector([0.0034]), prediction=0),\n",
       " Row(features=DenseVector([-0.0044]), prediction=1),\n",
       " Row(features=DenseVector([0.0034]), prediction=0),\n",
       " Row(features=DenseVector([-0.0044]), prediction=1),\n",
       " Row(features=DenseVector([-0.0044]), prediction=1),\n",
       " Row(features=DenseVector([0.0034]), prediction=0),\n",
       " Row(features=DenseVector([-0.0044]), prediction=1),\n",
       " Row(features=DenseVector([0.0034]), prediction=0),\n",
       " Row(features=DenseVector([-0.0044]), prediction=1),\n",
       " Row(features=DenseVector([0.0034]), prediction=0),\n",
       " Row(features=DenseVector([0.0034]), prediction=0),\n",
       " Row(features=DenseVector([0.0034]), prediction=0),\n",
       " Row(features=DenseVector([0.0034]), prediction=0),\n",
       " Row(features=DenseVector([-0.0044]), prediction=1),\n",
       " Row(features=DenseVector([-0.0044]), prediction=1),\n",
       " Row(features=DenseVector([0.0034]), prediction=0),\n",
       " Row(features=DenseVector([0.0034]), prediction=0),\n",
       " Row(features=DenseVector([-0.0044]), prediction=1),\n",
       " Row(features=DenseVector([-0.0044]), prediction=1),\n",
       " Row(features=DenseVector([-0.0044]), prediction=1),\n",
       " Row(features=DenseVector([0.0034]), prediction=0),\n",
       " Row(features=DenseVector([0.0034]), prediction=0),\n",
       " Row(features=DenseVector([0.0034]), prediction=0),\n",
       " Row(features=DenseVector([-0.0044]), prediction=1),\n",
       " Row(features=DenseVector([-0.0044]), prediction=1),\n",
       " Row(features=DenseVector([0.0034]), prediction=0),\n",
       " Row(features=DenseVector([-0.0044]), prediction=1),\n",
       " Row(features=DenseVector([-0.0044]), prediction=1),\n",
       " Row(features=DenseVector([0.0034]), prediction=0),\n",
       " Row(features=DenseVector([0.0034]), prediction=0),\n",
       " Row(features=DenseVector([0.0034]), prediction=0),\n",
       " Row(features=DenseVector([0.0034]), prediction=0),\n",
       " Row(features=DenseVector([-0.0044]), prediction=1),\n",
       " Row(features=DenseVector([-0.0044]), prediction=1),\n",
       " Row(features=DenseVector([0.0034]), prediction=0),\n",
       " Row(features=DenseVector([0.0034]), prediction=0),\n",
       " Row(features=DenseVector([-0.0044]), prediction=1),\n",
       " Row(features=DenseVector([0.0034]), prediction=0),\n",
       " Row(features=DenseVector([0.0034]), prediction=0),\n",
       " Row(features=DenseVector([0.0034]), prediction=0),\n",
       " Row(features=DenseVector([-0.0044]), prediction=1),\n",
       " Row(features=DenseVector([0.0034]), prediction=0),\n",
       " Row(features=DenseVector([0.0034]), prediction=0),\n",
       " Row(features=DenseVector([-0.0044]), prediction=1),\n",
       " Row(features=DenseVector([0.0034]), prediction=0),\n",
       " Row(features=DenseVector([0.0034]), prediction=0),\n",
       " Row(features=DenseVector([0.0034]), prediction=0),\n",
       " Row(features=DenseVector([0.0034]), prediction=0),\n",
       " Row(features=DenseVector([-0.0044]), prediction=1),\n",
       " Row(features=DenseVector([-0.0044]), prediction=1),\n",
       " Row(features=DenseVector([-0.0044]), prediction=1),\n",
       " Row(features=DenseVector([-0.0044]), prediction=1),\n",
       " Row(features=DenseVector([0.0034]), prediction=0),\n",
       " Row(features=DenseVector([0.0034]), prediction=0),\n",
       " Row(features=DenseVector([-0.0044]), prediction=1),\n",
       " Row(features=DenseVector([0.0034]), prediction=0),\n",
       " Row(features=DenseVector([0.0034]), prediction=0),\n",
       " Row(features=DenseVector([0.0034]), prediction=0),\n",
       " Row(features=DenseVector([-0.0044]), prediction=1),\n",
       " Row(features=DenseVector([-0.0044]), prediction=1),\n",
       " Row(features=DenseVector([-0.0044]), prediction=1),\n",
       " Row(features=DenseVector([-0.0044]), prediction=1),\n",
       " Row(features=DenseVector([-0.0044]), prediction=1),\n",
       " Row(features=DenseVector([0.0034]), prediction=0),\n",
       " Row(features=DenseVector([-0.0044]), prediction=1),\n",
       " Row(features=DenseVector([0.0034]), prediction=0),\n",
       " Row(features=DenseVector([0.0034]), prediction=0),\n",
       " Row(features=DenseVector([0.0034]), prediction=0),\n",
       " Row(features=DenseVector([0.0034]), prediction=0),\n",
       " Row(features=DenseVector([0.0034]), prediction=0),\n",
       " Row(features=DenseVector([0.0034]), prediction=0),\n",
       " Row(features=DenseVector([-0.0044]), prediction=1),\n",
       " Row(features=DenseVector([0.0034]), prediction=0),\n",
       " Row(features=DenseVector([-0.0044]), prediction=1),\n",
       " Row(features=DenseVector([0.0034]), prediction=0),\n",
       " Row(features=DenseVector([0.0034]), prediction=0),\n",
       " Row(features=DenseVector([0.0034]), prediction=0),\n",
       " Row(features=DenseVector([-0.0044]), prediction=1),\n",
       " Row(features=DenseVector([0.0034]), prediction=0),\n",
       " Row(features=DenseVector([0.0034]), prediction=0),\n",
       " Row(features=DenseVector([-0.0044]), prediction=1),\n",
       " Row(features=DenseVector([0.0034]), prediction=0),\n",
       " Row(features=DenseVector([0.0034]), prediction=0),\n",
       " Row(features=DenseVector([0.0034]), prediction=0),\n",
       " Row(features=DenseVector([0.0034]), prediction=0),\n",
       " Row(features=DenseVector([0.0034]), prediction=0),\n",
       " Row(features=DenseVector([-0.0044]), prediction=1),\n",
       " Row(features=DenseVector([-0.0044]), prediction=1),\n",
       " Row(features=DenseVector([0.0034]), prediction=0),\n",
       " Row(features=DenseVector([0.0034]), prediction=0),\n",
       " Row(features=DenseVector([-0.0044]), prediction=1),\n",
       " Row(features=DenseVector([0.0034]), prediction=0),\n",
       " Row(features=DenseVector([0.0034]), prediction=0),\n",
       " Row(features=DenseVector([0.0034]), prediction=0),\n",
       " Row(features=DenseVector([0.0034]), prediction=0),\n",
       " Row(features=DenseVector([0.0034]), prediction=0),\n",
       " Row(features=DenseVector([-0.0044]), prediction=1),\n",
       " Row(features=DenseVector([0.0034]), prediction=0),\n",
       " Row(features=DenseVector([0.0034]), prediction=0),\n",
       " Row(features=DenseVector([0.0034]), prediction=0),\n",
       " Row(features=DenseVector([0.0034]), prediction=0),\n",
       " Row(features=DenseVector([-0.0044]), prediction=1),\n",
       " Row(features=DenseVector([-0.0044]), prediction=1),\n",
       " Row(features=DenseVector([0.0034]), prediction=0),\n",
       " Row(features=DenseVector([-0.0044]), prediction=1),\n",
       " Row(features=DenseVector([0.0034]), prediction=0),\n",
       " Row(features=DenseVector([-0.0044]), prediction=1),\n",
       " Row(features=DenseVector([0.0034]), prediction=0),\n",
       " Row(features=DenseVector([-0.0044]), prediction=1),\n",
       " Row(features=DenseVector([0.0034]), prediction=0),\n",
       " Row(features=DenseVector([-0.0044]), prediction=1),\n",
       " Row(features=DenseVector([-0.0044]), prediction=1)]"
      ]
     },
     "execution_count": 33,
     "metadata": {},
     "output_type": "execute_result"
    }
   ],
   "source": [
    "predictions.collect()"
   ]
  },
  {
   "cell_type": "code",
   "execution_count": 34,
   "metadata": {
    "collapsed": true
   },
   "outputs": [],
   "source": [
    "#plot the results in a scatter plot\n",
    "import pandas as pd"
   ]
  },
  {
   "cell_type": "code",
   "execution_count": 35,
   "metadata": {
    "collapsed": true
   },
   "outputs": [],
   "source": [
    "def unstripData(inStr):\n",
    "    return(inStr[\"prediction\"],inStr[\"features\"][0,inStr[\"features\"][1],inStr[\"features\"][2],\\\n",
    "                                                inStr[\"features\"][3]])"
   ]
  },
  {
   "cell_type": "code",
   "execution_count": 37,
   "metadata": {
    "collapsed": false
   },
   "outputs": [
    {
     "ename": "Py4JJavaError",
     "evalue": "An error occurred while calling z:org.apache.spark.api.python.PythonRDD.collectAndServe.\n: org.apache.spark.SparkException: Job aborted due to stage failure: Task 0 in stage 17.0 failed 1 times, most recent failure: Lost task 0.0 in stage 17.0 (TID 31, localhost, executor driver): org.apache.spark.api.python.PythonException: Traceback (most recent call last):\n  File \"C:\\spark\\python\\lib\\pyspark.zip\\pyspark\\worker.py\", line 229, in main\n  File \"C:\\spark\\python\\lib\\pyspark.zip\\pyspark\\worker.py\", line 224, in process\n  File \"C:\\spark\\python\\lib\\pyspark.zip\\pyspark\\serializers.py\", line 372, in dump_stream\n    vs = list(itertools.islice(iterator, batch))\n  File \"<ipython-input-35-fc3dd40b3794>\", line 2, in unstripData\n  File \"C:\\spark\\python\\lib\\pyspark.zip\\pyspark\\ml\\linalg\\__init__.py\", line 399, in __getitem__\n    return self.array[item]\nIndexError: index 1 is out of bounds for axis 0 with size 1\n\r\n\tat org.apache.spark.api.python.BasePythonRunner$ReaderIterator.handlePythonException(PythonRunner.scala:298)\r\n\tat org.apache.spark.api.python.PythonRunner$$anon$1.read(PythonRunner.scala:438)\r\n\tat org.apache.spark.api.python.PythonRunner$$anon$1.read(PythonRunner.scala:421)\r\n\tat org.apache.spark.api.python.BasePythonRunner$ReaderIterator.hasNext(PythonRunner.scala:252)\r\n\tat org.apache.spark.InterruptibleIterator.hasNext(InterruptibleIterator.scala:37)\r\n\tat scala.collection.Iterator$class.foreach(Iterator.scala:893)\r\n\tat org.apache.spark.InterruptibleIterator.foreach(InterruptibleIterator.scala:28)\r\n\tat scala.collection.generic.Growable$class.$plus$plus$eq(Growable.scala:59)\r\n\tat scala.collection.mutable.ArrayBuffer.$plus$plus$eq(ArrayBuffer.scala:104)\r\n\tat scala.collection.mutable.ArrayBuffer.$plus$plus$eq(ArrayBuffer.scala:48)\r\n\tat scala.collection.TraversableOnce$class.to(TraversableOnce.scala:310)\r\n\tat org.apache.spark.InterruptibleIterator.to(InterruptibleIterator.scala:28)\r\n\tat scala.collection.TraversableOnce$class.toBuffer(TraversableOnce.scala:302)\r\n\tat org.apache.spark.InterruptibleIterator.toBuffer(InterruptibleIterator.scala:28)\r\n\tat scala.collection.TraversableOnce$class.toArray(TraversableOnce.scala:289)\r\n\tat org.apache.spark.InterruptibleIterator.toArray(InterruptibleIterator.scala:28)\r\n\tat org.apache.spark.rdd.RDD$$anonfun$collect$1$$anonfun$12.apply(RDD.scala:939)\r\n\tat org.apache.spark.rdd.RDD$$anonfun$collect$1$$anonfun$12.apply(RDD.scala:939)\r\n\tat org.apache.spark.SparkContext$$anonfun$runJob$5.apply(SparkContext.scala:2067)\r\n\tat org.apache.spark.SparkContext$$anonfun$runJob$5.apply(SparkContext.scala:2067)\r\n\tat org.apache.spark.scheduler.ResultTask.runTask(ResultTask.scala:87)\r\n\tat org.apache.spark.scheduler.Task.run(Task.scala:109)\r\n\tat org.apache.spark.executor.Executor$TaskRunner.run(Executor.scala:345)\r\n\tat java.util.concurrent.ThreadPoolExecutor.runWorker(Unknown Source)\r\n\tat java.util.concurrent.ThreadPoolExecutor$Worker.run(Unknown Source)\r\n\tat java.lang.Thread.run(Unknown Source)\r\n\nDriver stacktrace:\r\n\tat org.apache.spark.scheduler.DAGScheduler.org$apache$spark$scheduler$DAGScheduler$$failJobAndIndependentStages(DAGScheduler.scala:1599)\r\n\tat org.apache.spark.scheduler.DAGScheduler$$anonfun$abortStage$1.apply(DAGScheduler.scala:1587)\r\n\tat org.apache.spark.scheduler.DAGScheduler$$anonfun$abortStage$1.apply(DAGScheduler.scala:1586)\r\n\tat scala.collection.mutable.ResizableArray$class.foreach(ResizableArray.scala:59)\r\n\tat scala.collection.mutable.ArrayBuffer.foreach(ArrayBuffer.scala:48)\r\n\tat org.apache.spark.scheduler.DAGScheduler.abortStage(DAGScheduler.scala:1586)\r\n\tat org.apache.spark.scheduler.DAGScheduler$$anonfun$handleTaskSetFailed$1.apply(DAGScheduler.scala:831)\r\n\tat org.apache.spark.scheduler.DAGScheduler$$anonfun$handleTaskSetFailed$1.apply(DAGScheduler.scala:831)\r\n\tat scala.Option.foreach(Option.scala:257)\r\n\tat org.apache.spark.scheduler.DAGScheduler.handleTaskSetFailed(DAGScheduler.scala:831)\r\n\tat org.apache.spark.scheduler.DAGSchedulerEventProcessLoop.doOnReceive(DAGScheduler.scala:1820)\r\n\tat org.apache.spark.scheduler.DAGSchedulerEventProcessLoop.onReceive(DAGScheduler.scala:1769)\r\n\tat org.apache.spark.scheduler.DAGSchedulerEventProcessLoop.onReceive(DAGScheduler.scala:1758)\r\n\tat org.apache.spark.util.EventLoop$$anon$1.run(EventLoop.scala:48)\r\n\tat org.apache.spark.scheduler.DAGScheduler.runJob(DAGScheduler.scala:642)\r\n\tat org.apache.spark.SparkContext.runJob(SparkContext.scala:2027)\r\n\tat org.apache.spark.SparkContext.runJob(SparkContext.scala:2048)\r\n\tat org.apache.spark.SparkContext.runJob(SparkContext.scala:2067)\r\n\tat org.apache.spark.SparkContext.runJob(SparkContext.scala:2092)\r\n\tat org.apache.spark.rdd.RDD$$anonfun$collect$1.apply(RDD.scala:939)\r\n\tat org.apache.spark.rdd.RDDOperationScope$.withScope(RDDOperationScope.scala:151)\r\n\tat org.apache.spark.rdd.RDDOperationScope$.withScope(RDDOperationScope.scala:112)\r\n\tat org.apache.spark.rdd.RDD.withScope(RDD.scala:363)\r\n\tat org.apache.spark.rdd.RDD.collect(RDD.scala:938)\r\n\tat org.apache.spark.api.python.PythonRDD$.collectAndServe(PythonRDD.scala:153)\r\n\tat org.apache.spark.api.python.PythonRDD.collectAndServe(PythonRDD.scala)\r\n\tat sun.reflect.NativeMethodAccessorImpl.invoke0(Native Method)\r\n\tat sun.reflect.NativeMethodAccessorImpl.invoke(Unknown Source)\r\n\tat sun.reflect.DelegatingMethodAccessorImpl.invoke(Unknown Source)\r\n\tat java.lang.reflect.Method.invoke(Unknown Source)\r\n\tat py4j.reflection.MethodInvoker.invoke(MethodInvoker.java:244)\r\n\tat py4j.reflection.ReflectionEngine.invoke(ReflectionEngine.java:357)\r\n\tat py4j.Gateway.invoke(Gateway.java:282)\r\n\tat py4j.commands.AbstractCommand.invokeMethod(AbstractCommand.java:132)\r\n\tat py4j.commands.CallCommand.execute(CallCommand.java:79)\r\n\tat py4j.GatewayConnection.run(GatewayConnection.java:214)\r\n\tat java.lang.Thread.run(Unknown Source)\r\nCaused by: org.apache.spark.api.python.PythonException: Traceback (most recent call last):\n  File \"C:\\spark\\python\\lib\\pyspark.zip\\pyspark\\worker.py\", line 229, in main\n  File \"C:\\spark\\python\\lib\\pyspark.zip\\pyspark\\worker.py\", line 224, in process\n  File \"C:\\spark\\python\\lib\\pyspark.zip\\pyspark\\serializers.py\", line 372, in dump_stream\n    vs = list(itertools.islice(iterator, batch))\n  File \"<ipython-input-35-fc3dd40b3794>\", line 2, in unstripData\n  File \"C:\\spark\\python\\lib\\pyspark.zip\\pyspark\\ml\\linalg\\__init__.py\", line 399, in __getitem__\n    return self.array[item]\nIndexError: index 1 is out of bounds for axis 0 with size 1\n\r\n\tat org.apache.spark.api.python.BasePythonRunner$ReaderIterator.handlePythonException(PythonRunner.scala:298)\r\n\tat org.apache.spark.api.python.PythonRunner$$anon$1.read(PythonRunner.scala:438)\r\n\tat org.apache.spark.api.python.PythonRunner$$anon$1.read(PythonRunner.scala:421)\r\n\tat org.apache.spark.api.python.BasePythonRunner$ReaderIterator.hasNext(PythonRunner.scala:252)\r\n\tat org.apache.spark.InterruptibleIterator.hasNext(InterruptibleIterator.scala:37)\r\n\tat scala.collection.Iterator$class.foreach(Iterator.scala:893)\r\n\tat org.apache.spark.InterruptibleIterator.foreach(InterruptibleIterator.scala:28)\r\n\tat scala.collection.generic.Growable$class.$plus$plus$eq(Growable.scala:59)\r\n\tat scala.collection.mutable.ArrayBuffer.$plus$plus$eq(ArrayBuffer.scala:104)\r\n\tat scala.collection.mutable.ArrayBuffer.$plus$plus$eq(ArrayBuffer.scala:48)\r\n\tat scala.collection.TraversableOnce$class.to(TraversableOnce.scala:310)\r\n\tat org.apache.spark.InterruptibleIterator.to(InterruptibleIterator.scala:28)\r\n\tat scala.collection.TraversableOnce$class.toBuffer(TraversableOnce.scala:302)\r\n\tat org.apache.spark.InterruptibleIterator.toBuffer(InterruptibleIterator.scala:28)\r\n\tat scala.collection.TraversableOnce$class.toArray(TraversableOnce.scala:289)\r\n\tat org.apache.spark.InterruptibleIterator.toArray(InterruptibleIterator.scala:28)\r\n\tat org.apache.spark.rdd.RDD$$anonfun$collect$1$$anonfun$12.apply(RDD.scala:939)\r\n\tat org.apache.spark.rdd.RDD$$anonfun$collect$1$$anonfun$12.apply(RDD.scala:939)\r\n\tat org.apache.spark.SparkContext$$anonfun$runJob$5.apply(SparkContext.scala:2067)\r\n\tat org.apache.spark.SparkContext$$anonfun$runJob$5.apply(SparkContext.scala:2067)\r\n\tat org.apache.spark.scheduler.ResultTask.runTask(ResultTask.scala:87)\r\n\tat org.apache.spark.scheduler.Task.run(Task.scala:109)\r\n\tat org.apache.spark.executor.Executor$TaskRunner.run(Executor.scala:345)\r\n\tat java.util.concurrent.ThreadPoolExecutor.runWorker(Unknown Source)\r\n\tat java.util.concurrent.ThreadPoolExecutor$Worker.run(Unknown Source)\r\n\t... 1 more\r\n",
     "output_type": "error",
     "traceback": [
      "\u001b[0;31m---------------------------------------------------------------------------\u001b[0m",
      "\u001b[0;31mPy4JJavaError\u001b[0m                             Traceback (most recent call last)",
      "\u001b[0;32m<ipython-input-37-7cce2f8170e6>\u001b[0m in \u001b[0;36m<module>\u001b[0;34m()\u001b[0m\n\u001b[1;32m      1\u001b[0m \u001b[0munStripped\u001b[0m \u001b[1;33m=\u001b[0m \u001b[0mpredictions\u001b[0m\u001b[1;33m.\u001b[0m\u001b[0mrdd\u001b[0m\u001b[1;33m.\u001b[0m\u001b[0mmap\u001b[0m\u001b[1;33m(\u001b[0m\u001b[0munstripData\u001b[0m\u001b[1;33m)\u001b[0m\u001b[1;33m\u001b[0m\u001b[0m\n\u001b[0;32m----> 2\u001b[0;31m \u001b[0mpredList\u001b[0m \u001b[1;33m=\u001b[0m \u001b[0munStripped\u001b[0m\u001b[1;33m.\u001b[0m\u001b[0mcollect\u001b[0m\u001b[1;33m(\u001b[0m\u001b[1;33m)\u001b[0m\u001b[1;33m\u001b[0m\u001b[0m\n\u001b[0m\u001b[1;32m      3\u001b[0m \u001b[0mpredPd\u001b[0m \u001b[1;33m=\u001b[0m \u001b[0mpd\u001b[0m\u001b[1;33m.\u001b[0m\u001b[0mDataFrame\u001b[0m\u001b[1;33m(\u001b[0m\u001b[0mpredList\u001b[0m\u001b[1;33m)\u001b[0m\u001b[1;33m\u001b[0m\u001b[0m\n",
      "\u001b[0;32mC:\\spark\\python\\lib\\pyspark.zip\\pyspark\\rdd.py\u001b[0m in \u001b[0;36mcollect\u001b[0;34m(self)\u001b[0m\n\u001b[1;32m    822\u001b[0m         \"\"\"\n\u001b[1;32m    823\u001b[0m         \u001b[1;32mwith\u001b[0m \u001b[0mSCCallSiteSync\u001b[0m\u001b[1;33m(\u001b[0m\u001b[0mself\u001b[0m\u001b[1;33m.\u001b[0m\u001b[0mcontext\u001b[0m\u001b[1;33m)\u001b[0m \u001b[1;32mas\u001b[0m \u001b[0mcss\u001b[0m\u001b[1;33m:\u001b[0m\u001b[1;33m\u001b[0m\u001b[0m\n\u001b[0;32m--> 824\u001b[0;31m             \u001b[0mport\u001b[0m \u001b[1;33m=\u001b[0m \u001b[0mself\u001b[0m\u001b[1;33m.\u001b[0m\u001b[0mctx\u001b[0m\u001b[1;33m.\u001b[0m\u001b[0m_jvm\u001b[0m\u001b[1;33m.\u001b[0m\u001b[0mPythonRDD\u001b[0m\u001b[1;33m.\u001b[0m\u001b[0mcollectAndServe\u001b[0m\u001b[1;33m(\u001b[0m\u001b[0mself\u001b[0m\u001b[1;33m.\u001b[0m\u001b[0m_jrdd\u001b[0m\u001b[1;33m.\u001b[0m\u001b[0mrdd\u001b[0m\u001b[1;33m(\u001b[0m\u001b[1;33m)\u001b[0m\u001b[1;33m)\u001b[0m\u001b[1;33m\u001b[0m\u001b[0m\n\u001b[0m\u001b[1;32m    825\u001b[0m         \u001b[1;32mreturn\u001b[0m \u001b[0mlist\u001b[0m\u001b[1;33m(\u001b[0m\u001b[0m_load_from_socket\u001b[0m\u001b[1;33m(\u001b[0m\u001b[0mport\u001b[0m\u001b[1;33m,\u001b[0m \u001b[0mself\u001b[0m\u001b[1;33m.\u001b[0m\u001b[0m_jrdd_deserializer\u001b[0m\u001b[1;33m)\u001b[0m\u001b[1;33m)\u001b[0m\u001b[1;33m\u001b[0m\u001b[0m\n\u001b[1;32m    826\u001b[0m \u001b[1;33m\u001b[0m\u001b[0m\n",
      "\u001b[0;32mC:\\spark\\python\\lib\\py4j-0.10.6-src.zip\\py4j\\java_gateway.py\u001b[0m in \u001b[0;36m__call__\u001b[0;34m(self, *args)\u001b[0m\n\u001b[1;32m   1158\u001b[0m         \u001b[0manswer\u001b[0m \u001b[1;33m=\u001b[0m \u001b[0mself\u001b[0m\u001b[1;33m.\u001b[0m\u001b[0mgateway_client\u001b[0m\u001b[1;33m.\u001b[0m\u001b[0msend_command\u001b[0m\u001b[1;33m(\u001b[0m\u001b[0mcommand\u001b[0m\u001b[1;33m)\u001b[0m\u001b[1;33m\u001b[0m\u001b[0m\n\u001b[1;32m   1159\u001b[0m         return_value = get_return_value(\n\u001b[0;32m-> 1160\u001b[0;31m             answer, self.gateway_client, self.target_id, self.name)\n\u001b[0m\u001b[1;32m   1161\u001b[0m \u001b[1;33m\u001b[0m\u001b[0m\n\u001b[1;32m   1162\u001b[0m         \u001b[1;32mfor\u001b[0m \u001b[0mtemp_arg\u001b[0m \u001b[1;32min\u001b[0m \u001b[0mtemp_args\u001b[0m\u001b[1;33m:\u001b[0m\u001b[1;33m\u001b[0m\u001b[0m\n",
      "\u001b[0;32mC:\\spark\\python\\lib\\pyspark.zip\\pyspark\\sql\\utils.py\u001b[0m in \u001b[0;36mdeco\u001b[0;34m(*a, **kw)\u001b[0m\n\u001b[1;32m     61\u001b[0m     \u001b[1;32mdef\u001b[0m \u001b[0mdeco\u001b[0m\u001b[1;33m(\u001b[0m\u001b[1;33m*\u001b[0m\u001b[0ma\u001b[0m\u001b[1;33m,\u001b[0m \u001b[1;33m**\u001b[0m\u001b[0mkw\u001b[0m\u001b[1;33m)\u001b[0m\u001b[1;33m:\u001b[0m\u001b[1;33m\u001b[0m\u001b[0m\n\u001b[1;32m     62\u001b[0m         \u001b[1;32mtry\u001b[0m\u001b[1;33m:\u001b[0m\u001b[1;33m\u001b[0m\u001b[0m\n\u001b[0;32m---> 63\u001b[0;31m             \u001b[1;32mreturn\u001b[0m \u001b[0mf\u001b[0m\u001b[1;33m(\u001b[0m\u001b[1;33m*\u001b[0m\u001b[0ma\u001b[0m\u001b[1;33m,\u001b[0m \u001b[1;33m**\u001b[0m\u001b[0mkw\u001b[0m\u001b[1;33m)\u001b[0m\u001b[1;33m\u001b[0m\u001b[0m\n\u001b[0m\u001b[1;32m     64\u001b[0m         \u001b[1;32mexcept\u001b[0m \u001b[0mpy4j\u001b[0m\u001b[1;33m.\u001b[0m\u001b[0mprotocol\u001b[0m\u001b[1;33m.\u001b[0m\u001b[0mPy4JJavaError\u001b[0m \u001b[1;32mas\u001b[0m \u001b[0me\u001b[0m\u001b[1;33m:\u001b[0m\u001b[1;33m\u001b[0m\u001b[0m\n\u001b[1;32m     65\u001b[0m             \u001b[0ms\u001b[0m \u001b[1;33m=\u001b[0m \u001b[0me\u001b[0m\u001b[1;33m.\u001b[0m\u001b[0mjava_exception\u001b[0m\u001b[1;33m.\u001b[0m\u001b[0mtoString\u001b[0m\u001b[1;33m(\u001b[0m\u001b[1;33m)\u001b[0m\u001b[1;33m\u001b[0m\u001b[0m\n",
      "\u001b[0;32mC:\\spark\\python\\lib\\py4j-0.10.6-src.zip\\py4j\\protocol.py\u001b[0m in \u001b[0;36mget_return_value\u001b[0;34m(answer, gateway_client, target_id, name)\u001b[0m\n\u001b[1;32m    318\u001b[0m                 raise Py4JJavaError(\n\u001b[1;32m    319\u001b[0m                     \u001b[1;34m\"An error occurred while calling {0}{1}{2}.\\n\"\u001b[0m\u001b[1;33m.\u001b[0m\u001b[1;33m\u001b[0m\u001b[0m\n\u001b[0;32m--> 320\u001b[0;31m                     format(target_id, \".\", name), value)\n\u001b[0m\u001b[1;32m    321\u001b[0m             \u001b[1;32melse\u001b[0m\u001b[1;33m:\u001b[0m\u001b[1;33m\u001b[0m\u001b[0m\n\u001b[1;32m    322\u001b[0m                 raise Py4JError(\n",
      "\u001b[0;31mPy4JJavaError\u001b[0m: An error occurred while calling z:org.apache.spark.api.python.PythonRDD.collectAndServe.\n: org.apache.spark.SparkException: Job aborted due to stage failure: Task 0 in stage 17.0 failed 1 times, most recent failure: Lost task 0.0 in stage 17.0 (TID 31, localhost, executor driver): org.apache.spark.api.python.PythonException: Traceback (most recent call last):\n  File \"C:\\spark\\python\\lib\\pyspark.zip\\pyspark\\worker.py\", line 229, in main\n  File \"C:\\spark\\python\\lib\\pyspark.zip\\pyspark\\worker.py\", line 224, in process\n  File \"C:\\spark\\python\\lib\\pyspark.zip\\pyspark\\serializers.py\", line 372, in dump_stream\n    vs = list(itertools.islice(iterator, batch))\n  File \"<ipython-input-35-fc3dd40b3794>\", line 2, in unstripData\n  File \"C:\\spark\\python\\lib\\pyspark.zip\\pyspark\\ml\\linalg\\__init__.py\", line 399, in __getitem__\n    return self.array[item]\nIndexError: index 1 is out of bounds for axis 0 with size 1\n\r\n\tat org.apache.spark.api.python.BasePythonRunner$ReaderIterator.handlePythonException(PythonRunner.scala:298)\r\n\tat org.apache.spark.api.python.PythonRunner$$anon$1.read(PythonRunner.scala:438)\r\n\tat org.apache.spark.api.python.PythonRunner$$anon$1.read(PythonRunner.scala:421)\r\n\tat org.apache.spark.api.python.BasePythonRunner$ReaderIterator.hasNext(PythonRunner.scala:252)\r\n\tat org.apache.spark.InterruptibleIterator.hasNext(InterruptibleIterator.scala:37)\r\n\tat scala.collection.Iterator$class.foreach(Iterator.scala:893)\r\n\tat org.apache.spark.InterruptibleIterator.foreach(InterruptibleIterator.scala:28)\r\n\tat scala.collection.generic.Growable$class.$plus$plus$eq(Growable.scala:59)\r\n\tat scala.collection.mutable.ArrayBuffer.$plus$plus$eq(ArrayBuffer.scala:104)\r\n\tat scala.collection.mutable.ArrayBuffer.$plus$plus$eq(ArrayBuffer.scala:48)\r\n\tat scala.collection.TraversableOnce$class.to(TraversableOnce.scala:310)\r\n\tat org.apache.spark.InterruptibleIterator.to(InterruptibleIterator.scala:28)\r\n\tat scala.collection.TraversableOnce$class.toBuffer(TraversableOnce.scala:302)\r\n\tat org.apache.spark.InterruptibleIterator.toBuffer(InterruptibleIterator.scala:28)\r\n\tat scala.collection.TraversableOnce$class.toArray(TraversableOnce.scala:289)\r\n\tat org.apache.spark.InterruptibleIterator.toArray(InterruptibleIterator.scala:28)\r\n\tat org.apache.spark.rdd.RDD$$anonfun$collect$1$$anonfun$12.apply(RDD.scala:939)\r\n\tat org.apache.spark.rdd.RDD$$anonfun$collect$1$$anonfun$12.apply(RDD.scala:939)\r\n\tat org.apache.spark.SparkContext$$anonfun$runJob$5.apply(SparkContext.scala:2067)\r\n\tat org.apache.spark.SparkContext$$anonfun$runJob$5.apply(SparkContext.scala:2067)\r\n\tat org.apache.spark.scheduler.ResultTask.runTask(ResultTask.scala:87)\r\n\tat org.apache.spark.scheduler.Task.run(Task.scala:109)\r\n\tat org.apache.spark.executor.Executor$TaskRunner.run(Executor.scala:345)\r\n\tat java.util.concurrent.ThreadPoolExecutor.runWorker(Unknown Source)\r\n\tat java.util.concurrent.ThreadPoolExecutor$Worker.run(Unknown Source)\r\n\tat java.lang.Thread.run(Unknown Source)\r\n\nDriver stacktrace:\r\n\tat org.apache.spark.scheduler.DAGScheduler.org$apache$spark$scheduler$DAGScheduler$$failJobAndIndependentStages(DAGScheduler.scala:1599)\r\n\tat org.apache.spark.scheduler.DAGScheduler$$anonfun$abortStage$1.apply(DAGScheduler.scala:1587)\r\n\tat org.apache.spark.scheduler.DAGScheduler$$anonfun$abortStage$1.apply(DAGScheduler.scala:1586)\r\n\tat scala.collection.mutable.ResizableArray$class.foreach(ResizableArray.scala:59)\r\n\tat scala.collection.mutable.ArrayBuffer.foreach(ArrayBuffer.scala:48)\r\n\tat org.apache.spark.scheduler.DAGScheduler.abortStage(DAGScheduler.scala:1586)\r\n\tat org.apache.spark.scheduler.DAGScheduler$$anonfun$handleTaskSetFailed$1.apply(DAGScheduler.scala:831)\r\n\tat org.apache.spark.scheduler.DAGScheduler$$anonfun$handleTaskSetFailed$1.apply(DAGScheduler.scala:831)\r\n\tat scala.Option.foreach(Option.scala:257)\r\n\tat org.apache.spark.scheduler.DAGScheduler.handleTaskSetFailed(DAGScheduler.scala:831)\r\n\tat org.apache.spark.scheduler.DAGSchedulerEventProcessLoop.doOnReceive(DAGScheduler.scala:1820)\r\n\tat org.apache.spark.scheduler.DAGSchedulerEventProcessLoop.onReceive(DAGScheduler.scala:1769)\r\n\tat org.apache.spark.scheduler.DAGSchedulerEventProcessLoop.onReceive(DAGScheduler.scala:1758)\r\n\tat org.apache.spark.util.EventLoop$$anon$1.run(EventLoop.scala:48)\r\n\tat org.apache.spark.scheduler.DAGScheduler.runJob(DAGScheduler.scala:642)\r\n\tat org.apache.spark.SparkContext.runJob(SparkContext.scala:2027)\r\n\tat org.apache.spark.SparkContext.runJob(SparkContext.scala:2048)\r\n\tat org.apache.spark.SparkContext.runJob(SparkContext.scala:2067)\r\n\tat org.apache.spark.SparkContext.runJob(SparkContext.scala:2092)\r\n\tat org.apache.spark.rdd.RDD$$anonfun$collect$1.apply(RDD.scala:939)\r\n\tat org.apache.spark.rdd.RDDOperationScope$.withScope(RDDOperationScope.scala:151)\r\n\tat org.apache.spark.rdd.RDDOperationScope$.withScope(RDDOperationScope.scala:112)\r\n\tat org.apache.spark.rdd.RDD.withScope(RDD.scala:363)\r\n\tat org.apache.spark.rdd.RDD.collect(RDD.scala:938)\r\n\tat org.apache.spark.api.python.PythonRDD$.collectAndServe(PythonRDD.scala:153)\r\n\tat org.apache.spark.api.python.PythonRDD.collectAndServe(PythonRDD.scala)\r\n\tat sun.reflect.NativeMethodAccessorImpl.invoke0(Native Method)\r\n\tat sun.reflect.NativeMethodAccessorImpl.invoke(Unknown Source)\r\n\tat sun.reflect.DelegatingMethodAccessorImpl.invoke(Unknown Source)\r\n\tat java.lang.reflect.Method.invoke(Unknown Source)\r\n\tat py4j.reflection.MethodInvoker.invoke(MethodInvoker.java:244)\r\n\tat py4j.reflection.ReflectionEngine.invoke(ReflectionEngine.java:357)\r\n\tat py4j.Gateway.invoke(Gateway.java:282)\r\n\tat py4j.commands.AbstractCommand.invokeMethod(AbstractCommand.java:132)\r\n\tat py4j.commands.CallCommand.execute(CallCommand.java:79)\r\n\tat py4j.GatewayConnection.run(GatewayConnection.java:214)\r\n\tat java.lang.Thread.run(Unknown Source)\r\nCaused by: org.apache.spark.api.python.PythonException: Traceback (most recent call last):\n  File \"C:\\spark\\python\\lib\\pyspark.zip\\pyspark\\worker.py\", line 229, in main\n  File \"C:\\spark\\python\\lib\\pyspark.zip\\pyspark\\worker.py\", line 224, in process\n  File \"C:\\spark\\python\\lib\\pyspark.zip\\pyspark\\serializers.py\", line 372, in dump_stream\n    vs = list(itertools.islice(iterator, batch))\n  File \"<ipython-input-35-fc3dd40b3794>\", line 2, in unstripData\n  File \"C:\\spark\\python\\lib\\pyspark.zip\\pyspark\\ml\\linalg\\__init__.py\", line 399, in __getitem__\n    return self.array[item]\nIndexError: index 1 is out of bounds for axis 0 with size 1\n\r\n\tat org.apache.spark.api.python.BasePythonRunner$ReaderIterator.handlePythonException(PythonRunner.scala:298)\r\n\tat org.apache.spark.api.python.PythonRunner$$anon$1.read(PythonRunner.scala:438)\r\n\tat org.apache.spark.api.python.PythonRunner$$anon$1.read(PythonRunner.scala:421)\r\n\tat org.apache.spark.api.python.BasePythonRunner$ReaderIterator.hasNext(PythonRunner.scala:252)\r\n\tat org.apache.spark.InterruptibleIterator.hasNext(InterruptibleIterator.scala:37)\r\n\tat scala.collection.Iterator$class.foreach(Iterator.scala:893)\r\n\tat org.apache.spark.InterruptibleIterator.foreach(InterruptibleIterator.scala:28)\r\n\tat scala.collection.generic.Growable$class.$plus$plus$eq(Growable.scala:59)\r\n\tat scala.collection.mutable.ArrayBuffer.$plus$plus$eq(ArrayBuffer.scala:104)\r\n\tat scala.collection.mutable.ArrayBuffer.$plus$plus$eq(ArrayBuffer.scala:48)\r\n\tat scala.collection.TraversableOnce$class.to(TraversableOnce.scala:310)\r\n\tat org.apache.spark.InterruptibleIterator.to(InterruptibleIterator.scala:28)\r\n\tat scala.collection.TraversableOnce$class.toBuffer(TraversableOnce.scala:302)\r\n\tat org.apache.spark.InterruptibleIterator.toBuffer(InterruptibleIterator.scala:28)\r\n\tat scala.collection.TraversableOnce$class.toArray(TraversableOnce.scala:289)\r\n\tat org.apache.spark.InterruptibleIterator.toArray(InterruptibleIterator.scala:28)\r\n\tat org.apache.spark.rdd.RDD$$anonfun$collect$1$$anonfun$12.apply(RDD.scala:939)\r\n\tat org.apache.spark.rdd.RDD$$anonfun$collect$1$$anonfun$12.apply(RDD.scala:939)\r\n\tat org.apache.spark.SparkContext$$anonfun$runJob$5.apply(SparkContext.scala:2067)\r\n\tat org.apache.spark.SparkContext$$anonfun$runJob$5.apply(SparkContext.scala:2067)\r\n\tat org.apache.spark.scheduler.ResultTask.runTask(ResultTask.scala:87)\r\n\tat org.apache.spark.scheduler.Task.run(Task.scala:109)\r\n\tat org.apache.spark.executor.Executor$TaskRunner.run(Executor.scala:345)\r\n\tat java.util.concurrent.ThreadPoolExecutor.runWorker(Unknown Source)\r\n\tat java.util.concurrent.ThreadPoolExecutor$Worker.run(Unknown Source)\r\n\t... 1 more\r\n"
     ]
    }
   ],
   "source": [
    "unStripped = predictions.rdd.map(unstripData)\n",
    "predList = unStripped.collect()\n",
    "predPd = pd.DataFrame(predList)"
   ]
  },
  {
   "cell_type": "code",
   "execution_count": null,
   "metadata": {
    "collapsed": true
   },
   "outputs": [],
   "source": [
    "import matplotlib.pylab as plt\n",
    "plt.cla()\n",
    "plt.scatter(predPd[3],predPd[4], c=predPd[0])\n"
   ]
  },
  {
   "cell_type": "code",
   "execution_count": 3,
   "metadata": {
    "collapsed": true
   },
   "outputs": [],
   "source": [
    "spark = SparkSession.builder.appName(\"kmins\").master(\"local\").config(conf=conf).getOrCreate()"
   ]
  },
  {
   "cell_type": "code",
   "execution_count": null,
   "metadata": {
    "collapsed": true
   },
   "outputs": [],
   "source": []
  }
 ],
 "metadata": {
  "anaconda-cloud": {},
  "kernelspec": {
   "display_name": "Python [conda root]",
   "language": "python",
   "name": "conda-root-py"
  },
  "language_info": {
   "codemirror_mode": {
    "name": "ipython",
    "version": 3
   },
   "file_extension": ".py",
   "mimetype": "text/x-python",
   "name": "python",
   "nbconvert_exporter": "python",
   "pygments_lexer": "ipython3",
   "version": "3.5.2"
  }
 },
 "nbformat": 4,
 "nbformat_minor": 1
}
