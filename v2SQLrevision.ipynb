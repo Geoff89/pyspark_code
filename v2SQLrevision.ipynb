{
 "cells": [
  {
   "cell_type": "code",
   "execution_count": 1,
   "metadata": {
    "collapsed": true
   },
   "outputs": [],
   "source": [
    "-"
   ]
  },
  {
   "cell_type": "code",
   "execution_count": 2,
   "metadata": {
    "collapsed": true
   },
   "outputs": [],
   "source": [
    "\n",
    "from pyspark.sql import SparkSession \n",
    "from pyspark.sql import DataFrame \n",
    "from pyspark.sql import Column \n",
    "from pyspark.sql import Row \n",
    "from pyspark.sql import GroupedData\n",
    "from pyspark.sql import DataFrameNaFunctions \n",
    "from pyspark.sql import DataFrameStatFunctions\n",
    "from pyspark.sql import functions \n",
    "from pyspark.sql import types \n",
    "from pyspark.sql import Window \n",
    "from pyspark.sql import HiveContext\n",
    "from pyspark.sql import SQLContext\n",
    "\n"
   ]
  },
  {
   "cell_type": "code",
   "execution_count": 3,
   "metadata": {
    "collapsed": false
   },
   "outputs": [],
   "source": [
    "spark = SparkSession.builder.appName(\"sqlchtshit\").master('local[2]').config(conf=conf).getOrCreate()"
   ]
  },
  {
   "cell_type": "code",
   "execution_count": 4,
   "metadata": {
    "collapsed": false
   },
   "outputs": [],
   "source": [
    "df = spark.createDataFrame([\n",
    "        (\"Geoffrey\", \"sagini\", 29, +254715245874),\n",
    "        (\"Duke\", \"Mogambi\", 28, +254717730881),\n",
    "        (\"Shadrack\", \"Osoro\", 18, +2543726244461),\n",
    "        (\"James\", \"Nyabicha\", 21, +254706456765),\n",
    "        (\"Margrate\" ,\"Nyabicha\", 45, +254726244461)\n",
    "    ], [\"firstName\", \"lastName\", \"age\", \"phoneNumber\"])"
   ]
  },
  {
   "cell_type": "code",
   "execution_count": 12,
   "metadata": {
    "collapsed": false
   },
   "outputs": [
    {
     "name": "stdout",
     "output_type": "stream",
     "text": [
      "+---------+\n",
      "|firstName|\n",
      "+---------+\n",
      "| Geoffrey|\n",
      "|     Duke|\n",
      "| Shadrack|\n",
      "|    James|\n",
      "| Margrate|\n",
      "+---------+\n",
      "\n"
     ]
    }
   ],
   "source": [
    "df.select(df.firstName).show()"
   ]
  },
  {
   "cell_type": "code",
   "execution_count": 16,
   "metadata": {
    "collapsed": true
   },
   "outputs": [],
   "source": [
    "from pyspark.sql.functions import col"
   ]
  },
  {
   "cell_type": "code",
   "execution_count": 17,
   "metadata": {
    "collapsed": false
   },
   "outputs": [
    {
     "name": "stdout",
     "output_type": "stream",
     "text": [
      "+---------+\n",
      "|firstName|\n",
      "+---------+\n",
      "| Geoffrey|\n",
      "|     Duke|\n",
      "| Shadrack|\n",
      "|    James|\n",
      "| Margrate|\n",
      "+---------+\n",
      "\n"
     ]
    }
   ],
   "source": [
    "df.select(col(\"firstName\")).show()"
   ]
  },
  {
   "cell_type": "code",
   "execution_count": 18,
   "metadata": {
    "collapsed": false
   },
   "outputs": [
    {
     "name": "stdout",
     "output_type": "stream",
     "text": [
      "+---------+\n",
      "|firstName|\n",
      "+---------+\n",
      "| Geoffrey|\n",
      "|     Duke|\n",
      "| Shadrack|\n",
      "|    James|\n",
      "| Margrate|\n",
      "+---------+\n",
      "\n"
     ]
    }
   ],
   "source": [
    "df.select(\"firstName\").show()"
   ]
  },
  {
   "cell_type": "code",
   "execution_count": 19,
   "metadata": {
    "collapsed": false
   },
   "outputs": [
    {
     "name": "stdout",
     "output_type": "stream",
     "text": [
      "+---------+\n",
      "|firstName|\n",
      "+---------+\n",
      "| Geoffrey|\n",
      "|     Duke|\n",
      "| Shadrack|\n",
      "|    James|\n",
      "| Margrate|\n",
      "+---------+\n",
      "\n"
     ]
    }
   ],
   "source": [
    "df.select(df[\"firstName\"]).show()"
   ]
  },
  {
   "cell_type": "code",
   "execution_count": 21,
   "metadata": {
    "collapsed": true
   },
   "outputs": [],
   "source": [
    "from pyspark.sql.functions import explode"
   ]
  },
  {
   "cell_type": "code",
   "execution_count": null,
   "metadata": {
    "collapsed": true
   },
   "outputs": [],
   "source": [
    "df.select(\"firstName\", \"age\", explode(\"phoneNumber\")\\\n",
    "         .alias(\"contactInfo\"))\\\n",
    "         .select(\"contactInfo.type\",\"firstName\",\"age\").show()  "
   ]
  },
  {
   "cell_type": "code",
   "execution_count": 24,
   "metadata": {
    "collapsed": false
   },
   "outputs": [
    {
     "name": "stdout",
     "output_type": "stream",
     "text": [
      "+---------+--------------------------------------+\n",
      "|firstName|CASE WHEN (age > 30) THEN 1 ELSE 0 END|\n",
      "+---------+--------------------------------------+\n",
      "| Geoffrey|                                     0|\n",
      "|     Duke|                                     0|\n",
      "| Shadrack|                                     0|\n",
      "|    James|                                     0|\n",
      "| Margrate|                                     1|\n",
      "+---------+--------------------------------------+\n",
      "\n"
     ]
    }
   ],
   "source": [
    "#using when\n",
    "from pyspark.sql import functions as F\n",
    "df.select(\"firstName\", F.when(df.age > 30, 1).otherwise(0)).show()"
   ]
  },
  {
   "cell_type": "code",
   "execution_count": 25,
   "metadata": {
    "collapsed": false
   },
   "outputs": [
    {
     "data": {
      "text/plain": [
       "[Row(firstName='Geoffrey', lastName='sagini', age=29, phoneNumber=254715245874)]"
      ]
     },
     "execution_count": 25,
     "metadata": {},
     "output_type": "execute_result"
    }
   ],
   "source": [
    "df[df.firstName.isin(\"Geoffrey\", \"Sagini\")].collect()"
   ]
  },
  {
   "cell_type": "code",
   "execution_count": 26,
   "metadata": {
    "collapsed": false
   },
   "outputs": [
    {
     "name": "stdout",
     "output_type": "stream",
     "text": [
      "+---------+-----------------+\n",
      "|firstName|lastName LIKE cha|\n",
      "+---------+-----------------+\n",
      "| Geoffrey|            false|\n",
      "|     Duke|            false|\n",
      "| Shadrack|            false|\n",
      "|    James|            false|\n",
      "| Margrate|            false|\n",
      "+---------+-----------------+\n",
      "\n"
     ]
    }
   ],
   "source": [
    "#like\n",
    "df.select(\"firstName\", df.lastName.like(\"cha\")).show()\n"
   ]
  },
  {
   "cell_type": "code",
   "execution_count": 27,
   "metadata": {
    "collapsed": false
   },
   "outputs": [
    {
     "name": "stdout",
     "output_type": "stream",
     "text": [
      "+---------+------------------------+\n",
      "|firstName|startswith(lastName, sa)|\n",
      "+---------+------------------------+\n",
      "| Geoffrey|                    true|\n",
      "|     Duke|                   false|\n",
      "| Shadrack|                   false|\n",
      "|    James|                   false|\n",
      "| Margrate|                   false|\n",
      "+---------+------------------------+\n",
      "\n"
     ]
    }
   ],
   "source": [
    "#startswith and endswith\n",
    "df.select(\"firstName\", df.lastName.startswith(\"sa\")).show()"
   ]
  },
  {
   "cell_type": "code",
   "execution_count": 28,
   "metadata": {
    "collapsed": false
   },
   "outputs": [
    {
     "name": "stdout",
     "output_type": "stream",
     "text": [
      "+---------------------+\n",
      "|endswith(lastName, a)|\n",
      "+---------------------+\n",
      "|                false|\n",
      "|                false|\n",
      "|                false|\n",
      "|                 true|\n",
      "|                 true|\n",
      "+---------------------+\n",
      "\n"
     ]
    }
   ],
   "source": [
    "df.select(df.lastName.endswith(\"a\")).show()"
   ]
  },
  {
   "cell_type": "code",
   "execution_count": 30,
   "metadata": {
    "collapsed": false
   },
   "outputs": [
    {
     "data": {
      "text/plain": [
       "[Row(name='Geo'),\n",
       " Row(name='Duk'),\n",
       " Row(name='Sha'),\n",
       " Row(name='Jam'),\n",
       " Row(name='Mar')]"
      ]
     },
     "execution_count": 30,
     "metadata": {},
     "output_type": "execute_result"
    }
   ],
   "source": [
    "#substring\n",
    "df.select(df.firstName.substr(1,3).alias(\"name\"))\\\n",
    "          .collect()"
   ]
  },
  {
   "cell_type": "code",
   "execution_count": 31,
   "metadata": {
    "collapsed": false
   },
   "outputs": [
    {
     "name": "stdout",
     "output_type": "stream",
     "text": [
      "+-----------------------------+\n",
      "|((age >= 22) AND (age <= 24))|\n",
      "+-----------------------------+\n",
      "|                        false|\n",
      "|                        false|\n",
      "|                        false|\n",
      "|                        false|\n",
      "|                        false|\n",
      "+-----------------------------+\n",
      "\n"
     ]
    }
   ],
   "source": [
    "#between\n",
    "df.select(df.age.between(22,24)).show()"
   ]
  },
  {
   "cell_type": "code",
   "execution_count": 40,
   "metadata": {
    "collapsed": false
   },
   "outputs": [],
   "source": [
    "#adding, update and remove columns\n",
    "df = df.withColumn('postalcode', df.firstName)\\\n",
    "       .withColumn('city', df.age)\\\n",
    "       .withColumn('state', df.age)\\\n",
    "       .withColumn('streetaddress', df.phoneNumber)\n",
    "    \n",
    "    \n",
    "       "
   ]
  },
  {
   "cell_type": "code",
   "execution_count": 35,
   "metadata": {
    "collapsed": false
   },
   "outputs": [
    {
     "name": "stdout",
     "output_type": "stream",
     "text": [
      "+---------+--------+---+-------------+--------+---+-------------+\n",
      "|firstName|lastname|age|  phoneNumber|     Tom| 40|  +2547654677|\n",
      "+---------+--------+---+-------------+--------+---+-------------+\n",
      "| Geoffrey|  sagini| 29| 254715245874|Geoffrey| 29| 254715245874|\n",
      "|     Duke| Mogambi| 28| 254717730881|    Duke| 28| 254717730881|\n",
      "| Shadrack|   Osoro| 18|2543726244461|Shadrack| 18|2543726244461|\n",
      "|    James|Nyabicha| 21| 254706456765|   James| 21| 254706456765|\n",
      "| Margrate|Nyabicha| 45| 254726244461|Margrate| 45| 254726244461|\n",
      "+---------+--------+---+-------------+--------+---+-------------+\n",
      "\n"
     ]
    }
   ],
   "source": [
    "df.show()"
   ]
  },
  {
   "cell_type": "code",
   "execution_count": 38,
   "metadata": {
    "collapsed": false
   },
   "outputs": [
    {
     "name": "stdout",
     "output_type": "stream",
     "text": [
      "+--------+\n",
      "|lastName|\n",
      "+--------+\n",
      "|  sagini|\n",
      "| Mogambi|\n",
      "|   Osoro|\n",
      "|Nyabicha|\n",
      "|Nyabicha|\n",
      "+--------+\n",
      "\n"
     ]
    }
   ],
   "source": [
    "df.select(\"lastName\").show()"
   ]
  },
  {
   "cell_type": "code",
   "execution_count": 41,
   "metadata": {
    "collapsed": false
   },
   "outputs": [
    {
     "name": "stdout",
     "output_type": "stream",
     "text": [
      "+---------+--------+---+-------------+--------+---+-------------+----------+----+-----+-------------+\n",
      "|firstName|lastname|age|  phoneNumber|     Tom| 40|  +2547654677|postalcode|city|state|streetaddress|\n",
      "+---------+--------+---+-------------+--------+---+-------------+----------+----+-----+-------------+\n",
      "| Geoffrey|  sagini| 29| 254715245874|Geoffrey| 29| 254715245874|  Geoffrey|  29|   29| 254715245874|\n",
      "|     Duke| Mogambi| 28| 254717730881|    Duke| 28| 254717730881|      Duke|  28|   28| 254717730881|\n",
      "| Shadrack|   Osoro| 18|2543726244461|Shadrack| 18|2543726244461|  Shadrack|  18|   18|2543726244461|\n",
      "|    James|Nyabicha| 21| 254706456765|   James| 21| 254706456765|     James|  21|   21| 254706456765|\n",
      "| Margrate|Nyabicha| 45| 254726244461|Margrate| 45| 254726244461|  Margrate|  45|   45| 254726244461|\n",
      "+---------+--------+---+-------------+--------+---+-------------+----------+----+-----+-------------+\n",
      "\n"
     ]
    }
   ],
   "source": [
    "df.show()"
   ]
  },
  {
   "cell_type": "code",
   "execution_count": 43,
   "metadata": {
    "collapsed": false
   },
   "outputs": [
    {
     "name": "stdout",
     "output_type": "stream",
     "text": [
      "+-----+\n",
      "|forty|\n",
      "+-----+\n",
      "|   29|\n",
      "|   28|\n",
      "|   18|\n",
      "|   21|\n",
      "|   45|\n",
      "+-----+\n",
      "\n"
     ]
    }
   ],
   "source": [
    "df.withColumnRenamed(\"40\", \"forty\").select(\"forty\").show()"
   ]
  },
  {
   "cell_type": "code",
   "execution_count": 47,
   "metadata": {
    "collapsed": false
   },
   "outputs": [
    {
     "name": "stdout",
     "output_type": "stream",
     "text": [
      "+---------+--------+---+-------------+---+-------------+----------+----+-----+-------------+\n",
      "|firstName|lastname|age|  phoneNumber| 40|  +2547654677|postalcode|city|state|streetaddress|\n",
      "+---------+--------+---+-------------+---+-------------+----------+----+-----+-------------+\n",
      "| Geoffrey|  sagini| 29| 254715245874| 29| 254715245874|  Geoffrey|  29|   29| 254715245874|\n",
      "|     Duke| Mogambi| 28| 254717730881| 28| 254717730881|      Duke|  28|   28| 254717730881|\n",
      "| Shadrack|   Osoro| 18|2543726244461| 18|2543726244461|  Shadrack|  18|   18|2543726244461|\n",
      "|    James|Nyabicha| 21| 254706456765| 21| 254706456765|     James|  21|   21| 254706456765|\n",
      "| Margrate|Nyabicha| 45| 254726244461| 45| 254726244461|  Margrate|  45|   45| 254726244461|\n",
      "+---------+--------+---+-------------+---+-------------+----------+----+-----+-------------+\n",
      "\n"
     ]
    }
   ],
   "source": [
    "df.drop(\"Tom\", \"forty\").show()"
   ]
  },
  {
   "cell_type": "code",
   "execution_count": 48,
   "metadata": {
    "collapsed": false
   },
   "outputs": [
    {
     "data": {
      "text/plain": [
       "[Row(firstName='Margrate', lastname='Nyabicha', age=45, phoneNumber=254726244461, Tom='Margrate', 40=45, +2547654677=254726244461, postalcode='Margrate', city=45, state=45, streetaddress=254726244461),\n",
       " Row(firstName='Geoffrey', lastname='sagini', age=29, phoneNumber=254715245874, Tom='Geoffrey', 40=29, +2547654677=254715245874, postalcode='Geoffrey', city=29, state=29, streetaddress=254715245874),\n",
       " Row(firstName='Duke', lastname='Mogambi', age=28, phoneNumber=254717730881, Tom='Duke', 40=28, +2547654677=254717730881, postalcode='Duke', city=28, state=28, streetaddress=254717730881),\n",
       " Row(firstName='James', lastname='Nyabicha', age=21, phoneNumber=254706456765, Tom='James', 40=21, +2547654677=254706456765, postalcode='James', city=21, state=21, streetaddress=254706456765),\n",
       " Row(firstName='Shadrack', lastname='Osoro', age=18, phoneNumber=2543726244461, Tom='Shadrack', 40=18, +2547654677=2543726244461, postalcode='Shadrack', city=18, state=18, streetaddress=2543726244461)]"
      ]
     },
     "execution_count": 48,
     "metadata": {},
     "output_type": "execute_result"
    }
   ],
   "source": [
    "#sorting the above dataframe\n",
    "df.sort(\"age\", ascending = False).collect()"
   ]
  },
  {
   "cell_type": "code",
   "execution_count": 49,
   "metadata": {
    "collapsed": false
   },
   "outputs": [
    {
     "data": {
      "text/plain": [
       "['firstName',\n",
       " 'lastname',\n",
       " 'age',\n",
       " 'phoneNumber',\n",
       " 'Tom',\n",
       " '40',\n",
       " '+2547654677',\n",
       " 'postalcode',\n",
       " 'city',\n",
       " 'state',\n",
       " 'streetaddress']"
      ]
     },
     "execution_count": 49,
     "metadata": {},
     "output_type": "execute_result"
    }
   ],
   "source": [
    "df.columns"
   ]
  },
  {
   "cell_type": "code",
   "execution_count": 51,
   "metadata": {
    "collapsed": false
   },
   "outputs": [
    {
     "data": {
      "text/plain": [
       "4"
      ]
     },
     "execution_count": 51,
     "metadata": {},
     "output_type": "execute_result"
    }
   ],
   "source": [
    "df.repartition(4).rdd.getNumPartitions()"
   ]
  },
  {
   "cell_type": "code",
   "execution_count": 52,
   "metadata": {
    "collapsed": false
   },
   "outputs": [
    {
     "data": {
      "text/plain": [
       "2"
      ]
     },
     "execution_count": 52,
     "metadata": {},
     "output_type": "execute_result"
    }
   ],
   "source": [
    "df.coalesce(2).rdd.getNumPartitions()"
   ]
  },
  {
   "cell_type": "code",
   "execution_count": null,
   "metadata": {
    "collapsed": true
   },
   "outputs": [],
   "source": [
    "df.createTempView(\"people\")\n",
    "df.createOrReplaceTempView(\"people1\")\n",
    "df.createGlobalTempView(\"people2\")\n",
    "df.createOrReplaceGlobalTempView(\"people2\")"
   ]
  },
  {
   "cell_type": "code",
   "execution_count": null,
   "metadata": {
    "collapsed": true
   },
   "outputs": [],
   "source": [
    "spark.sql(\"select * from people\").show()\n",
    "spark.sql(\"select * from global_temp.people1\").show()"
   ]
  },
  {
   "cell_type": "code",
   "execution_count": null,
   "metadata": {
    "collapsed": true
   },
   "outputs": [],
   "source": [
    "#data structire output\n",
    "rdd = df.rdd\n",
    "df.toJson()\n",
    "df.toPandas()"
   ]
  },
  {
   "cell_type": "code",
   "execution_count": null,
   "metadata": {
    "collapsed": true
   },
   "outputs": [],
   "source": [
    "df.select(\"firstName\", \"lastName)\", \"age\")\\\n",
    "          .write\\\n",
    "          .save(\"C:\\sparkfiles\\nameandcity.json\", format=\"json\")"
   ]
  }
 ],
 "metadata": {
  "anaconda-cloud": {},
  "kernelspec": {
   "display_name": "Python [conda root]",
   "language": "python",
   "name": "conda-root-py"
  },
  "language_info": {
   "codemirror_mode": {
    "name": "ipython",
    "version": 3
   },
   "file_extension": ".py",
   "mimetype": "text/x-python",
   "name": "python",
   "nbconvert_exporter": "python",
   "pygments_lexer": "ipython3",
   "version": "3.5.2"
  }
 },
 "nbformat": 4,
 "nbformat_minor": 1
}
