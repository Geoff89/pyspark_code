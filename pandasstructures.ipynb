{
 "cells": [
  {
   "cell_type": "code",
   "execution_count": 1,
   "metadata": {
    "collapsed": true
   },
   "outputs": [],
   "source": [
    "import pandas as pd\n",
    "import numpy as np\n",
    "import matplotlib.pyplot as plt"
   ]
  },
  {
   "cell_type": "code",
   "execution_count": 3,
   "metadata": {
    "collapsed": false
   },
   "outputs": [
    {
     "data": {
      "text/plain": [
       "a    0.920375\n",
       "b    0.268633\n",
       "c    0.592837\n",
       "d    0.848877\n",
       "e    0.609035\n",
       "dtype: float64"
      ]
     },
     "execution_count": 3,
     "metadata": {},
     "output_type": "execute_result"
    }
   ],
   "source": [
    "x = pd.Series(np.random.rand(5), index= ['a','b','c','d','e'])\n",
    "x"
   ]
  },
  {
   "cell_type": "code",
   "execution_count": 4,
   "metadata": {
    "collapsed": false
   },
   "outputs": [
    {
     "data": {
      "text/plain": [
       "A    0.379087\n",
       "B    0.803320\n",
       "C    0.977361\n",
       "D    0.886331\n",
       "E    0.283971\n",
       "dtype: float64"
      ]
     },
     "execution_count": 4,
     "metadata": {},
     "output_type": "execute_result"
    }
   ],
   "source": [
    "y = pd.Series(np.random.rand(5), index= list('ABCDE'))\n",
    "y"
   ]
  },
  {
   "cell_type": "code",
   "execution_count": 6,
   "metadata": {
    "collapsed": false
   },
   "outputs": [
    {
     "data": {
      "text/html": [
       "<div>\n",
       "<table border=\"1\" class=\"dataframe\">\n",
       "  <thead>\n",
       "    <tr style=\"text-align: right;\">\n",
       "      <th></th>\n",
       "      <th>A</th>\n",
       "      <th>B</th>\n",
       "      <th>C</th>\n",
       "      <th>D</th>\n",
       "    </tr>\n",
       "  </thead>\n",
       "  <tbody>\n",
       "    <tr>\n",
       "      <th>2017-01-11</th>\n",
       "      <td>0.996824</td>\n",
       "      <td>0.691769</td>\n",
       "      <td>0.751834</td>\n",
       "      <td>0.638385</td>\n",
       "    </tr>\n",
       "    <tr>\n",
       "      <th>2017-01-12</th>\n",
       "      <td>0.567470</td>\n",
       "      <td>0.626738</td>\n",
       "      <td>0.546953</td>\n",
       "      <td>0.499058</td>\n",
       "    </tr>\n",
       "    <tr>\n",
       "      <th>2017-01-13</th>\n",
       "      <td>0.348437</td>\n",
       "      <td>0.681777</td>\n",
       "      <td>0.615873</td>\n",
       "      <td>0.442660</td>\n",
       "    </tr>\n",
       "    <tr>\n",
       "      <th>2017-01-14</th>\n",
       "      <td>0.136939</td>\n",
       "      <td>0.500838</td>\n",
       "      <td>0.624774</td>\n",
       "      <td>0.857084</td>\n",
       "    </tr>\n",
       "    <tr>\n",
       "      <th>2017-01-15</th>\n",
       "      <td>0.896594</td>\n",
       "      <td>0.809178</td>\n",
       "      <td>0.021577</td>\n",
       "      <td>0.192603</td>\n",
       "    </tr>\n",
       "  </tbody>\n",
       "</table>\n",
       "</div>"
      ],
      "text/plain": [
       "                   A         B         C         D\n",
       "2017-01-11  0.996824  0.691769  0.751834  0.638385\n",
       "2017-01-12  0.567470  0.626738  0.546953  0.499058\n",
       "2017-01-13  0.348437  0.681777  0.615873  0.442660\n",
       "2017-01-14  0.136939  0.500838  0.624774  0.857084\n",
       "2017-01-15  0.896594  0.809178  0.021577  0.192603"
      ]
     },
     "execution_count": 6,
     "metadata": {},
     "output_type": "execute_result"
    }
   ],
   "source": [
    "#Dataframe created by both dictionart and the normal form\n",
    "x = pd.DataFrame(np.random.rand(5,4), index = pd.date_range('1/11/2017', periods= 5), columns= list('ABCD'))\n",
    "x"
   ]
  },
  {
   "cell_type": "code",
   "execution_count": 8,
   "metadata": {
    "collapsed": false
   },
   "outputs": [
    {
     "data": {
      "text/html": [
       "<div>\n",
       "<table border=\"1\" class=\"dataframe\">\n",
       "  <thead>\n",
       "    <tr style=\"text-align: right;\">\n",
       "      <th></th>\n",
       "      <th>A</th>\n",
       "      <th>B</th>\n",
       "      <th>C</th>\n",
       "    </tr>\n",
       "  </thead>\n",
       "  <tbody>\n",
       "    <tr>\n",
       "      <th>2017-01-11</th>\n",
       "      <td>0.284362</td>\n",
       "      <td>0.577777</td>\n",
       "      <td>0.056713</td>\n",
       "    </tr>\n",
       "    <tr>\n",
       "      <th>2017-01-12</th>\n",
       "      <td>0.263795</td>\n",
       "      <td>0.224627</td>\n",
       "      <td>0.893024</td>\n",
       "    </tr>\n",
       "    <tr>\n",
       "      <th>2017-01-13</th>\n",
       "      <td>0.716673</td>\n",
       "      <td>0.276968</td>\n",
       "      <td>0.756734</td>\n",
       "    </tr>\n",
       "    <tr>\n",
       "      <th>2017-01-14</th>\n",
       "      <td>0.535894</td>\n",
       "      <td>0.395638</td>\n",
       "      <td>0.740537</td>\n",
       "    </tr>\n",
       "    <tr>\n",
       "      <th>2017-01-15</th>\n",
       "      <td>0.995288</td>\n",
       "      <td>0.902276</td>\n",
       "      <td>0.379898</td>\n",
       "    </tr>\n",
       "  </tbody>\n",
       "</table>\n",
       "</div>"
      ],
      "text/plain": [
       "                   A         B         C\n",
       "2017-01-11  0.284362  0.577777  0.056713\n",
       "2017-01-12  0.263795  0.224627  0.893024\n",
       "2017-01-13  0.716673  0.276968  0.756734\n",
       "2017-01-14  0.535894  0.395638  0.740537\n",
       "2017-01-15  0.995288  0.902276  0.379898"
      ]
     },
     "execution_count": 8,
     "metadata": {},
     "output_type": "execute_result"
    }
   ],
   "source": [
    "#using a dictionary to create a dataframe\n",
    "y = pd.DataFrame({'A':np.random.rand(5), 'B':np.random.rand(5), 'C':np.random.rand(5)}, index = pd.date_range('1/11/2017', \n",
    "                                                                                                              periods=5))\n",
    "y\n"
   ]
  },
  {
   "cell_type": "code",
   "execution_count": 10,
   "metadata": {
    "collapsed": false
   },
   "outputs": [
    {
     "data": {
      "text/plain": [
       "<class 'pandas.core.panel.Panel'>\n",
       "Dimensions: 2 (items) x 5 (major_axis) x 4 (minor_axis)\n",
       "Items axis: Item1 to Item2\n",
       "Major_axis axis: 2017-11-01 00:00:00 to 2017-11-05 00:00:00\n",
       "Minor_axis axis: A to D"
      ]
     },
     "execution_count": 10,
     "metadata": {},
     "output_type": "execute_result"
    }
   ],
   "source": [
    "#creating a panel\n",
    "x = pd.Panel(np.random.rand(2,5,4), items=['Item1', 'Item2'], major_axis=pd.date_range('11/1/2017', periods = 5), \n",
    "             minor_axis=list('ABCD'))\n",
    "x"
   ]
  },
  {
   "cell_type": "code",
   "execution_count": 13,
   "metadata": {
    "collapsed": false
   },
   "outputs": [
    {
     "data": {
      "text/plain": [
       "<class 'pandas.core.panel.Panel'>\n",
       "Dimensions: 2 (items) x 5 (major_axis) x 4 (minor_axis)\n",
       "Items axis: Item1 to Item2\n",
       "Major_axis axis: 0 to 4\n",
       "Minor_axis axis: 0 to 3"
      ]
     },
     "execution_count": 13,
     "metadata": {},
     "output_type": "execute_result"
    }
   ],
   "source": [
    "#dictionary for creating a panel\n",
    "y = pd.Panel({'Item1':pd.DataFrame(np.random.rand(5,4)), 'Item2':pd.DataFrame(np.random.rand(5,4))})\n",
    "                                                                             \n",
    "y"
   ]
  },
  {
   "cell_type": "code",
   "execution_count": 15,
   "metadata": {
    "collapsed": false
   },
   "outputs": [
    {
     "data": {
      "text/plain": [
       "<class 'pandas.core.panelnd.Panel4D'>\n",
       "Dimensions: 2 (labels) x 3 (items) x 5 (major_axis) x 4 (minor_axis)\n",
       "Labels axis: Label1 to Labe;2\n",
       "Items axis: Item1 to Item3\n",
       "Major_axis axis: 2017-11-01 00:00:00 to 2017-11-05 00:00:00\n",
       "Minor_axis axis: A to D"
      ]
     },
     "execution_count": 15,
     "metadata": {},
     "output_type": "execute_result"
    }
   ],
   "source": [
    "#panel4d creating using the normal way\n",
    "x = pd.Panel4D(np.random.rand(2,3,5,4), labels=['Label1', 'Labe;2'], items=['Item1', 'Item2', 'Item3'],\n",
    "               major_axis=pd.date_range('11/1/2017', periods=5), minor_axis=list('ABCD')) \n",
    "x\n",
    "            "
   ]
  },
  {
   "cell_type": "code",
   "execution_count": 16,
   "metadata": {
    "collapsed": false
   },
   "outputs": [
    {
     "data": {
      "text/plain": [
       "<class 'pandas.core.panelnd.Panel4D'>\n",
       "Dimensions: 2 (labels) x 3 (items) x 5 (major_axis) x 4 (minor_axis)\n",
       "Labels axis: Label1 to Label2\n",
       "Items axis: 0 to 2\n",
       "Major_axis axis: 0 to 4\n",
       "Minor_axis axis: 0 to 3"
      ]
     },
     "execution_count": 16,
     "metadata": {},
     "output_type": "execute_result"
    }
   ],
   "source": [
    "#using dictionary to create a panel4D\n",
    "y = pd.Panel4D({'Label1':np.random.rand(3,5,4),'Label2':np.random.rand(3,5,4)})\n",
    "y"
   ]
  },
  {
   "cell_type": "code",
   "execution_count": null,
   "metadata": {
    "collapsed": true
   },
   "outputs": [],
   "source": []
  }
 ],
 "metadata": {
  "anaconda-cloud": {},
  "kernelspec": {
   "display_name": "Python [conda root]",
   "language": "python",
   "name": "conda-root-py"
  },
  "language_info": {
   "codemirror_mode": {
    "name": "ipython",
    "version": 3
   },
   "file_extension": ".py",
   "mimetype": "text/x-python",
   "name": "python",
   "nbconvert_exporter": "python",
   "pygments_lexer": "ipython3",
   "version": "3.5.2"
  }
 },
 "nbformat": 4,
 "nbformat_minor": 1
}
