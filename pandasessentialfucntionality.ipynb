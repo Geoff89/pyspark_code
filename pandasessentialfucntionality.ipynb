{
 "cells": [
  {
   "cell_type": "code",
   "execution_count": 1,
   "metadata": {
    "collapsed": true
   },
   "outputs": [],
   "source": [
    "import pandas as pd\n",
    "import numpy as np"
   ]
  },
  {
   "cell_type": "code",
   "execution_count": 23,
   "metadata": {
    "collapsed": true
   },
   "outputs": [],
   "source": [
    "df = pd.DataFrame(np.random.randn(50, 5), columns=['a', 'b', 'c', 'd', 'e'])"
   ]
  },
  {
   "cell_type": "code",
   "execution_count": 3,
   "metadata": {
    "collapsed": false
   },
   "outputs": [
    {
     "data": {
      "text/plain": [
       "array([[-0.68898625, -0.46450574,  0.04067859,  0.69429286, -0.9210367 ],\n",
       "       [-1.10253143, -1.50382543, -0.97970566, -1.05128757, -1.28286324],\n",
       "       [-0.53301651, -0.45332061,  0.07704246,  0.1201589 ,  0.31739479],\n",
       "       [ 0.44699269,  0.35788383,  0.49691413,  0.4823102 , -1.96434601],\n",
       "       [-0.39060577, -0.30724443, -0.2905472 , -1.9368485 , -0.96287193],\n",
       "       [ 0.47504901, -1.21835228,  1.64474217, -1.1639911 ,  0.76412617],\n",
       "       [ 0.29747416, -0.00902126,  0.12491121, -0.83025876,  0.43321279],\n",
       "       [ 0.94272322, -1.35655383, -0.71746932,  0.43318429, -0.25284292],\n",
       "       [-0.5956918 ,  0.74130685,  0.77843886, -0.10798573,  0.44458243],\n",
       "       [-1.09268582,  1.31314589, -1.20153334,  1.75940929, -2.0664809 ],\n",
       "       [ 0.15947953, -0.18556464,  1.18391454,  1.58592503,  0.1911531 ],\n",
       "       [ 0.3354015 ,  0.5162713 ,  1.66612085,  0.3182721 , -1.1954491 ],\n",
       "       [ 0.69328859,  0.71440931,  0.49984959,  0.18414722,  1.37463464],\n",
       "       [ 0.48747953,  0.99515364, -0.86707954, -1.75476554, -0.14180617],\n",
       "       [-0.46591323, -2.25033658, -0.69898358,  0.77452747,  2.11251969],\n",
       "       [ 1.07669155,  0.1867572 ,  0.07085612, -0.23845341, -1.48281262],\n",
       "       [-1.09802144,  0.04359803, -0.55034285, -1.04046954,  1.7424248 ],\n",
       "       [-0.20136012, -0.84422347,  0.51912637,  0.72464716,  0.5096593 ],\n",
       "       [ 1.71073656, -2.19503328,  0.11097017, -0.029638  ,  0.33262977],\n",
       "       [ 1.07966296,  1.32148406, -0.5536153 ,  1.25373491, -0.1441042 ],\n",
       "       [-0.34586122,  1.26183034,  1.22812645, -1.6216278 , -2.96167642],\n",
       "       [ 0.37739574,  0.1492199 , -0.25583839,  0.16398766,  0.81150047],\n",
       "       [ 1.14651079, -1.17850531,  1.34368553,  1.14766642, -2.21839789],\n",
       "       [ 0.28142083, -0.29053667, -1.22127525, -0.16990307,  0.20711244],\n",
       "       [ 0.59985826,  2.59449967, -0.71158362, -0.03777226, -0.54152846],\n",
       "       [-0.86445978,  3.06013166,  0.50983264,  0.05678973, -2.07348668],\n",
       "       [ 1.03469908,  0.71489477,  2.44723273,  0.04717565,  1.04314783],\n",
       "       [-1.33200412, -0.97143479,  0.26791372,  0.19084577, -0.6292836 ],\n",
       "       [-0.51323579,  0.91718399,  0.63992997,  1.51071596,  0.10530756],\n",
       "       [ 0.56393165,  0.01622502,  0.29366293, -0.40360906, -1.41565674],\n",
       "       [-0.08082859,  0.34956567, -0.07554822, -0.3257307 ,  0.12107073],\n",
       "       [ 0.71624378, -0.45183656,  0.02921124, -0.97911547,  0.46264746],\n",
       "       [-1.18694272,  0.83167817,  0.10088895,  0.01138733, -0.01382096],\n",
       "       [ 1.53853548, -0.93969194,  1.32392137,  0.8443615 , -0.8842426 ],\n",
       "       [ 1.71692062,  1.46380576,  0.54640071,  0.08981299, -0.96536986],\n",
       "       [-2.1210649 , -1.30815177,  0.98137921, -0.94054133, -1.21269592],\n",
       "       [ 0.49234366, -0.62784124, -0.32418084, -1.20830543, -0.80443513],\n",
       "       [ 0.34646418,  0.39581644, -2.02300167,  2.34751166,  0.76450099],\n",
       "       [ 1.69961965, -0.94414867,  0.26784459,  2.74940879,  0.72278464],\n",
       "       [-0.46343667,  0.9390659 ,  0.79535951, -0.07888939, -1.69619071],\n",
       "       [ 0.1486939 , -1.1930862 , -1.1941504 , -0.17638715,  0.20543843],\n",
       "       [ 0.26252998,  1.73854591, -0.85578468,  1.07222944,  0.77098261],\n",
       "       [ 0.15888362,  0.47818541, -0.37848412,  0.8390908 ,  1.47838353],\n",
       "       [ 1.18817986,  0.86948093, -1.63603457, -0.61062895,  1.46005404],\n",
       "       [ 0.3788601 , -0.46965222, -0.54201682, -0.49488354, -1.13440451],\n",
       "       [-1.71221395, -1.49834183, -0.09758168, -1.77606719,  0.01164639],\n",
       "       [-0.13100256, -2.04881072, -0.59388381,  1.73480685,  0.83836694],\n",
       "       [ 0.6567392 , -1.04588754, -1.15711411, -0.34711652,  0.42991092],\n",
       "       [ 0.1628671 ,  0.88334482,  0.48812771,  0.31363737, -0.20195187],\n",
       "       [-1.059874  ,  0.02401362,  0.47499894,  0.0253167 ,  0.63056773]])"
      ]
     },
     "execution_count": 3,
     "metadata": {},
     "output_type": "execute_result"
    }
   ],
   "source": [
    "df.values"
   ]
  },
  {
   "cell_type": "code",
   "execution_count": 4,
   "metadata": {
    "collapsed": false
   },
   "outputs": [
    {
     "data": {
      "text/plain": [
       "a    False\n",
       "b    False\n",
       "c    False\n",
       "d    False\n",
       "e    False\n",
       "dtype: bool"
      ]
     },
     "execution_count": 4,
     "metadata": {},
     "output_type": "execute_result"
    }
   ],
   "source": [
    "(df > 0).all()"
   ]
  },
  {
   "cell_type": "code",
   "execution_count": 6,
   "metadata": {
    "collapsed": false
   },
   "outputs": [
    {
     "data": {
      "text/plain": [
       "a    True\n",
       "b    True\n",
       "c    True\n",
       "d    True\n",
       "e    True\n",
       "dtype: bool"
      ]
     },
     "execution_count": 6,
     "metadata": {},
     "output_type": "execute_result"
    }
   ],
   "source": [
    "(df > 0).any()"
   ]
  },
  {
   "cell_type": "code",
   "execution_count": 7,
   "metadata": {
    "collapsed": false
   },
   "outputs": [
    {
     "data": {
      "text/plain": [
       "False"
      ]
     },
     "execution_count": 7,
     "metadata": {},
     "output_type": "execute_result"
    }
   ],
   "source": [
    "df.empty"
   ]
  },
  {
   "cell_type": "code",
   "execution_count": 11,
   "metadata": {
    "collapsed": false
   },
   "outputs": [
    {
     "data": {
      "text/plain": [
       "False"
      ]
     },
     "execution_count": 11,
     "metadata": {},
     "output_type": "execute_result"
    }
   ],
   "source": [
    "pd.Series([False]).bool()"
   ]
  },
  {
   "cell_type": "markdown",
   "metadata": {},
   "source": [
    "## combine first operation"
   ]
  },
  {
   "cell_type": "code",
   "execution_count": 12,
   "metadata": {
    "collapsed": true
   },
   "outputs": [],
   "source": [
    "df1 = pd.DataFrame({'A' : [1., np.nan, 3., 5., np.nan],\n",
    "       'B' : [np.nan, 2., 3., np.nan, 6.]})"
   ]
  },
  {
   "cell_type": "code",
   "execution_count": 13,
   "metadata": {
    "collapsed": true
   },
   "outputs": [],
   "source": [
    "df2 = pd.DataFrame({'A' : [5., 2., 4., np.nan, 3., 7.],\n",
    "      'B' : [np.nan, np.nan, 3., 4., 6., 8.]})"
   ]
  },
  {
   "cell_type": "code",
   "execution_count": 14,
   "metadata": {
    "collapsed": false
   },
   "outputs": [
    {
     "data": {
      "text/html": [
       "<div>\n",
       "<style>\n",
       "    .dataframe thead tr:only-child th {\n",
       "        text-align: right;\n",
       "    }\n",
       "\n",
       "    .dataframe thead th {\n",
       "        text-align: left;\n",
       "    }\n",
       "\n",
       "    .dataframe tbody tr th {\n",
       "        vertical-align: top;\n",
       "    }\n",
       "</style>\n",
       "<table border=\"1\" class=\"dataframe\">\n",
       "  <thead>\n",
       "    <tr style=\"text-align: right;\">\n",
       "      <th></th>\n",
       "      <th>A</th>\n",
       "      <th>B</th>\n",
       "    </tr>\n",
       "  </thead>\n",
       "  <tbody>\n",
       "    <tr>\n",
       "      <th>0</th>\n",
       "      <td>1.0</td>\n",
       "      <td>NaN</td>\n",
       "    </tr>\n",
       "    <tr>\n",
       "      <th>1</th>\n",
       "      <td>2.0</td>\n",
       "      <td>2.0</td>\n",
       "    </tr>\n",
       "    <tr>\n",
       "      <th>2</th>\n",
       "      <td>3.0</td>\n",
       "      <td>3.0</td>\n",
       "    </tr>\n",
       "    <tr>\n",
       "      <th>3</th>\n",
       "      <td>5.0</td>\n",
       "      <td>4.0</td>\n",
       "    </tr>\n",
       "    <tr>\n",
       "      <th>4</th>\n",
       "      <td>3.0</td>\n",
       "      <td>6.0</td>\n",
       "    </tr>\n",
       "    <tr>\n",
       "      <th>5</th>\n",
       "      <td>7.0</td>\n",
       "      <td>8.0</td>\n",
       "    </tr>\n",
       "  </tbody>\n",
       "</table>\n",
       "</div>"
      ],
      "text/plain": [
       "     A    B\n",
       "0  1.0  NaN\n",
       "1  2.0  2.0\n",
       "2  3.0  3.0\n",
       "3  5.0  4.0\n",
       "4  3.0  6.0\n",
       "5  7.0  8.0"
      ]
     },
     "execution_count": 14,
     "metadata": {},
     "output_type": "execute_result"
    }
   ],
   "source": [
    "df1.combine_first(df2)"
   ]
  },
  {
   "cell_type": "markdown",
   "metadata": {},
   "source": [
    "## Descriptive statistics"
   ]
  },
  {
   "cell_type": "code",
   "execution_count": 15,
   "metadata": {
    "collapsed": true
   },
   "outputs": [],
   "source": [
    "df = pd.DataFrame({'one' : pd.Series(np.random.randn(3), index=['a', 'b', 'c']),\n",
    "                   'two' : pd.Series(np.random.randn(4), index=['a', 'b', 'c', 'd']),\n",
    "                   'three' : pd.Series(np.random.randn(3), index=['b', 'c','d'])})"
   ]
  },
  {
   "cell_type": "code",
   "execution_count": 18,
   "metadata": {
    "collapsed": false
   },
   "outputs": [
    {
     "data": {
      "text/html": [
       "<div>\n",
       "<style>\n",
       "    .dataframe thead tr:only-child th {\n",
       "        text-align: right;\n",
       "    }\n",
       "\n",
       "    .dataframe thead th {\n",
       "        text-align: left;\n",
       "    }\n",
       "\n",
       "    .dataframe tbody tr th {\n",
       "        vertical-align: top;\n",
       "    }\n",
       "</style>\n",
       "<table border=\"1\" class=\"dataframe\">\n",
       "  <thead>\n",
       "    <tr style=\"text-align: right;\">\n",
       "      <th></th>\n",
       "      <th>one</th>\n",
       "      <th>three</th>\n",
       "      <th>two</th>\n",
       "    </tr>\n",
       "  </thead>\n",
       "  <tbody>\n",
       "    <tr>\n",
       "      <th>a</th>\n",
       "      <td>-0.712434</td>\n",
       "      <td>NaN</td>\n",
       "      <td>1.022522</td>\n",
       "    </tr>\n",
       "    <tr>\n",
       "      <th>b</th>\n",
       "      <td>-0.780424</td>\n",
       "      <td>-0.934418</td>\n",
       "      <td>-1.017849</td>\n",
       "    </tr>\n",
       "    <tr>\n",
       "      <th>c</th>\n",
       "      <td>1.166160</td>\n",
       "      <td>1.803142</td>\n",
       "      <td>-0.361734</td>\n",
       "    </tr>\n",
       "    <tr>\n",
       "      <th>d</th>\n",
       "      <td>NaN</td>\n",
       "      <td>-1.176569</td>\n",
       "      <td>0.372694</td>\n",
       "    </tr>\n",
       "  </tbody>\n",
       "</table>\n",
       "</div>"
      ],
      "text/plain": [
       "        one     three       two\n",
       "a -0.712434       NaN  1.022522\n",
       "b -0.780424 -0.934418 -1.017849\n",
       "c  1.166160  1.803142 -0.361734\n",
       "d       NaN -1.176569  0.372694"
      ]
     },
     "execution_count": 18,
     "metadata": {},
     "output_type": "execute_result"
    }
   ],
   "source": [
    "df"
   ]
  },
  {
   "cell_type": "code",
   "execution_count": 16,
   "metadata": {
    "collapsed": false
   },
   "outputs": [
    {
     "data": {
      "text/plain": [
       "one     -0.108899\n",
       "three   -0.102615\n",
       "two      0.003908\n",
       "dtype: float64"
      ]
     },
     "execution_count": 16,
     "metadata": {},
     "output_type": "execute_result"
    }
   ],
   "source": [
    "df.mean(0)"
   ]
  },
  {
   "cell_type": "code",
   "execution_count": 17,
   "metadata": {
    "collapsed": false
   },
   "outputs": [
    {
     "data": {
      "text/plain": [
       "a    0.155044\n",
       "b   -0.910897\n",
       "c    0.869189\n",
       "d   -0.401937\n",
       "dtype: float64"
      ]
     },
     "execution_count": 17,
     "metadata": {},
     "output_type": "execute_result"
    }
   ],
   "source": [
    "df.mean(1)"
   ]
  },
  {
   "cell_type": "code",
   "execution_count": 19,
   "metadata": {
    "collapsed": false
   },
   "outputs": [
    {
     "data": {
      "text/plain": [
       "one     -0.326698\n",
       "three   -0.307844\n",
       "two      0.015632\n",
       "dtype: float64"
      ]
     },
     "execution_count": 19,
     "metadata": {},
     "output_type": "execute_result"
    }
   ],
   "source": [
    "df.sum(0, skipna=True)"
   ]
  },
  {
   "cell_type": "code",
   "execution_count": 20,
   "metadata": {
    "collapsed": false
   },
   "outputs": [
    {
     "data": {
      "text/plain": [
       "a         NaN\n",
       "b   -2.732690\n",
       "c    2.607568\n",
       "d         NaN\n",
       "dtype: float64"
      ]
     },
     "execution_count": 20,
     "metadata": {},
     "output_type": "execute_result"
    }
   ],
   "source": [
    "df.sum(axis=1, skipna=False)"
   ]
  },
  {
   "cell_type": "code",
   "execution_count": 21,
   "metadata": {
    "collapsed": true
   },
   "outputs": [],
   "source": [
    "#applying this one as a standardization technique\n",
    "ts_std = (df - df.mean())/ df.std()"
   ]
  },
  {
   "cell_type": "code",
   "execution_count": 26,
   "metadata": {
    "collapsed": false
   },
   "outputs": [
    {
     "data": {
      "text/plain": [
       "one      1.0\n",
       "three    1.0\n",
       "two      1.0\n",
       "dtype: float64"
      ]
     },
     "execution_count": 26,
     "metadata": {},
     "output_type": "execute_result"
    }
   ],
   "source": [
    "ts_std.std()"
   ]
  },
  {
   "cell_type": "code",
   "execution_count": 28,
   "metadata": {
    "collapsed": true
   },
   "outputs": [],
   "source": [
    "xs_stand = df.sub(df.mean(1), axis=0).div(df.std(1), axis=0)"
   ]
  },
  {
   "cell_type": "code",
   "execution_count": 29,
   "metadata": {
    "collapsed": false
   },
   "outputs": [
    {
     "data": {
      "text/plain": [
       "a    1.0\n",
       "b    1.0\n",
       "c    1.0\n",
       "d    1.0\n",
       "dtype: float64"
      ]
     },
     "execution_count": 29,
     "metadata": {},
     "output_type": "execute_result"
    }
   ],
   "source": [
    "xs_stand.std(1)"
   ]
  },
  {
   "cell_type": "code",
   "execution_count": 30,
   "metadata": {
    "collapsed": false
   },
   "outputs": [
    {
     "data": {
      "text/html": [
       "<div>\n",
       "<style>\n",
       "    .dataframe thead tr:only-child th {\n",
       "        text-align: right;\n",
       "    }\n",
       "\n",
       "    .dataframe thead th {\n",
       "        text-align: left;\n",
       "    }\n",
       "\n",
       "    .dataframe tbody tr th {\n",
       "        vertical-align: top;\n",
       "    }\n",
       "</style>\n",
       "<table border=\"1\" class=\"dataframe\">\n",
       "  <thead>\n",
       "    <tr style=\"text-align: right;\">\n",
       "      <th></th>\n",
       "      <th>one</th>\n",
       "      <th>three</th>\n",
       "      <th>two</th>\n",
       "    </tr>\n",
       "  </thead>\n",
       "  <tbody>\n",
       "    <tr>\n",
       "      <th>a</th>\n",
       "      <td>-0.712434</td>\n",
       "      <td>NaN</td>\n",
       "      <td>1.022522</td>\n",
       "    </tr>\n",
       "    <tr>\n",
       "      <th>b</th>\n",
       "      <td>-1.492858</td>\n",
       "      <td>-0.934418</td>\n",
       "      <td>0.004673</td>\n",
       "    </tr>\n",
       "    <tr>\n",
       "      <th>c</th>\n",
       "      <td>-0.326698</td>\n",
       "      <td>0.868725</td>\n",
       "      <td>-0.357062</td>\n",
       "    </tr>\n",
       "    <tr>\n",
       "      <th>d</th>\n",
       "      <td>NaN</td>\n",
       "      <td>-0.307844</td>\n",
       "      <td>0.015632</td>\n",
       "    </tr>\n",
       "  </tbody>\n",
       "</table>\n",
       "</div>"
      ],
      "text/plain": [
       "        one     three       two\n",
       "a -0.712434       NaN  1.022522\n",
       "b -1.492858 -0.934418  0.004673\n",
       "c -0.326698  0.868725 -0.357062\n",
       "d       NaN -0.307844  0.015632"
      ]
     },
     "execution_count": 30,
     "metadata": {},
     "output_type": "execute_result"
    }
   ],
   "source": [
    "df.cumsum()"
   ]
  },
  {
   "cell_type": "markdown",
   "metadata": {},
   "source": [
    "## Describe--summary statistics"
   ]
  },
  {
   "cell_type": "code",
   "execution_count": 31,
   "metadata": {
    "collapsed": true
   },
   "outputs": [],
   "source": [
    "series = pd.Series(np.random.randn(1000))"
   ]
  },
  {
   "cell_type": "code",
   "execution_count": 32,
   "metadata": {
    "collapsed": true
   },
   "outputs": [],
   "source": [
    "series[::2] = np.nan"
   ]
  },
  {
   "cell_type": "code",
   "execution_count": 33,
   "metadata": {
    "collapsed": false
   },
   "outputs": [
    {
     "data": {
      "text/plain": [
       "count    500.000000\n",
       "mean       0.082641\n",
       "std        0.970463\n",
       "min       -2.713318\n",
       "25%       -0.515717\n",
       "50%        0.048751\n",
       "75%        0.693557\n",
       "max        3.334085\n",
       "dtype: float64"
      ]
     },
     "execution_count": 33,
     "metadata": {},
     "output_type": "execute_result"
    }
   ],
   "source": [
    "series.describe()"
   ]
  },
  {
   "cell_type": "code",
   "execution_count": 34,
   "metadata": {
    "collapsed": true
   },
   "outputs": [],
   "source": [
    "frame = pd.DataFrame(np.random.randn(1000, 5), columns=['a', 'b', 'c', 'd','e'])"
   ]
  },
  {
   "cell_type": "code",
   "execution_count": 35,
   "metadata": {
    "collapsed": false
   },
   "outputs": [
    {
     "data": {
      "text/html": [
       "<div>\n",
       "<style>\n",
       "    .dataframe thead tr:only-child th {\n",
       "        text-align: right;\n",
       "    }\n",
       "\n",
       "    .dataframe thead th {\n",
       "        text-align: left;\n",
       "    }\n",
       "\n",
       "    .dataframe tbody tr th {\n",
       "        vertical-align: top;\n",
       "    }\n",
       "</style>\n",
       "<table border=\"1\" class=\"dataframe\">\n",
       "  <thead>\n",
       "    <tr style=\"text-align: right;\">\n",
       "      <th></th>\n",
       "      <th>a</th>\n",
       "      <th>b</th>\n",
       "      <th>c</th>\n",
       "      <th>d</th>\n",
       "      <th>e</th>\n",
       "    </tr>\n",
       "  </thead>\n",
       "  <tbody>\n",
       "    <tr>\n",
       "      <th>count</th>\n",
       "      <td>1000.000000</td>\n",
       "      <td>1000.000000</td>\n",
       "      <td>1000.000000</td>\n",
       "      <td>1000.000000</td>\n",
       "      <td>1000.000000</td>\n",
       "    </tr>\n",
       "    <tr>\n",
       "      <th>mean</th>\n",
       "      <td>0.034121</td>\n",
       "      <td>0.042629</td>\n",
       "      <td>-0.033068</td>\n",
       "      <td>0.064780</td>\n",
       "      <td>0.043187</td>\n",
       "    </tr>\n",
       "    <tr>\n",
       "      <th>std</th>\n",
       "      <td>0.983916</td>\n",
       "      <td>1.038981</td>\n",
       "      <td>1.024108</td>\n",
       "      <td>1.034764</td>\n",
       "      <td>0.986739</td>\n",
       "    </tr>\n",
       "    <tr>\n",
       "      <th>min</th>\n",
       "      <td>-3.164421</td>\n",
       "      <td>-3.251290</td>\n",
       "      <td>-3.236800</td>\n",
       "      <td>-3.638763</td>\n",
       "      <td>-3.289153</td>\n",
       "    </tr>\n",
       "    <tr>\n",
       "      <th>25%</th>\n",
       "      <td>-0.600557</td>\n",
       "      <td>-0.634769</td>\n",
       "      <td>-0.702896</td>\n",
       "      <td>-0.609226</td>\n",
       "      <td>-0.608049</td>\n",
       "    </tr>\n",
       "    <tr>\n",
       "      <th>50%</th>\n",
       "      <td>-0.003829</td>\n",
       "      <td>0.090355</td>\n",
       "      <td>-0.005091</td>\n",
       "      <td>0.088254</td>\n",
       "      <td>0.044596</td>\n",
       "    </tr>\n",
       "    <tr>\n",
       "      <th>75%</th>\n",
       "      <td>0.690934</td>\n",
       "      <td>0.686767</td>\n",
       "      <td>0.689742</td>\n",
       "      <td>0.729809</td>\n",
       "      <td>0.700473</td>\n",
       "    </tr>\n",
       "    <tr>\n",
       "      <th>max</th>\n",
       "      <td>3.695028</td>\n",
       "      <td>2.887627</td>\n",
       "      <td>3.105366</td>\n",
       "      <td>3.392994</td>\n",
       "      <td>3.254008</td>\n",
       "    </tr>\n",
       "  </tbody>\n",
       "</table>\n",
       "</div>"
      ],
      "text/plain": [
       "                 a            b            c            d            e\n",
       "count  1000.000000  1000.000000  1000.000000  1000.000000  1000.000000\n",
       "mean      0.034121     0.042629    -0.033068     0.064780     0.043187\n",
       "std       0.983916     1.038981     1.024108     1.034764     0.986739\n",
       "min      -3.164421    -3.251290    -3.236800    -3.638763    -3.289153\n",
       "25%      -0.600557    -0.634769    -0.702896    -0.609226    -0.608049\n",
       "50%      -0.003829     0.090355    -0.005091     0.088254     0.044596\n",
       "75%       0.690934     0.686767     0.689742     0.729809     0.700473\n",
       "max       3.695028     2.887627     3.105366     3.392994     3.254008"
      ]
     },
     "execution_count": 35,
     "metadata": {},
     "output_type": "execute_result"
    }
   ],
   "source": [
    "frame.describe()"
   ]
  },
  {
   "cell_type": "code",
   "execution_count": 36,
   "metadata": {
    "collapsed": true
   },
   "outputs": [],
   "source": [
    "frame.iloc[::2] = np.nan"
   ]
  },
  {
   "cell_type": "code",
   "execution_count": 37,
   "metadata": {
    "collapsed": false
   },
   "outputs": [
    {
     "data": {
      "text/html": [
       "<div>\n",
       "<style>\n",
       "    .dataframe thead tr:only-child th {\n",
       "        text-align: right;\n",
       "    }\n",
       "\n",
       "    .dataframe thead th {\n",
       "        text-align: left;\n",
       "    }\n",
       "\n",
       "    .dataframe tbody tr th {\n",
       "        vertical-align: top;\n",
       "    }\n",
       "</style>\n",
       "<table border=\"1\" class=\"dataframe\">\n",
       "  <thead>\n",
       "    <tr style=\"text-align: right;\">\n",
       "      <th></th>\n",
       "      <th>a</th>\n",
       "      <th>b</th>\n",
       "      <th>c</th>\n",
       "      <th>d</th>\n",
       "      <th>e</th>\n",
       "    </tr>\n",
       "  </thead>\n",
       "  <tbody>\n",
       "    <tr>\n",
       "      <th>count</th>\n",
       "      <td>500.000000</td>\n",
       "      <td>500.000000</td>\n",
       "      <td>500.000000</td>\n",
       "      <td>500.000000</td>\n",
       "      <td>500.000000</td>\n",
       "    </tr>\n",
       "    <tr>\n",
       "      <th>mean</th>\n",
       "      <td>0.008668</td>\n",
       "      <td>-0.011419</td>\n",
       "      <td>-0.060450</td>\n",
       "      <td>0.076304</td>\n",
       "      <td>0.064263</td>\n",
       "    </tr>\n",
       "    <tr>\n",
       "      <th>std</th>\n",
       "      <td>0.967126</td>\n",
       "      <td>1.053051</td>\n",
       "      <td>1.008939</td>\n",
       "      <td>1.024885</td>\n",
       "      <td>0.991922</td>\n",
       "    </tr>\n",
       "    <tr>\n",
       "      <th>min</th>\n",
       "      <td>-3.164421</td>\n",
       "      <td>-3.251290</td>\n",
       "      <td>-3.236800</td>\n",
       "      <td>-3.638763</td>\n",
       "      <td>-3.289153</td>\n",
       "    </tr>\n",
       "    <tr>\n",
       "      <th>25%</th>\n",
       "      <td>-0.625443</td>\n",
       "      <td>-0.679874</td>\n",
       "      <td>-0.675990</td>\n",
       "      <td>-0.558166</td>\n",
       "      <td>-0.599718</td>\n",
       "    </tr>\n",
       "    <tr>\n",
       "      <th>50%</th>\n",
       "      <td>-0.013402</td>\n",
       "      <td>-0.003862</td>\n",
       "      <td>0.029376</td>\n",
       "      <td>0.126703</td>\n",
       "      <td>0.077658</td>\n",
       "    </tr>\n",
       "    <tr>\n",
       "      <th>75%</th>\n",
       "      <td>0.690934</td>\n",
       "      <td>0.675625</td>\n",
       "      <td>0.667505</td>\n",
       "      <td>0.764380</td>\n",
       "      <td>0.701403</td>\n",
       "    </tr>\n",
       "    <tr>\n",
       "      <th>max</th>\n",
       "      <td>3.621098</td>\n",
       "      <td>2.645259</td>\n",
       "      <td>2.468325</td>\n",
       "      <td>2.913183</td>\n",
       "      <td>2.942090</td>\n",
       "    </tr>\n",
       "  </tbody>\n",
       "</table>\n",
       "</div>"
      ],
      "text/plain": [
       "                a           b           c           d           e\n",
       "count  500.000000  500.000000  500.000000  500.000000  500.000000\n",
       "mean     0.008668   -0.011419   -0.060450    0.076304    0.064263\n",
       "std      0.967126    1.053051    1.008939    1.024885    0.991922\n",
       "min     -3.164421   -3.251290   -3.236800   -3.638763   -3.289153\n",
       "25%     -0.625443   -0.679874   -0.675990   -0.558166   -0.599718\n",
       "50%     -0.013402   -0.003862    0.029376    0.126703    0.077658\n",
       "75%      0.690934    0.675625    0.667505    0.764380    0.701403\n",
       "max      3.621098    2.645259    2.468325    2.913183    2.942090"
      ]
     },
     "execution_count": 37,
     "metadata": {},
     "output_type": "execute_result"
    }
   ],
   "source": [
    "frame.describe()"
   ]
  },
  {
   "cell_type": "code",
   "execution_count": 38,
   "metadata": {
    "collapsed": false
   },
   "outputs": [
    {
     "data": {
      "text/plain": [
       "count    500.000000\n",
       "mean       0.082641\n",
       "std        0.970463\n",
       "min       -2.713318\n",
       "5%        -1.554328\n",
       "25%       -0.515717\n",
       "50%        0.048751\n",
       "75%        0.693557\n",
       "95%        1.716238\n",
       "max        3.334085\n",
       "dtype: float64"
      ]
     },
     "execution_count": 38,
     "metadata": {},
     "output_type": "execute_result"
    }
   ],
   "source": [
    "#selecting specific percentile\n",
    "series.describe(percentiles=[.05,.25,.75,.95])"
   ]
  },
  {
   "cell_type": "code",
   "execution_count": 39,
   "metadata": {
    "collapsed": true
   },
   "outputs": [],
   "source": [
    "#describe for non numeric values\n",
    "s = pd.Series(['a', 'a', 'b', 'b', 'a', 'a', np.nan, 'c', 'd', 'a'])"
   ]
  },
  {
   "cell_type": "code",
   "execution_count": 40,
   "metadata": {
    "collapsed": false
   },
   "outputs": [
    {
     "data": {
      "text/plain": [
       "count     9\n",
       "unique    4\n",
       "top       a\n",
       "freq      5\n",
       "dtype: object"
      ]
     },
     "execution_count": 40,
     "metadata": {},
     "output_type": "execute_result"
    }
   ],
   "source": [
    "s.describe()"
   ]
  },
  {
   "cell_type": "code",
   "execution_count": 41,
   "metadata": {
    "collapsed": false
   },
   "outputs": [
    {
     "data": {
      "text/html": [
       "<div>\n",
       "<style>\n",
       "    .dataframe thead tr:only-child th {\n",
       "        text-align: right;\n",
       "    }\n",
       "\n",
       "    .dataframe thead th {\n",
       "        text-align: left;\n",
       "    }\n",
       "\n",
       "    .dataframe tbody tr th {\n",
       "        vertical-align: top;\n",
       "    }\n",
       "</style>\n",
       "<table border=\"1\" class=\"dataframe\">\n",
       "  <thead>\n",
       "    <tr style=\"text-align: right;\">\n",
       "      <th></th>\n",
       "      <th>a</th>\n",
       "      <th>b</th>\n",
       "    </tr>\n",
       "  </thead>\n",
       "  <tbody>\n",
       "    <tr>\n",
       "      <th>0</th>\n",
       "      <td>Yes</td>\n",
       "      <td>0</td>\n",
       "    </tr>\n",
       "    <tr>\n",
       "      <th>1</th>\n",
       "      <td>Yes</td>\n",
       "      <td>1</td>\n",
       "    </tr>\n",
       "    <tr>\n",
       "      <th>2</th>\n",
       "      <td>No</td>\n",
       "      <td>2</td>\n",
       "    </tr>\n",
       "    <tr>\n",
       "      <th>3</th>\n",
       "      <td>No</td>\n",
       "      <td>3</td>\n",
       "    </tr>\n",
       "  </tbody>\n",
       "</table>\n",
       "</div>"
      ],
      "text/plain": [
       "     a  b\n",
       "0  Yes  0\n",
       "1  Yes  1\n",
       "2   No  2\n",
       "3   No  3"
      ]
     },
     "execution_count": 41,
     "metadata": {},
     "output_type": "execute_result"
    }
   ],
   "source": [
    "frame = pd.DataFrame({'a': ['Yes', 'Yes', 'No', 'No'], 'b': range(4)});frame"
   ]
  },
  {
   "cell_type": "code",
   "execution_count": 42,
   "metadata": {
    "collapsed": false
   },
   "outputs": [
    {
     "data": {
      "text/html": [
       "<div>\n",
       "<style>\n",
       "    .dataframe thead tr:only-child th {\n",
       "        text-align: right;\n",
       "    }\n",
       "\n",
       "    .dataframe thead th {\n",
       "        text-align: left;\n",
       "    }\n",
       "\n",
       "    .dataframe tbody tr th {\n",
       "        vertical-align: top;\n",
       "    }\n",
       "</style>\n",
       "<table border=\"1\" class=\"dataframe\">\n",
       "  <thead>\n",
       "    <tr style=\"text-align: right;\">\n",
       "      <th></th>\n",
       "      <th>b</th>\n",
       "    </tr>\n",
       "  </thead>\n",
       "  <tbody>\n",
       "    <tr>\n",
       "      <th>count</th>\n",
       "      <td>4.000000</td>\n",
       "    </tr>\n",
       "    <tr>\n",
       "      <th>mean</th>\n",
       "      <td>1.500000</td>\n",
       "    </tr>\n",
       "    <tr>\n",
       "      <th>std</th>\n",
       "      <td>1.290994</td>\n",
       "    </tr>\n",
       "    <tr>\n",
       "      <th>min</th>\n",
       "      <td>0.000000</td>\n",
       "    </tr>\n",
       "    <tr>\n",
       "      <th>25%</th>\n",
       "      <td>0.750000</td>\n",
       "    </tr>\n",
       "    <tr>\n",
       "      <th>50%</th>\n",
       "      <td>1.500000</td>\n",
       "    </tr>\n",
       "    <tr>\n",
       "      <th>75%</th>\n",
       "      <td>2.250000</td>\n",
       "    </tr>\n",
       "    <tr>\n",
       "      <th>max</th>\n",
       "      <td>3.000000</td>\n",
       "    </tr>\n",
       "  </tbody>\n",
       "</table>\n",
       "</div>"
      ],
      "text/plain": [
       "              b\n",
       "count  4.000000\n",
       "mean   1.500000\n",
       "std    1.290994\n",
       "min    0.000000\n",
       "25%    0.750000\n",
       "50%    1.500000\n",
       "75%    2.250000\n",
       "max    3.000000"
      ]
     },
     "execution_count": 42,
     "metadata": {},
     "output_type": "execute_result"
    }
   ],
   "source": [
    "frame.describe()"
   ]
  },
  {
   "cell_type": "code",
   "execution_count": 43,
   "metadata": {
    "collapsed": false
   },
   "outputs": [
    {
     "data": {
      "text/html": [
       "<div>\n",
       "<style>\n",
       "    .dataframe thead tr:only-child th {\n",
       "        text-align: right;\n",
       "    }\n",
       "\n",
       "    .dataframe thead th {\n",
       "        text-align: left;\n",
       "    }\n",
       "\n",
       "    .dataframe tbody tr th {\n",
       "        vertical-align: top;\n",
       "    }\n",
       "</style>\n",
       "<table border=\"1\" class=\"dataframe\">\n",
       "  <thead>\n",
       "    <tr style=\"text-align: right;\">\n",
       "      <th></th>\n",
       "      <th>a</th>\n",
       "    </tr>\n",
       "  </thead>\n",
       "  <tbody>\n",
       "    <tr>\n",
       "      <th>count</th>\n",
       "      <td>4</td>\n",
       "    </tr>\n",
       "    <tr>\n",
       "      <th>unique</th>\n",
       "      <td>2</td>\n",
       "    </tr>\n",
       "    <tr>\n",
       "      <th>top</th>\n",
       "      <td>Yes</td>\n",
       "    </tr>\n",
       "    <tr>\n",
       "      <th>freq</th>\n",
       "      <td>2</td>\n",
       "    </tr>\n",
       "  </tbody>\n",
       "</table>\n",
       "</div>"
      ],
      "text/plain": [
       "          a\n",
       "count     4\n",
       "unique    2\n",
       "top     Yes\n",
       "freq      2"
      ]
     },
     "execution_count": 43,
     "metadata": {},
     "output_type": "execute_result"
    }
   ],
   "source": [
    "#controliing behaviour of describe with include and exclude\n",
    "frame.describe(include=['object'])"
   ]
  },
  {
   "cell_type": "code",
   "execution_count": 44,
   "metadata": {
    "collapsed": false
   },
   "outputs": [
    {
     "data": {
      "text/html": [
       "<div>\n",
       "<style>\n",
       "    .dataframe thead tr:only-child th {\n",
       "        text-align: right;\n",
       "    }\n",
       "\n",
       "    .dataframe thead th {\n",
       "        text-align: left;\n",
       "    }\n",
       "\n",
       "    .dataframe tbody tr th {\n",
       "        vertical-align: top;\n",
       "    }\n",
       "</style>\n",
       "<table border=\"1\" class=\"dataframe\">\n",
       "  <thead>\n",
       "    <tr style=\"text-align: right;\">\n",
       "      <th></th>\n",
       "      <th>b</th>\n",
       "    </tr>\n",
       "  </thead>\n",
       "  <tbody>\n",
       "    <tr>\n",
       "      <th>count</th>\n",
       "      <td>4.000000</td>\n",
       "    </tr>\n",
       "    <tr>\n",
       "      <th>mean</th>\n",
       "      <td>1.500000</td>\n",
       "    </tr>\n",
       "    <tr>\n",
       "      <th>std</th>\n",
       "      <td>1.290994</td>\n",
       "    </tr>\n",
       "    <tr>\n",
       "      <th>min</th>\n",
       "      <td>0.000000</td>\n",
       "    </tr>\n",
       "    <tr>\n",
       "      <th>25%</th>\n",
       "      <td>0.750000</td>\n",
       "    </tr>\n",
       "    <tr>\n",
       "      <th>50%</th>\n",
       "      <td>1.500000</td>\n",
       "    </tr>\n",
       "    <tr>\n",
       "      <th>75%</th>\n",
       "      <td>2.250000</td>\n",
       "    </tr>\n",
       "    <tr>\n",
       "      <th>max</th>\n",
       "      <td>3.000000</td>\n",
       "    </tr>\n",
       "  </tbody>\n",
       "</table>\n",
       "</div>"
      ],
      "text/plain": [
       "              b\n",
       "count  4.000000\n",
       "mean   1.500000\n",
       "std    1.290994\n",
       "min    0.000000\n",
       "25%    0.750000\n",
       "50%    1.500000\n",
       "75%    2.250000\n",
       "max    3.000000"
      ]
     },
     "execution_count": 44,
     "metadata": {},
     "output_type": "execute_result"
    }
   ],
   "source": [
    "frame.describe(include=['number'])"
   ]
  },
  {
   "cell_type": "code",
   "execution_count": 46,
   "metadata": {
    "collapsed": false
   },
   "outputs": [
    {
     "data": {
      "text/html": [
       "<div>\n",
       "<style>\n",
       "    .dataframe thead tr:only-child th {\n",
       "        text-align: right;\n",
       "    }\n",
       "\n",
       "    .dataframe thead th {\n",
       "        text-align: left;\n",
       "    }\n",
       "\n",
       "    .dataframe tbody tr th {\n",
       "        vertical-align: top;\n",
       "    }\n",
       "</style>\n",
       "<table border=\"1\" class=\"dataframe\">\n",
       "  <thead>\n",
       "    <tr style=\"text-align: right;\">\n",
       "      <th></th>\n",
       "      <th>a</th>\n",
       "      <th>b</th>\n",
       "    </tr>\n",
       "  </thead>\n",
       "  <tbody>\n",
       "    <tr>\n",
       "      <th>count</th>\n",
       "      <td>4</td>\n",
       "      <td>4.000000</td>\n",
       "    </tr>\n",
       "    <tr>\n",
       "      <th>unique</th>\n",
       "      <td>2</td>\n",
       "      <td>NaN</td>\n",
       "    </tr>\n",
       "    <tr>\n",
       "      <th>top</th>\n",
       "      <td>Yes</td>\n",
       "      <td>NaN</td>\n",
       "    </tr>\n",
       "    <tr>\n",
       "      <th>freq</th>\n",
       "      <td>2</td>\n",
       "      <td>NaN</td>\n",
       "    </tr>\n",
       "    <tr>\n",
       "      <th>mean</th>\n",
       "      <td>NaN</td>\n",
       "      <td>1.500000</td>\n",
       "    </tr>\n",
       "    <tr>\n",
       "      <th>std</th>\n",
       "      <td>NaN</td>\n",
       "      <td>1.290994</td>\n",
       "    </tr>\n",
       "    <tr>\n",
       "      <th>min</th>\n",
       "      <td>NaN</td>\n",
       "      <td>0.000000</td>\n",
       "    </tr>\n",
       "    <tr>\n",
       "      <th>25%</th>\n",
       "      <td>NaN</td>\n",
       "      <td>0.750000</td>\n",
       "    </tr>\n",
       "    <tr>\n",
       "      <th>50%</th>\n",
       "      <td>NaN</td>\n",
       "      <td>1.500000</td>\n",
       "    </tr>\n",
       "    <tr>\n",
       "      <th>75%</th>\n",
       "      <td>NaN</td>\n",
       "      <td>2.250000</td>\n",
       "    </tr>\n",
       "    <tr>\n",
       "      <th>max</th>\n",
       "      <td>NaN</td>\n",
       "      <td>3.000000</td>\n",
       "    </tr>\n",
       "  </tbody>\n",
       "</table>\n",
       "</div>"
      ],
      "text/plain": [
       "          a         b\n",
       "count     4  4.000000\n",
       "unique    2       NaN\n",
       "top     Yes       NaN\n",
       "freq      2       NaN\n",
       "mean    NaN  1.500000\n",
       "std     NaN  1.290994\n",
       "min     NaN  0.000000\n",
       "25%     NaN  0.750000\n",
       "50%     NaN  1.500000\n",
       "75%     NaN  2.250000\n",
       "max     NaN  3.000000"
      ]
     },
     "execution_count": 46,
     "metadata": {},
     "output_type": "execute_result"
    }
   ],
   "source": [
    "frame.describe(include='all')"
   ]
  },
  {
   "cell_type": "code",
   "execution_count": 2,
   "metadata": {
    "collapsed": false
   },
   "outputs": [
    {
     "data": {
      "text/plain": [
       "0    0.328615\n",
       "1    0.778205\n",
       "2    0.796530\n",
       "3    0.711315\n",
       "4    0.220324\n",
       "dtype: float64"
      ]
     },
     "execution_count": 2,
     "metadata": {},
     "output_type": "execute_result"
    }
   ],
   "source": [
    "#idxmax and idxmin indexes for max and min \n",
    "s1 = pd.Series(np.random.rand(5)) ; s1"
   ]
  },
  {
   "cell_type": "code",
   "execution_count": 3,
   "metadata": {
    "collapsed": false
   },
   "outputs": [
    {
     "data": {
      "text/plain": [
       "4"
      ]
     },
     "execution_count": 3,
     "metadata": {},
     "output_type": "execute_result"
    }
   ],
   "source": [
    "s1.idxmin()"
   ]
  },
  {
   "cell_type": "code",
   "execution_count": 4,
   "metadata": {
    "collapsed": false
   },
   "outputs": [
    {
     "data": {
      "text/plain": [
       "2"
      ]
     },
     "execution_count": 4,
     "metadata": {},
     "output_type": "execute_result"
    }
   ],
   "source": [
    "s1.idxmax()"
   ]
  },
  {
   "cell_type": "code",
   "execution_count": 5,
   "metadata": {
    "collapsed": false
   },
   "outputs": [
    {
     "data": {
      "text/html": [
       "<div>\n",
       "<style>\n",
       "    .dataframe thead tr:only-child th {\n",
       "        text-align: right;\n",
       "    }\n",
       "\n",
       "    .dataframe thead th {\n",
       "        text-align: left;\n",
       "    }\n",
       "\n",
       "    .dataframe tbody tr th {\n",
       "        vertical-align: top;\n",
       "    }\n",
       "</style>\n",
       "<table border=\"1\" class=\"dataframe\">\n",
       "  <thead>\n",
       "    <tr style=\"text-align: right;\">\n",
       "      <th></th>\n",
       "      <th>A</th>\n",
       "      <th>B</th>\n",
       "      <th>C</th>\n",
       "    </tr>\n",
       "  </thead>\n",
       "  <tbody>\n",
       "    <tr>\n",
       "      <th>0</th>\n",
       "      <td>-0.019460</td>\n",
       "      <td>-0.083473</td>\n",
       "      <td>1.124706</td>\n",
       "    </tr>\n",
       "    <tr>\n",
       "      <th>1</th>\n",
       "      <td>0.165533</td>\n",
       "      <td>0.684758</td>\n",
       "      <td>0.195504</td>\n",
       "    </tr>\n",
       "    <tr>\n",
       "      <th>2</th>\n",
       "      <td>-1.883769</td>\n",
       "      <td>2.198373</td>\n",
       "      <td>-1.382874</td>\n",
       "    </tr>\n",
       "    <tr>\n",
       "      <th>3</th>\n",
       "      <td>2.086523</td>\n",
       "      <td>0.448703</td>\n",
       "      <td>1.438547</td>\n",
       "    </tr>\n",
       "    <tr>\n",
       "      <th>4</th>\n",
       "      <td>0.365917</td>\n",
       "      <td>-0.198762</td>\n",
       "      <td>-1.796692</td>\n",
       "    </tr>\n",
       "  </tbody>\n",
       "</table>\n",
       "</div>"
      ],
      "text/plain": [
       "          A         B         C\n",
       "0 -0.019460 -0.083473  1.124706\n",
       "1  0.165533  0.684758  0.195504\n",
       "2 -1.883769  2.198373 -1.382874\n",
       "3  2.086523  0.448703  1.438547\n",
       "4  0.365917 -0.198762 -1.796692"
      ]
     },
     "execution_count": 5,
     "metadata": {},
     "output_type": "execute_result"
    }
   ],
   "source": [
    "df1 = pd.DataFrame(np.random.randn(5,3), columns=['A', 'B', 'C']) ; df1"
   ]
  },
  {
   "cell_type": "code",
   "execution_count": 6,
   "metadata": {
    "collapsed": false
   },
   "outputs": [
    {
     "data": {
      "text/plain": [
       "A    2\n",
       "B    4\n",
       "C    4\n",
       "dtype: int64"
      ]
     },
     "execution_count": 6,
     "metadata": {},
     "output_type": "execute_result"
    }
   ],
   "source": [
    "df1.idxmin(axis=0)"
   ]
  },
  {
   "cell_type": "code",
   "execution_count": 7,
   "metadata": {
    "collapsed": false
   },
   "outputs": [
    {
     "data": {
      "text/plain": [
       "0    C\n",
       "1    B\n",
       "2    B\n",
       "3    A\n",
       "4    A\n",
       "dtype: object"
      ]
     },
     "execution_count": 7,
     "metadata": {},
     "output_type": "execute_result"
    }
   ],
   "source": [
    "df1.idxmax(axis = 1)"
   ]
  },
  {
   "cell_type": "code",
   "execution_count": 8,
   "metadata": {
    "collapsed": false
   },
   "outputs": [
    {
     "data": {
      "text/plain": [
       "3"
      ]
     },
     "execution_count": 8,
     "metadata": {},
     "output_type": "execute_result"
    }
   ],
   "source": [
    "df1['A'].idxmax()"
   ]
  },
  {
   "cell_type": "markdown",
   "metadata": {},
   "source": [
    "### Value count -- (Histogramming) / Node"
   ]
  },
  {
   "cell_type": "code",
   "execution_count": 9,
   "metadata": {
    "collapsed": false
   },
   "outputs": [
    {
     "data": {
      "text/plain": [
       "array([5, 6, 3, 6, 3, 5, 5, 5, 2, 5, 3, 3, 2, 2, 1, 5, 5, 4, 0, 6, 1, 4,\n",
       "       6, 2, 5, 0, 6, 2, 3, 5, 1, 5, 4, 2, 1, 6, 5, 3, 2, 0, 2, 1, 4, 2,\n",
       "       6, 1, 0, 4, 5, 3])"
      ]
     },
     "execution_count": 9,
     "metadata": {},
     "output_type": "execute_result"
    }
   ],
   "source": [
    "data = np.random.randint(0,7, size=50) ; data"
   ]
  },
  {
   "cell_type": "code",
   "execution_count": 12,
   "metadata": {
    "collapsed": false
   },
   "outputs": [],
   "source": [
    "s = pd.Series(data) "
   ]
  },
  {
   "cell_type": "code",
   "execution_count": 13,
   "metadata": {
    "collapsed": false
   },
   "outputs": [
    {
     "data": {
      "text/plain": [
       "5    12\n",
       "2     9\n",
       "6     7\n",
       "3     7\n",
       "1     6\n",
       "4     5\n",
       "0     4\n",
       "dtype: int64"
      ]
     },
     "execution_count": 13,
     "metadata": {},
     "output_type": "execute_result"
    }
   ],
   "source": [
    "s.value_counts()"
   ]
  },
  {
   "cell_type": "code",
   "execution_count": 14,
   "metadata": {
    "collapsed": false
   },
   "outputs": [
    {
     "data": {
      "text/plain": [
       "0    5\n",
       "dtype: int32"
      ]
     },
     "execution_count": 14,
     "metadata": {},
     "output_type": "execute_result"
    }
   ],
   "source": [
    "s.mode() #mode can also be applied to a dataframe..difference is that it will give columns"
   ]
  },
  {
   "cell_type": "code",
   "execution_count": 15,
   "metadata": {
    "collapsed": false
   },
   "outputs": [
    {
     "data": {
      "text/plain": [
       "5    12\n",
       "2     9\n",
       "6     7\n",
       "3     7\n",
       "1     6\n",
       "4     5\n",
       "0     4\n",
       "dtype: int64"
      ]
     },
     "execution_count": 15,
     "metadata": {},
     "output_type": "execute_result"
    }
   ],
   "source": [
    "pd.value_counts(data)"
   ]
  },
  {
   "cell_type": "markdown",
   "metadata": {},
   "source": [
    "### discretization and quantiling"
   ]
  },
  {
   "cell_type": "code",
   "execution_count": 16,
   "metadata": {
    "collapsed": false
   },
   "outputs": [
    {
     "data": {
      "text/plain": [
       "array([ 1.90739057, -0.01633133, -0.54770791,  0.11217933, -2.13687712,\n",
       "       -0.50560091,  1.96121837, -0.47036161,  0.44033107, -0.29423314,\n",
       "       -0.15563787, -1.07853552, -1.22609479, -0.43236127, -0.4091473 ,\n",
       "        0.10580444, -1.49688183,  0.42937273, -0.01111181,  0.42043298])"
      ]
     },
     "execution_count": 16,
     "metadata": {},
     "output_type": "execute_result"
    }
   ],
   "source": [
    "arr = np.random.randn(20); arr"
   ]
  },
  {
   "cell_type": "code",
   "execution_count": 17,
   "metadata": {
    "collapsed": false
   },
   "outputs": [
    {
     "data": {
      "text/plain": [
       "[(0.937, 1.961], (-0.0878, 0.937], (-1.112, -0.0878], (-0.0878, 0.937], (-2.141, -1.112], ..., (-0.0878, 0.937], (-2.141, -1.112], (-0.0878, 0.937], (-0.0878, 0.937], (-0.0878, 0.937]]\n",
       "Length: 20\n",
       "Categories (4, interval[float64]): [(-2.141, -1.112] < (-1.112, -0.0878] < (-0.0878, 0.937] < (0.937, 1.961]]"
      ]
     },
     "execution_count": 17,
     "metadata": {},
     "output_type": "execute_result"
    }
   ],
   "source": [
    "factor = pd.cut(arr, 4) ; factor"
   ]
  },
  {
   "cell_type": "code",
   "execution_count": 18,
   "metadata": {
    "collapsed": true
   },
   "outputs": [],
   "source": [
    "#qcut computes sample quantiles\n",
    "arr = np.random.randn(30)"
   ]
  },
  {
   "cell_type": "code",
   "execution_count": 19,
   "metadata": {
    "collapsed": false
   },
   "outputs": [
    {
     "data": {
      "text/plain": [
       "[(0.0183, 0.41], (0.41, 2.726], (-2.206, -0.675], (0.0183, 0.41], (-2.206, -0.675], ..., (0.0183, 0.41], (-0.675, 0.0183], (0.0183, 0.41], (0.41, 2.726], (-0.675, 0.0183]]\n",
       "Length: 30\n",
       "Categories (4, interval[float64]): [(-2.206, -0.675] < (-0.675, 0.0183] < (0.0183, 0.41] < (0.41, 2.726]]"
      ]
     },
     "execution_count": 19,
     "metadata": {},
     "output_type": "execute_result"
    }
   ],
   "source": [
    "factor = pd.qcut(arr, [0, .25, .5, .75, 1]); factor"
   ]
  },
  {
   "cell_type": "code",
   "execution_count": 21,
   "metadata": {
    "collapsed": true
   },
   "outputs": [],
   "source": [
    "## pipe chaining"
   ]
  },
  {
   "cell_type": "markdown",
   "metadata": {},
   "source": [
    "### Row - column wise  function application"
   ]
  },
  {
   "cell_type": "code",
   "execution_count": 25,
   "metadata": {
    "collapsed": false
   },
   "outputs": [
    {
     "data": {
      "text/plain": [
       "a   -0.018180\n",
       "b    0.174723\n",
       "c   -0.242387\n",
       "d    0.101454\n",
       "e   -0.000941\n",
       "dtype: float64"
      ]
     },
     "execution_count": 25,
     "metadata": {},
     "output_type": "execute_result"
    }
   ],
   "source": [
    "df.apply(np.mean)"
   ]
  },
  {
   "cell_type": "code",
   "execution_count": 26,
   "metadata": {
    "collapsed": false
   },
   "outputs": [
    {
     "data": {
      "text/plain": [
       "a   -0.018180\n",
       "b    0.174723\n",
       "c   -0.242387\n",
       "d    0.101454\n",
       "e   -0.000941\n",
       "dtype: float64"
      ]
     },
     "execution_count": 26,
     "metadata": {},
     "output_type": "execute_result"
    }
   ],
   "source": [
    "df.mean()"
   ]
  },
  {
   "cell_type": "code",
   "execution_count": 27,
   "metadata": {
    "collapsed": false
   },
   "outputs": [
    {
     "data": {
      "text/plain": [
       "0    -0.408060\n",
       "1     0.465683\n",
       "2    -0.157571\n",
       "3    -0.124134\n",
       "4     0.024963\n",
       "5    -0.312843\n",
       "6    -0.662799\n",
       "7    -0.284333\n",
       "8     0.012173\n",
       "9     0.634902\n",
       "10    0.161462\n",
       "11   -0.536556\n",
       "12    0.172389\n",
       "13    0.763905\n",
       "14    0.465550\n",
       "15    0.638824\n",
       "16    0.708820\n",
       "17   -0.305493\n",
       "18   -0.279081\n",
       "19    0.024347\n",
       "20   -0.557983\n",
       "21    0.367869\n",
       "22   -0.407367\n",
       "23   -0.123844\n",
       "24    0.399156\n",
       "25    0.402117\n",
       "26   -0.116883\n",
       "27    0.538648\n",
       "28   -0.447680\n",
       "29    0.271982\n",
       "30   -0.363021\n",
       "31   -0.827634\n",
       "32   -0.404268\n",
       "33   -0.299656\n",
       "34    0.075439\n",
       "35    0.037632\n",
       "36   -0.118342\n",
       "37    0.441667\n",
       "38    0.237405\n",
       "39   -0.017907\n",
       "40   -0.071048\n",
       "41   -0.187124\n",
       "42    0.218481\n",
       "43    0.285836\n",
       "44   -0.206483\n",
       "45    0.150508\n",
       "46   -0.024319\n",
       "47   -0.213425\n",
       "48    0.582415\n",
       "49   -0.477624\n",
       "dtype: float64"
      ]
     },
     "execution_count": 27,
     "metadata": {},
     "output_type": "execute_result"
    }
   ],
   "source": [
    "df.apply(np.mean, axis=1)"
   ]
  },
  {
   "cell_type": "code",
   "execution_count": 28,
   "metadata": {
    "collapsed": false
   },
   "outputs": [
    {
     "data": {
      "text/plain": [
       "a    3.668063\n",
       "b    3.769911\n",
       "c    4.818161\n",
       "d    4.783371\n",
       "e    4.590384\n",
       "dtype: float64"
      ]
     },
     "execution_count": 28,
     "metadata": {},
     "output_type": "execute_result"
    }
   ],
   "source": [
    "df.apply(lambda x: x.max() - x.min())"
   ]
  },
  {
   "cell_type": "code",
   "execution_count": 29,
   "metadata": {
    "collapsed": false
   },
   "outputs": [
    {
     "data": {
      "text/html": [
       "<div>\n",
       "<style>\n",
       "    .dataframe thead tr:only-child th {\n",
       "        text-align: right;\n",
       "    }\n",
       "\n",
       "    .dataframe thead th {\n",
       "        text-align: left;\n",
       "    }\n",
       "\n",
       "    .dataframe tbody tr th {\n",
       "        vertical-align: top;\n",
       "    }\n",
       "</style>\n",
       "<table border=\"1\" class=\"dataframe\">\n",
       "  <thead>\n",
       "    <tr style=\"text-align: right;\">\n",
       "      <th></th>\n",
       "      <th>a</th>\n",
       "      <th>b</th>\n",
       "      <th>c</th>\n",
       "      <th>d</th>\n",
       "      <th>e</th>\n",
       "    </tr>\n",
       "  </thead>\n",
       "  <tbody>\n",
       "    <tr>\n",
       "      <th>0</th>\n",
       "      <td>-1.516541</td>\n",
       "      <td>-1.831851</td>\n",
       "      <td>-0.264283</td>\n",
       "      <td>0.945521</td>\n",
       "      <td>0.626857</td>\n",
       "    </tr>\n",
       "    <tr>\n",
       "      <th>1</th>\n",
       "      <td>-0.926636</td>\n",
       "      <td>-1.063455</td>\n",
       "      <td>-0.198840</td>\n",
       "      <td>0.521880</td>\n",
       "      <td>1.955169</td>\n",
       "    </tr>\n",
       "    <tr>\n",
       "      <th>2</th>\n",
       "      <td>-1.495679</td>\n",
       "      <td>-1.456746</td>\n",
       "      <td>-1.454012</td>\n",
       "      <td>0.208908</td>\n",
       "      <td>3.697792</td>\n",
       "    </tr>\n",
       "    <tr>\n",
       "      <th>3</th>\n",
       "      <td>-1.353765</td>\n",
       "      <td>-1.418857</td>\n",
       "      <td>-1.780622</td>\n",
       "      <td>0.727366</td>\n",
       "      <td>2.705470</td>\n",
       "    </tr>\n",
       "    <tr>\n",
       "      <th>4</th>\n",
       "      <td>-0.754937</td>\n",
       "      <td>-0.395713</td>\n",
       "      <td>-4.743674</td>\n",
       "      <td>2.121168</td>\n",
       "      <td>2.777562</td>\n",
       "    </tr>\n",
       "    <tr>\n",
       "      <th>5</th>\n",
       "      <td>-0.934269</td>\n",
       "      <td>-1.085871</td>\n",
       "      <td>-5.114957</td>\n",
       "      <td>3.012756</td>\n",
       "      <td>1.562533</td>\n",
       "    </tr>\n",
       "    <tr>\n",
       "      <th>6</th>\n",
       "      <td>-2.506708</td>\n",
       "      <td>-1.792620</td>\n",
       "      <td>-4.043658</td>\n",
       "      <td>2.371337</td>\n",
       "      <td>0.097844</td>\n",
       "    </tr>\n",
       "    <tr>\n",
       "      <th>7</th>\n",
       "      <td>-3.607104</td>\n",
       "      <td>-1.879338</td>\n",
       "      <td>-5.000520</td>\n",
       "      <td>2.549109</td>\n",
       "      <td>0.642385</td>\n",
       "    </tr>\n",
       "    <tr>\n",
       "      <th>8</th>\n",
       "      <td>-3.044075</td>\n",
       "      <td>-3.112677</td>\n",
       "      <td>-4.488965</td>\n",
       "      <td>2.127986</td>\n",
       "      <td>1.283131</td>\n",
       "    </tr>\n",
       "    <tr>\n",
       "      <th>9</th>\n",
       "      <td>-1.459641</td>\n",
       "      <td>-1.968449</td>\n",
       "      <td>-5.237906</td>\n",
       "      <td>1.123657</td>\n",
       "      <td>3.482249</td>\n",
       "    </tr>\n",
       "    <tr>\n",
       "      <th>10</th>\n",
       "      <td>-1.593480</td>\n",
       "      <td>-1.723539</td>\n",
       "      <td>-4.019611</td>\n",
       "      <td>1.457295</td>\n",
       "      <td>2.626556</td>\n",
       "    </tr>\n",
       "    <tr>\n",
       "      <th>11</th>\n",
       "      <td>-3.039703</td>\n",
       "      <td>-3.277410</td>\n",
       "      <td>-3.765981</td>\n",
       "      <td>1.324060</td>\n",
       "      <td>2.823475</td>\n",
       "    </tr>\n",
       "    <tr>\n",
       "      <th>12</th>\n",
       "      <td>-2.077389</td>\n",
       "      <td>-1.402891</td>\n",
       "      <td>-4.784019</td>\n",
       "      <td>-0.013788</td>\n",
       "      <td>3.204475</td>\n",
       "    </tr>\n",
       "    <tr>\n",
       "      <th>13</th>\n",
       "      <td>0.018234</td>\n",
       "      <td>0.030772</td>\n",
       "      <td>-5.317278</td>\n",
       "      <td>1.119112</td>\n",
       "      <td>2.895071</td>\n",
       "    </tr>\n",
       "    <tr>\n",
       "      <th>14</th>\n",
       "      <td>0.553496</td>\n",
       "      <td>0.156762</td>\n",
       "      <td>-5.821633</td>\n",
       "      <td>1.128548</td>\n",
       "      <td>5.056486</td>\n",
       "    </tr>\n",
       "    <tr>\n",
       "      <th>15</th>\n",
       "      <td>2.270235</td>\n",
       "      <td>1.326419</td>\n",
       "      <td>-4.686407</td>\n",
       "      <td>0.676615</td>\n",
       "      <td>4.680917</td>\n",
       "    </tr>\n",
       "    <tr>\n",
       "      <th>16</th>\n",
       "      <td>3.253188</td>\n",
       "      <td>1.769426</td>\n",
       "      <td>-4.336714</td>\n",
       "      <td>1.200638</td>\n",
       "      <td>5.925343</td>\n",
       "    </tr>\n",
       "    <tr>\n",
       "      <th>17</th>\n",
       "      <td>2.614427</td>\n",
       "      <td>1.678771</td>\n",
       "      <td>-4.251336</td>\n",
       "      <td>0.765347</td>\n",
       "      <td>5.477208</td>\n",
       "    </tr>\n",
       "    <tr>\n",
       "      <th>18</th>\n",
       "      <td>2.419007</td>\n",
       "      <td>2.256850</td>\n",
       "      <td>-5.505872</td>\n",
       "      <td>0.782521</td>\n",
       "      <td>4.936507</td>\n",
       "    </tr>\n",
       "    <tr>\n",
       "      <th>19</th>\n",
       "      <td>1.876180</td>\n",
       "      <td>3.606514</td>\n",
       "      <td>-6.505646</td>\n",
       "      <td>0.950244</td>\n",
       "      <td>5.083458</td>\n",
       "    </tr>\n",
       "    <tr>\n",
       "      <th>20</th>\n",
       "      <td>2.072932</td>\n",
       "      <td>2.368376</td>\n",
       "      <td>-7.707229</td>\n",
       "      <td>1.857290</td>\n",
       "      <td>3.629465</td>\n",
       "    </tr>\n",
       "    <tr>\n",
       "      <th>21</th>\n",
       "      <td>1.885396</td>\n",
       "      <td>3.284758</td>\n",
       "      <td>-8.038592</td>\n",
       "      <td>2.463541</td>\n",
       "      <td>4.465075</td>\n",
       "    </tr>\n",
       "    <tr>\n",
       "      <th>22</th>\n",
       "      <td>0.888906</td>\n",
       "      <td>3.532182</td>\n",
       "      <td>-8.023562</td>\n",
       "      <td>1.153449</td>\n",
       "      <td>4.472367</td>\n",
       "    </tr>\n",
       "    <tr>\n",
       "      <th>23</th>\n",
       "      <td>-0.436642</td>\n",
       "      <td>3.712450</td>\n",
       "      <td>-6.168453</td>\n",
       "      <td>0.137406</td>\n",
       "      <td>4.159362</td>\n",
       "    </tr>\n",
       "    <tr>\n",
       "      <th>24</th>\n",
       "      <td>0.283568</td>\n",
       "      <td>3.918842</td>\n",
       "      <td>-4.907591</td>\n",
       "      <td>1.494599</td>\n",
       "      <td>2.610485</td>\n",
       "    </tr>\n",
       "    <tr>\n",
       "      <th>25</th>\n",
       "      <td>1.228790</td>\n",
       "      <td>3.429541</td>\n",
       "      <td>-4.538951</td>\n",
       "      <td>2.100248</td>\n",
       "      <td>3.190861</td>\n",
       "    </tr>\n",
       "    <tr>\n",
       "      <th>26</th>\n",
       "      <td>1.842847</td>\n",
       "      <td>5.106210</td>\n",
       "      <td>-5.480175</td>\n",
       "      <td>0.031295</td>\n",
       "      <td>3.325899</td>\n",
       "    </tr>\n",
       "    <tr>\n",
       "      <th>27</th>\n",
       "      <td>1.138637</td>\n",
       "      <td>6.138457</td>\n",
       "      <td>-4.792254</td>\n",
       "      <td>1.001537</td>\n",
       "      <td>4.032938</td>\n",
       "    </tr>\n",
       "    <tr>\n",
       "      <th>28</th>\n",
       "      <td>-0.246523</td>\n",
       "      <td>6.168741</td>\n",
       "      <td>-6.094265</td>\n",
       "      <td>1.044920</td>\n",
       "      <td>4.408042</td>\n",
       "    </tr>\n",
       "    <tr>\n",
       "      <th>29</th>\n",
       "      <td>-0.080549</td>\n",
       "      <td>6.231220</td>\n",
       "      <td>-4.831963</td>\n",
       "      <td>0.618694</td>\n",
       "      <td>4.703421</td>\n",
       "    </tr>\n",
       "    <tr>\n",
       "      <th>30</th>\n",
       "      <td>1.118755</td>\n",
       "      <td>5.016345</td>\n",
       "      <td>-6.063642</td>\n",
       "      <td>1.065149</td>\n",
       "      <td>3.689113</td>\n",
       "    </tr>\n",
       "    <tr>\n",
       "      <th>31</th>\n",
       "      <td>0.708545</td>\n",
       "      <td>5.807433</td>\n",
       "      <td>-6.800337</td>\n",
       "      <td>-0.793464</td>\n",
       "      <td>1.765373</td>\n",
       "    </tr>\n",
       "    <tr>\n",
       "      <th>32</th>\n",
       "      <td>0.727837</td>\n",
       "      <td>5.000529</td>\n",
       "      <td>-6.953549</td>\n",
       "      <td>-1.410960</td>\n",
       "      <td>1.302355</td>\n",
       "    </tr>\n",
       "    <tr>\n",
       "      <th>33</th>\n",
       "      <td>-0.116816</td>\n",
       "      <td>5.895107</td>\n",
       "      <td>-7.609959</td>\n",
       "      <td>-1.720815</td>\n",
       "      <td>0.720414</td>\n",
       "    </tr>\n",
       "    <tr>\n",
       "      <th>34</th>\n",
       "      <td>-0.013257</td>\n",
       "      <td>5.891763</td>\n",
       "      <td>-7.799968</td>\n",
       "      <td>-1.193857</td>\n",
       "      <td>0.660446</td>\n",
       "    </tr>\n",
       "    <tr>\n",
       "      <th>35</th>\n",
       "      <td>-0.761773</td>\n",
       "      <td>6.737631</td>\n",
       "      <td>-9.149045</td>\n",
       "      <td>-1.028916</td>\n",
       "      <td>1.935392</td>\n",
       "    </tr>\n",
       "    <tr>\n",
       "      <th>36</th>\n",
       "      <td>-0.927751</td>\n",
       "      <td>6.585901</td>\n",
       "      <td>-9.372085</td>\n",
       "      <td>-1.476988</td>\n",
       "      <td>2.332504</td>\n",
       "    </tr>\n",
       "    <tr>\n",
       "      <th>37</th>\n",
       "      <td>-1.498216</td>\n",
       "      <td>7.476283</td>\n",
       "      <td>-8.782547</td>\n",
       "      <td>-0.740907</td>\n",
       "      <td>2.895302</td>\n",
       "    </tr>\n",
       "    <tr>\n",
       "      <th>38</th>\n",
       "      <td>-1.053613</td>\n",
       "      <td>6.562548</td>\n",
       "      <td>-8.561984</td>\n",
       "      <td>-0.291822</td>\n",
       "      <td>3.881812</td>\n",
       "    </tr>\n",
       "    <tr>\n",
       "      <th>39</th>\n",
       "      <td>-0.797614</td>\n",
       "      <td>7.625970</td>\n",
       "      <td>-9.567150</td>\n",
       "      <td>-1.684502</td>\n",
       "      <td>4.870701</td>\n",
       "    </tr>\n",
       "    <tr>\n",
       "      <th>40</th>\n",
       "      <td>-0.327734</td>\n",
       "      <td>6.991477</td>\n",
       "      <td>-10.897707</td>\n",
       "      <td>-0.735905</td>\n",
       "      <td>5.062033</td>\n",
       "    </tr>\n",
       "    <tr>\n",
       "      <th>41</th>\n",
       "      <td>-0.357770</td>\n",
       "      <td>7.699111</td>\n",
       "      <td>-10.092876</td>\n",
       "      <td>-0.762688</td>\n",
       "      <td>2.670766</td>\n",
       "    </tr>\n",
       "    <tr>\n",
       "      <th>42</th>\n",
       "      <td>0.828487</td>\n",
       "      <td>8.558304</td>\n",
       "      <td>-10.679276</td>\n",
       "      <td>-0.065560</td>\n",
       "      <td>1.606993</td>\n",
       "    </tr>\n",
       "    <tr>\n",
       "      <th>43</th>\n",
       "      <td>0.214175</td>\n",
       "      <td>8.970131</td>\n",
       "      <td>-10.975846</td>\n",
       "      <td>1.123641</td>\n",
       "      <td>2.346029</td>\n",
       "    </tr>\n",
       "    <tr>\n",
       "      <th>44</th>\n",
       "      <td>1.479562</td>\n",
       "      <td>7.074740</td>\n",
       "      <td>-10.524727</td>\n",
       "      <td>1.689350</td>\n",
       "      <td>0.926790</td>\n",
       "    </tr>\n",
       "    <tr>\n",
       "      <th>45</th>\n",
       "      <td>0.426086</td>\n",
       "      <td>7.430733</td>\n",
       "      <td>-10.760411</td>\n",
       "      <td>4.403767</td>\n",
       "      <td>-0.101919</td>\n",
       "    </tr>\n",
       "    <tr>\n",
       "      <th>46</th>\n",
       "      <td>-0.928209</td>\n",
       "      <td>7.331621</td>\n",
       "      <td>-10.503151</td>\n",
       "      <td>3.990495</td>\n",
       "      <td>1.385905</td>\n",
       "    </tr>\n",
       "    <tr>\n",
       "      <th>47</th>\n",
       "      <td>-1.483702</td>\n",
       "      <td>8.725849</td>\n",
       "      <td>-10.602271</td>\n",
       "      <td>4.439669</td>\n",
       "      <td>-0.870009</td>\n",
       "    </tr>\n",
       "    <tr>\n",
       "      <th>48</th>\n",
       "      <td>0.132009</td>\n",
       "      <td>8.800088</td>\n",
       "      <td>-10.466824</td>\n",
       "      <td>5.471509</td>\n",
       "      <td>-0.815173</td>\n",
       "    </tr>\n",
       "    <tr>\n",
       "      <th>49</th>\n",
       "      <td>-0.908976</td>\n",
       "      <td>8.736166</td>\n",
       "      <td>-12.119373</td>\n",
       "      <td>5.072723</td>\n",
       "      <td>-0.047050</td>\n",
       "    </tr>\n",
       "  </tbody>\n",
       "</table>\n",
       "</div>"
      ],
      "text/plain": [
       "           a         b          c         d         e\n",
       "0  -1.516541 -1.831851  -0.264283  0.945521  0.626857\n",
       "1  -0.926636 -1.063455  -0.198840  0.521880  1.955169\n",
       "2  -1.495679 -1.456746  -1.454012  0.208908  3.697792\n",
       "3  -1.353765 -1.418857  -1.780622  0.727366  2.705470\n",
       "4  -0.754937 -0.395713  -4.743674  2.121168  2.777562\n",
       "5  -0.934269 -1.085871  -5.114957  3.012756  1.562533\n",
       "6  -2.506708 -1.792620  -4.043658  2.371337  0.097844\n",
       "7  -3.607104 -1.879338  -5.000520  2.549109  0.642385\n",
       "8  -3.044075 -3.112677  -4.488965  2.127986  1.283131\n",
       "9  -1.459641 -1.968449  -5.237906  1.123657  3.482249\n",
       "10 -1.593480 -1.723539  -4.019611  1.457295  2.626556\n",
       "11 -3.039703 -3.277410  -3.765981  1.324060  2.823475\n",
       "12 -2.077389 -1.402891  -4.784019 -0.013788  3.204475\n",
       "13  0.018234  0.030772  -5.317278  1.119112  2.895071\n",
       "14  0.553496  0.156762  -5.821633  1.128548  5.056486\n",
       "15  2.270235  1.326419  -4.686407  0.676615  4.680917\n",
       "16  3.253188  1.769426  -4.336714  1.200638  5.925343\n",
       "17  2.614427  1.678771  -4.251336  0.765347  5.477208\n",
       "18  2.419007  2.256850  -5.505872  0.782521  4.936507\n",
       "19  1.876180  3.606514  -6.505646  0.950244  5.083458\n",
       "20  2.072932  2.368376  -7.707229  1.857290  3.629465\n",
       "21  1.885396  3.284758  -8.038592  2.463541  4.465075\n",
       "22  0.888906  3.532182  -8.023562  1.153449  4.472367\n",
       "23 -0.436642  3.712450  -6.168453  0.137406  4.159362\n",
       "24  0.283568  3.918842  -4.907591  1.494599  2.610485\n",
       "25  1.228790  3.429541  -4.538951  2.100248  3.190861\n",
       "26  1.842847  5.106210  -5.480175  0.031295  3.325899\n",
       "27  1.138637  6.138457  -4.792254  1.001537  4.032938\n",
       "28 -0.246523  6.168741  -6.094265  1.044920  4.408042\n",
       "29 -0.080549  6.231220  -4.831963  0.618694  4.703421\n",
       "30  1.118755  5.016345  -6.063642  1.065149  3.689113\n",
       "31  0.708545  5.807433  -6.800337 -0.793464  1.765373\n",
       "32  0.727837  5.000529  -6.953549 -1.410960  1.302355\n",
       "33 -0.116816  5.895107  -7.609959 -1.720815  0.720414\n",
       "34 -0.013257  5.891763  -7.799968 -1.193857  0.660446\n",
       "35 -0.761773  6.737631  -9.149045 -1.028916  1.935392\n",
       "36 -0.927751  6.585901  -9.372085 -1.476988  2.332504\n",
       "37 -1.498216  7.476283  -8.782547 -0.740907  2.895302\n",
       "38 -1.053613  6.562548  -8.561984 -0.291822  3.881812\n",
       "39 -0.797614  7.625970  -9.567150 -1.684502  4.870701\n",
       "40 -0.327734  6.991477 -10.897707 -0.735905  5.062033\n",
       "41 -0.357770  7.699111 -10.092876 -0.762688  2.670766\n",
       "42  0.828487  8.558304 -10.679276 -0.065560  1.606993\n",
       "43  0.214175  8.970131 -10.975846  1.123641  2.346029\n",
       "44  1.479562  7.074740 -10.524727  1.689350  0.926790\n",
       "45  0.426086  7.430733 -10.760411  4.403767 -0.101919\n",
       "46 -0.928209  7.331621 -10.503151  3.990495  1.385905\n",
       "47 -1.483702  8.725849 -10.602271  4.439669 -0.870009\n",
       "48  0.132009  8.800088 -10.466824  5.471509 -0.815173\n",
       "49 -0.908976  8.736166 -12.119373  5.072723 -0.047050"
      ]
     },
     "execution_count": 29,
     "metadata": {},
     "output_type": "execute_result"
    }
   ],
   "source": [
    "df.apply(np.cumsum)"
   ]
  },
  {
   "cell_type": "code",
   "execution_count": 30,
   "metadata": {
    "collapsed": false
   },
   "outputs": [
    {
     "data": {
      "text/html": [
       "<div>\n",
       "<style>\n",
       "    .dataframe thead tr:only-child th {\n",
       "        text-align: right;\n",
       "    }\n",
       "\n",
       "    .dataframe thead th {\n",
       "        text-align: left;\n",
       "    }\n",
       "\n",
       "    .dataframe tbody tr th {\n",
       "        vertical-align: top;\n",
       "    }\n",
       "</style>\n",
       "<table border=\"1\" class=\"dataframe\">\n",
       "  <thead>\n",
       "    <tr style=\"text-align: right;\">\n",
       "      <th></th>\n",
       "      <th>a</th>\n",
       "      <th>b</th>\n",
       "      <th>c</th>\n",
       "      <th>d</th>\n",
       "      <th>e</th>\n",
       "    </tr>\n",
       "  </thead>\n",
       "  <tbody>\n",
       "    <tr>\n",
       "      <th>0</th>\n",
       "      <td>0.219470</td>\n",
       "      <td>0.160117</td>\n",
       "      <td>0.767756</td>\n",
       "      <td>2.574153</td>\n",
       "      <td>1.871718</td>\n",
       "    </tr>\n",
       "    <tr>\n",
       "      <th>1</th>\n",
       "      <td>1.803817</td>\n",
       "      <td>2.156305</td>\n",
       "      <td>1.067632</td>\n",
       "      <td>0.654659</td>\n",
       "      <td>3.774667</td>\n",
       "    </tr>\n",
       "    <tr>\n",
       "      <th>2</th>\n",
       "      <td>0.566067</td>\n",
       "      <td>0.674832</td>\n",
       "      <td>0.285027</td>\n",
       "      <td>0.731270</td>\n",
       "      <td>5.712304</td>\n",
       "    </tr>\n",
       "    <tr>\n",
       "      <th>3</th>\n",
       "      <td>1.152477</td>\n",
       "      <td>1.038616</td>\n",
       "      <td>0.721366</td>\n",
       "      <td>1.679436</td>\n",
       "      <td>0.370715</td>\n",
       "    </tr>\n",
       "    <tr>\n",
       "      <th>4</th>\n",
       "      <td>1.819985</td>\n",
       "      <td>2.781928</td>\n",
       "      <td>0.051661</td>\n",
       "      <td>4.030145</td>\n",
       "      <td>1.074754</td>\n",
       "    </tr>\n",
       "    <tr>\n",
       "      <th>5</th>\n",
       "      <td>0.835828</td>\n",
       "      <td>0.501497</td>\n",
       "      <td>0.689849</td>\n",
       "      <td>2.439000</td>\n",
       "      <td>0.296702</td>\n",
       "    </tr>\n",
       "    <tr>\n",
       "      <th>6</th>\n",
       "      <td>0.207538</td>\n",
       "      <td>0.493245</td>\n",
       "      <td>2.919171</td>\n",
       "      <td>0.526545</td>\n",
       "      <td>0.231150</td>\n",
       "    </tr>\n",
       "    <tr>\n",
       "      <th>7</th>\n",
       "      <td>0.332739</td>\n",
       "      <td>0.916936</td>\n",
       "      <td>0.384096</td>\n",
       "      <td>1.194553</td>\n",
       "      <td>1.723816</td>\n",
       "    </tr>\n",
       "    <tr>\n",
       "      <th>8</th>\n",
       "      <td>1.755983</td>\n",
       "      <td>0.291318</td>\n",
       "      <td>1.667883</td>\n",
       "      <td>0.656309</td>\n",
       "      <td>1.897897</td>\n",
       "    </tr>\n",
       "    <tr>\n",
       "      <th>9</th>\n",
       "      <td>4.876530</td>\n",
       "      <td>3.140018</td>\n",
       "      <td>0.472867</td>\n",
       "      <td>0.366290</td>\n",
       "      <td>9.017054</td>\n",
       "    </tr>\n",
       "    <tr>\n",
       "      <th>10</th>\n",
       "      <td>0.874731</td>\n",
       "      <td>1.277506</td>\n",
       "      <td>3.381417</td>\n",
       "      <td>1.396038</td>\n",
       "      <td>0.424989</td>\n",
       "    </tr>\n",
       "    <tr>\n",
       "      <th>11</th>\n",
       "      <td>0.235458</td>\n",
       "      <td>0.211428</td>\n",
       "      <td>1.288695</td>\n",
       "      <td>0.875259</td>\n",
       "      <td>1.217646</td>\n",
       "    </tr>\n",
       "    <tr>\n",
       "      <th>12</th>\n",
       "      <td>2.617746</td>\n",
       "      <td>6.517685</td>\n",
       "      <td>0.361303</td>\n",
       "      <td>0.262410</td>\n",
       "      <td>1.463748</td>\n",
       "    </tr>\n",
       "    <tr>\n",
       "      <th>13</th>\n",
       "      <td>8.130509</td>\n",
       "      <td>4.194033</td>\n",
       "      <td>0.586690</td>\n",
       "      <td>3.104647</td>\n",
       "      <td>0.733884</td>\n",
       "    </tr>\n",
       "    <tr>\n",
       "      <th>14</th>\n",
       "      <td>1.707896</td>\n",
       "      <td>1.134271</td>\n",
       "      <td>0.603895</td>\n",
       "      <td>1.009480</td>\n",
       "      <td>8.683418</td>\n",
       "    </tr>\n",
       "    <tr>\n",
       "      <th>15</th>\n",
       "      <td>5.566344</td>\n",
       "      <td>3.220888</td>\n",
       "      <td>3.111878</td>\n",
       "      <td>0.636397</td>\n",
       "      <td>0.686898</td>\n",
       "    </tr>\n",
       "    <tr>\n",
       "      <th>16</th>\n",
       "      <td>2.672336</td>\n",
       "      <td>1.557385</td>\n",
       "      <td>1.418632</td>\n",
       "      <td>1.688808</td>\n",
       "      <td>3.470942</td>\n",
       "    </tr>\n",
       "    <tr>\n",
       "      <th>17</th>\n",
       "      <td>0.527946</td>\n",
       "      <td>0.913333</td>\n",
       "      <td>1.089128</td>\n",
       "      <td>0.647076</td>\n",
       "      <td>0.638819</td>\n",
       "    </tr>\n",
       "    <tr>\n",
       "      <th>18</th>\n",
       "      <td>0.822489</td>\n",
       "      <td>1.782611</td>\n",
       "      <td>0.285208</td>\n",
       "      <td>1.017323</td>\n",
       "      <td>0.582340</td>\n",
       "    </tr>\n",
       "    <tr>\n",
       "      <th>19</th>\n",
       "      <td>0.581103</td>\n",
       "      <td>3.856129</td>\n",
       "      <td>0.367963</td>\n",
       "      <td>1.182608</td>\n",
       "      <td>1.158297</td>\n",
       "    </tr>\n",
       "    <tr>\n",
       "      <th>20</th>\n",
       "      <td>1.217442</td>\n",
       "      <td>0.289923</td>\n",
       "      <td>0.300718</td>\n",
       "      <td>2.476995</td>\n",
       "      <td>0.233636</td>\n",
       "    </tr>\n",
       "    <tr>\n",
       "      <th>21</th>\n",
       "      <td>0.828999</td>\n",
       "      <td>2.500230</td>\n",
       "      <td>0.717944</td>\n",
       "      <td>1.833545</td>\n",
       "      <td>2.306218</td>\n",
       "    </tr>\n",
       "    <tr>\n",
       "      <th>22</th>\n",
       "      <td>0.369173</td>\n",
       "      <td>1.280722</td>\n",
       "      <td>1.015144</td>\n",
       "      <td>0.269795</td>\n",
       "      <td>1.007320</td>\n",
       "    </tr>\n",
       "    <tr>\n",
       "      <th>23</th>\n",
       "      <td>0.265657</td>\n",
       "      <td>1.197538</td>\n",
       "      <td>6.392394</td>\n",
       "      <td>0.362025</td>\n",
       "      <td>0.731246</td>\n",
       "    </tr>\n",
       "    <tr>\n",
       "      <th>24</th>\n",
       "      <td>2.054864</td>\n",
       "      <td>1.229235</td>\n",
       "      <td>3.528460</td>\n",
       "      <td>3.885272</td>\n",
       "      <td>0.212486</td>\n",
       "    </tr>\n",
       "    <tr>\n",
       "      <th>25</th>\n",
       "      <td>2.573386</td>\n",
       "      <td>0.613055</td>\n",
       "      <td>1.445767</td>\n",
       "      <td>1.832443</td>\n",
       "      <td>1.786710</td>\n",
       "    </tr>\n",
       "    <tr>\n",
       "      <th>26</th>\n",
       "      <td>1.847913</td>\n",
       "      <td>5.347715</td>\n",
       "      <td>0.390150</td>\n",
       "      <td>0.126318</td>\n",
       "      <td>1.144581</td>\n",
       "    </tr>\n",
       "    <tr>\n",
       "      <th>27</th>\n",
       "      <td>0.494499</td>\n",
       "      <td>2.807366</td>\n",
       "      <td>1.989576</td>\n",
       "      <td>2.638582</td>\n",
       "      <td>2.027977</td>\n",
       "    </tr>\n",
       "    <tr>\n",
       "      <th>28</th>\n",
       "      <td>0.250284</td>\n",
       "      <td>1.030748</td>\n",
       "      <td>0.271984</td>\n",
       "      <td>1.044338</td>\n",
       "      <td>1.455143</td>\n",
       "    </tr>\n",
       "    <tr>\n",
       "      <th>29</th>\n",
       "      <td>1.180542</td>\n",
       "      <td>1.064472</td>\n",
       "      <td>3.533548</td>\n",
       "      <td>0.652969</td>\n",
       "      <td>1.343636</td>\n",
       "    </tr>\n",
       "    <tr>\n",
       "      <th>30</th>\n",
       "      <td>3.317806</td>\n",
       "      <td>0.296747</td>\n",
       "      <td>0.291802</td>\n",
       "      <td>1.562762</td>\n",
       "      <td>0.362653</td>\n",
       "    </tr>\n",
       "    <tr>\n",
       "      <th>31</th>\n",
       "      <td>0.663511</td>\n",
       "      <td>2.205794</td>\n",
       "      <td>0.478693</td>\n",
       "      <td>0.155889</td>\n",
       "      <td>0.146060</td>\n",
       "    </tr>\n",
       "    <tr>\n",
       "      <th>32</th>\n",
       "      <td>1.019480</td>\n",
       "      <td>0.446238</td>\n",
       "      <td>0.857948</td>\n",
       "      <td>0.539293</td>\n",
       "      <td>0.629381</td>\n",
       "    </tr>\n",
       "    <tr>\n",
       "      <th>33</th>\n",
       "      <td>0.429707</td>\n",
       "      <td>2.446304</td>\n",
       "      <td>0.518710</td>\n",
       "      <td>0.733553</td>\n",
       "      <td>0.558813</td>\n",
       "    </tr>\n",
       "    <tr>\n",
       "      <th>34</th>\n",
       "      <td>1.109111</td>\n",
       "      <td>0.996661</td>\n",
       "      <td>0.826952</td>\n",
       "      <td>1.693772</td>\n",
       "      <td>0.941795</td>\n",
       "    </tr>\n",
       "    <tr>\n",
       "      <th>35</th>\n",
       "      <td>0.473068</td>\n",
       "      <td>2.330000</td>\n",
       "      <td>0.259480</td>\n",
       "      <td>1.179324</td>\n",
       "      <td>3.578507</td>\n",
       "    </tr>\n",
       "    <tr>\n",
       "      <th>36</th>\n",
       "      <td>0.847065</td>\n",
       "      <td>0.859220</td>\n",
       "      <td>0.800083</td>\n",
       "      <td>0.638858</td>\n",
       "      <td>1.487523</td>\n",
       "    </tr>\n",
       "    <tr>\n",
       "      <th>37</th>\n",
       "      <td>0.565262</td>\n",
       "      <td>2.436060</td>\n",
       "      <td>1.803155</td>\n",
       "      <td>2.087739</td>\n",
       "      <td>1.755578</td>\n",
       "    </tr>\n",
       "    <tr>\n",
       "      <th>38</th>\n",
       "      <td>1.559872</td>\n",
       "      <td>0.401024</td>\n",
       "      <td>1.246778</td>\n",
       "      <td>1.566878</td>\n",
       "      <td>2.681858</td>\n",
       "    </tr>\n",
       "    <tr>\n",
       "      <th>39</th>\n",
       "      <td>1.291751</td>\n",
       "      <td>2.896264</td>\n",
       "      <td>0.365984</td>\n",
       "      <td>0.248409</td>\n",
       "      <td>2.688247</td>\n",
       "    </tr>\n",
       "    <tr>\n",
       "      <th>40</th>\n",
       "      <td>1.599801</td>\n",
       "      <td>0.530204</td>\n",
       "      <td>0.264330</td>\n",
       "      <td>2.582084</td>\n",
       "      <td>1.210860</td>\n",
       "    </tr>\n",
       "    <tr>\n",
       "      <th>41</th>\n",
       "      <td>0.970411</td>\n",
       "      <td>2.029185</td>\n",
       "      <td>2.236318</td>\n",
       "      <td>0.973573</td>\n",
       "      <td>0.091514</td>\n",
       "    </tr>\n",
       "    <tr>\n",
       "      <th>42</th>\n",
       "      <td>3.274800</td>\n",
       "      <td>2.361255</td>\n",
       "      <td>0.556327</td>\n",
       "      <td>2.007977</td>\n",
       "      <td>0.345151</td>\n",
       "    </tr>\n",
       "    <tr>\n",
       "      <th>43</th>\n",
       "      <td>0.541013</td>\n",
       "      <td>1.509572</td>\n",
       "      <td>0.743363</td>\n",
       "      <td>3.284454</td>\n",
       "      <td>2.093916</td>\n",
       "    </tr>\n",
       "    <tr>\n",
       "      <th>44</th>\n",
       "      <td>3.544464</td>\n",
       "      <td>0.150260</td>\n",
       "      <td>1.570069</td>\n",
       "      <td>1.760696</td>\n",
       "      <td>0.241898</td>\n",
       "    </tr>\n",
       "    <tr>\n",
       "      <th>45</th>\n",
       "      <td>0.348724</td>\n",
       "      <td>1.427598</td>\n",
       "      <td>0.790030</td>\n",
       "      <td>15.095812</td>\n",
       "      <td>0.357468</td>\n",
       "    </tr>\n",
       "    <tr>\n",
       "      <th>46</th>\n",
       "      <td>0.258129</td>\n",
       "      <td>0.905641</td>\n",
       "      <td>1.293381</td>\n",
       "      <td>0.661482</td>\n",
       "      <td>4.427455</td>\n",
       "    </tr>\n",
       "    <tr>\n",
       "      <th>47</th>\n",
       "      <td>0.573789</td>\n",
       "      <td>4.031859</td>\n",
       "      <td>0.905634</td>\n",
       "      <td>1.567016</td>\n",
       "      <td>0.104778</td>\n",
       "    </tr>\n",
       "    <tr>\n",
       "      <th>48</th>\n",
       "      <td>5.031463</td>\n",
       "      <td>1.077064</td>\n",
       "      <td>1.145049</td>\n",
       "      <td>2.806225</td>\n",
       "      <td>1.056367</td>\n",
       "    </tr>\n",
       "    <tr>\n",
       "      <th>49</th>\n",
       "      <td>0.353107</td>\n",
       "      <td>0.938079</td>\n",
       "      <td>0.191561</td>\n",
       "      <td>0.671134</td>\n",
       "      <td>2.155716</td>\n",
       "    </tr>\n",
       "  </tbody>\n",
       "</table>\n",
       "</div>"
      ],
      "text/plain": [
       "           a         b         c          d         e\n",
       "0   0.219470  0.160117  0.767756   2.574153  1.871718\n",
       "1   1.803817  2.156305  1.067632   0.654659  3.774667\n",
       "2   0.566067  0.674832  0.285027   0.731270  5.712304\n",
       "3   1.152477  1.038616  0.721366   1.679436  0.370715\n",
       "4   1.819985  2.781928  0.051661   4.030145  1.074754\n",
       "5   0.835828  0.501497  0.689849   2.439000  0.296702\n",
       "6   0.207538  0.493245  2.919171   0.526545  0.231150\n",
       "7   0.332739  0.916936  0.384096   1.194553  1.723816\n",
       "8   1.755983  0.291318  1.667883   0.656309  1.897897\n",
       "9   4.876530  3.140018  0.472867   0.366290  9.017054\n",
       "10  0.874731  1.277506  3.381417   1.396038  0.424989\n",
       "11  0.235458  0.211428  1.288695   0.875259  1.217646\n",
       "12  2.617746  6.517685  0.361303   0.262410  1.463748\n",
       "13  8.130509  4.194033  0.586690   3.104647  0.733884\n",
       "14  1.707896  1.134271  0.603895   1.009480  8.683418\n",
       "15  5.566344  3.220888  3.111878   0.636397  0.686898\n",
       "16  2.672336  1.557385  1.418632   1.688808  3.470942\n",
       "17  0.527946  0.913333  1.089128   0.647076  0.638819\n",
       "18  0.822489  1.782611  0.285208   1.017323  0.582340\n",
       "19  0.581103  3.856129  0.367963   1.182608  1.158297\n",
       "20  1.217442  0.289923  0.300718   2.476995  0.233636\n",
       "21  0.828999  2.500230  0.717944   1.833545  2.306218\n",
       "22  0.369173  1.280722  1.015144   0.269795  1.007320\n",
       "23  0.265657  1.197538  6.392394   0.362025  0.731246\n",
       "24  2.054864  1.229235  3.528460   3.885272  0.212486\n",
       "25  2.573386  0.613055  1.445767   1.832443  1.786710\n",
       "26  1.847913  5.347715  0.390150   0.126318  1.144581\n",
       "27  0.494499  2.807366  1.989576   2.638582  2.027977\n",
       "28  0.250284  1.030748  0.271984   1.044338  1.455143\n",
       "29  1.180542  1.064472  3.533548   0.652969  1.343636\n",
       "30  3.317806  0.296747  0.291802   1.562762  0.362653\n",
       "31  0.663511  2.205794  0.478693   0.155889  0.146060\n",
       "32  1.019480  0.446238  0.857948   0.539293  0.629381\n",
       "33  0.429707  2.446304  0.518710   0.733553  0.558813\n",
       "34  1.109111  0.996661  0.826952   1.693772  0.941795\n",
       "35  0.473068  2.330000  0.259480   1.179324  3.578507\n",
       "36  0.847065  0.859220  0.800083   0.638858  1.487523\n",
       "37  0.565262  2.436060  1.803155   2.087739  1.755578\n",
       "38  1.559872  0.401024  1.246778   1.566878  2.681858\n",
       "39  1.291751  2.896264  0.365984   0.248409  2.688247\n",
       "40  1.599801  0.530204  0.264330   2.582084  1.210860\n",
       "41  0.970411  2.029185  2.236318   0.973573  0.091514\n",
       "42  3.274800  2.361255  0.556327   2.007977  0.345151\n",
       "43  0.541013  1.509572  0.743363   3.284454  2.093916\n",
       "44  3.544464  0.150260  1.570069   1.760696  0.241898\n",
       "45  0.348724  1.427598  0.790030  15.095812  0.357468\n",
       "46  0.258129  0.905641  1.293381   0.661482  4.427455\n",
       "47  0.573789  4.031859  0.905634   1.567016  0.104778\n",
       "48  5.031463  1.077064  1.145049   2.806225  1.056367\n",
       "49  0.353107  0.938079  0.191561   0.671134  2.155716"
      ]
     },
     "execution_count": 30,
     "metadata": {},
     "output_type": "execute_result"
    }
   ],
   "source": [
    "df.apply(np.exp)"
   ]
  },
  {
   "cell_type": "code",
   "execution_count": 31,
   "metadata": {
    "collapsed": false
   },
   "outputs": [
    {
     "data": {
      "text/plain": [
       "a   -0.018180\n",
       "b    0.174723\n",
       "c   -0.242387\n",
       "d    0.101454\n",
       "e   -0.000941\n",
       "dtype: float64"
      ]
     },
     "execution_count": 31,
     "metadata": {},
     "output_type": "execute_result"
    }
   ],
   "source": [
    "df.apply('mean')"
   ]
  },
  {
   "cell_type": "code",
   "execution_count": 32,
   "metadata": {
    "collapsed": false
   },
   "outputs": [
    {
     "data": {
      "text/plain": [
       "0    -0.408060\n",
       "1     0.465683\n",
       "2    -0.157571\n",
       "3    -0.124134\n",
       "4     0.024963\n",
       "5    -0.312843\n",
       "6    -0.662799\n",
       "7    -0.284333\n",
       "8     0.012173\n",
       "9     0.634902\n",
       "10    0.161462\n",
       "11   -0.536556\n",
       "12    0.172389\n",
       "13    0.763905\n",
       "14    0.465550\n",
       "15    0.638824\n",
       "16    0.708820\n",
       "17   -0.305493\n",
       "18   -0.279081\n",
       "19    0.024347\n",
       "20   -0.557983\n",
       "21    0.367869\n",
       "22   -0.407367\n",
       "23   -0.123844\n",
       "24    0.399156\n",
       "25    0.402117\n",
       "26   -0.116883\n",
       "27    0.538648\n",
       "28   -0.447680\n",
       "29    0.271982\n",
       "30   -0.363021\n",
       "31   -0.827634\n",
       "32   -0.404268\n",
       "33   -0.299656\n",
       "34    0.075439\n",
       "35    0.037632\n",
       "36   -0.118342\n",
       "37    0.441667\n",
       "38    0.237405\n",
       "39   -0.017907\n",
       "40   -0.071048\n",
       "41   -0.187124\n",
       "42    0.218481\n",
       "43    0.285836\n",
       "44   -0.206483\n",
       "45    0.150508\n",
       "46   -0.024319\n",
       "47   -0.213425\n",
       "48    0.582415\n",
       "49   -0.477624\n",
       "dtype: float64"
      ]
     },
     "execution_count": 32,
     "metadata": {},
     "output_type": "execute_result"
    }
   ],
   "source": [
    "df.apply('mean', axis=1)"
   ]
  },
  {
   "cell_type": "code",
   "execution_count": null,
   "metadata": {
    "collapsed": true
   },
   "outputs": [],
   "source": []
  }
 ],
 "metadata": {
  "anaconda-cloud": {},
  "kernelspec": {
   "display_name": "Python [conda root]",
   "language": "python",
   "name": "conda-root-py"
  },
  "language_info": {
   "codemirror_mode": {
    "name": "ipython",
    "version": 3
   },
   "file_extension": ".py",
   "mimetype": "text/x-python",
   "name": "python",
   "nbconvert_exporter": "python",
   "pygments_lexer": "ipython3",
   "version": "3.5.2"
  }
 },
 "nbformat": 4,
 "nbformat_minor": 1
}
