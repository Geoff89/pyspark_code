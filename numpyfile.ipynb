{
 "cells": [
  {
   "cell_type": "code",
   "execution_count": 1,
   "metadata": {
    "collapsed": true
   },
   "outputs": [],
   "source": [
    "import matplotlib.pyplot as plt"
   ]
  },
  {
   "cell_type": "code",
   "execution_count": 2,
   "metadata": {
    "collapsed": true
   },
   "outputs": [],
   "source": [
    "x = [1,2,3,4,5]\n",
    "y = [1,2,3,4,5]"
   ]
  },
  {
   "cell_type": "code",
   "execution_count": 3,
   "metadata": {
    "collapsed": false
   },
   "outputs": [
    {
     "data": {
      "text/plain": [
       "<matplotlib.collections.PathCollection at 0xe9c1240b8>"
      ]
     },
     "execution_count": 3,
     "metadata": {},
     "output_type": "execute_result"
    }
   ],
   "source": [
    "plt.scatter(x,y)"
   ]
  },
  {
   "cell_type": "code",
   "execution_count": 4,
   "metadata": {
    "collapsed": false
   },
   "outputs": [
    {
     "data": {
      "text/plain": [
       "[]"
      ]
     },
     "execution_count": 4,
     "metadata": {},
     "output_type": "execute_result"
    }
   ],
   "source": [
    "plt.plot()"
   ]
  },
  {
   "cell_type": "code",
   "execution_count": 5,
   "metadata": {
    "collapsed": false
   },
   "outputs": [
    {
     "data": {
      "text/plain": [
       "[<matplotlib.lines.Line2D at 0xb335413400>]"
      ]
     },
     "execution_count": 5,
     "metadata": {},
     "output_type": "execute_result"
    }
   ],
   "source": [
    "plt.plot([1,2,3,4,5,6])"
   ]
  },
  {
   "cell_type": "code",
   "execution_count": 4,
   "metadata": {
    "collapsed": true
   },
   "outputs": [],
   "source": [
    "import numpy as np"
   ]
  },
  {
   "cell_type": "code",
   "execution_count": 5,
   "metadata": {
    "collapsed": true
   },
   "outputs": [],
   "source": [
    "nx, ny  = (3,2)"
   ]
  },
  {
   "cell_type": "code",
   "execution_count": 6,
   "metadata": {
    "collapsed": false
   },
   "outputs": [
    {
     "data": {
      "text/plain": [
       "3"
      ]
     },
     "execution_count": 6,
     "metadata": {},
     "output_type": "execute_result"
    }
   ],
   "source": [
    "nx"
   ]
  },
  {
   "cell_type": "code",
   "execution_count": 7,
   "metadata": {
    "collapsed": false
   },
   "outputs": [
    {
     "data": {
      "text/plain": [
       "2"
      ]
     },
     "execution_count": 7,
     "metadata": {},
     "output_type": "execute_result"
    }
   ],
   "source": [
    "ny"
   ]
  },
  {
   "cell_type": "code",
   "execution_count": 8,
   "metadata": {
    "collapsed": true
   },
   "outputs": [],
   "source": [
    "x = np.linspace(0, 1, nx)\n",
    "y = np.linspace(0,1,ny)"
   ]
  },
  {
   "cell_type": "code",
   "execution_count": 9,
   "metadata": {
    "collapsed": false
   },
   "outputs": [
    {
     "data": {
      "text/plain": [
       "array([0. , 0.5, 1. ])"
      ]
     },
     "execution_count": 9,
     "metadata": {},
     "output_type": "execute_result"
    }
   ],
   "source": [
    "x"
   ]
  },
  {
   "cell_type": "code",
   "execution_count": 10,
   "metadata": {
    "collapsed": false
   },
   "outputs": [
    {
     "data": {
      "text/plain": [
       "array([0., 1.])"
      ]
     },
     "execution_count": 10,
     "metadata": {},
     "output_type": "execute_result"
    }
   ],
   "source": [
    "y"
   ]
  },
  {
   "cell_type": "code",
   "execution_count": 11,
   "metadata": {
    "collapsed": true
   },
   "outputs": [],
   "source": [
    "xv, yv = np.meshgrid(x,y)"
   ]
  },
  {
   "cell_type": "code",
   "execution_count": 12,
   "metadata": {
    "collapsed": false
   },
   "outputs": [
    {
     "data": {
      "text/plain": [
       "array([[0. , 0.5, 1. ],\n",
       "       [0. , 0.5, 1. ]])"
      ]
     },
     "execution_count": 12,
     "metadata": {},
     "output_type": "execute_result"
    }
   ],
   "source": [
    "xv"
   ]
  },
  {
   "cell_type": "code",
   "execution_count": 13,
   "metadata": {
    "collapsed": false
   },
   "outputs": [
    {
     "data": {
      "text/plain": [
       "array([[0., 0., 0.],\n",
       "       [1., 1., 1.]])"
      ]
     },
     "execution_count": 13,
     "metadata": {},
     "output_type": "execute_result"
    }
   ],
   "source": [
    "yv"
   ]
  },
  {
   "cell_type": "code",
   "execution_count": 14,
   "metadata": {
    "collapsed": true
   },
   "outputs": [],
   "source": [
    "xv, yv = np.meshgrid(x,y, sparse = True)"
   ]
  },
  {
   "cell_type": "code",
   "execution_count": 15,
   "metadata": {
    "collapsed": false
   },
   "outputs": [
    {
     "data": {
      "text/plain": [
       "array([[0. , 0.5, 1. ]])"
      ]
     },
     "execution_count": 15,
     "metadata": {},
     "output_type": "execute_result"
    }
   ],
   "source": [
    "xv"
   ]
  },
  {
   "cell_type": "code",
   "execution_count": 16,
   "metadata": {
    "collapsed": false
   },
   "outputs": [
    {
     "data": {
      "text/plain": [
       "array([[0.],\n",
       "       [1.]])"
      ]
     },
     "execution_count": 16,
     "metadata": {},
     "output_type": "execute_result"
    }
   ],
   "source": [
    "yv"
   ]
  },
  {
   "cell_type": "code",
   "execution_count": 17,
   "metadata": {
    "collapsed": true
   },
   "outputs": [],
   "source": [
    "x = np.arange(-5, 5, 0.1)\n",
    "y = np.arange(-5, 5, 0.1)"
   ]
  },
  {
   "cell_type": "code",
   "execution_count": 18,
   "metadata": {
    "collapsed": true
   },
   "outputs": [],
   "source": [
    "xx, yy = np.meshgrid(x,y, sparse = True)"
   ]
  },
  {
   "cell_type": "code",
   "execution_count": 19,
   "metadata": {
    "collapsed": false
   },
   "outputs": [
    {
     "data": {
      "text/plain": [
       "array([[-5.00000000e+00, -4.90000000e+00, -4.80000000e+00,\n",
       "        -4.70000000e+00, -4.60000000e+00, -4.50000000e+00,\n",
       "        -4.40000000e+00, -4.30000000e+00, -4.20000000e+00,\n",
       "        -4.10000000e+00, -4.00000000e+00, -3.90000000e+00,\n",
       "        -3.80000000e+00, -3.70000000e+00, -3.60000000e+00,\n",
       "        -3.50000000e+00, -3.40000000e+00, -3.30000000e+00,\n",
       "        -3.20000000e+00, -3.10000000e+00, -3.00000000e+00,\n",
       "        -2.90000000e+00, -2.80000000e+00, -2.70000000e+00,\n",
       "        -2.60000000e+00, -2.50000000e+00, -2.40000000e+00,\n",
       "        -2.30000000e+00, -2.20000000e+00, -2.10000000e+00,\n",
       "        -2.00000000e+00, -1.90000000e+00, -1.80000000e+00,\n",
       "        -1.70000000e+00, -1.60000000e+00, -1.50000000e+00,\n",
       "        -1.40000000e+00, -1.30000000e+00, -1.20000000e+00,\n",
       "        -1.10000000e+00, -1.00000000e+00, -9.00000000e-01,\n",
       "        -8.00000000e-01, -7.00000000e-01, -6.00000000e-01,\n",
       "        -5.00000000e-01, -4.00000000e-01, -3.00000000e-01,\n",
       "        -2.00000000e-01, -1.00000000e-01, -1.77635684e-14,\n",
       "         1.00000000e-01,  2.00000000e-01,  3.00000000e-01,\n",
       "         4.00000000e-01,  5.00000000e-01,  6.00000000e-01,\n",
       "         7.00000000e-01,  8.00000000e-01,  9.00000000e-01,\n",
       "         1.00000000e+00,  1.10000000e+00,  1.20000000e+00,\n",
       "         1.30000000e+00,  1.40000000e+00,  1.50000000e+00,\n",
       "         1.60000000e+00,  1.70000000e+00,  1.80000000e+00,\n",
       "         1.90000000e+00,  2.00000000e+00,  2.10000000e+00,\n",
       "         2.20000000e+00,  2.30000000e+00,  2.40000000e+00,\n",
       "         2.50000000e+00,  2.60000000e+00,  2.70000000e+00,\n",
       "         2.80000000e+00,  2.90000000e+00,  3.00000000e+00,\n",
       "         3.10000000e+00,  3.20000000e+00,  3.30000000e+00,\n",
       "         3.40000000e+00,  3.50000000e+00,  3.60000000e+00,\n",
       "         3.70000000e+00,  3.80000000e+00,  3.90000000e+00,\n",
       "         4.00000000e+00,  4.10000000e+00,  4.20000000e+00,\n",
       "         4.30000000e+00,  4.40000000e+00,  4.50000000e+00,\n",
       "         4.60000000e+00,  4.70000000e+00,  4.80000000e+00,\n",
       "         4.90000000e+00]])"
      ]
     },
     "execution_count": 19,
     "metadata": {},
     "output_type": "execute_result"
    }
   ],
   "source": [
    "xx"
   ]
  },
  {
   "cell_type": "code",
   "execution_count": 20,
   "metadata": {
    "collapsed": false
   },
   "outputs": [
    {
     "data": {
      "text/plain": [
       "array([[-5.00000000e+00],\n",
       "       [-4.90000000e+00],\n",
       "       [-4.80000000e+00],\n",
       "       [-4.70000000e+00],\n",
       "       [-4.60000000e+00],\n",
       "       [-4.50000000e+00],\n",
       "       [-4.40000000e+00],\n",
       "       [-4.30000000e+00],\n",
       "       [-4.20000000e+00],\n",
       "       [-4.10000000e+00],\n",
       "       [-4.00000000e+00],\n",
       "       [-3.90000000e+00],\n",
       "       [-3.80000000e+00],\n",
       "       [-3.70000000e+00],\n",
       "       [-3.60000000e+00],\n",
       "       [-3.50000000e+00],\n",
       "       [-3.40000000e+00],\n",
       "       [-3.30000000e+00],\n",
       "       [-3.20000000e+00],\n",
       "       [-3.10000000e+00],\n",
       "       [-3.00000000e+00],\n",
       "       [-2.90000000e+00],\n",
       "       [-2.80000000e+00],\n",
       "       [-2.70000000e+00],\n",
       "       [-2.60000000e+00],\n",
       "       [-2.50000000e+00],\n",
       "       [-2.40000000e+00],\n",
       "       [-2.30000000e+00],\n",
       "       [-2.20000000e+00],\n",
       "       [-2.10000000e+00],\n",
       "       [-2.00000000e+00],\n",
       "       [-1.90000000e+00],\n",
       "       [-1.80000000e+00],\n",
       "       [-1.70000000e+00],\n",
       "       [-1.60000000e+00],\n",
       "       [-1.50000000e+00],\n",
       "       [-1.40000000e+00],\n",
       "       [-1.30000000e+00],\n",
       "       [-1.20000000e+00],\n",
       "       [-1.10000000e+00],\n",
       "       [-1.00000000e+00],\n",
       "       [-9.00000000e-01],\n",
       "       [-8.00000000e-01],\n",
       "       [-7.00000000e-01],\n",
       "       [-6.00000000e-01],\n",
       "       [-5.00000000e-01],\n",
       "       [-4.00000000e-01],\n",
       "       [-3.00000000e-01],\n",
       "       [-2.00000000e-01],\n",
       "       [-1.00000000e-01],\n",
       "       [-1.77635684e-14],\n",
       "       [ 1.00000000e-01],\n",
       "       [ 2.00000000e-01],\n",
       "       [ 3.00000000e-01],\n",
       "       [ 4.00000000e-01],\n",
       "       [ 5.00000000e-01],\n",
       "       [ 6.00000000e-01],\n",
       "       [ 7.00000000e-01],\n",
       "       [ 8.00000000e-01],\n",
       "       [ 9.00000000e-01],\n",
       "       [ 1.00000000e+00],\n",
       "       [ 1.10000000e+00],\n",
       "       [ 1.20000000e+00],\n",
       "       [ 1.30000000e+00],\n",
       "       [ 1.40000000e+00],\n",
       "       [ 1.50000000e+00],\n",
       "       [ 1.60000000e+00],\n",
       "       [ 1.70000000e+00],\n",
       "       [ 1.80000000e+00],\n",
       "       [ 1.90000000e+00],\n",
       "       [ 2.00000000e+00],\n",
       "       [ 2.10000000e+00],\n",
       "       [ 2.20000000e+00],\n",
       "       [ 2.30000000e+00],\n",
       "       [ 2.40000000e+00],\n",
       "       [ 2.50000000e+00],\n",
       "       [ 2.60000000e+00],\n",
       "       [ 2.70000000e+00],\n",
       "       [ 2.80000000e+00],\n",
       "       [ 2.90000000e+00],\n",
       "       [ 3.00000000e+00],\n",
       "       [ 3.10000000e+00],\n",
       "       [ 3.20000000e+00],\n",
       "       [ 3.30000000e+00],\n",
       "       [ 3.40000000e+00],\n",
       "       [ 3.50000000e+00],\n",
       "       [ 3.60000000e+00],\n",
       "       [ 3.70000000e+00],\n",
       "       [ 3.80000000e+00],\n",
       "       [ 3.90000000e+00],\n",
       "       [ 4.00000000e+00],\n",
       "       [ 4.10000000e+00],\n",
       "       [ 4.20000000e+00],\n",
       "       [ 4.30000000e+00],\n",
       "       [ 4.40000000e+00],\n",
       "       [ 4.50000000e+00],\n",
       "       [ 4.60000000e+00],\n",
       "       [ 4.70000000e+00],\n",
       "       [ 4.80000000e+00],\n",
       "       [ 4.90000000e+00]])"
      ]
     },
     "execution_count": 20,
     "metadata": {},
     "output_type": "execute_result"
    }
   ],
   "source": [
    "yy"
   ]
  },
  {
   "cell_type": "code",
   "execution_count": 21,
   "metadata": {
    "collapsed": true
   },
   "outputs": [],
   "source": [
    "xx, yy = np.meshgrid(x,y)"
   ]
  },
  {
   "cell_type": "code",
   "execution_count": 22,
   "metadata": {
    "collapsed": false
   },
   "outputs": [
    {
     "data": {
      "text/plain": [
       "array([[-5. , -4.9, -4.8, ...,  4.7,  4.8,  4.9],\n",
       "       [-5. , -4.9, -4.8, ...,  4.7,  4.8,  4.9],\n",
       "       [-5. , -4.9, -4.8, ...,  4.7,  4.8,  4.9],\n",
       "       ...,\n",
       "       [-5. , -4.9, -4.8, ...,  4.7,  4.8,  4.9],\n",
       "       [-5. , -4.9, -4.8, ...,  4.7,  4.8,  4.9],\n",
       "       [-5. , -4.9, -4.8, ...,  4.7,  4.8,  4.9]])"
      ]
     },
     "execution_count": 22,
     "metadata": {},
     "output_type": "execute_result"
    }
   ],
   "source": [
    "xx"
   ]
  },
  {
   "cell_type": "code",
   "execution_count": 23,
   "metadata": {
    "collapsed": false
   },
   "outputs": [
    {
     "data": {
      "text/plain": [
       "array([[-5. , -5. , -5. , ..., -5. , -5. , -5. ],\n",
       "       [-4.9, -4.9, -4.9, ..., -4.9, -4.9, -4.9],\n",
       "       [-4.8, -4.8, -4.8, ..., -4.8, -4.8, -4.8],\n",
       "       ...,\n",
       "       [ 4.7,  4.7,  4.7, ...,  4.7,  4.7,  4.7],\n",
       "       [ 4.8,  4.8,  4.8, ...,  4.8,  4.8,  4.8],\n",
       "       [ 4.9,  4.9,  4.9, ...,  4.9,  4.9,  4.9]])"
      ]
     },
     "execution_count": 23,
     "metadata": {},
     "output_type": "execute_result"
    }
   ],
   "source": [
    "yy"
   ]
  },
  {
   "cell_type": "code",
   "execution_count": 24,
   "metadata": {
    "collapsed": false
   },
   "outputs": [
    {
     "data": {
      "text/plain": [
       "array([[[0, 0, 0, 0, 0],\n",
       "        [1, 1, 1, 1, 1],\n",
       "        [2, 2, 2, 2, 2],\n",
       "        [3, 3, 3, 3, 3],\n",
       "        [4, 4, 4, 4, 4]],\n",
       "\n",
       "       [[0, 1, 2, 3, 4],\n",
       "        [0, 1, 2, 3, 4],\n",
       "        [0, 1, 2, 3, 4],\n",
       "        [0, 1, 2, 3, 4],\n",
       "        [0, 1, 2, 3, 4]]])"
      ]
     },
     "execution_count": 24,
     "metadata": {},
     "output_type": "execute_result"
    }
   ],
   "source": [
    "np.mgrid[0:5, 0:5]"
   ]
  },
  {
   "cell_type": "code",
   "execution_count": 25,
   "metadata": {
    "collapsed": true
   },
   "outputs": [],
   "source": [
    "xx, yy = np.mgrid[0:5, 0:5]"
   ]
  },
  {
   "cell_type": "code",
   "execution_count": 26,
   "metadata": {
    "collapsed": false
   },
   "outputs": [
    {
     "data": {
      "text/plain": [
       "array([[0, 0, 0, 0, 0],\n",
       "       [1, 1, 1, 1, 1],\n",
       "       [2, 2, 2, 2, 2],\n",
       "       [3, 3, 3, 3, 3],\n",
       "       [4, 4, 4, 4, 4]])"
      ]
     },
     "execution_count": 26,
     "metadata": {},
     "output_type": "execute_result"
    }
   ],
   "source": [
    "xx"
   ]
  },
  {
   "cell_type": "code",
   "execution_count": 27,
   "metadata": {
    "collapsed": false
   },
   "outputs": [
    {
     "data": {
      "text/plain": [
       "array([[0, 1, 2, 3, 4],\n",
       "       [0, 1, 2, 3, 4],\n",
       "       [0, 1, 2, 3, 4],\n",
       "       [0, 1, 2, 3, 4],\n",
       "       [0, 1, 2, 3, 4]])"
      ]
     },
     "execution_count": 27,
     "metadata": {},
     "output_type": "execute_result"
    }
   ],
   "source": [
    "yy"
   ]
  },
  {
   "cell_type": "code",
   "execution_count": 46,
   "metadata": {
    "collapsed": false
   },
   "outputs": [
    {
     "name": "stdout",
     "output_type": "stream",
     "text": [
      "Using matplotlib backend: Qt5Agg\n",
      "Populating the interactive namespace from numpy and matplotlib\n"
     ]
    }
   ],
   "source": [
    "%pylab"
   ]
  },
  {
   "cell_type": "code",
   "execution_count": 45,
   "metadata": {
    "collapsed": true
   },
   "outputs": [],
   "source": [
    "x = randn(10000)"
   ]
  },
  {
   "cell_type": "code",
   "execution_count": 47,
   "metadata": {
    "collapsed": false
   },
   "outputs": [
    {
     "data": {
      "text/plain": [
       "(array([  1.,   0.,   0.,   0.,   0.,   0.,   0.,   0.,   0.,   0.,   0.,\n",
       "          0.,   1.,   0.,   2.,   1.,   0.,   2.,   0.,   2.,   6.,   3.,\n",
       "          8.,   5.,  16.,  10.,  11.,  20.,  21.,  24.,  38.,  31.,  43.,\n",
       "         55.,  55.,  71.,  79.,  82.,  85., 127., 147., 148., 138., 198.,\n",
       "        193., 193., 237., 250., 226., 264., 297., 286., 302., 297., 289.,\n",
       "        341., 339., 334., 269., 319., 323., 318., 315., 304., 258., 249.,\n",
       "        239., 222., 222., 177., 202., 170., 146., 152., 116., 102.,  89.,\n",
       "         85.,  49.,  67.,  54.,  55.,  46.,  35.,  24.,  22.,  13.,  18.,\n",
       "         16.,  10.,  13.,   6.,   3.,   5.,   1.,   1.,   3.,   1.,   0.,\n",
       "          3.]),\n",
       " array([-4.73483911, -4.65211048, -4.56938186, -4.48665323, -4.40392461,\n",
       "        -4.32119598, -4.23846736, -4.15573873, -4.07301011, -3.99028148,\n",
       "        -3.90755286, -3.82482423, -3.74209561, -3.65936698, -3.57663835,\n",
       "        -3.49390973, -3.4111811 , -3.32845248, -3.24572385, -3.16299523,\n",
       "        -3.0802666 , -2.99753798, -2.91480935, -2.83208073, -2.7493521 ,\n",
       "        -2.66662348, -2.58389485, -2.50116623, -2.4184376 , -2.33570898,\n",
       "        -2.25298035, -2.17025172, -2.0875231 , -2.00479447, -1.92206585,\n",
       "        -1.83933722, -1.7566086 , -1.67387997, -1.59115135, -1.50842272,\n",
       "        -1.4256941 , -1.34296547, -1.26023685, -1.17750822, -1.0947796 ,\n",
       "        -1.01205097, -0.92932235, -0.84659372, -0.76386509, -0.68113647,\n",
       "        -0.59840784, -0.51567922, -0.43295059, -0.35022197, -0.26749334,\n",
       "        -0.18476472, -0.10203609, -0.01930747,  0.06342116,  0.14614978,\n",
       "         0.22887841,  0.31160703,  0.39433566,  0.47706428,  0.55979291,\n",
       "         0.64252154,  0.72525016,  0.80797879,  0.89070741,  0.97343604,\n",
       "         1.05616466,  1.13889329,  1.22162191,  1.30435054,  1.38707916,\n",
       "         1.46980779,  1.55253641,  1.63526504,  1.71799366,  1.80072229,\n",
       "         1.88345091,  1.96617954,  2.04890817,  2.13163679,  2.21436542,\n",
       "         2.29709404,  2.37982267,  2.46255129,  2.54527992,  2.62800854,\n",
       "         2.71073717,  2.79346579,  2.87619442,  2.95892304,  3.04165167,\n",
       "         3.12438029,  3.20710892,  3.28983754,  3.37256617,  3.4552948 ,\n",
       "         3.53802342]),\n",
       " <a list of 100 Patch objects>)"
      ]
     },
     "execution_count": 47,
     "metadata": {},
     "output_type": "execute_result"
    }
   ],
   "source": [
    "hist(x,100)"
   ]
  },
  {
   "cell_type": "code",
   "execution_count": 33,
   "metadata": {
    "collapsed": true
   },
   "outputs": [],
   "source": [
    "fig = figure()"
   ]
  },
  {
   "cell_type": "code",
   "execution_count": 34,
   "metadata": {
    "collapsed": false
   },
   "outputs": [],
   "source": [
    "ax = fig.add_subplot(2,2,1)\n",
    "y = np.random.rand(100)\n",
    "plt.plot(y)\n",
    "ax.set_title('i')\n",
    "\n",
    "#panel 2\n",
    "ax =  fig.add_subplot(2,2,2)\n",
    "y = np.random.rand(5)\n",
    "x = np.arange(5)\n",
    "plt.bar(x,y)\n",
    "ax.set_title('2')\n",
    "\n",
    "#panel 3\n",
    "ax = fig.add_subplot(2,2,3)\n",
    "y = np.random.rand(5)\n",
    "y = y/sum(y)\n",
    "y[y<.05] = .05\n",
    "plt.pie(y)\n",
    "ax.set_title('3')\n",
    "\n",
    "#panel 4\n",
    "ax = fig.add_subplot(2,2,4)\n",
    "z = np.random.randn(100,2)\n",
    "z[:,1] = 0.5 * z[:,0] + np.sqrt(0.5) * z[:,1]\n",
    "x = z[:,0]\n",
    "y = z[:,1]\n",
    "plt.scatter(x,y)\n",
    "ax.set_title('4')\n",
    "plt.draw()"
   ]
  },
  {
   "cell_type": "code",
   "execution_count": 40,
   "metadata": {
    "collapsed": true
   },
   "outputs": [],
   "source": [
    "plt.clf()"
   ]
  },
  {
   "cell_type": "code",
   "execution_count": 38,
   "metadata": {
    "collapsed": false
   },
   "outputs": [
    {
     "data": {
      "text/plain": [
       "<matplotlib.text.Text at 0xe9e3cddd8>"
      ]
     },
     "execution_count": 38,
     "metadata": {},
     "output_type": "execute_result"
    }
   ],
   "source": [
    "x = np.cumsum(np.random.randn(100,3), axis =0)\n",
    "plt.plot(x[:,0], 'b-', label = 'series1')\n",
    "plt.hold(True)\n",
    "plt.plot(x[:,1], 'g-', label = 'series2')\n",
    "plt.plot(x[:,2], 'r:', label = 'series3')\n",
    "plt.legend()\n",
    "plt.title('Basic legend')"
   ]
  },
  {
   "cell_type": "code",
   "execution_count": 41,
   "metadata": {
    "collapsed": false
   },
   "outputs": [
    {
     "data": {
      "text/plain": [
       "<matplotlib.text.Text at 0xe9e609240>"
      ]
     },
     "execution_count": 41,
     "metadata": {},
     "output_type": "execute_result"
    }
   ],
   "source": [
    "plt.plot(x[:,0], 'b-', label = 'series1')\n",
    "plt.hold(True)\n",
    "plt.plot(x[:,1], 'g-', label = 'series2')\n",
    "plt.plot(x[:,2], 'r:', label = 'series3')\n",
    "plt.legend(loc=0,frameon=False, title='The Legend')\n",
    "plt.title('Basic legend')"
   ]
  },
  {
   "cell_type": "code",
   "execution_count": 42,
   "metadata": {
    "collapsed": false
   },
   "outputs": [
    {
     "data": {
      "text/plain": [
       "<matplotlib.figure.Figure at 0xe9e649ef0>"
      ]
     },
     "execution_count": 42,
     "metadata": {},
     "output_type": "execute_result"
    }
   ],
   "source": [
    "plt.figure()"
   ]
  },
  {
   "cell_type": "code",
   "execution_count": 43,
   "metadata": {
    "collapsed": true
   },
   "outputs": [],
   "source": [
    "y = np.random.normal(loc=0.5, scale=0.4, size=1000)\n",
    "y = y[(y > 0) & (y < 1)]\n",
    "y.sort()\n",
    "x = np.arange(len(y))\n",
    "# plot with various axes scales\n",
    "plt.figure(1)\n",
    "# linear\n",
    "plt.subplot(221)\n",
    "plt.plot(x, y)\n",
    "plt.yscale('linear')\n",
    "plt.title('linear')\n",
    "plt.grid(True)\n",
    "# log\n",
    "plt.subplot(222)\n",
    "plt.plot(x, y)\n",
    "plt.yscale('log')\n",
    "plt.title('log')\n",
    "plt.grid(True)\n",
    "# symmetric log\n",
    "plt.subplot(223)\n",
    "plt.plot(x, y - y.mean())\n",
    "plt.yscale('symlog', linthreshy=0.05)\n",
    "plt.title('symlog')\n",
    "plt.grid(True)\n",
    "# logit\n",
    "plt.subplot(224)\n",
    "plt.plot(x, y)\n",
    "plt.yscale('logit')\n",
    "plt.title('logit')\n",
    "plt.grid(True)"
   ]
  },
  {
   "cell_type": "code",
   "execution_count": 44,
   "metadata": {
    "collapsed": false
   },
   "outputs": [
    {
     "data": {
      "text/plain": [
       "[]"
      ]
     },
     "execution_count": 44,
     "metadata": {},
     "output_type": "execute_result"
    }
   ],
   "source": [
    "plot()"
   ]
  },
  {
   "cell_type": "code",
   "execution_count": null,
   "metadata": {
    "collapsed": true
   },
   "outputs": [],
   "source": []
  }
 ],
 "metadata": {
  "kernelspec": {
   "display_name": "Python [default]",
   "language": "python",
   "name": "python3"
  },
  "language_info": {
   "codemirror_mode": {
    "name": "ipython",
    "version": 3
   },
   "file_extension": ".py",
   "mimetype": "text/x-python",
   "name": "python",
   "nbconvert_exporter": "python",
   "pygments_lexer": "ipython3",
   "version": "3.5.2"
  }
 },
 "nbformat": 4,
 "nbformat_minor": 1
}
