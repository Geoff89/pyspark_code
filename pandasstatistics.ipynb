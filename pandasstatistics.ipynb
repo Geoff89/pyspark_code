{
 "cells": [
  {
   "cell_type": "markdown",
   "metadata": {
    "collapsed": true
   },
   "source": [
    "## Pandas statistical tools *statistics*"
   ]
  },
  {
   "cell_type": "code",
   "execution_count": 1,
   "metadata": {
    "collapsed": true
   },
   "outputs": [],
   "source": [
    "import pandas as pd\n",
    "import numpy as np\n",
    "import matplotlib.pyplot as plt\n",
    "\n",
    "%matplotlib inline"
   ]
  },
  {
   "cell_type": "code",
   "execution_count": 2,
   "metadata": {
    "collapsed": false
   },
   "outputs": [
    {
     "data": {
      "text/plain": [
       "0    0.540352\n",
       "1   -1.040806\n",
       "2   -0.688774\n",
       "3   -1.551631\n",
       "4   -0.530759\n",
       "5   -0.729367\n",
       "6    1.400230\n",
       "7    1.468177\n",
       "dtype: float64"
      ]
     },
     "execution_count": 2,
     "metadata": {},
     "output_type": "execute_result"
    }
   ],
   "source": [
    "#for serries\n",
    "ser = pd.Series(np.random.randn(8));ser"
   ]
  },
  {
   "cell_type": "code",
   "execution_count": 3,
   "metadata": {
    "collapsed": false
   },
   "outputs": [
    {
     "data": {
      "text/plain": [
       "0         NaN\n",
       "1   -2.926164\n",
       "2   -0.338230\n",
       "3    1.252741\n",
       "4   -0.657935\n",
       "5    0.374196\n",
       "6   -2.919788\n",
       "7    0.048525\n",
       "dtype: float64"
      ]
     },
     "execution_count": 3,
     "metadata": {},
     "output_type": "execute_result"
    }
   ],
   "source": [
    "#perentage change\n",
    "ser.pct_change()"
   ]
  },
  {
   "cell_type": "code",
   "execution_count": 7,
   "metadata": {
    "collapsed": false
   },
   "outputs": [
    {
     "data": {
      "text/html": [
       "<div>\n",
       "<style>\n",
       "    .dataframe thead tr:only-child th {\n",
       "        text-align: right;\n",
       "    }\n",
       "\n",
       "    .dataframe thead th {\n",
       "        text-align: left;\n",
       "    }\n",
       "\n",
       "    .dataframe tbody tr th {\n",
       "        vertical-align: top;\n",
       "    }\n",
       "</style>\n",
       "<table border=\"1\" class=\"dataframe\">\n",
       "  <thead>\n",
       "    <tr style=\"text-align: right;\">\n",
       "      <th></th>\n",
       "      <th>0</th>\n",
       "      <th>1</th>\n",
       "      <th>2</th>\n",
       "      <th>3</th>\n",
       "    </tr>\n",
       "  </thead>\n",
       "  <tbody>\n",
       "    <tr>\n",
       "      <th>0</th>\n",
       "      <td>0.636378</td>\n",
       "      <td>-0.723741</td>\n",
       "      <td>0.368519</td>\n",
       "      <td>-0.922718</td>\n",
       "    </tr>\n",
       "    <tr>\n",
       "      <th>1</th>\n",
       "      <td>-1.381239</td>\n",
       "      <td>0.156377</td>\n",
       "      <td>-0.555304</td>\n",
       "      <td>0.405288</td>\n",
       "    </tr>\n",
       "    <tr>\n",
       "      <th>2</th>\n",
       "      <td>-0.982475</td>\n",
       "      <td>-1.001982</td>\n",
       "      <td>-0.863729</td>\n",
       "      <td>1.052367</td>\n",
       "    </tr>\n",
       "    <tr>\n",
       "      <th>3</th>\n",
       "      <td>1.306454</td>\n",
       "      <td>0.045049</td>\n",
       "      <td>0.040372</td>\n",
       "      <td>0.792837</td>\n",
       "    </tr>\n",
       "    <tr>\n",
       "      <th>4</th>\n",
       "      <td>0.205986</td>\n",
       "      <td>-0.011058</td>\n",
       "      <td>-0.138546</td>\n",
       "      <td>0.843772</td>\n",
       "    </tr>\n",
       "    <tr>\n",
       "      <th>5</th>\n",
       "      <td>0.660501</td>\n",
       "      <td>-0.592378</td>\n",
       "      <td>-0.898421</td>\n",
       "      <td>-1.858969</td>\n",
       "    </tr>\n",
       "    <tr>\n",
       "      <th>6</th>\n",
       "      <td>0.088535</td>\n",
       "      <td>-1.070193</td>\n",
       "      <td>1.911171</td>\n",
       "      <td>1.987739</td>\n",
       "    </tr>\n",
       "    <tr>\n",
       "      <th>7</th>\n",
       "      <td>-0.414858</td>\n",
       "      <td>-0.407575</td>\n",
       "      <td>-0.601844</td>\n",
       "      <td>0.387445</td>\n",
       "    </tr>\n",
       "    <tr>\n",
       "      <th>8</th>\n",
       "      <td>-1.263318</td>\n",
       "      <td>-1.326208</td>\n",
       "      <td>0.678397</td>\n",
       "      <td>-0.293649</td>\n",
       "    </tr>\n",
       "    <tr>\n",
       "      <th>9</th>\n",
       "      <td>0.210407</td>\n",
       "      <td>0.937544</td>\n",
       "      <td>1.066219</td>\n",
       "      <td>1.868630</td>\n",
       "    </tr>\n",
       "  </tbody>\n",
       "</table>\n",
       "</div>"
      ],
      "text/plain": [
       "          0         1         2         3\n",
       "0  0.636378 -0.723741  0.368519 -0.922718\n",
       "1 -1.381239  0.156377 -0.555304  0.405288\n",
       "2 -0.982475 -1.001982 -0.863729  1.052367\n",
       "3  1.306454  0.045049  0.040372  0.792837\n",
       "4  0.205986 -0.011058 -0.138546  0.843772\n",
       "5  0.660501 -0.592378 -0.898421 -1.858969\n",
       "6  0.088535 -1.070193  1.911171  1.987739\n",
       "7 -0.414858 -0.407575 -0.601844  0.387445\n",
       "8 -1.263318 -1.326208  0.678397 -0.293649\n",
       "9  0.210407  0.937544  1.066219  1.868630"
      ]
     },
     "execution_count": 7,
     "metadata": {},
     "output_type": "execute_result"
    }
   ],
   "source": [
    "#for dataframe\n",
    "df = pd.DataFrame(np.random.randn(10,4));df"
   ]
  },
  {
   "cell_type": "code",
   "execution_count": 8,
   "metadata": {
    "collapsed": false
   },
   "outputs": [
    {
     "data": {
      "text/html": [
       "<div>\n",
       "<style>\n",
       "    .dataframe thead tr:only-child th {\n",
       "        text-align: right;\n",
       "    }\n",
       "\n",
       "    .dataframe thead th {\n",
       "        text-align: left;\n",
       "    }\n",
       "\n",
       "    .dataframe tbody tr th {\n",
       "        vertical-align: top;\n",
       "    }\n",
       "</style>\n",
       "<table border=\"1\" class=\"dataframe\">\n",
       "  <thead>\n",
       "    <tr style=\"text-align: right;\">\n",
       "      <th></th>\n",
       "      <th>0</th>\n",
       "      <th>1</th>\n",
       "      <th>2</th>\n",
       "      <th>3</th>\n",
       "    </tr>\n",
       "  </thead>\n",
       "  <tbody>\n",
       "    <tr>\n",
       "      <th>0</th>\n",
       "      <td>NaN</td>\n",
       "      <td>NaN</td>\n",
       "      <td>NaN</td>\n",
       "      <td>NaN</td>\n",
       "    </tr>\n",
       "    <tr>\n",
       "      <th>1</th>\n",
       "      <td>NaN</td>\n",
       "      <td>NaN</td>\n",
       "      <td>NaN</td>\n",
       "      <td>NaN</td>\n",
       "    </tr>\n",
       "    <tr>\n",
       "      <th>2</th>\n",
       "      <td>NaN</td>\n",
       "      <td>NaN</td>\n",
       "      <td>NaN</td>\n",
       "      <td>NaN</td>\n",
       "    </tr>\n",
       "    <tr>\n",
       "      <th>3</th>\n",
       "      <td>1.052954</td>\n",
       "      <td>-1.062245</td>\n",
       "      <td>-0.890448</td>\n",
       "      <td>-1.859241</td>\n",
       "    </tr>\n",
       "    <tr>\n",
       "      <th>4</th>\n",
       "      <td>-1.149131</td>\n",
       "      <td>-1.070714</td>\n",
       "      <td>-0.750504</td>\n",
       "      <td>1.081908</td>\n",
       "    </tr>\n",
       "    <tr>\n",
       "      <th>5</th>\n",
       "      <td>-1.672283</td>\n",
       "      <td>-0.408794</td>\n",
       "      <td>0.040166</td>\n",
       "      <td>-2.766464</td>\n",
       "    </tr>\n",
       "    <tr>\n",
       "      <th>6</th>\n",
       "      <td>-0.932233</td>\n",
       "      <td>-24.755990</td>\n",
       "      <td>46.338869</td>\n",
       "      <td>1.507121</td>\n",
       "    </tr>\n",
       "    <tr>\n",
       "      <th>7</th>\n",
       "      <td>-3.014009</td>\n",
       "      <td>35.857845</td>\n",
       "      <td>3.343999</td>\n",
       "      <td>-0.540818</td>\n",
       "    </tr>\n",
       "    <tr>\n",
       "      <th>8</th>\n",
       "      <td>-2.912666</td>\n",
       "      <td>1.238786</td>\n",
       "      <td>-1.755099</td>\n",
       "      <td>-0.842037</td>\n",
       "    </tr>\n",
       "    <tr>\n",
       "      <th>9</th>\n",
       "      <td>1.376550</td>\n",
       "      <td>-1.876051</td>\n",
       "      <td>-0.442112</td>\n",
       "      <td>-0.059922</td>\n",
       "    </tr>\n",
       "  </tbody>\n",
       "</table>\n",
       "</div>"
      ],
      "text/plain": [
       "          0          1          2         3\n",
       "0       NaN        NaN        NaN       NaN\n",
       "1       NaN        NaN        NaN       NaN\n",
       "2       NaN        NaN        NaN       NaN\n",
       "3  1.052954  -1.062245  -0.890448 -1.859241\n",
       "4 -1.149131  -1.070714  -0.750504  1.081908\n",
       "5 -1.672283  -0.408794   0.040166 -2.766464\n",
       "6 -0.932233 -24.755990  46.338869  1.507121\n",
       "7 -3.014009  35.857845   3.343999 -0.540818\n",
       "8 -2.912666   1.238786  -1.755099 -0.842037\n",
       "9  1.376550  -1.876051  -0.442112 -0.059922"
      ]
     },
     "execution_count": 8,
     "metadata": {},
     "output_type": "execute_result"
    }
   ],
   "source": [
    "df.pct_change(periods=3)"
   ]
  },
  {
   "cell_type": "code",
   "execution_count": 9,
   "metadata": {
    "collapsed": true
   },
   "outputs": [],
   "source": [
    "#computing covariance\n",
    "s1 = pd.Series(np.random.randn(1000))\n",
    "s2 = pd.Series(np.random.randn(1000))"
   ]
  },
  {
   "cell_type": "code",
   "execution_count": 11,
   "metadata": {
    "collapsed": false
   },
   "outputs": [
    {
     "data": {
      "text/plain": [
       "0.015033354194550274"
      ]
     },
     "execution_count": 11,
     "metadata": {},
     "output_type": "execute_result"
    }
   ],
   "source": [
    "s1.cov(s2)"
   ]
  },
  {
   "cell_type": "code",
   "execution_count": 13,
   "metadata": {
    "collapsed": false
   },
   "outputs": [],
   "source": [
    "#covariance\n",
    "frame = pd.DataFrame(np.random.randn(1000, 5), columns=['a', 'b', 'c', 'd', 'e'])"
   ]
  },
  {
   "cell_type": "code",
   "execution_count": 14,
   "metadata": {
    "collapsed": false
   },
   "outputs": [
    {
     "data": {
      "text/html": [
       "<div>\n",
       "<style>\n",
       "    .dataframe thead tr:only-child th {\n",
       "        text-align: right;\n",
       "    }\n",
       "\n",
       "    .dataframe thead th {\n",
       "        text-align: left;\n",
       "    }\n",
       "\n",
       "    .dataframe tbody tr th {\n",
       "        vertical-align: top;\n",
       "    }\n",
       "</style>\n",
       "<table border=\"1\" class=\"dataframe\">\n",
       "  <thead>\n",
       "    <tr style=\"text-align: right;\">\n",
       "      <th></th>\n",
       "      <th>a</th>\n",
       "      <th>b</th>\n",
       "      <th>c</th>\n",
       "      <th>d</th>\n",
       "      <th>e</th>\n",
       "    </tr>\n",
       "  </thead>\n",
       "  <tbody>\n",
       "    <tr>\n",
       "      <th>a</th>\n",
       "      <td>1.023463</td>\n",
       "      <td>-0.022714</td>\n",
       "      <td>0.010016</td>\n",
       "      <td>0.031433</td>\n",
       "      <td>-0.024205</td>\n",
       "    </tr>\n",
       "    <tr>\n",
       "      <th>b</th>\n",
       "      <td>-0.022714</td>\n",
       "      <td>0.961002</td>\n",
       "      <td>-0.014486</td>\n",
       "      <td>-0.058419</td>\n",
       "      <td>0.007372</td>\n",
       "    </tr>\n",
       "    <tr>\n",
       "      <th>c</th>\n",
       "      <td>0.010016</td>\n",
       "      <td>-0.014486</td>\n",
       "      <td>0.979639</td>\n",
       "      <td>-0.013023</td>\n",
       "      <td>0.034402</td>\n",
       "    </tr>\n",
       "    <tr>\n",
       "      <th>d</th>\n",
       "      <td>0.031433</td>\n",
       "      <td>-0.058419</td>\n",
       "      <td>-0.013023</td>\n",
       "      <td>1.005005</td>\n",
       "      <td>-0.008885</td>\n",
       "    </tr>\n",
       "    <tr>\n",
       "      <th>e</th>\n",
       "      <td>-0.024205</td>\n",
       "      <td>0.007372</td>\n",
       "      <td>0.034402</td>\n",
       "      <td>-0.008885</td>\n",
       "      <td>1.042797</td>\n",
       "    </tr>\n",
       "  </tbody>\n",
       "</table>\n",
       "</div>"
      ],
      "text/plain": [
       "          a         b         c         d         e\n",
       "a  1.023463 -0.022714  0.010016  0.031433 -0.024205\n",
       "b -0.022714  0.961002 -0.014486 -0.058419  0.007372\n",
       "c  0.010016 -0.014486  0.979639 -0.013023  0.034402\n",
       "d  0.031433 -0.058419 -0.013023  1.005005 -0.008885\n",
       "e -0.024205  0.007372  0.034402 -0.008885  1.042797"
      ]
     },
     "execution_count": 14,
     "metadata": {},
     "output_type": "execute_result"
    }
   ],
   "source": [
    "frame.cov()"
   ]
  },
  {
   "cell_type": "code",
   "execution_count": 15,
   "metadata": {
    "collapsed": true
   },
   "outputs": [],
   "source": [
    "frame = pd.DataFrame(np.random.randn(20, 3), columns=['a', 'b', 'c'])"
   ]
  },
  {
   "cell_type": "code",
   "execution_count": 16,
   "metadata": {
    "collapsed": false
   },
   "outputs": [
    {
     "data": {
      "text/plain": [
       "RangeIndex(start=0, stop=20, step=1)"
      ]
     },
     "execution_count": 16,
     "metadata": {},
     "output_type": "execute_result"
    }
   ],
   "source": [
    "frame.index"
   ]
  },
  {
   "cell_type": "code",
   "execution_count": 17,
   "metadata": {
    "collapsed": true
   },
   "outputs": [],
   "source": [
    "frame.loc[frame.index[:5], 'a'] = np.nan"
   ]
  },
  {
   "cell_type": "code",
   "execution_count": 18,
   "metadata": {
    "collapsed": true
   },
   "outputs": [],
   "source": [
    "frame.loc[frame.index[5:10], 'b'] = np.nan"
   ]
  },
  {
   "cell_type": "code",
   "execution_count": 19,
   "metadata": {
    "collapsed": false
   },
   "outputs": [
    {
     "data": {
      "text/html": [
       "<div>\n",
       "<style>\n",
       "    .dataframe thead tr:only-child th {\n",
       "        text-align: right;\n",
       "    }\n",
       "\n",
       "    .dataframe thead th {\n",
       "        text-align: left;\n",
       "    }\n",
       "\n",
       "    .dataframe tbody tr th {\n",
       "        vertical-align: top;\n",
       "    }\n",
       "</style>\n",
       "<table border=\"1\" class=\"dataframe\">\n",
       "  <thead>\n",
       "    <tr style=\"text-align: right;\">\n",
       "      <th></th>\n",
       "      <th>a</th>\n",
       "      <th>b</th>\n",
       "      <th>c</th>\n",
       "    </tr>\n",
       "  </thead>\n",
       "  <tbody>\n",
       "    <tr>\n",
       "      <th>a</th>\n",
       "      <td>1.080665</td>\n",
       "      <td>-0.106539</td>\n",
       "      <td>0.161146</td>\n",
       "    </tr>\n",
       "    <tr>\n",
       "      <th>b</th>\n",
       "      <td>-0.106539</td>\n",
       "      <td>1.276232</td>\n",
       "      <td>-0.185695</td>\n",
       "    </tr>\n",
       "    <tr>\n",
       "      <th>c</th>\n",
       "      <td>0.161146</td>\n",
       "      <td>-0.185695</td>\n",
       "      <td>1.259645</td>\n",
       "    </tr>\n",
       "  </tbody>\n",
       "</table>\n",
       "</div>"
      ],
      "text/plain": [
       "          a         b         c\n",
       "a  1.080665 -0.106539  0.161146\n",
       "b -0.106539  1.276232 -0.185695\n",
       "c  0.161146 -0.185695  1.259645"
      ]
     },
     "execution_count": 19,
     "metadata": {},
     "output_type": "execute_result"
    }
   ],
   "source": [
    "frame.cov()"
   ]
  },
  {
   "cell_type": "code",
   "execution_count": 20,
   "metadata": {
    "collapsed": false
   },
   "outputs": [
    {
     "data": {
      "text/html": [
       "<div>\n",
       "<style>\n",
       "    .dataframe thead tr:only-child th {\n",
       "        text-align: right;\n",
       "    }\n",
       "\n",
       "    .dataframe thead th {\n",
       "        text-align: left;\n",
       "    }\n",
       "\n",
       "    .dataframe tbody tr th {\n",
       "        vertical-align: top;\n",
       "    }\n",
       "</style>\n",
       "<table border=\"1\" class=\"dataframe\">\n",
       "  <thead>\n",
       "    <tr style=\"text-align: right;\">\n",
       "      <th></th>\n",
       "      <th>a</th>\n",
       "      <th>b</th>\n",
       "      <th>c</th>\n",
       "    </tr>\n",
       "  </thead>\n",
       "  <tbody>\n",
       "    <tr>\n",
       "      <th>a</th>\n",
       "      <td>1.080665</td>\n",
       "      <td>NaN</td>\n",
       "      <td>0.161146</td>\n",
       "    </tr>\n",
       "    <tr>\n",
       "      <th>b</th>\n",
       "      <td>NaN</td>\n",
       "      <td>1.276232</td>\n",
       "      <td>-0.185695</td>\n",
       "    </tr>\n",
       "    <tr>\n",
       "      <th>c</th>\n",
       "      <td>0.161146</td>\n",
       "      <td>-0.185695</td>\n",
       "      <td>1.259645</td>\n",
       "    </tr>\n",
       "  </tbody>\n",
       "</table>\n",
       "</div>"
      ],
      "text/plain": [
       "          a         b         c\n",
       "a  1.080665       NaN  0.161146\n",
       "b       NaN  1.276232 -0.185695\n",
       "c  0.161146 -0.185695  1.259645"
      ]
     },
     "execution_count": 20,
     "metadata": {},
     "output_type": "execute_result"
    }
   ],
   "source": [
    "#cov also supports min_perods\n",
    "frame.cov(min_periods=12)"
   ]
  },
  {
   "cell_type": "code",
   "execution_count": 26,
   "metadata": {
    "collapsed": true
   },
   "outputs": [],
   "source": [
    "#correlation -- there are three types pearson, kendall and spearman coefficient correlation\n",
    "frame = pd.DataFrame(np.random.randn(1000,5), columns=['a', 'b', 'c', 'd', 'e'])"
   ]
  },
  {
   "cell_type": "code",
   "execution_count": 27,
   "metadata": {
    "collapsed": false
   },
   "outputs": [
    {
     "data": {
      "text/html": [
       "<div>\n",
       "<style>\n",
       "    .dataframe thead tr:only-child th {\n",
       "        text-align: right;\n",
       "    }\n",
       "\n",
       "    .dataframe thead th {\n",
       "        text-align: left;\n",
       "    }\n",
       "\n",
       "    .dataframe tbody tr th {\n",
       "        vertical-align: top;\n",
       "    }\n",
       "</style>\n",
       "<table border=\"1\" class=\"dataframe\">\n",
       "  <thead>\n",
       "    <tr style=\"text-align: right;\">\n",
       "      <th></th>\n",
       "      <th>a</th>\n",
       "      <th>b</th>\n",
       "      <th>c</th>\n",
       "      <th>d</th>\n",
       "      <th>e</th>\n",
       "    </tr>\n",
       "  </thead>\n",
       "  <tbody>\n",
       "    <tr>\n",
       "      <th>0</th>\n",
       "      <td>NaN</td>\n",
       "      <td>NaN</td>\n",
       "      <td>NaN</td>\n",
       "      <td>NaN</td>\n",
       "      <td>NaN</td>\n",
       "    </tr>\n",
       "    <tr>\n",
       "      <th>1</th>\n",
       "      <td>0.968007</td>\n",
       "      <td>0.585004</td>\n",
       "      <td>-0.343249</td>\n",
       "      <td>1.670041</td>\n",
       "      <td>-1.144660</td>\n",
       "    </tr>\n",
       "    <tr>\n",
       "      <th>2</th>\n",
       "      <td>NaN</td>\n",
       "      <td>NaN</td>\n",
       "      <td>NaN</td>\n",
       "      <td>NaN</td>\n",
       "      <td>NaN</td>\n",
       "    </tr>\n",
       "    <tr>\n",
       "      <th>3</th>\n",
       "      <td>-0.222308</td>\n",
       "      <td>-1.228611</td>\n",
       "      <td>-0.496342</td>\n",
       "      <td>1.281845</td>\n",
       "      <td>-2.315318</td>\n",
       "    </tr>\n",
       "    <tr>\n",
       "      <th>4</th>\n",
       "      <td>NaN</td>\n",
       "      <td>NaN</td>\n",
       "      <td>NaN</td>\n",
       "      <td>NaN</td>\n",
       "      <td>NaN</td>\n",
       "    </tr>\n",
       "    <tr>\n",
       "      <th>5</th>\n",
       "      <td>0.511781</td>\n",
       "      <td>0.978933</td>\n",
       "      <td>-0.790955</td>\n",
       "      <td>0.579623</td>\n",
       "      <td>-0.273077</td>\n",
       "    </tr>\n",
       "    <tr>\n",
       "      <th>6</th>\n",
       "      <td>NaN</td>\n",
       "      <td>NaN</td>\n",
       "      <td>NaN</td>\n",
       "      <td>NaN</td>\n",
       "      <td>NaN</td>\n",
       "    </tr>\n",
       "    <tr>\n",
       "      <th>7</th>\n",
       "      <td>-0.254954</td>\n",
       "      <td>-0.610674</td>\n",
       "      <td>1.169439</td>\n",
       "      <td>-0.202171</td>\n",
       "      <td>0.353436</td>\n",
       "    </tr>\n",
       "    <tr>\n",
       "      <th>8</th>\n",
       "      <td>NaN</td>\n",
       "      <td>NaN</td>\n",
       "      <td>NaN</td>\n",
       "      <td>NaN</td>\n",
       "      <td>NaN</td>\n",
       "    </tr>\n",
       "    <tr>\n",
       "      <th>9</th>\n",
       "      <td>0.286049</td>\n",
       "      <td>-0.060917</td>\n",
       "      <td>0.408234</td>\n",
       "      <td>-0.070924</td>\n",
       "      <td>1.550417</td>\n",
       "    </tr>\n",
       "    <tr>\n",
       "      <th>10</th>\n",
       "      <td>NaN</td>\n",
       "      <td>NaN</td>\n",
       "      <td>NaN</td>\n",
       "      <td>NaN</td>\n",
       "      <td>NaN</td>\n",
       "    </tr>\n",
       "    <tr>\n",
       "      <th>11</th>\n",
       "      <td>-0.754397</td>\n",
       "      <td>-1.415946</td>\n",
       "      <td>-1.230974</td>\n",
       "      <td>2.318798</td>\n",
       "      <td>1.131656</td>\n",
       "    </tr>\n",
       "    <tr>\n",
       "      <th>12</th>\n",
       "      <td>NaN</td>\n",
       "      <td>NaN</td>\n",
       "      <td>NaN</td>\n",
       "      <td>NaN</td>\n",
       "      <td>NaN</td>\n",
       "    </tr>\n",
       "    <tr>\n",
       "      <th>13</th>\n",
       "      <td>1.159267</td>\n",
       "      <td>0.006267</td>\n",
       "      <td>0.473115</td>\n",
       "      <td>-0.430774</td>\n",
       "      <td>-0.255386</td>\n",
       "    </tr>\n",
       "    <tr>\n",
       "      <th>14</th>\n",
       "      <td>NaN</td>\n",
       "      <td>NaN</td>\n",
       "      <td>NaN</td>\n",
       "      <td>NaN</td>\n",
       "      <td>NaN</td>\n",
       "    </tr>\n",
       "    <tr>\n",
       "      <th>15</th>\n",
       "      <td>-1.083567</td>\n",
       "      <td>-1.130394</td>\n",
       "      <td>-0.372105</td>\n",
       "      <td>1.412338</td>\n",
       "      <td>0.929641</td>\n",
       "    </tr>\n",
       "    <tr>\n",
       "      <th>16</th>\n",
       "      <td>NaN</td>\n",
       "      <td>NaN</td>\n",
       "      <td>NaN</td>\n",
       "      <td>NaN</td>\n",
       "      <td>NaN</td>\n",
       "    </tr>\n",
       "    <tr>\n",
       "      <th>17</th>\n",
       "      <td>-0.614065</td>\n",
       "      <td>-1.246584</td>\n",
       "      <td>-0.254710</td>\n",
       "      <td>1.442442</td>\n",
       "      <td>-0.108244</td>\n",
       "    </tr>\n",
       "    <tr>\n",
       "      <th>18</th>\n",
       "      <td>NaN</td>\n",
       "      <td>NaN</td>\n",
       "      <td>NaN</td>\n",
       "      <td>NaN</td>\n",
       "      <td>NaN</td>\n",
       "    </tr>\n",
       "    <tr>\n",
       "      <th>19</th>\n",
       "      <td>-1.719728</td>\n",
       "      <td>-0.327356</td>\n",
       "      <td>0.158640</td>\n",
       "      <td>0.637138</td>\n",
       "      <td>1.229198</td>\n",
       "    </tr>\n",
       "    <tr>\n",
       "      <th>20</th>\n",
       "      <td>NaN</td>\n",
       "      <td>NaN</td>\n",
       "      <td>NaN</td>\n",
       "      <td>NaN</td>\n",
       "      <td>NaN</td>\n",
       "    </tr>\n",
       "    <tr>\n",
       "      <th>21</th>\n",
       "      <td>1.058464</td>\n",
       "      <td>1.165065</td>\n",
       "      <td>2.144901</td>\n",
       "      <td>0.582846</td>\n",
       "      <td>0.064967</td>\n",
       "    </tr>\n",
       "    <tr>\n",
       "      <th>22</th>\n",
       "      <td>NaN</td>\n",
       "      <td>NaN</td>\n",
       "      <td>NaN</td>\n",
       "      <td>NaN</td>\n",
       "      <td>NaN</td>\n",
       "    </tr>\n",
       "    <tr>\n",
       "      <th>23</th>\n",
       "      <td>0.697631</td>\n",
       "      <td>-0.924213</td>\n",
       "      <td>-0.032529</td>\n",
       "      <td>-0.543421</td>\n",
       "      <td>-0.592163</td>\n",
       "    </tr>\n",
       "    <tr>\n",
       "      <th>24</th>\n",
       "      <td>NaN</td>\n",
       "      <td>NaN</td>\n",
       "      <td>NaN</td>\n",
       "      <td>NaN</td>\n",
       "      <td>NaN</td>\n",
       "    </tr>\n",
       "    <tr>\n",
       "      <th>25</th>\n",
       "      <td>2.166360</td>\n",
       "      <td>-0.227462</td>\n",
       "      <td>-0.328891</td>\n",
       "      <td>-0.407376</td>\n",
       "      <td>-0.418868</td>\n",
       "    </tr>\n",
       "    <tr>\n",
       "      <th>26</th>\n",
       "      <td>NaN</td>\n",
       "      <td>NaN</td>\n",
       "      <td>NaN</td>\n",
       "      <td>NaN</td>\n",
       "      <td>NaN</td>\n",
       "    </tr>\n",
       "    <tr>\n",
       "      <th>27</th>\n",
       "      <td>-0.305128</td>\n",
       "      <td>2.281997</td>\n",
       "      <td>0.067530</td>\n",
       "      <td>-2.184895</td>\n",
       "      <td>0.759312</td>\n",
       "    </tr>\n",
       "    <tr>\n",
       "      <th>28</th>\n",
       "      <td>NaN</td>\n",
       "      <td>NaN</td>\n",
       "      <td>NaN</td>\n",
       "      <td>NaN</td>\n",
       "      <td>NaN</td>\n",
       "    </tr>\n",
       "    <tr>\n",
       "      <th>29</th>\n",
       "      <td>0.295847</td>\n",
       "      <td>0.404354</td>\n",
       "      <td>1.103283</td>\n",
       "      <td>-0.292738</td>\n",
       "      <td>-0.853366</td>\n",
       "    </tr>\n",
       "    <tr>\n",
       "      <th>...</th>\n",
       "      <td>...</td>\n",
       "      <td>...</td>\n",
       "      <td>...</td>\n",
       "      <td>...</td>\n",
       "      <td>...</td>\n",
       "    </tr>\n",
       "    <tr>\n",
       "      <th>970</th>\n",
       "      <td>NaN</td>\n",
       "      <td>NaN</td>\n",
       "      <td>NaN</td>\n",
       "      <td>NaN</td>\n",
       "      <td>NaN</td>\n",
       "    </tr>\n",
       "    <tr>\n",
       "      <th>971</th>\n",
       "      <td>-0.557449</td>\n",
       "      <td>-1.052546</td>\n",
       "      <td>0.106921</td>\n",
       "      <td>-1.454072</td>\n",
       "      <td>0.491795</td>\n",
       "    </tr>\n",
       "    <tr>\n",
       "      <th>972</th>\n",
       "      <td>NaN</td>\n",
       "      <td>NaN</td>\n",
       "      <td>NaN</td>\n",
       "      <td>NaN</td>\n",
       "      <td>NaN</td>\n",
       "    </tr>\n",
       "    <tr>\n",
       "      <th>973</th>\n",
       "      <td>1.218155</td>\n",
       "      <td>0.562695</td>\n",
       "      <td>0.957222</td>\n",
       "      <td>0.965183</td>\n",
       "      <td>1.309427</td>\n",
       "    </tr>\n",
       "    <tr>\n",
       "      <th>974</th>\n",
       "      <td>NaN</td>\n",
       "      <td>NaN</td>\n",
       "      <td>NaN</td>\n",
       "      <td>NaN</td>\n",
       "      <td>NaN</td>\n",
       "    </tr>\n",
       "    <tr>\n",
       "      <th>975</th>\n",
       "      <td>-0.389789</td>\n",
       "      <td>-1.544822</td>\n",
       "      <td>0.271707</td>\n",
       "      <td>0.536760</td>\n",
       "      <td>-0.340051</td>\n",
       "    </tr>\n",
       "    <tr>\n",
       "      <th>976</th>\n",
       "      <td>NaN</td>\n",
       "      <td>NaN</td>\n",
       "      <td>NaN</td>\n",
       "      <td>NaN</td>\n",
       "      <td>NaN</td>\n",
       "    </tr>\n",
       "    <tr>\n",
       "      <th>977</th>\n",
       "      <td>0.058888</td>\n",
       "      <td>-2.547793</td>\n",
       "      <td>0.376631</td>\n",
       "      <td>0.247655</td>\n",
       "      <td>0.700598</td>\n",
       "    </tr>\n",
       "    <tr>\n",
       "      <th>978</th>\n",
       "      <td>NaN</td>\n",
       "      <td>NaN</td>\n",
       "      <td>NaN</td>\n",
       "      <td>NaN</td>\n",
       "      <td>NaN</td>\n",
       "    </tr>\n",
       "    <tr>\n",
       "      <th>979</th>\n",
       "      <td>0.178615</td>\n",
       "      <td>0.058182</td>\n",
       "      <td>1.066859</td>\n",
       "      <td>-0.780770</td>\n",
       "      <td>-0.828662</td>\n",
       "    </tr>\n",
       "    <tr>\n",
       "      <th>980</th>\n",
       "      <td>NaN</td>\n",
       "      <td>NaN</td>\n",
       "      <td>NaN</td>\n",
       "      <td>NaN</td>\n",
       "      <td>NaN</td>\n",
       "    </tr>\n",
       "    <tr>\n",
       "      <th>981</th>\n",
       "      <td>-0.324779</td>\n",
       "      <td>0.442952</td>\n",
       "      <td>-0.829092</td>\n",
       "      <td>0.170680</td>\n",
       "      <td>-0.308083</td>\n",
       "    </tr>\n",
       "    <tr>\n",
       "      <th>982</th>\n",
       "      <td>NaN</td>\n",
       "      <td>NaN</td>\n",
       "      <td>NaN</td>\n",
       "      <td>NaN</td>\n",
       "      <td>NaN</td>\n",
       "    </tr>\n",
       "    <tr>\n",
       "      <th>983</th>\n",
       "      <td>0.372035</td>\n",
       "      <td>0.615293</td>\n",
       "      <td>-1.365479</td>\n",
       "      <td>0.228141</td>\n",
       "      <td>0.612463</td>\n",
       "    </tr>\n",
       "    <tr>\n",
       "      <th>984</th>\n",
       "      <td>NaN</td>\n",
       "      <td>NaN</td>\n",
       "      <td>NaN</td>\n",
       "      <td>NaN</td>\n",
       "      <td>NaN</td>\n",
       "    </tr>\n",
       "    <tr>\n",
       "      <th>985</th>\n",
       "      <td>-0.068962</td>\n",
       "      <td>-0.829289</td>\n",
       "      <td>0.698611</td>\n",
       "      <td>-0.362848</td>\n",
       "      <td>-0.783066</td>\n",
       "    </tr>\n",
       "    <tr>\n",
       "      <th>986</th>\n",
       "      <td>NaN</td>\n",
       "      <td>NaN</td>\n",
       "      <td>NaN</td>\n",
       "      <td>NaN</td>\n",
       "      <td>NaN</td>\n",
       "    </tr>\n",
       "    <tr>\n",
       "      <th>987</th>\n",
       "      <td>1.035192</td>\n",
       "      <td>0.032809</td>\n",
       "      <td>0.494999</td>\n",
       "      <td>0.222963</td>\n",
       "      <td>-0.116763</td>\n",
       "    </tr>\n",
       "    <tr>\n",
       "      <th>988</th>\n",
       "      <td>NaN</td>\n",
       "      <td>NaN</td>\n",
       "      <td>NaN</td>\n",
       "      <td>NaN</td>\n",
       "      <td>NaN</td>\n",
       "    </tr>\n",
       "    <tr>\n",
       "      <th>989</th>\n",
       "      <td>0.783609</td>\n",
       "      <td>0.501129</td>\n",
       "      <td>-0.619553</td>\n",
       "      <td>0.153217</td>\n",
       "      <td>-1.557409</td>\n",
       "    </tr>\n",
       "    <tr>\n",
       "      <th>990</th>\n",
       "      <td>NaN</td>\n",
       "      <td>NaN</td>\n",
       "      <td>NaN</td>\n",
       "      <td>NaN</td>\n",
       "      <td>NaN</td>\n",
       "    </tr>\n",
       "    <tr>\n",
       "      <th>991</th>\n",
       "      <td>0.346885</td>\n",
       "      <td>0.308204</td>\n",
       "      <td>0.530643</td>\n",
       "      <td>1.846633</td>\n",
       "      <td>0.712593</td>\n",
       "    </tr>\n",
       "    <tr>\n",
       "      <th>992</th>\n",
       "      <td>NaN</td>\n",
       "      <td>NaN</td>\n",
       "      <td>NaN</td>\n",
       "      <td>NaN</td>\n",
       "      <td>NaN</td>\n",
       "    </tr>\n",
       "    <tr>\n",
       "      <th>993</th>\n",
       "      <td>-0.238779</td>\n",
       "      <td>1.355543</td>\n",
       "      <td>1.034353</td>\n",
       "      <td>0.212242</td>\n",
       "      <td>-0.736884</td>\n",
       "    </tr>\n",
       "    <tr>\n",
       "      <th>994</th>\n",
       "      <td>NaN</td>\n",
       "      <td>NaN</td>\n",
       "      <td>NaN</td>\n",
       "      <td>NaN</td>\n",
       "      <td>NaN</td>\n",
       "    </tr>\n",
       "    <tr>\n",
       "      <th>995</th>\n",
       "      <td>-0.639354</td>\n",
       "      <td>-0.745332</td>\n",
       "      <td>1.982095</td>\n",
       "      <td>1.270616</td>\n",
       "      <td>-1.454315</td>\n",
       "    </tr>\n",
       "    <tr>\n",
       "      <th>996</th>\n",
       "      <td>NaN</td>\n",
       "      <td>NaN</td>\n",
       "      <td>NaN</td>\n",
       "      <td>NaN</td>\n",
       "      <td>NaN</td>\n",
       "    </tr>\n",
       "    <tr>\n",
       "      <th>997</th>\n",
       "      <td>-0.355425</td>\n",
       "      <td>-2.021515</td>\n",
       "      <td>0.266236</td>\n",
       "      <td>0.283625</td>\n",
       "      <td>1.480741</td>\n",
       "    </tr>\n",
       "    <tr>\n",
       "      <th>998</th>\n",
       "      <td>NaN</td>\n",
       "      <td>NaN</td>\n",
       "      <td>NaN</td>\n",
       "      <td>NaN</td>\n",
       "      <td>NaN</td>\n",
       "    </tr>\n",
       "    <tr>\n",
       "      <th>999</th>\n",
       "      <td>0.090665</td>\n",
       "      <td>-1.683431</td>\n",
       "      <td>-1.435815</td>\n",
       "      <td>0.167346</td>\n",
       "      <td>0.273627</td>\n",
       "    </tr>\n",
       "  </tbody>\n",
       "</table>\n",
       "<p>1000 rows × 5 columns</p>\n",
       "</div>"
      ],
      "text/plain": [
       "            a         b         c         d         e\n",
       "0         NaN       NaN       NaN       NaN       NaN\n",
       "1    0.968007  0.585004 -0.343249  1.670041 -1.144660\n",
       "2         NaN       NaN       NaN       NaN       NaN\n",
       "3   -0.222308 -1.228611 -0.496342  1.281845 -2.315318\n",
       "4         NaN       NaN       NaN       NaN       NaN\n",
       "5    0.511781  0.978933 -0.790955  0.579623 -0.273077\n",
       "6         NaN       NaN       NaN       NaN       NaN\n",
       "7   -0.254954 -0.610674  1.169439 -0.202171  0.353436\n",
       "8         NaN       NaN       NaN       NaN       NaN\n",
       "9    0.286049 -0.060917  0.408234 -0.070924  1.550417\n",
       "10        NaN       NaN       NaN       NaN       NaN\n",
       "11  -0.754397 -1.415946 -1.230974  2.318798  1.131656\n",
       "12        NaN       NaN       NaN       NaN       NaN\n",
       "13   1.159267  0.006267  0.473115 -0.430774 -0.255386\n",
       "14        NaN       NaN       NaN       NaN       NaN\n",
       "15  -1.083567 -1.130394 -0.372105  1.412338  0.929641\n",
       "16        NaN       NaN       NaN       NaN       NaN\n",
       "17  -0.614065 -1.246584 -0.254710  1.442442 -0.108244\n",
       "18        NaN       NaN       NaN       NaN       NaN\n",
       "19  -1.719728 -0.327356  0.158640  0.637138  1.229198\n",
       "20        NaN       NaN       NaN       NaN       NaN\n",
       "21   1.058464  1.165065  2.144901  0.582846  0.064967\n",
       "22        NaN       NaN       NaN       NaN       NaN\n",
       "23   0.697631 -0.924213 -0.032529 -0.543421 -0.592163\n",
       "24        NaN       NaN       NaN       NaN       NaN\n",
       "25   2.166360 -0.227462 -0.328891 -0.407376 -0.418868\n",
       "26        NaN       NaN       NaN       NaN       NaN\n",
       "27  -0.305128  2.281997  0.067530 -2.184895  0.759312\n",
       "28        NaN       NaN       NaN       NaN       NaN\n",
       "29   0.295847  0.404354  1.103283 -0.292738 -0.853366\n",
       "..        ...       ...       ...       ...       ...\n",
       "970       NaN       NaN       NaN       NaN       NaN\n",
       "971 -0.557449 -1.052546  0.106921 -1.454072  0.491795\n",
       "972       NaN       NaN       NaN       NaN       NaN\n",
       "973  1.218155  0.562695  0.957222  0.965183  1.309427\n",
       "974       NaN       NaN       NaN       NaN       NaN\n",
       "975 -0.389789 -1.544822  0.271707  0.536760 -0.340051\n",
       "976       NaN       NaN       NaN       NaN       NaN\n",
       "977  0.058888 -2.547793  0.376631  0.247655  0.700598\n",
       "978       NaN       NaN       NaN       NaN       NaN\n",
       "979  0.178615  0.058182  1.066859 -0.780770 -0.828662\n",
       "980       NaN       NaN       NaN       NaN       NaN\n",
       "981 -0.324779  0.442952 -0.829092  0.170680 -0.308083\n",
       "982       NaN       NaN       NaN       NaN       NaN\n",
       "983  0.372035  0.615293 -1.365479  0.228141  0.612463\n",
       "984       NaN       NaN       NaN       NaN       NaN\n",
       "985 -0.068962 -0.829289  0.698611 -0.362848 -0.783066\n",
       "986       NaN       NaN       NaN       NaN       NaN\n",
       "987  1.035192  0.032809  0.494999  0.222963 -0.116763\n",
       "988       NaN       NaN       NaN       NaN       NaN\n",
       "989  0.783609  0.501129 -0.619553  0.153217 -1.557409\n",
       "990       NaN       NaN       NaN       NaN       NaN\n",
       "991  0.346885  0.308204  0.530643  1.846633  0.712593\n",
       "992       NaN       NaN       NaN       NaN       NaN\n",
       "993 -0.238779  1.355543  1.034353  0.212242 -0.736884\n",
       "994       NaN       NaN       NaN       NaN       NaN\n",
       "995 -0.639354 -0.745332  1.982095  1.270616 -1.454315\n",
       "996       NaN       NaN       NaN       NaN       NaN\n",
       "997 -0.355425 -2.021515  0.266236  0.283625  1.480741\n",
       "998       NaN       NaN       NaN       NaN       NaN\n",
       "999  0.090665 -1.683431 -1.435815  0.167346  0.273627\n",
       "\n",
       "[1000 rows x 5 columns]"
      ]
     },
     "execution_count": 27,
     "metadata": {},
     "output_type": "execute_result"
    }
   ],
   "source": [
    "frame.iloc[::2] = np.nan; frame"
   ]
  },
  {
   "cell_type": "code",
   "execution_count": 28,
   "metadata": {
    "collapsed": false
   },
   "outputs": [
    {
     "data": {
      "text/plain": [
       "-0.017953140406628314"
      ]
     },
     "execution_count": 28,
     "metadata": {},
     "output_type": "execute_result"
    }
   ],
   "source": [
    "#serieswithseries\n",
    "frame['a'].corr(frame['b'])"
   ]
  },
  {
   "cell_type": "code",
   "execution_count": 29,
   "metadata": {
    "collapsed": false
   },
   "outputs": [
    {
     "data": {
      "text/plain": [
       "0.0022656090624362493"
      ]
     },
     "execution_count": 29,
     "metadata": {},
     "output_type": "execute_result"
    }
   ],
   "source": [
    "frame['a'].corr(frame['b'], method = 'spearman')"
   ]
  },
  {
   "cell_type": "code",
   "execution_count": 30,
   "metadata": {
    "collapsed": false
   },
   "outputs": [
    {
     "data": {
      "text/plain": [
       "0.0011382765531062122"
      ]
     },
     "execution_count": 30,
     "metadata": {},
     "output_type": "execute_result"
    }
   ],
   "source": [
    "frame['a'].corr(frame['b'], method = 'kendall')"
   ]
  },
  {
   "cell_type": "code",
   "execution_count": 31,
   "metadata": {
    "collapsed": false
   },
   "outputs": [
    {
     "data": {
      "text/plain": [
       "-0.017953140406628314"
      ]
     },
     "execution_count": 31,
     "metadata": {},
     "output_type": "execute_result"
    }
   ],
   "source": [
    "frame['a'].corr(frame['b'], method = 'pearson') #default"
   ]
  },
  {
   "cell_type": "code",
   "execution_count": 32,
   "metadata": {
    "collapsed": false
   },
   "outputs": [
    {
     "data": {
      "text/plain": [
       "<matplotlib.image.AxesImage at 0xf8f1e36668>"
      ]
     },
     "execution_count": 32,
     "metadata": {},
     "output_type": "execute_result"
    },
    {
     "data": {
      "image/png": "[encoded data removed]",
      "text/plain": [
       "<matplotlib.figure.Figure at 0xf8ee2c1748>"
      ]
     },
     "metadata": {},
     "output_type": "display_data"
    }
   ],
   "source": [
    "plt.matshow(frame.corr())"
   ]
  },
  {
   "cell_type": "code",
   "execution_count": 33,
   "metadata": {
    "collapsed": false
   },
   "outputs": [
    {
     "data": {
      "text/html": [
       "<div>\n",
       "<style>\n",
       "    .dataframe thead tr:only-child th {\n",
       "        text-align: right;\n",
       "    }\n",
       "\n",
       "    .dataframe thead th {\n",
       "        text-align: left;\n",
       "    }\n",
       "\n",
       "    .dataframe tbody tr th {\n",
       "        vertical-align: top;\n",
       "    }\n",
       "</style>\n",
       "<table border=\"1\" class=\"dataframe\">\n",
       "  <thead>\n",
       "    <tr style=\"text-align: right;\">\n",
       "      <th></th>\n",
       "      <th>a</th>\n",
       "      <th>b</th>\n",
       "      <th>c</th>\n",
       "      <th>d</th>\n",
       "      <th>e</th>\n",
       "    </tr>\n",
       "  </thead>\n",
       "  <tbody>\n",
       "    <tr>\n",
       "      <th>a</th>\n",
       "      <td>1.000000</td>\n",
       "      <td>-0.017953</td>\n",
       "      <td>0.037228</td>\n",
       "      <td>0.025490</td>\n",
       "      <td>0.048774</td>\n",
       "    </tr>\n",
       "    <tr>\n",
       "      <th>b</th>\n",
       "      <td>-0.017953</td>\n",
       "      <td>1.000000</td>\n",
       "      <td>-0.004600</td>\n",
       "      <td>-0.031539</td>\n",
       "      <td>0.059180</td>\n",
       "    </tr>\n",
       "    <tr>\n",
       "      <th>c</th>\n",
       "      <td>0.037228</td>\n",
       "      <td>-0.004600</td>\n",
       "      <td>1.000000</td>\n",
       "      <td>0.056032</td>\n",
       "      <td>0.028834</td>\n",
       "    </tr>\n",
       "    <tr>\n",
       "      <th>d</th>\n",
       "      <td>0.025490</td>\n",
       "      <td>-0.031539</td>\n",
       "      <td>0.056032</td>\n",
       "      <td>1.000000</td>\n",
       "      <td>0.088019</td>\n",
       "    </tr>\n",
       "    <tr>\n",
       "      <th>e</th>\n",
       "      <td>0.048774</td>\n",
       "      <td>0.059180</td>\n",
       "      <td>0.028834</td>\n",
       "      <td>0.088019</td>\n",
       "      <td>1.000000</td>\n",
       "    </tr>\n",
       "  </tbody>\n",
       "</table>\n",
       "</div>"
      ],
      "text/plain": [
       "          a         b         c         d         e\n",
       "a  1.000000 -0.017953  0.037228  0.025490  0.048774\n",
       "b -0.017953  1.000000 -0.004600 -0.031539  0.059180\n",
       "c  0.037228 -0.004600  1.000000  0.056032  0.028834\n",
       "d  0.025490 -0.031539  0.056032  1.000000  0.088019\n",
       "e  0.048774  0.059180  0.028834  0.088019  1.000000"
      ]
     },
     "execution_count": 33,
     "metadata": {},
     "output_type": "execute_result"
    }
   ],
   "source": [
    "#as a pairwise correlation of dataframe columns\n",
    "frame.corr()"
   ]
  },
  {
   "cell_type": "code",
   "execution_count": 34,
   "metadata": {
    "collapsed": false
   },
   "outputs": [
    {
     "data": {
      "text/html": [
       "<div>\n",
       "<style>\n",
       "    .dataframe thead tr:only-child th {\n",
       "        text-align: right;\n",
       "    }\n",
       "\n",
       "    .dataframe thead th {\n",
       "        text-align: left;\n",
       "    }\n",
       "\n",
       "    .dataframe tbody tr th {\n",
       "        vertical-align: top;\n",
       "    }\n",
       "</style>\n",
       "<table border=\"1\" class=\"dataframe\">\n",
       "  <thead>\n",
       "    <tr style=\"text-align: right;\">\n",
       "      <th></th>\n",
       "      <th>a</th>\n",
       "      <th>b</th>\n",
       "      <th>c</th>\n",
       "      <th>d</th>\n",
       "      <th>e</th>\n",
       "    </tr>\n",
       "  </thead>\n",
       "  <tbody>\n",
       "    <tr>\n",
       "      <th>a</th>\n",
       "      <td>1.000000</td>\n",
       "      <td>-0.017953</td>\n",
       "      <td>0.037228</td>\n",
       "      <td>0.025490</td>\n",
       "      <td>0.048774</td>\n",
       "    </tr>\n",
       "    <tr>\n",
       "      <th>b</th>\n",
       "      <td>-0.017953</td>\n",
       "      <td>1.000000</td>\n",
       "      <td>-0.004600</td>\n",
       "      <td>-0.031539</td>\n",
       "      <td>0.059180</td>\n",
       "    </tr>\n",
       "    <tr>\n",
       "      <th>c</th>\n",
       "      <td>0.037228</td>\n",
       "      <td>-0.004600</td>\n",
       "      <td>1.000000</td>\n",
       "      <td>0.056032</td>\n",
       "      <td>0.028834</td>\n",
       "    </tr>\n",
       "    <tr>\n",
       "      <th>d</th>\n",
       "      <td>0.025490</td>\n",
       "      <td>-0.031539</td>\n",
       "      <td>0.056032</td>\n",
       "      <td>1.000000</td>\n",
       "      <td>0.088019</td>\n",
       "    </tr>\n",
       "    <tr>\n",
       "      <th>e</th>\n",
       "      <td>0.048774</td>\n",
       "      <td>0.059180</td>\n",
       "      <td>0.028834</td>\n",
       "      <td>0.088019</td>\n",
       "      <td>1.000000</td>\n",
       "    </tr>\n",
       "  </tbody>\n",
       "</table>\n",
       "</div>"
      ],
      "text/plain": [
       "          a         b         c         d         e\n",
       "a  1.000000 -0.017953  0.037228  0.025490  0.048774\n",
       "b -0.017953  1.000000 -0.004600 -0.031539  0.059180\n",
       "c  0.037228 -0.004600  1.000000  0.056032  0.028834\n",
       "d  0.025490 -0.031539  0.056032  1.000000  0.088019\n",
       "e  0.048774  0.059180  0.028834  0.088019  1.000000"
      ]
     },
     "execution_count": 34,
     "metadata": {},
     "output_type": "execute_result"
    }
   ],
   "source": [
    "#using minimum periods\n",
    "frame.corr(min_periods=12)"
   ]
  },
  {
   "cell_type": "code",
   "execution_count": 36,
   "metadata": {
    "collapsed": false
   },
   "outputs": [],
   "source": [
    "#using corrwith i.e links labeled series wth same datatype amongs different dataframes\n",
    "index = ['a','b','c','d','e']\n",
    "columns = ['one','two','three','four']\n",
    "df1 = pd.DataFrame(np.random.randn(5,4), index=index, columns=columns)\n",
    "df2 = pd.DataFrame(np.random.randn(5,4), index=index, columns=columns)"
   ]
  },
  {
   "cell_type": "code",
   "execution_count": 39,
   "metadata": {
    "collapsed": false
   },
   "outputs": [
    {
     "data": {
      "text/plain": [
       "one      0.060282\n",
       "two      0.319744\n",
       "three    0.814956\n",
       "four    -0.246217\n",
       "dtype: float64"
      ]
     },
     "execution_count": 39,
     "metadata": {},
     "output_type": "execute_result"
    }
   ],
   "source": [
    "df1.corrwith(df2)"
   ]
  },
  {
   "cell_type": "code",
   "execution_count": 40,
   "metadata": {
    "collapsed": false
   },
   "outputs": [
    {
     "data": {
      "text/plain": [
       "a    0.369788\n",
       "b   -0.456971\n",
       "c    0.582660\n",
       "d   -0.590703\n",
       "e    0.669486\n",
       "dtype: float64"
      ]
     },
     "execution_count": 40,
     "metadata": {},
     "output_type": "execute_result"
    }
   ],
   "source": [
    "df2.corrwith(df1, axis=1)"
   ]
  },
  {
   "cell_type": "code",
   "execution_count": 43,
   "metadata": {
    "collapsed": false
   },
   "outputs": [
    {
     "data": {
      "text/plain": [
       "a    0.005015\n",
       "b    0.214764\n",
       "c   -1.469628\n",
       "d    1.170319\n",
       "e    0.942430\n",
       "dtype: float64"
      ]
     },
     "execution_count": 43,
     "metadata": {},
     "output_type": "execute_result"
    }
   ],
   "source": [
    "s = pd.Series(np.random.np.random.randn(5), index=list('abcde'));s"
   ]
  },
  {
   "cell_type": "code",
   "execution_count": 44,
   "metadata": {
    "collapsed": true
   },
   "outputs": [],
   "source": [
    "s['d'] = s['b']"
   ]
  },
  {
   "cell_type": "code",
   "execution_count": 45,
   "metadata": {
    "collapsed": false
   },
   "outputs": [
    {
     "data": {
      "text/plain": [
       "a    2.0\n",
       "b    3.5\n",
       "c    1.0\n",
       "d    3.5\n",
       "e    5.0\n",
       "dtype: float64"
      ]
     },
     "execution_count": 45,
     "metadata": {},
     "output_type": "execute_result"
    }
   ],
   "source": [
    "s.rank()#average, min, max, first"
   ]
  },
  {
   "cell_type": "code",
   "execution_count": 46,
   "metadata": {
    "collapsed": true
   },
   "outputs": [],
   "source": [
    "df = pd.DataFrame(np.random.np.random.randn(10, 6))"
   ]
  },
  {
   "cell_type": "code",
   "execution_count": 47,
   "metadata": {
    "collapsed": true
   },
   "outputs": [],
   "source": [
    "df[4] = df[2][:5] #some ties"
   ]
  },
  {
   "cell_type": "code",
   "execution_count": 48,
   "metadata": {
    "collapsed": false
   },
   "outputs": [
    {
     "data": {
      "text/html": [
       "<div>\n",
       "<style>\n",
       "    .dataframe thead tr:only-child th {\n",
       "        text-align: right;\n",
       "    }\n",
       "\n",
       "    .dataframe thead th {\n",
       "        text-align: left;\n",
       "    }\n",
       "\n",
       "    .dataframe tbody tr th {\n",
       "        vertical-align: top;\n",
       "    }\n",
       "</style>\n",
       "<table border=\"1\" class=\"dataframe\">\n",
       "  <thead>\n",
       "    <tr style=\"text-align: right;\">\n",
       "      <th></th>\n",
       "      <th>0</th>\n",
       "      <th>1</th>\n",
       "      <th>2</th>\n",
       "      <th>3</th>\n",
       "      <th>4</th>\n",
       "      <th>5</th>\n",
       "    </tr>\n",
       "  </thead>\n",
       "  <tbody>\n",
       "    <tr>\n",
       "      <th>0</th>\n",
       "      <td>0.742686</td>\n",
       "      <td>-0.525340</td>\n",
       "      <td>1.505479</td>\n",
       "      <td>-1.485086</td>\n",
       "      <td>1.505479</td>\n",
       "      <td>0.306464</td>\n",
       "    </tr>\n",
       "    <tr>\n",
       "      <th>1</th>\n",
       "      <td>-0.258351</td>\n",
       "      <td>-1.463080</td>\n",
       "      <td>-1.015891</td>\n",
       "      <td>0.065953</td>\n",
       "      <td>-1.015891</td>\n",
       "      <td>0.814756</td>\n",
       "    </tr>\n",
       "    <tr>\n",
       "      <th>2</th>\n",
       "      <td>0.565580</td>\n",
       "      <td>2.952521</td>\n",
       "      <td>-1.218590</td>\n",
       "      <td>-0.577896</td>\n",
       "      <td>-1.218590</td>\n",
       "      <td>0.606738</td>\n",
       "    </tr>\n",
       "    <tr>\n",
       "      <th>3</th>\n",
       "      <td>-0.062743</td>\n",
       "      <td>-0.858749</td>\n",
       "      <td>-1.047920</td>\n",
       "      <td>-0.574907</td>\n",
       "      <td>-1.047920</td>\n",
       "      <td>1.298521</td>\n",
       "    </tr>\n",
       "    <tr>\n",
       "      <th>4</th>\n",
       "      <td>0.607866</td>\n",
       "      <td>-2.641855</td>\n",
       "      <td>-0.032154</td>\n",
       "      <td>0.402725</td>\n",
       "      <td>-0.032154</td>\n",
       "      <td>0.268537</td>\n",
       "    </tr>\n",
       "    <tr>\n",
       "      <th>5</th>\n",
       "      <td>0.029799</td>\n",
       "      <td>-0.026179</td>\n",
       "      <td>-0.635263</td>\n",
       "      <td>0.627745</td>\n",
       "      <td>NaN</td>\n",
       "      <td>0.488690</td>\n",
       "    </tr>\n",
       "    <tr>\n",
       "      <th>6</th>\n",
       "      <td>1.317813</td>\n",
       "      <td>-0.492225</td>\n",
       "      <td>-0.175481</td>\n",
       "      <td>0.014311</td>\n",
       "      <td>NaN</td>\n",
       "      <td>-0.117965</td>\n",
       "    </tr>\n",
       "    <tr>\n",
       "      <th>7</th>\n",
       "      <td>-0.588166</td>\n",
       "      <td>1.227186</td>\n",
       "      <td>0.126415</td>\n",
       "      <td>-0.346178</td>\n",
       "      <td>NaN</td>\n",
       "      <td>0.559628</td>\n",
       "    </tr>\n",
       "    <tr>\n",
       "      <th>8</th>\n",
       "      <td>0.151195</td>\n",
       "      <td>0.810605</td>\n",
       "      <td>0.749716</td>\n",
       "      <td>-0.778008</td>\n",
       "      <td>NaN</td>\n",
       "      <td>0.445883</td>\n",
       "    </tr>\n",
       "    <tr>\n",
       "      <th>9</th>\n",
       "      <td>-0.233173</td>\n",
       "      <td>-1.915350</td>\n",
       "      <td>0.335791</td>\n",
       "      <td>-0.225488</td>\n",
       "      <td>NaN</td>\n",
       "      <td>-0.134419</td>\n",
       "    </tr>\n",
       "  </tbody>\n",
       "</table>\n",
       "</div>"
      ],
      "text/plain": [
       "          0         1         2         3         4         5\n",
       "0  0.742686 -0.525340  1.505479 -1.485086  1.505479  0.306464\n",
       "1 -0.258351 -1.463080 -1.015891  0.065953 -1.015891  0.814756\n",
       "2  0.565580  2.952521 -1.218590 -0.577896 -1.218590  0.606738\n",
       "3 -0.062743 -0.858749 -1.047920 -0.574907 -1.047920  1.298521\n",
       "4  0.607866 -2.641855 -0.032154  0.402725 -0.032154  0.268537\n",
       "5  0.029799 -0.026179 -0.635263  0.627745       NaN  0.488690\n",
       "6  1.317813 -0.492225 -0.175481  0.014311       NaN -0.117965\n",
       "7 -0.588166  1.227186  0.126415 -0.346178       NaN  0.559628\n",
       "8  0.151195  0.810605  0.749716 -0.778008       NaN  0.445883\n",
       "9 -0.233173 -1.915350  0.335791 -0.225488       NaN -0.134419"
      ]
     },
     "execution_count": 48,
     "metadata": {},
     "output_type": "execute_result"
    }
   ],
   "source": [
    "df"
   ]
  },
  {
   "cell_type": "code",
   "execution_count": 49,
   "metadata": {
    "collapsed": false
   },
   "outputs": [
    {
     "data": {
      "text/html": [
       "<div>\n",
       "<style>\n",
       "    .dataframe thead tr:only-child th {\n",
       "        text-align: right;\n",
       "    }\n",
       "\n",
       "    .dataframe thead th {\n",
       "        text-align: left;\n",
       "    }\n",
       "\n",
       "    .dataframe tbody tr th {\n",
       "        vertical-align: top;\n",
       "    }\n",
       "</style>\n",
       "<table border=\"1\" class=\"dataframe\">\n",
       "  <thead>\n",
       "    <tr style=\"text-align: right;\">\n",
       "      <th></th>\n",
       "      <th>0</th>\n",
       "      <th>1</th>\n",
       "      <th>2</th>\n",
       "      <th>3</th>\n",
       "      <th>4</th>\n",
       "      <th>5</th>\n",
       "    </tr>\n",
       "  </thead>\n",
       "  <tbody>\n",
       "    <tr>\n",
       "      <th>0</th>\n",
       "      <td>4.0</td>\n",
       "      <td>2.0</td>\n",
       "      <td>5.5</td>\n",
       "      <td>1.0</td>\n",
       "      <td>5.5</td>\n",
       "      <td>3.0</td>\n",
       "    </tr>\n",
       "    <tr>\n",
       "      <th>1</th>\n",
       "      <td>4.0</td>\n",
       "      <td>1.0</td>\n",
       "      <td>2.5</td>\n",
       "      <td>5.0</td>\n",
       "      <td>2.5</td>\n",
       "      <td>6.0</td>\n",
       "    </tr>\n",
       "    <tr>\n",
       "      <th>2</th>\n",
       "      <td>4.0</td>\n",
       "      <td>6.0</td>\n",
       "      <td>1.5</td>\n",
       "      <td>3.0</td>\n",
       "      <td>1.5</td>\n",
       "      <td>5.0</td>\n",
       "    </tr>\n",
       "    <tr>\n",
       "      <th>3</th>\n",
       "      <td>5.0</td>\n",
       "      <td>3.0</td>\n",
       "      <td>1.5</td>\n",
       "      <td>4.0</td>\n",
       "      <td>1.5</td>\n",
       "      <td>6.0</td>\n",
       "    </tr>\n",
       "    <tr>\n",
       "      <th>4</th>\n",
       "      <td>6.0</td>\n",
       "      <td>1.0</td>\n",
       "      <td>2.5</td>\n",
       "      <td>5.0</td>\n",
       "      <td>2.5</td>\n",
       "      <td>4.0</td>\n",
       "    </tr>\n",
       "    <tr>\n",
       "      <th>5</th>\n",
       "      <td>3.0</td>\n",
       "      <td>2.0</td>\n",
       "      <td>1.0</td>\n",
       "      <td>5.0</td>\n",
       "      <td>NaN</td>\n",
       "      <td>4.0</td>\n",
       "    </tr>\n",
       "    <tr>\n",
       "      <th>6</th>\n",
       "      <td>5.0</td>\n",
       "      <td>1.0</td>\n",
       "      <td>2.0</td>\n",
       "      <td>4.0</td>\n",
       "      <td>NaN</td>\n",
       "      <td>3.0</td>\n",
       "    </tr>\n",
       "    <tr>\n",
       "      <th>7</th>\n",
       "      <td>1.0</td>\n",
       "      <td>5.0</td>\n",
       "      <td>3.0</td>\n",
       "      <td>2.0</td>\n",
       "      <td>NaN</td>\n",
       "      <td>4.0</td>\n",
       "    </tr>\n",
       "    <tr>\n",
       "      <th>8</th>\n",
       "      <td>2.0</td>\n",
       "      <td>5.0</td>\n",
       "      <td>4.0</td>\n",
       "      <td>1.0</td>\n",
       "      <td>NaN</td>\n",
       "      <td>3.0</td>\n",
       "    </tr>\n",
       "    <tr>\n",
       "      <th>9</th>\n",
       "      <td>2.0</td>\n",
       "      <td>1.0</td>\n",
       "      <td>5.0</td>\n",
       "      <td>3.0</td>\n",
       "      <td>NaN</td>\n",
       "      <td>4.0</td>\n",
       "    </tr>\n",
       "  </tbody>\n",
       "</table>\n",
       "</div>"
      ],
      "text/plain": [
       "     0    1    2    3    4    5\n",
       "0  4.0  2.0  5.5  1.0  5.5  3.0\n",
       "1  4.0  1.0  2.5  5.0  2.5  6.0\n",
       "2  4.0  6.0  1.5  3.0  1.5  5.0\n",
       "3  5.0  3.0  1.5  4.0  1.5  6.0\n",
       "4  6.0  1.0  2.5  5.0  2.5  4.0\n",
       "5  3.0  2.0  1.0  5.0  NaN  4.0\n",
       "6  5.0  1.0  2.0  4.0  NaN  3.0\n",
       "7  1.0  5.0  3.0  2.0  NaN  4.0\n",
       "8  2.0  5.0  4.0  1.0  NaN  3.0\n",
       "9  2.0  1.0  5.0  3.0  NaN  4.0"
      ]
     },
     "execution_count": 49,
     "metadata": {},
     "output_type": "execute_result"
    }
   ],
   "source": [
    "df.rank(1)"
   ]
  },
  {
   "cell_type": "markdown",
   "metadata": {},
   "source": [
    "## Rolling windows functions **windows-center-min periods**"
   ]
  },
  {
   "cell_type": "code",
   "execution_count": 50,
   "metadata": {
    "collapsed": true
   },
   "outputs": [],
   "source": [
    "s = pd.Series(np.random.randn(1000), index  = pd.date_range('1/1/2000', periods=1000))"
   ]
  },
  {
   "cell_type": "code",
   "execution_count": 51,
   "metadata": {
    "collapsed": false
   },
   "outputs": [
    {
     "data": {
      "text/plain": [
       "2000-01-01    -1.847668\n",
       "2000-01-02    -1.827597\n",
       "2000-01-03    -2.127630\n",
       "2000-01-04    -1.225094\n",
       "2000-01-05    -1.431618\n",
       "2000-01-06    -2.325857\n",
       "2000-01-07    -1.578124\n",
       "2000-01-08    -3.944968\n",
       "2000-01-09    -2.227866\n",
       "2000-01-10    -1.248159\n",
       "2000-01-11    -2.574368\n",
       "2000-01-12    -2.087157\n",
       "2000-01-13    -4.139320\n",
       "2000-01-14    -4.290804\n",
       "2000-01-15    -5.048205\n",
       "2000-01-16    -5.585361\n",
       "2000-01-17    -5.600499\n",
       "2000-01-18    -4.197858\n",
       "2000-01-19    -4.116010\n",
       "2000-01-20    -1.936998\n",
       "2000-01-21    -0.738872\n",
       "2000-01-22    -0.512997\n",
       "2000-01-23     0.360636\n",
       "2000-01-24    -0.475307\n",
       "2000-01-25    -1.364013\n",
       "2000-01-26    -0.748802\n",
       "2000-01-27     0.442588\n",
       "2000-01-28    -0.097443\n",
       "2000-01-29     0.614848\n",
       "2000-01-30     0.707558\n",
       "                ...    \n",
       "2002-08-28   -42.625574\n",
       "2002-08-29   -43.738596\n",
       "2002-08-30   -43.439651\n",
       "2002-08-31   -42.064070\n",
       "2002-09-01   -40.330544\n",
       "2002-09-02   -40.447787\n",
       "2002-09-03   -40.603446\n",
       "2002-09-04   -41.091981\n",
       "2002-09-05   -42.297858\n",
       "2002-09-06   -43.169289\n",
       "2002-09-07   -43.038477\n",
       "2002-09-08   -42.667608\n",
       "2002-09-09   -40.964867\n",
       "2002-09-10   -42.719686\n",
       "2002-09-11   -43.399411\n",
       "2002-09-12   -42.654328\n",
       "2002-09-13   -44.470205\n",
       "2002-09-14   -44.186775\n",
       "2002-09-15   -43.378860\n",
       "2002-09-16   -43.052039\n",
       "2002-09-17   -43.450018\n",
       "2002-09-18   -43.846232\n",
       "2002-09-19   -43.243095\n",
       "2002-09-20   -42.956260\n",
       "2002-09-21   -42.829450\n",
       "2002-09-22   -42.427208\n",
       "2002-09-23   -42.218078\n",
       "2002-09-24   -41.548440\n",
       "2002-09-25   -41.140247\n",
       "2002-09-26   -39.905966\n",
       "Freq: D, Length: 1000, dtype: float64"
      ]
     },
     "execution_count": 51,
     "metadata": {},
     "output_type": "execute_result"
    }
   ],
   "source": [
    "s.cumsum()"
   ]
  },
  {
   "cell_type": "code",
   "execution_count": 52,
   "metadata": {
    "collapsed": true
   },
   "outputs": [],
   "source": [
    "r = s.rolling(window=60)"
   ]
  },
  {
   "cell_type": "code",
   "execution_count": 53,
   "metadata": {
    "collapsed": false
   },
   "outputs": [
    {
     "data": {
      "text/plain": [
       "Rolling [window=60,center=False,axis=0]"
      ]
     },
     "execution_count": 53,
     "metadata": {},
     "output_type": "execute_result"
    }
   ],
   "source": [
    "r"
   ]
  },
  {
   "cell_type": "code",
   "execution_count": null,
   "metadata": {
    "collapsed": true
   },
   "outputs": [],
   "source": [
    "r. #aggregte,apply,mean,std,cov,corr,agg,kurt,skew,min,max,exclusions"
   ]
  },
  {
   "cell_type": "code",
   "execution_count": 57,
   "metadata": {
    "collapsed": false
   },
   "outputs": [
    {
     "data": {
      "text/plain": [
       "2000-01-01         NaN\n",
       "2000-01-02         NaN\n",
       "2000-01-03         NaN\n",
       "2000-01-04         NaN\n",
       "2000-01-05         NaN\n",
       "2000-01-06         NaN\n",
       "2000-01-07         NaN\n",
       "2000-01-08         NaN\n",
       "2000-01-09         NaN\n",
       "2000-01-10         NaN\n",
       "2000-01-11         NaN\n",
       "2000-01-12         NaN\n",
       "2000-01-13         NaN\n",
       "2000-01-14         NaN\n",
       "2000-01-15         NaN\n",
       "2000-01-16         NaN\n",
       "2000-01-17         NaN\n",
       "2000-01-18         NaN\n",
       "2000-01-19         NaN\n",
       "2000-01-20         NaN\n",
       "2000-01-21         NaN\n",
       "2000-01-22         NaN\n",
       "2000-01-23         NaN\n",
       "2000-01-24         NaN\n",
       "2000-01-25         NaN\n",
       "2000-01-26         NaN\n",
       "2000-01-27         NaN\n",
       "2000-01-28         NaN\n",
       "2000-01-29         NaN\n",
       "2000-01-30         NaN\n",
       "                ...   \n",
       "2002-08-28   -0.093595\n",
       "2002-08-29   -0.095177\n",
       "2002-08-30   -0.089420\n",
       "2002-08-31   -0.075490\n",
       "2002-09-01   -0.060980\n",
       "2002-09-02   -0.061300\n",
       "2002-09-03   -0.065967\n",
       "2002-09-04   -0.079231\n",
       "2002-09-05   -0.075296\n",
       "2002-09-06   -0.086450\n",
       "2002-09-07   -0.104153\n",
       "2002-09-08   -0.090871\n",
       "2002-09-09   -0.039193\n",
       "2002-09-10   -0.086786\n",
       "2002-09-11   -0.081042\n",
       "2002-09-12   -0.068071\n",
       "2002-09-13   -0.112080\n",
       "2002-09-14   -0.097325\n",
       "2002-09-15   -0.064439\n",
       "2002-09-16   -0.065344\n",
       "2002-09-17   -0.071453\n",
       "2002-09-18   -0.081341\n",
       "2002-09-19   -0.086501\n",
       "2002-09-20   -0.087310\n",
       "2002-09-21   -0.090244\n",
       "2002-09-22   -0.052249\n",
       "2002-09-23   -0.048781\n",
       "2002-09-24   -0.049255\n",
       "2002-09-25   -0.037966\n",
       "2002-09-26   -0.022944\n",
       "Freq: D, Length: 1000, dtype: float64"
      ]
     },
     "execution_count": 57,
     "metadata": {},
     "output_type": "execute_result"
    }
   ],
   "source": [
    "r.mean()"
   ]
  },
  {
   "cell_type": "code",
   "execution_count": 58,
   "metadata": {
    "collapsed": false
   },
   "outputs": [
    {
     "data": {
      "text/plain": [
       "<matplotlib.axes._subplots.AxesSubplot at 0xf8f1fc3710>"
      ]
     },
     "execution_count": 58,
     "metadata": {},
     "output_type": "execute_result"
    },
    {
     "data": {
      "image/png": "[encoded data removed]",
      "text/plain": [
       "<matplotlib.figure.Figure at 0xf8f1e8ff98>"
      ]
     },
     "metadata": {},
     "output_type": "display_data"
    }
   ],
   "source": [
    "s.plot(style='k--')"
   ]
  },
  {
   "cell_type": "code",
   "execution_count": 59,
   "metadata": {
    "collapsed": false
   },
   "outputs": [
    {
     "data": {
      "text/plain": [
       "<matplotlib.axes._subplots.AxesSubplot at 0xf8f2069eb8>"
      ]
     },
     "execution_count": 59,
     "metadata": {},
     "output_type": "execute_result"
    },
    {
     "data": {
      "image/png": "[encoded data removed]",
      "text/plain": [
       "<matplotlib.figure.Figure at 0xf8f1e0b7f0>"
      ]
     },
     "metadata": {},
     "output_type": "display_data"
    }
   ],
   "source": [
    "r.mean().plot(style='k')"
   ]
  },
  {
   "cell_type": "code",
   "execution_count": 60,
   "metadata": {
    "collapsed": true
   },
   "outputs": [],
   "source": [
    "df = pd.DataFrame(np.random.randn(1000, 4),\n",
    "      index=pd.date_range('1/1/2000', periods=1000),\n",
    "      columns=['A', 'B', 'C', 'D'])"
   ]
  },
  {
   "cell_type": "code",
   "execution_count": 61,
   "metadata": {
    "collapsed": false
   },
   "outputs": [
    {
     "data": {
      "text/html": [
       "<div>\n",
       "<style>\n",
       "    .dataframe thead tr:only-child th {\n",
       "        text-align: right;\n",
       "    }\n",
       "\n",
       "    .dataframe thead th {\n",
       "        text-align: left;\n",
       "    }\n",
       "\n",
       "    .dataframe tbody tr th {\n",
       "        vertical-align: top;\n",
       "    }\n",
       "</style>\n",
       "<table border=\"1\" class=\"dataframe\">\n",
       "  <thead>\n",
       "    <tr style=\"text-align: right;\">\n",
       "      <th></th>\n",
       "      <th>A</th>\n",
       "      <th>B</th>\n",
       "      <th>C</th>\n",
       "      <th>D</th>\n",
       "    </tr>\n",
       "  </thead>\n",
       "  <tbody>\n",
       "    <tr>\n",
       "      <th>2000-01-01</th>\n",
       "      <td>1.640318</td>\n",
       "      <td>-1.301660</td>\n",
       "      <td>-0.571366</td>\n",
       "      <td>-0.705219</td>\n",
       "    </tr>\n",
       "    <tr>\n",
       "      <th>2000-01-02</th>\n",
       "      <td>1.924700</td>\n",
       "      <td>-1.412629</td>\n",
       "      <td>-0.596149</td>\n",
       "      <td>-0.303119</td>\n",
       "    </tr>\n",
       "    <tr>\n",
       "      <th>2000-01-03</th>\n",
       "      <td>3.044572</td>\n",
       "      <td>-3.414451</td>\n",
       "      <td>-2.845740</td>\n",
       "      <td>1.852938</td>\n",
       "    </tr>\n",
       "    <tr>\n",
       "      <th>2000-01-04</th>\n",
       "      <td>5.540861</td>\n",
       "      <td>-3.735326</td>\n",
       "      <td>-2.027610</td>\n",
       "      <td>0.317350</td>\n",
       "    </tr>\n",
       "    <tr>\n",
       "      <th>2000-01-05</th>\n",
       "      <td>4.961138</td>\n",
       "      <td>-3.313382</td>\n",
       "      <td>-2.597503</td>\n",
       "      <td>-0.174689</td>\n",
       "    </tr>\n",
       "    <tr>\n",
       "      <th>2000-01-06</th>\n",
       "      <td>4.554075</td>\n",
       "      <td>-1.685436</td>\n",
       "      <td>-2.280662</td>\n",
       "      <td>-0.270315</td>\n",
       "    </tr>\n",
       "    <tr>\n",
       "      <th>2000-01-07</th>\n",
       "      <td>4.045318</td>\n",
       "      <td>-0.793942</td>\n",
       "      <td>-2.677294</td>\n",
       "      <td>0.744072</td>\n",
       "    </tr>\n",
       "    <tr>\n",
       "      <th>2000-01-08</th>\n",
       "      <td>2.999269</td>\n",
       "      <td>-1.113954</td>\n",
       "      <td>-2.640947</td>\n",
       "      <td>1.180630</td>\n",
       "    </tr>\n",
       "    <tr>\n",
       "      <th>2000-01-09</th>\n",
       "      <td>3.383237</td>\n",
       "      <td>-1.765244</td>\n",
       "      <td>-4.449749</td>\n",
       "      <td>1.897534</td>\n",
       "    </tr>\n",
       "    <tr>\n",
       "      <th>2000-01-10</th>\n",
       "      <td>3.864858</td>\n",
       "      <td>-0.790300</td>\n",
       "      <td>-5.338649</td>\n",
       "      <td>1.837960</td>\n",
       "    </tr>\n",
       "    <tr>\n",
       "      <th>2000-01-11</th>\n",
       "      <td>4.532603</td>\n",
       "      <td>0.661118</td>\n",
       "      <td>-5.905756</td>\n",
       "      <td>2.910614</td>\n",
       "    </tr>\n",
       "    <tr>\n",
       "      <th>2000-01-12</th>\n",
       "      <td>5.022229</td>\n",
       "      <td>0.347819</td>\n",
       "      <td>-6.097200</td>\n",
       "      <td>1.364681</td>\n",
       "    </tr>\n",
       "    <tr>\n",
       "      <th>2000-01-13</th>\n",
       "      <td>5.288452</td>\n",
       "      <td>1.121917</td>\n",
       "      <td>-5.692562</td>\n",
       "      <td>1.023611</td>\n",
       "    </tr>\n",
       "    <tr>\n",
       "      <th>2000-01-14</th>\n",
       "      <td>4.172577</td>\n",
       "      <td>1.701694</td>\n",
       "      <td>-6.060969</td>\n",
       "      <td>-0.129737</td>\n",
       "    </tr>\n",
       "    <tr>\n",
       "      <th>2000-01-15</th>\n",
       "      <td>4.281202</td>\n",
       "      <td>2.925953</td>\n",
       "      <td>-6.800693</td>\n",
       "      <td>0.359165</td>\n",
       "    </tr>\n",
       "    <tr>\n",
       "      <th>2000-01-16</th>\n",
       "      <td>3.844382</td>\n",
       "      <td>3.667021</td>\n",
       "      <td>-8.307995</td>\n",
       "      <td>0.210165</td>\n",
       "    </tr>\n",
       "    <tr>\n",
       "      <th>2000-01-17</th>\n",
       "      <td>4.950367</td>\n",
       "      <td>5.636745</td>\n",
       "      <td>-7.268864</td>\n",
       "      <td>0.854517</td>\n",
       "    </tr>\n",
       "    <tr>\n",
       "      <th>2000-01-18</th>\n",
       "      <td>5.717402</td>\n",
       "      <td>4.840330</td>\n",
       "      <td>-5.812998</td>\n",
       "      <td>2.297460</td>\n",
       "    </tr>\n",
       "    <tr>\n",
       "      <th>2000-01-19</th>\n",
       "      <td>6.476208</td>\n",
       "      <td>4.420244</td>\n",
       "      <td>-5.643665</td>\n",
       "      <td>3.906958</td>\n",
       "    </tr>\n",
       "    <tr>\n",
       "      <th>2000-01-20</th>\n",
       "      <td>6.185359</td>\n",
       "      <td>5.185228</td>\n",
       "      <td>-7.559600</td>\n",
       "      <td>3.573886</td>\n",
       "    </tr>\n",
       "    <tr>\n",
       "      <th>2000-01-21</th>\n",
       "      <td>7.417181</td>\n",
       "      <td>7.253126</td>\n",
       "      <td>-5.510095</td>\n",
       "      <td>5.070968</td>\n",
       "    </tr>\n",
       "    <tr>\n",
       "      <th>2000-01-22</th>\n",
       "      <td>8.538563</td>\n",
       "      <td>7.832595</td>\n",
       "      <td>-5.692341</td>\n",
       "      <td>4.826585</td>\n",
       "    </tr>\n",
       "    <tr>\n",
       "      <th>2000-01-23</th>\n",
       "      <td>8.770640</td>\n",
       "      <td>8.171557</td>\n",
       "      <td>-6.473400</td>\n",
       "      <td>3.789338</td>\n",
       "    </tr>\n",
       "    <tr>\n",
       "      <th>2000-01-24</th>\n",
       "      <td>8.904848</td>\n",
       "      <td>8.498633</td>\n",
       "      <td>-8.394512</td>\n",
       "      <td>3.117155</td>\n",
       "    </tr>\n",
       "    <tr>\n",
       "      <th>2000-01-25</th>\n",
       "      <td>10.581437</td>\n",
       "      <td>9.335193</td>\n",
       "      <td>-9.195336</td>\n",
       "      <td>1.394131</td>\n",
       "    </tr>\n",
       "    <tr>\n",
       "      <th>2000-01-26</th>\n",
       "      <td>10.098537</td>\n",
       "      <td>8.033532</td>\n",
       "      <td>-9.295605</td>\n",
       "      <td>3.080049</td>\n",
       "    </tr>\n",
       "    <tr>\n",
       "      <th>2000-01-27</th>\n",
       "      <td>9.586475</td>\n",
       "      <td>7.445553</td>\n",
       "      <td>-9.349233</td>\n",
       "      <td>3.345110</td>\n",
       "    </tr>\n",
       "    <tr>\n",
       "      <th>2000-01-28</th>\n",
       "      <td>9.534169</td>\n",
       "      <td>8.065815</td>\n",
       "      <td>-8.791109</td>\n",
       "      <td>2.360784</td>\n",
       "    </tr>\n",
       "    <tr>\n",
       "      <th>2000-01-29</th>\n",
       "      <td>9.830296</td>\n",
       "      <td>7.904179</td>\n",
       "      <td>-7.672918</td>\n",
       "      <td>2.970693</td>\n",
       "    </tr>\n",
       "    <tr>\n",
       "      <th>2000-01-30</th>\n",
       "      <td>10.034189</td>\n",
       "      <td>8.084140</td>\n",
       "      <td>-7.804073</td>\n",
       "      <td>1.842398</td>\n",
       "    </tr>\n",
       "    <tr>\n",
       "      <th>...</th>\n",
       "      <td>...</td>\n",
       "      <td>...</td>\n",
       "      <td>...</td>\n",
       "      <td>...</td>\n",
       "    </tr>\n",
       "    <tr>\n",
       "      <th>2002-08-28</th>\n",
       "      <td>6.400270</td>\n",
       "      <td>12.981536</td>\n",
       "      <td>-9.719518</td>\n",
       "      <td>-10.201338</td>\n",
       "    </tr>\n",
       "    <tr>\n",
       "      <th>2002-08-29</th>\n",
       "      <td>6.571294</td>\n",
       "      <td>12.097950</td>\n",
       "      <td>-8.703042</td>\n",
       "      <td>-9.578191</td>\n",
       "    </tr>\n",
       "    <tr>\n",
       "      <th>2002-08-30</th>\n",
       "      <td>5.911639</td>\n",
       "      <td>13.639297</td>\n",
       "      <td>-7.986460</td>\n",
       "      <td>-10.171816</td>\n",
       "    </tr>\n",
       "    <tr>\n",
       "      <th>2002-08-31</th>\n",
       "      <td>6.311760</td>\n",
       "      <td>14.945065</td>\n",
       "      <td>-8.329183</td>\n",
       "      <td>-7.500219</td>\n",
       "    </tr>\n",
       "    <tr>\n",
       "      <th>2002-09-01</th>\n",
       "      <td>6.158662</td>\n",
       "      <td>14.810873</td>\n",
       "      <td>-8.701275</td>\n",
       "      <td>-7.462190</td>\n",
       "    </tr>\n",
       "    <tr>\n",
       "      <th>2002-09-02</th>\n",
       "      <td>6.995728</td>\n",
       "      <td>15.171022</td>\n",
       "      <td>-8.080652</td>\n",
       "      <td>-8.200839</td>\n",
       "    </tr>\n",
       "    <tr>\n",
       "      <th>2002-09-03</th>\n",
       "      <td>8.311641</td>\n",
       "      <td>16.508747</td>\n",
       "      <td>-9.257594</td>\n",
       "      <td>-8.765903</td>\n",
       "    </tr>\n",
       "    <tr>\n",
       "      <th>2002-09-04</th>\n",
       "      <td>9.111729</td>\n",
       "      <td>16.109774</td>\n",
       "      <td>-10.977233</td>\n",
       "      <td>-7.593779</td>\n",
       "    </tr>\n",
       "    <tr>\n",
       "      <th>2002-09-05</th>\n",
       "      <td>8.253714</td>\n",
       "      <td>16.690638</td>\n",
       "      <td>-9.558833</td>\n",
       "      <td>-7.015273</td>\n",
       "    </tr>\n",
       "    <tr>\n",
       "      <th>2002-09-06</th>\n",
       "      <td>7.859402</td>\n",
       "      <td>15.704096</td>\n",
       "      <td>-8.402569</td>\n",
       "      <td>-7.113864</td>\n",
       "    </tr>\n",
       "    <tr>\n",
       "      <th>2002-09-07</th>\n",
       "      <td>10.153935</td>\n",
       "      <td>15.205954</td>\n",
       "      <td>-7.689308</td>\n",
       "      <td>-5.998854</td>\n",
       "    </tr>\n",
       "    <tr>\n",
       "      <th>2002-09-08</th>\n",
       "      <td>8.827515</td>\n",
       "      <td>13.744949</td>\n",
       "      <td>-9.822657</td>\n",
       "      <td>-4.473167</td>\n",
       "    </tr>\n",
       "    <tr>\n",
       "      <th>2002-09-09</th>\n",
       "      <td>7.252038</td>\n",
       "      <td>11.366977</td>\n",
       "      <td>-11.183153</td>\n",
       "      <td>-5.869247</td>\n",
       "    </tr>\n",
       "    <tr>\n",
       "      <th>2002-09-10</th>\n",
       "      <td>8.458612</td>\n",
       "      <td>11.440347</td>\n",
       "      <td>-11.990537</td>\n",
       "      <td>-6.751945</td>\n",
       "    </tr>\n",
       "    <tr>\n",
       "      <th>2002-09-11</th>\n",
       "      <td>8.023972</td>\n",
       "      <td>11.473527</td>\n",
       "      <td>-12.028050</td>\n",
       "      <td>-7.833332</td>\n",
       "    </tr>\n",
       "    <tr>\n",
       "      <th>2002-09-12</th>\n",
       "      <td>8.571577</td>\n",
       "      <td>12.057564</td>\n",
       "      <td>-11.744916</td>\n",
       "      <td>-7.401831</td>\n",
       "    </tr>\n",
       "    <tr>\n",
       "      <th>2002-09-13</th>\n",
       "      <td>9.955692</td>\n",
       "      <td>13.369225</td>\n",
       "      <td>-11.620378</td>\n",
       "      <td>-6.603194</td>\n",
       "    </tr>\n",
       "    <tr>\n",
       "      <th>2002-09-14</th>\n",
       "      <td>8.961983</td>\n",
       "      <td>14.109889</td>\n",
       "      <td>-12.873820</td>\n",
       "      <td>-6.241052</td>\n",
       "    </tr>\n",
       "    <tr>\n",
       "      <th>2002-09-15</th>\n",
       "      <td>9.155859</td>\n",
       "      <td>14.145385</td>\n",
       "      <td>-11.149268</td>\n",
       "      <td>-7.076901</td>\n",
       "    </tr>\n",
       "    <tr>\n",
       "      <th>2002-09-16</th>\n",
       "      <td>9.609548</td>\n",
       "      <td>15.322559</td>\n",
       "      <td>-11.801817</td>\n",
       "      <td>-6.346080</td>\n",
       "    </tr>\n",
       "    <tr>\n",
       "      <th>2002-09-17</th>\n",
       "      <td>10.346180</td>\n",
       "      <td>15.678579</td>\n",
       "      <td>-10.635142</td>\n",
       "      <td>-5.179179</td>\n",
       "    </tr>\n",
       "    <tr>\n",
       "      <th>2002-09-18</th>\n",
       "      <td>9.037706</td>\n",
       "      <td>15.155803</td>\n",
       "      <td>-10.642553</td>\n",
       "      <td>-6.400993</td>\n",
       "    </tr>\n",
       "    <tr>\n",
       "      <th>2002-09-19</th>\n",
       "      <td>8.833365</td>\n",
       "      <td>14.343914</td>\n",
       "      <td>-11.476255</td>\n",
       "      <td>-5.643332</td>\n",
       "    </tr>\n",
       "    <tr>\n",
       "      <th>2002-09-20</th>\n",
       "      <td>8.397953</td>\n",
       "      <td>13.465191</td>\n",
       "      <td>-11.570650</td>\n",
       "      <td>-5.820600</td>\n",
       "    </tr>\n",
       "    <tr>\n",
       "      <th>2002-09-21</th>\n",
       "      <td>8.284345</td>\n",
       "      <td>14.117847</td>\n",
       "      <td>-10.841269</td>\n",
       "      <td>-5.236591</td>\n",
       "    </tr>\n",
       "    <tr>\n",
       "      <th>2002-09-22</th>\n",
       "      <td>9.158658</td>\n",
       "      <td>13.369484</td>\n",
       "      <td>-10.621696</td>\n",
       "      <td>-4.675997</td>\n",
       "    </tr>\n",
       "    <tr>\n",
       "      <th>2002-09-23</th>\n",
       "      <td>8.700908</td>\n",
       "      <td>14.843746</td>\n",
       "      <td>-9.865431</td>\n",
       "      <td>-4.308300</td>\n",
       "    </tr>\n",
       "    <tr>\n",
       "      <th>2002-09-24</th>\n",
       "      <td>8.199159</td>\n",
       "      <td>15.415048</td>\n",
       "      <td>-8.665160</td>\n",
       "      <td>-5.201302</td>\n",
       "    </tr>\n",
       "    <tr>\n",
       "      <th>2002-09-25</th>\n",
       "      <td>9.981625</td>\n",
       "      <td>16.164948</td>\n",
       "      <td>-9.809681</td>\n",
       "      <td>-4.571352</td>\n",
       "    </tr>\n",
       "    <tr>\n",
       "      <th>2002-09-26</th>\n",
       "      <td>9.811285</td>\n",
       "      <td>17.441393</td>\n",
       "      <td>-9.268490</td>\n",
       "      <td>-5.095067</td>\n",
       "    </tr>\n",
       "  </tbody>\n",
       "</table>\n",
       "<p>1000 rows × 4 columns</p>\n",
       "</div>"
      ],
      "text/plain": [
       "                    A          B          C          D\n",
       "2000-01-01   1.640318  -1.301660  -0.571366  -0.705219\n",
       "2000-01-02   1.924700  -1.412629  -0.596149  -0.303119\n",
       "2000-01-03   3.044572  -3.414451  -2.845740   1.852938\n",
       "2000-01-04   5.540861  -3.735326  -2.027610   0.317350\n",
       "2000-01-05   4.961138  -3.313382  -2.597503  -0.174689\n",
       "2000-01-06   4.554075  -1.685436  -2.280662  -0.270315\n",
       "2000-01-07   4.045318  -0.793942  -2.677294   0.744072\n",
       "2000-01-08   2.999269  -1.113954  -2.640947   1.180630\n",
       "2000-01-09   3.383237  -1.765244  -4.449749   1.897534\n",
       "2000-01-10   3.864858  -0.790300  -5.338649   1.837960\n",
       "2000-01-11   4.532603   0.661118  -5.905756   2.910614\n",
       "2000-01-12   5.022229   0.347819  -6.097200   1.364681\n",
       "2000-01-13   5.288452   1.121917  -5.692562   1.023611\n",
       "2000-01-14   4.172577   1.701694  -6.060969  -0.129737\n",
       "2000-01-15   4.281202   2.925953  -6.800693   0.359165\n",
       "2000-01-16   3.844382   3.667021  -8.307995   0.210165\n",
       "2000-01-17   4.950367   5.636745  -7.268864   0.854517\n",
       "2000-01-18   5.717402   4.840330  -5.812998   2.297460\n",
       "2000-01-19   6.476208   4.420244  -5.643665   3.906958\n",
       "2000-01-20   6.185359   5.185228  -7.559600   3.573886\n",
       "2000-01-21   7.417181   7.253126  -5.510095   5.070968\n",
       "2000-01-22   8.538563   7.832595  -5.692341   4.826585\n",
       "2000-01-23   8.770640   8.171557  -6.473400   3.789338\n",
       "2000-01-24   8.904848   8.498633  -8.394512   3.117155\n",
       "2000-01-25  10.581437   9.335193  -9.195336   1.394131\n",
       "2000-01-26  10.098537   8.033532  -9.295605   3.080049\n",
       "2000-01-27   9.586475   7.445553  -9.349233   3.345110\n",
       "2000-01-28   9.534169   8.065815  -8.791109   2.360784\n",
       "2000-01-29   9.830296   7.904179  -7.672918   2.970693\n",
       "2000-01-30  10.034189   8.084140  -7.804073   1.842398\n",
       "...               ...        ...        ...        ...\n",
       "2002-08-28   6.400270  12.981536  -9.719518 -10.201338\n",
       "2002-08-29   6.571294  12.097950  -8.703042  -9.578191\n",
       "2002-08-30   5.911639  13.639297  -7.986460 -10.171816\n",
       "2002-08-31   6.311760  14.945065  -8.329183  -7.500219\n",
       "2002-09-01   6.158662  14.810873  -8.701275  -7.462190\n",
       "2002-09-02   6.995728  15.171022  -8.080652  -8.200839\n",
       "2002-09-03   8.311641  16.508747  -9.257594  -8.765903\n",
       "2002-09-04   9.111729  16.109774 -10.977233  -7.593779\n",
       "2002-09-05   8.253714  16.690638  -9.558833  -7.015273\n",
       "2002-09-06   7.859402  15.704096  -8.402569  -7.113864\n",
       "2002-09-07  10.153935  15.205954  -7.689308  -5.998854\n",
       "2002-09-08   8.827515  13.744949  -9.822657  -4.473167\n",
       "2002-09-09   7.252038  11.366977 -11.183153  -5.869247\n",
       "2002-09-10   8.458612  11.440347 -11.990537  -6.751945\n",
       "2002-09-11   8.023972  11.473527 -12.028050  -7.833332\n",
       "2002-09-12   8.571577  12.057564 -11.744916  -7.401831\n",
       "2002-09-13   9.955692  13.369225 -11.620378  -6.603194\n",
       "2002-09-14   8.961983  14.109889 -12.873820  -6.241052\n",
       "2002-09-15   9.155859  14.145385 -11.149268  -7.076901\n",
       "2002-09-16   9.609548  15.322559 -11.801817  -6.346080\n",
       "2002-09-17  10.346180  15.678579 -10.635142  -5.179179\n",
       "2002-09-18   9.037706  15.155803 -10.642553  -6.400993\n",
       "2002-09-19   8.833365  14.343914 -11.476255  -5.643332\n",
       "2002-09-20   8.397953  13.465191 -11.570650  -5.820600\n",
       "2002-09-21   8.284345  14.117847 -10.841269  -5.236591\n",
       "2002-09-22   9.158658  13.369484 -10.621696  -4.675997\n",
       "2002-09-23   8.700908  14.843746  -9.865431  -4.308300\n",
       "2002-09-24   8.199159  15.415048  -8.665160  -5.201302\n",
       "2002-09-25   9.981625  16.164948  -9.809681  -4.571352\n",
       "2002-09-26   9.811285  17.441393  -9.268490  -5.095067\n",
       "\n",
       "[1000 rows x 4 columns]"
      ]
     },
     "execution_count": 61,
     "metadata": {},
     "output_type": "execute_result"
    }
   ],
   "source": [
    "df.cumsum()"
   ]
  },
  {
   "cell_type": "code",
   "execution_count": 62,
   "metadata": {
    "collapsed": false
   },
   "outputs": [
    {
     "data": {
      "text/plain": [
       "array([<matplotlib.axes._subplots.AxesSubplot object at 0x000000F8F26D9DA0>,\n",
       "       <matplotlib.axes._subplots.AxesSubplot object at 0x000000F8F277C7B8>,\n",
       "       <matplotlib.axes._subplots.AxesSubplot object at 0x000000F8F27C7780>,\n",
       "       <matplotlib.axes._subplots.AxesSubplot object at 0x000000F8F28072E8>],\n",
       "      dtype=object)"
      ]
     },
     "execution_count": 62,
     "metadata": {},
     "output_type": "execute_result"
    },
    {
     "data": {
      "image/png": "[encoded data removed]",
      "text/plain": [
       "<matplotlib.figure.Figure at 0xf8f208afd0>"
      ]
     },
     "metadata": {},
     "output_type": "display_data"
    }
   ],
   "source": [
    "df.rolling(window=60).sum().plot(subplots=True)"
   ]
  },
  {
   "cell_type": "code",
   "execution_count": 63,
   "metadata": {
    "collapsed": true
   },
   "outputs": [],
   "source": [
    "#using apply function by computing mean absolute deviation\n",
    "mad = lambda x: np.fabs(x - x.mean()).mean()"
   ]
  },
  {
   "cell_type": "code",
   "execution_count": 65,
   "metadata": {
    "collapsed": false
   },
   "outputs": [
    {
     "data": {
      "text/plain": [
       "<matplotlib.axes._subplots.AxesSubplot at 0xf8f3a356a0>"
      ]
     },
     "execution_count": 65,
     "metadata": {},
     "output_type": "execute_result"
    },
    {
     "data": {
      "image/png": "[encoded data removed]",
      "text/plain": [
       "<matplotlib.figure.Figure at 0xf8f207a6a0>"
      ]
     },
     "metadata": {},
     "output_type": "display_data"
    }
   ],
   "source": [
    "s.rolling(window=60).apply(mad).plot(style='b')"
   ]
  },
  {
   "cell_type": "markdown",
   "metadata": {
    "collapsed": true
   },
   "source": [
    "## Rolling windows *win_type*"
   ]
  },
  {
   "cell_type": "code",
   "execution_count": 2,
   "metadata": {
    "collapsed": false
   },
   "outputs": [],
   "source": [
    "ser = pd.Series(np.random.randn(10), index = pd.date_range('1/1/2000', periods=10))"
   ]
  },
  {
   "cell_type": "code",
   "execution_count": 4,
   "metadata": {
    "collapsed": false
   },
   "outputs": [
    {
     "data": {
      "text/plain": [
       "count    10.000000\n",
       "mean     -0.192197\n",
       "std       1.114301\n",
       "min      -2.623787\n",
       "25%      -0.753914\n",
       "50%       0.004557\n",
       "75%       0.677002\n",
       "max       1.025890\n",
       "dtype: float64"
      ]
     },
     "execution_count": 4,
     "metadata": {},
     "output_type": "execute_result"
    }
   ],
   "source": [
    "ser.describe()"
   ]
  },
  {
   "cell_type": "code",
   "execution_count": 5,
   "metadata": {
    "collapsed": false
   },
   "outputs": [
    {
     "data": {
      "text/plain": [
       "2000-01-01         NaN\n",
       "2000-01-02         NaN\n",
       "2000-01-03         NaN\n",
       "2000-01-04         NaN\n",
       "2000-01-05   -0.223716\n",
       "2000-01-06    0.131796\n",
       "2000-01-07    0.076853\n",
       "2000-01-08    0.122929\n",
       "2000-01-09   -0.188108\n",
       "2000-01-10   -0.188861\n",
       "Freq: D, dtype: float64"
      ]
     },
     "execution_count": 5,
     "metadata": {},
     "output_type": "execute_result"
    }
   ],
   "source": [
    "ser.rolling(window=5, win_type='triang').mean()"
   ]
  },
  {
   "cell_type": "code",
   "execution_count": 7,
   "metadata": {
    "collapsed": false
   },
   "outputs": [
    {
     "data": {
      "text/plain": [
       "2000-01-01         NaN\n",
       "2000-01-02         NaN\n",
       "2000-01-03         NaN\n",
       "2000-01-04         NaN\n",
       "2000-01-05   -0.552619\n",
       "2000-01-06    0.124641\n",
       "2000-01-07    0.031261\n",
       "2000-01-08    0.861122\n",
       "2000-01-09   -0.821013\n",
       "2000-01-10   -0.022146\n",
       "Freq: D, dtype: float64"
      ]
     },
     "execution_count": 7,
     "metadata": {},
     "output_type": "execute_result"
    }
   ],
   "source": [
    "ser.rolling(window=5, win_type='gaussian').mean(std=0.1)"
   ]
  },
  {
   "cell_type": "code",
   "execution_count": 13,
   "metadata": {
    "collapsed": false
   },
   "outputs": [
    {
     "data": {
      "text/html": [
       "<div>\n",
       "<style>\n",
       "    .dataframe thead tr:only-child th {\n",
       "        text-align: right;\n",
       "    }\n",
       "\n",
       "    .dataframe thead th {\n",
       "        text-align: left;\n",
       "    }\n",
       "\n",
       "    .dataframe tbody tr th {\n",
       "        vertical-align: top;\n",
       "    }\n",
       "</style>\n",
       "<table border=\"1\" class=\"dataframe\">\n",
       "  <thead>\n",
       "    <tr style=\"text-align: right;\">\n",
       "      <th></th>\n",
       "      <th>B</th>\n",
       "    </tr>\n",
       "  </thead>\n",
       "  <tbody>\n",
       "    <tr>\n",
       "      <th>2013-01-01 00:00:00</th>\n",
       "      <td>0.0</td>\n",
       "    </tr>\n",
       "    <tr>\n",
       "      <th>2013-01-01 00:00:01</th>\n",
       "      <td>1.0</td>\n",
       "    </tr>\n",
       "    <tr>\n",
       "      <th>2013-01-01 00:00:02</th>\n",
       "      <td>2.0</td>\n",
       "    </tr>\n",
       "    <tr>\n",
       "      <th>2013-01-01 00:00:03</th>\n",
       "      <td>NaN</td>\n",
       "    </tr>\n",
       "    <tr>\n",
       "      <th>2013-01-01 00:00:04</th>\n",
       "      <td>4.0</td>\n",
       "    </tr>\n",
       "  </tbody>\n",
       "</table>\n",
       "</div>"
      ],
      "text/plain": [
       "                       B\n",
       "2013-01-01 00:00:00  0.0\n",
       "2013-01-01 00:00:01  1.0\n",
       "2013-01-01 00:00:02  2.0\n",
       "2013-01-01 00:00:03  NaN\n",
       "2013-01-01 00:00:04  4.0"
      ]
     },
     "execution_count": 13,
     "metadata": {},
     "output_type": "execute_result"
    }
   ],
   "source": [
    "#time series\n",
    "dft = pd.DataFrame({'B': [0,1,2,np.nan,4]}, index=pd.date_range('20130101',periods=5,freq='s'));dft"
   ]
  },
  {
   "cell_type": "code",
   "execution_count": 14,
   "metadata": {
    "collapsed": false
   },
   "outputs": [
    {
     "data": {
      "text/html": [
       "<div>\n",
       "<style>\n",
       "    .dataframe thead tr:only-child th {\n",
       "        text-align: right;\n",
       "    }\n",
       "\n",
       "    .dataframe thead th {\n",
       "        text-align: left;\n",
       "    }\n",
       "\n",
       "    .dataframe tbody tr th {\n",
       "        vertical-align: top;\n",
       "    }\n",
       "</style>\n",
       "<table border=\"1\" class=\"dataframe\">\n",
       "  <thead>\n",
       "    <tr style=\"text-align: right;\">\n",
       "      <th></th>\n",
       "      <th>B</th>\n",
       "    </tr>\n",
       "  </thead>\n",
       "  <tbody>\n",
       "    <tr>\n",
       "      <th>2013-01-01 00:00:00</th>\n",
       "      <td>NaN</td>\n",
       "    </tr>\n",
       "    <tr>\n",
       "      <th>2013-01-01 00:00:01</th>\n",
       "      <td>1.0</td>\n",
       "    </tr>\n",
       "    <tr>\n",
       "      <th>2013-01-01 00:00:02</th>\n",
       "      <td>3.0</td>\n",
       "    </tr>\n",
       "    <tr>\n",
       "      <th>2013-01-01 00:00:03</th>\n",
       "      <td>NaN</td>\n",
       "    </tr>\n",
       "    <tr>\n",
       "      <th>2013-01-01 00:00:04</th>\n",
       "      <td>NaN</td>\n",
       "    </tr>\n",
       "  </tbody>\n",
       "</table>\n",
       "</div>"
      ],
      "text/plain": [
       "                       B\n",
       "2013-01-01 00:00:00  NaN\n",
       "2013-01-01 00:00:01  1.0\n",
       "2013-01-01 00:00:02  3.0\n",
       "2013-01-01 00:00:03  NaN\n",
       "2013-01-01 00:00:04  NaN"
      ]
     },
     "execution_count": 14,
     "metadata": {},
     "output_type": "execute_result"
    }
   ],
   "source": [
    "dft.rolling(2).sum()"
   ]
  },
  {
   "cell_type": "code",
   "execution_count": 15,
   "metadata": {
    "collapsed": false
   },
   "outputs": [
    {
     "data": {
      "text/html": [
       "<div>\n",
       "<style>\n",
       "    .dataframe thead tr:only-child th {\n",
       "        text-align: right;\n",
       "    }\n",
       "\n",
       "    .dataframe thead th {\n",
       "        text-align: left;\n",
       "    }\n",
       "\n",
       "    .dataframe tbody tr th {\n",
       "        vertical-align: top;\n",
       "    }\n",
       "</style>\n",
       "<table border=\"1\" class=\"dataframe\">\n",
       "  <thead>\n",
       "    <tr style=\"text-align: right;\">\n",
       "      <th></th>\n",
       "      <th>B</th>\n",
       "    </tr>\n",
       "  </thead>\n",
       "  <tbody>\n",
       "    <tr>\n",
       "      <th>2013-01-01 00:00:00</th>\n",
       "      <td>0.0</td>\n",
       "    </tr>\n",
       "    <tr>\n",
       "      <th>2013-01-01 00:00:01</th>\n",
       "      <td>1.0</td>\n",
       "    </tr>\n",
       "    <tr>\n",
       "      <th>2013-01-01 00:00:02</th>\n",
       "      <td>3.0</td>\n",
       "    </tr>\n",
       "    <tr>\n",
       "      <th>2013-01-01 00:00:03</th>\n",
       "      <td>2.0</td>\n",
       "    </tr>\n",
       "    <tr>\n",
       "      <th>2013-01-01 00:00:04</th>\n",
       "      <td>4.0</td>\n",
       "    </tr>\n",
       "  </tbody>\n",
       "</table>\n",
       "</div>"
      ],
      "text/plain": [
       "                       B\n",
       "2013-01-01 00:00:00  0.0\n",
       "2013-01-01 00:00:01  1.0\n",
       "2013-01-01 00:00:02  3.0\n",
       "2013-01-01 00:00:03  2.0\n",
       "2013-01-01 00:00:04  4.0"
      ]
     },
     "execution_count": 15,
     "metadata": {},
     "output_type": "execute_result"
    }
   ],
   "source": [
    "dft.rolling(2, min_periods=1).sum()"
   ]
  },
  {
   "cell_type": "code",
   "execution_count": 16,
   "metadata": {
    "collapsed": false
   },
   "outputs": [
    {
     "data": {
      "text/html": [
       "<div>\n",
       "<style>\n",
       "    .dataframe thead tr:only-child th {\n",
       "        text-align: right;\n",
       "    }\n",
       "\n",
       "    .dataframe thead th {\n",
       "        text-align: left;\n",
       "    }\n",
       "\n",
       "    .dataframe tbody tr th {\n",
       "        vertical-align: top;\n",
       "    }\n",
       "</style>\n",
       "<table border=\"1\" class=\"dataframe\">\n",
       "  <thead>\n",
       "    <tr style=\"text-align: right;\">\n",
       "      <th></th>\n",
       "      <th>B</th>\n",
       "    </tr>\n",
       "  </thead>\n",
       "  <tbody>\n",
       "    <tr>\n",
       "      <th>2013-01-01 00:00:00</th>\n",
       "      <td>0.0</td>\n",
       "    </tr>\n",
       "    <tr>\n",
       "      <th>2013-01-01 00:00:01</th>\n",
       "      <td>1.0</td>\n",
       "    </tr>\n",
       "    <tr>\n",
       "      <th>2013-01-01 00:00:02</th>\n",
       "      <td>3.0</td>\n",
       "    </tr>\n",
       "    <tr>\n",
       "      <th>2013-01-01 00:00:03</th>\n",
       "      <td>2.0</td>\n",
       "    </tr>\n",
       "    <tr>\n",
       "      <th>2013-01-01 00:00:04</th>\n",
       "      <td>4.0</td>\n",
       "    </tr>\n",
       "  </tbody>\n",
       "</table>\n",
       "</div>"
      ],
      "text/plain": [
       "                       B\n",
       "2013-01-01 00:00:00  0.0\n",
       "2013-01-01 00:00:01  1.0\n",
       "2013-01-01 00:00:02  3.0\n",
       "2013-01-01 00:00:03  2.0\n",
       "2013-01-01 00:00:04  4.0"
      ]
     },
     "execution_count": 16,
     "metadata": {},
     "output_type": "execute_result"
    }
   ],
   "source": [
    "dft.rolling('2s').sum() #specifying an offset"
   ]
  },
  {
   "cell_type": "code",
   "execution_count": 17,
   "metadata": {
    "collapsed": false
   },
   "outputs": [
    {
     "data": {
      "text/html": [
       "<div>\n",
       "<style>\n",
       "    .dataframe thead tr:only-child th {\n",
       "        text-align: right;\n",
       "    }\n",
       "\n",
       "    .dataframe thead th {\n",
       "        text-align: left;\n",
       "    }\n",
       "\n",
       "    .dataframe tbody tr th {\n",
       "        vertical-align: top;\n",
       "    }\n",
       "</style>\n",
       "<table border=\"1\" class=\"dataframe\">\n",
       "  <thead>\n",
       "    <tr style=\"text-align: right;\">\n",
       "      <th></th>\n",
       "      <th>B</th>\n",
       "    </tr>\n",
       "    <tr>\n",
       "      <th>foo</th>\n",
       "      <th></th>\n",
       "    </tr>\n",
       "  </thead>\n",
       "  <tbody>\n",
       "    <tr>\n",
       "      <th>2013-01-01 09:00:00</th>\n",
       "      <td>0.0</td>\n",
       "    </tr>\n",
       "    <tr>\n",
       "      <th>2013-01-01 09:00:02</th>\n",
       "      <td>1.0</td>\n",
       "    </tr>\n",
       "    <tr>\n",
       "      <th>2013-01-01 09:00:03</th>\n",
       "      <td>2.0</td>\n",
       "    </tr>\n",
       "    <tr>\n",
       "      <th>2013-01-01 09:00:05</th>\n",
       "      <td>NaN</td>\n",
       "    </tr>\n",
       "    <tr>\n",
       "      <th>2013-01-01 09:00:06</th>\n",
       "      <td>4.0</td>\n",
       "    </tr>\n",
       "  </tbody>\n",
       "</table>\n",
       "</div>"
      ],
      "text/plain": [
       "                       B\n",
       "foo                     \n",
       "2013-01-01 09:00:00  0.0\n",
       "2013-01-01 09:00:02  1.0\n",
       "2013-01-01 09:00:03  2.0\n",
       "2013-01-01 09:00:05  NaN\n",
       "2013-01-01 09:00:06  4.0"
      ]
     },
     "execution_count": 17,
     "metadata": {},
     "output_type": "execute_result"
    }
   ],
   "source": [
    "dft = pd.DataFrame({'B': [0,1,2,np.nan,4]},index= pd.Index([pd.Timestamp('20130101 09:00:00'),\n",
    "                                                            pd.Timestamp('20130101 09:00:02'),\n",
    "                                                            pd.Timestamp('20130101 09:00:03'),\n",
    "                                                            pd.Timestamp('20130101 09:00:05'),\n",
    "                                                            pd.Timestamp('20130101 09:00:06')],\n",
    "                                                            name = 'foo'));dft"
   ]
  },
  {
   "cell_type": "code",
   "execution_count": 18,
   "metadata": {
    "collapsed": false
   },
   "outputs": [
    {
     "data": {
      "text/html": [
       "<div>\n",
       "<style>\n",
       "    .dataframe thead tr:only-child th {\n",
       "        text-align: right;\n",
       "    }\n",
       "\n",
       "    .dataframe thead th {\n",
       "        text-align: left;\n",
       "    }\n",
       "\n",
       "    .dataframe tbody tr th {\n",
       "        vertical-align: top;\n",
       "    }\n",
       "</style>\n",
       "<table border=\"1\" class=\"dataframe\">\n",
       "  <thead>\n",
       "    <tr style=\"text-align: right;\">\n",
       "      <th></th>\n",
       "      <th>B</th>\n",
       "    </tr>\n",
       "    <tr>\n",
       "      <th>foo</th>\n",
       "      <th></th>\n",
       "    </tr>\n",
       "  </thead>\n",
       "  <tbody>\n",
       "    <tr>\n",
       "      <th>2013-01-01 09:00:00</th>\n",
       "      <td>NaN</td>\n",
       "    </tr>\n",
       "    <tr>\n",
       "      <th>2013-01-01 09:00:02</th>\n",
       "      <td>1.0</td>\n",
       "    </tr>\n",
       "    <tr>\n",
       "      <th>2013-01-01 09:00:03</th>\n",
       "      <td>3.0</td>\n",
       "    </tr>\n",
       "    <tr>\n",
       "      <th>2013-01-01 09:00:05</th>\n",
       "      <td>NaN</td>\n",
       "    </tr>\n",
       "    <tr>\n",
       "      <th>2013-01-01 09:00:06</th>\n",
       "      <td>NaN</td>\n",
       "    </tr>\n",
       "  </tbody>\n",
       "</table>\n",
       "</div>"
      ],
      "text/plain": [
       "                       B\n",
       "foo                     \n",
       "2013-01-01 09:00:00  NaN\n",
       "2013-01-01 09:00:02  1.0\n",
       "2013-01-01 09:00:03  3.0\n",
       "2013-01-01 09:00:05  NaN\n",
       "2013-01-01 09:00:06  NaN"
      ]
     },
     "execution_count": 18,
     "metadata": {},
     "output_type": "execute_result"
    }
   ],
   "source": [
    "dft.rolling(2).sum()"
   ]
  },
  {
   "cell_type": "code",
   "execution_count": 19,
   "metadata": {
    "collapsed": false
   },
   "outputs": [
    {
     "data": {
      "text/html": [
       "<div>\n",
       "<style>\n",
       "    .dataframe thead tr:only-child th {\n",
       "        text-align: right;\n",
       "    }\n",
       "\n",
       "    .dataframe thead th {\n",
       "        text-align: left;\n",
       "    }\n",
       "\n",
       "    .dataframe tbody tr th {\n",
       "        vertical-align: top;\n",
       "    }\n",
       "</style>\n",
       "<table border=\"1\" class=\"dataframe\">\n",
       "  <thead>\n",
       "    <tr style=\"text-align: right;\">\n",
       "      <th></th>\n",
       "      <th>B</th>\n",
       "    </tr>\n",
       "    <tr>\n",
       "      <th>foo</th>\n",
       "      <th></th>\n",
       "    </tr>\n",
       "  </thead>\n",
       "  <tbody>\n",
       "    <tr>\n",
       "      <th>2013-01-01 09:00:00</th>\n",
       "      <td>0.0</td>\n",
       "    </tr>\n",
       "    <tr>\n",
       "      <th>2013-01-01 09:00:02</th>\n",
       "      <td>1.0</td>\n",
       "    </tr>\n",
       "    <tr>\n",
       "      <th>2013-01-01 09:00:03</th>\n",
       "      <td>3.0</td>\n",
       "    </tr>\n",
       "    <tr>\n",
       "      <th>2013-01-01 09:00:05</th>\n",
       "      <td>NaN</td>\n",
       "    </tr>\n",
       "    <tr>\n",
       "      <th>2013-01-01 09:00:06</th>\n",
       "      <td>4.0</td>\n",
       "    </tr>\n",
       "  </tbody>\n",
       "</table>\n",
       "</div>"
      ],
      "text/plain": [
       "                       B\n",
       "foo                     \n",
       "2013-01-01 09:00:00  0.0\n",
       "2013-01-01 09:00:02  1.0\n",
       "2013-01-01 09:00:03  3.0\n",
       "2013-01-01 09:00:05  NaN\n",
       "2013-01-01 09:00:06  4.0"
      ]
     },
     "execution_count": 19,
     "metadata": {},
     "output_type": "execute_result"
    }
   ],
   "source": [
    "dft.rolling('2s').sum()#using time specifications variable windows"
   ]
  },
  {
   "cell_type": "code",
   "execution_count": 20,
   "metadata": {
    "collapsed": true
   },
   "outputs": [],
   "source": [
    "dft = dft.reset_index()"
   ]
  },
  {
   "cell_type": "code",
   "execution_count": 21,
   "metadata": {
    "collapsed": false
   },
   "outputs": [
    {
     "data": {
      "text/html": [
       "<div>\n",
       "<style>\n",
       "    .dataframe thead tr:only-child th {\n",
       "        text-align: right;\n",
       "    }\n",
       "\n",
       "    .dataframe thead th {\n",
       "        text-align: left;\n",
       "    }\n",
       "\n",
       "    .dataframe tbody tr th {\n",
       "        vertical-align: top;\n",
       "    }\n",
       "</style>\n",
       "<table border=\"1\" class=\"dataframe\">\n",
       "  <thead>\n",
       "    <tr style=\"text-align: right;\">\n",
       "      <th></th>\n",
       "      <th>foo</th>\n",
       "      <th>B</th>\n",
       "    </tr>\n",
       "  </thead>\n",
       "  <tbody>\n",
       "    <tr>\n",
       "      <th>0</th>\n",
       "      <td>2013-01-01 09:00:00</td>\n",
       "      <td>0.0</td>\n",
       "    </tr>\n",
       "    <tr>\n",
       "      <th>1</th>\n",
       "      <td>2013-01-01 09:00:02</td>\n",
       "      <td>1.0</td>\n",
       "    </tr>\n",
       "    <tr>\n",
       "      <th>2</th>\n",
       "      <td>2013-01-01 09:00:03</td>\n",
       "      <td>2.0</td>\n",
       "    </tr>\n",
       "    <tr>\n",
       "      <th>3</th>\n",
       "      <td>2013-01-01 09:00:05</td>\n",
       "      <td>NaN</td>\n",
       "    </tr>\n",
       "    <tr>\n",
       "      <th>4</th>\n",
       "      <td>2013-01-01 09:00:06</td>\n",
       "      <td>4.0</td>\n",
       "    </tr>\n",
       "  </tbody>\n",
       "</table>\n",
       "</div>"
      ],
      "text/plain": [
       "                  foo    B\n",
       "0 2013-01-01 09:00:00  0.0\n",
       "1 2013-01-01 09:00:02  1.0\n",
       "2 2013-01-01 09:00:03  2.0\n",
       "3 2013-01-01 09:00:05  NaN\n",
       "4 2013-01-01 09:00:06  4.0"
      ]
     },
     "execution_count": 21,
     "metadata": {},
     "output_type": "execute_result"
    }
   ],
   "source": [
    "dft"
   ]
  },
  {
   "cell_type": "code",
   "execution_count": 22,
   "metadata": {
    "collapsed": false
   },
   "outputs": [
    {
     "data": {
      "text/html": [
       "<div>\n",
       "<style>\n",
       "    .dataframe thead tr:only-child th {\n",
       "        text-align: right;\n",
       "    }\n",
       "\n",
       "    .dataframe thead th {\n",
       "        text-align: left;\n",
       "    }\n",
       "\n",
       "    .dataframe tbody tr th {\n",
       "        vertical-align: top;\n",
       "    }\n",
       "</style>\n",
       "<table border=\"1\" class=\"dataframe\">\n",
       "  <thead>\n",
       "    <tr style=\"text-align: right;\">\n",
       "      <th></th>\n",
       "      <th>foo</th>\n",
       "      <th>B</th>\n",
       "    </tr>\n",
       "  </thead>\n",
       "  <tbody>\n",
       "    <tr>\n",
       "      <th>0</th>\n",
       "      <td>2013-01-01 09:00:00</td>\n",
       "      <td>0.0</td>\n",
       "    </tr>\n",
       "    <tr>\n",
       "      <th>1</th>\n",
       "      <td>2013-01-01 09:00:02</td>\n",
       "      <td>1.0</td>\n",
       "    </tr>\n",
       "    <tr>\n",
       "      <th>2</th>\n",
       "      <td>2013-01-01 09:00:03</td>\n",
       "      <td>3.0</td>\n",
       "    </tr>\n",
       "    <tr>\n",
       "      <th>3</th>\n",
       "      <td>2013-01-01 09:00:05</td>\n",
       "      <td>NaN</td>\n",
       "    </tr>\n",
       "    <tr>\n",
       "      <th>4</th>\n",
       "      <td>2013-01-01 09:00:06</td>\n",
       "      <td>4.0</td>\n",
       "    </tr>\n",
       "  </tbody>\n",
       "</table>\n",
       "</div>"
      ],
      "text/plain": [
       "                  foo    B\n",
       "0 2013-01-01 09:00:00  0.0\n",
       "1 2013-01-01 09:00:02  1.0\n",
       "2 2013-01-01 09:00:03  3.0\n",
       "3 2013-01-01 09:00:05  NaN\n",
       "4 2013-01-01 09:00:06  4.0"
      ]
     },
     "execution_count": 22,
     "metadata": {},
     "output_type": "execute_result"
    }
   ],
   "source": [
    "dft.rolling('2s',on='foo').sum()"
   ]
  },
  {
   "cell_type": "code",
   "execution_count": 4,
   "metadata": {
    "collapsed": false
   },
   "outputs": [
    {
     "data": {
      "text/plain": [
       "2000-01-01    2.386515\n",
       "2000-01-02    3.273504\n",
       "2000-01-03    1.948889\n",
       "2000-01-04    1.890271\n",
       "2000-01-05   -0.068162\n",
       "2000-01-06    2.942209\n",
       "2000-01-07    0.842263\n",
       "2000-01-08    2.256597\n",
       "2000-01-09    1.211937\n",
       "2000-01-10    0.985297\n",
       "Freq: D, dtype: float64"
      ]
     },
     "execution_count": 4,
     "metadata": {},
     "output_type": "execute_result"
    }
   ],
   "source": [
    "ser"
   ]
  },
  {
   "cell_type": "code",
   "execution_count": null,
   "metadata": {
    "collapsed": true
   },
   "outputs": [],
   "source": []
  }
 ],
 "metadata": {
  "anaconda-cloud": {},
  "kernelspec": {
   "display_name": "Python [conda root]",
   "language": "python",
   "name": "conda-root-py"
  },
  "language_info": {
   "codemirror_mode": {
    "name": "ipython",
    "version": 3
   },
   "file_extension": ".py",
   "mimetype": "text/x-python",
   "name": "python",
   "nbconvert_exporter": "python",
   "pygments_lexer": "ipython3",
   "version": "3.5.2"
  }
 },
 "nbformat": 4,
 "nbformat_minor": 1
}
