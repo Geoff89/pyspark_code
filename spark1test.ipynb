{
 "cells": [
  {
   "cell_type": "code",
   "execution_count": 2,
   "metadata": {
    "collapsed": false,
    "scrolled": true
   },
   "outputs": [],
   "source": [
    "import os\n",
    "import sys\n",
    "\n",
    "os.chdir(\"C:/dataanalytics/python\")\n",
    "os.curdir\n",
    "\n",
    "#Configure the environment . Set this up to the directory where spark is installed\n",
    "if 'SPARK_HOME' not in os.environ:\n",
    "    os.environ['SPARK_HOME'] = 'C:\\\\spark'\n",
    "    \n",
    "#create a variable for our root path\n",
    "SPARK_HOME = os.environ['SPARK_HOME']\n",
    "\n",
    "#Add the following paths to the system path. Please check your installation\n",
    "#to make sure that these zip files actually exists. The names might change as\n",
    "#versions change\n",
    "sys.path.insert(0,os.path.join(SPARK_HOME,\"python\"))\n",
    "sys.path.insert(0,os.path.join(SPARK_HOME,\"python\",\"lib\"))\n",
    "sys.path.insert(0,os.path.join(SPARK_HOME,\"python\",\"lib\",\"py4j-0.10.4-src.zip\"))\n",
    "sys.path.insert(0,os.path.join(SPARK_HOME,\"python\",\"lib\",\"pyspark.zip\"))\n",
    " \n",
    "#Initialize a spark context\n",
    "from pyspark import SparkContext\n",
    "from pyspark import SparkConf\n",
    "\n",
    "#optionally configure spark\n",
    "conf = SparkConf()\n",
    "conf.setAppName(\"Jeffwiz\")\n",
    "\n",
    "#Initalize spark context onl runs once\n",
    "sc = SparkContext('local', conf=conf)\n",
    "\n"
   ]
  },
  {
   "cell_type": "code",
   "execution_count": 3,
   "metadata": {
    "collapsed": false,
    "scrolled": true
   },
   "outputs": [
    {
     "name": "stdout",
     "output_type": "stream",
     "text": [
      "[1, 4, 9, 16, 25]\n"
     ]
    }
   ],
   "source": [
    "nums = sc.parallelize([1,2,3,4,5])\n",
    "squared = nums.map(lambda x: x*x).collect()\n",
    "print(squared)"
   ]
  },
  {
   "cell_type": "code",
   "execution_count": 2,
   "metadata": {
    "collapsed": false,
    "scrolled": true
   },
   "outputs": [
    {
     "ename": "SyntaxError",
     "evalue": "(unicode error) 'unicodeescape' codec can't decode bytes in position 2-3: truncated \\UXXXXXXXX escape (<ipython-input-2-3911085aa8a3>, line 1)",
     "output_type": "error",
     "traceback": [
      "\u001b[0;36m  File \u001b[0;32m\"<ipython-input-2-3911085aa8a3>\"\u001b[0;36m, line \u001b[0;32m1\u001b[0m\n\u001b[0;31m    lines = sc.textfile(\"C:\\Users\\jeffnerd\\Desktop\\IRIS.csv\")\u001b[0m\n\u001b[0m                       ^\u001b[0m\n\u001b[0;31mSyntaxError\u001b[0m\u001b[0;31m:\u001b[0m (unicode error) 'unicodeescape' codec can't decode bytes in position 2-3: truncated \\UXXXXXXXX escape\n"
     ]
    }
   ],
   "source": [
    "lines = sc.textfile(\"C:\\Users\\jeffnerd\\Desktop\\IRIS.csv\")\n",
    "lines.count()\n"
   ]
  },
  {
   "cell_type": "code",
   "execution_count": 3,
   "metadata": {
    "collapsed": false
   },
   "outputs": [
    {
     "ename": "AttributeError",
     "evalue": "'SparkContext' object has no attribute 'textfile'",
     "output_type": "error",
     "traceback": [
      "\u001b[0;31m---------------------------------------------------------------------------\u001b[0m",
      "\u001b[0;31mAttributeError\u001b[0m                            Traceback (most recent call last)",
      "\u001b[0;32m<ipython-input-3-c85552d33829>\u001b[0m in \u001b[0;36m<module>\u001b[0;34m()\u001b[0m\n\u001b[0;32m----> 1\u001b[0;31m \u001b[0mlines\u001b[0m \u001b[1;33m=\u001b[0m \u001b[0msc\u001b[0m\u001b[1;33m.\u001b[0m\u001b[0mtextfile\u001b[0m\u001b[1;33m(\u001b[0m\u001b[1;34mr\"C:\\Users\\jeffnerd\\Desktop\\IRIS.csv\"\u001b[0m\u001b[1;33m)\u001b[0m\u001b[1;33m\u001b[0m\u001b[0m\n\u001b[0m",
      "\u001b[0;31mAttributeError\u001b[0m: 'SparkContext' object has no attribute 'textfile'"
     ]
    }
   ],
   "source": [
    "lines = sc.textfile(r\"C:\\Users\\jeffnerd\\Desktop\\IRIS.csv\")"
   ]
  },
  {
   "cell_type": "code",
   "execution_count": 5,
   "metadata": {
    "collapsed": false
   },
   "outputs": [
    {
     "name": "stdout",
     "output_type": "stream",
     "text": [
      "SepalWidth \t PetalLength \t SepalLength\n",
      "3.5 \t 1.4 \t 5.1\n",
      "3 \t 1.4 \t 4.9\n",
      "3.2 \t 1.3 \t 4.7\n",
      "3.1 \t 1.5 \t 4.6\n",
      "3.6 \t 1.4 \t 5\n",
      "3.9 \t 1.7 \t 5.4\n",
      "3.4 \t 1.4 \t 4.6\n",
      "3.4 \t 1.5 \t 5\n",
      "2.9 \t 1.4 \t 4.4\n",
      "3.1 \t 1.5 \t 4.9\n",
      "3.7 \t 1.5 \t 5.4\n",
      "3.4 \t 1.6 \t 4.8\n",
      "3 \t 1.4 \t 4.8\n",
      "3 \t 1.1 \t 4.3\n",
      "4 \t 1.2 \t 5.8\n",
      "4.4 \t 1.5 \t 5.7\n",
      "3.9 \t 1.3 \t 5.4\n",
      "3.5 \t 1.4 \t 5.1\n",
      "3.8 \t 1.7 \t 5.7\n",
      "3.8 \t 1.5 \t 5.1\n",
      "3.4 \t 1.7 \t 5.4\n",
      "3.7 \t 1.5 \t 5.1\n",
      "3.6 \t 1 \t 4.6\n",
      "3.3 \t 1.7 \t 5.1\n",
      "3.4 \t 1.9 \t 4.8\n",
      "3 \t 1.6 \t 5\n",
      "3.4 \t 1.6 \t 5\n",
      "3.5 \t 1.5 \t 5.2\n",
      "3.4 \t 1.4 \t 5.2\n",
      "3.2 \t 1.6 \t 4.7\n",
      "3.1 \t 1.6 \t 4.8\n",
      "3.4 \t 1.5 \t 5.4\n",
      "4.1 \t 1.5 \t 5.2\n",
      "4.2 \t 1.4 \t 5.5\n",
      "3.1 \t 1.5 \t 4.9\n",
      "3.2 \t 1.2 \t 5\n",
      "3.5 \t 1.3 \t 5.5\n",
      "3.1 \t 1.5 \t 4.9\n",
      "3 \t 1.3 \t 4.4\n",
      "3.4 \t 1.5 \t 5.1\n",
      "3.5 \t 1.3 \t 5\n",
      "2.3 \t 1.3 \t 4.5\n",
      "3.2 \t 1.3 \t 4.4\n",
      "3.5 \t 1.6 \t 5\n",
      "3.8 \t 1.9 \t 5.1\n",
      "3 \t 1.4 \t 4.8\n",
      "3.8 \t 1.6 \t 5.1\n",
      "3.2 \t 1.4 \t 4.6\n",
      "3.7 \t 1.5 \t 5.3\n",
      "3.3 \t 1.4 \t 5\n",
      "3.2 \t 4.7 \t 7\n",
      "3.2 \t 4.5 \t 6.4\n",
      "3.1 \t 4.9 \t 6.9\n",
      "2.3 \t 4 \t 5.5\n",
      "2.8 \t 4.6 \t 6.5\n",
      "2.8 \t 4.5 \t 5.7\n",
      "3.3 \t 4.7 \t 6.3\n",
      "2.4 \t 3.3 \t 4.9\n",
      "2.9 \t 4.6 \t 6.6\n",
      "2.7 \t 3.9 \t 5.2\n",
      "2 \t 3.5 \t 5\n",
      "3 \t 4.2 \t 5.9\n",
      "2.2 \t 4 \t 6\n",
      "2.9 \t 4.7 \t 6.1\n",
      "2.9 \t 3.6 \t 5.6\n",
      "3.1 \t 4.4 \t 6.7\n",
      "3 \t 4.5 \t 5.6\n",
      "2.7 \t 4.1 \t 5.8\n",
      "2.2 \t 4.5 \t 6.2\n",
      "2.5 \t 3.9 \t 5.6\n",
      "3.2 \t 4.8 \t 5.9\n",
      "2.8 \t 4 \t 6.1\n",
      "2.5 \t 4.9 \t 6.3\n",
      "2.8 \t 4.7 \t 6.1\n",
      "2.9 \t 4.3 \t 6.4\n",
      "3 \t 4.4 \t 6.6\n",
      "2.8 \t 4.8 \t 6.8\n",
      "3 \t 5 \t 6.7\n",
      "2.9 \t 4.5 \t 6\n",
      "2.6 \t 3.5 \t 5.7\n",
      "2.4 \t 3.8 \t 5.5\n",
      "2.4 \t 3.7 \t 5.5\n",
      "2.7 \t 3.9 \t 5.8\n",
      "2.7 \t 5.1 \t 6\n",
      "3 \t 4.5 \t 5.4\n",
      "3.4 \t 4.5 \t 6\n",
      "3.1 \t 4.7 \t 6.7\n",
      "2.3 \t 4.4 \t 6.3\n",
      "3 \t 4.1 \t 5.6\n",
      "2.5 \t 4 \t 5.5\n",
      "2.6 \t 4.4 \t 5.5\n",
      "3 \t 4.6 \t 6.1\n",
      "2.6 \t 4 \t 5.8\n",
      "2.3 \t 3.3 \t 5\n",
      "2.7 \t 4.2 \t 5.6\n",
      "3 \t 4.2 \t 5.7\n",
      "2.9 \t 4.2 \t 5.7\n",
      "2.9 \t 4.3 \t 6.2\n",
      "2.5 \t 3 \t 5.1\n",
      "2.8 \t 4.1 \t 5.7\n",
      "3.3 \t 6 \t 6.3\n",
      "2.7 \t 5.1 \t 5.8\n",
      "3 \t 5.9 \t 7.1\n",
      "2.9 \t 5.6 \t 6.3\n",
      "3 \t 5.8 \t 6.5\n",
      "3 \t 6.6 \t 7.6\n",
      "2.5 \t 4.5 \t 4.9\n",
      "2.9 \t 6.3 \t 7.3\n",
      "2.5 \t 5.8 \t 6.7\n",
      "3.6 \t 6.1 \t 7.2\n",
      "3.2 \t 5.1 \t 6.5\n",
      "2.7 \t 5.3 \t 6.4\n",
      "3 \t 5.5 \t 6.8\n",
      "2.5 \t 5 \t 5.7\n",
      "2.8 \t 5.1 \t 5.8\n",
      "3.2 \t 5.3 \t 6.4\n",
      "3 \t 5.5 \t 6.5\n",
      "3.8 \t 6.7 \t 7.7\n",
      "2.6 \t 6.9 \t 7.7\n",
      "2.2 \t 5 \t 6\n",
      "3.2 \t 5.7 \t 6.9\n",
      "2.8 \t 4.9 \t 5.6\n",
      "2.8 \t 6.7 \t 7.7\n",
      "2.7 \t 4.9 \t 6.3\n",
      "3.3 \t 5.7 \t 6.7\n",
      "3.2 \t 6 \t 7.2\n",
      "2.8 \t 4.8 \t 6.2\n",
      "3 \t 4.9 \t 6.1\n",
      "2.8 \t 5.6 \t 6.4\n",
      "3 \t 5.8 \t 7.2\n",
      "2.8 \t 6.1 \t 7.4\n",
      "3.8 \t 6.4 \t 7.9\n",
      "2.8 \t 5.6 \t 6.4\n",
      "2.8 \t 5.1 \t 6.3\n",
      "2.6 \t 5.6 \t 6.1\n",
      "3 \t 6.1 \t 7.7\n",
      "3.4 \t 5.6 \t 6.3\n",
      "3.1 \t 5.5 \t 6.4\n",
      "3 \t 4.8 \t 6\n",
      "3.1 \t 5.4 \t 6.9\n",
      "3.1 \t 5.6 \t 6.7\n",
      "3.1 \t 5.1 \t 6.9\n",
      "2.7 \t 5.1 \t 5.8\n",
      "3.2 \t 5.9 \t 6.8\n",
      "3.3 \t 5.7 \t 6.7\n",
      "3 \t 5.2 \t 6.7\n",
      "2.5 \t 5 \t 6.3\n",
      "3 \t 5.2 \t 6.5\n",
      "3.4 \t 5.4 \t 6.2\n",
      "3 \t 5.1 \t 5.9\n"
     ]
    }
   ],
   "source": [
    "iris = sc.textFile(r'C:\\Users\\jeffnerd\\Desktop\\IRIS.csv')\n",
    "rows = iris.map(lambda line:line.split(\",\"))\n",
    "for row in rows.take(rows.count()):print(row[1],'\\t',row[2],'\\t',row[0])"
   ]
  },
  {
   "cell_type": "code",
   "execution_count": 3,
   "metadata": {
    "collapsed": false
   },
   "outputs": [],
   "source": [
    "iris = sc.textFile(r'C:\\Users\\jeffnerd\\Desktop\\IRIS.csv')"
   ]
  },
  {
   "cell_type": "code",
   "execution_count": 3,
   "metadata": {
    "collapsed": false
   },
   "outputs": [
    {
     "name": "stdout",
     "output_type": "stream",
     "text": [
      "SepalLength \t SepalWidth \t PetalLength \t PetalWidth\n",
      "5.1 \t 3.5 \t 1.4 \t 0.2\n",
      "4.9 \t 3 \t 1.4 \t 0.2\n",
      "4.7 \t 3.2 \t 1.3 \t 0.2\n",
      "4.6 \t 3.1 \t 1.5 \t 0.2\n",
      "5 \t 3.6 \t 1.4 \t 0.2\n",
      "5.4 \t 3.9 \t 1.7 \t 0.4\n",
      "4.6 \t 3.4 \t 1.4 \t 0.3\n",
      "5 \t 3.4 \t 1.5 \t 0.2\n",
      "4.4 \t 2.9 \t 1.4 \t 0.2\n",
      "4.9 \t 3.1 \t 1.5 \t 0.1\n",
      "5.4 \t 3.7 \t 1.5 \t 0.2\n",
      "4.8 \t 3.4 \t 1.6 \t 0.2\n",
      "4.8 \t 3 \t 1.4 \t 0.1\n",
      "4.3 \t 3 \t 1.1 \t 0.1\n",
      "5.8 \t 4 \t 1.2 \t 0.2\n",
      "5.7 \t 4.4 \t 1.5 \t 0.4\n",
      "5.4 \t 3.9 \t 1.3 \t 0.4\n",
      "5.1 \t 3.5 \t 1.4 \t 0.3\n",
      "5.7 \t 3.8 \t 1.7 \t 0.3\n",
      "5.1 \t 3.8 \t 1.5 \t 0.3\n",
      "5.4 \t 3.4 \t 1.7 \t 0.2\n",
      "5.1 \t 3.7 \t 1.5 \t 0.4\n",
      "4.6 \t 3.6 \t 1 \t 0.2\n",
      "5.1 \t 3.3 \t 1.7 \t 0.5\n",
      "4.8 \t 3.4 \t 1.9 \t 0.2\n",
      "5 \t 3 \t 1.6 \t 0.2\n",
      "5 \t 3.4 \t 1.6 \t 0.4\n",
      "5.2 \t 3.5 \t 1.5 \t 0.2\n",
      "5.2 \t 3.4 \t 1.4 \t 0.2\n",
      "4.7 \t 3.2 \t 1.6 \t 0.2\n",
      "4.8 \t 3.1 \t 1.6 \t 0.2\n",
      "5.4 \t 3.4 \t 1.5 \t 0.4\n",
      "5.2 \t 4.1 \t 1.5 \t 0.1\n",
      "5.5 \t 4.2 \t 1.4 \t 0.2\n",
      "4.9 \t 3.1 \t 1.5 \t 0.1\n",
      "5 \t 3.2 \t 1.2 \t 0.2\n",
      "5.5 \t 3.5 \t 1.3 \t 0.2\n",
      "4.9 \t 3.1 \t 1.5 \t 0.1\n",
      "4.4 \t 3 \t 1.3 \t 0.2\n",
      "5.1 \t 3.4 \t 1.5 \t 0.2\n",
      "5 \t 3.5 \t 1.3 \t 0.3\n",
      "4.5 \t 2.3 \t 1.3 \t 0.3\n",
      "4.4 \t 3.2 \t 1.3 \t 0.2\n",
      "5 \t 3.5 \t 1.6 \t 0.6\n",
      "5.1 \t 3.8 \t 1.9 \t 0.4\n",
      "4.8 \t 3 \t 1.4 \t 0.3\n",
      "5.1 \t 3.8 \t 1.6 \t 0.2\n",
      "4.6 \t 3.2 \t 1.4 \t 0.2\n",
      "5.3 \t 3.7 \t 1.5 \t 0.2\n",
      "5 \t 3.3 \t 1.4 \t 0.2\n",
      "7 \t 3.2 \t 4.7 \t 1.4\n",
      "6.4 \t 3.2 \t 4.5 \t 1.5\n",
      "6.9 \t 3.1 \t 4.9 \t 1.5\n",
      "5.5 \t 2.3 \t 4 \t 1.3\n",
      "6.5 \t 2.8 \t 4.6 \t 1.5\n",
      "5.7 \t 2.8 \t 4.5 \t 1.3\n",
      "6.3 \t 3.3 \t 4.7 \t 1.6\n",
      "4.9 \t 2.4 \t 3.3 \t 1\n",
      "6.6 \t 2.9 \t 4.6 \t 1.3\n",
      "5.2 \t 2.7 \t 3.9 \t 1.4\n",
      "5 \t 2 \t 3.5 \t 1\n",
      "5.9 \t 3 \t 4.2 \t 1.5\n",
      "6 \t 2.2 \t 4 \t 1\n",
      "6.1 \t 2.9 \t 4.7 \t 1.4\n",
      "5.6 \t 2.9 \t 3.6 \t 1.3\n",
      "6.7 \t 3.1 \t 4.4 \t 1.4\n",
      "5.6 \t 3 \t 4.5 \t 1.5\n",
      "5.8 \t 2.7 \t 4.1 \t 1\n",
      "6.2 \t 2.2 \t 4.5 \t 1.5\n",
      "5.6 \t 2.5 \t 3.9 \t 1.1\n",
      "5.9 \t 3.2 \t 4.8 \t 1.8\n",
      "6.1 \t 2.8 \t 4 \t 1.3\n",
      "6.3 \t 2.5 \t 4.9 \t 1.5\n",
      "6.1 \t 2.8 \t 4.7 \t 1.2\n",
      "6.4 \t 2.9 \t 4.3 \t 1.3\n",
      "6.6 \t 3 \t 4.4 \t 1.4\n",
      "6.8 \t 2.8 \t 4.8 \t 1.4\n",
      "6.7 \t 3 \t 5 \t 1.7\n",
      "6 \t 2.9 \t 4.5 \t 1.5\n",
      "5.7 \t 2.6 \t 3.5 \t 1\n",
      "5.5 \t 2.4 \t 3.8 \t 1.1\n",
      "5.5 \t 2.4 \t 3.7 \t 1\n",
      "5.8 \t 2.7 \t 3.9 \t 1.2\n",
      "6 \t 2.7 \t 5.1 \t 1.6\n",
      "5.4 \t 3 \t 4.5 \t 1.5\n",
      "6 \t 3.4 \t 4.5 \t 1.6\n",
      "6.7 \t 3.1 \t 4.7 \t 1.5\n",
      "6.3 \t 2.3 \t 4.4 \t 1.3\n",
      "5.6 \t 3 \t 4.1 \t 1.3\n",
      "5.5 \t 2.5 \t 4 \t 1.3\n",
      "5.5 \t 2.6 \t 4.4 \t 1.2\n",
      "6.1 \t 3 \t 4.6 \t 1.4\n",
      "5.8 \t 2.6 \t 4 \t 1.2\n",
      "5 \t 2.3 \t 3.3 \t 1\n",
      "5.6 \t 2.7 \t 4.2 \t 1.3\n",
      "5.7 \t 3 \t 4.2 \t 1.2\n",
      "5.7 \t 2.9 \t 4.2 \t 1.3\n",
      "6.2 \t 2.9 \t 4.3 \t 1.3\n",
      "5.1 \t 2.5 \t 3 \t 1.1\n",
      "5.7 \t 2.8 \t 4.1 \t 1.3\n",
      "6.3 \t 3.3 \t 6 \t 2.5\n",
      "5.8 \t 2.7 \t 5.1 \t 1.9\n",
      "7.1 \t 3 \t 5.9 \t 2.1\n",
      "6.3 \t 2.9 \t 5.6 \t 1.8\n",
      "6.5 \t 3 \t 5.8 \t 2.2\n",
      "7.6 \t 3 \t 6.6 \t 2.1\n",
      "4.9 \t 2.5 \t 4.5 \t 1.7\n",
      "7.3 \t 2.9 \t 6.3 \t 1.8\n",
      "6.7 \t 2.5 \t 5.8 \t 1.8\n",
      "7.2 \t 3.6 \t 6.1 \t 2.5\n",
      "6.5 \t 3.2 \t 5.1 \t 2\n",
      "6.4 \t 2.7 \t 5.3 \t 1.9\n",
      "6.8 \t 3 \t 5.5 \t 2.1\n",
      "5.7 \t 2.5 \t 5 \t 2\n",
      "5.8 \t 2.8 \t 5.1 \t 2.4\n",
      "6.4 \t 3.2 \t 5.3 \t 2.3\n",
      "6.5 \t 3 \t 5.5 \t 1.8\n",
      "7.7 \t 3.8 \t 6.7 \t 2.2\n",
      "7.7 \t 2.6 \t 6.9 \t 2.3\n",
      "6 \t 2.2 \t 5 \t 1.5\n",
      "6.9 \t 3.2 \t 5.7 \t 2.3\n",
      "5.6 \t 2.8 \t 4.9 \t 2\n",
      "7.7 \t 2.8 \t 6.7 \t 2\n",
      "6.3 \t 2.7 \t 4.9 \t 1.8\n",
      "6.7 \t 3.3 \t 5.7 \t 2.1\n",
      "7.2 \t 3.2 \t 6 \t 1.8\n",
      "6.2 \t 2.8 \t 4.8 \t 1.8\n",
      "6.1 \t 3 \t 4.9 \t 1.8\n",
      "6.4 \t 2.8 \t 5.6 \t 2.1\n",
      "7.2 \t 3 \t 5.8 \t 1.6\n",
      "7.4 \t 2.8 \t 6.1 \t 1.9\n",
      "7.9 \t 3.8 \t 6.4 \t 2\n",
      "6.4 \t 2.8 \t 5.6 \t 2.2\n",
      "6.3 \t 2.8 \t 5.1 \t 1.5\n",
      "6.1 \t 2.6 \t 5.6 \t 1.4\n",
      "7.7 \t 3 \t 6.1 \t 2.3\n",
      "6.3 \t 3.4 \t 5.6 \t 2.4\n",
      "6.4 \t 3.1 \t 5.5 \t 1.8\n",
      "6 \t 3 \t 4.8 \t 1.8\n",
      "6.9 \t 3.1 \t 5.4 \t 2.1\n",
      "6.7 \t 3.1 \t 5.6 \t 2.4\n",
      "6.9 \t 3.1 \t 5.1 \t 2.3\n",
      "5.8 \t 2.7 \t 5.1 \t 1.9\n",
      "6.8 \t 3.2 \t 5.9 \t 2.3\n",
      "6.7 \t 3.3 \t 5.7 \t 2.5\n",
      "6.7 \t 3 \t 5.2 \t 2.3\n",
      "6.3 \t 2.5 \t 5 \t 1.9\n",
      "6.5 \t 3 \t 5.2 \t 2\n",
      "6.2 \t 3.4 \t 5.4 \t 2.3\n",
      "5.9 \t 3 \t 5.1 \t 1.8\n"
     ]
    }
   ],
   "source": [
    "rows = iris.map(lambda line:line.split(\",\"))\n",
    "for row in rows.take(rows.count()):print(row[0], '\\t', row[1], '\\t', row[2], '\\t', row[3])"
   ]
  },
  {
   "cell_type": "code",
   "execution_count": 4,
   "metadata": {
    "collapsed": false
   },
   "outputs": [
    {
     "data": {
      "text/plain": [
       "151"
      ]
     },
     "execution_count": 4,
     "metadata": {},
     "output_type": "execute_result"
    }
   ],
   "source": [
    "rows.count()"
   ]
  },
  {
   "cell_type": "code",
   "execution_count": 5,
   "metadata": {
    "collapsed": true
   },
   "outputs": [],
   "source": [
    "one = sc.parallelize(range(0,15))\n",
    "two = sc.parallelize(range(1,25))"
   ]
  },
  {
   "cell_type": "code",
   "execution_count": 6,
   "metadata": {
    "collapsed": false
   },
   "outputs": [
    {
     "data": {
      "text/plain": [
       "15"
      ]
     },
     "execution_count": 6,
     "metadata": {},
     "output_type": "execute_result"
    }
   ],
   "source": [
    "one.count()\n"
   ]
  },
  {
   "cell_type": "code",
   "execution_count": 9,
   "metadata": {
    "collapsed": false
   },
   "outputs": [
    {
     "data": {
      "text/plain": [
       "[0, 1, 2]"
      ]
     },
     "execution_count": 9,
     "metadata": {},
     "output_type": "execute_result"
    }
   ],
   "source": [
    "one.takeOrdered(3)"
   ]
  },
  {
   "cell_type": "code",
   "execution_count": 10,
   "metadata": {
    "collapsed": false
   },
   "outputs": [
    {
     "data": {
      "text/plain": [
       "[0, 1, 2]"
      ]
     },
     "execution_count": 10,
     "metadata": {},
     "output_type": "execute_result"
    }
   ],
   "source": [
    "one.take(3)"
   ]
  },
  {
   "cell_type": "code",
   "execution_count": 11,
   "metadata": {
    "collapsed": false
   },
   "outputs": [
    {
     "data": {
      "text/plain": [
       "[14, 13, 12, 11, 10]"
      ]
     },
     "execution_count": 11,
     "metadata": {},
     "output_type": "execute_result"
    }
   ],
   "source": [
    "one.top(5)"
   ]
  },
  {
   "cell_type": "code",
   "execution_count": 13,
   "metadata": {
    "collapsed": false
   },
   "outputs": [
    {
     "data": {
      "text/plain": [
       "[0]"
      ]
     },
     "execution_count": 13,
     "metadata": {},
     "output_type": "execute_result"
    }
   ],
   "source": [
    "one.takeSample(3,1)"
   ]
  },
  {
   "cell_type": "code",
   "execution_count": 14,
   "metadata": {
    "collapsed": false
   },
   "outputs": [
    {
     "data": {
      "text/plain": [
       "[0, 1, 2, 3, 4, 5, 6, 7, 8, 9, 10, 11, 12, 13, 14]"
      ]
     },
     "execution_count": 14,
     "metadata": {},
     "output_type": "execute_result"
    }
   ],
   "source": [
    "one.collect()"
   ]
  },
  {
   "cell_type": "code",
   "execution_count": 16,
   "metadata": {
    "collapsed": false
   },
   "outputs": [
    {
     "data": {
      "text/plain": [
       "[13, 3]"
      ]
     },
     "execution_count": 16,
     "metadata": {},
     "output_type": "execute_result"
    }
   ],
   "source": [
    "one.takeSample(5,2)"
   ]
  },
  {
   "cell_type": "code",
   "execution_count": 17,
   "metadata": {
    "collapsed": false
   },
   "outputs": [
    {
     "data": {
      "text/plain": [
       "[7, 14, 5]"
      ]
     },
     "execution_count": 17,
     "metadata": {},
     "output_type": "execute_result"
    }
   ],
   "source": [
    "one.takeSample(5,3)"
   ]
  },
  {
   "cell_type": "code",
   "execution_count": 20,
   "metadata": {
    "collapsed": false
   },
   "outputs": [
    {
     "data": {
      "text/plain": [
       "[0, 1, 2, 3, 4, 5, 6, 7, 8, 9]"
      ]
     },
     "execution_count": 20,
     "metadata": {},
     "output_type": "execute_result"
    }
   ],
   "source": [
    "one.take(10)"
   ]
  },
  {
   "cell_type": "code",
   "execution_count": 21,
   "metadata": {
    "collapsed": false
   },
   "outputs": [
    {
     "data": {
      "text/plain": [
       "[1,\n",
       " 2,\n",
       " 3,\n",
       " 4,\n",
       " 5,\n",
       " 6,\n",
       " 7,\n",
       " 8,\n",
       " 9,\n",
       " 10,\n",
       " 11,\n",
       " 12,\n",
       " 13,\n",
       " 14,\n",
       " 15,\n",
       " 16,\n",
       " 17,\n",
       " 18,\n",
       " 19,\n",
       " 20,\n",
       " 21,\n",
       " 22,\n",
       " 23,\n",
       " 24]"
      ]
     },
     "execution_count": 21,
     "metadata": {},
     "output_type": "execute_result"
    }
   ],
   "source": [
    "two.collect()\n"
   ]
  },
  {
   "cell_type": "code",
   "execution_count": 22,
   "metadata": {
    "collapsed": false
   },
   "outputs": [
    {
     "data": {
      "text/plain": [
       "org.apache.spark.api.java.JavaPairRDD@10c2785c"
      ]
     },
     "execution_count": 22,
     "metadata": {},
     "output_type": "execute_result"
    }
   ],
   "source": [
    "one.cartesian(two)"
   ]
  },
  {
   "cell_type": "code",
   "execution_count": 2,
   "metadata": {
    "collapsed": true
   },
   "outputs": [],
   "source": [
    "iris = sc.textFile(r'C:\\Users\\jeffnerd\\Desktop\\IRIS.csv')\n",
    "rows = iris.map(lambda line:line.split(\",\"))"
   ]
  },
  {
   "cell_type": "code",
   "execution_count": 3,
   "metadata": {
    "collapsed": false
   },
   "outputs": [
    {
     "data": {
      "text/plain": [
       "151"
      ]
     },
     "execution_count": 3,
     "metadata": {},
     "output_type": "execute_result"
    }
   ],
   "source": [
    "rows.count()"
   ]
  },
  {
   "cell_type": "code",
   "execution_count": 5,
   "metadata": {
    "collapsed": false
   },
   "outputs": [
    {
     "data": {
      "text/plain": [
       "['C:\\\\spark\\\\python\\\\lib\\\\pyspark.zip',\n",
       " 'C:\\\\Users\\\\jeffnerd\\\\AppData\\\\Local\\\\Temp\\\\spark-519870ab-1632-420e-8eec-fd046ea42ee2\\\\userFiles-339cc1db-bd2b-4998-b1f7-6a2f95852bcc',\n",
       " 'C:\\\\spark\\\\python\\\\lib\\\\py4j-0.10.4-src.zip',\n",
       " 'C:\\\\spark\\\\python\\\\lib',\n",
       " 'C:\\\\spark\\\\python',\n",
       " 'C:\\\\spark\\\\python\\\\lib\\\\pyspark.zip',\n",
       " 'C:\\\\spark\\\\python\\\\lib\\\\py4j-0.10.1-src.zip',\n",
       " 'C:\\\\spark\\\\python\\\\lib',\n",
       " 'C:\\\\spark\\\\python',\n",
       " 'C:\\\\spark\\\\python\\\\lib\\\\pyspark.zip',\n",
       " 'C:\\\\spark\\\\python\\\\lib\\\\py4j-0.10.1-src.zip',\n",
       " 'C:\\\\spark\\\\python\\\\lib',\n",
       " 'C:\\\\spark\\\\python',\n",
       " '',\n",
       " 'C:\\\\Users\\\\jeffnerd\\\\Anaconda3\\\\python35.zip',\n",
       " 'C:\\\\Users\\\\jeffnerd\\\\Anaconda3\\\\DLLs',\n",
       " 'C:\\\\Users\\\\jeffnerd\\\\Anaconda3\\\\lib',\n",
       " 'C:\\\\Users\\\\jeffnerd\\\\Anaconda3',\n",
       " 'C:\\\\Users\\\\jeffnerd\\\\Anaconda3\\\\lib\\\\site-packages',\n",
       " 'C:\\\\Users\\\\jeffnerd\\\\Anaconda3\\\\lib\\\\site-packages\\\\Sphinx-1.4.6-py3.5.egg',\n",
       " 'C:\\\\Users\\\\jeffnerd\\\\Anaconda3\\\\lib\\\\site-packages\\\\win32',\n",
       " 'C:\\\\Users\\\\jeffnerd\\\\Anaconda3\\\\lib\\\\site-packages\\\\win32\\\\lib',\n",
       " 'C:\\\\Users\\\\jeffnerd\\\\Anaconda3\\\\lib\\\\site-packages\\\\Pythonwin',\n",
       " 'C:\\\\Users\\\\jeffnerd\\\\Anaconda3\\\\lib\\\\site-packages\\\\setuptools-27.2.0-py3.5.egg',\n",
       " 'C:\\\\Users\\\\jeffnerd\\\\Anaconda3\\\\lib\\\\site-packages\\\\IPython\\\\extensions',\n",
       " 'C:\\\\Users\\\\jeffnerd\\\\.ipython']"
      ]
     },
     "execution_count": 5,
     "metadata": {},
     "output_type": "execute_result"
    }
   ],
   "source": [
    "list(sys.path)"
   ]
  },
  {
   "cell_type": "code",
   "execution_count": 4,
   "metadata": {
    "collapsed": false
   },
   "outputs": [
    {
     "name": "stdout",
     "output_type": "stream",
     "text": [
      "SepalWidth \t PetalLength \t SepalLength \t PetalWidth\n",
      "3.5 \t 1.4 \t 5.1 \t 0.2\n",
      "3 \t 1.4 \t 4.9 \t 0.2\n",
      "3.2 \t 1.3 \t 4.7 \t 0.2\n",
      "3.1 \t 1.5 \t 4.6 \t 0.2\n",
      "3.6 \t 1.4 \t 5 \t 0.2\n",
      "3.9 \t 1.7 \t 5.4 \t 0.4\n",
      "3.4 \t 1.4 \t 4.6 \t 0.3\n",
      "3.4 \t 1.5 \t 5 \t 0.2\n",
      "2.9 \t 1.4 \t 4.4 \t 0.2\n",
      "3.1 \t 1.5 \t 4.9 \t 0.1\n",
      "3.7 \t 1.5 \t 5.4 \t 0.2\n",
      "3.4 \t 1.6 \t 4.8 \t 0.2\n",
      "3 \t 1.4 \t 4.8 \t 0.1\n",
      "3 \t 1.1 \t 4.3 \t 0.1\n",
      "4 \t 1.2 \t 5.8 \t 0.2\n",
      "4.4 \t 1.5 \t 5.7 \t 0.4\n",
      "3.9 \t 1.3 \t 5.4 \t 0.4\n",
      "3.5 \t 1.4 \t 5.1 \t 0.3\n",
      "3.8 \t 1.7 \t 5.7 \t 0.3\n",
      "3.8 \t 1.5 \t 5.1 \t 0.3\n",
      "3.4 \t 1.7 \t 5.4 \t 0.2\n",
      "3.7 \t 1.5 \t 5.1 \t 0.4\n",
      "3.6 \t 1 \t 4.6 \t 0.2\n",
      "3.3 \t 1.7 \t 5.1 \t 0.5\n",
      "3.4 \t 1.9 \t 4.8 \t 0.2\n",
      "3 \t 1.6 \t 5 \t 0.2\n",
      "3.4 \t 1.6 \t 5 \t 0.4\n",
      "3.5 \t 1.5 \t 5.2 \t 0.2\n",
      "3.4 \t 1.4 \t 5.2 \t 0.2\n",
      "3.2 \t 1.6 \t 4.7 \t 0.2\n",
      "3.1 \t 1.6 \t 4.8 \t 0.2\n",
      "3.4 \t 1.5 \t 5.4 \t 0.4\n",
      "4.1 \t 1.5 \t 5.2 \t 0.1\n",
      "4.2 \t 1.4 \t 5.5 \t 0.2\n",
      "3.1 \t 1.5 \t 4.9 \t 0.1\n",
      "3.2 \t 1.2 \t 5 \t 0.2\n",
      "3.5 \t 1.3 \t 5.5 \t 0.2\n",
      "3.1 \t 1.5 \t 4.9 \t 0.1\n",
      "3 \t 1.3 \t 4.4 \t 0.2\n",
      "3.4 \t 1.5 \t 5.1 \t 0.2\n",
      "3.5 \t 1.3 \t 5 \t 0.3\n",
      "2.3 \t 1.3 \t 4.5 \t 0.3\n",
      "3.2 \t 1.3 \t 4.4 \t 0.2\n",
      "3.5 \t 1.6 \t 5 \t 0.6\n",
      "3.8 \t 1.9 \t 5.1 \t 0.4\n",
      "3 \t 1.4 \t 4.8 \t 0.3\n",
      "3.8 \t 1.6 \t 5.1 \t 0.2\n",
      "3.2 \t 1.4 \t 4.6 \t 0.2\n",
      "3.7 \t 1.5 \t 5.3 \t 0.2\n",
      "3.3 \t 1.4 \t 5 \t 0.2\n",
      "3.2 \t 4.7 \t 7 \t 1.4\n",
      "3.2 \t 4.5 \t 6.4 \t 1.5\n",
      "3.1 \t 4.9 \t 6.9 \t 1.5\n",
      "2.3 \t 4 \t 5.5 \t 1.3\n",
      "2.8 \t 4.6 \t 6.5 \t 1.5\n",
      "2.8 \t 4.5 \t 5.7 \t 1.3\n",
      "3.3 \t 4.7 \t 6.3 \t 1.6\n",
      "2.4 \t 3.3 \t 4.9 \t 1\n",
      "2.9 \t 4.6 \t 6.6 \t 1.3\n",
      "2.7 \t 3.9 \t 5.2 \t 1.4\n",
      "2 \t 3.5 \t 5 \t 1\n",
      "3 \t 4.2 \t 5.9 \t 1.5\n",
      "2.2 \t 4 \t 6 \t 1\n",
      "2.9 \t 4.7 \t 6.1 \t 1.4\n",
      "2.9 \t 3.6 \t 5.6 \t 1.3\n",
      "3.1 \t 4.4 \t 6.7 \t 1.4\n",
      "3 \t 4.5 \t 5.6 \t 1.5\n",
      "2.7 \t 4.1 \t 5.8 \t 1\n",
      "2.2 \t 4.5 \t 6.2 \t 1.5\n",
      "2.5 \t 3.9 \t 5.6 \t 1.1\n",
      "3.2 \t 4.8 \t 5.9 \t 1.8\n",
      "2.8 \t 4 \t 6.1 \t 1.3\n",
      "2.5 \t 4.9 \t 6.3 \t 1.5\n",
      "2.8 \t 4.7 \t 6.1 \t 1.2\n",
      "2.9 \t 4.3 \t 6.4 \t 1.3\n",
      "3 \t 4.4 \t 6.6 \t 1.4\n",
      "2.8 \t 4.8 \t 6.8 \t 1.4\n",
      "3 \t 5 \t 6.7 \t 1.7\n",
      "2.9 \t 4.5 \t 6 \t 1.5\n",
      "2.6 \t 3.5 \t 5.7 \t 1\n",
      "2.4 \t 3.8 \t 5.5 \t 1.1\n",
      "2.4 \t 3.7 \t 5.5 \t 1\n",
      "2.7 \t 3.9 \t 5.8 \t 1.2\n",
      "2.7 \t 5.1 \t 6 \t 1.6\n",
      "3 \t 4.5 \t 5.4 \t 1.5\n",
      "3.4 \t 4.5 \t 6 \t 1.6\n",
      "3.1 \t 4.7 \t 6.7 \t 1.5\n",
      "2.3 \t 4.4 \t 6.3 \t 1.3\n",
      "3 \t 4.1 \t 5.6 \t 1.3\n",
      "2.5 \t 4 \t 5.5 \t 1.3\n",
      "2.6 \t 4.4 \t 5.5 \t 1.2\n",
      "3 \t 4.6 \t 6.1 \t 1.4\n",
      "2.6 \t 4 \t 5.8 \t 1.2\n",
      "2.3 \t 3.3 \t 5 \t 1\n",
      "2.7 \t 4.2 \t 5.6 \t 1.3\n",
      "3 \t 4.2 \t 5.7 \t 1.2\n",
      "2.9 \t 4.2 \t 5.7 \t 1.3\n",
      "2.9 \t 4.3 \t 6.2 \t 1.3\n",
      "2.5 \t 3 \t 5.1 \t 1.1\n",
      "2.8 \t 4.1 \t 5.7 \t 1.3\n",
      "3.3 \t 6 \t 6.3 \t 2.5\n",
      "2.7 \t 5.1 \t 5.8 \t 1.9\n",
      "3 \t 5.9 \t 7.1 \t 2.1\n",
      "2.9 \t 5.6 \t 6.3 \t 1.8\n",
      "3 \t 5.8 \t 6.5 \t 2.2\n",
      "3 \t 6.6 \t 7.6 \t 2.1\n",
      "2.5 \t 4.5 \t 4.9 \t 1.7\n",
      "2.9 \t 6.3 \t 7.3 \t 1.8\n",
      "2.5 \t 5.8 \t 6.7 \t 1.8\n",
      "3.6 \t 6.1 \t 7.2 \t 2.5\n",
      "3.2 \t 5.1 \t 6.5 \t 2\n",
      "2.7 \t 5.3 \t 6.4 \t 1.9\n",
      "3 \t 5.5 \t 6.8 \t 2.1\n",
      "2.5 \t 5 \t 5.7 \t 2\n",
      "2.8 \t 5.1 \t 5.8 \t 2.4\n",
      "3.2 \t 5.3 \t 6.4 \t 2.3\n",
      "3 \t 5.5 \t 6.5 \t 1.8\n",
      "3.8 \t 6.7 \t 7.7 \t 2.2\n",
      "2.6 \t 6.9 \t 7.7 \t 2.3\n",
      "2.2 \t 5 \t 6 \t 1.5\n",
      "3.2 \t 5.7 \t 6.9 \t 2.3\n",
      "2.8 \t 4.9 \t 5.6 \t 2\n",
      "2.8 \t 6.7 \t 7.7 \t 2\n",
      "2.7 \t 4.9 \t 6.3 \t 1.8\n",
      "3.3 \t 5.7 \t 6.7 \t 2.1\n",
      "3.2 \t 6 \t 7.2 \t 1.8\n",
      "2.8 \t 4.8 \t 6.2 \t 1.8\n",
      "3 \t 4.9 \t 6.1 \t 1.8\n",
      "2.8 \t 5.6 \t 6.4 \t 2.1\n",
      "3 \t 5.8 \t 7.2 \t 1.6\n",
      "2.8 \t 6.1 \t 7.4 \t 1.9\n",
      "3.8 \t 6.4 \t 7.9 \t 2\n",
      "2.8 \t 5.6 \t 6.4 \t 2.2\n",
      "2.8 \t 5.1 \t 6.3 \t 1.5\n",
      "2.6 \t 5.6 \t 6.1 \t 1.4\n",
      "3 \t 6.1 \t 7.7 \t 2.3\n",
      "3.4 \t 5.6 \t 6.3 \t 2.4\n",
      "3.1 \t 5.5 \t 6.4 \t 1.8\n",
      "3 \t 4.8 \t 6 \t 1.8\n",
      "3.1 \t 5.4 \t 6.9 \t 2.1\n",
      "3.1 \t 5.6 \t 6.7 \t 2.4\n",
      "3.1 \t 5.1 \t 6.9 \t 2.3\n",
      "2.7 \t 5.1 \t 5.8 \t 1.9\n",
      "3.2 \t 5.9 \t 6.8 \t 2.3\n",
      "3.3 \t 5.7 \t 6.7 \t 2.5\n",
      "3 \t 5.2 \t 6.7 \t 2.3\n",
      "2.5 \t 5 \t 6.3 \t 1.9\n",
      "3 \t 5.2 \t 6.5 \t 2\n",
      "3.4 \t 5.4 \t 6.2 \t 2.3\n",
      "3 \t 5.1 \t 5.9 \t 1.8\n"
     ]
    }
   ],
   "source": [
    "iris = sc.textFile(r'C:\\Users\\jeffnerd\\Desktop\\IRIS.csv')\n",
    "rows = iris.map(lambda line:line.split(\",\"))\n",
    "for row in rows.take(rows.count()):print(row[1],'\\t',row[2],'\\t',row[0],'\\t',row[3])"
   ]
  },
  {
   "cell_type": "code",
   "execution_count": 5,
   "metadata": {
    "collapsed": false
   },
   "outputs": [],
   "source": [
    "panda = sc.parallelize({(\"panda\",1),(\"pink\",3),(\"pirate\",3),(\"panda\",1),(\"pink\",4)})"
   ]
  },
  {
   "cell_type": "code",
   "execution_count": 5,
   "metadata": {
    "collapsed": false
   },
   "outputs": [
    {
     "data": {
      "text/plain": [
       "['panda', 'pirate', 'pink', 'pink']"
      ]
     },
     "execution_count": 5,
     "metadata": {},
     "output_type": "execute_result"
    }
   ],
   "source": [
    "panda.keys().collect()"
   ]
  },
  {
   "cell_type": "code",
   "execution_count": 6,
   "metadata": {
    "collapsed": false
   },
   "outputs": [
    {
     "data": {
      "text/plain": [
       "[('panda', (1, 1)), ('pink', (7, 2)), ('pirate', (3, 1))]"
      ]
     },
     "execution_count": 6,
     "metadata": {},
     "output_type": "execute_result"
    }
   ],
   "source": [
    "panda.mapValues(lambda x:(x,1)).reduceByKey(lambda x,y:(x[0]+y[0],x[1]+y[1])).collect()"
   ]
  },
  {
   "cell_type": "code",
   "execution_count": 1,
   "metadata": {
    "collapsed": true
   },
   "outputs": [],
   "source": [
    "import os, sys"
   ]
  },
  {
   "cell_type": "code",
   "execution_count": 2,
   "metadata": {
    "collapsed": false
   },
   "outputs": [
    {
     "data": {
      "text/plain": [
       "environ({'JPY_PARENT_PID': '1472', 'MOZ_PLUGIN_PATH': 'C:\\\\Program Files (x86)\\\\Foxit Software\\\\Foxit Reader\\\\plugins\\\\', 'HOMEDRIVE': 'C:', 'PROCESSOR_IDENTIFIER': 'Intel64 Family 6 Model 42 Stepping 7, GenuineIntel', 'USERPROFILE': 'C:\\\\Users\\\\jeffnerd', 'PROGRAMDATA': 'C:\\\\ProgramData', 'FP_NO_HOST_CHECK': 'NO', 'CONDA_PREFIX': 'C:\\\\Users\\\\jeffnerd\\\\Anaconda3', 'COMSPEC': 'C:\\\\WINDOWS\\\\system32\\\\cmd.exe', 'CLICOLOR': '1', 'ALLUSERSPROFILE': 'C:\\\\ProgramData', 'IPY_INTERRUPT_EVENT': '1476', 'COMMONPROGRAMW6432': 'C:\\\\Program Files\\\\Common Files', 'COMMONPROGRAMFILES(X86)': 'C:\\\\Program Files (x86)\\\\Common Files', 'PROGRAMW6432': 'C:\\\\Program Files', 'HOMEPATH': '\\\\Users\\\\jeffnerd', 'WINDIR': 'C:\\\\WINDOWS', 'LOCALAPPDATA': 'C:\\\\Users\\\\jeffnerd\\\\AppData\\\\Local', 'PROCESSOR_ARCHITECTURE': 'AMD64', 'APPDATA': 'C:\\\\Users\\\\jeffnerd\\\\AppData\\\\Roaming', 'LOGONSERVER': '\\\\\\\\JEFF', 'USERDOMAIN': 'jeff', 'USERDOMAIN_ROAMINGPROFILE': 'jeff', 'SYSTEMDRIVE': 'C:', 'SYSTEMROOT': 'C:\\\\WINDOWS', 'COMMONPROGRAMFILES': 'C:\\\\Program Files\\\\Common Files', 'SESSIONNAME': 'Console', 'HADOOP_HOME': 'C:\\\\winutils', 'SPARK_HOME': 'C:\\\\spark', 'TERM': 'xterm-color', 'PROCESSOR_LEVEL': '6', 'PATHEXT': '.COM;.EXE;.BAT;.CMD;.VBS;.VBE;.JS;.JSE;.WSF;.WSH;.MSC', 'PSMODULEPATH': 'C:\\\\WINDOWS\\\\system32\\\\WindowsPowerShell\\\\v1.0\\\\Modules\\\\', 'MPLBACKEND': 'module://ipykernel.pylab.backend_inline', 'OS': 'Windows_NT', 'USERNAME': 'jeffnerd', 'COMPUTERNAME': 'JEFF', 'PATH': 'C:\\\\Users\\\\jeffnerd\\\\Anaconda3\\\\Library\\\\bin;C:\\\\Users\\\\jeffnerd\\\\Anaconda3\\\\Library\\\\bin;C:\\\\Users\\\\jeffnerd\\\\Anaconda3;C:\\\\Users\\\\jeffnerd\\\\Anaconda3\\\\Library\\\\mingw-w64\\\\bin;C:\\\\Users\\\\jeffnerd\\\\Anaconda3\\\\Library\\\\usr\\\\bin;C:\\\\Users\\\\jeffnerd\\\\Anaconda3\\\\Library\\\\bin;C:\\\\Users\\\\jeffnerd\\\\Anaconda3\\\\Scripts;C:\\\\Users\\\\jeffnerd\\\\Anaconda3\\\\Library\\\\bin;C:\\\\ProgramData\\\\Oracle\\\\Java\\\\javapath;C:\\\\WINDOWS\\\\system32;C:\\\\WINDOWS;C:\\\\WINDOWS\\\\System32\\\\Wbem;C:\\\\WINDOWS\\\\System32\\\\WindowsPowerShell\\\\v1.0\\\\;C:\\\\Users\\\\jeffnerd\\\\Anaconda3;C:\\\\Users\\\\jeffnerd\\\\Anaconda3\\\\Scripts;C:\\\\Users\\\\jeffnerd\\\\Anaconda3\\\\Library\\\\bin;C:\\\\Users\\\\jeffnerd\\\\AppData\\\\Local\\\\Programs\\\\Python\\\\Python35-32\\\\Scripts\\\\;C:\\\\Users\\\\jeffnerd\\\\AppData\\\\Local\\\\Programs\\\\Python\\\\Python35-32\\\\C:\\\\spark\\\\bin', 'PUBLIC': 'C:\\\\Users\\\\Public', 'GIT_PAGER': 'cat', 'NUMBER_OF_PROCESSORS': '4', 'TEMP': 'C:\\\\Users\\\\jeffnerd\\\\AppData\\\\Local\\\\Temp', 'PROCESSOR_REVISION': '2a07', 'PAGER': 'cat', 'PROGRAMFILES': 'C:\\\\Program Files', 'PROGRAMFILES(X86)': 'C:\\\\Program Files (x86)', 'JPY_INTERRUPT_EVENT': '1476', 'TMP': 'C:\\\\Users\\\\jeffnerd\\\\AppData\\\\Local\\\\Temp'})"
      ]
     },
     "execution_count": 2,
     "metadata": {},
     "output_type": "execute_result"
    }
   ],
   "source": [
    "os.environ"
   ]
  },
  {
   "cell_type": "code",
   "execution_count": 12,
   "metadata": {
    "collapsed": true
   },
   "outputs": [],
   "source": [
    "data = [(\"a\", 3), (\"b\", 4), (\"a\", 1)]"
   ]
  },
  {
   "cell_type": "code",
   "execution_count": 13,
   "metadata": {
    "collapsed": false
   },
   "outputs": [
    {
     "data": {
      "text/plain": [
       "[('a', 3), ('b', 4), ('a', 1)]"
      ]
     },
     "execution_count": 13,
     "metadata": {},
     "output_type": "execute_result"
    }
   ],
   "source": [
    "data"
   ]
  },
  {
   "cell_type": "code",
   "execution_count": 15,
   "metadata": {
    "collapsed": false
   },
   "outputs": [
    {
     "data": {
      "text/plain": [
       "[('a', 4), ('b', 4)]"
      ]
     },
     "execution_count": 15,
     "metadata": {},
     "output_type": "execute_result"
    }
   ],
   "source": [
    "sc.parallelize(data).reduceByKey(lambda x,y : x + y).collect()"
   ]
  },
  {
   "cell_type": "code",
   "execution_count": null,
   "metadata": {
    "collapsed": true
   },
   "outputs": [],
   "source": [
    "rows = iris.map(lambda line:line.split(\",\"))\n",
    "irisdatatrain = rows.map(lambda iris:labeledpoint(iris[4],iris[:3]))\n",
    "#spliiting the data\n",
    "iristrain, iristest = randomsplit(0.75,0.25)\n",
    "model = logisticregressionithlbfgs.train(iristrain)\n",
    "model.predict(iristest)"
   ]
  },
  {
   "cell_type": "code",
   "execution_count": 4,
   "metadata": {
    "collapsed": false
   },
   "outputs": [
    {
     "name": "stdout",
     "output_type": "stream",
     "text": [
      "['SepalLength', 'SepalWidth', 'PetalLength', 'PetalWidth', 'Name']\n",
      "['5.1', '3.5', '1.4', '0.2', 'Iris-setosa']\n",
      "['4.9', '3', '1.4', '0.2', 'Iris-setosa']\n",
      "['4.7', '3.2', '1.3', '0.2', 'Iris-setosa']\n",
      "['4.6', '3.1', '1.5', '0.2', 'Iris-setosa']\n",
      "['5', '3.6', '1.4', '0.2', 'Iris-setosa']\n",
      "['5.4', '3.9', '1.7', '0.4', 'Iris-setosa']\n",
      "['4.6', '3.4', '1.4', '0.3', 'Iris-setosa']\n",
      "['5', '3.4', '1.5', '0.2', 'Iris-setosa']\n",
      "['4.4', '2.9', '1.4', '0.2', 'Iris-setosa']\n",
      "['4.9', '3.1', '1.5', '0.1', 'Iris-setosa']\n",
      "['5.4', '3.7', '1.5', '0.2', 'Iris-setosa']\n",
      "['4.8', '3.4', '1.6', '0.2', 'Iris-setosa']\n",
      "['4.8', '3', '1.4', '0.1', 'Iris-setosa']\n",
      "['4.3', '3', '1.1', '0.1', 'Iris-setosa']\n",
      "['5.8', '4', '1.2', '0.2', 'Iris-setosa']\n",
      "['5.7', '4.4', '1.5', '0.4', 'Iris-setosa']\n",
      "['5.4', '3.9', '1.3', '0.4', 'Iris-setosa']\n",
      "['5.1', '3.5', '1.4', '0.3', 'Iris-setosa']\n",
      "['5.7', '3.8', '1.7', '0.3', 'Iris-setosa']\n",
      "['5.1', '3.8', '1.5', '0.3', 'Iris-setosa']\n",
      "['5.4', '3.4', '1.7', '0.2', 'Iris-setosa']\n",
      "['5.1', '3.7', '1.5', '0.4', 'Iris-setosa']\n",
      "['4.6', '3.6', '1', '0.2', 'Iris-setosa']\n",
      "['5.1', '3.3', '1.7', '0.5', 'Iris-setosa']\n",
      "['4.8', '3.4', '1.9', '0.2', 'Iris-setosa']\n",
      "['5', '3', '1.6', '0.2', 'Iris-setosa']\n",
      "['5', '3.4', '1.6', '0.4', 'Iris-setosa']\n",
      "['5.2', '3.5', '1.5', '0.2', 'Iris-setosa']\n",
      "['5.2', '3.4', '1.4', '0.2', 'Iris-setosa']\n",
      "['4.7', '3.2', '1.6', '0.2', 'Iris-setosa']\n",
      "['4.8', '3.1', '1.6', '0.2', 'Iris-setosa']\n",
      "['5.4', '3.4', '1.5', '0.4', 'Iris-setosa']\n",
      "['5.2', '4.1', '1.5', '0.1', 'Iris-setosa']\n",
      "['5.5', '4.2', '1.4', '0.2', 'Iris-setosa']\n",
      "['4.9', '3.1', '1.5', '0.1', 'Iris-setosa']\n",
      "['5', '3.2', '1.2', '0.2', 'Iris-setosa']\n",
      "['5.5', '3.5', '1.3', '0.2', 'Iris-setosa']\n",
      "['4.9', '3.1', '1.5', '0.1', 'Iris-setosa']\n",
      "['4.4', '3', '1.3', '0.2', 'Iris-setosa']\n",
      "['5.1', '3.4', '1.5', '0.2', 'Iris-setosa']\n",
      "['5', '3.5', '1.3', '0.3', 'Iris-setosa']\n",
      "['4.5', '2.3', '1.3', '0.3', 'Iris-setosa']\n",
      "['4.4', '3.2', '1.3', '0.2', 'Iris-setosa']\n",
      "['5', '3.5', '1.6', '0.6', 'Iris-setosa']\n",
      "['5.1', '3.8', '1.9', '0.4', 'Iris-setosa']\n",
      "['4.8', '3', '1.4', '0.3', 'Iris-setosa']\n",
      "['5.1', '3.8', '1.6', '0.2', 'Iris-setosa']\n",
      "['4.6', '3.2', '1.4', '0.2', 'Iris-setosa']\n",
      "['5.3', '3.7', '1.5', '0.2', 'Iris-setosa']\n",
      "['5', '3.3', '1.4', '0.2', 'Iris-setosa']\n",
      "['7', '3.2', '4.7', '1.4', 'Iris-versicolor']\n",
      "['6.4', '3.2', '4.5', '1.5', 'Iris-versicolor']\n",
      "['6.9', '3.1', '4.9', '1.5', 'Iris-versicolor']\n",
      "['5.5', '2.3', '4', '1.3', 'Iris-versicolor']\n",
      "['6.5', '2.8', '4.6', '1.5', 'Iris-versicolor']\n",
      "['5.7', '2.8', '4.5', '1.3', 'Iris-versicolor']\n",
      "['6.3', '3.3', '4.7', '1.6', 'Iris-versicolor']\n",
      "['4.9', '2.4', '3.3', '1', 'Iris-versicolor']\n",
      "['6.6', '2.9', '4.6', '1.3', 'Iris-versicolor']\n",
      "['5.2', '2.7', '3.9', '1.4', 'Iris-versicolor']\n",
      "['5', '2', '3.5', '1', 'Iris-versicolor']\n",
      "['5.9', '3', '4.2', '1.5', 'Iris-versicolor']\n",
      "['6', '2.2', '4', '1', 'Iris-versicolor']\n",
      "['6.1', '2.9', '4.7', '1.4', 'Iris-versicolor']\n",
      "['5.6', '2.9', '3.6', '1.3', 'Iris-versicolor']\n",
      "['6.7', '3.1', '4.4', '1.4', 'Iris-versicolor']\n",
      "['5.6', '3', '4.5', '1.5', 'Iris-versicolor']\n",
      "['5.8', '2.7', '4.1', '1', 'Iris-versicolor']\n",
      "['6.2', '2.2', '4.5', '1.5', 'Iris-versicolor']\n",
      "['5.6', '2.5', '3.9', '1.1', 'Iris-versicolor']\n",
      "['5.9', '3.2', '4.8', '1.8', 'Iris-versicolor']\n",
      "['6.1', '2.8', '4', '1.3', 'Iris-versicolor']\n",
      "['6.3', '2.5', '4.9', '1.5', 'Iris-versicolor']\n",
      "['6.1', '2.8', '4.7', '1.2', 'Iris-versicolor']\n",
      "['6.4', '2.9', '4.3', '1.3', 'Iris-versicolor']\n",
      "['6.6', '3', '4.4', '1.4', 'Iris-versicolor']\n",
      "['6.8', '2.8', '4.8', '1.4', 'Iris-versicolor']\n",
      "['6.7', '3', '5', '1.7', 'Iris-versicolor']\n",
      "['6', '2.9', '4.5', '1.5', 'Iris-versicolor']\n",
      "['5.7', '2.6', '3.5', '1', 'Iris-versicolor']\n",
      "['5.5', '2.4', '3.8', '1.1', 'Iris-versicolor']\n",
      "['5.5', '2.4', '3.7', '1', 'Iris-versicolor']\n",
      "['5.8', '2.7', '3.9', '1.2', 'Iris-versicolor']\n",
      "['6', '2.7', '5.1', '1.6', 'Iris-versicolor']\n",
      "['5.4', '3', '4.5', '1.5', 'Iris-versicolor']\n",
      "['6', '3.4', '4.5', '1.6', 'Iris-versicolor']\n",
      "['6.7', '3.1', '4.7', '1.5', 'Iris-versicolor']\n",
      "['6.3', '2.3', '4.4', '1.3', 'Iris-versicolor']\n",
      "['5.6', '3', '4.1', '1.3', 'Iris-versicolor']\n",
      "['5.5', '2.5', '4', '1.3', 'Iris-versicolor']\n",
      "['5.5', '2.6', '4.4', '1.2', 'Iris-versicolor']\n",
      "['6.1', '3', '4.6', '1.4', 'Iris-versicolor']\n",
      "['5.8', '2.6', '4', '1.2', 'Iris-versicolor']\n",
      "['5', '2.3', '3.3', '1', 'Iris-versicolor']\n",
      "['5.6', '2.7', '4.2', '1.3', 'Iris-versicolor']\n",
      "['5.7', '3', '4.2', '1.2', 'Iris-versicolor']\n",
      "['5.7', '2.9', '4.2', '1.3', 'Iris-versicolor']\n",
      "['6.2', '2.9', '4.3', '1.3', 'Iris-versicolor']\n",
      "['5.1', '2.5', '3', '1.1', 'Iris-versicolor']\n",
      "['5.7', '2.8', '4.1', '1.3', 'Iris-versicolor']\n",
      "['6.3', '3.3', '6', '2.5', 'Iris-virginica']\n",
      "['5.8', '2.7', '5.1', '1.9', 'Iris-virginica']\n",
      "['7.1', '3', '5.9', '2.1', 'Iris-virginica']\n",
      "['6.3', '2.9', '5.6', '1.8', 'Iris-virginica']\n",
      "['6.5', '3', '5.8', '2.2', 'Iris-virginica']\n",
      "['7.6', '3', '6.6', '2.1', 'Iris-virginica']\n",
      "['4.9', '2.5', '4.5', '1.7', 'Iris-virginica']\n",
      "['7.3', '2.9', '6.3', '1.8', 'Iris-virginica']\n",
      "['6.7', '2.5', '5.8', '1.8', 'Iris-virginica']\n",
      "['7.2', '3.6', '6.1', '2.5', 'Iris-virginica']\n",
      "['6.5', '3.2', '5.1', '2', 'Iris-virginica']\n",
      "['6.4', '2.7', '5.3', '1.9', 'Iris-virginica']\n",
      "['6.8', '3', '5.5', '2.1', 'Iris-virginica']\n",
      "['5.7', '2.5', '5', '2', 'Iris-virginica']\n",
      "['5.8', '2.8', '5.1', '2.4', 'Iris-virginica']\n",
      "['6.4', '3.2', '5.3', '2.3', 'Iris-virginica']\n",
      "['6.5', '3', '5.5', '1.8', 'Iris-virginica']\n",
      "['7.7', '3.8', '6.7', '2.2', 'Iris-virginica']\n",
      "['7.7', '2.6', '6.9', '2.3', 'Iris-virginica']\n",
      "['6', '2.2', '5', '1.5', 'Iris-virginica']\n",
      "['6.9', '3.2', '5.7', '2.3', 'Iris-virginica']\n",
      "['5.6', '2.8', '4.9', '2', 'Iris-virginica']\n",
      "['7.7', '2.8', '6.7', '2', 'Iris-virginica']\n",
      "['6.3', '2.7', '4.9', '1.8', 'Iris-virginica']\n",
      "['6.7', '3.3', '5.7', '2.1', 'Iris-virginica']\n",
      "['7.2', '3.2', '6', '1.8', 'Iris-virginica']\n",
      "['6.2', '2.8', '4.8', '1.8', 'Iris-virginica']\n",
      "['6.1', '3', '4.9', '1.8', 'Iris-virginica']\n",
      "['6.4', '2.8', '5.6', '2.1', 'Iris-virginica']\n",
      "['7.2', '3', '5.8', '1.6', 'Iris-virginica']\n",
      "['7.4', '2.8', '6.1', '1.9', 'Iris-virginica']\n",
      "['7.9', '3.8', '6.4', '2', 'Iris-virginica']\n",
      "['6.4', '2.8', '5.6', '2.2', 'Iris-virginica']\n",
      "['6.3', '2.8', '5.1', '1.5', 'Iris-virginica']\n",
      "['6.1', '2.6', '5.6', '1.4', 'Iris-virginica']\n",
      "['7.7', '3', '6.1', '2.3', 'Iris-virginica']\n",
      "['6.3', '3.4', '5.6', '2.4', 'Iris-virginica']\n",
      "['6.4', '3.1', '5.5', '1.8', 'Iris-virginica']\n",
      "['6', '3', '4.8', '1.8', 'Iris-virginica']\n",
      "['6.9', '3.1', '5.4', '2.1', 'Iris-virginica']\n",
      "['6.7', '3.1', '5.6', '2.4', 'Iris-virginica']\n",
      "['6.9', '3.1', '5.1', '2.3', 'Iris-virginica']\n",
      "['5.8', '2.7', '5.1', '1.9', 'Iris-virginica']\n",
      "['6.8', '3.2', '5.9', '2.3', 'Iris-virginica']\n",
      "['6.7', '3.3', '5.7', '2.5', 'Iris-virginica']\n",
      "['6.7', '3', '5.2', '2.3', 'Iris-virginica']\n",
      "['6.3', '2.5', '5', '1.9', 'Iris-virginica']\n",
      "['6.5', '3', '5.2', '2', 'Iris-virginica']\n",
      "['6.2', '3.4', '5.4', '2.3', 'Iris-virginica']\n",
      "['5.9', '3', '5.1', '1.8', 'Iris-virginica']\n"
     ]
    }
   ],
   "source": [
    "iris = sc.textFile(r'C:\\Users\\jeffnerd\\Desktop\\IRIS.csv')\n",
    "rows = iris.map(lambda line:line.split(\",\"))\n",
    "for row in rows.take(rows.count()):\n",
    "    print(row[0:])"
   ]
  },
  {
   "cell_type": "code",
   "execution_count": null,
   "metadata": {
    "collapsed": true
   },
   "outputs": [],
   "source": []
  }
 ],
 "metadata": {
  "anaconda-cloud": {},
  "kernelspec": {
   "display_name": "Python [default]",
   "language": "python",
   "name": "python3"
  },
  "language_info": {
   "codemirror_mode": {
    "name": "ipython",
    "version": 3
   },
   "file_extension": ".py",
   "mimetype": "text/x-python",
   "name": "python",
   "nbconvert_exporter": "python",
   "pygments_lexer": "ipython3",
   "version": "3.5.2"
  }
 },
 "nbformat": 4,
 "nbformat_minor": 1
}
