{
 "cells": [
  {
   "cell_type": "code",
   "execution_count": 1,
   "metadata": {
    "collapsed": true
   },
   "outputs": [],
   "source": [
    "import pandas as pd, numpy as np, matplotlib.pyplot as plt"
   ]
  },
  {
   "cell_type": "code",
   "execution_count": 2,
   "metadata": {
    "collapsed": false
   },
   "outputs": [
    {
     "name": "stdout",
     "output_type": "stream",
     "text": [
      "Using matplotlib backend: Qt5Agg\n",
      "Populating the interactive namespace from numpy and matplotlib\n"
     ]
    }
   ],
   "source": [
    "%pylab"
   ]
  },
  {
   "cell_type": "code",
   "execution_count": 3,
   "metadata": {
    "collapsed": true
   },
   "outputs": [],
   "source": [
    "x = [1,2,3,4,5]\n",
    "y = [1,2,3,4,5]"
   ]
  },
  {
   "cell_type": "code",
   "execution_count": 4,
   "metadata": {
    "collapsed": false
   },
   "outputs": [
    {
     "data": {
      "text/plain": [
       "[<matplotlib.lines.Line2D at 0x5532ee28d0>,\n",
       " <matplotlib.lines.Line2D at 0x5532ee2ba8>,\n",
       " <matplotlib.lines.Line2D at 0x5532ee2da0>,\n",
       " <matplotlib.lines.Line2D at 0x5532ee2f98>,\n",
       " <matplotlib.lines.Line2D at 0x5532eee1d0>]"
      ]
     },
     "execution_count": 4,
     "metadata": {},
     "output_type": "execute_result"
    }
   ],
   "source": [
    "plt.plot([x,y])"
   ]
  },
  {
   "cell_type": "code",
   "execution_count": 4,
   "metadata": {
    "collapsed": true
   },
   "outputs": [],
   "source": [
    "z = np.random.randn(100,2)"
   ]
  },
  {
   "cell_type": "code",
   "execution_count": 5,
   "metadata": {
    "collapsed": false
   },
   "outputs": [
    {
     "data": {
      "text/plain": [
       "array([[-1.63442148e+00, -2.41588732e-01],\n",
       "       [ 2.96535456e-01,  1.46101936e+00],\n",
       "       [ 1.65908711e+00, -2.73778235e-02],\n",
       "       [-1.41888546e+00, -7.76105961e-01],\n",
       "       [-8.64311664e-01, -1.21002061e+00],\n",
       "       [ 4.32168429e-01,  1.66864424e+00],\n",
       "       [-1.10644569e+00,  4.92100631e-01],\n",
       "       [-3.26912004e-01, -1.08890558e+00],\n",
       "       [ 1.35256493e-01, -1.63578416e+00],\n",
       "       [ 5.19382168e-01, -4.18617567e-01],\n",
       "       [ 4.68198247e-02, -3.40354707e-01],\n",
       "       [ 9.83728906e-01,  7.75645818e-01],\n",
       "       [ 1.59108750e-01,  1.12455307e+00],\n",
       "       [-1.70520739e-01, -2.23677837e-01],\n",
       "       [ 1.26529042e+00, -3.26232123e-01],\n",
       "       [ 9.98570755e-01, -1.24411222e+00],\n",
       "       [ 1.89699947e+00, -5.28781084e-01],\n",
       "       [ 5.20649954e-01,  1.15800298e+00],\n",
       "       [ 1.94207166e+00, -1.00984393e-01],\n",
       "       [-3.60329435e-03, -6.55449797e-01],\n",
       "       [ 1.79039824e+00,  1.61793213e-01],\n",
       "       [ 1.79844147e-01,  2.39034253e-01],\n",
       "       [ 3.13062156e-01, -4.01083295e-01],\n",
       "       [-6.47240728e-01,  2.12911356e+00],\n",
       "       [ 9.79090334e-01, -7.74832132e-01],\n",
       "       [-1.80494835e+00,  6.48092531e-01],\n",
       "       [ 1.45259179e+00, -1.50215641e+00],\n",
       "       [ 6.16842155e-01, -2.30311683e-01],\n",
       "       [-8.16134430e-01,  8.10209631e-01],\n",
       "       [ 2.48946751e+00,  1.48388013e+00],\n",
       "       [ 5.39638826e-01,  1.34420294e+00],\n",
       "       [ 6.64147734e-01, -8.12827880e-01],\n",
       "       [-1.15209065e+00, -1.89326244e+00],\n",
       "       [ 8.40599837e-01,  4.52802893e-01],\n",
       "       [-1.36210265e+00, -2.91334045e-01],\n",
       "       [ 1.09555974e+00,  6.87154266e-01],\n",
       "       [-2.72821272e-01, -2.58998890e-01],\n",
       "       [-4.01179778e-01,  8.59037587e-01],\n",
       "       [ 8.11278238e-01, -1.11621528e+00],\n",
       "       [-1.00783371e+00,  4.56145229e-01],\n",
       "       [ 3.58497363e-01, -1.49060999e+00],\n",
       "       [ 2.20119845e+00, -1.67970803e+00],\n",
       "       [ 1.71469565e+00, -6.64143685e-02],\n",
       "       [-1.40247984e+00,  7.87108721e-01],\n",
       "       [ 1.76483147e+00, -1.19385835e+00],\n",
       "       [ 1.34207577e-01,  9.57873477e-01],\n",
       "       [ 5.11596131e-01, -6.35214667e-01],\n",
       "       [ 7.32833475e-01, -1.07422893e+00],\n",
       "       [-7.63642359e-01,  7.77776247e-01],\n",
       "       [ 6.07466064e-01,  1.82403615e+00],\n",
       "       [-2.38859135e-01,  4.68882053e-01],\n",
       "       [-1.86141634e-01, -6.21495611e-01],\n",
       "       [ 7.66166356e-01, -6.84014351e-02],\n",
       "       [-8.53980108e-01, -2.86951627e-01],\n",
       "       [ 6.77474798e-02,  3.38825256e-02],\n",
       "       [-1.52180354e+00,  1.40981930e+00],\n",
       "       [-2.40062051e-01,  1.10075175e+00],\n",
       "       [ 1.91308959e-01,  5.99519865e-01],\n",
       "       [-4.61599406e-01, -1.21899664e-01],\n",
       "       [ 3.73872875e-01,  9.36542736e-01],\n",
       "       [ 2.99629533e-01,  8.60706597e-01],\n",
       "       [ 5.67170409e-01, -1.68538754e+00],\n",
       "       [-1.58718999e+00,  6.94448106e-01],\n",
       "       [ 1.11005826e+00, -1.56266014e+00],\n",
       "       [-8.52322547e-01,  2.41673817e-01],\n",
       "       [ 2.95631709e-01, -6.06295816e-01],\n",
       "       [-1.00282062e+00, -2.51081683e-01],\n",
       "       [-2.67760128e+00,  1.26994945e+00],\n",
       "       [ 1.12832717e+00,  1.34447373e+00],\n",
       "       [-1.66890072e+00, -3.10027107e-01],\n",
       "       [ 8.50403661e-01,  1.53384383e+00],\n",
       "       [ 1.65417401e+00,  2.18130546e-02],\n",
       "       [-8.69436647e-01, -3.94643348e-01],\n",
       "       [ 1.39742451e-03, -8.94911137e-01],\n",
       "       [ 1.06410123e+00, -1.52420257e-01],\n",
       "       [ 1.01876117e+00, -1.56737543e+00],\n",
       "       [-1.41307550e+00,  1.12617020e-01],\n",
       "       [-1.01321991e+00,  1.02315738e+00],\n",
       "       [ 1.22338064e+00, -9.61539022e-01],\n",
       "       [-7.52549844e-01, -1.14604746e+00],\n",
       "       [-3.59243946e-01,  3.30003776e-02],\n",
       "       [-1.23704878e+00,  8.59927238e-01],\n",
       "       [ 8.33621540e-01,  5.29821374e-01],\n",
       "       [-9.46733190e-01, -1.06243103e-01],\n",
       "       [ 1.60087113e-01,  1.00540626e+00],\n",
       "       [ 1.01536845e+00, -2.51711436e-01],\n",
       "       [-1.65474298e+00,  3.43966823e-01],\n",
       "       [ 8.61862185e-02,  3.84931940e-01],\n",
       "       [ 6.24088920e-01,  2.54324733e-01],\n",
       "       [ 7.93378218e-01, -9.41250051e-01],\n",
       "       [ 5.00584807e-01, -4.51510236e-01],\n",
       "       [ 8.26274426e-02,  3.95005345e-02],\n",
       "       [ 1.14972652e+00, -7.00540169e-01],\n",
       "       [ 1.09334610e-02, -6.42523633e-01],\n",
       "       [ 8.96628562e-01, -1.25986502e-01],\n",
       "       [-3.66437957e-01, -3.04988770e-01],\n",
       "       [-1.23026649e+00,  2.36699232e-01],\n",
       "       [-1.87726110e-02,  1.69803917e+00],\n",
       "       [-4.85728575e-01, -4.25535019e-01],\n",
       "       [-1.59804538e+00, -3.80337468e-02]])"
      ]
     },
     "execution_count": 5,
     "metadata": {},
     "output_type": "execute_result"
    }
   ],
   "source": [
    "z"
   ]
  },
  {
   "cell_type": "code",
   "execution_count": 6,
   "metadata": {
    "collapsed": false
   },
   "outputs": [
    {
     "data": {
      "text/plain": [
       "array([-1.63442148e+00,  2.96535456e-01,  1.65908711e+00, -1.41888546e+00,\n",
       "       -8.64311664e-01,  4.32168429e-01, -1.10644569e+00, -3.26912004e-01,\n",
       "        1.35256493e-01,  5.19382168e-01,  4.68198247e-02,  9.83728906e-01,\n",
       "        1.59108750e-01, -1.70520739e-01,  1.26529042e+00,  9.98570755e-01,\n",
       "        1.89699947e+00,  5.20649954e-01,  1.94207166e+00, -3.60329435e-03,\n",
       "        1.79039824e+00,  1.79844147e-01,  3.13062156e-01, -6.47240728e-01,\n",
       "        9.79090334e-01, -1.80494835e+00,  1.45259179e+00,  6.16842155e-01,\n",
       "       -8.16134430e-01,  2.48946751e+00,  5.39638826e-01,  6.64147734e-01,\n",
       "       -1.15209065e+00,  8.40599837e-01, -1.36210265e+00,  1.09555974e+00,\n",
       "       -2.72821272e-01, -4.01179778e-01,  8.11278238e-01, -1.00783371e+00,\n",
       "        3.58497363e-01,  2.20119845e+00,  1.71469565e+00, -1.40247984e+00,\n",
       "        1.76483147e+00,  1.34207577e-01,  5.11596131e-01,  7.32833475e-01,\n",
       "       -7.63642359e-01,  6.07466064e-01, -2.38859135e-01, -1.86141634e-01,\n",
       "        7.66166356e-01, -8.53980108e-01,  6.77474798e-02, -1.52180354e+00,\n",
       "       -2.40062051e-01,  1.91308959e-01, -4.61599406e-01,  3.73872875e-01,\n",
       "        2.99629533e-01,  5.67170409e-01, -1.58718999e+00,  1.11005826e+00,\n",
       "       -8.52322547e-01,  2.95631709e-01, -1.00282062e+00, -2.67760128e+00,\n",
       "        1.12832717e+00, -1.66890072e+00,  8.50403661e-01,  1.65417401e+00,\n",
       "       -8.69436647e-01,  1.39742451e-03,  1.06410123e+00,  1.01876117e+00,\n",
       "       -1.41307550e+00, -1.01321991e+00,  1.22338064e+00, -7.52549844e-01,\n",
       "       -3.59243946e-01, -1.23704878e+00,  8.33621540e-01, -9.46733190e-01,\n",
       "        1.60087113e-01,  1.01536845e+00, -1.65474298e+00,  8.61862185e-02,\n",
       "        6.24088920e-01,  7.93378218e-01,  5.00584807e-01,  8.26274426e-02,\n",
       "        1.14972652e+00,  1.09334610e-02,  8.96628562e-01, -3.66437957e-01,\n",
       "       -1.23026649e+00, -1.87726110e-02, -4.85728575e-01, -1.59804538e+00])"
      ]
     },
     "execution_count": 6,
     "metadata": {},
     "output_type": "execute_result"
    }
   ],
   "source": [
    "z[:,0]"
   ]
  },
  {
   "cell_type": "code",
   "execution_count": null,
   "metadata": {
    "collapsed": true
   },
   "outputs": [],
   "source": [
    "import numpy as np\n",
    "import matplotlib.pyplot as plt\n",
    "from matplotlib import colors\n",
    "colors_ = list(six.iteritems(colors.cnames))\n",
    "# Add the single letter colors.\n",
    "for name, rgb in six.iteritems(colors.ColorConverter.colors):\n",
    "hex_ = colors.rgb2hex(rgb)\n",
    "colors_.append((name, hex_))\n",
    "# Transform to hex color values.\n",
    "hex_ = [color[1] for color in colors_]\n",
    "# Get the rgb equivalent.\n",
    "rgb = [colors.hex2color(color) for color in hex_]\n",
    "# Get the hsv equivalent.\n",
    "hsv = [colors.rgb_to_hsv(color) for color in rgb]\n",
    "# Split the hsv values to sort.\n",
    "hue = [color[0] for color in hsv]\n",
    "sat = [color[1] for color in hsv]\n",
    "val = [color[2] for color in hsv]\n",
    "# Sort by hue, saturation and value.\n",
    "ind = np.lexsort((val, sat, hue))\n",
    "sorted_colors = [colors_[i] for i in ind]\n",
    "n = len(sorted_colors)\n",
    "ncols = 4\n",
    "nrows = int(np.ceil(1. * n / ncols))\n",
    "fig, ax = plt.subplots()\n",
    "X, Y = fig.get_dpi() * fig.get_size_inches()\n",
    "# row height\n",
    "h = Y / (nrows + 1)\n",
    "# col width\n",
    "w = X / ncols\n",
    "for i, (name, color) in enumerate(sorted_colors):\n",
    "col = i % ncols\n",
    "row = int(i / ncols)\n",
    "y = Y - (row * h) - h\n",
    "xi_line = w * (col + 0.05)\n",
    "xf_line = w * (col + 0.25)\n",
    "xi_text = w * (col + 0.3)\n",
    "ax.text(xi_text, y, name, fontsize=(h * 0.8),\n",
    "horizontalalignment='left',\n",
    "        verticalalignment='center')\n",
    "# Add extra black line a little bit thicker to make\n",
    "# clear colors more visible.\n",
    "ax.hlines(y, xi_line, xf_line, color='black', linewidth=(h * 0.7))\n",
    "ax.hlines(y + h * 0.1, xi_line, xf_line, color=color, linewidth=(h * 0.6))\n",
    "ax.set_xlim(0, X)\n",
    "ax.set_ylim(0, Y)\n",
    "ax.set_axis_off()\n",
    "fig.subplots_adjust(left=0, right=1,\n",
    "top=1, bottom=0,\n",
    "hspace=0, wspace=0)\n",
    "plt.show()"
   ]
  }
 ],
 "metadata": {
  "anaconda-cloud": {},
  "kernelspec": {
   "display_name": "Python [default]",
   "language": "python",
   "name": "python3"
  },
  "language_info": {
   "codemirror_mode": {
    "name": "ipython",
    "version": 3
   },
   "file_extension": ".py",
   "mimetype": "text/x-python",
   "name": "python",
   "nbconvert_exporter": "python",
   "pygments_lexer": "ipython3",
   "version": "3.5.2"
  }
 },
 "nbformat": 4,
 "nbformat_minor": 1
}
