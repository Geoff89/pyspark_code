{
 "cells": [
  {
   "cell_type": "code",
   "execution_count": 1,
   "metadata": {
    "collapsed": false,
    "nbpresent": {
     "id": "83e96082-000f-4683-89f1-0a1ba52619fa"
    }
   },
   "outputs": [],
   "source": [
    "import os\n",
    "import sys\n",
    "\n",
    "os.chdir(\"C:/dataanalytics/python\")\n",
    "os.curdir\n",
    "\n",
    "#Configure the environment . Set this up to the directory where spark is installed\n",
    "if 'SPARK_HOME' not in os.environ:\n",
    "    os.environ['SPARK_HOME'] = 'C:\\\\spark'\n",
    "    \n",
    "#create a variable for our root path\n",
    "SPARK_HOME = os.environ['SPARK_HOME']\n",
    "\n",
    "#Add the following paths to the system path. Please check your installation\n",
    "#to make sure that these zip files actually exists. The names might change as\n",
    "#versions change\n",
    "sys.path.insert(0,os.path.join(SPARK_HOME,\"python\"))\n",
    "sys.path.insert(0,os.path.join(SPARK_HOME,\"python\",\"lib\"))\n",
    "sys.path.insert(0,os.path.join(SPARK_HOME,\"python\",\"lib\",\"py4j-0.10.4-src.zip\"))\n",
    "sys.path.insert(0,os.path.join(SPARK_HOME,\"python\",\"lib\",\"pyspark.zip\"))\n",
    " \n",
    "#Initialize a spark context\n",
    "from pyspark import SparkContext\n",
    "from pyspark import SparkConf\n",
    "\n",
    "#optionally configure spark\n",
    "conf = SparkConf()\n",
    "conf.setAppName(\"Jeffwiz\")\n",
    "\n",
    "#Initalize spark context onl runs once\n",
    "sc = SparkContext('local', conf=conf)\n",
    "\n",
    "\n"
   ]
  },
  {
   "cell_type": "code",
   "execution_count": null,
   "metadata": {
    "collapsed": true
   },
   "outputs": [],
   "source": []
  },
  {
   "cell_type": "code",
   "execution_count": 3,
   "metadata": {
    "collapsed": false,
    "nbpresent": {
     "id": "56403cff-8f1c-400b-958f-2981ccfda940"
    }
   },
   "outputs": [
    {
     "name": "stdout",
     "output_type": "stream",
     "text": [
      "[50, 27, 25, 27, 27, 25, 27, 27, 25, 27, 27, 27, 27, 25, 25, 25, 27, 27, 27, 27, 27, 27, 27, 25, 27, 27, 23, 25, 27, 27, 27, 27, 27, 27, 27, 27, 25, 27, 27, 25, 27, 25, 27, 27, 25, 27, 25, 27, 27, 27, 25, 29, 31, 31, 29, 31, 31, 31, 29, 31, 31, 25, 29, 25, 31, 31, 31, 29, 29, 31, 31, 31, 29, 31, 31, 31, 29, 31, 27, 29, 29, 31, 29, 31, 29, 29, 29, 31, 31, 29, 29, 31, 29, 29, 27, 31, 29, 31, 31, 29, 31, 28, 30, 28, 30, 28, 28, 30, 30, 30, 30, 28, 30, 28, 26, 30, 30, 28, 30, 30, 26, 30, 28, 28, 30, 30, 28, 30, 28, 30, 28, 30, 28, 30, 30, 30, 28, 30, 30, 26, 30, 30, 30, 30, 30, 30, 28, 28, 26, 30, 28]\n"
     ]
    }
   ],
   "source": [
    "#Reading IRIS CSV file\n",
    "iris = sc.textFile(r'C:\\Users\\jeffnerd\\Desktop\\IRIS.csv')\n",
    "#do a transformation for the above data\n",
    "transformdata = iris.map(lambda x:len(x)).collect()\n",
    "print(transformdata)"
   ]
  },
  {
   "cell_type": "code",
   "execution_count": 7,
   "metadata": {
    "collapsed": false,
    "nbpresent": {
     "id": "4ae30832-5782-4200-84f9-f1478b679dc3"
    }
   },
   "outputs": [
    {
     "name": "stdout",
     "output_type": "stream",
     "text": [
      "SepalWidth\n",
      "3.5\n",
      "3\n",
      "3.2\n",
      "3.1\n",
      "3.6\n",
      "3.9\n",
      "3.4\n",
      "3.4\n",
      "2.9\n",
      "3.1\n",
      "3.7\n",
      "3.4\n",
      "3\n",
      "3\n",
      "4\n",
      "4.4\n",
      "3.9\n",
      "3.5\n",
      "3.8\n",
      "3.8\n",
      "3.4\n",
      "3.7\n",
      "3.6\n",
      "3.3\n",
      "3.4\n",
      "3\n",
      "3.4\n",
      "3.5\n",
      "3.4\n",
      "3.2\n",
      "3.1\n",
      "3.4\n",
      "4.1\n",
      "4.2\n",
      "3.1\n",
      "3.2\n",
      "3.5\n",
      "3.1\n",
      "3\n",
      "3.4\n",
      "3.5\n",
      "2.3\n",
      "3.2\n",
      "3.5\n",
      "3.8\n",
      "3\n",
      "3.8\n",
      "3.2\n",
      "3.7\n",
      "3.3\n",
      "3.2\n",
      "3.2\n",
      "3.1\n",
      "2.3\n",
      "2.8\n",
      "2.8\n",
      "3.3\n",
      "2.4\n",
      "2.9\n",
      "2.7\n",
      "2\n",
      "3\n",
      "2.2\n",
      "2.9\n",
      "2.9\n",
      "3.1\n",
      "3\n",
      "2.7\n",
      "2.2\n",
      "2.5\n",
      "3.2\n",
      "2.8\n",
      "2.5\n",
      "2.8\n",
      "2.9\n",
      "3\n",
      "2.8\n",
      "3\n",
      "2.9\n",
      "2.6\n",
      "2.4\n",
      "2.4\n",
      "2.7\n",
      "2.7\n",
      "3\n",
      "3.4\n",
      "3.1\n",
      "2.3\n",
      "3\n",
      "2.5\n",
      "2.6\n",
      "3\n",
      "2.6\n",
      "2.3\n",
      "2.7\n",
      "3\n",
      "2.9\n",
      "2.9\n",
      "2.5\n",
      "2.8\n",
      "3.3\n",
      "2.7\n",
      "3\n",
      "2.9\n",
      "3\n",
      "3\n",
      "2.5\n",
      "2.9\n",
      "2.5\n",
      "3.6\n",
      "3.2\n",
      "2.7\n",
      "3\n",
      "2.5\n",
      "2.8\n",
      "3.2\n",
      "3\n",
      "3.8\n",
      "2.6\n",
      "2.2\n",
      "3.2\n",
      "2.8\n",
      "2.8\n",
      "2.7\n",
      "3.3\n",
      "3.2\n",
      "2.8\n",
      "3\n",
      "2.8\n",
      "3\n",
      "2.8\n",
      "3.8\n",
      "2.8\n",
      "2.8\n",
      "2.6\n",
      "3\n",
      "3.4\n",
      "3.1\n",
      "3\n",
      "3.1\n",
      "3.1\n",
      "3.1\n",
      "2.7\n",
      "3.2\n",
      "3.3\n",
      "3\n",
      "2.5\n",
      "3\n",
      "3.4\n",
      "3\n"
     ]
    }
   ],
   "source": [
    "iris = sc.textFile(r'C:\\Users\\jeffnerd\\Desktop\\IRIS.csv')\n",
    "rows = iris.map(lambda line:line.split(\",\"))\n",
    "for row in rows.take(rows.count()):print(row[1])"
   ]
  },
  {
   "cell_type": "code",
   "execution_count": 9,
   "metadata": {
    "collapsed": false,
    "nbpresent": {
     "id": "53d01ac9-afd0-4c20-9a9a-70d7dbc7e1ff"
    }
   },
   "outputs": [
    {
     "data": {
      "text/plain": [
       "[2, 2, 2, 3, 3, 3, 4, 4, 4]"
      ]
     },
     "execution_count": 9,
     "metadata": {},
     "output_type": "execute_result"
    }
   ],
   "source": [
    "sc.parallelize([2,3,4]).flatMap(lambda x:[x,x,x]).collect()\n"
   ]
  },
  {
   "cell_type": "code",
   "execution_count": null,
   "metadata": {
    "collapsed": true,
    "nbpresent": {
     "id": "9f46f7b0-6d29-451c-968c-cfeb8be20dd9"
    }
   },
   "outputs": [],
   "source": [
    "print sc.defaultParallelism\n"
   ]
  },
  {
   "cell_type": "raw",
   "metadata": {
    "nbpresent": {
     "id": "3dc19183-f166-4cef-86c0-4df9a7fc6784"
    }
   },
   "source": [
    "one_through_9 = range(1,10)\n",
    "parallel = sc.parallelize(one_through_9,3)\n",
    "def f(iterator):yield sum(iterator)\n",
    "parallel.mapPartitions(f).collect()\n"
   ]
  },
  {
   "cell_type": "code",
   "execution_count": 11,
   "metadata": {
    "collapsed": false,
    "nbpresent": {
     "id": "8fb90540-c162-4162-8531-8ffd8cc9db2a"
    }
   },
   "outputs": [
    {
     "data": {
      "text/plain": [
       "[6, 15, 24]"
      ]
     },
     "execution_count": 11,
     "metadata": {},
     "output_type": "execute_result"
    }
   ],
   "source": [
    "one_through_9 = range(1,10)\n",
    "parallel = sc.parallelize(one_through_9,3)\n",
    "def f(iterator):yield sum(iterator)\n",
    "parallel.mapPartitions(f).collect()\n"
   ]
  },
  {
   "cell_type": "code",
   "execution_count": 13,
   "metadata": {
    "collapsed": false,
    "nbpresent": {
     "id": "fb3906b0-a279-418f-a98d-a7d8e25d1375"
    }
   },
   "outputs": [
    {
     "name": "stdout",
     "output_type": "stream",
     "text": [
      "1\n"
     ]
    }
   ],
   "source": [
    "print (sc.defaultParallelism)\n"
   ]
  },
  {
   "cell_type": "code",
   "execution_count": 14,
   "metadata": {
    "collapsed": false,
    "nbpresent": {
     "id": "31ca11f3-60d0-4d71-aea8-49bfdaaec6c0"
    }
   },
   "outputs": [
    {
     "data": {
      "text/plain": [
       "[45]"
      ]
     },
     "execution_count": 14,
     "metadata": {},
     "output_type": "execute_result"
    }
   ],
   "source": [
    "parallel = sc.parallelize(one_through_9)\n",
    "parallel.mapPartitions(f).collect()"
   ]
  },
  {
   "cell_type": "code",
   "execution_count": 15,
   "metadata": {
    "collapsed": false,
    "nbpresent": {
     "id": "6ee12bbd-baf7-4810-ae4b-a3706b0caaa7"
    }
   },
   "outputs": [
    {
     "data": {
      "text/plain": [
       "[1, 2, 3, 4, 5, 6, 7, 8, 9, 10, 11, 12, 13, 14, 15, 16, 17, 18, 19, 20]"
      ]
     },
     "execution_count": 15,
     "metadata": {},
     "output_type": "execute_result"
    }
   ],
   "source": [
    "one = sc.parallelize(range(1,10))\n",
    "two = sc.parallelize(range(10,21))\n",
    "one.union(two).collect()"
   ]
  },
  {
   "cell_type": "code",
   "execution_count": 16,
   "metadata": {
    "collapsed": false,
    "nbpresent": {
     "id": "579dea05-e4c3-4253-a7f8-4d9a5a90df70"
    }
   },
   "outputs": [
    {
     "data": {
      "text/plain": [
       "[6, 8, 5, 7, 9]"
      ]
     },
     "execution_count": 16,
     "metadata": {},
     "output_type": "execute_result"
    }
   ],
   "source": [
    "two = sc.parallelize(range(5,15))\n",
    "one.intersection(two).collect()"
   ]
  },
  {
   "cell_type": "code",
   "execution_count": 18,
   "metadata": {
    "collapsed": false,
    "nbpresent": {
     "id": "c1d6a9af-5464-4a30-8046-e741252cf60c"
    }
   },
   "outputs": [
    {
     "name": "stdout",
     "output_type": "stream",
     "text": [
      "abeabbyapple\n"
     ]
    }
   ],
   "source": [
    "#action examples\n",
    "names1 = sc.parallelize([\"abe\",\"abby\",\"apple\"])\n",
    "print(names1.reduce(lambda t1,t2:t1+t2))"
   ]
  },
  {
   "cell_type": "markdown",
   "metadata": {
    "nbpresent": {
     "id": "d41f52b4-8b76-4ad1-85bd-ea5eeed0a0f9"
    }
   },
   "source": []
  },
  {
   "cell_type": "code",
   "execution_count": 20,
   "metadata": {
    "collapsed": false,
    "nbpresent": {
     "id": "15ecc13e-0e1d-43f3-8eff-4f38aa58d530"
    }
   },
   "outputs": [
    {
     "data": {
      "text/plain": [
       "3"
      ]
     },
     "execution_count": 20,
     "metadata": {},
     "output_type": "execute_result"
    }
   ],
   "source": [
    "names1.count()"
   ]
  },
  {
   "cell_type": "markdown",
   "metadata": {
    "nbpresent": {
     "id": "c551364b-7af1-456a-83b5-f2a42af82020"
    }
   },
   "source": [
    "names1.first()"
   ]
  },
  {
   "cell_type": "code",
   "execution_count": 21,
   "metadata": {
    "collapsed": false,
    "nbpresent": {
     "id": "491a29d6-517d-427a-9bec-91f149aec158"
    }
   },
   "outputs": [
    {
     "data": {
      "text/plain": [
       "'abe'"
      ]
     },
     "execution_count": 21,
     "metadata": {},
     "output_type": "execute_result"
    }
   ],
   "source": [
    "names1.first()"
   ]
  },
  {
   "cell_type": "code",
   "execution_count": 22,
   "metadata": {
    "collapsed": false,
    "nbpresent": {
     "id": "73222836-8ae0-403b-a60f-8b9999b2c2cb"
    }
   },
   "outputs": [
    {
     "data": {
      "text/plain": [
       "['abe', 'abby']"
      ]
     },
     "execution_count": 22,
     "metadata": {},
     "output_type": "execute_result"
    }
   ],
   "source": [
    "names1.take(2)"
   ]
  },
  {
   "cell_type": "code",
   "execution_count": 2,
   "metadata": {
    "collapsed": false,
    "nbpresent": {
     "id": "222e55f8-d17d-4391-aeac-edb326f1796e"
    }
   },
   "outputs": [
    {
     "data": {
      "text/plain": [
       "['C:\\\\spark\\\\python\\\\lib\\\\pyspark.zip',\n",
       " 'C:\\\\Users\\\\jeffnerd\\\\AppData\\\\Local\\\\Temp\\\\spark-e78c8a5d-1c23-4762-8335-c34fa4214f0a\\\\userFiles-733f2361-ec13-463d-9374-73ccf17c2fe6',\n",
       " 'C:\\\\spark\\\\python\\\\lib\\\\py4j-0.10.1-src.zip',\n",
       " 'C:\\\\spark\\\\python\\\\lib',\n",
       " 'C:\\\\spark\\\\python',\n",
       " '',\n",
       " 'C:\\\\Users\\\\jeffnerd\\\\Anaconda3\\\\python35.zip',\n",
       " 'C:\\\\Users\\\\jeffnerd\\\\Anaconda3\\\\DLLs',\n",
       " 'C:\\\\Users\\\\jeffnerd\\\\Anaconda3\\\\lib',\n",
       " 'C:\\\\Users\\\\jeffnerd\\\\Anaconda3',\n",
       " 'C:\\\\Users\\\\jeffnerd\\\\Anaconda3\\\\lib\\\\site-packages',\n",
       " 'C:\\\\Users\\\\jeffnerd\\\\Anaconda3\\\\lib\\\\site-packages\\\\Sphinx-1.4.6-py3.5.egg',\n",
       " 'C:\\\\Users\\\\jeffnerd\\\\Anaconda3\\\\lib\\\\site-packages\\\\win32',\n",
       " 'C:\\\\Users\\\\jeffnerd\\\\Anaconda3\\\\lib\\\\site-packages\\\\win32\\\\lib',\n",
       " 'C:\\\\Users\\\\jeffnerd\\\\Anaconda3\\\\lib\\\\site-packages\\\\Pythonwin',\n",
       " 'C:\\\\Users\\\\jeffnerd\\\\Anaconda3\\\\lib\\\\site-packages\\\\setuptools-27.2.0-py3.5.egg',\n",
       " 'C:\\\\Users\\\\jeffnerd\\\\Anaconda3\\\\lib\\\\site-packages\\\\IPython\\\\extensions',\n",
       " 'C:\\\\Users\\\\jeffnerd\\\\.ipython']"
      ]
     },
     "execution_count": 2,
     "metadata": {},
     "output_type": "execute_result"
    }
   ],
   "source": [
    "sys.path"
   ]
  },
  {
   "cell_type": "code",
   "execution_count": 3,
   "metadata": {
    "collapsed": false,
    "nbpresent": {
     "id": "71ecf13d-fb1f-4e83-82f5-d50751286cbe"
    }
   },
   "outputs": [
    {
     "data": {
      "text/plain": [
       "environ({'FP_NO_HOST_CHECK': 'NO', 'JPY_PARENT_PID': '1232', 'PSMODULEPATH': 'C:\\\\WINDOWS\\\\system32\\\\WindowsPowerShell\\\\v1.0\\\\Modules\\\\', 'PATH': 'C:\\\\Users\\\\jeffnerd\\\\Anaconda3\\\\Library\\\\bin;C:\\\\Users\\\\jeffnerd\\\\Anaconda3\\\\Library\\\\bin;C:\\\\Users\\\\jeffnerd\\\\Anaconda3;C:\\\\Users\\\\jeffnerd\\\\Anaconda3\\\\Scripts;C:\\\\Users\\\\jeffnerd\\\\Anaconda3\\\\Library\\\\bin;C:\\\\Users\\\\jeffnerd\\\\Anaconda3\\\\Library\\\\bin;C:\\\\ProgramData\\\\Oracle\\\\Java\\\\javapath;C:\\\\WINDOWS\\\\system32;C:\\\\WINDOWS;C:\\\\WINDOWS\\\\System32\\\\Wbem;C:\\\\WINDOWS\\\\System32\\\\WindowsPowerShell\\\\v1.0\\\\;C:\\\\Users\\\\jeffnerd\\\\Anaconda3;C:\\\\Users\\\\jeffnerd\\\\Anaconda3\\\\Scripts;C:\\\\Users\\\\jeffnerd\\\\Anaconda3\\\\Library\\\\bin;C:\\\\Users\\\\jeffnerd\\\\AppData\\\\Local\\\\Programs\\\\Python\\\\Python35-32\\\\Scripts\\\\;C:\\\\Users\\\\jeffnerd\\\\AppData\\\\Local\\\\Programs\\\\Python\\\\Python35-32\\\\C:\\\\spark\\\\bin', 'GIT_PAGER': 'cat', 'PATHEXT': '.COM;.EXE;.BAT;.CMD;.VBS;.VBE;.JS;.JSE;.WSF;.WSH;.MSC', 'LOCALAPPDATA': 'C:\\\\Users\\\\jeffnerd\\\\AppData\\\\Local', 'USERPROFILE': 'C:\\\\Users\\\\jeffnerd', 'COMPUTERNAME': 'JEFF', 'PROCESSOR_IDENTIFIER': 'Intel64 Family 6 Model 42 Stepping 7, GenuineIntel', 'SESSIONNAME': 'Console', 'HOMEDRIVE': 'C:', 'PROGRAMW6432': 'C:\\\\Program Files', 'COMMONPROGRAMFILES(X86)': 'C:\\\\Program Files (x86)\\\\Common Files', 'COMSPEC': 'C:\\\\WINDOWS\\\\system32\\\\cmd.exe', 'APPDATA': 'C:\\\\Users\\\\jeffnerd\\\\AppData\\\\Roaming', 'HOMEPATH': '\\\\Users\\\\jeffnerd', 'LOGONSERVER': '\\\\\\\\JEFF', 'USERDOMAIN_ROAMINGPROFILE': 'jeff', 'IPY_INTERRUPT_EVENT': '1228', 'PROCESSOR_ARCHITECTURE': 'AMD64', 'HADOOP_HOME': 'C:\\\\winutils', 'USERDOMAIN': 'jeff', 'SPARK_HOME': 'C:\\\\spark', 'MPLBACKEND': 'module://ipykernel.pylab.backend_inline', 'PUBLIC': 'C:\\\\Users\\\\Public', 'PROGRAMFILES': 'C:\\\\Program Files', 'COMMONPROGRAMFILES': 'C:\\\\Program Files\\\\Common Files', 'TERM': 'xterm-color', 'PROCESSOR_REVISION': '2a07', 'OS': 'Windows_NT', 'TMP': 'C:\\\\Users\\\\jeffnerd\\\\AppData\\\\Local\\\\Temp', 'SYSTEMDRIVE': 'C:', 'NUMBER_OF_PROCESSORS': '4', 'PROGRAMFILES(X86)': 'C:\\\\Program Files (x86)', 'TEMP': 'C:\\\\Users\\\\jeffnerd\\\\AppData\\\\Local\\\\Temp', 'PROGRAMDATA': 'C:\\\\ProgramData', 'CLICOLOR': '1', 'COMMONPROGRAMW6432': 'C:\\\\Program Files\\\\Common Files', 'PAGER': 'cat', 'JPY_INTERRUPT_EVENT': '1228', 'SYSTEMROOT': 'C:\\\\WINDOWS', 'PROCESSOR_LEVEL': '6', 'USERNAME': 'jeffnerd', 'WINDIR': 'C:\\\\WINDOWS', 'ALLUSERSPROFILE': 'C:\\\\ProgramData'})"
      ]
     },
     "execution_count": 3,
     "metadata": {},
     "output_type": "execute_result"
    }
   ],
   "source": [
    "os.environ"
   ]
  },
  {
   "cell_type": "code",
   "execution_count": 1,
   "metadata": {
    "collapsed": false,
    "nbpresent": {
     "id": "86a25204-c657-426f-a167-0397fddd15f4"
    }
   },
   "outputs": [
    {
     "ename": "NameError",
     "evalue": "name 'sc' is not defined",
     "output_type": "error",
     "traceback": [
      "\u001b[0;31m---------------------------------------------------------------------------\u001b[0m",
      "\u001b[0;31mNameError\u001b[0m                                 Traceback (most recent call last)",
      "\u001b[0;32m<ipython-input-1-c6a2ee6a3518>\u001b[0m in \u001b[0;36m<module>\u001b[0;34m()\u001b[0m\n\u001b[0;32m----> 1\u001b[0;31m \u001b[0mone\u001b[0m \u001b[1;33m=\u001b[0m \u001b[0msc\u001b[0m\u001b[1;33m.\u001b[0m\u001b[0mparallelize\u001b[0m\u001b[1;33m(\u001b[0m\u001b[0mrange\u001b[0m\u001b[1;33m(\u001b[0m\u001b[1;36m0\u001b[0m\u001b[1;33m,\u001b[0m\u001b[1;36m15\u001b[0m\u001b[1;33m)\u001b[0m\u001b[1;33m)\u001b[0m\u001b[1;33m\u001b[0m\u001b[0m\n\u001b[0m\u001b[1;32m      2\u001b[0m \u001b[0mtwo\u001b[0m \u001b[1;33m=\u001b[0m \u001b[0msc\u001b[0m\u001b[1;33m.\u001b[0m\u001b[0mparallelize\u001b[0m\u001b[1;33m(\u001b[0m\u001b[0mrange\u001b[0m\u001b[1;33m(\u001b[0m\u001b[1;36m1\u001b[0m\u001b[1;33m,\u001b[0m\u001b[1;36m25\u001b[0m\u001b[1;33m)\u001b[0m\u001b[1;33m)\u001b[0m\u001b[1;33m\u001b[0m\u001b[0m\n\u001b[1;32m      3\u001b[0m \u001b[0mx\u001b[0m \u001b[1;33m=\u001b[0m \u001b[0mone\u001b[0m\u001b[1;33m.\u001b[0m\u001b[0mmap\u001b[0m\u001b[1;33m(\u001b[0m\u001b[1;32mlambda\u001b[0m \u001b[0mx\u001b[0m\u001b[1;33m:\u001b[0m \u001b[0mx\u001b[0m \u001b[1;33m>=\u001b[0m \u001b[1;36m10\u001b[0m\u001b[1;33m)\u001b[0m\u001b[1;33m\u001b[0m\u001b[0m\n\u001b[1;32m      4\u001b[0m \u001b[0mprint\u001b[0m\u001b[1;33m(\u001b[0m\u001b[0mx\u001b[0m\u001b[1;33m.\u001b[0m\u001b[0mcollect\u001b[0m\u001b[1;33m(\u001b[0m\u001b[1;33m)\u001b[0m\u001b[1;33m)\u001b[0m\u001b[1;33m\u001b[0m\u001b[0m\n",
      "\u001b[0;31mNameError\u001b[0m: name 'sc' is not defined"
     ]
    }
   ],
   "source": [
    "one = sc.parallelize(range(0,15))\n",
    "two = sc.parallelize(range(1,25))\n",
    "x = one.map(lambda x: x >= 10)\n",
    "print(x.collect())\n"
   ]
  },
  {
   "cell_type": "code",
   "execution_count": 9,
   "metadata": {
    "collapsed": false,
    "nbpresent": {
     "id": "e1e1fa42-b38c-4b57-bfaa-7530ae7999e4"
    }
   },
   "outputs": [
    {
     "name": "stdout",
     "output_type": "stream",
     "text": [
      "15\n",
      "[True, True, True]\n",
      "[False, False, False, False]\n",
      "defaultdict(<class 'int'>, {False: 10, True: 5})\n"
     ]
    },
    {
     "ename": "TypeError",
     "evalue": "unorderable types: PipelinedRDD() < int()",
     "output_type": "error",
     "traceback": [
      "\u001b[0;31m---------------------------------------------------------------------------\u001b[0m",
      "\u001b[0;31mTypeError\u001b[0m                                 Traceback (most recent call last)",
      "\u001b[0;32m<ipython-input-9-57febec0fced>\u001b[0m in \u001b[0;36m<module>\u001b[0;34m()\u001b[0m\n\u001b[1;32m      3\u001b[0m \u001b[0mprint\u001b[0m\u001b[1;33m(\u001b[0m\u001b[0mx\u001b[0m\u001b[1;33m.\u001b[0m\u001b[0mtake\u001b[0m\u001b[1;33m(\u001b[0m\u001b[1;36m4\u001b[0m\u001b[1;33m)\u001b[0m\u001b[1;33m)\u001b[0m\u001b[1;33m\u001b[0m\u001b[0m\n\u001b[1;32m      4\u001b[0m \u001b[0mprint\u001b[0m\u001b[1;33m(\u001b[0m\u001b[0mx\u001b[0m\u001b[1;33m.\u001b[0m\u001b[0mcountByValue\u001b[0m\u001b[1;33m(\u001b[0m\u001b[1;33m)\u001b[0m\u001b[1;33m)\u001b[0m\u001b[1;33m\u001b[0m\u001b[0m\n\u001b[0;32m----> 5\u001b[0;31m \u001b[0mprint\u001b[0m\u001b[1;33m(\u001b[0m\u001b[0mx\u001b[0m\u001b[1;33m.\u001b[0m\u001b[0mreduce\u001b[0m\u001b[1;33m(\u001b[0m\u001b[0mx\u001b[0m\u001b[1;33m<\u001b[0m\u001b[1;36m10\u001b[0m\u001b[1;33m)\u001b[0m\u001b[1;33m)\u001b[0m\u001b[1;33m\u001b[0m\u001b[0m\n\u001b[0m",
      "\u001b[0;31mTypeError\u001b[0m: unorderable types: PipelinedRDD() < int()"
     ]
    }
   ],
   "source": [
    "print(x.count())\n",
    "print(x.top(3))\n",
    "print(x.take(4))\n",
    "print(x.countByValue())\n",
    "print(x.reduce(x<10))"
   ]
  },
  {
   "cell_type": "code",
   "execution_count": 12,
   "metadata": {
    "collapsed": false,
    "nbpresent": {
     "id": "0858b8b1-6ea4-4b5d-ae90-66c81e70eb85"
    }
   },
   "outputs": [
    {
     "data": {
      "text/plain": [
       "UnionRDD[21] at union at null:-2"
      ]
     },
     "execution_count": 12,
     "metadata": {},
     "output_type": "execute_result"
    }
   ],
   "source": [
    "one.union(two)"
   ]
  },
  {
   "cell_type": "code",
   "execution_count": 13,
   "metadata": {
    "collapsed": false
   },
   "outputs": [
    {
     "data": {
      "text/plain": [
       "UnionRDD[26] at union at null:-2"
      ]
     },
     "execution_count": 13,
     "metadata": {},
     "output_type": "execute_result"
    }
   ],
   "source": [
    "one = sc.parallelize(range(0,15))\n",
    "two = sc.parallelize(range(1,25))\n",
    "one.union(two)"
   ]
  },
  {
   "cell_type": "code",
   "execution_count": 14,
   "metadata": {
    "collapsed": false
   },
   "outputs": [
    {
     "data": {
      "text/plain": [
       "[2, 4, 6, 8, 10, 12, 14, 1, 3, 5, 7, 9, 11, 13]"
      ]
     },
     "execution_count": 14,
     "metadata": {},
     "output_type": "execute_result"
    }
   ],
   "source": [
    "one.intersection(two).collect()"
   ]
  },
  {
   "cell_type": "code",
   "execution_count": 15,
   "metadata": {
    "collapsed": false
   },
   "outputs": [
    {
     "data": {
      "text/plain": [
       "[0,\n",
       " 1,\n",
       " 2,\n",
       " 3,\n",
       " 4,\n",
       " 5,\n",
       " 6,\n",
       " 7,\n",
       " 8,\n",
       " 9,\n",
       " 10,\n",
       " 11,\n",
       " 12,\n",
       " 13,\n",
       " 14,\n",
       " 1,\n",
       " 2,\n",
       " 3,\n",
       " 4,\n",
       " 5,\n",
       " 6,\n",
       " 7,\n",
       " 8,\n",
       " 9,\n",
       " 10,\n",
       " 11,\n",
       " 12,\n",
       " 13,\n",
       " 14,\n",
       " 15,\n",
       " 16,\n",
       " 17,\n",
       " 18,\n",
       " 19,\n",
       " 20,\n",
       " 21,\n",
       " 22,\n",
       " 23,\n",
       " 24]"
      ]
     },
     "execution_count": 15,
     "metadata": {},
     "output_type": "execute_result"
    }
   ],
   "source": [
    "one.union(two).collect()"
   ]
  },
  {
   "cell_type": "code",
   "execution_count": 16,
   "metadata": {
    "collapsed": false
   },
   "outputs": [
    {
     "data": {
      "text/plain": [
       "[0]"
      ]
     },
     "execution_count": 16,
     "metadata": {},
     "output_type": "execute_result"
    }
   ],
   "source": [
    "one.subtract(two).collect()"
   ]
  },
  {
   "cell_type": "code",
   "execution_count": 17,
   "metadata": {
    "collapsed": false
   },
   "outputs": [
    {
     "data": {
      "text/plain": [
       "[(0, 1),\n",
       " (0, 2),\n",
       " (0, 3),\n",
       " (0, 4),\n",
       " (0, 5),\n",
       " (0, 6),\n",
       " (0, 7),\n",
       " (0, 8),\n",
       " (0, 9),\n",
       " (0, 10),\n",
       " (0, 11),\n",
       " (0, 12),\n",
       " (0, 13),\n",
       " (0, 14),\n",
       " (0, 15),\n",
       " (0, 16),\n",
       " (0, 17),\n",
       " (0, 18),\n",
       " (0, 19),\n",
       " (0, 20),\n",
       " (0, 21),\n",
       " (0, 22),\n",
       " (0, 23),\n",
       " (0, 24),\n",
       " (1, 1),\n",
       " (2, 1),\n",
       " (1, 2),\n",
       " (1, 3),\n",
       " (2, 2),\n",
       " (2, 3),\n",
       " (1, 4),\n",
       " (1, 5),\n",
       " (1, 6),\n",
       " (1, 7),\n",
       " (2, 4),\n",
       " (2, 5),\n",
       " (2, 6),\n",
       " (2, 7),\n",
       " (1, 8),\n",
       " (1, 9),\n",
       " (1, 10),\n",
       " (1, 11),\n",
       " (1, 12),\n",
       " (1, 13),\n",
       " (1, 14),\n",
       " (1, 15),\n",
       " (2, 8),\n",
       " (2, 9),\n",
       " (2, 10),\n",
       " (2, 11),\n",
       " (2, 12),\n",
       " (2, 13),\n",
       " (2, 14),\n",
       " (2, 15),\n",
       " (1, 16),\n",
       " (1, 17),\n",
       " (1, 18),\n",
       " (1, 19),\n",
       " (1, 20),\n",
       " (1, 21),\n",
       " (1, 22),\n",
       " (1, 23),\n",
       " (1, 24),\n",
       " (2, 16),\n",
       " (2, 17),\n",
       " (2, 18),\n",
       " (2, 19),\n",
       " (2, 20),\n",
       " (2, 21),\n",
       " (2, 22),\n",
       " (2, 23),\n",
       " (2, 24),\n",
       " (3, 1),\n",
       " (4, 1),\n",
       " (5, 1),\n",
       " (6, 1),\n",
       " (3, 2),\n",
       " (3, 3),\n",
       " (4, 2),\n",
       " (4, 3),\n",
       " (5, 2),\n",
       " (5, 3),\n",
       " (6, 2),\n",
       " (6, 3),\n",
       " (3, 4),\n",
       " (3, 5),\n",
       " (3, 6),\n",
       " (3, 7),\n",
       " (4, 4),\n",
       " (4, 5),\n",
       " (4, 6),\n",
       " (4, 7),\n",
       " (5, 4),\n",
       " (5, 5),\n",
       " (5, 6),\n",
       " (5, 7),\n",
       " (6, 4),\n",
       " (6, 5),\n",
       " (6, 6),\n",
       " (6, 7),\n",
       " (3, 8),\n",
       " (3, 9),\n",
       " (3, 10),\n",
       " (3, 11),\n",
       " (3, 12),\n",
       " (3, 13),\n",
       " (3, 14),\n",
       " (3, 15),\n",
       " (4, 8),\n",
       " (4, 9),\n",
       " (4, 10),\n",
       " (4, 11),\n",
       " (4, 12),\n",
       " (4, 13),\n",
       " (4, 14),\n",
       " (4, 15),\n",
       " (5, 8),\n",
       " (5, 9),\n",
       " (5, 10),\n",
       " (5, 11),\n",
       " (5, 12),\n",
       " (5, 13),\n",
       " (5, 14),\n",
       " (5, 15),\n",
       " (6, 8),\n",
       " (6, 9),\n",
       " (6, 10),\n",
       " (6, 11),\n",
       " (6, 12),\n",
       " (6, 13),\n",
       " (6, 14),\n",
       " (6, 15),\n",
       " (3, 16),\n",
       " (3, 17),\n",
       " (3, 18),\n",
       " (3, 19),\n",
       " (3, 20),\n",
       " (3, 21),\n",
       " (3, 22),\n",
       " (3, 23),\n",
       " (3, 24),\n",
       " (4, 16),\n",
       " (4, 17),\n",
       " (4, 18),\n",
       " (4, 19),\n",
       " (4, 20),\n",
       " (4, 21),\n",
       " (4, 22),\n",
       " (4, 23),\n",
       " (4, 24),\n",
       " (5, 16),\n",
       " (5, 17),\n",
       " (5, 18),\n",
       " (5, 19),\n",
       " (5, 20),\n",
       " (5, 21),\n",
       " (5, 22),\n",
       " (5, 23),\n",
       " (5, 24),\n",
       " (6, 16),\n",
       " (6, 17),\n",
       " (6, 18),\n",
       " (6, 19),\n",
       " (6, 20),\n",
       " (6, 21),\n",
       " (6, 22),\n",
       " (6, 23),\n",
       " (6, 24),\n",
       " (7, 1),\n",
       " (8, 1),\n",
       " (9, 1),\n",
       " (10, 1),\n",
       " (11, 1),\n",
       " (12, 1),\n",
       " (13, 1),\n",
       " (14, 1),\n",
       " (7, 2),\n",
       " (7, 3),\n",
       " (8, 2),\n",
       " (8, 3),\n",
       " (9, 2),\n",
       " (9, 3),\n",
       " (10, 2),\n",
       " (10, 3),\n",
       " (11, 2),\n",
       " (11, 3),\n",
       " (12, 2),\n",
       " (12, 3),\n",
       " (13, 2),\n",
       " (13, 3),\n",
       " (14, 2),\n",
       " (14, 3),\n",
       " (7, 4),\n",
       " (7, 5),\n",
       " (7, 6),\n",
       " (7, 7),\n",
       " (8, 4),\n",
       " (8, 5),\n",
       " (8, 6),\n",
       " (8, 7),\n",
       " (9, 4),\n",
       " (9, 5),\n",
       " (9, 6),\n",
       " (9, 7),\n",
       " (10, 4),\n",
       " (10, 5),\n",
       " (10, 6),\n",
       " (10, 7),\n",
       " (11, 4),\n",
       " (11, 5),\n",
       " (11, 6),\n",
       " (11, 7),\n",
       " (12, 4),\n",
       " (12, 5),\n",
       " (12, 6),\n",
       " (12, 7),\n",
       " (13, 4),\n",
       " (13, 5),\n",
       " (13, 6),\n",
       " (13, 7),\n",
       " (14, 4),\n",
       " (14, 5),\n",
       " (14, 6),\n",
       " (14, 7),\n",
       " (7, 8),\n",
       " (7, 9),\n",
       " (7, 10),\n",
       " (7, 11),\n",
       " (7, 12),\n",
       " (7, 13),\n",
       " (7, 14),\n",
       " (7, 15),\n",
       " (8, 8),\n",
       " (8, 9),\n",
       " (8, 10),\n",
       " (8, 11),\n",
       " (8, 12),\n",
       " (8, 13),\n",
       " (8, 14),\n",
       " (8, 15),\n",
       " (9, 8),\n",
       " (9, 9),\n",
       " (9, 10),\n",
       " (9, 11),\n",
       " (9, 12),\n",
       " (9, 13),\n",
       " (9, 14),\n",
       " (9, 15),\n",
       " (10, 8),\n",
       " (10, 9),\n",
       " (10, 10),\n",
       " (10, 11),\n",
       " (10, 12),\n",
       " (10, 13),\n",
       " (10, 14),\n",
       " (10, 15),\n",
       " (11, 8),\n",
       " (11, 9),\n",
       " (11, 10),\n",
       " (11, 11),\n",
       " (11, 12),\n",
       " (11, 13),\n",
       " (11, 14),\n",
       " (11, 15),\n",
       " (12, 8),\n",
       " (12, 9),\n",
       " (12, 10),\n",
       " (12, 11),\n",
       " (12, 12),\n",
       " (12, 13),\n",
       " (12, 14),\n",
       " (12, 15),\n",
       " (13, 8),\n",
       " (13, 9),\n",
       " (13, 10),\n",
       " (13, 11),\n",
       " (13, 12),\n",
       " (13, 13),\n",
       " (13, 14),\n",
       " (13, 15),\n",
       " (14, 8),\n",
       " (14, 9),\n",
       " (14, 10),\n",
       " (14, 11),\n",
       " (14, 12),\n",
       " (14, 13),\n",
       " (14, 14),\n",
       " (14, 15),\n",
       " (7, 16),\n",
       " (7, 17),\n",
       " (7, 18),\n",
       " (7, 19),\n",
       " (7, 20),\n",
       " (7, 21),\n",
       " (7, 22),\n",
       " (7, 23),\n",
       " (7, 24),\n",
       " (8, 16),\n",
       " (8, 17),\n",
       " (8, 18),\n",
       " (8, 19),\n",
       " (8, 20),\n",
       " (8, 21),\n",
       " (8, 22),\n",
       " (8, 23),\n",
       " (8, 24),\n",
       " (9, 16),\n",
       " (9, 17),\n",
       " (9, 18),\n",
       " (9, 19),\n",
       " (9, 20),\n",
       " (9, 21),\n",
       " (9, 22),\n",
       " (9, 23),\n",
       " (9, 24),\n",
       " (10, 16),\n",
       " (10, 17),\n",
       " (10, 18),\n",
       " (10, 19),\n",
       " (10, 20),\n",
       " (10, 21),\n",
       " (10, 22),\n",
       " (10, 23),\n",
       " (10, 24),\n",
       " (11, 16),\n",
       " (11, 17),\n",
       " (11, 18),\n",
       " (11, 19),\n",
       " (11, 20),\n",
       " (11, 21),\n",
       " (11, 22),\n",
       " (11, 23),\n",
       " (11, 24),\n",
       " (12, 16),\n",
       " (12, 17),\n",
       " (12, 18),\n",
       " (12, 19),\n",
       " (12, 20),\n",
       " (12, 21),\n",
       " (12, 22),\n",
       " (12, 23),\n",
       " (12, 24),\n",
       " (13, 16),\n",
       " (13, 17),\n",
       " (13, 18),\n",
       " (13, 19),\n",
       " (13, 20),\n",
       " (13, 21),\n",
       " (13, 22),\n",
       " (13, 23),\n",
       " (13, 24),\n",
       " (14, 16),\n",
       " (14, 17),\n",
       " (14, 18),\n",
       " (14, 19),\n",
       " (14, 20),\n",
       " (14, 21),\n",
       " (14, 22),\n",
       " (14, 23),\n",
       " (14, 24)]"
      ]
     },
     "execution_count": 17,
     "metadata": {},
     "output_type": "execute_result"
    }
   ],
   "source": [
    "one.cartesian(two).collect()"
   ]
  },
  {
   "cell_type": "code",
   "execution_count": 44,
   "metadata": {
    "collapsed": false
   },
   "outputs": [
    {
     "data": {
      "text/plain": [
       "[(5, 6), (7, 8)]"
      ]
     },
     "execution_count": 44,
     "metadata": {},
     "output_type": "execute_result"
    }
   ],
   "source": [
    "x.sample(False,0.5).collect()"
   ]
  },
  {
   "cell_type": "code",
   "execution_count": 19,
   "metadata": {
    "collapsed": false
   },
   "outputs": [
    {
     "data": {
      "text/plain": [
       "defaultdict(int,\n",
       "            {1: 1,\n",
       "             2: 1,\n",
       "             3: 1,\n",
       "             4: 1,\n",
       "             5: 1,\n",
       "             6: 1,\n",
       "             7: 1,\n",
       "             8: 1,\n",
       "             9: 1,\n",
       "             10: 1,\n",
       "             11: 1,\n",
       "             12: 1,\n",
       "             13: 1,\n",
       "             14: 1,\n",
       "             15: 1,\n",
       "             16: 1,\n",
       "             17: 1,\n",
       "             18: 1,\n",
       "             19: 1,\n",
       "             20: 1,\n",
       "             21: 1,\n",
       "             22: 1,\n",
       "             23: 1,\n",
       "             24: 1})"
      ]
     },
     "execution_count": 19,
     "metadata": {},
     "output_type": "execute_result"
    }
   ],
   "source": [
    "two.countByValue()"
   ]
  },
  {
   "cell_type": "code",
   "execution_count": 20,
   "metadata": {
    "collapsed": false
   },
   "outputs": [
    {
     "data": {
      "text/plain": [
       "[1, 2, 3, 4, 5, 6, 7, 8, 9, 10, 11, 12, 13, 14, 15, 16, 17, 18, 19, 20]"
      ]
     },
     "execution_count": 20,
     "metadata": {},
     "output_type": "execute_result"
    }
   ],
   "source": [
    "two.take(20)"
   ]
  },
  {
   "cell_type": "code",
   "execution_count": 21,
   "metadata": {
    "collapsed": false
   },
   "outputs": [
    {
     "data": {
      "text/plain": [
       "[24, 23, 22, 21, 20]"
      ]
     },
     "execution_count": 21,
     "metadata": {},
     "output_type": "execute_result"
    }
   ],
   "source": [
    "two.top(5)"
   ]
  },
  {
   "cell_type": "code",
   "execution_count": 3,
   "metadata": {
    "collapsed": false
   },
   "outputs": [
    {
     "data": {
      "text/plain": [
       "[5, 3, 7, 1]"
      ]
     },
     "execution_count": 3,
     "metadata": {},
     "output_type": "execute_result"
    }
   ],
   "source": [
    "#creating paired RDDs\n",
    "x = sc.parallelize({(1,2),(3,4),(5,6),(7,8)})\n",
    "x.keys().collect()"
   ]
  },
  {
   "cell_type": "code",
   "execution_count": 31,
   "metadata": {
    "collapsed": false
   },
   "outputs": [
    {
     "data": {
      "text/plain": [
       "[6, 4, 8, 2]"
      ]
     },
     "execution_count": 31,
     "metadata": {},
     "output_type": "execute_result"
    }
   ],
   "source": [
    "x.values().collect()"
   ]
  },
  {
   "cell_type": "code",
   "execution_count": 32,
   "metadata": {
    "collapsed": false
   },
   "outputs": [
    {
     "data": {
      "text/plain": [
       "[(1, 2), (3, 4), (5, 6), (7, 8)]"
      ]
     },
     "execution_count": 32,
     "metadata": {},
     "output_type": "execute_result"
    }
   ],
   "source": [
    "x.sortByKey().collect()"
   ]
  },
  {
   "cell_type": "code",
   "execution_count": 34,
   "metadata": {
    "collapsed": false
   },
   "outputs": [
    {
     "data": {
      "text/plain": [
       "[(1, <pyspark.resultiterable.ResultIterable at 0xea3024a080>),\n",
       " (3, <pyspark.resultiterable.ResultIterable at 0xea3024a588>),\n",
       " (5, <pyspark.resultiterable.ResultIterable at 0xea3024a240>),\n",
       " (7, <pyspark.resultiterable.ResultIterable at 0xea3024a0b8>)]"
      ]
     },
     "execution_count": 34,
     "metadata": {},
     "output_type": "execute_result"
    }
   ],
   "source": [
    "x.groupByKey().collect()"
   ]
  },
  {
   "cell_type": "code",
   "execution_count": 37,
   "metadata": {
    "collapsed": false
   },
   "outputs": [
    {
     "data": {
      "text/plain": [
       "[(1, 2)]"
      ]
     },
     "execution_count": 37,
     "metadata": {},
     "output_type": "execute_result"
    }
   ],
   "source": [
    "y = sc.parallelize({(3,4),(5,6),(7,8)})\n",
    "x.subtractByKey(y).collect()"
   ]
  },
  {
   "cell_type": "code",
   "execution_count": 38,
   "metadata": {
    "collapsed": false
   },
   "outputs": [
    {
     "data": {
      "text/plain": [
       "[(3, (4, 4)), (5, (6, 6)), (7, (8, 8))]"
      ]
     },
     "execution_count": 38,
     "metadata": {},
     "output_type": "execute_result"
    }
   ],
   "source": [
    "x.join(y).collect()"
   ]
  },
  {
   "cell_type": "code",
   "execution_count": 39,
   "metadata": {
    "collapsed": false
   },
   "outputs": [
    {
     "data": {
      "text/plain": [
       "[(3, (4, 4)), (5, (6, 6)), (7, (8, 8))]"
      ]
     },
     "execution_count": 39,
     "metadata": {},
     "output_type": "execute_result"
    }
   ],
   "source": [
    "x.rightOuterJoin(y).collect()"
   ]
  },
  {
   "cell_type": "code",
   "execution_count": 41,
   "metadata": {
    "collapsed": false
   },
   "outputs": [
    {
     "data": {
      "text/plain": [
       "[(1, (2, None)), (3, (4, 4)), (5, (6, 6)), (7, (8, 8))]"
      ]
     },
     "execution_count": 41,
     "metadata": {},
     "output_type": "execute_result"
    }
   ],
   "source": [
    "x.leftOuterJoin(y).collect()"
   ]
  },
  {
   "cell_type": "code",
   "execution_count": 43,
   "metadata": {
    "collapsed": false
   },
   "outputs": [
    {
     "data": {
      "text/plain": [
       "[(1,\n",
       "  (<pyspark.resultiterable.ResultIterable at 0xea3024aeb8>,\n",
       "   <pyspark.resultiterable.ResultIterable at 0xea3024a1d0>)),\n",
       " (3,\n",
       "  (<pyspark.resultiterable.ResultIterable at 0xea3024af98>,\n",
       "   <pyspark.resultiterable.ResultIterable at 0xea3024a978>)),\n",
       " (5,\n",
       "  (<pyspark.resultiterable.ResultIterable at 0xea3024a5f8>,\n",
       "   <pyspark.resultiterable.ResultIterable at 0xea3024a278>)),\n",
       " (7,\n",
       "  (<pyspark.resultiterable.ResultIterable at 0xea3024a390>,\n",
       "   <pyspark.resultiterable.ResultIterable at 0xea3024a4e0>))]"
      ]
     },
     "execution_count": 43,
     "metadata": {},
     "output_type": "execute_result"
    }
   ],
   "source": [
    "x.cogroup(y).collect()"
   ]
  },
  {
   "cell_type": "code",
   "execution_count": 2,
   "metadata": {
    "collapsed": true
   },
   "outputs": [],
   "source": [
    "nums = sc.parallelize([1,2,3,4,5,6])\n"
   ]
  },
  {
   "cell_type": "code",
   "execution_count": 3,
   "metadata": {
    "collapsed": true
   },
   "outputs": [],
   "source": [
    "squared = nums.map(lambda x:x*x).collect()"
   ]
  },
  {
   "cell_type": "code",
   "execution_count": 4,
   "metadata": {
    "collapsed": false
   },
   "outputs": [
    {
     "name": "stdout",
     "output_type": "stream",
     "text": [
      "1\n",
      "4\n",
      "9\n",
      "10\n",
      "19\n",
      "24\n"
     ]
    }
   ],
   "source": [
    "for num in squared:\n",
    "    print('%x'%(num))"
   ]
  },
  {
   "cell_type": "code",
   "execution_count": 5,
   "metadata": {
    "collapsed": false
   },
   "outputs": [
    {
     "name": "stdout",
     "output_type": "stream",
     "text": [
      "1\n",
      "4\n",
      "9\n",
      "10\n",
      "19\n",
      "24\n"
     ]
    }
   ],
   "source": [
    "nums = sc.parallelize([1,2,3,4,5,6])\n",
    "squared = nums.map(lambda x:x*x).collect()\n",
    "for num in squared:\n",
    "    print('%x'%(num))"
   ]
  },
  {
   "cell_type": "code",
   "execution_count": 8,
   "metadata": {
    "collapsed": false,
    "scrolled": true
   },
   "outputs": [
    {
     "ename": "Py4JJavaError",
     "evalue": "An error occurred while calling z:org.apache.spark.api.python.PythonRDD.collectAndServe.\n: org.apache.spark.SparkException: Job aborted due to stage failure: Task 0 in stage 3.0 failed 1 times, most recent failure: Lost task 0.0 in stage 3.0 (TID 3, localhost): org.apache.spark.api.python.PythonException: Traceback (most recent call last):\n  File \"C:\\spark\\python\\lib\\pyspark.zip\\pyspark\\worker.py\", line 172, in main\n  File \"C:\\spark\\python\\lib\\pyspark.zip\\pyspark\\worker.py\", line 167, in process\n  File \"C:\\spark\\python\\lib\\pyspark.zip\\pyspark\\serializers.py\", line 263, in dump_stream\n    vs = list(itertools.islice(iterator, batch))\nTypeError: 'int' object is not iterable\n\r\n\tat org.apache.spark.api.python.PythonRunner$$anon$1.read(PythonRDD.scala:193)\r\n\tat org.apache.spark.api.python.PythonRunner$$anon$1.<init>(PythonRDD.scala:234)\r\n\tat org.apache.spark.api.python.PythonRunner.compute(PythonRDD.scala:152)\r\n\tat org.apache.spark.api.python.PythonRDD.compute(PythonRDD.scala:63)\r\n\tat org.apache.spark.rdd.RDD.computeOrReadCheckpoint(RDD.scala:319)\r\n\tat org.apache.spark.rdd.RDD.iterator(RDD.scala:283)\r\n\tat org.apache.spark.scheduler.ResultTask.runTask(ResultTask.scala:70)\r\n\tat org.apache.spark.scheduler.Task.run(Task.scala:85)\r\n\tat org.apache.spark.executor.Executor$TaskRunner.run(Executor.scala:274)\r\n\tat java.util.concurrent.ThreadPoolExecutor.runWorker(Unknown Source)\r\n\tat java.util.concurrent.ThreadPoolExecutor$Worker.run(Unknown Source)\r\n\tat java.lang.Thread.run(Unknown Source)\r\n\nDriver stacktrace:\r\n\tat org.apache.spark.scheduler.DAGScheduler.org$apache$spark$scheduler$DAGScheduler$$failJobAndIndependentStages(DAGScheduler.scala:1450)\r\n\tat org.apache.spark.scheduler.DAGScheduler$$anonfun$abortStage$1.apply(DAGScheduler.scala:1438)\r\n\tat org.apache.spark.scheduler.DAGScheduler$$anonfun$abortStage$1.apply(DAGScheduler.scala:1437)\r\n\tat scala.collection.mutable.ResizableArray$class.foreach(ResizableArray.scala:59)\r\n\tat scala.collection.mutable.ArrayBuffer.foreach(ArrayBuffer.scala:48)\r\n\tat org.apache.spark.scheduler.DAGScheduler.abortStage(DAGScheduler.scala:1437)\r\n\tat org.apache.spark.scheduler.DAGScheduler$$anonfun$handleTaskSetFailed$1.apply(DAGScheduler.scala:811)\r\n\tat org.apache.spark.scheduler.DAGScheduler$$anonfun$handleTaskSetFailed$1.apply(DAGScheduler.scala:811)\r\n\tat scala.Option.foreach(Option.scala:257)\r\n\tat org.apache.spark.scheduler.DAGScheduler.handleTaskSetFailed(DAGScheduler.scala:811)\r\n\tat org.apache.spark.scheduler.DAGSchedulerEventProcessLoop.doOnReceive(DAGScheduler.scala:1659)\r\n\tat org.apache.spark.scheduler.DAGSchedulerEventProcessLoop.onReceive(DAGScheduler.scala:1618)\r\n\tat org.apache.spark.scheduler.DAGSchedulerEventProcessLoop.onReceive(DAGScheduler.scala:1607)\r\n\tat org.apache.spark.util.EventLoop$$anon$1.run(EventLoop.scala:48)\r\n\tat org.apache.spark.scheduler.DAGScheduler.runJob(DAGScheduler.scala:632)\r\n\tat org.apache.spark.SparkContext.runJob(SparkContext.scala:1871)\r\n\tat org.apache.spark.SparkContext.runJob(SparkContext.scala:1884)\r\n\tat org.apache.spark.SparkContext.runJob(SparkContext.scala:1897)\r\n\tat org.apache.spark.SparkContext.runJob(SparkContext.scala:1911)\r\n\tat org.apache.spark.rdd.RDD$$anonfun$collect$1.apply(RDD.scala:893)\r\n\tat org.apache.spark.rdd.RDDOperationScope$.withScope(RDDOperationScope.scala:151)\r\n\tat org.apache.spark.rdd.RDDOperationScope$.withScope(RDDOperationScope.scala:112)\r\n\tat org.apache.spark.rdd.RDD.withScope(RDD.scala:358)\r\n\tat org.apache.spark.rdd.RDD.collect(RDD.scala:892)\r\n\tat org.apache.spark.api.python.PythonRDD$.collectAndServe(PythonRDD.scala:453)\r\n\tat org.apache.spark.api.python.PythonRDD.collectAndServe(PythonRDD.scala)\r\n\tat sun.reflect.NativeMethodAccessorImpl.invoke0(Native Method)\r\n\tat sun.reflect.NativeMethodAccessorImpl.invoke(Unknown Source)\r\n\tat sun.reflect.DelegatingMethodAccessorImpl.invoke(Unknown Source)\r\n\tat java.lang.reflect.Method.invoke(Unknown Source)\r\n\tat py4j.reflection.MethodInvoker.invoke(MethodInvoker.java:237)\r\n\tat py4j.reflection.ReflectionEngine.invoke(ReflectionEngine.java:357)\r\n\tat py4j.Gateway.invoke(Gateway.java:280)\r\n\tat py4j.commands.AbstractCommand.invokeMethod(AbstractCommand.java:128)\r\n\tat py4j.commands.CallCommand.execute(CallCommand.java:79)\r\n\tat py4j.GatewayConnection.run(GatewayConnection.java:211)\r\n\tat java.lang.Thread.run(Unknown Source)\r\nCaused by: org.apache.spark.api.python.PythonException: Traceback (most recent call last):\n  File \"C:\\spark\\python\\lib\\pyspark.zip\\pyspark\\worker.py\", line 172, in main\n  File \"C:\\spark\\python\\lib\\pyspark.zip\\pyspark\\worker.py\", line 167, in process\n  File \"C:\\spark\\python\\lib\\pyspark.zip\\pyspark\\serializers.py\", line 263, in dump_stream\n    vs = list(itertools.islice(iterator, batch))\nTypeError: 'int' object is not iterable\n\r\n\tat org.apache.spark.api.python.PythonRunner$$anon$1.read(PythonRDD.scala:193)\r\n\tat org.apache.spark.api.python.PythonRunner$$anon$1.<init>(PythonRDD.scala:234)\r\n\tat org.apache.spark.api.python.PythonRunner.compute(PythonRDD.scala:152)\r\n\tat org.apache.spark.api.python.PythonRDD.compute(PythonRDD.scala:63)\r\n\tat org.apache.spark.rdd.RDD.computeOrReadCheckpoint(RDD.scala:319)\r\n\tat org.apache.spark.rdd.RDD.iterator(RDD.scala:283)\r\n\tat org.apache.spark.scheduler.ResultTask.runTask(ResultTask.scala:70)\r\n\tat org.apache.spark.scheduler.Task.run(Task.scala:85)\r\n\tat org.apache.spark.executor.Executor$TaskRunner.run(Executor.scala:274)\r\n\tat java.util.concurrent.ThreadPoolExecutor.runWorker(Unknown Source)\r\n\tat java.util.concurrent.ThreadPoolExecutor$Worker.run(Unknown Source)\r\n\t... 1 more\r\n",
     "output_type": "error",
     "traceback": [
      "\u001b[0;31m---------------------------------------------------------------------------\u001b[0m",
      "\u001b[0;31mPy4JJavaError\u001b[0m                             Traceback (most recent call last)",
      "\u001b[0;32m<ipython-input-8-9e3377defe2f>\u001b[0m in \u001b[0;36m<module>\u001b[0;34m()\u001b[0m\n\u001b[1;32m      1\u001b[0m \u001b[0mnums\u001b[0m \u001b[1;33m=\u001b[0m \u001b[0msc\u001b[0m\u001b[1;33m.\u001b[0m\u001b[0mparallelize\u001b[0m\u001b[1;33m(\u001b[0m\u001b[1;33m[\u001b[0m\u001b[1;36m1\u001b[0m\u001b[1;33m,\u001b[0m\u001b[1;36m2\u001b[0m\u001b[1;33m,\u001b[0m\u001b[1;36m3\u001b[0m\u001b[1;33m,\u001b[0m\u001b[1;36m4\u001b[0m\u001b[1;33m,\u001b[0m\u001b[1;36m5\u001b[0m\u001b[1;33m,\u001b[0m\u001b[1;36m6\u001b[0m\u001b[1;33m]\u001b[0m\u001b[1;33m)\u001b[0m\u001b[1;33m\u001b[0m\u001b[0m\n\u001b[0;32m----> 2\u001b[0;31m \u001b[0msquared\u001b[0m \u001b[1;33m=\u001b[0m \u001b[0mnums\u001b[0m\u001b[1;33m.\u001b[0m\u001b[0mflatMap\u001b[0m\u001b[1;33m(\u001b[0m\u001b[1;32mlambda\u001b[0m \u001b[0mx\u001b[0m\u001b[1;33m:\u001b[0m\u001b[0mx\u001b[0m\u001b[1;33m*\u001b[0m\u001b[0mx\u001b[0m\u001b[1;33m)\u001b[0m\u001b[1;33m.\u001b[0m\u001b[0mcollect\u001b[0m\u001b[1;33m(\u001b[0m\u001b[1;33m)\u001b[0m\u001b[1;33m\u001b[0m\u001b[0m\n\u001b[0m\u001b[1;32m      3\u001b[0m \u001b[1;32mfor\u001b[0m \u001b[0mnum\u001b[0m \u001b[1;32min\u001b[0m \u001b[0msquared\u001b[0m\u001b[1;33m:\u001b[0m\u001b[1;33m\u001b[0m\u001b[0m\n\u001b[1;32m      4\u001b[0m     \u001b[0mprint\u001b[0m\u001b[1;33m(\u001b[0m\u001b[1;34m'%x'\u001b[0m\u001b[1;33m%\u001b[0m\u001b[1;33m(\u001b[0m\u001b[0mnum\u001b[0m\u001b[1;33m)\u001b[0m\u001b[1;33m)\u001b[0m\u001b[1;33m\u001b[0m\u001b[0m\n",
      "\u001b[0;32mC:\\spark\\python\\lib\\pyspark.zip\\pyspark\\rdd.py\u001b[0m in \u001b[0;36mcollect\u001b[0;34m(self)\u001b[0m\n\u001b[1;32m    774\u001b[0m         \"\"\"\n\u001b[1;32m    775\u001b[0m         \u001b[1;32mwith\u001b[0m \u001b[0mSCCallSiteSync\u001b[0m\u001b[1;33m(\u001b[0m\u001b[0mself\u001b[0m\u001b[1;33m.\u001b[0m\u001b[0mcontext\u001b[0m\u001b[1;33m)\u001b[0m \u001b[1;32mas\u001b[0m \u001b[0mcss\u001b[0m\u001b[1;33m:\u001b[0m\u001b[1;33m\u001b[0m\u001b[0m\n\u001b[0;32m--> 776\u001b[0;31m             \u001b[0mport\u001b[0m \u001b[1;33m=\u001b[0m \u001b[0mself\u001b[0m\u001b[1;33m.\u001b[0m\u001b[0mctx\u001b[0m\u001b[1;33m.\u001b[0m\u001b[0m_jvm\u001b[0m\u001b[1;33m.\u001b[0m\u001b[0mPythonRDD\u001b[0m\u001b[1;33m.\u001b[0m\u001b[0mcollectAndServe\u001b[0m\u001b[1;33m(\u001b[0m\u001b[0mself\u001b[0m\u001b[1;33m.\u001b[0m\u001b[0m_jrdd\u001b[0m\u001b[1;33m.\u001b[0m\u001b[0mrdd\u001b[0m\u001b[1;33m(\u001b[0m\u001b[1;33m)\u001b[0m\u001b[1;33m)\u001b[0m\u001b[1;33m\u001b[0m\u001b[0m\n\u001b[0m\u001b[1;32m    777\u001b[0m         \u001b[1;32mreturn\u001b[0m \u001b[0mlist\u001b[0m\u001b[1;33m(\u001b[0m\u001b[0m_load_from_socket\u001b[0m\u001b[1;33m(\u001b[0m\u001b[0mport\u001b[0m\u001b[1;33m,\u001b[0m \u001b[0mself\u001b[0m\u001b[1;33m.\u001b[0m\u001b[0m_jrdd_deserializer\u001b[0m\u001b[1;33m)\u001b[0m\u001b[1;33m)\u001b[0m\u001b[1;33m\u001b[0m\u001b[0m\n\u001b[1;32m    778\u001b[0m \u001b[1;33m\u001b[0m\u001b[0m\n",
      "\u001b[0;32mC:\\spark\\python\\lib\\py4j-0.10.1-src.zip\\py4j\\java_gateway.py\u001b[0m in \u001b[0;36m__call__\u001b[0;34m(self, *args)\u001b[0m\n\u001b[1;32m    931\u001b[0m         \u001b[0manswer\u001b[0m \u001b[1;33m=\u001b[0m \u001b[0mself\u001b[0m\u001b[1;33m.\u001b[0m\u001b[0mgateway_client\u001b[0m\u001b[1;33m.\u001b[0m\u001b[0msend_command\u001b[0m\u001b[1;33m(\u001b[0m\u001b[0mcommand\u001b[0m\u001b[1;33m)\u001b[0m\u001b[1;33m\u001b[0m\u001b[0m\n\u001b[1;32m    932\u001b[0m         return_value = get_return_value(\n\u001b[0;32m--> 933\u001b[0;31m             answer, self.gateway_client, self.target_id, self.name)\n\u001b[0m\u001b[1;32m    934\u001b[0m \u001b[1;33m\u001b[0m\u001b[0m\n\u001b[1;32m    935\u001b[0m         \u001b[1;32mfor\u001b[0m \u001b[0mtemp_arg\u001b[0m \u001b[1;32min\u001b[0m \u001b[0mtemp_args\u001b[0m\u001b[1;33m:\u001b[0m\u001b[1;33m\u001b[0m\u001b[0m\n",
      "\u001b[0;32mC:\\spark\\python\\lib\\py4j-0.10.1-src.zip\\py4j\\protocol.py\u001b[0m in \u001b[0;36mget_return_value\u001b[0;34m(answer, gateway_client, target_id, name)\u001b[0m\n\u001b[1;32m    310\u001b[0m                 raise Py4JJavaError(\n\u001b[1;32m    311\u001b[0m                     \u001b[1;34m\"An error occurred while calling {0}{1}{2}.\\n\"\u001b[0m\u001b[1;33m.\u001b[0m\u001b[1;33m\u001b[0m\u001b[0m\n\u001b[0;32m--> 312\u001b[0;31m                     format(target_id, \".\", name), value)\n\u001b[0m\u001b[1;32m    313\u001b[0m             \u001b[1;32melse\u001b[0m\u001b[1;33m:\u001b[0m\u001b[1;33m\u001b[0m\u001b[0m\n\u001b[1;32m    314\u001b[0m                 raise Py4JError(\n",
      "\u001b[0;31mPy4JJavaError\u001b[0m: An error occurred while calling z:org.apache.spark.api.python.PythonRDD.collectAndServe.\n: org.apache.spark.SparkException: Job aborted due to stage failure: Task 0 in stage 3.0 failed 1 times, most recent failure: Lost task 0.0 in stage 3.0 (TID 3, localhost): org.apache.spark.api.python.PythonException: Traceback (most recent call last):\n  File \"C:\\spark\\python\\lib\\pyspark.zip\\pyspark\\worker.py\", line 172, in main\n  File \"C:\\spark\\python\\lib\\pyspark.zip\\pyspark\\worker.py\", line 167, in process\n  File \"C:\\spark\\python\\lib\\pyspark.zip\\pyspark\\serializers.py\", line 263, in dump_stream\n    vs = list(itertools.islice(iterator, batch))\nTypeError: 'int' object is not iterable\n\r\n\tat org.apache.spark.api.python.PythonRunner$$anon$1.read(PythonRDD.scala:193)\r\n\tat org.apache.spark.api.python.PythonRunner$$anon$1.<init>(PythonRDD.scala:234)\r\n\tat org.apache.spark.api.python.PythonRunner.compute(PythonRDD.scala:152)\r\n\tat org.apache.spark.api.python.PythonRDD.compute(PythonRDD.scala:63)\r\n\tat org.apache.spark.rdd.RDD.computeOrReadCheckpoint(RDD.scala:319)\r\n\tat org.apache.spark.rdd.RDD.iterator(RDD.scala:283)\r\n\tat org.apache.spark.scheduler.ResultTask.runTask(ResultTask.scala:70)\r\n\tat org.apache.spark.scheduler.Task.run(Task.scala:85)\r\n\tat org.apache.spark.executor.Executor$TaskRunner.run(Executor.scala:274)\r\n\tat java.util.concurrent.ThreadPoolExecutor.runWorker(Unknown Source)\r\n\tat java.util.concurrent.ThreadPoolExecutor$Worker.run(Unknown Source)\r\n\tat java.lang.Thread.run(Unknown Source)\r\n\nDriver stacktrace:\r\n\tat org.apache.spark.scheduler.DAGScheduler.org$apache$spark$scheduler$DAGScheduler$$failJobAndIndependentStages(DAGScheduler.scala:1450)\r\n\tat org.apache.spark.scheduler.DAGScheduler$$anonfun$abortStage$1.apply(DAGScheduler.scala:1438)\r\n\tat org.apache.spark.scheduler.DAGScheduler$$anonfun$abortStage$1.apply(DAGScheduler.scala:1437)\r\n\tat scala.collection.mutable.ResizableArray$class.foreach(ResizableArray.scala:59)\r\n\tat scala.collection.mutable.ArrayBuffer.foreach(ArrayBuffer.scala:48)\r\n\tat org.apache.spark.scheduler.DAGScheduler.abortStage(DAGScheduler.scala:1437)\r\n\tat org.apache.spark.scheduler.DAGScheduler$$anonfun$handleTaskSetFailed$1.apply(DAGScheduler.scala:811)\r\n\tat org.apache.spark.scheduler.DAGScheduler$$anonfun$handleTaskSetFailed$1.apply(DAGScheduler.scala:811)\r\n\tat scala.Option.foreach(Option.scala:257)\r\n\tat org.apache.spark.scheduler.DAGScheduler.handleTaskSetFailed(DAGScheduler.scala:811)\r\n\tat org.apache.spark.scheduler.DAGSchedulerEventProcessLoop.doOnReceive(DAGScheduler.scala:1659)\r\n\tat org.apache.spark.scheduler.DAGSchedulerEventProcessLoop.onReceive(DAGScheduler.scala:1618)\r\n\tat org.apache.spark.scheduler.DAGSchedulerEventProcessLoop.onReceive(DAGScheduler.scala:1607)\r\n\tat org.apache.spark.util.EventLoop$$anon$1.run(EventLoop.scala:48)\r\n\tat org.apache.spark.scheduler.DAGScheduler.runJob(DAGScheduler.scala:632)\r\n\tat org.apache.spark.SparkContext.runJob(SparkContext.scala:1871)\r\n\tat org.apache.spark.SparkContext.runJob(SparkContext.scala:1884)\r\n\tat org.apache.spark.SparkContext.runJob(SparkContext.scala:1897)\r\n\tat org.apache.spark.SparkContext.runJob(SparkContext.scala:1911)\r\n\tat org.apache.spark.rdd.RDD$$anonfun$collect$1.apply(RDD.scala:893)\r\n\tat org.apache.spark.rdd.RDDOperationScope$.withScope(RDDOperationScope.scala:151)\r\n\tat org.apache.spark.rdd.RDDOperationScope$.withScope(RDDOperationScope.scala:112)\r\n\tat org.apache.spark.rdd.RDD.withScope(RDD.scala:358)\r\n\tat org.apache.spark.rdd.RDD.collect(RDD.scala:892)\r\n\tat org.apache.spark.api.python.PythonRDD$.collectAndServe(PythonRDD.scala:453)\r\n\tat org.apache.spark.api.python.PythonRDD.collectAndServe(PythonRDD.scala)\r\n\tat sun.reflect.NativeMethodAccessorImpl.invoke0(Native Method)\r\n\tat sun.reflect.NativeMethodAccessorImpl.invoke(Unknown Source)\r\n\tat sun.reflect.DelegatingMethodAccessorImpl.invoke(Unknown Source)\r\n\tat java.lang.reflect.Method.invoke(Unknown Source)\r\n\tat py4j.reflection.MethodInvoker.invoke(MethodInvoker.java:237)\r\n\tat py4j.reflection.ReflectionEngine.invoke(ReflectionEngine.java:357)\r\n\tat py4j.Gateway.invoke(Gateway.java:280)\r\n\tat py4j.commands.AbstractCommand.invokeMethod(AbstractCommand.java:128)\r\n\tat py4j.commands.CallCommand.execute(CallCommand.java:79)\r\n\tat py4j.GatewayConnection.run(GatewayConnection.java:211)\r\n\tat java.lang.Thread.run(Unknown Source)\r\nCaused by: org.apache.spark.api.python.PythonException: Traceback (most recent call last):\n  File \"C:\\spark\\python\\lib\\pyspark.zip\\pyspark\\worker.py\", line 172, in main\n  File \"C:\\spark\\python\\lib\\pyspark.zip\\pyspark\\worker.py\", line 167, in process\n  File \"C:\\spark\\python\\lib\\pyspark.zip\\pyspark\\serializers.py\", line 263, in dump_stream\n    vs = list(itertools.islice(iterator, batch))\nTypeError: 'int' object is not iterable\n\r\n\tat org.apache.spark.api.python.PythonRunner$$anon$1.read(PythonRDD.scala:193)\r\n\tat org.apache.spark.api.python.PythonRunner$$anon$1.<init>(PythonRDD.scala:234)\r\n\tat org.apache.spark.api.python.PythonRunner.compute(PythonRDD.scala:152)\r\n\tat org.apache.spark.api.python.PythonRDD.compute(PythonRDD.scala:63)\r\n\tat org.apache.spark.rdd.RDD.computeOrReadCheckpoint(RDD.scala:319)\r\n\tat org.apache.spark.rdd.RDD.iterator(RDD.scala:283)\r\n\tat org.apache.spark.scheduler.ResultTask.runTask(ResultTask.scala:70)\r\n\tat org.apache.spark.scheduler.Task.run(Task.scala:85)\r\n\tat org.apache.spark.executor.Executor$TaskRunner.run(Executor.scala:274)\r\n\tat java.util.concurrent.ThreadPoolExecutor.runWorker(Unknown Source)\r\n\tat java.util.concurrent.ThreadPoolExecutor$Worker.run(Unknown Source)\r\n\t... 1 more\r\n"
     ]
    }
   ],
   "source": [
    "nums = sc.parallelize([1,2,3,4,5,6])\n",
    "squared = nums.flatMap(lambda x:x*x).collect()\n",
    "for num in squared:\n",
    "    print('%x'%(num))"
   ]
  },
  {
   "cell_type": "code",
   "execution_count": 7,
   "metadata": {
    "collapsed": false
   },
   "outputs": [
    {
     "data": {
      "text/plain": [
       "'hello'"
      ]
     },
     "execution_count": 7,
     "metadata": {},
     "output_type": "execute_result"
    }
   ],
   "source": [
    "lines = sc.parallelize([\"hello world\", \"hi\"])\n",
    "words = lines.flatMap(lambda line: line.split(\" \"))\n",
    "words.first() #returns hello"
   ]
  },
  {
   "cell_type": "code",
   "execution_count": 2,
   "metadata": {
    "collapsed": true
   },
   "outputs": [],
   "source": [
    "one = sc.parallelize({(0,1),(2,3),(4,5),(6,7),(8,9)})\n",
    "two = sc.parallelize({(11,12),(13,14),(15,16),(17,18),(19,20)})"
   ]
  },
  {
   "cell_type": "code",
   "execution_count": 3,
   "metadata": {
    "collapsed": false
   },
   "outputs": [
    {
     "data": {
      "text/plain": [
       "[(8, 9), (4, 5), (6, 7), (0, 1), (2, 3)]"
      ]
     },
     "execution_count": 3,
     "metadata": {},
     "output_type": "execute_result"
    }
   ],
   "source": [
    "one.collect()"
   ]
  },
  {
   "cell_type": "code",
   "execution_count": 11,
   "metadata": {
    "collapsed": false
   },
   "outputs": [
    {
     "data": {
      "text/plain": [
       "[(8, <pyspark.resultiterable.ResultIterable at 0xdddce52cf8>),\n",
       " (0, <pyspark.resultiterable.ResultIterable at 0xdddce528d0>),\n",
       " (2, <pyspark.resultiterable.ResultIterable at 0xdddce52ba8>),\n",
       " (4, <pyspark.resultiterable.ResultIterable at 0xdddce529e8>),\n",
       " (6, <pyspark.resultiterable.ResultIterable at 0xdddce52b70>)]"
      ]
     },
     "execution_count": 11,
     "metadata": {},
     "output_type": "execute_result"
    }
   ],
   "source": [
    "one.groupByKey().collect()"
   ]
  },
  {
   "cell_type": "code",
   "execution_count": 9,
   "metadata": {
    "collapsed": false
   },
   "outputs": [
    {
     "data": {
      "text/plain": [
       "PythonRDD[8] at RDD at PythonRDD.scala:48"
      ]
     },
     "execution_count": 9,
     "metadata": {},
     "output_type": "execute_result"
    }
   ],
   "source": [
    "one.flatMapValues(lambda ones:print(ones.collect()))"
   ]
  },
  {
   "cell_type": "code",
   "execution_count": 13,
   "metadata": {
    "collapsed": false
   },
   "outputs": [
    {
     "data": {
      "text/plain": [
       "[8, 4, 6, 0, 2]"
      ]
     },
     "execution_count": 13,
     "metadata": {},
     "output_type": "execute_result"
    }
   ],
   "source": [
    "one.keys().collect()"
   ]
  },
  {
   "cell_type": "code",
   "execution_count": 14,
   "metadata": {
    "collapsed": false
   },
   "outputs": [
    {
     "data": {
      "text/plain": [
       "[9, 5, 7, 1, 3]"
      ]
     },
     "execution_count": 14,
     "metadata": {},
     "output_type": "execute_result"
    }
   ],
   "source": [
    "one.values().collect()"
   ]
  },
  {
   "cell_type": "code",
   "execution_count": 16,
   "metadata": {
    "collapsed": false
   },
   "outputs": [
    {
     "data": {
      "text/plain": [
       "[]"
      ]
     },
     "execution_count": 16,
     "metadata": {},
     "output_type": "execute_result"
    }
   ],
   "source": [
    "one.join(two).collect()"
   ]
  },
  {
   "cell_type": "code",
   "execution_count": 18,
   "metadata": {
    "collapsed": false
   },
   "outputs": [
    {
     "data": {
      "text/plain": [
       "[(8, (9, None)),\n",
       " (0, (1, None)),\n",
       " (2, (3, None)),\n",
       " (4, (5, None)),\n",
       " (6, (7, None))]"
      ]
     },
     "execution_count": 18,
     "metadata": {},
     "output_type": "execute_result"
    }
   ],
   "source": [
    "one.leftOuterJoin(two).collect()"
   ]
  },
  {
   "cell_type": "code",
   "execution_count": 19,
   "metadata": {
    "collapsed": false
   },
   "outputs": [
    {
     "data": {
      "text/plain": [
       "[(11, (None, 12)),\n",
       " (17, (None, 18)),\n",
       " (19, (None, 20)),\n",
       " (13, (None, 14)),\n",
       " (15, (None, 16))]"
      ]
     },
     "execution_count": 19,
     "metadata": {},
     "output_type": "execute_result"
    }
   ],
   "source": [
    "one.rightOuterJoin(two).collect()"
   ]
  },
  {
   "cell_type": "code",
   "execution_count": 20,
   "metadata": {
    "collapsed": false
   },
   "outputs": [
    {
     "data": {
      "text/plain": [
       "[(8, 9), (0, 1), (2, 3), (4, 5), (6, 7)]"
      ]
     },
     "execution_count": 20,
     "metadata": {},
     "output_type": "execute_result"
    }
   ],
   "source": [
    "one.subtractByKey(two).collect()"
   ]
  },
  {
   "cell_type": "code",
   "execution_count": 21,
   "metadata": {
    "collapsed": false
   },
   "outputs": [
    {
     "data": {
      "text/plain": [
       "[(8,\n",
       "  (<pyspark.resultiterable.ResultIterable at 0xdddb63b4e0>,\n",
       "   <pyspark.resultiterable.ResultIterable at 0xdddb63bc88>)),\n",
       " (0,\n",
       "  (<pyspark.resultiterable.ResultIterable at 0xdddb63b9b0>,\n",
       "   <pyspark.resultiterable.ResultIterable at 0xdddb63b5c0>)),\n",
       " (2,\n",
       "  (<pyspark.resultiterable.ResultIterable at 0xdddb63b6d8>,\n",
       "   <pyspark.resultiterable.ResultIterable at 0xdddb63b710>)),\n",
       " (4,\n",
       "  (<pyspark.resultiterable.ResultIterable at 0xdddb63b7f0>,\n",
       "   <pyspark.resultiterable.ResultIterable at 0xdddb63b9e8>)),\n",
       " (6,\n",
       "  (<pyspark.resultiterable.ResultIterable at 0xdddb63b160>,\n",
       "   <pyspark.resultiterable.ResultIterable at 0xdddb63b748>)),\n",
       " (11,\n",
       "  (<pyspark.resultiterable.ResultIterable at 0xdddb63b390>,\n",
       "   <pyspark.resultiterable.ResultIterable at 0xddd6b3f0b8>)),\n",
       " (17,\n",
       "  (<pyspark.resultiterable.ResultIterable at 0xdddb63b978>,\n",
       "   <pyspark.resultiterable.ResultIterable at 0xdddb62da20>)),\n",
       " (19,\n",
       "  (<pyspark.resultiterable.ResultIterable at 0xdddb62db38>,\n",
       "   <pyspark.resultiterable.ResultIterable at 0xdddb62d438>)),\n",
       " (13,\n",
       "  (<pyspark.resultiterable.ResultIterable at 0xdddb63b588>,\n",
       "   <pyspark.resultiterable.ResultIterable at 0xdddb62df60>)),\n",
       " (15,\n",
       "  (<pyspark.resultiterable.ResultIterable at 0xdddb62dc18>,\n",
       "   <pyspark.resultiterable.ResultIterable at 0xdddb62d390>))]"
      ]
     },
     "execution_count": 21,
     "metadata": {},
     "output_type": "execute_result"
    }
   ],
   "source": [
    "one.cogroup(two).collect()"
   ]
  },
  {
   "cell_type": "code",
   "execution_count": 2,
   "metadata": {
    "collapsed": true
   },
   "outputs": [],
   "source": [
    "iris = sc.textFile(r'C:Users\\jeffnerd\\Desktop')"
   ]
  },
  {
   "cell_type": "code",
   "execution_count": 12,
   "metadata": {
    "collapsed": true
   },
   "outputs": [],
   "source": [
    "rows = iris.map(lambda x:x.split(\",\"))"
   ]
  },
  {
   "cell_type": "code",
   "execution_count": 2,
   "metadata": {
    "collapsed": true
   },
   "outputs": [],
   "source": [
    "nums = sc.parallelize({(1,2),(3,4),(5,6),(7,8),(9,10)})"
   ]
  },
  {
   "cell_type": "code",
   "execution_count": 3,
   "metadata": {
    "collapsed": true
   },
   "outputs": [],
   "source": [
    "sumCount = nums.combineByKey((lambda x: (x,1)),\n",
    "           (lambda x, y: (x[0] + y, x[1] + 1)),\n",
    "           (lambda x, y: (x[0] + y[0], x[1] + y[1])))"
   ]
  },
  {
   "cell_type": "code",
   "execution_count": 5,
   "metadata": {
    "collapsed": false
   },
   "outputs": [
    {
     "data": {
      "text/plain": [
       "1"
      ]
     },
     "execution_count": 5,
     "metadata": {},
     "output_type": "execute_result"
    }
   ],
   "source": [
    "nums.getNumPartitions()"
   ]
  },
  {
   "cell_type": "code",
   "execution_count": null,
   "metadata": {
    "collapsed": true
   },
   "outputs": [],
   "source": [
    "sumCount.map(lambda key, xy: (key, xy[0]/xy[1])).collectAsMap()"
   ]
  },
  {
   "cell_type": "code",
   "execution_count": 2,
   "metadata": {
    "collapsed": true
   },
   "outputs": [],
   "source": [
    "#creating key/value pairs\n",
    "dic = sc.parallelize({(\"panda\",0),(\"pink\",3),(\"pirate\",3),(\"panda\",1),(\"pink\",4)})"
   ]
  },
  {
   "cell_type": "code",
   "execution_count": 4,
   "metadata": {
    "collapsed": false
   },
   "outputs": [
    {
     "data": {
      "text/plain": [
       "[('panda', (1, 2)), ('pink', (7, 2)), ('pirate', (3, 1))]"
      ]
     },
     "execution_count": 4,
     "metadata": {},
     "output_type": "execute_result"
    }
   ],
   "source": [
    "dic.mapValues(lambda x:(x,1)).reduceByKey(lambda x,y:(x[0]+y[0],x[1]+y[1])).collect()"
   ]
  },
  {
   "cell_type": "code",
   "execution_count": 5,
   "metadata": {
    "collapsed": true
   },
   "outputs": [],
   "source": [
    "nums = sc.parallelize([1, 2, 3, 4])"
   ]
  },
  {
   "cell_type": "code",
   "execution_count": 8,
   "metadata": {
    "collapsed": false
   },
   "outputs": [
    {
     "data": {
      "text/plain": [
       "[2, 3, 4, 5]"
      ]
     },
     "execution_count": 8,
     "metadata": {},
     "output_type": "execute_result"
    }
   ],
   "source": [
    "nums.map(lambda x:x+1).collect()"
   ]
  },
  {
   "cell_type": "code",
   "execution_count": 9,
   "metadata": {
    "collapsed": true
   },
   "outputs": [],
   "source": [
    "sumCount = dic.combineByKey((lambda x: (x,1)),\n",
    "(lambda x, y: (x[0] + y, x[1] + 1)),\n",
    "(lambda x, y: (x[0] + y[0], x[1] + y[1])))"
   ]
  },
  {
   "cell_type": "code",
   "execution_count": null,
   "metadata": {
    "collapsed": true
   },
   "outputs": [],
   "source": [
    "sumCount.map(lambda key, xy: (key, xy[0]/xy[1])).collectAsMap()"
   ]
  },
  {
   "cell_type": "code",
   "execution_count": null,
   "metadata": {
    "collapsed": true
   },
   "outputs": [],
   "source": [
    "#Default parallellism\n",
    "data = [(\"a\", 3), (\"b\", 4), (\"a\", 1)]\n",
    "sc.parallelize(data).reduceByKey(lambda x, y: x + y) # Default parallelism\n",
    "sc.parallelize(data).reduceByKey(lambda x, y: x + y, 10) # Custom parallelism"
   ]
  },
  {
   "cell_type": "code",
   "execution_count": 11,
   "metadata": {
    "collapsed": true
   },
   "outputs": [],
   "source": [
    "data = [(\"a\", 3), (\"b\", 4), (\"a\", 1)]"
   ]
  },
  {
   "cell_type": "code",
   "execution_count": 12,
   "metadata": {
    "collapsed": false
   },
   "outputs": [
    {
     "data": {
      "text/plain": [
       "[('a', 4), ('b', 4)]"
      ]
     },
     "execution_count": 12,
     "metadata": {},
     "output_type": "execute_result"
    }
   ],
   "source": [
    "sc.parallelize(data).reduceByKey(lambda x, y: x + y).collect()"
   ]
  },
  {
   "cell_type": "code",
   "execution_count": 13,
   "metadata": {
    "collapsed": false
   },
   "outputs": [
    {
     "data": {
      "text/plain": [
       "[('b', 4), ('a', 4)]"
      ]
     },
     "execution_count": 13,
     "metadata": {},
     "output_type": "execute_result"
    }
   ],
   "source": [
    "sc.parallelize(data).reduceByKey(lambda x, y: x + y, 10).collect()"
   ]
  },
  {
   "cell_type": "code",
   "execution_count": 14,
   "metadata": {
    "collapsed": false
   },
   "outputs": [
    {
     "data": {
      "text/plain": [
       "defaultdict(int, {'a': 1, 'b': 1})"
      ]
     },
     "execution_count": 14,
     "metadata": {},
     "output_type": "execute_result"
    }
   ],
   "source": [
    "sc.parallelize(data).reduceByKey(lambda x, y: x + y, 10).countByKey()"
   ]
  },
  {
   "cell_type": "code",
   "execution_count": 15,
   "metadata": {
    "collapsed": false
   },
   "outputs": [
    {
     "data": {
      "text/plain": [
       "{'a': 4, 'b': 4}"
      ]
     },
     "execution_count": 15,
     "metadata": {},
     "output_type": "execute_result"
    }
   ],
   "source": [
    "sc.parallelize(data).reduceByKey(lambda x, y: x + y, 10).collectAsMap()"
   ]
  },
  {
   "cell_type": "code",
   "execution_count": 18,
   "metadata": {
    "collapsed": false
   },
   "outputs": [
    {
     "ename": "NameError",
     "evalue": "name 'a' is not defined",
     "output_type": "error",
     "traceback": [
      "\u001b[0;31m---------------------------------------------------------------------------\u001b[0m",
      "\u001b[0;31mNameError\u001b[0m                                 Traceback (most recent call last)",
      "\u001b[0;32m<ipython-input-18-5d6c5427b4a8>\u001b[0m in \u001b[0;36m<module>\u001b[0;34m()\u001b[0m\n\u001b[0;32m----> 1\u001b[0;31m \u001b[0msc\u001b[0m\u001b[1;33m.\u001b[0m\u001b[0mparallelize\u001b[0m\u001b[1;33m(\u001b[0m\u001b[0mdata\u001b[0m\u001b[1;33m)\u001b[0m\u001b[1;33m.\u001b[0m\u001b[0mreduceByKey\u001b[0m\u001b[1;33m(\u001b[0m\u001b[1;32mlambda\u001b[0m \u001b[0mx\u001b[0m\u001b[1;33m,\u001b[0m \u001b[0my\u001b[0m\u001b[1;33m:\u001b[0m \u001b[0mx\u001b[0m \u001b[1;33m+\u001b[0m \u001b[0my\u001b[0m\u001b[1;33m,\u001b[0m \u001b[1;36m10\u001b[0m\u001b[1;33m)\u001b[0m\u001b[1;33m.\u001b[0m\u001b[0mlookup\u001b[0m\u001b[1;33m(\u001b[0m\u001b[0ma\u001b[0m\u001b[1;33m)\u001b[0m\u001b[1;33m\u001b[0m\u001b[0m\n\u001b[0m",
      "\u001b[0;31mNameError\u001b[0m: name 'a' is not defined"
     ]
    }
   ],
   "source": [
    "sc.parallelize(data).reduceByKey(lambda x, y: x + y, 10).lookup(a)"
   ]
  },
  {
   "cell_type": "code",
   "execution_count": null,
   "metadata": {
    "collapsed": true
   },
   "outputs": [],
   "source": []
  }
 ],
 "metadata": {
  "anaconda-cloud": {},
  "kernelspec": {
   "display_name": "Python [conda root]",
   "language": "python",
   "name": "conda-root-py"
  },
  "language_info": {
   "codemirror_mode": {
    "name": "ipython",
    "version": 3
   },
   "file_extension": ".py",
   "mimetype": "text/x-python",
   "name": "python",
   "nbconvert_exporter": "python",
   "pygments_lexer": "ipython3",
   "version": "3.5.2"
  },
  "nbpresent": {
   "slides": {
    "106907c5-6368-40b0-8529-386204f1cb00": {
     "id": "106907c5-6368-40b0-8529-386204f1cb00",
     "prev": "99e306ac-61a4-4e57-b861-147d647f8874",
     "regions": {
      "e3626d64-ff01-4fe4-a7c2-8e747201875a": {
       "attrs": {
        "height": 0.8,
        "width": 0.8,
        "x": 0.1,
        "y": 0.1
       },
       "content": {
        "cell": "491a29d6-517d-427a-9bec-91f149aec158",
        "part": "whole"
       },
       "id": "e3626d64-ff01-4fe4-a7c2-8e747201875a"
      }
     }
    },
    "1b0fd42c-9e65-40f2-b40c-d436a4d18e7b": {
     "id": "1b0fd42c-9e65-40f2-b40c-d436a4d18e7b",
     "prev": "e79c3d31-f779-4dfd-b3e6-7a9912958062",
     "regions": {
      "fedefe61-9e99-41ae-a53f-b594d0c78005": {
       "attrs": {
        "height": 0.8,
        "width": 0.8,
        "x": 0.1,
        "y": 0.1
       },
       "content": {
        "cell": "56403cff-8f1c-400b-958f-2981ccfda940",
        "part": "whole"
       },
       "id": "fedefe61-9e99-41ae-a53f-b594d0c78005"
      }
     }
    },
    "3101ac78-0032-472c-a878-73cf80719592": {
     "id": "3101ac78-0032-472c-a878-73cf80719592",
     "prev": "1b0fd42c-9e65-40f2-b40c-d436a4d18e7b",
     "regions": {
      "6cd5908c-a3ee-4845-a539-c1af211a01fd": {
       "attrs": {
        "height": 0.8,
        "width": 0.8,
        "x": 0.1,
        "y": 0.1
       },
       "content": {
        "cell": "4ae30832-5782-4200-84f9-f1478b679dc3",
        "part": "whole"
       },
       "id": "6cd5908c-a3ee-4845-a539-c1af211a01fd"
      }
     }
    },
    "3a7cf096-ce0e-4e19-95c0-1b1f95b47503": {
     "id": "3a7cf096-ce0e-4e19-95c0-1b1f95b47503",
     "prev": "eefa0406-f693-411a-8235-9a984f2495b6",
     "regions": {
      "dcfad082-7dd6-4360-a968-419d0cf98fe9": {
       "attrs": {
        "height": 0.8,
        "width": 0.8,
        "x": 0.1,
        "y": 0.1
       },
       "content": {
        "cell": "31ca11f3-60d0-4d71-aea8-49bfdaaec6c0",
        "part": "whole"
       },
       "id": "dcfad082-7dd6-4360-a968-419d0cf98fe9"
      }
     }
    },
    "45bf6535-2c96-4efd-9f95-27acc9c0002b": {
     "id": "45bf6535-2c96-4efd-9f95-27acc9c0002b",
     "prev": "3a7cf096-ce0e-4e19-95c0-1b1f95b47503",
     "regions": {
      "4055774c-df39-439b-8f9c-eb9c5aa981d9": {
       "attrs": {
        "height": 0.8,
        "width": 0.8,
        "x": 0.1,
        "y": 0.1
       },
       "content": {
        "cell": "6ee12bbd-baf7-4810-ae4b-a3706b0caaa7",
        "part": "whole"
       },
       "id": "4055774c-df39-439b-8f9c-eb9c5aa981d9"
      }
     }
    },
    "46055250-7685-4dc7-a2e2-8ce5be4b0e4f": {
     "id": "46055250-7685-4dc7-a2e2-8ce5be4b0e4f",
     "prev": "c938f7ed-5d9f-41f6-ba03-b3bbefce78cc",
     "regions": {
      "48832c9a-5996-4fe9-94d0-9bb37232cb11": {
       "attrs": {
        "height": 0.8,
        "width": 0.8,
        "x": 0.1,
        "y": 0.1
       },
       "content": {
        "cell": "3dc19183-f166-4cef-86c0-4df9a7fc6784",
        "part": "whole"
       },
       "id": "48832c9a-5996-4fe9-94d0-9bb37232cb11"
      }
     }
    },
    "5758641e-2f91-4704-a8bc-12e5bf8f6cd2": {
     "id": "5758641e-2f91-4704-a8bc-12e5bf8f6cd2",
     "prev": "96cca60e-4137-405a-b689-fc1a94746597",
     "regions": {
      "0b9427ac-d86c-48a6-bae4-28c40dbd8358": {
       "attrs": {
        "height": 0.8,
        "width": 0.8,
        "x": 0.1,
        "y": 0.1
       },
       "content": {
        "cell": "d41f52b4-8b76-4ad1-85bd-ea5eeed0a0f9",
        "part": "whole"
       },
       "id": "0b9427ac-d86c-48a6-bae4-28c40dbd8358"
      }
     }
    },
    "6f367224-9178-4cee-be3b-72abc8630338": {
     "id": "6f367224-9178-4cee-be3b-72abc8630338",
     "prev": "45bf6535-2c96-4efd-9f95-27acc9c0002b",
     "regions": {
      "9039746b-c6fa-4be2-8ada-c3e3c39b2a67": {
       "attrs": {
        "height": 0.8,
        "width": 0.8,
        "x": 0.1,
        "y": 0.1
       },
       "content": {
        "cell": "579dea05-e4c3-4253-a7f8-4d9a5a90df70",
        "part": "whole"
       },
       "id": "9039746b-c6fa-4be2-8ada-c3e3c39b2a67"
      }
     }
    },
    "75cca072-62a3-4471-8006-121b7cc29955": {
     "id": "75cca072-62a3-4471-8006-121b7cc29955",
     "prev": "fac97f8f-6113-45dd-b66c-36d68e04ea81",
     "regions": {
      "66e47931-836e-48fa-8e5c-f2d546e36f63": {
       "attrs": {
        "height": 0.8,
        "width": 0.8,
        "x": 0.1,
        "y": 0.1
       },
       "content": {
        "cell": "0858b8b1-6ea4-4b5d-ae90-66c81e70eb85",
        "part": "whole"
       },
       "id": "66e47931-836e-48fa-8e5c-f2d546e36f63"
      }
     }
    },
    "96cca60e-4137-405a-b689-fc1a94746597": {
     "id": "96cca60e-4137-405a-b689-fc1a94746597",
     "prev": "6f367224-9178-4cee-be3b-72abc8630338",
     "regions": {
      "841794e2-47a6-4d07-8ab6-b5ac5cee988e": {
       "attrs": {
        "height": 0.8,
        "width": 0.8,
        "x": 0.1,
        "y": 0.1
       },
       "content": {
        "cell": "c1d6a9af-5464-4a30-8046-e741252cf60c",
        "part": "whole"
       },
       "id": "841794e2-47a6-4d07-8ab6-b5ac5cee988e"
      }
     }
    },
    "99e306ac-61a4-4e57-b861-147d647f8874": {
     "id": "99e306ac-61a4-4e57-b861-147d647f8874",
     "prev": "f11f229b-6e5a-4303-929f-e0a695d7d105",
     "regions": {
      "d2f47a82-6225-4df1-8239-bea34a38e1e4": {
       "attrs": {
        "height": 0.8,
        "width": 0.8,
        "x": 0.1,
        "y": 0.1
       },
       "content": {
        "cell": "c551364b-7af1-456a-83b5-f2a42af82020",
        "part": "whole"
       },
       "id": "d2f47a82-6225-4df1-8239-bea34a38e1e4"
      }
     }
    },
    "a64b0fb7-ee29-4a0a-afec-587e59c33220": {
     "id": "a64b0fb7-ee29-4a0a-afec-587e59c33220",
     "prev": "106907c5-6368-40b0-8529-386204f1cb00",
     "regions": {
      "dbfd5e19-2ebb-4f04-888b-be5195e5a6e7": {
       "attrs": {
        "height": 0.8,
        "width": 0.8,
        "x": 0.1,
        "y": 0.1
       },
       "content": {
        "cell": "73222836-8ae0-403b-a60f-8b9999b2c2cb",
        "part": "whole"
       },
       "id": "dbfd5e19-2ebb-4f04-888b-be5195e5a6e7"
      }
     }
    },
    "ac6c370b-0671-4b3b-8f70-198e907cc425": {
     "id": "ac6c370b-0671-4b3b-8f70-198e907cc425",
     "prev": "b4b1b4f2-ef01-4743-958d-daea03c1f3fa",
     "regions": {
      "06afd001-8673-4c4a-8a6d-94edaa95a1d6": {
       "attrs": {
        "height": 0.8,
        "width": 0.8,
        "x": 0.1,
        "y": 0.1
       },
       "content": {
        "cell": "86a25204-c657-426f-a167-0397fddd15f4",
        "part": "whole"
       },
       "id": "06afd001-8673-4c4a-8a6d-94edaa95a1d6"
      }
     }
    },
    "b193c4d3-c19f-4192-9c1b-24f507e9156d": {
     "id": "b193c4d3-c19f-4192-9c1b-24f507e9156d",
     "prev": "46055250-7685-4dc7-a2e2-8ce5be4b0e4f",
     "regions": {
      "3422cfe7-995f-4c7e-b1db-77dd0c94e1c2": {
       "attrs": {
        "height": 0.8,
        "width": 0.8,
        "x": 0.1,
        "y": 0.1
       },
       "content": {
        "cell": "8fb90540-c162-4162-8531-8ffd8cc9db2a",
        "part": "whole"
       },
       "id": "3422cfe7-995f-4c7e-b1db-77dd0c94e1c2"
      }
     }
    },
    "b4b1b4f2-ef01-4743-958d-daea03c1f3fa": {
     "id": "b4b1b4f2-ef01-4743-958d-daea03c1f3fa",
     "prev": "f3e32334-669c-4558-9b1d-d426aabe922f",
     "regions": {
      "b173c42d-b87a-42d2-a600-3c245d93f7bf": {
       "attrs": {
        "height": 0.8,
        "width": 0.8,
        "x": 0.1,
        "y": 0.1
       },
       "content": {
        "cell": "71ecf13d-fb1f-4e83-82f5-d50751286cbe",
        "part": "whole"
       },
       "id": "b173c42d-b87a-42d2-a600-3c245d93f7bf"
      }
     }
    },
    "c938f7ed-5d9f-41f6-ba03-b3bbefce78cc": {
     "id": "c938f7ed-5d9f-41f6-ba03-b3bbefce78cc",
     "prev": "ed0af38d-775d-4637-b297-f5731adb2621",
     "regions": {
      "231a8832-d1f9-42d3-81b2-bd0aadf7ef11": {
       "attrs": {
        "height": 0.8,
        "width": 0.8,
        "x": 0.1,
        "y": 0.1
       },
       "content": {
        "cell": "9f46f7b0-6d29-451c-968c-cfeb8be20dd9",
        "part": "whole"
       },
       "id": "231a8832-d1f9-42d3-81b2-bd0aadf7ef11"
      }
     }
    },
    "e79c3d31-f779-4dfd-b3e6-7a9912958062": {
     "id": "e79c3d31-f779-4dfd-b3e6-7a9912958062",
     "prev": null,
     "regions": {
      "d9deb52d-fb1c-407e-9e84-0fb074cad3fb": {
       "attrs": {
        "height": 0.8,
        "width": 0.8,
        "x": 0.1,
        "y": 0.1
       },
       "content": {
        "cell": "83e96082-000f-4683-89f1-0a1ba52619fa",
        "part": "whole"
       },
       "id": "d9deb52d-fb1c-407e-9e84-0fb074cad3fb"
      }
     }
    },
    "ed0af38d-775d-4637-b297-f5731adb2621": {
     "id": "ed0af38d-775d-4637-b297-f5731adb2621",
     "prev": "3101ac78-0032-472c-a878-73cf80719592",
     "regions": {
      "fad6f831-fb01-4a51-8adf-dae673650b07": {
       "attrs": {
        "height": 0.8,
        "width": 0.8,
        "x": 0.1,
        "y": 0.1
       },
       "content": {
        "cell": "53d01ac9-afd0-4c20-9a9a-70d7dbc7e1ff",
        "part": "whole"
       },
       "id": "fad6f831-fb01-4a51-8adf-dae673650b07"
      }
     }
    },
    "eefa0406-f693-411a-8235-9a984f2495b6": {
     "id": "eefa0406-f693-411a-8235-9a984f2495b6",
     "prev": "b193c4d3-c19f-4192-9c1b-24f507e9156d",
     "regions": {
      "4cafb46f-0856-478c-affe-16835395c2ab": {
       "attrs": {
        "height": 0.8,
        "width": 0.8,
        "x": 0.1,
        "y": 0.1
       },
       "content": {
        "cell": "fb3906b0-a279-418f-a98d-a7d8e25d1375",
        "part": "whole"
       },
       "id": "4cafb46f-0856-478c-affe-16835395c2ab"
      }
     }
    },
    "f11f229b-6e5a-4303-929f-e0a695d7d105": {
     "id": "f11f229b-6e5a-4303-929f-e0a695d7d105",
     "prev": "5758641e-2f91-4704-a8bc-12e5bf8f6cd2",
     "regions": {
      "4e95b8f8-307d-4575-a4c7-1d248615b55c": {
       "attrs": {
        "height": 0.8,
        "width": 0.8,
        "x": 0.1,
        "y": 0.1
       },
       "content": {
        "cell": "15ecc13e-0e1d-43f3-8eff-4f38aa58d530",
        "part": "whole"
       },
       "id": "4e95b8f8-307d-4575-a4c7-1d248615b55c"
      }
     }
    },
    "f3e32334-669c-4558-9b1d-d426aabe922f": {
     "id": "f3e32334-669c-4558-9b1d-d426aabe922f",
     "prev": "a64b0fb7-ee29-4a0a-afec-587e59c33220",
     "regions": {
      "c5c90022-66d1-4bae-91d5-9f585dcedccc": {
       "attrs": {
        "height": 0.8,
        "width": 0.8,
        "x": 0.1,
        "y": 0.1
       },
       "content": {
        "cell": "222e55f8-d17d-4391-aeac-edb326f1796e",
        "part": "whole"
       },
       "id": "c5c90022-66d1-4bae-91d5-9f585dcedccc"
      }
     }
    },
    "fac97f8f-6113-45dd-b66c-36d68e04ea81": {
     "id": "fac97f8f-6113-45dd-b66c-36d68e04ea81",
     "prev": "ac6c370b-0671-4b3b-8f70-198e907cc425",
     "regions": {
      "08358585-3a4f-49e1-9453-578edcec7b0d": {
       "attrs": {
        "height": 0.8,
        "width": 0.8,
        "x": 0.1,
        "y": 0.1
       },
       "content": {
        "cell": "e1e1fa42-b38c-4b57-bfaa-7530ae7999e4",
        "part": "whole"
       },
       "id": "08358585-3a4f-49e1-9453-578edcec7b0d"
      }
     }
    }
   },
   "themes": {
    "default": "e63357d2-f6b0-4aa7-8dac-f99e258cf78d",
    "theme": {
     "e63357d2-f6b0-4aa7-8dac-f99e258cf78d": {
      "backgrounds": {
       "backgroundColor": {
        "background-color": "backgroundColor",
        "id": "backgroundColor"
       }
      },
      "id": "e63357d2-f6b0-4aa7-8dac-f99e258cf78d",
      "palette": {
       "backgroundColor": {
        "id": "backgroundColor",
        "rgb": [
         256,
         256,
         256
        ]
       },
       "headingColor": {
        "id": "headingColor",
        "rgb": [
         0,
         0,
         0
        ]
       },
       "linkColor": {
        "id": "linkColor",
        "rgb": [
         0,
         0,
         139
        ]
       },
       "mainColor": {
        "id": "mainColor",
        "rgb": [
         0,
         0,
         0
        ]
       }
      },
      "rules": {
       "a": {
        "color": "linkColor"
       },
       "h1": {
        "color": "headingColor",
        "font-family": "News Cycle",
        "font-size": 7
       },
       "h2": {
        "color": "headingColor",
        "font-family": "News Cycle",
        "font-size": 5
       },
       "h3": {
        "color": "headingColor",
        "font-family": "News Cycle",
        "font-size": 3.75
       },
       "h4": {
        "color": "headingColor",
        "font-family": "News Cycle",
        "font-size": 3
       },
       "h5": {
        "color": "headingColor",
        "font-family": "News Cycle"
       },
       "h6": {
        "color": "headingColor",
        "font-family": "News Cycle"
       },
       "h7": {
        "color": "headingColor",
        "font-family": "News Cycle"
       },
       "li": {
        "color": "mainColor",
        "font-family": "Lato",
        "font-size": 5
       },
       "p": {
        "color": "mainColor",
        "font-family": "Lato",
        "font-size": 5
       }
      },
      "text-base": {
       "color": "mainColor",
       "font-family": "Lato",
       "font-size": 5
      }
     },
     "eb5ae634-acd8-41e6-b3c8-52312cc9cc4d": {
      "backgrounds": {
       "dc7afa04-bf90-40b1-82a5-726e3cff5267": {
        "background-color": "31af15d2-7e15-44c5-ab5e-e04b16a89eff",
        "id": "dc7afa04-bf90-40b1-82a5-726e3cff5267"
       }
      },
      "id": "eb5ae634-acd8-41e6-b3c8-52312cc9cc4d",
      "palette": {
       "19cc588f-0593-49c9-9f4b-e4d7cc113b1c": {
        "id": "19cc588f-0593-49c9-9f4b-e4d7cc113b1c",
        "rgb": [
         252,
         252,
         252
        ]
       },
       "31af15d2-7e15-44c5-ab5e-e04b16a89eff": {
        "id": "31af15d2-7e15-44c5-ab5e-e04b16a89eff",
        "rgb": [
         68,
         68,
         68
        ]
       },
       "50f92c45-a630-455b-aec3-788680ec7410": {
        "id": "50f92c45-a630-455b-aec3-788680ec7410",
        "rgb": [
         197,
         226,
         245
        ]
       },
       "c5cc3653-2ee1-402a-aba2-7caae1da4f6c": {
        "id": "c5cc3653-2ee1-402a-aba2-7caae1da4f6c",
        "rgb": [
         43,
         126,
         184
        ]
       },
       "efa7f048-9acb-414c-8b04-a26811511a21": {
        "id": "efa7f048-9acb-414c-8b04-a26811511a21",
        "rgb": [
         25.118061674008803,
         73.60176211453744,
         107.4819383259912
        ]
       }
      },
      "rules": {
       "a": {
        "color": "19cc588f-0593-49c9-9f4b-e4d7cc113b1c"
       },
       "blockquote": {
        "color": "50f92c45-a630-455b-aec3-788680ec7410",
        "font-size": 3
       },
       "code": {
        "font-family": "Anonymous Pro"
       },
       "h1": {
        "color": "19cc588f-0593-49c9-9f4b-e4d7cc113b1c",
        "font-family": "Merriweather",
        "font-size": 8
       },
       "h2": {
        "color": "19cc588f-0593-49c9-9f4b-e4d7cc113b1c",
        "font-family": "Merriweather",
        "font-size": 6
       },
       "h3": {
        "color": "50f92c45-a630-455b-aec3-788680ec7410",
        "font-family": "Lato",
        "font-size": 5.5
       },
       "h4": {
        "color": "c5cc3653-2ee1-402a-aba2-7caae1da4f6c",
        "font-family": "Lato",
        "font-size": 5
       },
       "h5": {
        "font-family": "Lato"
       },
       "h6": {
        "font-family": "Lato"
       },
       "h7": {
        "font-family": "Lato"
       },
       "li": {
        "color": "50f92c45-a630-455b-aec3-788680ec7410",
        "font-size": 3.25
       },
       "pre": {
        "font-family": "Anonymous Pro",
        "font-size": 4
       }
      },
      "text-base": {
       "color": "19cc588f-0593-49c9-9f4b-e4d7cc113b1c",
       "font-family": "Lato",
       "font-size": 4
      }
     }
    }
   }
  }
 },
 "nbformat": 4,
 "nbformat_minor": 1
}
