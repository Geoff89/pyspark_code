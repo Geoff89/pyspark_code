{
 "cells": [
  {
   "cell_type": "code",
   "execution_count": 1,
   "metadata": {
    "collapsed": true
   },
   "outputs": [],
   "source": [
    "import os\n",
    "import sys\n",
    "\n",
    "os.chdir(\"C:/dataanalytics/python\")\n",
    "os.curdir\n",
    "\n",
    "#Configure the environment . Set this up to the directory where spark is installed\n",
    "if 'SPARK_HOME' not in os.environ:\n",
    "    os.environ['SPARK_HOME'] = 'C:\\\\spark'\n",
    "    \n",
    "#create a variable for our root path\n",
    "SPARK_HOME = os.environ['SPARK_HOME']\n",
    "\n",
    "#Add the following paths to the system path. Please check your installation\n",
    "#to make sure that these zip files actually exists. The names might change as\n",
    "#versions change\n",
    "sys.path.insert(0,os.path.join(SPARK_HOME,\"python\"))\n",
    "sys.path.insert(0,os.path.join(SPARK_HOME,\"python\",\"lib\"))\n",
    "sys.path.insert(0,os.path.join(SPARK_HOME,\"python\",\"lib\",\"py4j-0.10.6-src.zip\"))\n",
    "sys.path.insert(0,os.path.join(SPARK_HOME,\"python\",\"lib\",\"pyspark.zip\"))\n",
    " \n",
    "#Initialize a spark context\n",
    "from pyspark import SparkContext\n",
    "from pyspark import SparkConf\n",
    "\n",
    "#optionally configure spark\n",
    "conf = (SparkConf().setAppName(\"V2Maestros\").setMaster(\"local[2]\").set(\"spark.executor.memory\", \"1g\"))\n",
    "\n",
    "#Initalize spark context onl runs once\n",
    "sc = SparkContext(conf=conf)"
   ]
  },
  {
   "cell_type": "code",
   "execution_count": 5,
   "metadata": {
    "collapsed": true
   },
   "outputs": [],
   "source": [
    "#loading data into an RDD\n",
    "irisData = sc.textFile(r'C:\\Users\\jeffnerd\\Desktop\\spark\\iris.csv')"
   ]
  },
  {
   "cell_type": "code",
   "execution_count": 6,
   "metadata": {
    "collapsed": false
   },
   "outputs": [
    {
     "data": {
      "text/plain": [
       "C:\\Users\\jeffnerd\\Desktop\\spark\\iris.csv MapPartitionsRDD[1] at textFile at <unknown>:0"
      ]
     },
     "execution_count": 6,
     "metadata": {},
     "output_type": "execute_result"
    }
   ],
   "source": [
    "irisData.persist()"
   ]
  },
  {
   "cell_type": "code",
   "execution_count": 7,
   "metadata": {
    "collapsed": true
   },
   "outputs": [],
   "source": [
    "#removibg the first row as it is not wanted\n",
    "first = irisData.first()"
   ]
  },
  {
   "cell_type": "code",
   "execution_count": 8,
   "metadata": {
    "collapsed": true
   },
   "outputs": [],
   "source": [
    "dataLines = irisData.filter(lambda x: x!=first)"
   ]
  },
  {
   "cell_type": "code",
   "execution_count": 9,
   "metadata": {
    "collapsed": false
   },
   "outputs": [
    {
     "data": {
      "text/plain": [
       "150"
      ]
     },
     "execution_count": 9,
     "metadata": {},
     "output_type": "execute_result"
    }
   ],
   "source": [
    "dataLines.count()"
   ]
  },
  {
   "cell_type": "code",
   "execution_count": 13,
   "metadata": {
    "collapsed": true
   },
   "outputs": [],
   "source": [
    "#convert the rddd into a dense vector. aas part of this example we change labels to numeric ones\n",
    "from pyspark.mllib.linalg import Vectors"
   ]
  },
  {
   "cell_type": "code",
   "execution_count": null,
   "metadata": {
    "collapsed": true
   },
   "outputs": [],
   "source": []
  },
  {
   "cell_type": "code",
   "execution_count": 14,
   "metadata": {
    "collapsed": true
   },
   "outputs": [],
   "source": [
    "def transformToNumeric(inputStr):\n",
    "    attList = inputStr.split(\",\")\n",
    "    \n",
    "    #set the default Setosa\n",
    "    irisvalue = 1.0\n",
    "    if attList[4] == \"versicolor\":\n",
    "        irisvalue = 2.0\n",
    "    if attList[4] == \"virginica\":\n",
    "        irisvalue = 3.0\n",
    "    #Filter out columns not wanted ou at this stage\n",
    "    values = Vectors.dense([irisvalue,\\\n",
    "                           float(attList[0]),\\\n",
    "                           float(attList[1]),\\\n",
    "                           float(attList[2]),\\\n",
    "                           float(attList[3])\\\n",
    "                           ])\n",
    "    return values\n",
    "        \n",
    "        \n",
    "            \n",
    "        "
   ]
  },
  {
   "cell_type": "code",
   "execution_count": 15,
   "metadata": {
    "collapsed": false,
    "scrolled": true
   },
   "outputs": [
    {
     "data": {
      "text/plain": [
       "[DenseVector([1.0, 5.1, 3.5, 1.4, 0.2]),\n",
       " DenseVector([1.0, 4.9, 3.0, 1.4, 0.2]),\n",
       " DenseVector([1.0, 4.7, 3.2, 1.3, 0.2]),\n",
       " DenseVector([1.0, 4.6, 3.1, 1.5, 0.2]),\n",
       " DenseVector([1.0, 5.0, 3.6, 1.4, 0.2]),\n",
       " DenseVector([1.0, 5.4, 3.9, 1.7, 0.4]),\n",
       " DenseVector([1.0, 4.6, 3.4, 1.4, 0.3]),\n",
       " DenseVector([1.0, 5.0, 3.4, 1.5, 0.2]),\n",
       " DenseVector([1.0, 4.4, 2.9, 1.4, 0.2]),\n",
       " DenseVector([1.0, 4.9, 3.1, 1.5, 0.1]),\n",
       " DenseVector([1.0, 5.4, 3.7, 1.5, 0.2]),\n",
       " DenseVector([1.0, 4.8, 3.4, 1.6, 0.2]),\n",
       " DenseVector([1.0, 4.8, 3.0, 1.4, 0.1]),\n",
       " DenseVector([1.0, 4.3, 3.0, 1.1, 0.1]),\n",
       " DenseVector([1.0, 5.8, 4.0, 1.2, 0.2]),\n",
       " DenseVector([1.0, 5.7, 4.4, 1.5, 0.4]),\n",
       " DenseVector([1.0, 5.4, 3.9, 1.3, 0.4]),\n",
       " DenseVector([1.0, 5.1, 3.5, 1.4, 0.3]),\n",
       " DenseVector([1.0, 5.7, 3.8, 1.7, 0.3]),\n",
       " DenseVector([1.0, 5.1, 3.8, 1.5, 0.3]),\n",
       " DenseVector([1.0, 5.4, 3.4, 1.7, 0.2]),\n",
       " DenseVector([1.0, 5.1, 3.7, 1.5, 0.4]),\n",
       " DenseVector([1.0, 4.6, 3.6, 1.0, 0.2]),\n",
       " DenseVector([1.0, 5.1, 3.3, 1.7, 0.5]),\n",
       " DenseVector([1.0, 4.8, 3.4, 1.9, 0.2]),\n",
       " DenseVector([1.0, 5.0, 3.0, 1.6, 0.2]),\n",
       " DenseVector([1.0, 5.0, 3.4, 1.6, 0.4]),\n",
       " DenseVector([1.0, 5.2, 3.5, 1.5, 0.2]),\n",
       " DenseVector([1.0, 5.2, 3.4, 1.4, 0.2]),\n",
       " DenseVector([1.0, 4.7, 3.2, 1.6, 0.2]),\n",
       " DenseVector([1.0, 4.8, 3.1, 1.6, 0.2]),\n",
       " DenseVector([1.0, 5.4, 3.4, 1.5, 0.4]),\n",
       " DenseVector([1.0, 5.2, 4.1, 1.5, 0.1]),\n",
       " DenseVector([1.0, 5.5, 4.2, 1.4, 0.2]),\n",
       " DenseVector([1.0, 4.9, 3.1, 1.5, 0.2]),\n",
       " DenseVector([1.0, 5.0, 3.2, 1.2, 0.2]),\n",
       " DenseVector([1.0, 5.5, 3.5, 1.3, 0.2]),\n",
       " DenseVector([1.0, 4.9, 3.6, 1.4, 0.1]),\n",
       " DenseVector([1.0, 4.4, 3.0, 1.3, 0.2]),\n",
       " DenseVector([1.0, 5.1, 3.4, 1.5, 0.2]),\n",
       " DenseVector([1.0, 5.0, 3.5, 1.3, 0.3]),\n",
       " DenseVector([1.0, 4.5, 2.3, 1.3, 0.3]),\n",
       " DenseVector([1.0, 4.4, 3.2, 1.3, 0.2]),\n",
       " DenseVector([1.0, 5.0, 3.5, 1.6, 0.6]),\n",
       " DenseVector([1.0, 5.1, 3.8, 1.9, 0.4]),\n",
       " DenseVector([1.0, 4.8, 3.0, 1.4, 0.3]),\n",
       " DenseVector([1.0, 5.1, 3.8, 1.6, 0.2]),\n",
       " DenseVector([1.0, 4.6, 3.2, 1.4, 0.2]),\n",
       " DenseVector([1.0, 5.3, 3.7, 1.5, 0.2]),\n",
       " DenseVector([1.0, 5.0, 3.3, 1.4, 0.2]),\n",
       " DenseVector([2.0, 7.0, 3.2, 4.7, 1.4]),\n",
       " DenseVector([2.0, 6.4, 3.2, 4.5, 1.5]),\n",
       " DenseVector([2.0, 6.9, 3.1, 4.9, 1.5]),\n",
       " DenseVector([2.0, 5.5, 2.3, 4.0, 1.3]),\n",
       " DenseVector([2.0, 6.5, 2.8, 4.6, 1.5]),\n",
       " DenseVector([2.0, 5.7, 2.8, 4.5, 1.3]),\n",
       " DenseVector([2.0, 6.3, 3.3, 4.7, 1.6]),\n",
       " DenseVector([2.0, 4.9, 2.4, 3.3, 1.0]),\n",
       " DenseVector([2.0, 6.6, 2.9, 4.6, 1.3]),\n",
       " DenseVector([2.0, 5.2, 2.7, 3.9, 1.4]),\n",
       " DenseVector([2.0, 5.0, 2.0, 3.5, 1.0]),\n",
       " DenseVector([2.0, 5.9, 3.0, 4.2, 1.5]),\n",
       " DenseVector([2.0, 6.0, 2.2, 4.0, 1.0]),\n",
       " DenseVector([2.0, 6.1, 2.9, 4.7, 1.4]),\n",
       " DenseVector([2.0, 5.6, 2.9, 3.6, 1.3]),\n",
       " DenseVector([2.0, 6.7, 3.1, 4.4, 1.4]),\n",
       " DenseVector([2.0, 5.6, 3.0, 4.5, 1.5]),\n",
       " DenseVector([2.0, 5.8, 2.7, 4.1, 1.0]),\n",
       " DenseVector([2.0, 6.2, 2.2, 4.5, 1.5]),\n",
       " DenseVector([2.0, 5.6, 2.5, 3.9, 1.1]),\n",
       " DenseVector([2.0, 5.9, 3.2, 4.8, 1.8]),\n",
       " DenseVector([2.0, 6.1, 2.8, 4.0, 1.3]),\n",
       " DenseVector([2.0, 6.3, 2.5, 4.9, 1.5]),\n",
       " DenseVector([2.0, 6.1, 2.8, 4.7, 1.2]),\n",
       " DenseVector([2.0, 6.4, 2.9, 4.3, 1.3]),\n",
       " DenseVector([2.0, 6.6, 3.0, 4.4, 1.4]),\n",
       " DenseVector([2.0, 6.8, 2.8, 4.8, 1.4]),\n",
       " DenseVector([2.0, 6.7, 3.0, 5.0, 1.7]),\n",
       " DenseVector([2.0, 6.0, 2.9, 4.5, 1.5]),\n",
       " DenseVector([2.0, 5.7, 2.6, 3.5, 1.0]),\n",
       " DenseVector([2.0, 5.5, 2.4, 3.8, 1.1]),\n",
       " DenseVector([2.0, 5.5, 2.4, 3.7, 1.0]),\n",
       " DenseVector([2.0, 5.8, 2.7, 3.9, 1.2]),\n",
       " DenseVector([2.0, 6.0, 2.7, 5.1, 1.6]),\n",
       " DenseVector([2.0, 5.4, 3.0, 4.5, 1.5]),\n",
       " DenseVector([2.0, 6.0, 3.4, 4.5, 1.6]),\n",
       " DenseVector([2.0, 6.7, 3.1, 4.7, 1.5]),\n",
       " DenseVector([2.0, 6.3, 2.3, 4.4, 1.3]),\n",
       " DenseVector([2.0, 5.6, 3.0, 4.1, 1.3]),\n",
       " DenseVector([2.0, 5.5, 2.5, 4.0, 1.3]),\n",
       " DenseVector([2.0, 5.5, 2.6, 4.4, 1.2]),\n",
       " DenseVector([2.0, 6.1, 3.0, 4.6, 1.4]),\n",
       " DenseVector([2.0, 5.8, 2.6, 4.0, 1.2]),\n",
       " DenseVector([2.0, 5.0, 2.3, 3.3, 1.0]),\n",
       " DenseVector([2.0, 5.6, 2.7, 4.2, 1.3]),\n",
       " DenseVector([2.0, 5.7, 3.0, 4.2, 1.2]),\n",
       " DenseVector([2.0, 5.7, 2.9, 4.2, 1.3]),\n",
       " DenseVector([2.0, 6.2, 2.9, 4.3, 1.3]),\n",
       " DenseVector([2.0, 5.1, 2.5, 3.0, 1.1]),\n",
       " DenseVector([2.0, 5.7, 2.8, 4.1, 1.3]),\n",
       " DenseVector([3.0, 6.3, 3.3, 6.0, 2.5]),\n",
       " DenseVector([3.0, 5.8, 2.7, 5.1, 1.9]),\n",
       " DenseVector([3.0, 7.1, 3.0, 5.9, 2.1]),\n",
       " DenseVector([3.0, 6.3, 2.9, 5.6, 1.8]),\n",
       " DenseVector([3.0, 6.5, 3.0, 5.8, 2.2]),\n",
       " DenseVector([3.0, 7.6, 3.0, 6.6, 2.1]),\n",
       " DenseVector([3.0, 4.9, 2.5, 4.5, 1.7]),\n",
       " DenseVector([3.0, 7.3, 2.9, 6.3, 1.8]),\n",
       " DenseVector([3.0, 6.7, 2.5, 5.8, 1.8]),\n",
       " DenseVector([3.0, 7.2, 3.6, 6.1, 2.5]),\n",
       " DenseVector([3.0, 6.5, 3.2, 5.1, 2.0]),\n",
       " DenseVector([3.0, 6.4, 2.7, 5.3, 1.9]),\n",
       " DenseVector([3.0, 6.8, 3.0, 5.5, 2.1]),\n",
       " DenseVector([3.0, 5.7, 2.5, 5.0, 2.0]),\n",
       " DenseVector([3.0, 5.8, 2.8, 5.1, 2.4]),\n",
       " DenseVector([3.0, 6.4, 3.2, 5.3, 2.3]),\n",
       " DenseVector([3.0, 6.5, 3.0, 5.5, 1.8]),\n",
       " DenseVector([3.0, 7.7, 3.8, 6.7, 2.2]),\n",
       " DenseVector([3.0, 7.7, 2.6, 6.9, 2.3]),\n",
       " DenseVector([3.0, 6.0, 2.2, 5.0, 1.5]),\n",
       " DenseVector([3.0, 6.9, 3.2, 5.7, 2.3]),\n",
       " DenseVector([3.0, 5.6, 2.8, 4.9, 2.0]),\n",
       " DenseVector([3.0, 7.7, 2.8, 6.7, 2.0]),\n",
       " DenseVector([3.0, 6.3, 2.7, 4.9, 1.8]),\n",
       " DenseVector([3.0, 6.7, 3.3, 5.7, 2.1]),\n",
       " DenseVector([3.0, 7.2, 3.2, 6.0, 1.8]),\n",
       " DenseVector([3.0, 6.2, 2.8, 4.8, 1.8]),\n",
       " DenseVector([3.0, 6.1, 3.0, 4.9, 1.8]),\n",
       " DenseVector([3.0, 6.4, 2.8, 5.6, 2.1]),\n",
       " DenseVector([3.0, 7.2, 3.0, 5.8, 1.6]),\n",
       " DenseVector([3.0, 7.4, 2.8, 6.1, 1.9]),\n",
       " DenseVector([3.0, 7.9, 3.8, 6.4, 2.0]),\n",
       " DenseVector([3.0, 6.4, 2.8, 5.6, 2.2]),\n",
       " DenseVector([3.0, 6.3, 2.8, 5.1, 1.5]),\n",
       " DenseVector([3.0, 6.1, 2.6, 5.6, 1.4]),\n",
       " DenseVector([3.0, 7.7, 3.0, 6.1, 2.3]),\n",
       " DenseVector([3.0, 6.3, 3.4, 5.6, 2.4]),\n",
       " DenseVector([3.0, 6.4, 3.1, 5.5, 1.8]),\n",
       " DenseVector([3.0, 6.0, 3.0, 4.8, 1.8]),\n",
       " DenseVector([3.0, 6.9, 3.1, 5.4, 2.1]),\n",
       " DenseVector([3.0, 6.7, 3.1, 5.6, 2.4]),\n",
       " DenseVector([3.0, 6.9, 3.1, 5.1, 2.3]),\n",
       " DenseVector([3.0, 5.8, 2.7, 5.1, 1.9]),\n",
       " DenseVector([3.0, 6.8, 3.2, 5.9, 2.3]),\n",
       " DenseVector([3.0, 6.7, 3.3, 5.7, 2.5]),\n",
       " DenseVector([3.0, 6.7, 3.0, 5.2, 2.3]),\n",
       " DenseVector([3.0, 6.3, 2.5, 5.0, 1.9]),\n",
       " DenseVector([3.0, 6.5, 3.0, 5.2, 2.0]),\n",
       " DenseVector([3.0, 6.2, 3.4, 5.4, 2.3]),\n",
       " DenseVector([3.0, 5.9, 3.0, 5.1, 1.8])]"
      ]
     },
     "execution_count": 15,
     "metadata": {},
     "output_type": "execute_result"
    }
   ],
   "source": [
    "#chanhe to a vector\n",
    "irisVectors = dataLines.map(transformToNumeric)\n",
    "irisVectors.collect()"
   ]
  },
  {
   "cell_type": "code",
   "execution_count": 11,
   "metadata": {
    "collapsed": true
   },
   "outputs": [],
   "source": [
    "#perfoming statistical analysis\n",
    "from pyspark.mllib.stat import Statistics"
   ]
  },
  {
   "cell_type": "code",
   "execution_count": 16,
   "metadata": {
    "collapsed": false
   },
   "outputs": [],
   "source": [
    "irisstats = Statistics.colStats(irisVectors)"
   ]
  },
  {
   "cell_type": "code",
   "execution_count": 17,
   "metadata": {
    "collapsed": false
   },
   "outputs": [
    {
     "data": {
      "text/plain": [
       "array([2.        , 5.84333333, 3.05733333, 3.758     , 1.19933333])"
      ]
     },
     "execution_count": 17,
     "metadata": {},
     "output_type": "execute_result"
    }
   ],
   "source": [
    "irisstats.mean()"
   ]
  },
  {
   "cell_type": "code",
   "execution_count": 18,
   "metadata": {
    "collapsed": false
   },
   "outputs": [
    {
     "data": {
      "text/plain": [
       "array([0.67114094, 0.68569351, 0.18997942, 3.11627785, 0.58100626])"
      ]
     },
     "execution_count": 18,
     "metadata": {},
     "output_type": "execute_result"
    }
   ],
   "source": [
    "irisstats.variance()"
   ]
  },
  {
   "cell_type": "code",
   "execution_count": 19,
   "metadata": {
    "collapsed": false
   },
   "outputs": [
    {
     "data": {
      "text/plain": [
       "array([1. , 4.3, 2. , 1. , 0.1])"
      ]
     },
     "execution_count": 19,
     "metadata": {},
     "output_type": "execute_result"
    }
   ],
   "source": [
    "irisstats.min()"
   ]
  },
  {
   "cell_type": "code",
   "execution_count": 20,
   "metadata": {
    "collapsed": false
   },
   "outputs": [
    {
     "data": {
      "text/plain": [
       "array([3. , 7.9, 4.4, 6.9, 2.5])"
      ]
     },
     "execution_count": 20,
     "metadata": {},
     "output_type": "execute_result"
    }
   ],
   "source": [
    "irisstats.max()"
   ]
  },
  {
   "cell_type": "code",
   "execution_count": 21,
   "metadata": {
    "collapsed": false
   },
   "outputs": [
    {
     "data": {
      "text/plain": [
       "array([[ 1.        ,  0.78256123, -0.42665756,  0.9490347 ,  0.95654733],\n",
       "       [ 0.78256123,  1.        , -0.11756978,  0.87175378,  0.81794113],\n",
       "       [-0.42665756, -0.11756978,  1.        , -0.4284401 , -0.36612593],\n",
       "       [ 0.9490347 ,  0.87175378, -0.4284401 ,  1.        ,  0.96286543],\n",
       "       [ 0.95654733,  0.81794113, -0.36612593,  0.96286543,  1.        ]])"
      ]
     },
     "execution_count": 21,
     "metadata": {},
     "output_type": "execute_result"
    }
   ],
   "source": [
    "Statistics.corr(irisVectors)"
   ]
  },
  {
   "cell_type": "code",
   "execution_count": 10,
   "metadata": {
    "collapsed": true
   },
   "outputs": [],
   "source": [
    "from pyspark.ml.linalg import Vectors"
   ]
  },
  {
   "cell_type": "code",
   "execution_count": 11,
   "metadata": {
    "collapsed": true
   },
   "outputs": [],
   "source": [
    "def transformLabeledPoint(inStr):\n",
    "    attList = inStr.split(\",\")\n",
    "    lp = (attList[4],Vectors.dense([attList[0], attList[2], attList[3]]))\n",
    "    return lp"
   ]
  },
  {
   "cell_type": "code",
   "execution_count": 12,
   "metadata": {
    "collapsed": true
   },
   "outputs": [],
   "source": [
    "irisLp = dataLines.map(transformLabeledPoint)"
   ]
  },
  {
   "cell_type": "code",
   "execution_count": 13,
   "metadata": {
    "collapsed": true
   },
   "outputs": [],
   "source": [
    "from pyspark.sql import SQLContext\n",
    "from pyspark.sql import DataFrame"
   ]
  },
  {
   "cell_type": "code",
   "execution_count": 14,
   "metadata": {
    "collapsed": true
   },
   "outputs": [],
   "source": [
    "spark = SQLContext(sc)"
   ]
  },
  {
   "cell_type": "code",
   "execution_count": 15,
   "metadata": {
    "collapsed": false
   },
   "outputs": [],
   "source": [
    "irisDF = spark.createDataFrame(irisLp, [\"label\", \"features\"])"
   ]
  },
  {
   "cell_type": "code",
   "execution_count": 16,
   "metadata": {
    "collapsed": false
   },
   "outputs": [
    {
     "name": "stdout",
     "output_type": "stream",
     "text": [
      "+------+-------------+\n",
      "| label|     features|\n",
      "+------+-------------+\n",
      "|setosa|[5.1,1.4,0.2]|\n",
      "|setosa|[4.9,1.4,0.2]|\n",
      "|setosa|[4.7,1.3,0.2]|\n",
      "|setosa|[4.6,1.5,0.2]|\n",
      "|setosa|[5.0,1.4,0.2]|\n",
      "|setosa|[5.4,1.7,0.4]|\n",
      "|setosa|[4.6,1.4,0.3]|\n",
      "|setosa|[5.0,1.5,0.2]|\n",
      "|setosa|[4.4,1.4,0.2]|\n",
      "|setosa|[4.9,1.5,0.1]|\n",
      "+------+-------------+\n",
      "only showing top 10 rows\n",
      "\n"
     ]
    }
   ],
   "source": [
    "irisDF.select(\"label\",\"features\").show(10)"
   ]
  },
  {
   "cell_type": "code",
   "execution_count": 17,
   "metadata": {
    "collapsed": true
   },
   "outputs": [],
   "source": [
    "#indexing needed to for pre-req for decision trees\n",
    "from pyspark.ml.feature import StringIndexer"
   ]
  },
  {
   "cell_type": "code",
   "execution_count": 18,
   "metadata": {
    "collapsed": false
   },
   "outputs": [
    {
     "data": {
      "text/plain": [
       "[Row(label='setosa', features=DenseVector([5.1, 1.4, 0.2]), indexed=2.0),\n",
       " Row(label='setosa', features=DenseVector([4.9, 1.4, 0.2]), indexed=2.0),\n",
       " Row(label='setosa', features=DenseVector([4.7, 1.3, 0.2]), indexed=2.0),\n",
       " Row(label='setosa', features=DenseVector([4.6, 1.5, 0.2]), indexed=2.0),\n",
       " Row(label='setosa', features=DenseVector([5.0, 1.4, 0.2]), indexed=2.0),\n",
       " Row(label='setosa', features=DenseVector([5.4, 1.7, 0.4]), indexed=2.0),\n",
       " Row(label='setosa', features=DenseVector([4.6, 1.4, 0.3]), indexed=2.0),\n",
       " Row(label='setosa', features=DenseVector([5.0, 1.5, 0.2]), indexed=2.0),\n",
       " Row(label='setosa', features=DenseVector([4.4, 1.4, 0.2]), indexed=2.0),\n",
       " Row(label='setosa', features=DenseVector([4.9, 1.5, 0.1]), indexed=2.0),\n",
       " Row(label='setosa', features=DenseVector([5.4, 1.5, 0.2]), indexed=2.0),\n",
       " Row(label='setosa', features=DenseVector([4.8, 1.6, 0.2]), indexed=2.0),\n",
       " Row(label='setosa', features=DenseVector([4.8, 1.4, 0.1]), indexed=2.0),\n",
       " Row(label='setosa', features=DenseVector([4.3, 1.1, 0.1]), indexed=2.0),\n",
       " Row(label='setosa', features=DenseVector([5.8, 1.2, 0.2]), indexed=2.0),\n",
       " Row(label='setosa', features=DenseVector([5.7, 1.5, 0.4]), indexed=2.0),\n",
       " Row(label='setosa', features=DenseVector([5.4, 1.3, 0.4]), indexed=2.0),\n",
       " Row(label='setosa', features=DenseVector([5.1, 1.4, 0.3]), indexed=2.0),\n",
       " Row(label='setosa', features=DenseVector([5.7, 1.7, 0.3]), indexed=2.0),\n",
       " Row(label='setosa', features=DenseVector([5.1, 1.5, 0.3]), indexed=2.0),\n",
       " Row(label='setosa', features=DenseVector([5.4, 1.7, 0.2]), indexed=2.0),\n",
       " Row(label='setosa', features=DenseVector([5.1, 1.5, 0.4]), indexed=2.0),\n",
       " Row(label='setosa', features=DenseVector([4.6, 1.0, 0.2]), indexed=2.0),\n",
       " Row(label='setosa', features=DenseVector([5.1, 1.7, 0.5]), indexed=2.0),\n",
       " Row(label='setosa', features=DenseVector([4.8, 1.9, 0.2]), indexed=2.0),\n",
       " Row(label='setosa', features=DenseVector([5.0, 1.6, 0.2]), indexed=2.0),\n",
       " Row(label='setosa', features=DenseVector([5.0, 1.6, 0.4]), indexed=2.0),\n",
       " Row(label='setosa', features=DenseVector([5.2, 1.5, 0.2]), indexed=2.0),\n",
       " Row(label='setosa', features=DenseVector([5.2, 1.4, 0.2]), indexed=2.0),\n",
       " Row(label='setosa', features=DenseVector([4.7, 1.6, 0.2]), indexed=2.0),\n",
       " Row(label='setosa', features=DenseVector([4.8, 1.6, 0.2]), indexed=2.0),\n",
       " Row(label='setosa', features=DenseVector([5.4, 1.5, 0.4]), indexed=2.0),\n",
       " Row(label='setosa', features=DenseVector([5.2, 1.5, 0.1]), indexed=2.0),\n",
       " Row(label='setosa', features=DenseVector([5.5, 1.4, 0.2]), indexed=2.0),\n",
       " Row(label='setosa', features=DenseVector([4.9, 1.5, 0.2]), indexed=2.0),\n",
       " Row(label='setosa', features=DenseVector([5.0, 1.2, 0.2]), indexed=2.0),\n",
       " Row(label='setosa', features=DenseVector([5.5, 1.3, 0.2]), indexed=2.0),\n",
       " Row(label='setosa', features=DenseVector([4.9, 1.4, 0.1]), indexed=2.0),\n",
       " Row(label='setosa', features=DenseVector([4.4, 1.3, 0.2]), indexed=2.0),\n",
       " Row(label='setosa', features=DenseVector([5.1, 1.5, 0.2]), indexed=2.0),\n",
       " Row(label='setosa', features=DenseVector([5.0, 1.3, 0.3]), indexed=2.0),\n",
       " Row(label='setosa', features=DenseVector([4.5, 1.3, 0.3]), indexed=2.0),\n",
       " Row(label='setosa', features=DenseVector([4.4, 1.3, 0.2]), indexed=2.0),\n",
       " Row(label='setosa', features=DenseVector([5.0, 1.6, 0.6]), indexed=2.0),\n",
       " Row(label='setosa', features=DenseVector([5.1, 1.9, 0.4]), indexed=2.0),\n",
       " Row(label='setosa', features=DenseVector([4.8, 1.4, 0.3]), indexed=2.0),\n",
       " Row(label='setosa', features=DenseVector([5.1, 1.6, 0.2]), indexed=2.0),\n",
       " Row(label='setosa', features=DenseVector([4.6, 1.4, 0.2]), indexed=2.0),\n",
       " Row(label='setosa', features=DenseVector([5.3, 1.5, 0.2]), indexed=2.0),\n",
       " Row(label='setosa', features=DenseVector([5.0, 1.4, 0.2]), indexed=2.0),\n",
       " Row(label='versicolor', features=DenseVector([7.0, 4.7, 1.4]), indexed=0.0),\n",
       " Row(label='versicolor', features=DenseVector([6.4, 4.5, 1.5]), indexed=0.0),\n",
       " Row(label='versicolor', features=DenseVector([6.9, 4.9, 1.5]), indexed=0.0),\n",
       " Row(label='versicolor', features=DenseVector([5.5, 4.0, 1.3]), indexed=0.0),\n",
       " Row(label='versicolor', features=DenseVector([6.5, 4.6, 1.5]), indexed=0.0),\n",
       " Row(label='versicolor', features=DenseVector([5.7, 4.5, 1.3]), indexed=0.0),\n",
       " Row(label='versicolor', features=DenseVector([6.3, 4.7, 1.6]), indexed=0.0),\n",
       " Row(label='versicolor', features=DenseVector([4.9, 3.3, 1.0]), indexed=0.0),\n",
       " Row(label='versicolor', features=DenseVector([6.6, 4.6, 1.3]), indexed=0.0),\n",
       " Row(label='versicolor', features=DenseVector([5.2, 3.9, 1.4]), indexed=0.0),\n",
       " Row(label='versicolor', features=DenseVector([5.0, 3.5, 1.0]), indexed=0.0),\n",
       " Row(label='versicolor', features=DenseVector([5.9, 4.2, 1.5]), indexed=0.0),\n",
       " Row(label='versicolor', features=DenseVector([6.0, 4.0, 1.0]), indexed=0.0),\n",
       " Row(label='versicolor', features=DenseVector([6.1, 4.7, 1.4]), indexed=0.0),\n",
       " Row(label='versicolor', features=DenseVector([5.6, 3.6, 1.3]), indexed=0.0),\n",
       " Row(label='versicolor', features=DenseVector([6.7, 4.4, 1.4]), indexed=0.0),\n",
       " Row(label='versicolor', features=DenseVector([5.6, 4.5, 1.5]), indexed=0.0),\n",
       " Row(label='versicolor', features=DenseVector([5.8, 4.1, 1.0]), indexed=0.0),\n",
       " Row(label='versicolor', features=DenseVector([6.2, 4.5, 1.5]), indexed=0.0),\n",
       " Row(label='versicolor', features=DenseVector([5.6, 3.9, 1.1]), indexed=0.0),\n",
       " Row(label='versicolor', features=DenseVector([5.9, 4.8, 1.8]), indexed=0.0),\n",
       " Row(label='versicolor', features=DenseVector([6.1, 4.0, 1.3]), indexed=0.0),\n",
       " Row(label='versicolor', features=DenseVector([6.3, 4.9, 1.5]), indexed=0.0),\n",
       " Row(label='versicolor', features=DenseVector([6.1, 4.7, 1.2]), indexed=0.0),\n",
       " Row(label='versicolor', features=DenseVector([6.4, 4.3, 1.3]), indexed=0.0),\n",
       " Row(label='versicolor', features=DenseVector([6.6, 4.4, 1.4]), indexed=0.0),\n",
       " Row(label='versicolor', features=DenseVector([6.8, 4.8, 1.4]), indexed=0.0),\n",
       " Row(label='versicolor', features=DenseVector([6.7, 5.0, 1.7]), indexed=0.0),\n",
       " Row(label='versicolor', features=DenseVector([6.0, 4.5, 1.5]), indexed=0.0),\n",
       " Row(label='versicolor', features=DenseVector([5.7, 3.5, 1.0]), indexed=0.0),\n",
       " Row(label='versicolor', features=DenseVector([5.5, 3.8, 1.1]), indexed=0.0),\n",
       " Row(label='versicolor', features=DenseVector([5.5, 3.7, 1.0]), indexed=0.0),\n",
       " Row(label='versicolor', features=DenseVector([5.8, 3.9, 1.2]), indexed=0.0),\n",
       " Row(label='versicolor', features=DenseVector([6.0, 5.1, 1.6]), indexed=0.0),\n",
       " Row(label='versicolor', features=DenseVector([5.4, 4.5, 1.5]), indexed=0.0),\n",
       " Row(label='versicolor', features=DenseVector([6.0, 4.5, 1.6]), indexed=0.0),\n",
       " Row(label='versicolor', features=DenseVector([6.7, 4.7, 1.5]), indexed=0.0),\n",
       " Row(label='versicolor', features=DenseVector([6.3, 4.4, 1.3]), indexed=0.0),\n",
       " Row(label='versicolor', features=DenseVector([5.6, 4.1, 1.3]), indexed=0.0),\n",
       " Row(label='versicolor', features=DenseVector([5.5, 4.0, 1.3]), indexed=0.0),\n",
       " Row(label='versicolor', features=DenseVector([5.5, 4.4, 1.2]), indexed=0.0),\n",
       " Row(label='versicolor', features=DenseVector([6.1, 4.6, 1.4]), indexed=0.0),\n",
       " Row(label='versicolor', features=DenseVector([5.8, 4.0, 1.2]), indexed=0.0),\n",
       " Row(label='versicolor', features=DenseVector([5.0, 3.3, 1.0]), indexed=0.0),\n",
       " Row(label='versicolor', features=DenseVector([5.6, 4.2, 1.3]), indexed=0.0),\n",
       " Row(label='versicolor', features=DenseVector([5.7, 4.2, 1.2]), indexed=0.0),\n",
       " Row(label='versicolor', features=DenseVector([5.7, 4.2, 1.3]), indexed=0.0),\n",
       " Row(label='versicolor', features=DenseVector([6.2, 4.3, 1.3]), indexed=0.0),\n",
       " Row(label='versicolor', features=DenseVector([5.1, 3.0, 1.1]), indexed=0.0),\n",
       " Row(label='versicolor', features=DenseVector([5.7, 4.1, 1.3]), indexed=0.0),\n",
       " Row(label='virginica', features=DenseVector([6.3, 6.0, 2.5]), indexed=1.0),\n",
       " Row(label='virginica', features=DenseVector([5.8, 5.1, 1.9]), indexed=1.0),\n",
       " Row(label='virginica', features=DenseVector([7.1, 5.9, 2.1]), indexed=1.0),\n",
       " Row(label='virginica', features=DenseVector([6.3, 5.6, 1.8]), indexed=1.0),\n",
       " Row(label='virginica', features=DenseVector([6.5, 5.8, 2.2]), indexed=1.0),\n",
       " Row(label='virginica', features=DenseVector([7.6, 6.6, 2.1]), indexed=1.0),\n",
       " Row(label='virginica', features=DenseVector([4.9, 4.5, 1.7]), indexed=1.0),\n",
       " Row(label='virginica', features=DenseVector([7.3, 6.3, 1.8]), indexed=1.0),\n",
       " Row(label='virginica', features=DenseVector([6.7, 5.8, 1.8]), indexed=1.0),\n",
       " Row(label='virginica', features=DenseVector([7.2, 6.1, 2.5]), indexed=1.0),\n",
       " Row(label='virginica', features=DenseVector([6.5, 5.1, 2.0]), indexed=1.0),\n",
       " Row(label='virginica', features=DenseVector([6.4, 5.3, 1.9]), indexed=1.0),\n",
       " Row(label='virginica', features=DenseVector([6.8, 5.5, 2.1]), indexed=1.0),\n",
       " Row(label='virginica', features=DenseVector([5.7, 5.0, 2.0]), indexed=1.0),\n",
       " Row(label='virginica', features=DenseVector([5.8, 5.1, 2.4]), indexed=1.0),\n",
       " Row(label='virginica', features=DenseVector([6.4, 5.3, 2.3]), indexed=1.0),\n",
       " Row(label='virginica', features=DenseVector([6.5, 5.5, 1.8]), indexed=1.0),\n",
       " Row(label='virginica', features=DenseVector([7.7, 6.7, 2.2]), indexed=1.0),\n",
       " Row(label='virginica', features=DenseVector([7.7, 6.9, 2.3]), indexed=1.0),\n",
       " Row(label='virginica', features=DenseVector([6.0, 5.0, 1.5]), indexed=1.0),\n",
       " Row(label='virginica', features=DenseVector([6.9, 5.7, 2.3]), indexed=1.0),\n",
       " Row(label='virginica', features=DenseVector([5.6, 4.9, 2.0]), indexed=1.0),\n",
       " Row(label='virginica', features=DenseVector([7.7, 6.7, 2.0]), indexed=1.0),\n",
       " Row(label='virginica', features=DenseVector([6.3, 4.9, 1.8]), indexed=1.0),\n",
       " Row(label='virginica', features=DenseVector([6.7, 5.7, 2.1]), indexed=1.0),\n",
       " Row(label='virginica', features=DenseVector([7.2, 6.0, 1.8]), indexed=1.0),\n",
       " Row(label='virginica', features=DenseVector([6.2, 4.8, 1.8]), indexed=1.0),\n",
       " Row(label='virginica', features=DenseVector([6.1, 4.9, 1.8]), indexed=1.0),\n",
       " Row(label='virginica', features=DenseVector([6.4, 5.6, 2.1]), indexed=1.0),\n",
       " Row(label='virginica', features=DenseVector([7.2, 5.8, 1.6]), indexed=1.0),\n",
       " Row(label='virginica', features=DenseVector([7.4, 6.1, 1.9]), indexed=1.0),\n",
       " Row(label='virginica', features=DenseVector([7.9, 6.4, 2.0]), indexed=1.0),\n",
       " Row(label='virginica', features=DenseVector([6.4, 5.6, 2.2]), indexed=1.0),\n",
       " Row(label='virginica', features=DenseVector([6.3, 5.1, 1.5]), indexed=1.0),\n",
       " Row(label='virginica', features=DenseVector([6.1, 5.6, 1.4]), indexed=1.0),\n",
       " Row(label='virginica', features=DenseVector([7.7, 6.1, 2.3]), indexed=1.0),\n",
       " Row(label='virginica', features=DenseVector([6.3, 5.6, 2.4]), indexed=1.0),\n",
       " Row(label='virginica', features=DenseVector([6.4, 5.5, 1.8]), indexed=1.0),\n",
       " Row(label='virginica', features=DenseVector([6.0, 4.8, 1.8]), indexed=1.0),\n",
       " Row(label='virginica', features=DenseVector([6.9, 5.4, 2.1]), indexed=1.0),\n",
       " Row(label='virginica', features=DenseVector([6.7, 5.6, 2.4]), indexed=1.0),\n",
       " Row(label='virginica', features=DenseVector([6.9, 5.1, 2.3]), indexed=1.0),\n",
       " Row(label='virginica', features=DenseVector([5.8, 5.1, 1.9]), indexed=1.0),\n",
       " Row(label='virginica', features=DenseVector([6.8, 5.9, 2.3]), indexed=1.0),\n",
       " Row(label='virginica', features=DenseVector([6.7, 5.7, 2.5]), indexed=1.0),\n",
       " Row(label='virginica', features=DenseVector([6.7, 5.2, 2.3]), indexed=1.0),\n",
       " Row(label='virginica', features=DenseVector([6.3, 5.0, 1.9]), indexed=1.0),\n",
       " Row(label='virginica', features=DenseVector([6.5, 5.2, 2.0]), indexed=1.0),\n",
       " Row(label='virginica', features=DenseVector([6.2, 5.4, 2.3]), indexed=1.0),\n",
       " Row(label='virginica', features=DenseVector([5.9, 5.1, 1.8]), indexed=1.0)]"
      ]
     },
     "execution_count": 18,
     "metadata": {},
     "output_type": "execute_result"
    }
   ],
   "source": [
    "stringindexer = StringIndexer(inputCol=\"label\", outputCol=\"indexed\")\n",
    "si_model = stringindexer.fit(irisDF)\n",
    "td = si_model.transform(irisDF)\n",
    "td.collect()"
   ]
  },
  {
   "cell_type": "code",
   "execution_count": 19,
   "metadata": {
    "collapsed": true
   },
   "outputs": [],
   "source": [
    "#spliting the data into training and test data\n",
    "(trainingData, testData) = td.randomSplit([0.75, 0.25])"
   ]
  },
  {
   "cell_type": "code",
   "execution_count": 20,
   "metadata": {
    "collapsed": false
   },
   "outputs": [
    {
     "data": {
      "text/plain": [
       "121"
      ]
     },
     "execution_count": 20,
     "metadata": {},
     "output_type": "execute_result"
    }
   ],
   "source": [
    "trainingData.count()"
   ]
  },
  {
   "cell_type": "code",
   "execution_count": 38,
   "metadata": {
    "collapsed": false
   },
   "outputs": [
    {
     "data": {
      "text/plain": [
       "37"
      ]
     },
     "execution_count": 38,
     "metadata": {},
     "output_type": "execute_result"
    }
   ],
   "source": [
    "testData.count()"
   ]
  },
  {
   "cell_type": "code",
   "execution_count": 21,
   "metadata": {
    "collapsed": false
   },
   "outputs": [
    {
     "data": {
      "text/plain": [
       "[Row(label='setosa', features=DenseVector([4.5, 1.3, 0.3]), indexed=2.0),\n",
       " Row(label='setosa', features=DenseVector([4.7, 1.6, 0.2]), indexed=2.0),\n",
       " Row(label='setosa', features=DenseVector([4.8, 1.6, 0.2]), indexed=2.0),\n",
       " Row(label='setosa', features=DenseVector([4.9, 1.5, 0.2]), indexed=2.0),\n",
       " Row(label='setosa', features=DenseVector([5.0, 1.2, 0.2]), indexed=2.0),\n",
       " Row(label='setosa', features=DenseVector([5.0, 1.6, 0.6]), indexed=2.0),\n",
       " Row(label='setosa', features=DenseVector([5.1, 1.4, 0.3]), indexed=2.0),\n",
       " Row(label='setosa', features=DenseVector([5.1, 1.6, 0.2]), indexed=2.0),\n",
       " Row(label='setosa', features=DenseVector([5.1, 1.7, 0.5]), indexed=2.0),\n",
       " Row(label='setosa', features=DenseVector([5.2, 1.5, 0.1]), indexed=2.0),\n",
       " Row(label='setosa', features=DenseVector([5.4, 1.5, 0.4]), indexed=2.0),\n",
       " Row(label='setosa', features=DenseVector([5.7, 1.7, 0.3]), indexed=2.0),\n",
       " Row(label='versicolor', features=DenseVector([6.2, 4.5, 1.5]), indexed=0.0),\n",
       " Row(label='versicolor', features=DenseVector([6.8, 4.8, 1.4]), indexed=0.0),\n",
       " Row(label='versicolor', features=DenseVector([6.9, 4.9, 1.5]), indexed=0.0),\n",
       " Row(label='versicolor', features=DenseVector([5.5, 4.4, 1.2]), indexed=0.0),\n",
       " Row(label='versicolor', features=DenseVector([6.0, 4.5, 1.5]), indexed=0.0),\n",
       " Row(label='versicolor', features=DenseVector([6.0, 5.1, 1.6]), indexed=0.0),\n",
       " Row(label='versicolor', features=DenseVector([6.7, 4.7, 1.5]), indexed=0.0),\n",
       " Row(label='virginica', features=DenseVector([5.6, 4.9, 2.0]), indexed=1.0),\n",
       " Row(label='virginica', features=DenseVector([5.9, 5.1, 1.8]), indexed=1.0),\n",
       " Row(label='virginica', features=DenseVector([6.0, 5.0, 1.5]), indexed=1.0),\n",
       " Row(label='virginica', features=DenseVector([6.3, 5.1, 1.5]), indexed=1.0),\n",
       " Row(label='virginica', features=DenseVector([6.4, 5.3, 1.9]), indexed=1.0),\n",
       " Row(label='virginica', features=DenseVector([6.4, 5.5, 1.8]), indexed=1.0),\n",
       " Row(label='virginica', features=DenseVector([6.8, 5.5, 2.1]), indexed=1.0),\n",
       " Row(label='virginica', features=DenseVector([7.7, 6.7, 2.0]), indexed=1.0),\n",
       " Row(label='virginica', features=DenseVector([7.7, 6.7, 2.2]), indexed=1.0),\n",
       " Row(label='virginica', features=DenseVector([7.7, 6.9, 2.3]), indexed=1.0)]"
      ]
     },
     "execution_count": 21,
     "metadata": {},
     "output_type": "execute_result"
    }
   ],
   "source": [
    "testData.collect()"
   ]
  },
  {
   "cell_type": "code",
   "execution_count": 22,
   "metadata": {
    "collapsed": true
   },
   "outputs": [],
   "source": [
    "from pyspark.ml.classification import DecisionTreeClassifier\n",
    "from pyspark.ml.evaluation import MulticlassClassificationEvaluator"
   ]
  },
  {
   "cell_type": "code",
   "execution_count": 23,
   "metadata": {
    "collapsed": true
   },
   "outputs": [],
   "source": [
    "#create the model\n",
    "dtClassifier = DecisionTreeClassifier(maxDepth=2, labelCol=\"indexed\")"
   ]
  },
  {
   "cell_type": "code",
   "execution_count": 43,
   "metadata": {
    "collapsed": false
   },
   "outputs": [
    {
     "data": {
      "text/plain": [
       "'gini'"
      ]
     },
     "execution_count": 43,
     "metadata": {},
     "output_type": "execute_result"
    }
   ],
   "source": [
    "dtClassifier.getImpurity()"
   ]
  },
  {
   "cell_type": "code",
   "execution_count": 24,
   "metadata": {
    "collapsed": true
   },
   "outputs": [],
   "source": [
    "dtModel = dtClassifier.fit(trainingData)"
   ]
  },
  {
   "cell_type": "code",
   "execution_count": 26,
   "metadata": {
    "collapsed": false
   },
   "outputs": [
    {
     "data": {
      "text/plain": [
       "5"
      ]
     },
     "execution_count": 26,
     "metadata": {},
     "output_type": "execute_result"
    }
   ],
   "source": [
    "dtModel.numNodes\n"
   ]
  },
  {
   "cell_type": "code",
   "execution_count": 27,
   "metadata": {
    "collapsed": false
   },
   "outputs": [
    {
     "data": {
      "text/plain": [
       "2"
      ]
     },
     "execution_count": 27,
     "metadata": {},
     "output_type": "execute_result"
    }
   ],
   "source": [
    "dtModel.depth"
   ]
  },
  {
   "cell_type": "code",
   "execution_count": 29,
   "metadata": {
    "collapsed": false
   },
   "outputs": [
    {
     "data": {
      "text/plain": [
       "[Row(prediction=2.0, indexed=2.0, label='setosa', features=DenseVector([4.5, 1.3, 0.3])),\n",
       " Row(prediction=2.0, indexed=2.0, label='setosa', features=DenseVector([4.7, 1.6, 0.2])),\n",
       " Row(prediction=2.0, indexed=2.0, label='setosa', features=DenseVector([4.8, 1.6, 0.2])),\n",
       " Row(prediction=2.0, indexed=2.0, label='setosa', features=DenseVector([4.9, 1.5, 0.2])),\n",
       " Row(prediction=2.0, indexed=2.0, label='setosa', features=DenseVector([5.0, 1.2, 0.2])),\n",
       " Row(prediction=2.0, indexed=2.0, label='setosa', features=DenseVector([5.0, 1.6, 0.6])),\n",
       " Row(prediction=2.0, indexed=2.0, label='setosa', features=DenseVector([5.1, 1.4, 0.3])),\n",
       " Row(prediction=2.0, indexed=2.0, label='setosa', features=DenseVector([5.1, 1.6, 0.2])),\n",
       " Row(prediction=2.0, indexed=2.0, label='setosa', features=DenseVector([5.1, 1.7, 0.5])),\n",
       " Row(prediction=2.0, indexed=2.0, label='setosa', features=DenseVector([5.2, 1.5, 0.1])),\n",
       " Row(prediction=2.0, indexed=2.0, label='setosa', features=DenseVector([5.4, 1.5, 0.4])),\n",
       " Row(prediction=2.0, indexed=2.0, label='setosa', features=DenseVector([5.7, 1.7, 0.3])),\n",
       " Row(prediction=0.0, indexed=0.0, label='versicolor', features=DenseVector([6.2, 4.5, 1.5])),\n",
       " Row(prediction=1.0, indexed=0.0, label='versicolor', features=DenseVector([6.8, 4.8, 1.4])),\n",
       " Row(prediction=1.0, indexed=0.0, label='versicolor', features=DenseVector([6.9, 4.9, 1.5])),\n",
       " Row(prediction=0.0, indexed=0.0, label='versicolor', features=DenseVector([5.5, 4.4, 1.2])),\n",
       " Row(prediction=0.0, indexed=0.0, label='versicolor', features=DenseVector([6.0, 4.5, 1.5])),\n",
       " Row(prediction=1.0, indexed=0.0, label='versicolor', features=DenseVector([6.0, 5.1, 1.6])),\n",
       " Row(prediction=0.0, indexed=0.0, label='versicolor', features=DenseVector([6.7, 4.7, 1.5])),\n",
       " Row(prediction=1.0, indexed=1.0, label='virginica', features=DenseVector([5.6, 4.9, 2.0])),\n",
       " Row(prediction=1.0, indexed=1.0, label='virginica', features=DenseVector([5.9, 5.1, 1.8])),\n",
       " Row(prediction=1.0, indexed=1.0, label='virginica', features=DenseVector([6.0, 5.0, 1.5])),\n",
       " Row(prediction=1.0, indexed=1.0, label='virginica', features=DenseVector([6.3, 5.1, 1.5])),\n",
       " Row(prediction=1.0, indexed=1.0, label='virginica', features=DenseVector([6.4, 5.3, 1.9])),\n",
       " Row(prediction=1.0, indexed=1.0, label='virginica', features=DenseVector([6.4, 5.5, 1.8])),\n",
       " Row(prediction=1.0, indexed=1.0, label='virginica', features=DenseVector([6.8, 5.5, 2.1])),\n",
       " Row(prediction=1.0, indexed=1.0, label='virginica', features=DenseVector([7.7, 6.7, 2.0])),\n",
       " Row(prediction=1.0, indexed=1.0, label='virginica', features=DenseVector([7.7, 6.7, 2.2])),\n",
       " Row(prediction=1.0, indexed=1.0, label='virginica', features=DenseVector([7.7, 6.9, 2.3]))]"
      ]
     },
     "execution_count": 29,
     "metadata": {},
     "output_type": "execute_result"
    }
   ],
   "source": [
    "#predict the test data\n",
    "prediction = dtModel.transform(testData)\n",
    "prediction.select(\"prediction\", \"indexed\",\"label\", \"features\").collect()"
   ]
  },
  {
   "cell_type": "code",
   "execution_count": 34,
   "metadata": {
    "collapsed": false
   },
   "outputs": [
    {
     "data": {
      "text/plain": [
       "0.896551724137931"
      ]
     },
     "execution_count": 34,
     "metadata": {},
     "output_type": "execute_result"
    }
   ],
   "source": [
    "evaluator = MulticlassClassificationEvaluator(predictionCol=\"prediction\",labelCol=\"indexed\", metricName=\"accuracy\")\n",
    "evaluator.evaluate(prediction)"
   ]
  },
  {
   "cell_type": "code",
   "execution_count": null,
   "metadata": {
    "collapsed": true
   },
   "outputs": [],
   "source": [
    "#draw a confusion matrix\n",
    "prediction.groupBy(\"indexed\",\"prediction\").count().show()"
   ]
  },
  {
   "cell_type": "code",
   "execution_count": null,
   "metadata": {
    "collapsed": true
   },
   "outputs": [],
   "source": []
  },
  {
   "cell_type": "code",
   "execution_count": null,
   "metadata": {
    "collapsed": true
   },
   "outputs": [],
   "source": []
  }
 ],
 "metadata": {
  "anaconda-cloud": {},
  "kernelspec": {
   "display_name": "Python [conda root]",
   "language": "python",
   "name": "conda-root-py"
  },
  "language_info": {
   "codemirror_mode": {
    "name": "ipython",
    "version": 3
   },
   "file_extension": ".py",
   "mimetype": "text/x-python",
   "name": "python",
   "nbconvert_exporter": "python",
   "pygments_lexer": "ipython3",
   "version": "3.5.2"
  }
 },
 "nbformat": 4,
 "nbformat_minor": 1
}
