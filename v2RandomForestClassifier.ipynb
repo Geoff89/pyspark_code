{
 "cells": [
  {
   "cell_type": "code",
   "execution_count": 1,
   "metadata": {
    "collapsed": true
   },
   "outputs": [],
   "source": [
    "import os\n",
    "import sys\n",
    "\n",
    "os.chdir(\"C:/dataanalytics/python\")\n",
    "os.curdir\n",
    "\n",
    "#Configure the environment . Set this up to the directory where spark is installed\n",
    "if 'SPARK_HOME' not in os.environ:\n",
    "    os.environ['SPARK_HOME'] = 'C:\\\\spark'\n",
    "    \n",
    "#create a variable for our root path\n",
    "SPARK_HOME = os.environ['SPARK_HOME']\n",
    "\n",
    "#Add the following paths to the system path. Please check your installation\n",
    "#to make sure that these zip files actually exists. The names might change as\n",
    "#versions change\n",
    "sys.path.insert(0,os.path.join(SPARK_HOME,\"python\"))\n",
    "sys.path.insert(0,os.path.join(SPARK_HOME,\"python\",\"lib\"))\n",
    "sys.path.insert(0,os.path.join(SPARK_HOME,\"python\",\"lib\",\"py4j-0.10.6-src.zip\"))\n",
    "sys.path.insert(0,os.path.join(SPARK_HOME,\"python\",\"lib\",\"pyspark.zip\"))\n",
    " \n",
    "#Initialize a spark context\n",
    "from pyspark import SparkContext\n",
    "from pyspark import SparkConf\n",
    "\n",
    "#optionally configure spark\n",
    "conf = (SparkConf().setAppName(\"V2Maestros\").setMaster(\"local[2]\").set(\"spark.executor.memory\", \"1g\"))\n",
    "\n",
    "#Initalize spark context onl runs once\n",
    "sc = SparkContext(conf=conf)"
   ]
  },
  {
   "cell_type": "code",
   "execution_count": 2,
   "metadata": {
    "collapsed": true
   },
   "outputs": [],
   "source": [
    "bankData = sc.textFile(r'C:\\Users\\jeffnerd\\Desktop\\spark\\bank.csv')"
   ]
  },
  {
   "cell_type": "code",
   "execution_count": 3,
   "metadata": {
    "collapsed": false
   },
   "outputs": [
    {
     "data": {
      "text/plain": [
       "C:\\Users\\jeffnerd\\Desktop\\spark\\bank.csv MapPartitionsRDD[1] at textFile at <unknown>:0"
      ]
     },
     "execution_count": 3,
     "metadata": {},
     "output_type": "execute_result"
    }
   ],
   "source": [
    "bankData.cache()"
   ]
  },
  {
   "cell_type": "code",
   "execution_count": 4,
   "metadata": {
    "collapsed": false
   },
   "outputs": [
    {
     "data": {
      "text/plain": [
       "542"
      ]
     },
     "execution_count": 4,
     "metadata": {},
     "output_type": "execute_result"
    }
   ],
   "source": [
    "bankData.count()"
   ]
  },
  {
   "cell_type": "code",
   "execution_count": 7,
   "metadata": {
    "collapsed": false
   },
   "outputs": [
    {
     "data": {
      "text/plain": [
       "541"
      ]
     },
     "execution_count": 7,
     "metadata": {},
     "output_type": "execute_result"
    }
   ],
   "source": [
    "#removing he first line\n",
    "first = bankData.first()\n",
    "dataLines = bankData.filter(lambda x: x!=first)\n",
    "dataLines.count()"
   ]
  },
  {
   "cell_type": "code",
   "execution_count": 21,
   "metadata": {
    "collapsed": false
   },
   "outputs": [],
   "source": [
    "#convert rdds into a dense vector .Labesl are converterd to numeric ones\n",
    "import math\n",
    "from pyspark.ml.linalg import Vectors"
   ]
  },
  {
   "cell_type": "code",
   "execution_count": 11,
   "metadata": {
    "collapsed": true
   },
   "outputs": [],
   "source": [
    "from pyspark.mllib.linalg import Vectors"
   ]
  },
  {
   "cell_type": "code",
   "execution_count": 22,
   "metadata": {
    "collapsed": true
   },
   "outputs": [],
   "source": [
    "def transformToNumeric(inputStr):\n",
    "    \n",
    "    attList = inputStr.replace(\"\\\"\",\"\").split(\";\")\n",
    "    \n",
    "    age = float(attList[0])\n",
    "    #convert oucome to float\n",
    "    outcome = 0.0 if attList[16] == \"no\" else 1.0\n",
    "    \n",
    "    #create indicator variables for single/married. This creates three columns\n",
    "    single = 1.0 if attList[2] == \"single\" else 0.0\n",
    "    married = 1.0 if attList[2] == \"married\" else 0.0\n",
    "    divorced = 1.0 if attList[2] == \"divorced\" else 0.0\n",
    "    \n",
    "    #creating indicator variables for education\n",
    "    primary = 1.0 if attList[3] == \"primary\" else 0.0\n",
    "    secondary = 1.0 if attList[3] == \"secondary\" else 0.0\n",
    "    tertiary = 1.0 if attList[3] == \"tertiary\" else 0.0\n",
    "    \n",
    "    #converting dafault to float\n",
    "    default = 0.0 if attList[4] == \"no\" else 1.0\n",
    "    #convert balance amount yo float\n",
    "    balance = float(attList[5])\n",
    "    #convert loan to float\n",
    "    loan = 0.0 if attList[7] == \"no\" else 1.0\n",
    "    \n",
    "    #Filter out columns not wanted at this stage\n",
    "    values = Vectors.dense([outcome,age,single,married,divorced,primary,secondary,tertiary,\\\n",
    "                           default,balance,loan])\n",
    "    return values\n",
    "    \n",
    "    \n",
    "                                             "
   ]
  },
  {
   "cell_type": "code",
   "execution_count": 23,
   "metadata": {
    "collapsed": false
   },
   "outputs": [
    {
     "data": {
      "text/plain": [
       "[DenseVector([0.0, 30.0, 0.0, 1.0, 0.0, 1.0, 0.0, 0.0, 0.0, 1787.0, 0.0]),\n",
       " DenseVector([1.0, 33.0, 0.0, 1.0, 0.0, 0.0, 1.0, 0.0, 0.0, 4789.0, 1.0]),\n",
       " DenseVector([1.0, 35.0, 1.0, 0.0, 0.0, 0.0, 0.0, 1.0, 0.0, 1350.0, 0.0]),\n",
       " DenseVector([1.0, 30.0, 0.0, 1.0, 0.0, 0.0, 0.0, 1.0, 0.0, 1476.0, 1.0]),\n",
       " DenseVector([0.0, 59.0, 0.0, 1.0, 0.0, 0.0, 1.0, 0.0, 0.0, 0.0, 0.0]),\n",
       " DenseVector([1.0, 35.0, 1.0, 0.0, 0.0, 0.0, 0.0, 1.0, 0.0, 747.0, 0.0]),\n",
       " DenseVector([1.0, 36.0, 0.0, 1.0, 0.0, 0.0, 0.0, 1.0, 0.0, 307.0, 0.0]),\n",
       " DenseVector([0.0, 39.0, 0.0, 1.0, 0.0, 0.0, 1.0, 0.0, 0.0, 147.0, 0.0]),\n",
       " DenseVector([0.0, 41.0, 0.0, 1.0, 0.0, 0.0, 0.0, 1.0, 0.0, 221.0, 0.0]),\n",
       " DenseVector([1.0, 43.0, 0.0, 1.0, 0.0, 1.0, 0.0, 0.0, 0.0, -88.0, 1.0]),\n",
       " DenseVector([0.0, 39.0, 0.0, 1.0, 0.0, 0.0, 1.0, 0.0, 0.0, 9374.0, 0.0]),\n",
       " DenseVector([0.0, 43.0, 0.0, 1.0, 0.0, 0.0, 1.0, 0.0, 0.0, 264.0, 0.0]),\n",
       " DenseVector([0.0, 36.0, 0.0, 1.0, 0.0, 0.0, 0.0, 1.0, 0.0, 1109.0, 0.0]),\n",
       " DenseVector([1.0, 20.0, 1.0, 0.0, 0.0, 0.0, 1.0, 0.0, 0.0, 502.0, 0.0]),\n",
       " DenseVector([1.0, 31.0, 0.0, 1.0, 0.0, 0.0, 1.0, 0.0, 0.0, 360.0, 1.0])]"
      ]
     },
     "execution_count": 23,
     "metadata": {},
     "output_type": "execute_result"
    }
   ],
   "source": [
    "#change to a vector\n",
    "bankVectors = dataLines.map(transformToNumeric)\n",
    "bankVectors.collect() [:15]"
   ]
  },
  {
   "cell_type": "code",
   "execution_count": 14,
   "metadata": {
    "collapsed": true
   },
   "outputs": [],
   "source": [
    "#perform statistical analysis\n",
    "from pyspark.mllib.stat import Statistics"
   ]
  },
  {
   "cell_type": "code",
   "execution_count": 15,
   "metadata": {
    "collapsed": true
   },
   "outputs": [],
   "source": [
    "bankStats = Statistics.colStats(bankVectors)"
   ]
  },
  {
   "cell_type": "code",
   "execution_count": 16,
   "metadata": {
    "collapsed": false
   },
   "outputs": [
    {
     "data": {
      "text/plain": [
       "array([3.97412200e-01, 4.12698706e+01, 2.75415896e-01, 6.15526802e-01,\n",
       "       1.09057301e-01, 1.53419593e-01, 4.95378928e-01, 3.14232902e-01,\n",
       "       2.21811460e-02, 1.44478189e+03, 1.62661738e-01])"
      ]
     },
     "execution_count": 16,
     "metadata": {},
     "output_type": "execute_result"
    }
   ],
   "source": [
    "bankStats.mean()"
   ]
  },
  {
   "cell_type": "code",
   "execution_count": 17,
   "metadata": {
    "collapsed": false
   },
   "outputs": [
    {
     "data": {
      "text/plain": [
       "array([2.39919217e-01, 1.11415924e+02, 1.99931540e-01, 2.37091805e-01,\n",
       "       9.73437393e-02, 1.30122544e-01, 2.50441569e-01, 2.15889642e-01,\n",
       "       2.17293079e-02, 5.87224851e+06, 1.36455124e-01])"
      ]
     },
     "execution_count": 17,
     "metadata": {},
     "output_type": "execute_result"
    }
   ],
   "source": [
    "bankStats.variance()"
   ]
  },
  {
   "cell_type": "code",
   "execution_count": 18,
   "metadata": {
    "collapsed": false
   },
   "outputs": [
    {
     "data": {
      "text/plain": [
       "array([    0.,    19.,     0.,     0.,     0.,     0.,     0.,     0.,\n",
       "           0., -1206.,     0.])"
      ]
     },
     "execution_count": 18,
     "metadata": {},
     "output_type": "execute_result"
    }
   ],
   "source": [
    "bankStats.min()"
   ]
  },
  {
   "cell_type": "code",
   "execution_count": 19,
   "metadata": {
    "collapsed": false
   },
   "outputs": [
    {
     "data": {
      "text/plain": [
       "array([1.0000e+00, 7.8000e+01, 1.0000e+00, 1.0000e+00, 1.0000e+00,\n",
       "       1.0000e+00, 1.0000e+00, 1.0000e+00, 1.0000e+00, 1.6873e+04,\n",
       "       1.0000e+00])"
      ]
     },
     "execution_count": 19,
     "metadata": {},
     "output_type": "execute_result"
    }
   ],
   "source": [
    "bankStats.max()"
   ]
  },
  {
   "cell_type": "code",
   "execution_count": 20,
   "metadata": {
    "collapsed": false
   },
   "outputs": [
    {
     "data": {
      "text/plain": [
       "array([[ 1.        , -0.18232104,  0.46323285, -0.37532413, -0.0781266 ,\n",
       "        -0.12561549,  0.02639277,  0.08494841, -0.04536965,  0.03657487,\n",
       "        -0.03042059],\n",
       "       [-0.18232104,  1.        , -0.40971334,  0.24253548,  0.208662  ,\n",
       "         0.18705376, -0.1049356 , -0.08566612,  0.02589999,  0.14746211,\n",
       "        -0.0108042 ],\n",
       "       [ 0.46323285, -0.40971334,  1.        , -0.78008253, -0.21570121,\n",
       "        -0.10171839,  0.02638786,  0.06399288, -0.03666486,  0.00224317,\n",
       "         0.01977069],\n",
       "       [-0.37532413,  0.24253548, -0.78008253,  1.        , -0.44268309,\n",
       "         0.06232365,  0.00789467, -0.0625317 , -0.06156785, -0.00746014,\n",
       "         0.02917413],\n",
       "       [-0.0781266 ,  0.208662  , -0.21570121, -0.44268309,  1.        ,\n",
       "         0.04851091, -0.05013811,  0.00587947,  0.14863123,  0.00842788,\n",
       "        -0.07386451],\n",
       "       [-0.12561549,  0.18705376, -0.10171839,  0.06232365,  0.04851091,\n",
       "         1.        , -0.42178621, -0.28816671,  0.04036243, -0.01358146,\n",
       "         0.04862822],\n",
       "       [ 0.02639277, -0.1049356 ,  0.02638786,  0.00789467, -0.05013811,\n",
       "        -0.42178621,  1.        , -0.6706927 , -0.07391773, -0.03354993,\n",
       "         0.08421342],\n",
       "       [ 0.08494841, -0.08566612,  0.06399288, -0.0625317 ,  0.00587947,\n",
       "        -0.28816671, -0.6706927 ,  1.        ,  0.00619715,  0.05252215,\n",
       "        -0.10414418],\n",
       "       [-0.04536965,  0.02589999, -0.03666486, -0.06156785,  0.14863123,\n",
       "         0.04036243, -0.07391773,  0.00619715,  1.        , -0.10772431,\n",
       "         0.03564299],\n",
       "       [ 0.03657487,  0.14746211,  0.00224317, -0.00746014,  0.00842788,\n",
       "        -0.01358146, -0.03354993,  0.05252215, -0.10772431,  1.        ,\n",
       "        -0.143234  ],\n",
       "       [-0.03042059, -0.0108042 ,  0.01977069,  0.02917413, -0.07386451,\n",
       "         0.04862822,  0.08421342, -0.10414418,  0.03564299, -0.143234  ,\n",
       "         1.        ]])"
      ]
     },
     "execution_count": 20,
     "metadata": {},
     "output_type": "execute_result"
    }
   ],
   "source": [
    "Statistics.corr(bankVectors)"
   ]
  },
  {
   "cell_type": "code",
   "execution_count": null,
   "metadata": {
    "collapsed": true
   },
   "outputs": [],
   "source": [
    "#transform a dataframe for input to machine learning.Drop columns that are not required.(Low correlation.) Nb the above\n",
    "#data has low correlation spread ou so we use all features\n"
   ]
  },
  {
   "cell_type": "code",
   "execution_count": 24,
   "metadata": {
    "collapsed": true
   },
   "outputs": [],
   "source": [
    "def transformTolabeledPoint(inStr):\n",
    "    lp = (float(inStr[0]),\\\n",
    "         Vectors.dense([inStr[1],inStr[2],inStr[3],inStr[4],inStr[5],inStr[6],inStr[7],\\\n",
    "                       inStr[8],inStr[9],inStr[10]]))\n",
    "    return lp"
   ]
  },
  {
   "cell_type": "code",
   "execution_count": 25,
   "metadata": {
    "collapsed": true
   },
   "outputs": [],
   "source": [
    "from pyspark.sql import DataFrame,SparkSession,SQLContext"
   ]
  },
  {
   "cell_type": "code",
   "execution_count": 29,
   "metadata": {
    "collapsed": true
   },
   "outputs": [],
   "source": [
    "spark = SparkSession.builder.master(\"local\").appName(\"randomforest\").config(conf=conf).getOrCreate()"
   ]
  },
  {
   "cell_type": "code",
   "execution_count": null,
   "metadata": {
    "collapsed": true
   },
   "outputs": [],
   "source": [
    "bankLp = bankVectors.map(transformTolabeledPoint)\n",
    "bankLp.collect()"
   ]
  },
  {
   "cell_type": "code",
   "execution_count": 32,
   "metadata": {
    "collapsed": false
   },
   "outputs": [
    {
     "name": "stdout",
     "output_type": "stream",
     "text": [
      "+-----+--------------------+\n",
      "|label|            features|\n",
      "+-----+--------------------+\n",
      "|  0.0|[30.0,0.0,1.0,0.0...|\n",
      "|  1.0|[33.0,0.0,1.0,0.0...|\n",
      "|  1.0|[35.0,1.0,0.0,0.0...|\n",
      "|  1.0|[30.0,0.0,1.0,0.0...|\n",
      "|  0.0|[59.0,0.0,1.0,0.0...|\n",
      "|  1.0|[35.0,1.0,0.0,0.0...|\n",
      "|  1.0|[36.0,0.0,1.0,0.0...|\n",
      "|  0.0|[39.0,0.0,1.0,0.0...|\n",
      "|  0.0|[41.0,0.0,1.0,0.0...|\n",
      "|  1.0|[43.0,0.0,1.0,0.0...|\n",
      "+-----+--------------------+\n",
      "only showing top 10 rows\n",
      "\n"
     ]
    }
   ],
   "source": [
    "#create dataframe\n",
    "bankDF = spark.createDataFrame(bankLp, [\"label\", \"features\"])\n",
    "bankDF.select(\"label\", \"features\").show(10)"
   ]
  },
  {
   "cell_type": "code",
   "execution_count": 33,
   "metadata": {
    "collapsed": true
   },
   "outputs": [],
   "source": [
    "#transformation PCA\n",
    "from pyspark.ml.feature import PCA"
   ]
  },
  {
   "cell_type": "code",
   "execution_count": 34,
   "metadata": {
    "collapsed": false
   },
   "outputs": [
    {
     "name": "stdout",
     "output_type": "stream",
     "text": [
      "+-----+-------------------------------------------------------------+\n",
      "|label|pcafeatures                                                  |\n",
      "+-----+-------------------------------------------------------------+\n",
      "|0.0  |[-1787.018897197381,28.86209683775469,-0.06459982604832748]  |\n",
      "|1.0  |[-4789.020177138491,29.922562636340352,-0.9830243513099493]  |\n",
      "|1.0  |[-1350.022213163262,34.10110809796642,0.8951427168281559]    |\n",
      "|1.0  |[-1476.0189517184556,29.05133399359621,0.39527238680255483]  |\n",
      "|0.0  |[-0.037889185366455545,58.98971820001769,-0.7290792383674499]|\n",
      "|1.0  |[-747.0223377634923,34.48829198181747,0.9045654956949856]    |\n",
      "|1.0  |[-307.0230691022592,35.799850539655125,0.5170631523787519]   |\n",
      "|0.0  |[-147.02501216176339,38.901078566503244,-0.8069627548805192] |\n",
      "|0.0  |[-221.0262985348787,40.853633675694866,0.5373036365803051]   |\n",
      "|1.0  |[87.9723868768871,43.06265944115108,-0.067016428711774]      |\n",
      "|0.0  |[-9374.023105550941,32.97645883798975,-0.9511484606918585]   |\n",
      "|0.0  |[-264.02755731528384,42.82480363981344,-0.7936737710241804]  |\n",
      "|0.0  |[-1109.0229033818866,35.284889553173294,0.5045307002208789]  |\n",
      "|1.0  |[-502.012736403296,19.649271797807447,-0.48615993820422004]  |\n",
      "|1.0  |[-360.0198076551079,30.766980637613962,-0.9213732295772908]  |\n",
      "|0.0  |[-194.02563994730255,39.87162681803833,0.4530987690401238]   |\n",
      "|0.0  |[-4073.035120568305,53.375323491663146,-0.8040639317657764]  |\n",
      "|1.0  |[-2317.0232980131414,35.479626424872464,0.8875905344602808]  |\n",
      "|0.0  |[220.9838976313296,25.12353896656836,0.346038902463939]      |\n",
      "|1.0  |[-132.0198766019026,30.913009397389676,-0.8369629258632394]  |\n",
      "+-----+-------------------------------------------------------------+\n",
      "only showing top 20 rows\n",
      "\n"
     ]
    }
   ],
   "source": [
    "bankPCA = PCA(k=3, inputCol=\"features\", outputCol= \"pcafeatures\")\n",
    "pcaModel = bankPCA.fit(bankDF)\n",
    "pcaResult = pcaModel.transform(bankDF).select(\"label\", \"pcafeatures\")\n",
    "pcaResult.show(truncate = False)"
   ]
  },
  {
   "cell_type": "code",
   "execution_count": 35,
   "metadata": {
    "collapsed": true
   },
   "outputs": [],
   "source": [
    "#indexing pre-req for decision trees\n",
    "from pyspark.ml.feature import StringIndexer "
   ]
  },
  {
   "cell_type": "code",
   "execution_count": 36,
   "metadata": {
    "collapsed": false
   },
   "outputs": [
    {
     "data": {
      "text/plain": [
       "[Row(label=0.0, pcafeatures=DenseVector([-1787.0189, 28.8621, -0.0646]), indexed=0.0),\n",
       " Row(label=1.0, pcafeatures=DenseVector([-4789.0202, 29.9226, -0.983]), indexed=1.0),\n",
       " Row(label=1.0, pcafeatures=DenseVector([-1350.0222, 34.1011, 0.8951]), indexed=1.0),\n",
       " Row(label=1.0, pcafeatures=DenseVector([-1476.019, 29.0513, 0.3953]), indexed=1.0),\n",
       " Row(label=0.0, pcafeatures=DenseVector([-0.0379, 58.9897, -0.7291]), indexed=0.0),\n",
       " Row(label=1.0, pcafeatures=DenseVector([-747.0223, 34.4883, 0.9046]), indexed=1.0),\n",
       " Row(label=1.0, pcafeatures=DenseVector([-307.0231, 35.7999, 0.5171]), indexed=1.0),\n",
       " Row(label=0.0, pcafeatures=DenseVector([-147.025, 38.9011, -0.807]), indexed=0.0),\n",
       " Row(label=0.0, pcafeatures=DenseVector([-221.0263, 40.8536, 0.5373]), indexed=0.0),\n",
       " Row(label=1.0, pcafeatures=DenseVector([87.9724, 43.0627, -0.067]), indexed=1.0),\n",
       " Row(label=0.0, pcafeatures=DenseVector([-9374.0231, 32.9765, -0.9511]), indexed=0.0),\n",
       " Row(label=0.0, pcafeatures=DenseVector([-264.0276, 42.8248, -0.7937]), indexed=0.0),\n",
       " Row(label=0.0, pcafeatures=DenseVector([-1109.0229, 35.2849, 0.5045]), indexed=0.0),\n",
       " Row(label=1.0, pcafeatures=DenseVector([-502.0127, 19.6493, -0.4862]), indexed=1.0),\n",
       " Row(label=1.0, pcafeatures=DenseVector([-360.0198, 30.767, -0.9214]), indexed=1.0),\n",
       " Row(label=0.0, pcafeatures=DenseVector([-194.0256, 39.8716, 0.4531]), indexed=0.0),\n",
       " Row(label=0.0, pcafeatures=DenseVector([-4073.0351, 53.3753, -0.8041]), indexed=0.0),\n",
       " Row(label=1.0, pcafeatures=DenseVector([-2317.0233, 35.4796, 0.8876]), indexed=1.0),\n",
       " Row(label=0.0, pcafeatures=DenseVector([220.9839, 25.1235, 0.346]), indexed=0.0),\n",
       " Row(label=1.0, pcafeatures=DenseVector([-132.0199, 30.913, -0.837]), indexed=1.0),\n",
       " Row(label=0.0, pcafeatures=DenseVector([-0.0244, 37.9953, 0.2124]), indexed=0.0),\n",
       " Row(label=0.0, pcafeatures=DenseVector([-16.027, 41.9797, 0.8465]), indexed=0.0),\n",
       " Row(label=0.0, pcafeatures=DenseVector([-106.0282, 43.8966, -0.3893]), indexed=0.0),\n",
       " Row(label=0.0, pcafeatures=DenseVector([-93.0282, 43.9343, -0.7872]), indexed=0.0),\n",
       " Row(label=0.0, pcafeatures=DenseVector([-543.0166, 25.6512, 0.4756]), indexed=0.0),\n",
       " Row(label=0.0, pcafeatures=DenseVector([-5883.0251, 37.2181, 0.4488]), indexed=0.0),\n",
       " Row(label=0.0, pcafeatures=DenseVector([-627.0352, 54.5997, 0.048]), indexed=0.0),\n",
       " Row(label=1.0, pcafeatures=DenseVector([-696.0429, 66.5454, 0.0089]), indexed=1.0),\n",
       " Row(label=0.0, pcafeatures=DenseVector([-784.0358, 55.4875, -0.8335]), indexed=0.0),\n",
       " Row(label=0.0, pcafeatures=DenseVector([-105.034, 52.9244, -0.8342]), indexed=0.0),\n",
       " Row(label=1.0, pcafeatures=DenseVector([-4189.0428, 65.2921, -0.4583]), indexed=1.0),\n",
       " Row(label=0.0, pcafeatures=DenseVector([-171.0199, 30.888, -0.8376]), indexed=0.0),\n",
       " Row(label=0.0, pcafeatures=DenseVector([-42.0379, 58.9628, -0.7297]), indexed=0.0),\n",
       " Row(label=1.0, pcafeatures=DenseVector([-2536.02, 30.3404, 0.8653]), indexed=1.0),\n",
       " Row(label=1.0, pcafeatures=DenseVector([-1235.0312, 48.2002, 0.5517]), indexed=1.0),\n",
       " Row(label=0.0, pcafeatures=DenseVector([-1811.0266, 40.8265, -0.5194]), indexed=0.0),\n",
       " Row(label=1.0, pcafeatures=DenseVector([-229.0501, 77.8434, 0.4434]), indexed=1.0),\n",
       " Row(label=1.0, pcafeatures=DenseVector([-2089.0201, 30.6561, -0.8638]), indexed=1.0),\n",
       " Row(label=1.0, pcafeatures=DenseVector([-3935.0204, 30.4705, -0.8888]), indexed=1.0),\n",
       " Row(label=1.0, pcafeatures=DenseVector([-363.0147, 22.7383, 0.8652]), indexed=1.0),\n",
       " Row(label=1.0, pcafeatures=DenseVector([-11971.0219, 30.2805, 0.7405]), indexed=1.0),\n",
       " Row(label=0.0, pcafeatures=DenseVector([-553.023, 35.6126, 0.9114]), indexed=0.0),\n",
       " Row(label=0.0, pcafeatures=DenseVector([-1117.0332, 51.2745, -0.773]), indexed=0.0),\n",
       " Row(label=0.0, pcafeatures=DenseVector([-396.0205, 31.7439, 0.5006]), indexed=0.0),\n",
       " Row(label=1.0, pcafeatures=DenseVector([-2204.0201, 30.5536, 0.8705]), indexed=1.0),\n",
       " Row(label=1.0, pcafeatures=DenseVector([-872.0217, 33.4083, 0.8988]), indexed=1.0),\n",
       " Row(label=1.0, pcafeatures=DenseVector([-145.0353, 54.9092, 0.0555]), indexed=1.0),\n",
       " Row(label=0.0, pcafeatures=DenseVector([-0.0167, 26.0107, -0.0518]), indexed=0.0),\n",
       " Row(label=1.0, pcafeatures=DenseVector([848.9793, 32.5257, 0.3176]), indexed=1.0),\n",
       " Row(label=1.0, pcafeatures=DenseVector([-4629.0382, 58.0217, -0.0753]), indexed=1.0),\n",
       " Row(label=1.0, pcafeatures=DenseVector([-844.0287, 44.458, 0.3091]), indexed=1.0),\n",
       " Row(label=1.0, pcafeatures=DenseVector([-228.0237, 36.8203, -0.4176]), indexed=1.0),\n",
       " Row(label=1.0, pcafeatures=DenseVector([-50.0244, 37.9343, -0.4111]), indexed=1.0),\n",
       " Row(label=1.0, pcafeatures=DenseVector([-1539.0215, 33.0094, 0.4903]), indexed=1.0),\n",
       " Row(label=0.0, pcafeatures=DenseVector([-2231.0336, 51.5589, -0.7866]), indexed=0.0),\n",
       " Row(label=0.0, pcafeatures=DenseVector([-3064.0302, 46.0255, -0.8185]), indexed=0.0),\n",
       " Row(label=0.0, pcafeatures=DenseVector([-82.0366, 56.938, -0.8188]), indexed=0.0),\n",
       " Row(label=1.0, pcafeatures=DenseVector([-2155.0208, 31.5848, 0.875]), indexed=1.0),\n",
       " Row(label=1.0, pcafeatures=DenseVector([-101.0231, 35.9025, -0.5003]), indexed=1.0),\n",
       " Row(label=0.0, pcafeatures=DenseVector([-784.0345, 53.4829, -0.5388]), indexed=0.0),\n",
       " Row(label=0.0, pcafeatures=DenseVector([515.9736, 41.3381, -0.0679]), indexed=0.0),\n",
       " Row(label=0.0, pcafeatures=DenseVector([-415.0404, 62.7221, -0.7204]), indexed=0.0),\n",
       " Row(label=0.0, pcafeatures=DenseVector([-5887.0296, 44.2135, 0.4752]), indexed=0.0),\n",
       " Row(label=0.0, pcafeatures=DenseVector([-1355.0305, 47.1228, -0.7918]), indexed=0.0),\n",
       " Row(label=0.0, pcafeatures=DenseVector([-16873.0325, 45.1565, -1.0041]), indexed=0.0),\n",
       " Row(label=1.0, pcafeatures=DenseVector([-203.0327, 50.8564, -0.4602]), indexed=1.0),\n",
       " Row(label=0.0, pcafeatures=DenseVector([-338.0198, 30.7807, -0.8402]), indexed=0.0),\n",
       " Row(label=0.0, pcafeatures=DenseVector([-444.0185, 28.7133, -0.8494]), indexed=0.0),\n",
       " Row(label=0.0, pcafeatures=DenseVector([-0.0263, 40.9953, -0.878]), indexed=0.0),\n",
       " Row(label=1.0, pcafeatures=DenseVector([-360.0205, 31.7376, 0.8993]), indexed=1.0),\n",
       " Row(label=1.0, pcafeatures=DenseVector([-0.0238, 36.9967, 0.5256]), indexed=1.0),\n",
       " Row(label=0.0, pcafeatures=DenseVector([-2.027, 41.9893, 0.8629]), indexed=0.0),\n",
       " Row(label=1.0, pcafeatures=DenseVector([-6248.0186, 26.9573, 0.8035]), indexed=1.0),\n",
       " Row(label=0.0, pcafeatures=DenseVector([-412.0263, 40.731, 0.5343]), indexed=0.0),\n",
       " Row(label=0.0, pcafeatures=DenseVector([-344.0359, 55.7697, -0.7458]), indexed=0.0),\n",
       " Row(label=0.0, pcafeatures=DenseVector([-3222.034, 51.9177, 0.8418]), indexed=0.0),\n",
       " Row(label=1.0, pcafeatures=DenseVector([-174.0263, 40.8779, -0.4976]), indexed=1.0),\n",
       " Row(label=1.0, pcafeatures=DenseVector([-591.0255, 39.5867, -0.4928]), indexed=1.0),\n",
       " Row(label=0.0, pcafeatures=DenseVector([-388.032, 49.7494, 0.3351]), indexed=0.0),\n",
       " Row(label=1.0, pcafeatures=DenseVector([-219.0256, 39.8546, -0.8043]), indexed=1.0),\n",
       " Row(label=1.0, pcafeatures=DenseVector([-451.0172, 26.7041, -0.5548]), indexed=1.0),\n",
       " Row(label=0.0, pcafeatures=DenseVector([-5.0385, 59.9977, 0.0766]), indexed=0.0),\n",
       " Row(label=1.0, pcafeatures=DenseVector([-177.0179, 27.856, -0.5317]), indexed=1.0),\n",
       " Row(label=1.0, pcafeatures=DenseVector([-657.0333, 51.5699, -0.7658]), indexed=1.0),\n",
       " Row(label=1.0, pcafeatures=DenseVector([-1315.0235, 36.1523, 0.5051]), indexed=1.0),\n",
       " Row(label=0.0, pcafeatures=DenseVector([-1466.0325, 50.0622, 0.0198]), indexed=0.0),\n",
       " Row(label=1.0, pcafeatures=DenseVector([-879.0261, 40.4015, -0.4935]), indexed=1.0),\n",
       " Row(label=1.0, pcafeatures=DenseVector([-293.0224, 34.7906, 0.3758]), indexed=1.0),\n",
       " Row(label=0.0, pcafeatures=DenseVector([-424.0243, 37.7235, -0.8151]), indexed=0.0),\n",
       " Row(label=0.0, pcafeatures=DenseVector([-1831.0215, 32.8212, -0.8522]), indexed=0.0),\n",
       " Row(label=0.0, pcafeatures=DenseVector([-111.025, 38.9357, -0.0044]), indexed=0.0),\n",
       " Row(label=0.0, pcafeatures=DenseVector([-455.0217, 33.7162, -0.0287]), indexed=0.0),\n",
       " Row(label=1.0, pcafeatures=DenseVector([194.9826, 27.0948, -0.4488]), indexed=1.0),\n",
       " Row(label=1.0, pcafeatures=DenseVector([-3616.0198, 29.647, 0.8484]), indexed=1.0),\n",
       " Row(label=0.0, pcafeatures=DenseVector([-14093.0337, 47.9412, -0.9569]), indexed=0.0),\n",
       " Row(label=1.0, pcafeatures=DenseVector([-1567.026, 39.96, 0.9144]), indexed=1.0),\n",
       " Row(label=0.0, pcafeatures=DenseVector([-5426.0252, 37.5115, 0.456]), indexed=0.0),\n",
       " Row(label=1.0, pcafeatures=DenseVector([-261.0192, 29.8018, 0.8933]), indexed=1.0),\n",
       " Row(label=0.0, pcafeatures=DenseVector([-2843.0225, 34.1656, -0.5582]), indexed=0.0),\n",
       " Row(label=1.0, pcafeatures=DenseVector([-406.0198, 30.7192, 0.3589]), indexed=1.0),\n",
       " Row(label=0.0, pcafeatures=DenseVector([-0.0231, 35.9963, -0.816]), indexed=0.0),\n",
       " Row(label=1.0, pcafeatures=DenseVector([-493.0243, 37.6505, 0.9199]), indexed=1.0),\n",
       " Row(label=0.0, pcafeatures=DenseVector([-5996.0302, 45.1426, -0.8606]), indexed=0.0),\n",
       " Row(label=1.0, pcafeatures=DenseVector([-3777.0358, 54.5472, 0.4045]), indexed=1.0),\n",
       " Row(label=1.0, pcafeatures=DenseVector([-524.0217, 33.6311, -0.4336]), indexed=1.0),\n",
       " Row(label=1.0, pcafeatures=DenseVector([-574.0204, 31.6002, 0.8959]), indexed=1.0),\n",
       " Row(label=0.0, pcafeatures=DenseVector([-427.0236, 36.7222, -0.8997]), indexed=0.0),\n",
       " Row(label=0.0, pcafeatures=DenseVector([-483.0211, 32.6877, 0.503]), indexed=0.0),\n",
       " Row(label=1.0, pcafeatures=DenseVector([-3391.0353, 53.8247, 0.0086]), indexed=1.0),\n",
       " Row(label=0.0, pcafeatures=DenseVector([-0.0173, 27.0104, -0.048]), indexed=0.0),\n",
       " Row(label=1.0, pcafeatures=DenseVector([-2488.013, 19.3738, -0.5134]), indexed=1.0),\n",
       " Row(label=0.0, pcafeatures=DenseVector([-1517.037, 57.0166, 0.5813]), indexed=0.0),\n",
       " Row(label=0.0, pcafeatures=DenseVector([-217.0205, 31.8585, -0.9154]), indexed=0.0),\n",
       " Row(label=1.0, pcafeatures=DenseVector([-22.0212, 32.9537, -0.4295]), indexed=1.0),\n",
       " Row(label=1.0, pcafeatures=DenseVector([-331.016, 24.7576, -0.4646]), indexed=1.0),\n",
       " Row(label=1.0, pcafeatures=DenseVector([-505.0159, 24.6463, -0.5482]), indexed=1.0),\n",
       " Row(label=0.0, pcafeatures=DenseVector([-1808.0189, 28.8371, -0.8669]), indexed=0.0),\n",
       " Row(label=1.0, pcafeatures=DenseVector([-4111.0133, 19.3317, -0.6158]), indexed=1.0),\n",
       " Row(label=0.0, pcafeatures=DenseVector([-52.025, 38.9735, -0.0035]), indexed=0.0),\n",
       " Row(label=0.0, pcafeatures=DenseVector([-25.0296, 45.9728, 0.8615]), indexed=0.0),\n",
       " Row(label=0.0, pcafeatures=DenseVector([-1890.0195, 29.7789, -0.5622]), indexed=0.0),\n",
       " Row(label=0.0, pcafeatures=DenseVector([-419.0288, 44.7362, 0.0135]), indexed=0.0),\n",
       " Row(label=0.0, pcafeatures=DenseVector([-2693.02, 30.2683, -0.8732]), indexed=0.0),\n",
       " Row(label=0.0, pcafeatures=DenseVector([230.9769, 36.145, -0.8932]), indexed=0.0),\n",
       " Row(label=1.0, pcafeatures=DenseVector([54.9672, 50.9993, 0.9937]), indexed=1.0),\n",
       " Row(label=1.0, pcafeatures=DenseVector([-462.0218, 33.6716, 0.9052]), indexed=1.0),\n",
       " Row(label=1.0, pcafeatures=DenseVector([-119.0154, 23.894, -0.4651]), indexed=1.0),\n",
       " Row(label=1.0, pcafeatures=DenseVector([-586.0288, 44.5885, -0.4738]), indexed=1.0),\n",
       " Row(label=1.0, pcafeatures=DenseVector([-228.0205, 31.8218, -0.4365]), indexed=1.0),\n",
       " Row(label=1.0, pcafeatures=DenseVector([-4659.0485, 73.9884, 0.9062]), indexed=1.0),\n",
       " Row(label=0.0, pcafeatures=DenseVector([-168.0263, 40.8985, 0.0023]), indexed=0.0),\n",
       " Row(label=0.0, pcafeatures=DenseVector([-0.0238, 37.0075, -0.0102]), indexed=0.0),\n",
       " Row(label=0.0, pcafeatures=DenseVector([714.9722, 43.4589, -0.0437]), indexed=0.0),\n",
       " Row(label=1.0, pcafeatures=DenseVector([-0.0308, 47.9977, -0.0521]), indexed=1.0),\n",
       " Row(label=1.0, pcafeatures=DenseVector([-769.0172, 26.4758, -0.4639]), indexed=1.0),\n",
       " Row(label=1.0, pcafeatures=DenseVector([-0.0212, 32.9685, 0.9087]), indexed=1.0),\n",
       " Row(label=1.0, pcafeatures=DenseVector([-428.0185, 28.6946, -0.5318]), indexed=1.0),\n",
       " Row(label=1.0, pcafeatures=DenseVector([-0.0218, 33.9682, 0.9125]), indexed=1.0),\n",
       " Row(label=1.0, pcafeatures=DenseVector([969.9664, 52.6152, 0.5975]), indexed=1.0),\n",
       " Row(label=0.0, pcafeatures=DenseVector([-6313.0372, 55.9407, -0.1054]), indexed=0.0),\n",
       " Row(label=0.0, pcafeatures=DenseVector([-948.0204, 31.3842, 0.7942]), indexed=0.0),\n",
       " Row(label=1.0, pcafeatures=DenseVector([-0.0206, 31.9688, 0.9049]), indexed=1.0),\n",
       " Row(label=0.0, pcafeatures=DenseVector([-1877.0356, 54.785, 0.2511]), indexed=0.0),\n",
       " Row(label=1.0, pcafeatures=DenseVector([-874.0197, 30.4079, 0.8875]), indexed=1.0),\n",
       " Row(label=0.0, pcafeatures=DenseVector([-323.0269, 41.7876, -0.8792]), indexed=0.0),\n",
       " Row(label=0.0, pcafeatures=DenseVector([-106.0224, 34.9296, 0.4356]), indexed=0.0),\n",
       " Row(label=0.0, pcafeatures=DenseVector([-1906.0356, 54.7786, -0.049]), indexed=0.0),\n",
       " Row(label=0.0, pcafeatures=DenseVector([-1152.0306, 47.2532, -0.7887]), indexed=0.0),\n",
       " Row(label=1.0, pcafeatures=DenseVector([-179.0295, 45.8785, -0.781]), indexed=1.0),\n",
       " Row(label=1.0, pcafeatures=DenseVector([-391.0237, 36.7205, 0.2984]), indexed=1.0),\n",
       " Row(label=0.0, pcafeatures=DenseVector([-89.0263, 40.9426, -0.0799]), indexed=0.0),\n",
       " Row(label=1.0, pcafeatures=DenseVector([-442.023, 35.6842, 0.8323]), indexed=1.0),\n",
       " Row(label=0.0, pcafeatures=DenseVector([248.9711, 45.1608, 0.2614]), indexed=0.0),\n",
       " Row(label=0.0, pcafeatures=DenseVector([-8104.0336, 49.7873, -0.8708]), indexed=0.0),\n",
       " Row(label=0.0, pcafeatures=DenseVector([-501.0249, 38.6738, -0.8125]), indexed=0.0),\n",
       " Row(label=0.0, pcafeatures=DenseVector([-308.0224, 34.7936, -0.5224]), indexed=0.0),\n",
       " Row(label=1.0, pcafeatures=DenseVector([-602.0352, 54.6043, -0.7536]), indexed=1.0),\n",
       " Row(label=1.0, pcafeatures=DenseVector([-273.0353, 54.8156, -0.7485]), indexed=1.0),\n",
       " Row(label=1.0, pcafeatures=DenseVector([-50.0173, 26.9375, -0.4526]), indexed=1.0),\n",
       " Row(label=0.0, pcafeatures=DenseVector([-1641.0215, 32.9432, -0.8492]), indexed=0.0),\n",
       " Row(label=0.0, pcafeatures=DenseVector([-20.0218, 33.9847, 0.514]), indexed=0.0),\n",
       " Row(label=1.0, pcafeatures=DenseVector([-4590.0151, 22.0229, -0.5311]), indexed=1.0),\n",
       " Row(label=1.0, pcafeatures=DenseVector([255.9736, 41.1303, -0.4758]), indexed=1.0),\n",
       " Row(label=0.0, pcafeatures=DenseVector([-978.0274, 42.3667, -0.8857]), indexed=0.0),\n",
       " Row(label=1.0, pcafeatures=DenseVector([-80.018, 27.9186, 0.8885]), indexed=1.0),\n",
       " Row(label=1.0, pcafeatures=DenseVector([-2104.0195, 29.6175, -0.4696]), indexed=1.0),\n",
       " Row(label=0.0, pcafeatures=DenseVector([-499.05, 77.6639, -0.6651]), indexed=0.0),\n",
       " Row(label=0.0, pcafeatures=DenseVector([-1269.0286, 44.1737, -0.4996]), indexed=0.0),\n",
       " Row(label=0.0, pcafeatures=DenseVector([-310.0308, 47.7945, 0.5624]), indexed=0.0),\n",
       " Row(label=1.0, pcafeatures=DenseVector([-1143.0203, 31.2346, -0.5317]), indexed=1.0),\n",
       " Row(label=0.0, pcafeatures=DenseVector([-2980.0264, 40.0812, -0.8399]), indexed=0.0),\n",
       " Row(label=1.0, pcafeatures=DenseVector([-37.0238, 36.9436, 0.9232]), indexed=1.0),\n",
       " Row(label=1.0, pcafeatures=DenseVector([-462.0256, 39.6696, -0.4908]), indexed=1.0),\n",
       " Row(label=0.0, pcafeatures=DenseVector([-1031.0203, 31.3355, -0.8472]), indexed=0.0),\n",
       " Row(label=0.0, pcafeatures=DenseVector([-9009.0251, 36.2106, 0.4038]), indexed=0.0),\n",
       " Row(label=0.0, pcafeatures=DenseVector([464.9723, 43.2933, -0.8631]), indexed=0.0),\n",
       " Row(label=0.0, pcafeatures=DenseVector([-5181.0272, 40.6677, -0.9476]), indexed=0.0),\n",
       " Row(label=1.0, pcafeatures=DenseVector([-176.0237, 36.883, -0.815]), indexed=1.0),\n",
       " Row(label=0.0, pcafeatures=DenseVector([-1699.0234, 35.91, -0.1202]), indexed=0.0),\n",
       " Row(label=1.0, pcafeatures=DenseVector([-0.0238, 36.9967, 0.5256]), indexed=1.0),\n",
       " Row(label=1.0, pcafeatures=DenseVector([-172.0179, 27.8599, 0.8062]), indexed=1.0),\n",
       " Row(label=1.0, pcafeatures=DenseVector([-0.0205, 31.9685, -0.5138]), indexed=1.0),\n",
       " Row(label=1.0, pcafeatures=DenseVector([-6979.0204, 29.4864, -0.5345]), indexed=1.0),\n",
       " Row(label=0.0, pcafeatures=DenseVector([-6.0257, 39.9861, -0.4987]), indexed=0.0),\n",
       " Row(label=0.0, pcafeatures=DenseVector([61.9782, 34.0367, -0.8226]), indexed=0.0),\n",
       " Row(label=0.0, pcafeatures=DenseVector([-1972.0214, 32.7313, 0.4835]), indexed=0.0),\n",
       " Row(label=0.0, pcafeatures=DenseVector([-899.0217, 33.4203, 0.5003]), indexed=0.0),\n",
       " Row(label=1.0, pcafeatures=DenseVector([-21.0238, 36.9532, -0.4144]), indexed=1.0),\n",
       " Row(label=1.0, pcafeatures=DenseVector([-23.0231, 35.9816, -0.8164]), indexed=1.0),\n",
       " Row(label=1.0, pcafeatures=DenseVector([1205.9638, 56.7649, -0.7216]), indexed=1.0),\n",
       " Row(label=0.0, pcafeatures=DenseVector([-0.0314, 49.0044, -0.0457]), indexed=0.0),\n",
       " Row(label=0.0, pcafeatures=DenseVector([-215.0211, 32.8591, -0.8307]), indexed=0.0),\n",
       " Row(label=0.0, pcafeatures=DenseVector([-1372.019, 29.0884, 0.8759]), indexed=0.0),\n",
       " Row(label=0.0, pcafeatures=DenseVector([-1981.0227, 34.7243, -0.847]), indexed=0.0),\n",
       " Row(label=1.0, pcafeatures=DenseVector([-9216.0129, 17.0532, -0.611]), indexed=1.0),\n",
       " Row(label=0.0, pcafeatures=DenseVector([-39.0366, 56.96, -0.435]), indexed=0.0),\n",
       " Row(label=1.0, pcafeatures=DenseVector([-5563.0162, 23.3976, -0.5388]), indexed=1.0),\n",
       " Row(label=0.0, pcafeatures=DenseVector([-1.0244, 37.9955, -0.8893]), indexed=0.0),\n",
       " Row(label=0.0, pcafeatures=DenseVector([-782.0268, 41.4931, 0.5323]), indexed=0.0),\n",
       " Row(label=1.0, pcafeatures=DenseVector([-3771.0474, 72.5638, -0.7275]), indexed=1.0),\n",
       " Row(label=1.0, pcafeatures=DenseVector([-992.0216, 33.3313, 0.897]), indexed=1.0),\n",
       " Row(label=0.0, pcafeatures=DenseVector([-1526.0305, 47.013, -0.7945]), indexed=0.0),\n",
       " Row(label=1.0, pcafeatures=DenseVector([-2658.0219, 33.2612, 0.8747]), indexed=1.0),\n",
       " Row(label=1.0, pcafeatures=DenseVector([-1315.0248, 38.1465, 0.8149]), indexed=1.0),\n",
       " Row(label=1.0, pcafeatures=DenseVector([-455.0185, 28.6775, 0.8865]), indexed=1.0),\n",
       " Row(label=1.0, pcafeatures=DenseVector([-0.0289, 44.9651, 0.954]), indexed=1.0),\n",
       " Row(label=0.0, pcafeatures=DenseVector([-2030.0265, 40.6915, -0.9059]), indexed=0.0),\n",
       " Row(label=1.0, pcafeatures=DenseVector([-1599.0183, 27.9716, -0.8674]), indexed=1.0),\n",
       " Row(label=1.0, pcafeatures=DenseVector([195.9756, 38.0923, -0.4072]), indexed=1.0),\n",
       " Row(label=0.0, pcafeatures=DenseVector([-1333.0357, 55.1347, -0.7612]), indexed=0.0),\n",
       " Row(label=1.0, pcafeatures=DenseVector([-9149.0212, 30.0925, -0.5608]), indexed=1.0),\n",
       " Row(label=1.0, pcafeatures=DenseVector([349.9839, 25.1949, -0.4539]), indexed=1.0),\n",
       " Row(label=1.0, pcafeatures=DenseVector([-432.0243, 37.719, 0.5227]), indexed=1.0),\n",
       " Row(label=0.0, pcafeatures=DenseVector([-11494.0342, 49.61, -0.9162]), indexed=0.0),\n",
       " Row(label=0.0, pcafeatures=DenseVector([252.98, 31.1615, 0.523]), indexed=0.0),\n",
       " Row(label=1.0, pcafeatures=DenseVector([-372.0269, 41.7564, 0.5387]), indexed=1.0),\n",
       " Row(label=0.0, pcafeatures=DenseVector([-1410.0286, 44.0884, -0.804]), indexed=0.0),\n",
       " Row(label=1.0, pcafeatures=DenseVector([-975.0191, 29.372, -0.8539]), indexed=1.0),\n",
       " Row(label=0.0, pcafeatures=DenseVector([-305.0314, 48.8086, -0.0505]), indexed=0.0),\n",
       " Row(label=0.0, pcafeatures=DenseVector([-400.0314, 48.7358, -0.7731]), indexed=0.0),\n",
       " Row(label=0.0, pcafeatures=DenseVector([21.9659, 53.0062, 0.5865]), indexed=0.0),\n",
       " Row(label=0.0, pcafeatures=DenseVector([-4030.0229, 34.4084, -0.8752]), indexed=0.0),\n",
       " Row(label=0.0, pcafeatures=DenseVector([-365.0314, 48.7697, 0.0294]), indexed=0.0),\n",
       " Row(label=0.0, pcafeatures=DenseVector([-204.0263, 40.8754, 0.0017]), indexed=0.0),\n",
       " Row(label=0.0, pcafeatures=DenseVector([-1691.0343, 52.9168, 0.0276]), indexed=0.0),\n",
       " Row(label=1.0, pcafeatures=DenseVector([-406.0205, 31.7075, -0.4393]), indexed=1.0),\n",
       " Row(label=0.0, pcafeatures=DenseVector([203.9788, 33.1282, -0.8242]), indexed=0.0),\n",
       " Row(label=1.0, pcafeatures=DenseVector([-359.0211, 32.7667, -0.833]), indexed=1.0),\n",
       " Row(label=0.0, pcafeatures=DenseVector([-123.0231, 35.9288, -0.0159]), indexed=0.0),\n",
       " Row(label=1.0, pcafeatures=DenseVector([-0.0225, 34.9976, 0.4372]), indexed=1.0),\n",
       " Row(label=0.0, pcafeatures=DenseVector([-142.0334, 51.9006, -0.7578]), indexed=0.0),\n",
       " Row(label=0.0, pcafeatures=DenseVector([-3571.025, 37.7029, 0.4812]), indexed=0.0),\n",
       " Row(label=1.0, pcafeatures=DenseVector([-33.0282, 43.9435, -0.3881]), indexed=1.0),\n",
       " Row(label=1.0, pcafeatures=DenseVector([-0.0289, 44.9644, -0.3838]), indexed=1.0),\n",
       " Row(label=0.0, pcafeatures=DenseVector([-3096.0186, 27.9808, -0.4889]), indexed=0.0),\n",
       " Row(label=0.0, pcafeatures=DenseVector([-20.0308, 47.9754, -0.4526]), indexed=0.0),\n",
       " Row(label=1.0, pcafeatures=DenseVector([-3576.0204, 30.7011, -0.8832]), indexed=1.0),\n",
       " Row(label=0.0, pcafeatures=DenseVector([-206.0366, 56.8629, -0.0213]), indexed=0.0),\n",
       " Row(label=0.0, pcafeatures=DenseVector([-7082.0351, 52.4544, -0.0453]), indexed=0.0),\n",
       " Row(label=0.0, pcafeatures=DenseVector([-1634.0324, 49.9435, 0.553]), indexed=0.0),\n",
       " Row(label=1.0, pcafeatures=DenseVector([-1.0218, 33.9669, -0.4254]), indexed=1.0),\n",
       " Row(label=0.0, pcafeatures=DenseVector([-4012.0313, 47.4169, 0.5121]), indexed=0.0),\n",
       " Row(label=0.0, pcafeatures=DenseVector([-3762.0275, 41.5791, 0.4933]), indexed=0.0),\n",
       " Row(label=0.0, pcafeatures=DenseVector([246.9826, 27.1579, -0.927]), indexed=0.0),\n",
       " Row(label=0.0, pcafeatures=DenseVector([-606.032, 49.6032, -0.7726]), indexed=0.0),\n",
       " Row(label=1.0, pcafeatures=DenseVector([-0.0231, 35.997, 0.5219]), indexed=1.0),\n",
       " Row(label=0.0, pcafeatures=DenseVector([188.973, 42.116, -0.7904]), indexed=0.0),\n",
       " Row(label=1.0, pcafeatures=DenseVector([-0.0205, 31.9682, -0.433]), indexed=1.0),\n",
       " Row(label=0.0, pcafeatures=DenseVector([-484.0269, 41.6845, 0.537]), indexed=0.0),\n",
       " Row(label=1.0, pcafeatures=DenseVector([-0.0276, 42.9947, -0.8704]), indexed=1.0),\n",
       " Row(label=0.0, pcafeatures=DenseVector([-395.0198, 30.7448, 0.4968]), indexed=0.0),\n",
       " Row(label=0.0, pcafeatures=DenseVector([-2349.0201, 30.4898, 0.47]), indexed=0.0),\n",
       " Row(label=0.0, pcafeatures=DenseVector([-410.0352, 54.7342, 0.2728]), indexed=0.0),\n",
       " Row(label=1.0, pcafeatures=DenseVector([-3401.0365, 55.8177, 0.016]), indexed=1.0),\n",
       " Row(label=0.0, pcafeatures=DenseVector([-222.0295, 45.8624, 0.0203]), indexed=0.0),\n",
       " Row(label=0.0, pcafeatures=DenseVector([-989.0351, 54.3562, -0.8405]), indexed=0.0),\n",
       " Row(label=0.0, pcafeatures=DenseVector([-415.0217, 33.7314, 0.427]), indexed=0.0),\n",
       " Row(label=1.0, pcafeatures=DenseVector([-16.018, 27.959, -0.4483]), indexed=1.0),\n",
       " Row(label=0.0, pcafeatures=DenseVector([-7190.0255, 37.3733, 0.7344]), indexed=0.0),\n",
       " Row(label=1.0, pcafeatures=DenseVector([-482.0185, 28.6599, -0.5327]), indexed=1.0),\n",
       " Row(label=0.0, pcafeatures=DenseVector([-209.0346, 53.8573, -0.8321]), indexed=0.0),\n",
       " Row(label=1.0, pcafeatures=DenseVector([-0.0205, 31.9682, -0.433]), indexed=1.0),\n",
       " Row(label=1.0, pcafeatures=DenseVector([-5803.0239, 35.2407, 0.8407]), indexed=1.0),\n",
       " Row(label=0.0, pcafeatures=DenseVector([-624.0339, 52.5918, 0.4955]), indexed=0.0),\n",
       " Row(label=1.0, pcafeatures=DenseVector([-883.0371, 57.4237, 0.5912]), indexed=1.0),\n",
       " Row(label=0.0, pcafeatures=DenseVector([-1516.0253, 39.0221, -0.9054]), indexed=0.0),\n",
       " Row(label=1.0, pcafeatures=DenseVector([-872.0184, 28.4091, -0.4579]), indexed=1.0),\n",
       " Row(label=0.0, pcafeatures=DenseVector([987.9786, 33.6326, 0.4451]), indexed=0.0),\n",
       " Row(label=1.0, pcafeatures=DenseVector([-902.0242, 37.3873, -0.4244]), indexed=1.0),\n",
       " Row(label=0.0, pcafeatures=DenseVector([-1007.0358, 55.3387, -0.4539]), indexed=0.0),\n",
       " Row(label=1.0, pcafeatures=DenseVector([-0.0257, 39.9952, -0.8009]), indexed=1.0),\n",
       " Row(label=1.0, pcafeatures=DenseVector([-174.0154, 23.8591, -0.5468]), indexed=1.0),\n",
       " Row(label=0.0, pcafeatures=DenseVector([-12186.027, 38.1689, -0.9686]), indexed=0.0),\n",
       " Row(label=0.0, pcafeatures=DenseVector([-524.0224, 34.6602, -0.828]), indexed=0.0),\n",
       " Row(label=1.0, pcafeatures=DenseVector([-0.0225, 34.9679, 0.9162]), indexed=1.0),\n",
       " Row(label=0.0, pcafeatures=DenseVector([-4.0218, 33.9943, -0.8236]), indexed=0.0),\n",
       " Row(label=1.0, pcafeatures=DenseVector([-11219.0202, 27.7936, 0.3428]), indexed=1.0),\n",
       " Row(label=1.0, pcafeatures=DenseVector([-0.0244, 37.9671, 0.9276]), indexed=1.0),\n",
       " Row(label=0.0, pcafeatures=DenseVector([-5776.0309, 46.295, -0.0513]), indexed=0.0),\n",
       " Row(label=0.0, pcafeatures=DenseVector([-37.0328, 50.9745, 0.3444]), indexed=0.0),\n",
       " Row(label=0.0, pcafeatures=DenseVector([-593.0378, 58.6096, 0.5995]), indexed=0.0),\n",
       " Row(label=0.0, pcafeatures=DenseVector([-1148.0203, 31.2604, -0.8491]), indexed=0.0),\n",
       " Row(label=1.0, pcafeatures=DenseVector([-3561.023, 34.6802, -0.4697]), indexed=1.0),\n",
       " Row(label=0.0, pcafeatures=DenseVector([-63.027, 41.9489, -0.4921]), indexed=0.0),\n",
       " Row(label=0.0, pcafeatures=DenseVector([-260.0256, 39.8282, -0.8049]), indexed=0.0),\n",
       " Row(label=1.0, pcafeatures=DenseVector([-2269.0175, 26.513, 0.8543]), indexed=1.0),\n",
       " Row(label=0.0, pcafeatures=DenseVector([-1060.03, 46.3125, -0.791]), indexed=0.0),\n",
       " Row(label=0.0, pcafeatures=DenseVector([219.9826, 27.1402, -0.8466]), indexed=0.0),\n",
       " Row(label=0.0, pcafeatures=DenseVector([-49.0263, 40.9641, 0.54]), indexed=0.0),\n",
       " Row(label=1.0, pcafeatures=DenseVector([-69.0218, 33.9536, 0.4324]), indexed=1.0),\n",
       " Row(label=1.0, pcafeatures=DenseVector([-4108.0313, 47.366, -0.0253]), indexed=1.0),\n",
       " Row(label=0.0, pcafeatures=DenseVector([-480.0301, 46.685, -0.7819]), indexed=0.0),\n",
       " Row(label=0.0, pcafeatures=DenseVector([-4994.033, 49.7848, -0.8298]), indexed=0.0),\n",
       " Row(label=0.0, pcafeatures=DenseVector([-0.034, 52.9865, -0.5304]), indexed=0.0),\n",
       " Row(label=0.0, pcafeatures=DenseVector([-3681.0294, 44.6303, 0.5059]), indexed=0.0),\n",
       " Row(label=1.0, pcafeatures=DenseVector([700.9684, 49.4429, 0.281]), indexed=1.0),\n",
       " Row(label=0.0, pcafeatures=DenseVector([-451.0185, 28.7094, 0.4884]), indexed=0.0),\n",
       " Row(label=1.0, pcafeatures=DenseVector([310.971, 45.1996, 0.3271]), indexed=1.0),\n",
       " Row(label=1.0, pcafeatures=DenseVector([-593.0243, 37.6154, -0.8986]), indexed=1.0),\n",
       " Row(label=1.0, pcafeatures=DenseVector([-759.0204, 31.5101, -0.843]), indexed=1.0),\n",
       " Row(label=0.0, pcafeatures=DenseVector([-4531.044, 67.0834, 0.3459]), indexed=0.0),\n",
       " Row(label=1.0, pcafeatures=DenseVector([-1840.0414, 63.8127, 0.3691]), indexed=1.0),\n",
       " Row(label=0.0, pcafeatures=DenseVector([-345.0359, 55.7691, -0.7458]), indexed=0.0),\n",
       " Row(label=0.0, pcafeatures=DenseVector([-1287.0222, 34.1702, -0.8399]), indexed=0.0),\n",
       " Row(label=0.0, pcafeatures=DenseVector([-353.0359, 55.7691, -0.1082]), indexed=0.0),\n",
       " Row(label=0.0, pcafeatures=DenseVector([-205.0359, 55.8593, -0.8245]), indexed=0.0),\n",
       " Row(label=1.0, pcafeatures=DenseVector([-687.0313, 48.5515, -0.7776]), indexed=1.0),\n",
       " Row(label=0.0, pcafeatures=DenseVector([-1147.0241, 37.2711, -0.1052]), indexed=0.0),\n",
       " Row(label=0.0, pcafeatures=DenseVector([-4286.0216, 32.2452, 0.4511]), indexed=0.0),\n",
       " Row(label=0.0, pcafeatures=DenseVector([-605.0243, 37.6079, 0.52]), indexed=0.0),\n",
       " Row(label=1.0, pcafeatures=DenseVector([-8545.0297, 43.5063, -0.9812]), indexed=1.0),\n",
       " Row(label=0.0, pcafeatures=DenseVector([-559.0352, 54.6368, -0.0343]), indexed=0.0),\n",
       " Row(label=1.0, pcafeatures=DenseVector([-2.0276, 42.9752, 0.4106]), indexed=1.0),\n",
       " Row(label=0.0, pcafeatures=DenseVector([-2.0276, 42.994, 0.4674]), indexed=0.0),\n",
       " Row(label=1.0, pcafeatures=DenseVector([-760.0159, 24.4828, 0.8666]), indexed=1.0),\n",
       " Row(label=0.0, pcafeatures=DenseVector([-1317.019, 29.1639, -0.0573]), indexed=0.0),\n",
       " Row(label=0.0, pcafeatures=DenseVector([-182.0295, 45.8766, -0.7811]), indexed=0.0),\n",
       " Row(label=0.0, pcafeatures=DenseVector([-276.032, 49.8269, -0.0462]), indexed=0.0),\n",
       " Row(label=1.0, pcafeatures=DenseVector([-2971.0219, 33.0889, -0.8662]), indexed=1.0),\n",
       " Row(label=1.0, pcafeatures=DenseVector([-1064.0165, 25.2867, -0.4723]), indexed=1.0),\n",
       " Row(label=0.0, pcafeatures=DenseVector([-1783.0285, 43.8537, -0.0913]), indexed=0.0),\n",
       " Row(label=0.0, pcafeatures=DenseVector([66.9762, 37.0391, -0.8112]), indexed=0.0),\n",
       " Row(label=1.0, pcafeatures=DenseVector([-179.0385, 59.8462, 0.9271]), indexed=1.0),\n",
       " Row(label=1.0, pcafeatures=DenseVector([-1199.0242, 37.2265, 0.5107]), indexed=1.0),\n",
       " Row(label=0.0, pcafeatures=DenseVector([-214.0301, 46.8676, -0.0566]), indexed=0.0),\n",
       " Row(label=1.0, pcafeatures=DenseVector([-6699.0198, 28.6958, -0.932]), indexed=1.0),\n",
       " Row(label=0.0, pcafeatures=DenseVector([-1760.0324, 49.8623, -0.8677]), indexed=0.0),\n",
       " Row(label=1.0, pcafeatures=DenseVector([-145.0225, 34.8748, 0.914]), indexed=1.0),\n",
       " Row(label=1.0, pcafeatures=DenseVector([-978.0223, 34.3686, -0.8351]), indexed=1.0),\n",
       " Row(label=1.0, pcafeatures=DenseVector([-1150.0306, 47.2251, -0.3905]), indexed=1.0),\n",
       " Row(label=0.0, pcafeatures=DenseVector([-121.0237, 36.9183, -0.8141]), indexed=0.0),\n",
       " Row(label=1.0, pcafeatures=DenseVector([-828.0185, 28.438, 0.8806]), indexed=1.0),\n",
       " Row(label=0.0, pcafeatures=DenseVector([-244.0218, 33.8402, -0.8274]), indexed=0.0),\n",
       " Row(label=1.0, pcafeatures=DenseVector([-228.0205, 31.8625, -0.0327]), indexed=1.0),\n",
       " Row(label=1.0, pcafeatures=DenseVector([-424.0192, 29.6971, 0.8907]), indexed=1.0),\n",
       " Row(label=0.0, pcafeatures=DenseVector([-447.0301, 46.7019, 0.7778]), indexed=0.0),\n",
       " Row(label=0.0, pcafeatures=DenseVector([194.9788, 33.1339, -0.0223]), indexed=0.0),\n",
       " Row(label=1.0, pcafeatures=DenseVector([-1410.0209, 32.0632, 0.8866]), indexed=1.0),\n",
       " Row(label=0.0, pcafeatures=DenseVector([-1084.0402, 62.304, 0.0711]), indexed=0.0),\n",
       " Row(label=0.0, pcafeatures=DenseVector([-10924.0305, 43.984, 0.1742]), indexed=0.0),\n",
       " Row(label=1.0, pcafeatures=DenseVector([-832.0262, 40.4617, 0.4469]), indexed=1.0),\n",
       " Row(label=0.0, pcafeatures=DenseVector([-478.0359, 55.6843, 0.59]), indexed=0.0),\n",
       " Row(label=1.0, pcafeatures=DenseVector([-0.0385, 59.9611, 0.9299]), indexed=1.0),\n",
       " Row(label=1.0, pcafeatures=DenseVector([-3950.0255, 38.4299, 0.8772]), indexed=1.0),\n",
       " Row(label=1.0, pcafeatures=DenseVector([-504.0237, 36.648, 0.2967]), indexed=1.0),\n",
       " Row(label=1.0, pcafeatures=DenseVector([-219.0231, 35.8268, -0.5021]), indexed=1.0),\n",
       " Row(label=0.0, pcafeatures=DenseVector([-1602.0363, 55.9623, 0.5762]), indexed=0.0),\n",
       " Row(label=1.0, pcafeatures=DenseVector([-2587.0348, 53.3412, 0.0174]), indexed=1.0),\n",
       " Row(label=0.0, pcafeatures=DenseVector([-0.0282, 43.9944, -0.8666]), indexed=0.0),\n",
       " Row(label=1.0, pcafeatures=DenseVector([-2303.0297, 45.5151, 0.5274]), indexed=1.0),\n",
       " Row(label=0.0, pcafeatures=DenseVector([-1660.0196, 29.9319, -0.8608]), indexed=0.0),\n",
       " Row(label=0.0, pcafeatures=DenseVector([-32.0225, 34.9773, 0.5337]), indexed=0.0),\n",
       " Row(label=0.0, pcafeatures=DenseVector([-278.025, 38.818, 0.448]), indexed=0.0),\n",
       " Row(label=1.0, pcafeatures=DenseVector([-4.0321, 49.9904, 0.5747]), indexed=1.0),\n",
       " Row(label=1.0, pcafeatures=DenseVector([-318.0186, 28.7948, 0.4904]), indexed=1.0),\n",
       " Row(label=1.0, pcafeatures=DenseVector([-209.0192, 29.8345, -0.4438]), indexed=1.0),\n",
       " Row(label=0.0, pcafeatures=DenseVector([-271.0295, 45.8194, -0.7824]), indexed=0.0),\n",
       " Row(label=0.0, pcafeatures=DenseVector([-3196.0167, 24.9223, 0.2168]), indexed=0.0),\n",
       " Row(label=1.0, pcafeatures=DenseVector([-4099.03, 45.3557, -0.5325]), indexed=1.0),\n",
       " Row(label=1.0, pcafeatures=DenseVector([-2572.0162, 24.3184, -0.4958]), indexed=1.0),\n",
       " Row(label=0.0, pcafeatures=DenseVector([-339.0231, 35.75, 0.9147]), indexed=0.0),\n",
       " Row(label=0.0, pcafeatures=DenseVector([-0.027, 42.0064, -0.0722]), indexed=0.0),\n",
       " Row(label=0.0, pcafeatures=DenseVector([-395.032, 49.7501, 0.0327]), indexed=0.0),\n",
       " Row(label=0.0, pcafeatures=DenseVector([-2039.031, 47.6834, -0.7987]), indexed=0.0),\n",
       " Row(label=0.0, pcafeatures=DenseVector([-5450.0278, 41.495, 0.4707]), indexed=0.0),\n",
       " Row(label=1.0, pcafeatures=DenseVector([-780.0146, 22.4699, -0.4792]), indexed=1.0),\n",
       " Row(label=1.0, pcafeatures=DenseVector([-0.0244, 37.9664, -0.4103]), indexed=1.0),\n",
       " Row(label=1.0, pcafeatures=DenseVector([-8436.0188, 26.5521, 0.7731]), indexed=1.0),\n",
       " Row(label=1.0, pcafeatures=DenseVector([-11262.0362, 52.7403, 0.2989]), indexed=1.0),\n",
       " Row(label=1.0, pcafeatures=DenseVector([-946.0191, 29.3906, -0.8535]), indexed=1.0),\n",
       " Row(label=0.0, pcafeatures=DenseVector([-497.0372, 57.6715, 0.5972]), indexed=0.0),\n",
       " Row(label=0.0, pcafeatures=DenseVector([-55.0385, 59.9656, 0.0758]), indexed=0.0),\n",
       " Row(label=0.0, pcafeatures=DenseVector([139.9756, 38.0856, -0.8063]), indexed=0.0),\n",
       " Row(label=0.0, pcafeatures=DenseVector([378.9672, 51.2354, -0.7534]), indexed=0.0),\n",
       " Row(label=1.0, pcafeatures=DenseVector([395.9729, 42.2489, -0.7871]), indexed=1.0),\n",
       " Row(label=1.0, pcafeatures=DenseVector([-0.0193, 29.9687, -0.4405]), indexed=1.0),\n",
       " Row(label=0.0, pcafeatures=DenseVector([-733.0255, 39.536, -0.0103]), indexed=0.0),\n",
       " Row(label=1.0, pcafeatures=DenseVector([-393.0237, 36.7443, 0.5195]), indexed=1.0),\n",
       " Row(label=0.0, pcafeatures=DenseVector([-7290.0325, 48.3168, 0.2386]), indexed=0.0),\n",
       " Row(label=0.0, pcafeatures=DenseVector([-468.0172, 26.6691, -0.4592]), indexed=0.0),\n",
       " Row(label=1.0, pcafeatures=DenseVector([-0.025, 38.9955, -0.8047]), indexed=1.0),\n",
       " Row(label=0.0, pcafeatures=DenseVector([-3705.0243, 36.628, -0.0606]), indexed=0.0),\n",
       " Row(label=1.0, pcafeatures=DenseVector([-9676.0359, 52.7774, 0.4576]), indexed=1.0),\n",
       " Row(label=1.0, pcafeatures=DenseVector([-1328.0235, 36.1433, -0.833]), indexed=1.0),\n",
       " Row(label=0.0, pcafeatures=DenseVector([-8.0263, 41.0012, 0.0048]), indexed=0.0),\n",
       " Row(label=0.0, pcafeatures=DenseVector([-61.0289, 44.966, 0.0191]), indexed=0.0),\n",
       " Row(label=0.0, pcafeatures=DenseVector([-6613.0295, 43.7473, 0.4639]), indexed=0.0),\n",
       " Row(label=0.0, pcafeatures=DenseVector([-302.0308, 47.799, -0.7754]), indexed=0.0),\n",
       " Row(label=0.0, pcafeatures=DenseVector([-1005.0203, 31.3522, -0.8468]), indexed=0.0),\n",
       " Row(label=0.0, pcafeatures=DenseVector([-109.0225, 34.9266, -0.8215]), indexed=0.0),\n",
       " Row(label=1.0, pcafeatures=DenseVector([-1240.021, 32.1723, 0.8893]), indexed=1.0),\n",
       " Row(label=0.0, pcafeatures=DenseVector([-0.018, 27.9811, 0.2731]), indexed=0.0),\n",
       " Row(label=0.0, pcafeatures=DenseVector([-2923.0405, 62.1163, -0.0373]), indexed=0.0),\n",
       " Row(label=0.0, pcafeatures=DenseVector([-0.0225, 34.9966, -0.8198]), indexed=0.0),\n",
       " Row(label=1.0, pcafeatures=DenseVector([-43.0212, 32.9696, -0.828]), indexed=1.0),\n",
       " Row(label=0.0, pcafeatures=DenseVector([-288.0263, 40.81, -0.8016]), indexed=0.0),\n",
       " Row(label=0.0, pcafeatures=DenseVector([-613.0217, 33.6033, -0.8331]), indexed=0.0),\n",
       " Row(label=0.0, pcafeatures=DenseVector([-6101.0225, 33.0499, 0.8285]), indexed=0.0),\n",
       " Row(label=0.0, pcafeatures=DenseVector([-168.0243, 37.8997, -0.0899]), indexed=0.0),\n",
       " Row(label=0.0, pcafeatures=DenseVector([-7685.0235, 34.0724, -0.1228]), indexed=0.0),\n",
       " Row(label=0.0, pcafeatures=DenseVector([-4515.0216, 32.0929, 0.7498]), indexed=0.0),\n",
       " Row(label=1.0, pcafeatures=DenseVector([-517.0179, 27.6377, -0.537]), indexed=1.0),\n",
       " Row(label=0.0, pcafeatures=DenseVector([-148.0173, 26.8746, -0.4542]), indexed=0.0),\n",
       " Row(label=0.0, pcafeatures=DenseVector([284.9691, 48.1883, -0.0289]), indexed=0.0),\n",
       " Row(label=0.0, pcafeatures=DenseVector([-887.0319, 49.4228, -0.777]), indexed=0.0),\n",
       " Row(label=0.0, pcafeatures=DenseVector([-3098.0283, 43.0045, -0.8304]), indexed=0.0),\n",
       " Row(label=0.0, pcafeatures=DenseVector([-744.0262, 40.5178, 0.5291]), indexed=0.0),\n",
       " Row(label=0.0, pcafeatures=DenseVector([-130.025, 38.912, -0.8067]), indexed=0.0),\n",
       " Row(label=1.0, pcafeatures=DenseVector([-438.0282, 43.7128, -0.7926]), indexed=1.0),\n",
       " Row(label=1.0, pcafeatures=DenseVector([-0.0347, 53.9912, -0.748]), indexed=1.0),\n",
       " Row(label=0.0, pcafeatures=DenseVector([-322.0314, 48.7865, 0.566]), indexed=0.0),\n",
       " Row(label=0.0, pcafeatures=DenseVector([-186.0218, 33.8482, -0.4283]), indexed=0.0),\n",
       " Row(label=1.0, pcafeatures=DenseVector([-3810.0474, 72.5341, 0.912]), indexed=1.0),\n",
       " Row(label=0.0, pcafeatures=DenseVector([-0.027, 41.9952, 0.5445]), indexed=0.0),\n",
       " Row(label=0.0, pcafeatures=DenseVector([-4380.0331, 50.1791, -0.8202]), indexed=0.0),\n",
       " Row(label=1.0, pcafeatures=DenseVector([-755.0313, 48.5032, 0.8614]), indexed=1.0),\n",
       " Row(label=0.0, pcafeatures=DenseVector([-2070.0195, 29.6393, -0.4691]), indexed=0.0),\n",
       " Row(label=0.0, pcafeatures=DenseVector([-999.0287, 44.3344, 0.4026]), indexed=0.0),\n",
       " Row(label=0.0, pcafeatures=DenseVector([-167.025, 38.8886, -0.8881]), indexed=0.0),\n",
       " Row(label=0.0, pcafeatures=DenseVector([-1322.0292, 45.145, -0.8797]), indexed=0.0),\n",
       " Row(label=0.0, pcafeatures=DenseVector([-1076.0267, 41.2984, -0.5079]), indexed=0.0),\n",
       " Row(label=1.0, pcafeatures=DenseVector([-502.0237, 36.6744, 0.5178]), indexed=1.0),\n",
       " Row(label=0.0, pcafeatures=DenseVector([-1216.0165, 25.1897, 0.8632]), indexed=0.0),\n",
       " Row(label=1.0, pcafeatures=DenseVector([-876.0236, 36.4049, 0.9101]), indexed=1.0),\n",
       " Row(label=0.0, pcafeatures=DenseVector([-342.023, 35.7474, -0.4232]), indexed=0.0),\n",
       " Row(label=0.0, pcafeatures=DenseVector([-950.0184, 28.3705, 0.3429]), indexed=0.0),\n",
       " Row(label=0.0, pcafeatures=DenseVector([-973.0229, 35.3834, -0.1101]), indexed=0.0),\n",
       " Row(label=0.0, pcafeatures=DenseVector([-3825.0159, 23.5438, 0.4243]), indexed=0.0),\n",
       " Row(label=0.0, pcafeatures=DenseVector([-2366.0201, 30.4783, -0.8681]), indexed=0.0),\n",
       " Row(label=0.0, pcafeatures=DenseVector([-542.0256, 39.6478, 0.5285]), indexed=0.0),\n",
       " Row(label=0.0, pcafeatures=DenseVector([-995.0338, 52.364, 0.0347]), indexed=0.0),\n",
       " Row(label=0.0, pcafeatures=DenseVector([-20.0186, 28.9861, 0.4951]), indexed=0.0),\n",
       " Row(label=0.0, pcafeatures=DenseVector([-228.0218, 33.8218, 0.9089]), indexed=0.0),\n",
       " Row(label=1.0, pcafeatures=DenseVector([-130.0276, 42.9108, -0.7916]), indexed=1.0),\n",
       " Row(label=0.0, pcafeatures=DenseVector([-217.0359, 55.8523, 0.5132]), indexed=0.0),\n",
       " Row(label=0.0, pcafeatures=DenseVector([-0.0353, 54.9862, 0.8959]), indexed=0.0),\n",
       " Row(label=0.0, pcafeatures=DenseVector([-259.0199, 30.8321, 0.4989]), indexed=0.0),\n",
       " Row(label=1.0, pcafeatures=DenseVector([-619.0172, 26.5721, -0.4615]), indexed=1.0),\n",
       " Row(label=0.0, pcafeatures=DenseVector([-644.023, 35.5828, -0.8261]), indexed=0.0),\n",
       " Row(label=0.0, pcafeatures=DenseVector([-22.0283, 43.9805, 0.5518]), indexed=0.0),\n",
       " Row(label=0.0, pcafeatures=DenseVector([-4303.0229, 34.2285, 0.7606]), indexed=0.0),\n",
       " Row(label=0.0, pcafeatures=DenseVector([-239.0192, 29.8153, -0.4443]), indexed=0.0),\n",
       " Row(label=0.0, pcafeatures=DenseVector([-275.0269, 41.7887, -0.3995]), indexed=0.0),\n",
       " Row(label=1.0, pcafeatures=DenseVector([-1221.019, 29.2147, 0.4801]), indexed=1.0),\n",
       " Row(label=0.0, pcafeatures=DenseVector([-816.0396, 61.4649, -0.7305]), indexed=0.0),\n",
       " Row(label=0.0, pcafeatures=DenseVector([-1222.0152, 23.2151, -0.8805]), indexed=0.0),\n",
       " Row(label=0.0, pcafeatures=DenseVector([-2363.0194, 29.4805, -0.8718]), indexed=0.0),\n",
       " Row(label=0.0, pcafeatures=DenseVector([-2262.0419, 64.5359, 0.5999]), indexed=0.0),\n",
       " Row(label=0.0, pcafeatures=DenseVector([-2.0302, 46.9919, -0.7745]), indexed=0.0),\n",
       " Row(label=0.0, pcafeatures=DenseVector([-2.0251, 38.9948, 0.5332]), indexed=0.0),\n",
       " Row(label=1.0, pcafeatures=DenseVector([-4508.0215, 32.102, -0.8902]), indexed=1.0),\n",
       " Row(label=0.0, pcafeatures=DenseVector([401.9774, 35.2495, -0.5113]), indexed=0.0),\n",
       " Row(label=0.0, pcafeatures=DenseVector([-1577.017, 25.9867, -0.9555]), indexed=0.0),\n",
       " Row(label=0.0, pcafeatures=DenseVector([-34.0205, 31.9756, -0.8317]), indexed=0.0),\n",
       " Row(label=0.0, pcafeatures=DenseVector([-795.0281, 43.4842, 0.5397]), indexed=0.0),\n",
       " Row(label=0.0, pcafeatures=DenseVector([-117.0269, 41.9195, -0.7952]), indexed=0.0),\n",
       " Row(label=1.0, pcafeatures=DenseVector([-5462.0207, 30.4611, 0.8271]), indexed=1.0),\n",
       " Row(label=0.0, pcafeatures=DenseVector([-402.0159, 24.7124, -0.5465]), indexed=0.0),\n",
       " Row(label=0.0, pcafeatures=DenseVector([-641.0256, 39.5543, -0.4127]), indexed=0.0),\n",
       " Row(label=1.0, pcafeatures=DenseVector([-36.0276, 42.9666, 0.85]), indexed=1.0),\n",
       " Row(label=0.0, pcafeatures=DenseVector([-383.0353, 54.7456, 0.5877]), indexed=0.0),\n",
       " Row(label=0.0, pcafeatures=DenseVector([-283.032, 49.8106, -0.7675]), indexed=0.0),\n",
       " Row(label=0.0, pcafeatures=DenseVector([-0.0289, 44.9891, 0.8581]), indexed=0.0),\n",
       " Row(label=0.0, pcafeatures=DenseVector([-3102.0218, 32.9996, -0.566]), indexed=0.0),\n",
       " Row(label=1.0, pcafeatures=DenseVector([-889.0204, 31.4267, -0.845]), indexed=1.0),\n",
       " Row(label=1.0, pcafeatures=DenseVector([-0.0379, 58.9897, -0.7291]), indexed=1.0),\n",
       " Row(label=0.0, pcafeatures=DenseVector([369.9781, 34.2345, -0.8178]), indexed=0.0),\n",
       " Row(label=0.0, pcafeatures=DenseVector([605.9748, 39.3852, 0.5427]), indexed=0.0),\n",
       " Row(label=0.0, pcafeatures=DenseVector([-10378.0235, 33.3022, -0.5649]), indexed=0.0),\n",
       " Row(label=0.0, pcafeatures=DenseVector([-1313.0229, 35.1354, 0.3636]), indexed=0.0),\n",
       " Row(label=0.0, pcafeatures=DenseVector([-8969.0238, 34.2369, 0.3968]), indexed=0.0),\n",
       " Row(label=0.0, pcafeatures=DenseVector([195.9646, 55.1167, -0.7411]), indexed=0.0),\n",
       " Row(label=0.0, pcafeatures=DenseVector([-15.0244, 37.9867, -0.7926]), indexed=0.0),\n",
       " Row(label=1.0, pcafeatures=DenseVector([-4608.0382, 58.0304, -0.7935]), indexed=1.0),\n",
       " Row(label=0.0, pcafeatures=DenseVector([-666.0262, 40.5679, 0.5303]), indexed=0.0),\n",
       " Row(label=0.0, pcafeatures=DenseVector([-452.0365, 56.7115, 0.0583]), indexed=0.0),\n",
       " Row(label=0.0, pcafeatures=DenseVector([-149.0308, 47.8972, -0.773]), indexed=0.0),\n",
       " Row(label=1.0, pcafeatures=DenseVector([-7802.0479, 71.9756, 0.5549]), indexed=1.0),\n",
       " Row(label=0.0, pcafeatures=DenseVector([-1453.0222, 34.0637, -0.8425]), indexed=0.0),\n",
       " Row(label=0.0, pcafeatures=DenseVector([-1480.0344, 53.0409, -0.7711]), indexed=0.0),\n",
       " Row(label=0.0, pcafeatures=DenseVector([-715.0236, 36.5125, 0.2934]), indexed=0.0),\n",
       " Row(label=0.0, pcafeatures=DenseVector([-237.0359, 55.8091, -0.346]), indexed=0.0),\n",
       " Row(label=1.0, pcafeatures=DenseVector([-694.0255, 39.5496, -0.8117]), indexed=1.0),\n",
       " Row(label=0.0, pcafeatures=DenseVector([-0.0257, 39.9958, 0.537]), indexed=0.0),\n",
       " Row(label=0.0, pcafeatures=DenseVector([-55.0347, 53.9565, 0.589]), indexed=0.0),\n",
       " Row(label=0.0, pcafeatures=DenseVector([-136.0353, 54.915, 0.0557]), indexed=0.0),\n",
       " Row(label=0.0, pcafeatures=DenseVector([403.9646, 55.2456, -0.4195]), indexed=0.0),\n",
       " Row(label=0.0, pcafeatures=DenseVector([-779.0332, 51.503, 0.0343]), indexed=0.0),\n",
       " Row(label=0.0, pcafeatures=DenseVector([-1187.0351, 54.2108, 0.4374]), indexed=0.0),\n",
       " Row(label=0.0, pcafeatures=DenseVector([-641.0211, 32.5863, 0.5005]), indexed=0.0),\n",
       " Row(label=0.0, pcafeatures=DenseVector([-826.0332, 51.4662, -0.0498]), indexed=0.0),\n",
       " Row(label=0.0, pcafeatures=DenseVector([-991.021, 32.3556, -0.5406]), indexed=0.0),\n",
       " Row(label=1.0, pcafeatures=DenseVector([-1796.0337, 51.8382, -0.7798]), indexed=1.0),\n",
       " Row(label=1.0, pcafeatures=DenseVector([-22.0295, 45.9793, -0.7786]), indexed=1.0),\n",
       " Row(label=1.0, pcafeatures=DenseVector([-244.0282, 43.808, -0.3914]), indexed=1.0),\n",
       " Row(label=0.0, pcafeatures=DenseVector([-1328.0306, 47.1356, 0.8487]), indexed=0.0),\n",
       " Row(label=1.0, pcafeatures=DenseVector([-7317.0306, 45.2941, -0.8774]), indexed=1.0),\n",
       " Row(label=0.0, pcafeatures=DenseVector([-4943.0208, 30.7941, -0.5835]), indexed=0.0),\n",
       " Row(label=0.0, pcafeatures=DenseVector([-258.0243, 37.8011, -0.4952]), indexed=0.0),\n",
       " Row(label=0.0, pcafeatures=DenseVector([-515.0269, 41.6352, 0.9346]), indexed=0.0),\n",
       " Row(label=1.0, pcafeatures=DenseVector([-12607.018, 23.8739, 0.7079]), indexed=1.0),\n",
       " Row(label=0.0, pcafeatures=DenseVector([-2.0372, 57.9891, -0.8137]), indexed=0.0),\n",
       " Row(label=0.0, pcafeatures=DenseVector([-13.0199, 30.9901, 0.5028]), indexed=0.0),\n",
       " Row(label=1.0, pcafeatures=DenseVector([-103.0122, 18.9172, 0.3183]), indexed=1.0),\n",
       " Row(label=0.0, pcafeatures=DenseVector([-3872.0255, 38.5093, 0.4803]), indexed=0.0),\n",
       " Row(label=0.0, pcafeatures=DenseVector([-296.0198, 30.8077, -0.8395]), indexed=0.0),\n",
       " Row(label=0.0, pcafeatures=DenseVector([-217.0333, 51.8349, 0.3604]), indexed=0.0),\n",
       " Row(label=0.0, pcafeatures=DenseVector([-360.0269, 41.7588, 0.8411]), indexed=0.0),\n",
       " Row(label=0.0, pcafeatures=DenseVector([-428.0262, 40.6908, -0.4056]), indexed=0.0),\n",
       " Row(label=1.0, pcafeatures=DenseVector([-315.0192, 29.7665, -0.4454]), indexed=1.0),\n",
       " Row(label=1.0, pcafeatures=DenseVector([-121.0244, 37.9184, -0.8912]), indexed=1.0),\n",
       " Row(label=0.0, pcafeatures=DenseVector([-820.0204, 31.4716, 0.4939]), indexed=0.0),\n",
       " Row(label=1.0, pcafeatures=DenseVector([-195.0334, 51.8665, -0.7586]), indexed=1.0),\n",
       " Row(label=0.0, pcafeatures=DenseVector([-108.0308, 47.9189, 0.8678]), indexed=0.0),\n",
       " Row(label=0.0, pcafeatures=DenseVector([380.9768, 36.2416, 0.5278]), indexed=0.0),\n",
       " Row(label=1.0, pcafeatures=DenseVector([-757.0287, 44.5139, 0.3104]), indexed=1.0),\n",
       " Row(label=0.0, pcafeatures=DenseVector([-691.0217, 33.5542, 0.4227]), indexed=0.0),\n",
       " Row(label=1.0, pcafeatures=DenseVector([-1925.0227, 34.7718, -0.0441]), indexed=1.0),\n",
       " Row(label=1.0, pcafeatures=DenseVector([-902.0217, 33.4184, 0.5002]), indexed=1.0),\n",
       " Row(label=1.0, pcafeatures=DenseVector([-5207.0381, 57.6457, -0.8029]), indexed=1.0),\n",
       " Row(label=0.0, pcafeatures=DenseVector([-0.0347, 53.9912, -0.748]), indexed=0.0),\n",
       " Row(label=0.0, pcafeatures=DenseVector([-665.032, 49.5653, -0.7735]), indexed=0.0),\n",
       " Row(label=1.0, pcafeatures=DenseVector([-738.0275, 42.5152, -0.4988]), indexed=1.0),\n",
       " Row(label=0.0, pcafeatures=DenseVector([-233.0301, 46.855, 0.0239]), indexed=0.0),\n",
       " Row(label=0.0, pcafeatures=DenseVector([838.9709, 45.5325, -0.7689]), indexed=0.0),\n",
       " Row(label=0.0, pcafeatures=DenseVector([-5799.0354, 53.2782, -0.0253]), indexed=0.0),\n",
       " Row(label=0.0, pcafeatures=DenseVector([-1033.0171, 26.3356, -0.8662]), indexed=0.0),\n",
       " Row(label=0.0, pcafeatures=DenseVector([-66.0315, 48.945, -0.4657]), indexed=0.0),\n",
       " Row(label=1.0, pcafeatures=DenseVector([-2567.0271, 41.3575, -0.0277]), indexed=1.0),\n",
       " Row(label=0.0, pcafeatures=DenseVector([-1584.0254, 38.9787, 0.5122]), indexed=0.0),\n",
       " Row(label=0.0, pcafeatures=DenseVector([-182.0205, 31.8513, -0.4358]), indexed=0.0),\n",
       " Row(label=0.0, pcafeatures=DenseVector([-76.0372, 57.9527, 0.068]), indexed=0.0),\n",
       " Row(label=0.0, pcafeatures=DenseVector([-663.0217, 33.5419, -0.4358]), indexed=0.0),\n",
       " Row(label=0.0, pcafeatures=DenseVector([-3455.0288, 43.7698, -0.53]), indexed=0.0),\n",
       " Row(label=0.0, pcafeatures=DenseVector([-15.0186, 28.9887, -0.8427]), indexed=0.0),\n",
       " Row(label=0.0, pcafeatures=DenseVector([-1054.0332, 51.3264, 0.03]), indexed=0.0),\n",
       " Row(label=0.0, pcafeatures=DenseVector([-1529.0286, 44.0126, 0.532]), indexed=0.0),\n",
       " Row(label=0.0, pcafeatures=DenseVector([-63.0167, 25.9294, -0.4566]), indexed=0.0),\n",
       " Row(label=0.0, pcafeatures=DenseVector([-0.0257, 39.9958, 0.537]), indexed=0.0),\n",
       " Row(label=0.0, pcafeatures=DenseVector([-920.0261, 40.4045, -0.8923]), indexed=0.0),\n",
       " Row(label=1.0, pcafeatures=DenseVector([-3696.0294, 44.5907, -0.434]), indexed=1.0)]"
      ]
     },
     "execution_count": 36,
     "metadata": {},
     "output_type": "execute_result"
    }
   ],
   "source": [
    "stringIndexer = StringIndexer(inputCol=\"label\",outputCol=\"indexed\")\n",
    "si_model = stringIndexer.fit(pcaResult)\n",
    "td = si_model.transform(pcaResult)\n",
    "td.collect()"
   ]
  },
  {
   "cell_type": "code",
   "execution_count": 37,
   "metadata": {
    "collapsed": true
   },
   "outputs": [],
   "source": [
    "#splitting the data intotraining and test data sets\n",
    "(trainingData, testData)= td.randomSplit([0.7,0.3])"
   ]
  },
  {
   "cell_type": "code",
   "execution_count": 38,
   "metadata": {
    "collapsed": false
   },
   "outputs": [
    {
     "data": {
      "text/plain": [
       "353"
      ]
     },
     "execution_count": 38,
     "metadata": {},
     "output_type": "execute_result"
    }
   ],
   "source": [
    "trainingData.count()"
   ]
  },
  {
   "cell_type": "code",
   "execution_count": 39,
   "metadata": {
    "collapsed": false
   },
   "outputs": [
    {
     "data": {
      "text/plain": [
       "188"
      ]
     },
     "execution_count": 39,
     "metadata": {},
     "output_type": "execute_result"
    }
   ],
   "source": [
    "testData.count()"
   ]
  },
  {
   "cell_type": "code",
   "execution_count": 40,
   "metadata": {
    "collapsed": true
   },
   "outputs": [],
   "source": [
    "from pyspark.ml.classification import RandomForestClassifier\n",
    "from pyspark.ml.evaluation import MulticlassClassificationEvaluator"
   ]
  },
  {
   "cell_type": "code",
   "execution_count": 42,
   "metadata": {
    "collapsed": true
   },
   "outputs": [],
   "source": [
    "#create a model for this data\n",
    "rmClassifier = RandomForestClassifier(labelCol=\"indexed\",featuresCol=\"pcafeatures\")"
   ]
  },
  {
   "cell_type": "code",
   "execution_count": 44,
   "metadata": {
    "collapsed": false
   },
   "outputs": [
    {
     "data": {
      "text/plain": [
       "'gini'"
      ]
     },
     "execution_count": 44,
     "metadata": {},
     "output_type": "execute_result"
    }
   ],
   "source": [
    "rmClassifier.getImpurity()"
   ]
  },
  {
   "cell_type": "code",
   "execution_count": 45,
   "metadata": {
    "collapsed": true
   },
   "outputs": [],
   "source": [
    "rmModel = rmClassifier.fit(trainingData)"
   ]
  },
  {
   "cell_type": "code",
   "execution_count": 46,
   "metadata": {
    "collapsed": true
   },
   "outputs": [],
   "source": [
    "#prediction on the test data set\n",
    "prediction = rmModel.transform(testData)"
   ]
  },
  {
   "cell_type": "code",
   "execution_count": 47,
   "metadata": {
    "collapsed": false
   },
   "outputs": [
    {
     "name": "stdout",
     "output_type": "stream",
     "text": [
      "+----------+-------+-----+--------------------+\n",
      "|prediction|indexed|label|         pcafeatures|\n",
      "+----------+-------+-----+--------------------+\n",
      "|       0.0|    0.0|  0.0|[-11494.034229470...|\n",
      "|       0.0|    0.0|  0.0|[-9374.0231055509...|\n",
      "|       0.0|    0.0|  0.0|[-8104.0336452947...|\n",
      "|       0.0|    0.0|  0.0|[-7082.0351460463...|\n",
      "|       0.0|    0.0|  0.0|[-6313.0372339667...|\n",
      "|       0.0|    0.0|  0.0|[-5883.0251285738...|\n",
      "|       0.0|    0.0|  0.0|[-5426.0252230055...|\n",
      "|       0.0|    0.0|  0.0|[-4012.0312961776...|\n",
      "|       0.0|    0.0|  0.0|[-3762.0274938415...|\n",
      "|       1.0|    0.0|  0.0|[-3096.0186237192...|\n",
      "+----------+-------+-----+--------------------+\n",
      "only showing top 10 rows\n",
      "\n"
     ]
    }
   ],
   "source": [
    "prediction.select(\"prediction\",\"indexed\",\"label\",\"pcafeatures\").show(10)"
   ]
  },
  {
   "cell_type": "code",
   "execution_count": 48,
   "metadata": {
    "collapsed": false
   },
   "outputs": [
    {
     "data": {
      "text/plain": [
       "0.7095500558768324"
      ]
     },
     "execution_count": 48,
     "metadata": {},
     "output_type": "execute_result"
    }
   ],
   "source": [
    "evaluator = MulticlassClassificationEvaluator(predictionCol=\"prediction\",labelCol=\"indexed\",metricName=\"f1\")\n",
    "evaluator.evaluate(prediction)"
   ]
  },
  {
   "cell_type": "code",
   "execution_count": 49,
   "metadata": {
    "collapsed": false
   },
   "outputs": [
    {
     "data": {
      "text/plain": [
       "0.7287234042553191"
      ]
     },
     "execution_count": 49,
     "metadata": {},
     "output_type": "execute_result"
    }
   ],
   "source": [
    "evaluator = MulticlassClassificationEvaluator(predictionCol=\"prediction\",labelCol=\"indexed\",metricName=\"accuracy\")\n",
    "evaluator.evaluate(prediction)"
   ]
  },
  {
   "cell_type": "code",
   "execution_count": 50,
   "metadata": {
    "collapsed": false
   },
   "outputs": [
    {
     "data": {
      "text/plain": [
       "0.7260534204938169"
      ]
     },
     "execution_count": 50,
     "metadata": {},
     "output_type": "execute_result"
    }
   ],
   "source": [
    "evaluator = MulticlassClassificationEvaluator(predictionCol=\"prediction\",labelCol=\"indexed\",metricName=\"weightedPrecision\")\n",
    "evaluator.evaluate(prediction)"
   ]
  },
  {
   "cell_type": "code",
   "execution_count": 51,
   "metadata": {
    "collapsed": false
   },
   "outputs": [
    {
     "data": {
      "text/plain": [
       "0.7287234042553192"
      ]
     },
     "execution_count": 51,
     "metadata": {},
     "output_type": "execute_result"
    }
   ],
   "source": [
    "evaluator = MulticlassClassificationEvaluator(predictionCol=\"prediction\",labelCol=\"indexed\",metricName=\"weightedRecall\")\n",
    "evaluator.evaluate(prediction)"
   ]
  },
  {
   "cell_type": "code",
   "execution_count": 52,
   "metadata": {
    "collapsed": false
   },
   "outputs": [
    {
     "name": "stdout",
     "output_type": "stream",
     "text": [
      "+----------+-------+-----+\n",
      "|prediction|indexed|count|\n",
      "+----------+-------+-----+\n",
      "|       1.0|    1.0|   30|\n",
      "|       0.0|    1.0|   39|\n",
      "|       1.0|    0.0|   12|\n",
      "|       0.0|    0.0|  107|\n",
      "+----------+-------+-----+\n",
      "\n"
     ]
    }
   ],
   "source": [
    "#drawing a confusion matrix\n",
    "prediction.groupby(\"prediction\",\"indexed\").count().show()"
   ]
  },
  {
   "cell_type": "code",
   "execution_count": 53,
   "metadata": {
    "collapsed": true
   },
   "outputs": [],
   "source": [
    "import pandas as pd"
   ]
  },
  {
   "cell_type": "code",
   "execution_count": null,
   "metadata": {
    "collapsed": true
   },
   "outputs": [],
   "source": []
  }
 ],
 "metadata": {
  "anaconda-cloud": {},
  "kernelspec": {
   "display_name": "Python [default]",
   "language": "python",
   "name": "python3"
  },
  "language_info": {
   "codemirror_mode": {
    "name": "ipython",
    "version": 3
   },
   "file_extension": ".py",
   "mimetype": "text/x-python",
   "name": "python",
   "nbconvert_exporter": "python",
   "pygments_lexer": "ipython3",
   "version": "3.5.2"
  }
 },
 "nbformat": 4,
 "nbformat_minor": 1
}
